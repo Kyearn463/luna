{
 "cells": [
  {
   "cell_type": "code",
   "execution_count": 1,
   "metadata": {},
   "outputs": [],
   "source": [
    "import cv2\n",
    "import torch\n",
    "import numpy as np\n",
    "from ultralytics import YOLO\n",
    "from sklearn.metrics import confusion_matrix, ConfusionMatrixDisplay\n",
    "import matplotlib.pyplot as plt\n",
    "import albumentations"
   ]
  },
  {
   "cell_type": "code",
   "execution_count": 2,
   "metadata": {},
   "outputs": [
    {
     "name": "stdout",
     "output_type": "stream",
     "text": [
      "CUDA available: True\n",
      "Number of GPUs: 1\n"
     ]
    }
   ],
   "source": [
    "# 確認 GPU 狀態\n",
    "print(\"CUDA available:\", torch.cuda.is_available())\n",
    "print(\"Number of GPUs:\", torch.cuda.device_count())\n"
   ]
  },
  {
   "cell_type": "code",
   "execution_count": 3,
   "metadata": {},
   "outputs": [
    {
     "name": "stdout",
     "output_type": "stream",
     "text": [
      "YOLO11m summary: 409 layers, 20,114,688 parameters, 0 gradients, 68.5 GFLOPs\n"
     ]
    },
    {
     "data": {
      "text/plain": [
       "(409, 20114688, 0, 68.52838399999999)"
      ]
     },
     "execution_count": 3,
     "metadata": {},
     "output_type": "execute_result"
    }
   ],
   "source": [
    "# Step 3: 建立或載入 YOLO 模型\n",
    "# --------------------------\n",
    "model = YOLO(\"yolov11/yolo11m.pt\")  # 載入預訓練權重\n",
    "model.info()\n"
   ]
  },
  {
   "cell_type": "code",
   "execution_count": 4,
   "metadata": {},
   "outputs": [
    {
     "name": "stdout",
     "output_type": "stream",
     "text": [
      "New https://pypi.org/project/ultralytics/8.3.55 available  Update with 'pip install -U ultralytics'\n",
      "Ultralytics 8.3.25  Python-3.12.4 torch-2.5.1+cu121 CUDA:0 (NVIDIA GeForce GTX 1080 Ti, 11264MiB)\n",
      "\u001b[34m\u001b[1mengine\\trainer: \u001b[0mtask=detect, mode=train, model=yolov11/yolo11m.pt, data=yolov9/dataset.yaml, epochs=300, time=None, patience=100, batch=16, imgsz=640, save=True, save_period=-1, cache=False, device=None, workers=8, project=None, name=train13, exist_ok=False, pretrained=True, optimizer=AdamW, verbose=True, seed=0, deterministic=True, single_cls=False, rect=False, cos_lr=False, close_mosaic=10, resume=False, amp=True, fraction=1.0, profile=False, freeze=None, multi_scale=False, overlap_mask=True, mask_ratio=4, dropout=0.0, val=True, split=val, save_json=False, save_hybrid=False, conf=None, iou=0.7, max_det=300, half=False, dnn=False, plots=True, source=None, vid_stride=1, stream_buffer=False, visualize=False, augment=False, agnostic_nms=False, classes=None, retina_masks=False, embed=None, show=False, save_frames=False, save_txt=False, save_conf=False, save_crop=False, show_labels=True, show_conf=True, show_boxes=True, line_width=None, format=torchscript, keras=False, optimize=False, int8=False, dynamic=False, simplify=True, opset=None, workspace=4, nms=False, lr0=0.003, lrf=0.01, momentum=0.937, weight_decay=0.001, warmup_epochs=3.0, warmup_momentum=0.8, warmup_bias_lr=0.1, box=8.5, cls=1, dfl=1.5, pose=12.0, kobj=1.0, label_smoothing=0.0, nbs=64, hsv_h=0.015, hsv_s=0.7, hsv_v=0.4, degrees=0.0, translate=0.1, scale=0.5, shear=0.0, perspective=0.0, flipud=0.0, fliplr=0.5, bgr=0.0, mosaic=1.0, mixup=0.0, copy_paste=0.0, copy_paste_mode=flip, auto_augment=randaugment, erasing=0.4, crop_fraction=1.0, cfg=None, tracker=botsort.yaml, save_dir=runs\\detect\\train13\n"
     ]
    },
    {
     "name": "stderr",
     "output_type": "stream",
     "text": [
      "c:\\Users\\UM\\anaconda3\\envs\\pytorch2\\Lib\\site-packages\\tqdm\\auto.py:21: TqdmWarning: IProgress not found. Please update jupyter and ipywidgets. See https://ipywidgets.readthedocs.io/en/stable/user_install.html\n",
      "  from .autonotebook import tqdm as notebook_tqdm\n",
      "2024-12-28 22:49:25,068\tINFO util.py:154 -- Missing packages: ['ipywidgets']. Run `pip install -U ipywidgets`, then restart the notebook server for rich notebook output.\n",
      "2024-12-28 22:49:25,737\tINFO util.py:154 -- Missing packages: ['ipywidgets']. Run `pip install -U ipywidgets`, then restart the notebook server for rich notebook output.\n"
     ]
    },
    {
     "name": "stdout",
     "output_type": "stream",
     "text": [
      "Overriding model.yaml nc=80 with nc=1\n",
      "\n",
      "                   from  n    params  module                                       arguments                     \n",
      "  0                  -1  1      1856  ultralytics.nn.modules.conv.Conv             [3, 64, 3, 2]                 \n",
      "  1                  -1  1     73984  ultralytics.nn.modules.conv.Conv             [64, 128, 3, 2]               \n",
      "  2                  -1  1    111872  ultralytics.nn.modules.block.C3k2            [128, 256, 1, True, 0.25]     \n",
      "  3                  -1  1    590336  ultralytics.nn.modules.conv.Conv             [256, 256, 3, 2]              \n",
      "  4                  -1  1    444928  ultralytics.nn.modules.block.C3k2            [256, 512, 1, True, 0.25]     \n",
      "  5                  -1  1   2360320  ultralytics.nn.modules.conv.Conv             [512, 512, 3, 2]              \n",
      "  6                  -1  1   1380352  ultralytics.nn.modules.block.C3k2            [512, 512, 1, True]           \n",
      "  7                  -1  1   2360320  ultralytics.nn.modules.conv.Conv             [512, 512, 3, 2]              \n",
      "  8                  -1  1   1380352  ultralytics.nn.modules.block.C3k2            [512, 512, 1, True]           \n",
      "  9                  -1  1    656896  ultralytics.nn.modules.block.SPPF            [512, 512, 5]                 \n",
      " 10                  -1  1    990976  ultralytics.nn.modules.block.C2PSA           [512, 512, 1]                 \n",
      " 11                  -1  1         0  torch.nn.modules.upsampling.Upsample         [None, 2, 'nearest']          \n",
      " 12             [-1, 6]  1         0  ultralytics.nn.modules.conv.Concat           [1]                           \n",
      " 13                  -1  1   1642496  ultralytics.nn.modules.block.C3k2            [1024, 512, 1, True]          \n",
      " 14                  -1  1         0  torch.nn.modules.upsampling.Upsample         [None, 2, 'nearest']          \n",
      " 15             [-1, 4]  1         0  ultralytics.nn.modules.conv.Concat           [1]                           \n",
      " 16                  -1  1    542720  ultralytics.nn.modules.block.C3k2            [1024, 256, 1, True]          \n",
      " 17                  -1  1    590336  ultralytics.nn.modules.conv.Conv             [256, 256, 3, 2]              \n",
      " 18            [-1, 13]  1         0  ultralytics.nn.modules.conv.Concat           [1]                           \n",
      " 19                  -1  1   1511424  ultralytics.nn.modules.block.C3k2            [768, 512, 1, True]           \n",
      " 20                  -1  1   2360320  ultralytics.nn.modules.conv.Conv             [512, 512, 3, 2]              \n",
      " 21            [-1, 10]  1         0  ultralytics.nn.modules.conv.Concat           [1]                           \n",
      " 22                  -1  1   1642496  ultralytics.nn.modules.block.C3k2            [1024, 512, 1, True]          \n",
      " 23        [16, 19, 22]  1   1411795  ultralytics.nn.modules.head.Detect           [1, [256, 512, 512]]          \n",
      "YOLO11m summary: 409 layers, 20,053,779 parameters, 20,053,763 gradients, 68.2 GFLOPs\n",
      "\n",
      "Transferred 643/649 items from pretrained weights\n",
      "\u001b[34m\u001b[1mTensorBoard: \u001b[0mStart with 'tensorboard --logdir runs\\detect\\train13', view at http://localhost:6006/\n",
      "Freezing layer 'model.23.dfl.conv.weight'\n",
      "\u001b[34m\u001b[1mAMP: \u001b[0mrunning Automatic Mixed Precision (AMP) checks...\n",
      "\u001b[34m\u001b[1mAMP: \u001b[0mchecks passed \n"
     ]
    },
    {
     "name": "stderr",
     "output_type": "stream",
     "text": [
      "\u001b[34m\u001b[1mtrain: \u001b[0mScanning D:\\luna\\luna_dataset\\train.cache... 963 images, 0 backgrounds, 0 corrupt: 100%|██████████| 963/963 [00:00<?, ?it/s]"
     ]
    },
    {
     "name": "stdout",
     "output_type": "stream",
     "text": [
      "\u001b[34m\u001b[1malbumentations: \u001b[0mBlur(p=0.01, blur_limit=(3, 7)), MedianBlur(p=0.01, blur_limit=(3, 7)), ToGray(p=0.01), CLAHE(p=0.01, clip_limit=(1, 4.0), tile_grid_size=(8, 8))\n"
     ]
    },
    {
     "name": "stderr",
     "output_type": "stream",
     "text": [
      "\n",
      "\u001b[34m\u001b[1mval: \u001b[0mScanning D:\\luna\\luna_dataset\\val.cache... 118 images, 0 backgrounds, 0 corrupt: 100%|██████████| 118/118 [00:00<?, ?it/s]\n"
     ]
    },
    {
     "name": "stdout",
     "output_type": "stream",
     "text": [
      "Plotting labels to runs\\detect\\train13\\labels.jpg... \n",
      "\u001b[34m\u001b[1moptimizer:\u001b[0m AdamW(lr=0.003, momentum=0.937) with parameter groups 106 weight(decay=0.0), 113 weight(decay=0.001), 112 bias(decay=0.0)\n",
      "\u001b[34m\u001b[1mTensorBoard: \u001b[0mmodel graph visualization added \n",
      "Image sizes 640 train, 640 val\n",
      "Using 8 dataloader workers\n",
      "Logging results to \u001b[1mruns\\detect\\train13\u001b[0m\n",
      "Starting training for 300 epochs...\n",
      "\n",
      "      Epoch    GPU_mem   box_loss   cls_loss   dfl_loss  Instances       Size\n"
     ]
    },
    {
     "name": "stderr",
     "output_type": "stream",
     "text": [
      "      1/300      8.69G      2.789      10.81      1.169          3        640: 100%|██████████| 61/61 [01:00<00:00,  1.01it/s]\n",
      "                 Class     Images  Instances      Box(P          R      mAP50  mAP50-95): 100%|██████████| 4/4 [00:04<00:00,  1.07s/it]"
     ]
    },
    {
     "name": "stdout",
     "output_type": "stream",
     "text": [
      "                   all        118        118    0.00517    0.00847   6.47e-05   1.94e-05\n"
     ]
    },
    {
     "name": "stderr",
     "output_type": "stream",
     "text": [
      "\n"
     ]
    },
    {
     "name": "stdout",
     "output_type": "stream",
     "text": [
      "\n",
      "      Epoch    GPU_mem   box_loss   cls_loss   dfl_loss  Instances       Size\n"
     ]
    },
    {
     "name": "stderr",
     "output_type": "stream",
     "text": [
      "      2/300      8.58G      2.654      4.672      1.066          5        640: 100%|██████████| 61/61 [00:52<00:00,  1.17it/s]\n",
      "                 Class     Images  Instances      Box(P          R      mAP50  mAP50-95): 100%|██████████| 4/4 [00:02<00:00,  1.52it/s]"
     ]
    },
    {
     "name": "stdout",
     "output_type": "stream",
     "text": [
      "                   all        118        118   0.000424      0.127   0.000239    8.3e-05\n"
     ]
    },
    {
     "name": "stderr",
     "output_type": "stream",
     "text": [
      "\n"
     ]
    },
    {
     "name": "stdout",
     "output_type": "stream",
     "text": [
      "\n",
      "      Epoch    GPU_mem   box_loss   cls_loss   dfl_loss  Instances       Size\n"
     ]
    },
    {
     "name": "stderr",
     "output_type": "stream",
     "text": [
      "      3/300       8.8G      2.592      4.383      1.067          6        640: 100%|██████████| 61/61 [00:51<00:00,  1.18it/s]\n",
      "                 Class     Images  Instances      Box(P          R      mAP50  mAP50-95): 100%|██████████| 4/4 [00:02<00:00,  1.61it/s]"
     ]
    },
    {
     "name": "stdout",
     "output_type": "stream",
     "text": [
      "                   all        118        118      0.168      0.229     0.0916     0.0269\n"
     ]
    },
    {
     "name": "stderr",
     "output_type": "stream",
     "text": [
      "\n"
     ]
    },
    {
     "name": "stdout",
     "output_type": "stream",
     "text": [
      "\n",
      "      Epoch    GPU_mem   box_loss   cls_loss   dfl_loss  Instances       Size\n"
     ]
    },
    {
     "name": "stderr",
     "output_type": "stream",
     "text": [
      "      4/300      8.88G      2.531      4.029      1.036          5        640: 100%|██████████| 61/61 [00:51<00:00,  1.19it/s]\n",
      "                 Class     Images  Instances      Box(P          R      mAP50  mAP50-95): 100%|██████████| 4/4 [00:02<00:00,  1.98it/s]"
     ]
    },
    {
     "name": "stdout",
     "output_type": "stream",
     "text": [
      "                   all        118        118      0.168      0.229     0.0916     0.0269\n"
     ]
    },
    {
     "name": "stderr",
     "output_type": "stream",
     "text": [
      "\n"
     ]
    },
    {
     "name": "stdout",
     "output_type": "stream",
     "text": [
      "\n",
      "      Epoch    GPU_mem   box_loss   cls_loss   dfl_loss  Instances       Size\n"
     ]
    },
    {
     "name": "stderr",
     "output_type": "stream",
     "text": [
      "      5/300      8.96G      2.338      3.562      1.035          4        640: 100%|██████████| 61/61 [00:51<00:00,  1.19it/s]\n",
      "                 Class     Images  Instances      Box(P          R      mAP50  mAP50-95): 100%|██████████| 4/4 [00:02<00:00,  1.62it/s]"
     ]
    },
    {
     "name": "stdout",
     "output_type": "stream",
     "text": [
      "                   all        118        118     0.0153        0.5     0.0116    0.00501\n"
     ]
    },
    {
     "name": "stderr",
     "output_type": "stream",
     "text": [
      "\n"
     ]
    },
    {
     "name": "stdout",
     "output_type": "stream",
     "text": [
      "\n",
      "      Epoch    GPU_mem   box_loss   cls_loss   dfl_loss  Instances       Size\n"
     ]
    },
    {
     "name": "stderr",
     "output_type": "stream",
     "text": [
      "      6/300      8.65G      2.408      3.789      1.034          4        640: 100%|██████████| 61/61 [00:51<00:00,  1.17it/s]\n",
      "                 Class     Images  Instances      Box(P          R      mAP50  mAP50-95): 100%|██████████| 4/4 [00:02<00:00,  1.60it/s]"
     ]
    },
    {
     "name": "stdout",
     "output_type": "stream",
     "text": [
      "                   all        118        118      0.307      0.322      0.277      0.125\n"
     ]
    },
    {
     "name": "stderr",
     "output_type": "stream",
     "text": [
      "\n"
     ]
    },
    {
     "name": "stdout",
     "output_type": "stream",
     "text": [
      "\n",
      "      Epoch    GPU_mem   box_loss   cls_loss   dfl_loss  Instances       Size\n"
     ]
    },
    {
     "name": "stderr",
     "output_type": "stream",
     "text": [
      "      7/300      8.65G      2.337      3.518      1.021          5        640: 100%|██████████| 61/61 [00:51<00:00,  1.19it/s]\n",
      "                 Class     Images  Instances      Box(P          R      mAP50  mAP50-95): 100%|██████████| 4/4 [00:02<00:00,  1.63it/s]"
     ]
    },
    {
     "name": "stdout",
     "output_type": "stream",
     "text": [
      "                   all        118        118      0.178      0.186      0.104     0.0464\n"
     ]
    },
    {
     "name": "stderr",
     "output_type": "stream",
     "text": [
      "\n"
     ]
    },
    {
     "name": "stdout",
     "output_type": "stream",
     "text": [
      "\n",
      "      Epoch    GPU_mem   box_loss   cls_loss   dfl_loss  Instances       Size\n"
     ]
    },
    {
     "name": "stderr",
     "output_type": "stream",
     "text": [
      "      8/300      8.88G      2.194      3.249     0.9888          5        640: 100%|██████████| 61/61 [00:50<00:00,  1.20it/s]\n",
      "                 Class     Images  Instances      Box(P          R      mAP50  mAP50-95): 100%|██████████| 4/4 [00:02<00:00,  1.61it/s]"
     ]
    },
    {
     "name": "stdout",
     "output_type": "stream",
     "text": [
      "                   all        118        118      0.428      0.373      0.362      0.187\n"
     ]
    },
    {
     "name": "stderr",
     "output_type": "stream",
     "text": [
      "\n"
     ]
    },
    {
     "name": "stdout",
     "output_type": "stream",
     "text": [
      "\n",
      "      Epoch    GPU_mem   box_loss   cls_loss   dfl_loss  Instances       Size\n"
     ]
    },
    {
     "name": "stderr",
     "output_type": "stream",
     "text": [
      "      9/300      8.66G       2.28       3.42      1.022          5        640: 100%|██████████| 61/61 [00:51<00:00,  1.19it/s]\n",
      "                 Class     Images  Instances      Box(P          R      mAP50  mAP50-95): 100%|██████████| 4/4 [00:02<00:00,  1.59it/s]"
     ]
    },
    {
     "name": "stdout",
     "output_type": "stream",
     "text": [
      "                   all        118        118      0.549      0.432      0.472      0.236\n"
     ]
    },
    {
     "name": "stderr",
     "output_type": "stream",
     "text": [
      "\n"
     ]
    },
    {
     "name": "stdout",
     "output_type": "stream",
     "text": [
      "\n",
      "      Epoch    GPU_mem   box_loss   cls_loss   dfl_loss  Instances       Size\n"
     ]
    },
    {
     "name": "stderr",
     "output_type": "stream",
     "text": [
      "     10/300      8.79G      2.201      3.312       1.02          7        640: 100%|██████████| 61/61 [00:51<00:00,  1.19it/s]\n",
      "                 Class     Images  Instances      Box(P          R      mAP50  mAP50-95): 100%|██████████| 4/4 [00:02<00:00,  1.62it/s]"
     ]
    },
    {
     "name": "stdout",
     "output_type": "stream",
     "text": [
      "                   all        118        118      0.475      0.517      0.394       0.18\n"
     ]
    },
    {
     "name": "stderr",
     "output_type": "stream",
     "text": [
      "\n"
     ]
    },
    {
     "name": "stdout",
     "output_type": "stream",
     "text": [
      "\n",
      "      Epoch    GPU_mem   box_loss   cls_loss   dfl_loss  Instances       Size\n"
     ]
    },
    {
     "name": "stderr",
     "output_type": "stream",
     "text": [
      "     11/300      8.78G      2.203      3.146      0.974          2        640: 100%|██████████| 61/61 [00:51<00:00,  1.19it/s]\n",
      "                 Class     Images  Instances      Box(P          R      mAP50  mAP50-95): 100%|██████████| 4/4 [00:02<00:00,  1.63it/s]"
     ]
    },
    {
     "name": "stdout",
     "output_type": "stream",
     "text": [
      "                   all        118        118      0.479       0.39      0.418      0.161\n"
     ]
    },
    {
     "name": "stderr",
     "output_type": "stream",
     "text": [
      "\n"
     ]
    },
    {
     "name": "stdout",
     "output_type": "stream",
     "text": [
      "\n",
      "      Epoch    GPU_mem   box_loss   cls_loss   dfl_loss  Instances       Size\n"
     ]
    },
    {
     "name": "stderr",
     "output_type": "stream",
     "text": [
      "     12/300      8.88G      2.085      2.975     0.9818          3        640: 100%|██████████| 61/61 [00:51<00:00,  1.19it/s]\n",
      "                 Class     Images  Instances      Box(P          R      mAP50  mAP50-95): 100%|██████████| 4/4 [00:02<00:00,  1.62it/s]"
     ]
    },
    {
     "name": "stdout",
     "output_type": "stream",
     "text": [
      "                   all        118        118      0.431      0.593      0.464      0.198\n"
     ]
    },
    {
     "name": "stderr",
     "output_type": "stream",
     "text": [
      "\n"
     ]
    },
    {
     "name": "stdout",
     "output_type": "stream",
     "text": [
      "\n",
      "      Epoch    GPU_mem   box_loss   cls_loss   dfl_loss  Instances       Size\n"
     ]
    },
    {
     "name": "stderr",
     "output_type": "stream",
     "text": [
      "     13/300      8.96G      2.204      3.023     0.9821          3        640: 100%|██████████| 61/61 [00:51<00:00,  1.19it/s]\n",
      "                 Class     Images  Instances      Box(P          R      mAP50  mAP50-95): 100%|██████████| 4/4 [00:02<00:00,  1.61it/s]"
     ]
    },
    {
     "name": "stdout",
     "output_type": "stream",
     "text": [
      "                   all        118        118      0.545      0.517        0.5      0.257\n"
     ]
    },
    {
     "name": "stderr",
     "output_type": "stream",
     "text": [
      "\n"
     ]
    },
    {
     "name": "stdout",
     "output_type": "stream",
     "text": [
      "\n",
      "      Epoch    GPU_mem   box_loss   cls_loss   dfl_loss  Instances       Size\n"
     ]
    },
    {
     "name": "stderr",
     "output_type": "stream",
     "text": [
      "     14/300      8.79G      2.118      2.988     0.9588          4        640: 100%|██████████| 61/61 [00:51<00:00,  1.19it/s]\n",
      "                 Class     Images  Instances      Box(P          R      mAP50  mAP50-95): 100%|██████████| 4/4 [00:02<00:00,  1.63it/s]"
     ]
    },
    {
     "name": "stdout",
     "output_type": "stream",
     "text": [
      "                   all        118        118      0.558      0.322      0.397      0.174\n"
     ]
    },
    {
     "name": "stderr",
     "output_type": "stream",
     "text": [
      "\n"
     ]
    },
    {
     "name": "stdout",
     "output_type": "stream",
     "text": [
      "\n",
      "      Epoch    GPU_mem   box_loss   cls_loss   dfl_loss  Instances       Size\n"
     ]
    },
    {
     "name": "stderr",
     "output_type": "stream",
     "text": [
      "     15/300      8.79G      2.165      3.102      0.986          6        640: 100%|██████████| 61/61 [00:51<00:00,  1.19it/s]\n",
      "                 Class     Images  Instances      Box(P          R      mAP50  mAP50-95): 100%|██████████| 4/4 [00:02<00:00,  1.59it/s]"
     ]
    },
    {
     "name": "stdout",
     "output_type": "stream",
     "text": [
      "                   all        118        118      0.446      0.619      0.452      0.188\n"
     ]
    },
    {
     "name": "stderr",
     "output_type": "stream",
     "text": [
      "\n"
     ]
    },
    {
     "name": "stdout",
     "output_type": "stream",
     "text": [
      "\n",
      "      Epoch    GPU_mem   box_loss   cls_loss   dfl_loss  Instances       Size\n"
     ]
    },
    {
     "name": "stderr",
     "output_type": "stream",
     "text": [
      "     16/300      8.88G      2.249        3.1      1.005          6        640: 100%|██████████| 61/61 [00:51<00:00,  1.19it/s]\n",
      "                 Class     Images  Instances      Box(P          R      mAP50  mAP50-95): 100%|██████████| 4/4 [00:02<00:00,  1.63it/s]"
     ]
    },
    {
     "name": "stdout",
     "output_type": "stream",
     "text": [
      "                   all        118        118      0.594      0.495      0.505      0.241\n"
     ]
    },
    {
     "name": "stderr",
     "output_type": "stream",
     "text": [
      "\n"
     ]
    },
    {
     "name": "stdout",
     "output_type": "stream",
     "text": [
      "\n",
      "      Epoch    GPU_mem   box_loss   cls_loss   dfl_loss  Instances       Size\n"
     ]
    },
    {
     "name": "stderr",
     "output_type": "stream",
     "text": [
      "     17/300      8.66G      2.138      2.904     0.9984          5        640: 100%|██████████| 61/61 [00:50<00:00,  1.20it/s]\n",
      "                 Class     Images  Instances      Box(P          R      mAP50  mAP50-95): 100%|██████████| 4/4 [00:02<00:00,  1.67it/s]"
     ]
    },
    {
     "name": "stdout",
     "output_type": "stream",
     "text": [
      "                   all        118        118      0.559      0.409       0.48       0.21\n"
     ]
    },
    {
     "name": "stderr",
     "output_type": "stream",
     "text": [
      "\n"
     ]
    },
    {
     "name": "stdout",
     "output_type": "stream",
     "text": [
      "\n",
      "      Epoch    GPU_mem   box_loss   cls_loss   dfl_loss  Instances       Size\n"
     ]
    },
    {
     "name": "stderr",
     "output_type": "stream",
     "text": [
      "     18/300      8.95G       2.03      2.736     0.9596          5        640: 100%|██████████| 61/61 [00:50<00:00,  1.22it/s]\n",
      "                 Class     Images  Instances      Box(P          R      mAP50  mAP50-95): 100%|██████████| 4/4 [00:02<00:00,  1.66it/s]"
     ]
    },
    {
     "name": "stdout",
     "output_type": "stream",
     "text": [
      "                   all        118        118      0.508      0.542      0.516      0.262\n"
     ]
    },
    {
     "name": "stderr",
     "output_type": "stream",
     "text": [
      "\n"
     ]
    },
    {
     "name": "stdout",
     "output_type": "stream",
     "text": [
      "\n",
      "      Epoch    GPU_mem   box_loss   cls_loss   dfl_loss  Instances       Size\n"
     ]
    },
    {
     "name": "stderr",
     "output_type": "stream",
     "text": [
      "     19/300      8.79G      2.133      2.875      1.001          8        640: 100%|██████████| 61/61 [00:50<00:00,  1.22it/s]\n",
      "                 Class     Images  Instances      Box(P          R      mAP50  mAP50-95): 100%|██████████| 4/4 [00:02<00:00,  1.67it/s]"
     ]
    },
    {
     "name": "stdout",
     "output_type": "stream",
     "text": [
      "                   all        118        118      0.335      0.458      0.334      0.165\n"
     ]
    },
    {
     "name": "stderr",
     "output_type": "stream",
     "text": [
      "\n"
     ]
    },
    {
     "name": "stdout",
     "output_type": "stream",
     "text": [
      "\n",
      "      Epoch    GPU_mem   box_loss   cls_loss   dfl_loss  Instances       Size\n"
     ]
    },
    {
     "name": "stderr",
     "output_type": "stream",
     "text": [
      "     20/300      8.88G       2.07      2.813     0.9618          2        640: 100%|██████████| 61/61 [00:50<00:00,  1.22it/s]\n",
      "                 Class     Images  Instances      Box(P          R      mAP50  mAP50-95): 100%|██████████| 4/4 [00:02<00:00,  1.61it/s]"
     ]
    },
    {
     "name": "stdout",
     "output_type": "stream",
     "text": [
      "                   all        118        118      0.448      0.492      0.375      0.195\n"
     ]
    },
    {
     "name": "stderr",
     "output_type": "stream",
     "text": [
      "\n"
     ]
    },
    {
     "name": "stdout",
     "output_type": "stream",
     "text": [
      "\n",
      "      Epoch    GPU_mem   box_loss   cls_loss   dfl_loss  Instances       Size\n"
     ]
    },
    {
     "name": "stderr",
     "output_type": "stream",
     "text": [
      "     21/300      8.96G      2.117      2.825     0.9926          5        640: 100%|██████████| 61/61 [00:49<00:00,  1.22it/s]\n",
      "                 Class     Images  Instances      Box(P          R      mAP50  mAP50-95): 100%|██████████| 4/4 [00:02<00:00,  1.66it/s]"
     ]
    },
    {
     "name": "stdout",
     "output_type": "stream",
     "text": [
      "                   all        118        118      0.607      0.466      0.489      0.226\n"
     ]
    },
    {
     "name": "stderr",
     "output_type": "stream",
     "text": [
      "\n"
     ]
    },
    {
     "name": "stdout",
     "output_type": "stream",
     "text": [
      "\n",
      "      Epoch    GPU_mem   box_loss   cls_loss   dfl_loss  Instances       Size\n"
     ]
    },
    {
     "name": "stderr",
     "output_type": "stream",
     "text": [
      "     22/300      8.79G      2.126       2.98     0.9884          3        640: 100%|██████████| 61/61 [00:49<00:00,  1.22it/s]\n",
      "                 Class     Images  Instances      Box(P          R      mAP50  mAP50-95): 100%|██████████| 4/4 [00:02<00:00,  1.65it/s]"
     ]
    },
    {
     "name": "stdout",
     "output_type": "stream",
     "text": [
      "                   all        118        118      0.609      0.475      0.507      0.232\n"
     ]
    },
    {
     "name": "stderr",
     "output_type": "stream",
     "text": [
      "\n"
     ]
    },
    {
     "name": "stdout",
     "output_type": "stream",
     "text": [
      "\n",
      "      Epoch    GPU_mem   box_loss   cls_loss   dfl_loss  Instances       Size\n"
     ]
    },
    {
     "name": "stderr",
     "output_type": "stream",
     "text": [
      "     23/300      8.65G      2.154      2.826     0.9673          3        640: 100%|██████████| 61/61 [00:49<00:00,  1.22it/s]\n",
      "                 Class     Images  Instances      Box(P          R      mAP50  mAP50-95): 100%|██████████| 4/4 [00:02<00:00,  1.67it/s]"
     ]
    },
    {
     "name": "stdout",
     "output_type": "stream",
     "text": [
      "                   all        118        118      0.558      0.619      0.538      0.263\n"
     ]
    },
    {
     "name": "stderr",
     "output_type": "stream",
     "text": [
      "\n"
     ]
    },
    {
     "name": "stdout",
     "output_type": "stream",
     "text": [
      "\n",
      "      Epoch    GPU_mem   box_loss   cls_loss   dfl_loss  Instances       Size\n"
     ]
    },
    {
     "name": "stderr",
     "output_type": "stream",
     "text": [
      "     24/300      8.88G      2.063      2.731     0.9572          3        640: 100%|██████████| 61/61 [00:50<00:00,  1.22it/s]\n",
      "                 Class     Images  Instances      Box(P          R      mAP50  mAP50-95): 100%|██████████| 4/4 [00:02<00:00,  1.70it/s]"
     ]
    },
    {
     "name": "stdout",
     "output_type": "stream",
     "text": [
      "                   all        118        118       0.43      0.275      0.294      0.105\n"
     ]
    },
    {
     "name": "stderr",
     "output_type": "stream",
     "text": [
      "\n"
     ]
    },
    {
     "name": "stdout",
     "output_type": "stream",
     "text": [
      "\n",
      "      Epoch    GPU_mem   box_loss   cls_loss   dfl_loss  Instances       Size\n"
     ]
    },
    {
     "name": "stderr",
     "output_type": "stream",
     "text": [
      "     25/300      8.66G      2.179      2.878     0.9942          3        640: 100%|██████████| 61/61 [00:50<00:00,  1.22it/s]\n",
      "                 Class     Images  Instances      Box(P          R      mAP50  mAP50-95): 100%|██████████| 4/4 [00:02<00:00,  1.68it/s]"
     ]
    },
    {
     "name": "stdout",
     "output_type": "stream",
     "text": [
      "                   all        118        118      0.568      0.559      0.539      0.208\n"
     ]
    },
    {
     "name": "stderr",
     "output_type": "stream",
     "text": [
      "\n"
     ]
    },
    {
     "name": "stdout",
     "output_type": "stream",
     "text": [
      "\n",
      "      Epoch    GPU_mem   box_loss   cls_loss   dfl_loss  Instances       Size\n"
     ]
    },
    {
     "name": "stderr",
     "output_type": "stream",
     "text": [
      "     26/300      8.79G      2.187      2.887     0.9791          5        640: 100%|██████████| 61/61 [00:50<00:00,  1.22it/s]\n",
      "                 Class     Images  Instances      Box(P          R      mAP50  mAP50-95): 100%|██████████| 4/4 [00:02<00:00,  1.65it/s]"
     ]
    },
    {
     "name": "stdout",
     "output_type": "stream",
     "text": [
      "                   all        118        118       0.53      0.492       0.49       0.22\n"
     ]
    },
    {
     "name": "stderr",
     "output_type": "stream",
     "text": [
      "\n"
     ]
    },
    {
     "name": "stdout",
     "output_type": "stream",
     "text": [
      "\n",
      "      Epoch    GPU_mem   box_loss   cls_loss   dfl_loss  Instances       Size\n"
     ]
    },
    {
     "name": "stderr",
     "output_type": "stream",
     "text": [
      "     27/300      8.65G      2.029      2.664     0.9565          4        640: 100%|██████████| 61/61 [00:50<00:00,  1.22it/s]\n",
      "                 Class     Images  Instances      Box(P          R      mAP50  mAP50-95): 100%|██████████| 4/4 [00:02<00:00,  1.66it/s]"
     ]
    },
    {
     "name": "stdout",
     "output_type": "stream",
     "text": [
      "                   all        118        118       0.65      0.508      0.555      0.227\n"
     ]
    },
    {
     "name": "stderr",
     "output_type": "stream",
     "text": [
      "\n"
     ]
    },
    {
     "name": "stdout",
     "output_type": "stream",
     "text": [
      "\n",
      "      Epoch    GPU_mem   box_loss   cls_loss   dfl_loss  Instances       Size\n"
     ]
    },
    {
     "name": "stderr",
     "output_type": "stream",
     "text": [
      "     28/300      8.88G      2.029      2.628      0.943          2        640: 100%|██████████| 61/61 [00:49<00:00,  1.22it/s]\n",
      "                 Class     Images  Instances      Box(P          R      mAP50  mAP50-95): 100%|██████████| 4/4 [00:02<00:00,  1.66it/s]"
     ]
    },
    {
     "name": "stdout",
     "output_type": "stream",
     "text": [
      "                   all        118        118      0.564      0.627      0.564      0.258\n"
     ]
    },
    {
     "name": "stderr",
     "output_type": "stream",
     "text": [
      "\n"
     ]
    },
    {
     "name": "stdout",
     "output_type": "stream",
     "text": [
      "\n",
      "      Epoch    GPU_mem   box_loss   cls_loss   dfl_loss  Instances       Size\n"
     ]
    },
    {
     "name": "stderr",
     "output_type": "stream",
     "text": [
      "     29/300      8.95G      2.015      2.612     0.9617          1        640: 100%|██████████| 61/61 [00:50<00:00,  1.22it/s]\n",
      "                 Class     Images  Instances      Box(P          R      mAP50  mAP50-95): 100%|██████████| 4/4 [00:02<00:00,  1.62it/s]"
     ]
    },
    {
     "name": "stdout",
     "output_type": "stream",
     "text": [
      "                   all        118        118      0.706      0.551      0.589      0.266\n"
     ]
    },
    {
     "name": "stderr",
     "output_type": "stream",
     "text": [
      "\n"
     ]
    },
    {
     "name": "stdout",
     "output_type": "stream",
     "text": [
      "\n",
      "      Epoch    GPU_mem   box_loss   cls_loss   dfl_loss  Instances       Size\n"
     ]
    },
    {
     "name": "stderr",
     "output_type": "stream",
     "text": [
      "     30/300      8.79G      2.028      2.611     0.9671          2        640: 100%|██████████| 61/61 [00:50<00:00,  1.21it/s]\n",
      "                 Class     Images  Instances      Box(P          R      mAP50  mAP50-95): 100%|██████████| 4/4 [00:02<00:00,  1.61it/s]"
     ]
    },
    {
     "name": "stdout",
     "output_type": "stream",
     "text": [
      "                   all        118        118      0.568      0.635      0.539      0.239\n"
     ]
    },
    {
     "name": "stderr",
     "output_type": "stream",
     "text": [
      "\n"
     ]
    },
    {
     "name": "stdout",
     "output_type": "stream",
     "text": [
      "\n",
      "      Epoch    GPU_mem   box_loss   cls_loss   dfl_loss  Instances       Size\n"
     ]
    },
    {
     "name": "stderr",
     "output_type": "stream",
     "text": [
      "     31/300      8.79G      2.058      2.619      0.963          4        640: 100%|██████████| 61/61 [00:50<00:00,  1.21it/s]\n",
      "                 Class     Images  Instances      Box(P          R      mAP50  mAP50-95): 100%|██████████| 4/4 [00:02<00:00,  1.64it/s]"
     ]
    },
    {
     "name": "stdout",
     "output_type": "stream",
     "text": [
      "                   all        118        118      0.641        0.5      0.571      0.251\n"
     ]
    },
    {
     "name": "stderr",
     "output_type": "stream",
     "text": [
      "\n"
     ]
    },
    {
     "name": "stdout",
     "output_type": "stream",
     "text": [
      "\n",
      "      Epoch    GPU_mem   box_loss   cls_loss   dfl_loss  Instances       Size\n"
     ]
    },
    {
     "name": "stderr",
     "output_type": "stream",
     "text": [
      "     32/300      8.88G      1.967        2.5     0.9225          3        640: 100%|██████████| 61/61 [00:50<00:00,  1.22it/s]\n",
      "                 Class     Images  Instances      Box(P          R      mAP50  mAP50-95): 100%|██████████| 4/4 [00:02<00:00,  1.65it/s]"
     ]
    },
    {
     "name": "stdout",
     "output_type": "stream",
     "text": [
      "                   all        118        118      0.574      0.602      0.583      0.267\n"
     ]
    },
    {
     "name": "stderr",
     "output_type": "stream",
     "text": [
      "\n"
     ]
    },
    {
     "name": "stdout",
     "output_type": "stream",
     "text": [
      "\n",
      "      Epoch    GPU_mem   box_loss   cls_loss   dfl_loss  Instances       Size\n"
     ]
    },
    {
     "name": "stderr",
     "output_type": "stream",
     "text": [
      "     33/300      8.66G      2.028      2.612     0.9459          6        640: 100%|██████████| 61/61 [00:50<00:00,  1.21it/s]\n",
      "                 Class     Images  Instances      Box(P          R      mAP50  mAP50-95): 100%|██████████| 4/4 [00:02<00:00,  1.65it/s]"
     ]
    },
    {
     "name": "stdout",
     "output_type": "stream",
     "text": [
      "                   all        118        118       0.52      0.593      0.542      0.253\n"
     ]
    },
    {
     "name": "stderr",
     "output_type": "stream",
     "text": [
      "\n"
     ]
    },
    {
     "name": "stdout",
     "output_type": "stream",
     "text": [
      "\n",
      "      Epoch    GPU_mem   box_loss   cls_loss   dfl_loss  Instances       Size\n"
     ]
    },
    {
     "name": "stderr",
     "output_type": "stream",
     "text": [
      "     34/300      8.79G      2.016       2.67      0.943          5        640: 100%|██████████| 61/61 [00:50<00:00,  1.22it/s]\n",
      "                 Class     Images  Instances      Box(P          R      mAP50  mAP50-95): 100%|██████████| 4/4 [00:02<00:00,  1.70it/s]"
     ]
    },
    {
     "name": "stdout",
     "output_type": "stream",
     "text": [
      "                   all        118        118      0.623      0.458      0.548      0.227\n"
     ]
    },
    {
     "name": "stderr",
     "output_type": "stream",
     "text": [
      "\n"
     ]
    },
    {
     "name": "stdout",
     "output_type": "stream",
     "text": [
      "\n",
      "      Epoch    GPU_mem   box_loss   cls_loss   dfl_loss  Instances       Size\n"
     ]
    },
    {
     "name": "stderr",
     "output_type": "stream",
     "text": [
      "     35/300      8.95G      2.004      2.694     0.9504          3        640: 100%|██████████| 61/61 [00:50<00:00,  1.22it/s]\n",
      "                 Class     Images  Instances      Box(P          R      mAP50  mAP50-95): 100%|██████████| 4/4 [00:02<00:00,  1.66it/s]"
     ]
    },
    {
     "name": "stdout",
     "output_type": "stream",
     "text": [
      "                   all        118        118      0.713      0.505      0.615       0.26\n"
     ]
    },
    {
     "name": "stderr",
     "output_type": "stream",
     "text": [
      "\n"
     ]
    },
    {
     "name": "stdout",
     "output_type": "stream",
     "text": [
      "\n",
      "      Epoch    GPU_mem   box_loss   cls_loss   dfl_loss  Instances       Size\n"
     ]
    },
    {
     "name": "stderr",
     "output_type": "stream",
     "text": [
      "     36/300      8.88G      2.008      2.423     0.9489          2        640: 100%|██████████| 61/61 [00:50<00:00,  1.22it/s]\n",
      "                 Class     Images  Instances      Box(P          R      mAP50  mAP50-95): 100%|██████████| 4/4 [00:02<00:00,  1.65it/s]"
     ]
    },
    {
     "name": "stdout",
     "output_type": "stream",
     "text": [
      "                   all        118        118      0.607      0.669      0.612      0.294\n"
     ]
    },
    {
     "name": "stderr",
     "output_type": "stream",
     "text": [
      "\n"
     ]
    },
    {
     "name": "stdout",
     "output_type": "stream",
     "text": [
      "\n",
      "      Epoch    GPU_mem   box_loss   cls_loss   dfl_loss  Instances       Size\n"
     ]
    },
    {
     "name": "stderr",
     "output_type": "stream",
     "text": [
      "     37/300      8.95G      1.947      2.416      0.945          2        640: 100%|██████████| 61/61 [00:50<00:00,  1.21it/s]\n",
      "                 Class     Images  Instances      Box(P          R      mAP50  mAP50-95): 100%|██████████| 4/4 [00:02<00:00,  1.65it/s]"
     ]
    },
    {
     "name": "stdout",
     "output_type": "stream",
     "text": [
      "                   all        118        118      0.557      0.511      0.501      0.263\n"
     ]
    },
    {
     "name": "stderr",
     "output_type": "stream",
     "text": [
      "\n"
     ]
    },
    {
     "name": "stdout",
     "output_type": "stream",
     "text": [
      "\n",
      "      Epoch    GPU_mem   box_loss   cls_loss   dfl_loss  Instances       Size\n"
     ]
    },
    {
     "name": "stderr",
     "output_type": "stream",
     "text": [
      "     38/300      8.79G      1.995      2.586      0.959          4        640: 100%|██████████| 61/61 [00:50<00:00,  1.22it/s]\n",
      "                 Class     Images  Instances      Box(P          R      mAP50  mAP50-95): 100%|██████████| 4/4 [00:02<00:00,  1.66it/s]"
     ]
    },
    {
     "name": "stdout",
     "output_type": "stream",
     "text": [
      "                   all        118        118      0.564      0.653      0.596      0.294\n"
     ]
    },
    {
     "name": "stderr",
     "output_type": "stream",
     "text": [
      "\n"
     ]
    },
    {
     "name": "stdout",
     "output_type": "stream",
     "text": [
      "\n",
      "      Epoch    GPU_mem   box_loss   cls_loss   dfl_loss  Instances       Size\n"
     ]
    },
    {
     "name": "stderr",
     "output_type": "stream",
     "text": [
      "     39/300      8.79G      1.925      2.551     0.9514          6        640: 100%|██████████| 61/61 [00:50<00:00,  1.22it/s]\n",
      "                 Class     Images  Instances      Box(P          R      mAP50  mAP50-95): 100%|██████████| 4/4 [00:02<00:00,  1.69it/s]"
     ]
    },
    {
     "name": "stdout",
     "output_type": "stream",
     "text": [
      "                   all        118        118      0.527      0.398      0.444      0.209\n"
     ]
    },
    {
     "name": "stderr",
     "output_type": "stream",
     "text": [
      "\n"
     ]
    },
    {
     "name": "stdout",
     "output_type": "stream",
     "text": [
      "\n",
      "      Epoch    GPU_mem   box_loss   cls_loss   dfl_loss  Instances       Size\n"
     ]
    },
    {
     "name": "stderr",
     "output_type": "stream",
     "text": [
      "     40/300      8.88G      1.952      2.524      0.948          3        640: 100%|██████████| 61/61 [00:50<00:00,  1.22it/s]\n",
      "                 Class     Images  Instances      Box(P          R      mAP50  mAP50-95): 100%|██████████| 4/4 [00:02<00:00,  1.63it/s]"
     ]
    },
    {
     "name": "stdout",
     "output_type": "stream",
     "text": [
      "                   all        118        118      0.575      0.585      0.564      0.276\n"
     ]
    },
    {
     "name": "stderr",
     "output_type": "stream",
     "text": [
      "\n"
     ]
    },
    {
     "name": "stdout",
     "output_type": "stream",
     "text": [
      "\n",
      "      Epoch    GPU_mem   box_loss   cls_loss   dfl_loss  Instances       Size\n"
     ]
    },
    {
     "name": "stderr",
     "output_type": "stream",
     "text": [
      "     41/300      8.66G      1.933      2.367     0.9455          4        640: 100%|██████████| 61/61 [00:50<00:00,  1.22it/s]\n",
      "                 Class     Images  Instances      Box(P          R      mAP50  mAP50-95): 100%|██████████| 4/4 [00:02<00:00,  1.68it/s]"
     ]
    },
    {
     "name": "stdout",
     "output_type": "stream",
     "text": [
      "                   all        118        118      0.634      0.631      0.631       0.31\n"
     ]
    },
    {
     "name": "stderr",
     "output_type": "stream",
     "text": [
      "\n"
     ]
    },
    {
     "name": "stdout",
     "output_type": "stream",
     "text": [
      "\n",
      "      Epoch    GPU_mem   box_loss   cls_loss   dfl_loss  Instances       Size\n"
     ]
    },
    {
     "name": "stderr",
     "output_type": "stream",
     "text": [
      "     42/300      8.79G      1.969      2.314     0.9642          3        640: 100%|██████████| 61/61 [00:50<00:00,  1.22it/s]\n",
      "                 Class     Images  Instances      Box(P          R      mAP50  mAP50-95): 100%|██████████| 4/4 [00:02<00:00,  1.66it/s]"
     ]
    },
    {
     "name": "stdout",
     "output_type": "stream",
     "text": [
      "                   all        118        118      0.634       0.61      0.657      0.342\n"
     ]
    },
    {
     "name": "stderr",
     "output_type": "stream",
     "text": [
      "\n"
     ]
    },
    {
     "name": "stdout",
     "output_type": "stream",
     "text": [
      "\n",
      "      Epoch    GPU_mem   box_loss   cls_loss   dfl_loss  Instances       Size\n"
     ]
    },
    {
     "name": "stderr",
     "output_type": "stream",
     "text": [
      "     43/300      8.95G      1.993      2.352     0.9362          2        640: 100%|██████████| 61/61 [00:50<00:00,  1.21it/s]\n",
      "                 Class     Images  Instances      Box(P          R      mAP50  mAP50-95): 100%|██████████| 4/4 [00:02<00:00,  1.67it/s]"
     ]
    },
    {
     "name": "stdout",
     "output_type": "stream",
     "text": [
      "                   all        118        118       0.72      0.585      0.634      0.312\n"
     ]
    },
    {
     "name": "stderr",
     "output_type": "stream",
     "text": [
      "\n"
     ]
    },
    {
     "name": "stdout",
     "output_type": "stream",
     "text": [
      "\n",
      "      Epoch    GPU_mem   box_loss   cls_loss   dfl_loss  Instances       Size\n"
     ]
    },
    {
     "name": "stderr",
     "output_type": "stream",
     "text": [
      "     44/300      8.88G      1.918      2.271     0.9536          4        640: 100%|██████████| 61/61 [00:50<00:00,  1.22it/s]\n",
      "                 Class     Images  Instances      Box(P          R      mAP50  mAP50-95): 100%|██████████| 4/4 [00:02<00:00,  1.68it/s]"
     ]
    },
    {
     "name": "stdout",
     "output_type": "stream",
     "text": [
      "                   all        118        118      0.598      0.592      0.557       0.25\n"
     ]
    },
    {
     "name": "stderr",
     "output_type": "stream",
     "text": [
      "\n"
     ]
    },
    {
     "name": "stdout",
     "output_type": "stream",
     "text": [
      "\n",
      "      Epoch    GPU_mem   box_loss   cls_loss   dfl_loss  Instances       Size\n"
     ]
    },
    {
     "name": "stderr",
     "output_type": "stream",
     "text": [
      "     45/300      8.96G      1.938      2.294     0.9351          4        640: 100%|██████████| 61/61 [00:50<00:00,  1.22it/s]\n",
      "                 Class     Images  Instances      Box(P          R      mAP50  mAP50-95): 100%|██████████| 4/4 [00:02<00:00,  1.64it/s]"
     ]
    },
    {
     "name": "stdout",
     "output_type": "stream",
     "text": [
      "                   all        118        118      0.587      0.661      0.591       0.29\n"
     ]
    },
    {
     "name": "stderr",
     "output_type": "stream",
     "text": [
      "\n"
     ]
    },
    {
     "name": "stdout",
     "output_type": "stream",
     "text": [
      "\n",
      "      Epoch    GPU_mem   box_loss   cls_loss   dfl_loss  Instances       Size\n"
     ]
    },
    {
     "name": "stderr",
     "output_type": "stream",
     "text": [
      "     46/300      8.79G      1.969      2.419     0.9344          3        640: 100%|██████████| 61/61 [00:50<00:00,  1.22it/s]\n",
      "                 Class     Images  Instances      Box(P          R      mAP50  mAP50-95): 100%|██████████| 4/4 [00:02<00:00,  1.65it/s]"
     ]
    },
    {
     "name": "stdout",
     "output_type": "stream",
     "text": [
      "                   all        118        118      0.609      0.634      0.623      0.272\n"
     ]
    },
    {
     "name": "stderr",
     "output_type": "stream",
     "text": [
      "\n"
     ]
    },
    {
     "name": "stdout",
     "output_type": "stream",
     "text": [
      "\n",
      "      Epoch    GPU_mem   box_loss   cls_loss   dfl_loss  Instances       Size\n"
     ]
    },
    {
     "name": "stderr",
     "output_type": "stream",
     "text": [
      "     47/300      8.79G      1.955      2.373     0.9426          3        640: 100%|██████████| 61/61 [00:50<00:00,  1.21it/s]\n",
      "                 Class     Images  Instances      Box(P          R      mAP50  mAP50-95): 100%|██████████| 4/4 [00:02<00:00,  1.64it/s]"
     ]
    },
    {
     "name": "stdout",
     "output_type": "stream",
     "text": [
      "                   all        118        118      0.622      0.542       0.61      0.258\n"
     ]
    },
    {
     "name": "stderr",
     "output_type": "stream",
     "text": [
      "\n"
     ]
    },
    {
     "name": "stdout",
     "output_type": "stream",
     "text": [
      "\n",
      "      Epoch    GPU_mem   box_loss   cls_loss   dfl_loss  Instances       Size\n"
     ]
    },
    {
     "name": "stderr",
     "output_type": "stream",
     "text": [
      "     48/300      8.88G      1.901      2.385     0.9452          5        640: 100%|██████████| 61/61 [00:50<00:00,  1.22it/s]\n",
      "                 Class     Images  Instances      Box(P          R      mAP50  mAP50-95): 100%|██████████| 4/4 [00:02<00:00,  1.66it/s]"
     ]
    },
    {
     "name": "stdout",
     "output_type": "stream",
     "text": [
      "                   all        118        118       0.65      0.669      0.679      0.331\n"
     ]
    },
    {
     "name": "stderr",
     "output_type": "stream",
     "text": [
      "\n"
     ]
    },
    {
     "name": "stdout",
     "output_type": "stream",
     "text": [
      "\n",
      "      Epoch    GPU_mem   box_loss   cls_loss   dfl_loss  Instances       Size\n"
     ]
    },
    {
     "name": "stderr",
     "output_type": "stream",
     "text": [
      "     49/300      8.66G      1.959      2.469     0.9456          5        640: 100%|██████████| 61/61 [00:50<00:00,  1.22it/s]\n",
      "                 Class     Images  Instances      Box(P          R      mAP50  mAP50-95): 100%|██████████| 4/4 [00:02<00:00,  1.67it/s]"
     ]
    },
    {
     "name": "stdout",
     "output_type": "stream",
     "text": [
      "                   all        118        118      0.634      0.636      0.614      0.307\n"
     ]
    },
    {
     "name": "stderr",
     "output_type": "stream",
     "text": [
      "\n"
     ]
    },
    {
     "name": "stdout",
     "output_type": "stream",
     "text": [
      "\n",
      "      Epoch    GPU_mem   box_loss   cls_loss   dfl_loss  Instances       Size\n"
     ]
    },
    {
     "name": "stderr",
     "output_type": "stream",
     "text": [
      "     50/300      8.79G       2.01      2.443     0.9614          2        640: 100%|██████████| 61/61 [00:50<00:00,  1.22it/s]\n",
      "                 Class     Images  Instances      Box(P          R      mAP50  mAP50-95): 100%|██████████| 4/4 [00:02<00:00,  1.64it/s]"
     ]
    },
    {
     "name": "stdout",
     "output_type": "stream",
     "text": [
      "                   all        118        118       0.55       0.61      0.578      0.287\n"
     ]
    },
    {
     "name": "stderr",
     "output_type": "stream",
     "text": [
      "\n"
     ]
    },
    {
     "name": "stdout",
     "output_type": "stream",
     "text": [
      "\n",
      "      Epoch    GPU_mem   box_loss   cls_loss   dfl_loss  Instances       Size\n"
     ]
    },
    {
     "name": "stderr",
     "output_type": "stream",
     "text": [
      "     51/300      8.94G      1.939       2.36     0.9619          5        640: 100%|██████████| 61/61 [00:50<00:00,  1.22it/s]\n",
      "                 Class     Images  Instances      Box(P          R      mAP50  mAP50-95): 100%|██████████| 4/4 [00:02<00:00,  1.65it/s]"
     ]
    },
    {
     "name": "stdout",
     "output_type": "stream",
     "text": [
      "                   all        118        118      0.655       0.66      0.636      0.296\n"
     ]
    },
    {
     "name": "stderr",
     "output_type": "stream",
     "text": [
      "\n"
     ]
    },
    {
     "name": "stdout",
     "output_type": "stream",
     "text": [
      "\n",
      "      Epoch    GPU_mem   box_loss   cls_loss   dfl_loss  Instances       Size\n"
     ]
    },
    {
     "name": "stderr",
     "output_type": "stream",
     "text": [
      "     52/300      8.88G      1.937      2.224     0.9393          3        640: 100%|██████████| 61/61 [00:50<00:00,  1.22it/s]\n",
      "                 Class     Images  Instances      Box(P          R      mAP50  mAP50-95): 100%|██████████| 4/4 [00:02<00:00,  1.66it/s]"
     ]
    },
    {
     "name": "stdout",
     "output_type": "stream",
     "text": [
      "                   all        118        118      0.564      0.585      0.536       0.24\n"
     ]
    },
    {
     "name": "stderr",
     "output_type": "stream",
     "text": [
      "\n"
     ]
    },
    {
     "name": "stdout",
     "output_type": "stream",
     "text": [
      "\n",
      "      Epoch    GPU_mem   box_loss   cls_loss   dfl_loss  Instances       Size\n"
     ]
    },
    {
     "name": "stderr",
     "output_type": "stream",
     "text": [
      "     53/300      8.66G      2.027      2.222     0.9457          3        640: 100%|██████████| 61/61 [00:50<00:00,  1.22it/s]\n",
      "                 Class     Images  Instances      Box(P          R      mAP50  mAP50-95): 100%|██████████| 4/4 [00:02<00:00,  1.61it/s]"
     ]
    },
    {
     "name": "stdout",
     "output_type": "stream",
     "text": [
      "                   all        118        118      0.552       0.68      0.558      0.234\n"
     ]
    },
    {
     "name": "stderr",
     "output_type": "stream",
     "text": [
      "\n"
     ]
    },
    {
     "name": "stdout",
     "output_type": "stream",
     "text": [
      "\n",
      "      Epoch    GPU_mem   box_loss   cls_loss   dfl_loss  Instances       Size\n"
     ]
    },
    {
     "name": "stderr",
     "output_type": "stream",
     "text": [
      "     54/300      8.79G      1.912      2.291     0.9498          7        640: 100%|██████████| 61/61 [00:50<00:00,  1.22it/s]\n",
      "                 Class     Images  Instances      Box(P          R      mAP50  mAP50-95): 100%|██████████| 4/4 [00:02<00:00,  1.61it/s]"
     ]
    },
    {
     "name": "stdout",
     "output_type": "stream",
     "text": [
      "                   all        118        118      0.659      0.551      0.589       0.28\n"
     ]
    },
    {
     "name": "stderr",
     "output_type": "stream",
     "text": [
      "\n"
     ]
    },
    {
     "name": "stdout",
     "output_type": "stream",
     "text": [
      "\n",
      "      Epoch    GPU_mem   box_loss   cls_loss   dfl_loss  Instances       Size\n"
     ]
    },
    {
     "name": "stderr",
     "output_type": "stream",
     "text": [
      "     55/300      8.95G      1.919      2.285     0.9541          4        640: 100%|██████████| 61/61 [00:50<00:00,  1.22it/s]\n",
      "                 Class     Images  Instances      Box(P          R      mAP50  mAP50-95): 100%|██████████| 4/4 [00:02<00:00,  1.62it/s]"
     ]
    },
    {
     "name": "stdout",
     "output_type": "stream",
     "text": [
      "                   all        118        118      0.572      0.593       0.57      0.246\n"
     ]
    },
    {
     "name": "stderr",
     "output_type": "stream",
     "text": [
      "\n"
     ]
    },
    {
     "name": "stdout",
     "output_type": "stream",
     "text": [
      "\n",
      "      Epoch    GPU_mem   box_loss   cls_loss   dfl_loss  Instances       Size\n"
     ]
    },
    {
     "name": "stderr",
     "output_type": "stream",
     "text": [
      "     56/300      8.88G      1.861      2.295     0.9535          3        640: 100%|██████████| 61/61 [00:50<00:00,  1.22it/s]\n",
      "                 Class     Images  Instances      Box(P          R      mAP50  mAP50-95): 100%|██████████| 4/4 [00:02<00:00,  1.64it/s]"
     ]
    },
    {
     "name": "stdout",
     "output_type": "stream",
     "text": [
      "                   all        118        118      0.449      0.534      0.461      0.248\n"
     ]
    },
    {
     "name": "stderr",
     "output_type": "stream",
     "text": [
      "\n"
     ]
    },
    {
     "name": "stdout",
     "output_type": "stream",
     "text": [
      "\n",
      "      Epoch    GPU_mem   box_loss   cls_loss   dfl_loss  Instances       Size\n"
     ]
    },
    {
     "name": "stderr",
     "output_type": "stream",
     "text": [
      "     57/300      8.96G      1.944      2.312     0.9373          2        640: 100%|██████████| 61/61 [00:50<00:00,  1.22it/s]\n",
      "                 Class     Images  Instances      Box(P          R      mAP50  mAP50-95): 100%|██████████| 4/4 [00:02<00:00,  1.64it/s]"
     ]
    },
    {
     "name": "stdout",
     "output_type": "stream",
     "text": [
      "                   all        118        118      0.647      0.602       0.61      0.283\n"
     ]
    },
    {
     "name": "stderr",
     "output_type": "stream",
     "text": [
      "\n"
     ]
    },
    {
     "name": "stdout",
     "output_type": "stream",
     "text": [
      "\n",
      "      Epoch    GPU_mem   box_loss   cls_loss   dfl_loss  Instances       Size\n"
     ]
    },
    {
     "name": "stderr",
     "output_type": "stream",
     "text": [
      "     58/300      8.79G      1.863      2.198     0.9259          3        640: 100%|██████████| 61/61 [00:50<00:00,  1.22it/s]\n",
      "                 Class     Images  Instances      Box(P          R      mAP50  mAP50-95): 100%|██████████| 4/4 [00:02<00:00,  1.66it/s]"
     ]
    },
    {
     "name": "stdout",
     "output_type": "stream",
     "text": [
      "                   all        118        118      0.596      0.663      0.634      0.313\n"
     ]
    },
    {
     "name": "stderr",
     "output_type": "stream",
     "text": [
      "\n"
     ]
    },
    {
     "name": "stdout",
     "output_type": "stream",
     "text": [
      "\n",
      "      Epoch    GPU_mem   box_loss   cls_loss   dfl_loss  Instances       Size\n"
     ]
    },
    {
     "name": "stderr",
     "output_type": "stream",
     "text": [
      "     59/300      8.79G       1.88      2.238     0.9333          3        640: 100%|██████████| 61/61 [00:50<00:00,  1.21it/s]\n",
      "                 Class     Images  Instances      Box(P          R      mAP50  mAP50-95): 100%|██████████| 4/4 [00:02<00:00,  1.66it/s]"
     ]
    },
    {
     "name": "stdout",
     "output_type": "stream",
     "text": [
      "                   all        118        118      0.599      0.608      0.577      0.283\n"
     ]
    },
    {
     "name": "stderr",
     "output_type": "stream",
     "text": [
      "\n"
     ]
    },
    {
     "name": "stdout",
     "output_type": "stream",
     "text": [
      "\n",
      "      Epoch    GPU_mem   box_loss   cls_loss   dfl_loss  Instances       Size\n"
     ]
    },
    {
     "name": "stderr",
     "output_type": "stream",
     "text": [
      "     60/300      8.88G      1.877      2.273     0.9419          8        640: 100%|██████████| 61/61 [00:50<00:00,  1.22it/s]\n",
      "                 Class     Images  Instances      Box(P          R      mAP50  mAP50-95): 100%|██████████| 4/4 [00:02<00:00,  1.65it/s]"
     ]
    },
    {
     "name": "stdout",
     "output_type": "stream",
     "text": [
      "                   all        118        118      0.644      0.508      0.592      0.324\n"
     ]
    },
    {
     "name": "stderr",
     "output_type": "stream",
     "text": [
      "\n"
     ]
    },
    {
     "name": "stdout",
     "output_type": "stream",
     "text": [
      "\n",
      "      Epoch    GPU_mem   box_loss   cls_loss   dfl_loss  Instances       Size\n"
     ]
    },
    {
     "name": "stderr",
     "output_type": "stream",
     "text": [
      "     61/300      8.66G      1.953      2.414     0.9412          7        640: 100%|██████████| 61/61 [00:50<00:00,  1.22it/s]\n",
      "                 Class     Images  Instances      Box(P          R      mAP50  mAP50-95): 100%|██████████| 4/4 [00:02<00:00,  1.66it/s]"
     ]
    },
    {
     "name": "stdout",
     "output_type": "stream",
     "text": [
      "                   all        118        118      0.586      0.678      0.579      0.283\n"
     ]
    },
    {
     "name": "stderr",
     "output_type": "stream",
     "text": [
      "\n"
     ]
    },
    {
     "name": "stdout",
     "output_type": "stream",
     "text": [
      "\n",
      "      Epoch    GPU_mem   box_loss   cls_loss   dfl_loss  Instances       Size\n"
     ]
    },
    {
     "name": "stderr",
     "output_type": "stream",
     "text": [
      "     62/300      8.79G      1.856      2.236     0.9316          5        640: 100%|██████████| 61/61 [00:50<00:00,  1.22it/s]\n",
      "                 Class     Images  Instances      Box(P          R      mAP50  mAP50-95): 100%|██████████| 4/4 [00:02<00:00,  1.65it/s]"
     ]
    },
    {
     "name": "stdout",
     "output_type": "stream",
     "text": [
      "                   all        118        118      0.654      0.517      0.619      0.321\n"
     ]
    },
    {
     "name": "stderr",
     "output_type": "stream",
     "text": [
      "\n"
     ]
    },
    {
     "name": "stdout",
     "output_type": "stream",
     "text": [
      "\n",
      "      Epoch    GPU_mem   box_loss   cls_loss   dfl_loss  Instances       Size\n"
     ]
    },
    {
     "name": "stderr",
     "output_type": "stream",
     "text": [
      "     63/300      8.64G      1.845        2.3     0.9274          2        640: 100%|██████████| 61/61 [00:50<00:00,  1.22it/s]\n",
      "                 Class     Images  Instances      Box(P          R      mAP50  mAP50-95): 100%|██████████| 4/4 [00:02<00:00,  1.65it/s]"
     ]
    },
    {
     "name": "stdout",
     "output_type": "stream",
     "text": [
      "                   all        118        118       0.53      0.432      0.469       0.25\n"
     ]
    },
    {
     "name": "stderr",
     "output_type": "stream",
     "text": [
      "\n"
     ]
    },
    {
     "name": "stdout",
     "output_type": "stream",
     "text": [
      "\n",
      "      Epoch    GPU_mem   box_loss   cls_loss   dfl_loss  Instances       Size\n"
     ]
    },
    {
     "name": "stderr",
     "output_type": "stream",
     "text": [
      "     64/300      8.88G      1.793      2.052      0.946          3        640: 100%|██████████| 61/61 [00:50<00:00,  1.22it/s]\n",
      "                 Class     Images  Instances      Box(P          R      mAP50  mAP50-95): 100%|██████████| 4/4 [00:02<00:00,  1.66it/s]"
     ]
    },
    {
     "name": "stdout",
     "output_type": "stream",
     "text": [
      "                   all        118        118      0.667      0.636      0.631      0.318\n"
     ]
    },
    {
     "name": "stderr",
     "output_type": "stream",
     "text": [
      "\n"
     ]
    },
    {
     "name": "stdout",
     "output_type": "stream",
     "text": [
      "\n",
      "      Epoch    GPU_mem   box_loss   cls_loss   dfl_loss  Instances       Size\n"
     ]
    },
    {
     "name": "stderr",
     "output_type": "stream",
     "text": [
      "     65/300      8.95G      1.897      2.147     0.9327          5        640: 100%|██████████| 61/61 [00:50<00:00,  1.21it/s]\n",
      "                 Class     Images  Instances      Box(P          R      mAP50  mAP50-95): 100%|██████████| 4/4 [00:02<00:00,  1.64it/s]"
     ]
    },
    {
     "name": "stdout",
     "output_type": "stream",
     "text": [
      "                   all        118        118      0.632      0.669      0.647      0.303\n"
     ]
    },
    {
     "name": "stderr",
     "output_type": "stream",
     "text": [
      "\n"
     ]
    },
    {
     "name": "stdout",
     "output_type": "stream",
     "text": [
      "\n",
      "      Epoch    GPU_mem   box_loss   cls_loss   dfl_loss  Instances       Size\n"
     ]
    },
    {
     "name": "stderr",
     "output_type": "stream",
     "text": [
      "     66/300      8.79G       1.87      2.172      0.908          1        640: 100%|██████████| 61/61 [00:50<00:00,  1.22it/s]\n",
      "                 Class     Images  Instances      Box(P          R      mAP50  mAP50-95): 100%|██████████| 4/4 [00:02<00:00,  1.65it/s]"
     ]
    },
    {
     "name": "stdout",
     "output_type": "stream",
     "text": [
      "                   all        118        118      0.563      0.665      0.621      0.269\n"
     ]
    },
    {
     "name": "stderr",
     "output_type": "stream",
     "text": [
      "\n"
     ]
    },
    {
     "name": "stdout",
     "output_type": "stream",
     "text": [
      "\n",
      "      Epoch    GPU_mem   box_loss   cls_loss   dfl_loss  Instances       Size\n"
     ]
    },
    {
     "name": "stderr",
     "output_type": "stream",
     "text": [
      "     67/300      8.94G       1.89      2.279     0.9168          4        640: 100%|██████████| 61/61 [00:50<00:00,  1.22it/s]\n",
      "                 Class     Images  Instances      Box(P          R      mAP50  mAP50-95): 100%|██████████| 4/4 [00:02<00:00,  1.68it/s]"
     ]
    },
    {
     "name": "stdout",
     "output_type": "stream",
     "text": [
      "                   all        118        118        0.7      0.593      0.612      0.313\n"
     ]
    },
    {
     "name": "stderr",
     "output_type": "stream",
     "text": [
      "\n"
     ]
    },
    {
     "name": "stdout",
     "output_type": "stream",
     "text": [
      "\n",
      "      Epoch    GPU_mem   box_loss   cls_loss   dfl_loss  Instances       Size\n"
     ]
    },
    {
     "name": "stderr",
     "output_type": "stream",
     "text": [
      "     68/300      8.58G      1.867      2.134     0.9295          3        640: 100%|██████████| 61/61 [00:50<00:00,  1.22it/s]\n",
      "                 Class     Images  Instances      Box(P          R      mAP50  mAP50-95): 100%|██████████| 4/4 [00:02<00:00,  1.67it/s]"
     ]
    },
    {
     "name": "stdout",
     "output_type": "stream",
     "text": [
      "                   all        118        118      0.687        0.5      0.595      0.297\n"
     ]
    },
    {
     "name": "stderr",
     "output_type": "stream",
     "text": [
      "\n"
     ]
    },
    {
     "name": "stdout",
     "output_type": "stream",
     "text": [
      "\n",
      "      Epoch    GPU_mem   box_loss   cls_loss   dfl_loss  Instances       Size\n"
     ]
    },
    {
     "name": "stderr",
     "output_type": "stream",
     "text": [
      "     69/300       8.8G      1.794      2.135     0.9129          7        640: 100%|██████████| 61/61 [00:49<00:00,  1.22it/s]\n",
      "                 Class     Images  Instances      Box(P          R      mAP50  mAP50-95): 100%|██████████| 4/4 [00:02<00:00,  1.68it/s]"
     ]
    },
    {
     "name": "stdout",
     "output_type": "stream",
     "text": [
      "                   all        118        118      0.659      0.622      0.621      0.311\n"
     ]
    },
    {
     "name": "stderr",
     "output_type": "stream",
     "text": [
      "\n"
     ]
    },
    {
     "name": "stdout",
     "output_type": "stream",
     "text": [
      "\n",
      "      Epoch    GPU_mem   box_loss   cls_loss   dfl_loss  Instances       Size\n"
     ]
    },
    {
     "name": "stderr",
     "output_type": "stream",
     "text": [
      "     70/300      8.66G      1.832      2.112     0.9227          3        640: 100%|██████████| 61/61 [00:50<00:00,  1.22it/s]\n",
      "                 Class     Images  Instances      Box(P          R      mAP50  mAP50-95): 100%|██████████| 4/4 [00:02<00:00,  1.64it/s]"
     ]
    },
    {
     "name": "stdout",
     "output_type": "stream",
     "text": [
      "                   all        118        118      0.532      0.703      0.575      0.274\n"
     ]
    },
    {
     "name": "stderr",
     "output_type": "stream",
     "text": [
      "\n"
     ]
    },
    {
     "name": "stdout",
     "output_type": "stream",
     "text": [
      "\n",
      "      Epoch    GPU_mem   box_loss   cls_loss   dfl_loss  Instances       Size\n"
     ]
    },
    {
     "name": "stderr",
     "output_type": "stream",
     "text": [
      "     71/300      8.79G      1.875      2.057     0.9245          2        640: 100%|██████████| 61/61 [00:50<00:00,  1.22it/s]\n",
      "                 Class     Images  Instances      Box(P          R      mAP50  mAP50-95): 100%|██████████| 4/4 [00:02<00:00,  1.67it/s]"
     ]
    },
    {
     "name": "stdout",
     "output_type": "stream",
     "text": [
      "                   all        118        118      0.622      0.653       0.63      0.332\n"
     ]
    },
    {
     "name": "stderr",
     "output_type": "stream",
     "text": [
      "\n"
     ]
    },
    {
     "name": "stdout",
     "output_type": "stream",
     "text": [
      "\n",
      "      Epoch    GPU_mem   box_loss   cls_loss   dfl_loss  Instances       Size\n"
     ]
    },
    {
     "name": "stderr",
     "output_type": "stream",
     "text": [
      "     72/300      8.88G      1.843      2.132     0.9306          6        640: 100%|██████████| 61/61 [00:50<00:00,  1.21it/s]\n",
      "                 Class     Images  Instances      Box(P          R      mAP50  mAP50-95): 100%|██████████| 4/4 [00:02<00:00,  1.67it/s]"
     ]
    },
    {
     "name": "stdout",
     "output_type": "stream",
     "text": [
      "                   all        118        118      0.635      0.649      0.637        0.3\n"
     ]
    },
    {
     "name": "stderr",
     "output_type": "stream",
     "text": [
      "\n"
     ]
    },
    {
     "name": "stdout",
     "output_type": "stream",
     "text": [
      "\n",
      "      Epoch    GPU_mem   box_loss   cls_loss   dfl_loss  Instances       Size\n"
     ]
    },
    {
     "name": "stderr",
     "output_type": "stream",
     "text": [
      "     73/300      8.66G      1.865      2.181      0.929          2        640: 100%|██████████| 61/61 [00:50<00:00,  1.22it/s]\n",
      "                 Class     Images  Instances      Box(P          R      mAP50  mAP50-95): 100%|██████████| 4/4 [00:02<00:00,  1.67it/s]"
     ]
    },
    {
     "name": "stdout",
     "output_type": "stream",
     "text": [
      "                   all        118        118      0.589      0.727      0.645      0.318\n"
     ]
    },
    {
     "name": "stderr",
     "output_type": "stream",
     "text": [
      "\n"
     ]
    },
    {
     "name": "stdout",
     "output_type": "stream",
     "text": [
      "\n",
      "      Epoch    GPU_mem   box_loss   cls_loss   dfl_loss  Instances       Size\n"
     ]
    },
    {
     "name": "stderr",
     "output_type": "stream",
     "text": [
      "     74/300      8.79G      1.831      2.019     0.9206          5        640: 100%|██████████| 61/61 [00:50<00:00,  1.22it/s]\n",
      "                 Class     Images  Instances      Box(P          R      mAP50  mAP50-95): 100%|██████████| 4/4 [00:02<00:00,  1.66it/s]"
     ]
    },
    {
     "name": "stdout",
     "output_type": "stream",
     "text": [
      "                   all        118        118      0.619      0.585      0.603      0.294\n"
     ]
    },
    {
     "name": "stderr",
     "output_type": "stream",
     "text": [
      "\n"
     ]
    },
    {
     "name": "stdout",
     "output_type": "stream",
     "text": [
      "\n",
      "      Epoch    GPU_mem   box_loss   cls_loss   dfl_loss  Instances       Size\n"
     ]
    },
    {
     "name": "stderr",
     "output_type": "stream",
     "text": [
      "     75/300      8.95G      1.796      2.085     0.9236          5        640: 100%|██████████| 61/61 [00:50<00:00,  1.22it/s]\n",
      "                 Class     Images  Instances      Box(P          R      mAP50  mAP50-95): 100%|██████████| 4/4 [00:02<00:00,  1.67it/s]"
     ]
    },
    {
     "name": "stdout",
     "output_type": "stream",
     "text": [
      "                   all        118        118      0.587      0.508      0.542      0.281\n"
     ]
    },
    {
     "name": "stderr",
     "output_type": "stream",
     "text": [
      "\n"
     ]
    },
    {
     "name": "stdout",
     "output_type": "stream",
     "text": [
      "\n",
      "      Epoch    GPU_mem   box_loss   cls_loss   dfl_loss  Instances       Size\n"
     ]
    },
    {
     "name": "stderr",
     "output_type": "stream",
     "text": [
      "     76/300      8.88G      1.733       1.97     0.9209          4        640: 100%|██████████| 61/61 [00:49<00:00,  1.22it/s]\n",
      "                 Class     Images  Instances      Box(P          R      mAP50  mAP50-95): 100%|██████████| 4/4 [00:02<00:00,  1.65it/s]"
     ]
    },
    {
     "name": "stdout",
     "output_type": "stream",
     "text": [
      "                   all        118        118      0.628      0.661      0.642      0.316\n"
     ]
    },
    {
     "name": "stderr",
     "output_type": "stream",
     "text": [
      "\n"
     ]
    },
    {
     "name": "stdout",
     "output_type": "stream",
     "text": [
      "\n",
      "      Epoch    GPU_mem   box_loss   cls_loss   dfl_loss  Instances       Size\n"
     ]
    },
    {
     "name": "stderr",
     "output_type": "stream",
     "text": [
      "     77/300      8.95G      1.855       2.18     0.9383          3        640: 100%|██████████| 61/61 [00:50<00:00,  1.22it/s]\n",
      "                 Class     Images  Instances      Box(P          R      mAP50  mAP50-95): 100%|██████████| 4/4 [00:02<00:00,  1.65it/s]"
     ]
    },
    {
     "name": "stdout",
     "output_type": "stream",
     "text": [
      "                   all        118        118      0.622      0.641      0.601      0.279\n"
     ]
    },
    {
     "name": "stderr",
     "output_type": "stream",
     "text": [
      "\n"
     ]
    },
    {
     "name": "stdout",
     "output_type": "stream",
     "text": [
      "\n",
      "      Epoch    GPU_mem   box_loss   cls_loss   dfl_loss  Instances       Size\n"
     ]
    },
    {
     "name": "stderr",
     "output_type": "stream",
     "text": [
      "     78/300      8.79G      1.811      2.023     0.9277          5        640: 100%|██████████| 61/61 [00:50<00:00,  1.22it/s]\n",
      "                 Class     Images  Instances      Box(P          R      mAP50  mAP50-95): 100%|██████████| 4/4 [00:02<00:00,  1.66it/s]"
     ]
    },
    {
     "name": "stdout",
     "output_type": "stream",
     "text": [
      "                   all        118        118      0.575      0.688      0.606      0.302\n"
     ]
    },
    {
     "name": "stderr",
     "output_type": "stream",
     "text": [
      "\n"
     ]
    },
    {
     "name": "stdout",
     "output_type": "stream",
     "text": [
      "\n",
      "      Epoch    GPU_mem   box_loss   cls_loss   dfl_loss  Instances       Size\n"
     ]
    },
    {
     "name": "stderr",
     "output_type": "stream",
     "text": [
      "     79/300      8.79G      1.763      2.005     0.9229          3        640: 100%|██████████| 61/61 [00:50<00:00,  1.21it/s]\n",
      "                 Class     Images  Instances      Box(P          R      mAP50  mAP50-95): 100%|██████████| 4/4 [00:02<00:00,  1.64it/s]"
     ]
    },
    {
     "name": "stdout",
     "output_type": "stream",
     "text": [
      "                   all        118        118      0.651      0.585      0.615      0.293\n"
     ]
    },
    {
     "name": "stderr",
     "output_type": "stream",
     "text": [
      "\n"
     ]
    },
    {
     "name": "stdout",
     "output_type": "stream",
     "text": [
      "\n",
      "      Epoch    GPU_mem   box_loss   cls_loss   dfl_loss  Instances       Size\n"
     ]
    },
    {
     "name": "stderr",
     "output_type": "stream",
     "text": [
      "     80/300      8.88G       1.76      2.005      0.911          3        640: 100%|██████████| 61/61 [00:50<00:00,  1.22it/s]\n",
      "                 Class     Images  Instances      Box(P          R      mAP50  mAP50-95): 100%|██████████| 4/4 [00:02<00:00,  1.65it/s]"
     ]
    },
    {
     "name": "stdout",
     "output_type": "stream",
     "text": [
      "                   all        118        118       0.57      0.712      0.618      0.289\n"
     ]
    },
    {
     "name": "stderr",
     "output_type": "stream",
     "text": [
      "\n"
     ]
    },
    {
     "name": "stdout",
     "output_type": "stream",
     "text": [
      "\n",
      "      Epoch    GPU_mem   box_loss   cls_loss   dfl_loss  Instances       Size\n"
     ]
    },
    {
     "name": "stderr",
     "output_type": "stream",
     "text": [
      "     81/300      8.66G      1.775      1.993     0.9308          6        640: 100%|██████████| 61/61 [00:50<00:00,  1.22it/s]\n",
      "                 Class     Images  Instances      Box(P          R      mAP50  mAP50-95): 100%|██████████| 4/4 [00:02<00:00,  1.64it/s]"
     ]
    },
    {
     "name": "stdout",
     "output_type": "stream",
     "text": [
      "                   all        118        118      0.631      0.712       0.66       0.34\n"
     ]
    },
    {
     "name": "stderr",
     "output_type": "stream",
     "text": [
      "\n"
     ]
    },
    {
     "name": "stdout",
     "output_type": "stream",
     "text": [
      "\n",
      "      Epoch    GPU_mem   box_loss   cls_loss   dfl_loss  Instances       Size\n"
     ]
    },
    {
     "name": "stderr",
     "output_type": "stream",
     "text": [
      "     82/300      8.79G      1.837      2.152     0.9226          4        640: 100%|██████████| 61/61 [00:50<00:00,  1.22it/s]\n",
      "                 Class     Images  Instances      Box(P          R      mAP50  mAP50-95): 100%|██████████| 4/4 [00:02<00:00,  1.67it/s]"
     ]
    },
    {
     "name": "stdout",
     "output_type": "stream",
     "text": [
      "                   all        118        118       0.64      0.649      0.652      0.321\n"
     ]
    },
    {
     "name": "stderr",
     "output_type": "stream",
     "text": [
      "\n"
     ]
    },
    {
     "name": "stdout",
     "output_type": "stream",
     "text": [
      "\n",
      "      Epoch    GPU_mem   box_loss   cls_loss   dfl_loss  Instances       Size\n"
     ]
    },
    {
     "name": "stderr",
     "output_type": "stream",
     "text": [
      "     83/300      8.78G      1.746       1.96     0.9092          5        640: 100%|██████████| 61/61 [00:50<00:00,  1.21it/s]\n",
      "                 Class     Images  Instances      Box(P          R      mAP50  mAP50-95): 100%|██████████| 4/4 [00:02<00:00,  1.65it/s]"
     ]
    },
    {
     "name": "stdout",
     "output_type": "stream",
     "text": [
      "                   all        118        118       0.63      0.686      0.642      0.329\n"
     ]
    },
    {
     "name": "stderr",
     "output_type": "stream",
     "text": [
      "\n"
     ]
    },
    {
     "name": "stdout",
     "output_type": "stream",
     "text": [
      "\n",
      "      Epoch    GPU_mem   box_loss   cls_loss   dfl_loss  Instances       Size\n"
     ]
    },
    {
     "name": "stderr",
     "output_type": "stream",
     "text": [
      "     84/300      8.88G      1.737      1.936     0.9102          6        640: 100%|██████████| 61/61 [00:49<00:00,  1.22it/s]\n",
      "                 Class     Images  Instances      Box(P          R      mAP50  mAP50-95): 100%|██████████| 4/4 [00:02<00:00,  1.68it/s]"
     ]
    },
    {
     "name": "stdout",
     "output_type": "stream",
     "text": [
      "                   all        118        118      0.521      0.712      0.633      0.308\n"
     ]
    },
    {
     "name": "stderr",
     "output_type": "stream",
     "text": [
      "\n"
     ]
    },
    {
     "name": "stdout",
     "output_type": "stream",
     "text": [
      "\n",
      "      Epoch    GPU_mem   box_loss   cls_loss   dfl_loss  Instances       Size\n"
     ]
    },
    {
     "name": "stderr",
     "output_type": "stream",
     "text": [
      "     85/300      8.96G      1.751      2.006     0.9045          6        640: 100%|██████████| 61/61 [00:50<00:00,  1.22it/s]\n",
      "                 Class     Images  Instances      Box(P          R      mAP50  mAP50-95): 100%|██████████| 4/4 [00:02<00:00,  1.63it/s]"
     ]
    },
    {
     "name": "stdout",
     "output_type": "stream",
     "text": [
      "                   all        118        118      0.666      0.661       0.63       0.29\n"
     ]
    },
    {
     "name": "stderr",
     "output_type": "stream",
     "text": [
      "\n"
     ]
    },
    {
     "name": "stdout",
     "output_type": "stream",
     "text": [
      "\n",
      "      Epoch    GPU_mem   box_loss   cls_loss   dfl_loss  Instances       Size\n"
     ]
    },
    {
     "name": "stderr",
     "output_type": "stream",
     "text": [
      "     86/300      8.79G       1.75      1.932     0.9258          2        640: 100%|██████████| 61/61 [00:50<00:00,  1.21it/s]\n",
      "                 Class     Images  Instances      Box(P          R      mAP50  mAP50-95): 100%|██████████| 4/4 [00:02<00:00,  1.67it/s]"
     ]
    },
    {
     "name": "stdout",
     "output_type": "stream",
     "text": [
      "                   all        118        118      0.658      0.729      0.684      0.356\n"
     ]
    },
    {
     "name": "stderr",
     "output_type": "stream",
     "text": [
      "\n"
     ]
    },
    {
     "name": "stdout",
     "output_type": "stream",
     "text": [
      "\n",
      "      Epoch    GPU_mem   box_loss   cls_loss   dfl_loss  Instances       Size\n"
     ]
    },
    {
     "name": "stderr",
     "output_type": "stream",
     "text": [
      "     87/300      8.65G      1.807      1.934      0.906          2        640: 100%|██████████| 61/61 [00:50<00:00,  1.22it/s]\n",
      "                 Class     Images  Instances      Box(P          R      mAP50  mAP50-95): 100%|██████████| 4/4 [00:02<00:00,  1.65it/s]"
     ]
    },
    {
     "name": "stdout",
     "output_type": "stream",
     "text": [
      "                   all        118        118      0.628      0.744      0.743      0.398\n"
     ]
    },
    {
     "name": "stderr",
     "output_type": "stream",
     "text": [
      "\n"
     ]
    },
    {
     "name": "stdout",
     "output_type": "stream",
     "text": [
      "\n",
      "      Epoch    GPU_mem   box_loss   cls_loss   dfl_loss  Instances       Size\n"
     ]
    },
    {
     "name": "stderr",
     "output_type": "stream",
     "text": [
      "     88/300      8.88G      1.778      1.932     0.8977          2        640: 100%|██████████| 61/61 [00:50<00:00,  1.21it/s]\n",
      "                 Class     Images  Instances      Box(P          R      mAP50  mAP50-95): 100%|██████████| 4/4 [00:02<00:00,  1.66it/s]"
     ]
    },
    {
     "name": "stdout",
     "output_type": "stream",
     "text": [
      "                   all        118        118      0.631      0.653      0.645      0.288\n"
     ]
    },
    {
     "name": "stderr",
     "output_type": "stream",
     "text": [
      "\n"
     ]
    },
    {
     "name": "stdout",
     "output_type": "stream",
     "text": [
      "\n",
      "      Epoch    GPU_mem   box_loss   cls_loss   dfl_loss  Instances       Size\n"
     ]
    },
    {
     "name": "stderr",
     "output_type": "stream",
     "text": [
      "     89/300       8.8G       1.77      1.919     0.9113          4        640: 100%|██████████| 61/61 [00:50<00:00,  1.21it/s]\n",
      "                 Class     Images  Instances      Box(P          R      mAP50  mAP50-95): 100%|██████████| 4/4 [00:02<00:00,  1.66it/s]"
     ]
    },
    {
     "name": "stdout",
     "output_type": "stream",
     "text": [
      "                   all        118        118      0.685      0.636      0.623      0.326\n"
     ]
    },
    {
     "name": "stderr",
     "output_type": "stream",
     "text": [
      "\n"
     ]
    },
    {
     "name": "stdout",
     "output_type": "stream",
     "text": [
      "\n",
      "      Epoch    GPU_mem   box_loss   cls_loss   dfl_loss  Instances       Size\n"
     ]
    },
    {
     "name": "stderr",
     "output_type": "stream",
     "text": [
      "     90/300      8.65G      1.822      2.111     0.9202          6        640: 100%|██████████| 61/61 [00:50<00:00,  1.22it/s]\n",
      "                 Class     Images  Instances      Box(P          R      mAP50  mAP50-95): 100%|██████████| 4/4 [00:02<00:00,  1.68it/s]"
     ]
    },
    {
     "name": "stdout",
     "output_type": "stream",
     "text": [
      "                   all        118        118      0.556      0.661       0.61      0.291\n"
     ]
    },
    {
     "name": "stderr",
     "output_type": "stream",
     "text": [
      "\n"
     ]
    },
    {
     "name": "stdout",
     "output_type": "stream",
     "text": [
      "\n",
      "      Epoch    GPU_mem   box_loss   cls_loss   dfl_loss  Instances       Size\n"
     ]
    },
    {
     "name": "stderr",
     "output_type": "stream",
     "text": [
      "     91/300      8.65G      1.802       2.03     0.9329          2        640: 100%|██████████| 61/61 [00:50<00:00,  1.22it/s]\n",
      "                 Class     Images  Instances      Box(P          R      mAP50  mAP50-95): 100%|██████████| 4/4 [00:02<00:00,  1.65it/s]"
     ]
    },
    {
     "name": "stdout",
     "output_type": "stream",
     "text": [
      "                   all        118        118      0.602      0.686      0.663      0.333\n"
     ]
    },
    {
     "name": "stderr",
     "output_type": "stream",
     "text": [
      "\n"
     ]
    },
    {
     "name": "stdout",
     "output_type": "stream",
     "text": [
      "\n",
      "      Epoch    GPU_mem   box_loss   cls_loss   dfl_loss  Instances       Size\n"
     ]
    },
    {
     "name": "stderr",
     "output_type": "stream",
     "text": [
      "     92/300      8.88G      1.769      1.961     0.9042          3        640: 100%|██████████| 61/61 [00:50<00:00,  1.22it/s]\n",
      "                 Class     Images  Instances      Box(P          R      mAP50  mAP50-95): 100%|██████████| 4/4 [00:02<00:00,  1.70it/s]"
     ]
    },
    {
     "name": "stdout",
     "output_type": "stream",
     "text": [
      "                   all        118        118      0.619      0.661      0.594      0.298\n"
     ]
    },
    {
     "name": "stderr",
     "output_type": "stream",
     "text": [
      "\n"
     ]
    },
    {
     "name": "stdout",
     "output_type": "stream",
     "text": [
      "\n",
      "      Epoch    GPU_mem   box_loss   cls_loss   dfl_loss  Instances       Size\n"
     ]
    },
    {
     "name": "stderr",
     "output_type": "stream",
     "text": [
      "     93/300      8.67G      1.735      1.834     0.9066          7        640: 100%|██████████| 61/61 [00:50<00:00,  1.22it/s]\n",
      "                 Class     Images  Instances      Box(P          R      mAP50  mAP50-95): 100%|██████████| 4/4 [00:02<00:00,  1.63it/s]"
     ]
    },
    {
     "name": "stdout",
     "output_type": "stream",
     "text": [
      "                   all        118        118      0.666      0.659      0.674      0.302\n"
     ]
    },
    {
     "name": "stderr",
     "output_type": "stream",
     "text": [
      "\n"
     ]
    },
    {
     "name": "stdout",
     "output_type": "stream",
     "text": [
      "\n",
      "      Epoch    GPU_mem   box_loss   cls_loss   dfl_loss  Instances       Size\n"
     ]
    },
    {
     "name": "stderr",
     "output_type": "stream",
     "text": [
      "     94/300      8.79G      1.741      1.955     0.9062          3        640: 100%|██████████| 61/61 [00:49<00:00,  1.22it/s]\n",
      "                 Class     Images  Instances      Box(P          R      mAP50  mAP50-95): 100%|██████████| 4/4 [00:02<00:00,  1.66it/s]"
     ]
    },
    {
     "name": "stdout",
     "output_type": "stream",
     "text": [
      "                   all        118        118      0.648      0.639      0.657      0.319\n"
     ]
    },
    {
     "name": "stderr",
     "output_type": "stream",
     "text": [
      "\n"
     ]
    },
    {
     "name": "stdout",
     "output_type": "stream",
     "text": [
      "\n",
      "      Epoch    GPU_mem   box_loss   cls_loss   dfl_loss  Instances       Size\n"
     ]
    },
    {
     "name": "stderr",
     "output_type": "stream",
     "text": [
      "     95/300      8.65G      1.775      1.925     0.9048          2        640: 100%|██████████| 61/61 [00:50<00:00,  1.22it/s]\n",
      "                 Class     Images  Instances      Box(P          R      mAP50  mAP50-95): 100%|██████████| 4/4 [00:02<00:00,  1.69it/s]"
     ]
    },
    {
     "name": "stdout",
     "output_type": "stream",
     "text": [
      "                   all        118        118      0.667      0.663      0.656      0.367\n"
     ]
    },
    {
     "name": "stderr",
     "output_type": "stream",
     "text": [
      "\n"
     ]
    },
    {
     "name": "stdout",
     "output_type": "stream",
     "text": [
      "\n",
      "      Epoch    GPU_mem   box_loss   cls_loss   dfl_loss  Instances       Size\n"
     ]
    },
    {
     "name": "stderr",
     "output_type": "stream",
     "text": [
      "     96/300      8.58G      1.787      1.932     0.9329          2        640: 100%|██████████| 61/61 [00:50<00:00,  1.22it/s]\n",
      "                 Class     Images  Instances      Box(P          R      mAP50  mAP50-95): 100%|██████████| 4/4 [00:02<00:00,  1.64it/s]"
     ]
    },
    {
     "name": "stdout",
     "output_type": "stream",
     "text": [
      "                   all        118        118      0.665      0.636      0.644      0.336\n"
     ]
    },
    {
     "name": "stderr",
     "output_type": "stream",
     "text": [
      "\n"
     ]
    },
    {
     "name": "stdout",
     "output_type": "stream",
     "text": [
      "\n",
      "      Epoch    GPU_mem   box_loss   cls_loss   dfl_loss  Instances       Size\n"
     ]
    },
    {
     "name": "stderr",
     "output_type": "stream",
     "text": [
      "     97/300       8.8G      1.725       1.98     0.9129          4        640: 100%|██████████| 61/61 [00:49<00:00,  1.22it/s]\n",
      "                 Class     Images  Instances      Box(P          R      mAP50  mAP50-95): 100%|██████████| 4/4 [00:02<00:00,  1.66it/s]"
     ]
    },
    {
     "name": "stdout",
     "output_type": "stream",
     "text": [
      "                   all        118        118      0.641      0.669      0.692       0.33\n"
     ]
    },
    {
     "name": "stderr",
     "output_type": "stream",
     "text": [
      "\n"
     ]
    },
    {
     "name": "stdout",
     "output_type": "stream",
     "text": [
      "\n",
      "      Epoch    GPU_mem   box_loss   cls_loss   dfl_loss  Instances       Size\n"
     ]
    },
    {
     "name": "stderr",
     "output_type": "stream",
     "text": [
      "     98/300      8.65G      1.714      1.903     0.9126          6        640: 100%|██████████| 61/61 [00:49<00:00,  1.22it/s]\n",
      "                 Class     Images  Instances      Box(P          R      mAP50  mAP50-95): 100%|██████████| 4/4 [00:02<00:00,  1.68it/s]"
     ]
    },
    {
     "name": "stdout",
     "output_type": "stream",
     "text": [
      "                   all        118        118      0.615       0.72      0.692      0.352\n"
     ]
    },
    {
     "name": "stderr",
     "output_type": "stream",
     "text": [
      "\n"
     ]
    },
    {
     "name": "stdout",
     "output_type": "stream",
     "text": [
      "\n",
      "      Epoch    GPU_mem   box_loss   cls_loss   dfl_loss  Instances       Size\n"
     ]
    },
    {
     "name": "stderr",
     "output_type": "stream",
     "text": [
      "     99/300       8.8G      1.779      1.925     0.9193          6        640: 100%|██████████| 61/61 [00:50<00:00,  1.22it/s]\n",
      "                 Class     Images  Instances      Box(P          R      mAP50  mAP50-95): 100%|██████████| 4/4 [00:02<00:00,  1.66it/s]"
     ]
    },
    {
     "name": "stdout",
     "output_type": "stream",
     "text": [
      "                   all        118        118      0.668      0.686      0.733      0.394\n"
     ]
    },
    {
     "name": "stderr",
     "output_type": "stream",
     "text": [
      "\n"
     ]
    },
    {
     "name": "stdout",
     "output_type": "stream",
     "text": [
      "\n",
      "      Epoch    GPU_mem   box_loss   cls_loss   dfl_loss  Instances       Size\n"
     ]
    },
    {
     "name": "stderr",
     "output_type": "stream",
     "text": [
      "    100/300      8.88G      1.628      1.724     0.8932          7        640: 100%|██████████| 61/61 [00:50<00:00,  1.22it/s]\n",
      "                 Class     Images  Instances      Box(P          R      mAP50  mAP50-95): 100%|██████████| 4/4 [00:02<00:00,  1.69it/s]"
     ]
    },
    {
     "name": "stdout",
     "output_type": "stream",
     "text": [
      "                   all        118        118      0.656      0.619      0.687      0.355\n"
     ]
    },
    {
     "name": "stderr",
     "output_type": "stream",
     "text": [
      "\n"
     ]
    },
    {
     "name": "stdout",
     "output_type": "stream",
     "text": [
      "\n",
      "      Epoch    GPU_mem   box_loss   cls_loss   dfl_loss  Instances       Size\n"
     ]
    },
    {
     "name": "stderr",
     "output_type": "stream",
     "text": [
      "    101/300      8.66G      1.669      1.811     0.9041          3        640: 100%|██████████| 61/61 [00:50<00:00,  1.21it/s]\n",
      "                 Class     Images  Instances      Box(P          R      mAP50  mAP50-95): 100%|██████████| 4/4 [00:02<00:00,  1.66it/s]"
     ]
    },
    {
     "name": "stdout",
     "output_type": "stream",
     "text": [
      "                   all        118        118      0.602      0.667      0.633      0.282\n"
     ]
    },
    {
     "name": "stderr",
     "output_type": "stream",
     "text": [
      "\n"
     ]
    },
    {
     "name": "stdout",
     "output_type": "stream",
     "text": [
      "\n",
      "      Epoch    GPU_mem   box_loss   cls_loss   dfl_loss  Instances       Size\n"
     ]
    },
    {
     "name": "stderr",
     "output_type": "stream",
     "text": [
      "    102/300      8.79G      1.798      2.047     0.9028          5        640: 100%|██████████| 61/61 [00:50<00:00,  1.22it/s]\n",
      "                 Class     Images  Instances      Box(P          R      mAP50  mAP50-95): 100%|██████████| 4/4 [00:02<00:00,  1.64it/s]"
     ]
    },
    {
     "name": "stdout",
     "output_type": "stream",
     "text": [
      "                   all        118        118      0.655       0.58      0.585       0.26\n"
     ]
    },
    {
     "name": "stderr",
     "output_type": "stream",
     "text": [
      "\n"
     ]
    },
    {
     "name": "stdout",
     "output_type": "stream",
     "text": [
      "\n",
      "      Epoch    GPU_mem   box_loss   cls_loss   dfl_loss  Instances       Size\n"
     ]
    },
    {
     "name": "stderr",
     "output_type": "stream",
     "text": [
      "    103/300      8.95G      1.666      1.807     0.8866          3        640: 100%|██████████| 61/61 [00:50<00:00,  1.21it/s]\n",
      "                 Class     Images  Instances      Box(P          R      mAP50  mAP50-95): 100%|██████████| 4/4 [00:02<00:00,  1.64it/s]"
     ]
    },
    {
     "name": "stdout",
     "output_type": "stream",
     "text": [
      "                   all        118        118      0.646        0.5      0.608      0.299\n"
     ]
    },
    {
     "name": "stderr",
     "output_type": "stream",
     "text": [
      "\n"
     ]
    },
    {
     "name": "stdout",
     "output_type": "stream",
     "text": [
      "\n",
      "      Epoch    GPU_mem   box_loss   cls_loss   dfl_loss  Instances       Size\n"
     ]
    },
    {
     "name": "stderr",
     "output_type": "stream",
     "text": [
      "    104/300      8.88G      1.734      1.884      0.905          2        640: 100%|██████████| 61/61 [00:50<00:00,  1.22it/s]\n",
      "                 Class     Images  Instances      Box(P          R      mAP50  mAP50-95): 100%|██████████| 4/4 [00:02<00:00,  1.67it/s]"
     ]
    },
    {
     "name": "stdout",
     "output_type": "stream",
     "text": [
      "                   all        118        118      0.724      0.508      0.616      0.301\n"
     ]
    },
    {
     "name": "stderr",
     "output_type": "stream",
     "text": [
      "\n"
     ]
    },
    {
     "name": "stdout",
     "output_type": "stream",
     "text": [
      "\n",
      "      Epoch    GPU_mem   box_loss   cls_loss   dfl_loss  Instances       Size\n"
     ]
    },
    {
     "name": "stderr",
     "output_type": "stream",
     "text": [
      "    105/300      8.96G      1.668      1.863     0.9091          4        640: 100%|██████████| 61/61 [00:50<00:00,  1.22it/s]\n",
      "                 Class     Images  Instances      Box(P          R      mAP50  mAP50-95): 100%|██████████| 4/4 [00:02<00:00,  1.66it/s]"
     ]
    },
    {
     "name": "stdout",
     "output_type": "stream",
     "text": [
      "                   all        118        118      0.625      0.678      0.652      0.318\n"
     ]
    },
    {
     "name": "stderr",
     "output_type": "stream",
     "text": [
      "\n"
     ]
    },
    {
     "name": "stdout",
     "output_type": "stream",
     "text": [
      "\n",
      "      Epoch    GPU_mem   box_loss   cls_loss   dfl_loss  Instances       Size\n"
     ]
    },
    {
     "name": "stderr",
     "output_type": "stream",
     "text": [
      "    106/300      8.79G       1.75      1.926      0.893          3        640: 100%|██████████| 61/61 [00:50<00:00,  1.22it/s]\n",
      "                 Class     Images  Instances      Box(P          R      mAP50  mAP50-95): 100%|██████████| 4/4 [00:02<00:00,  1.63it/s]"
     ]
    },
    {
     "name": "stdout",
     "output_type": "stream",
     "text": [
      "                   all        118        118      0.621      0.686      0.661      0.304\n"
     ]
    },
    {
     "name": "stderr",
     "output_type": "stream",
     "text": [
      "\n"
     ]
    },
    {
     "name": "stdout",
     "output_type": "stream",
     "text": [
      "\n",
      "      Epoch    GPU_mem   box_loss   cls_loss   dfl_loss  Instances       Size\n"
     ]
    },
    {
     "name": "stderr",
     "output_type": "stream",
     "text": [
      "    107/300      8.94G      1.754      1.898     0.9267          4        640: 100%|██████████| 61/61 [00:50<00:00,  1.22it/s]\n",
      "                 Class     Images  Instances      Box(P          R      mAP50  mAP50-95): 100%|██████████| 4/4 [00:02<00:00,  1.66it/s]"
     ]
    },
    {
     "name": "stdout",
     "output_type": "stream",
     "text": [
      "                   all        118        118      0.629      0.632      0.656      0.326\n"
     ]
    },
    {
     "name": "stderr",
     "output_type": "stream",
     "text": [
      "\n"
     ]
    },
    {
     "name": "stdout",
     "output_type": "stream",
     "text": [
      "\n",
      "      Epoch    GPU_mem   box_loss   cls_loss   dfl_loss  Instances       Size\n"
     ]
    },
    {
     "name": "stderr",
     "output_type": "stream",
     "text": [
      "    108/300      8.88G      1.674      1.855      0.898          5        640: 100%|██████████| 61/61 [00:50<00:00,  1.22it/s]\n",
      "                 Class     Images  Instances      Box(P          R      mAP50  mAP50-95): 100%|██████████| 4/4 [00:02<00:00,  1.66it/s]"
     ]
    },
    {
     "name": "stdout",
     "output_type": "stream",
     "text": [
      "                   all        118        118      0.619       0.72      0.687      0.355\n"
     ]
    },
    {
     "name": "stderr",
     "output_type": "stream",
     "text": [
      "\n"
     ]
    },
    {
     "name": "stdout",
     "output_type": "stream",
     "text": [
      "\n",
      "      Epoch    GPU_mem   box_loss   cls_loss   dfl_loss  Instances       Size\n"
     ]
    },
    {
     "name": "stderr",
     "output_type": "stream",
     "text": [
      "    109/300      8.95G      1.697       1.77     0.9081          3        640: 100%|██████████| 61/61 [00:49<00:00,  1.22it/s]\n",
      "                 Class     Images  Instances      Box(P          R      mAP50  mAP50-95): 100%|██████████| 4/4 [00:02<00:00,  1.69it/s]"
     ]
    },
    {
     "name": "stdout",
     "output_type": "stream",
     "text": [
      "                   all        118        118      0.611      0.712      0.651      0.318\n"
     ]
    },
    {
     "name": "stderr",
     "output_type": "stream",
     "text": [
      "\n"
     ]
    },
    {
     "name": "stdout",
     "output_type": "stream",
     "text": [
      "\n",
      "      Epoch    GPU_mem   box_loss   cls_loss   dfl_loss  Instances       Size\n"
     ]
    },
    {
     "name": "stderr",
     "output_type": "stream",
     "text": [
      "    110/300      8.79G      1.708      1.816     0.8956          3        640: 100%|██████████| 61/61 [00:50<00:00,  1.22it/s]\n",
      "                 Class     Images  Instances      Box(P          R      mAP50  mAP50-95): 100%|██████████| 4/4 [00:02<00:00,  1.67it/s]"
     ]
    },
    {
     "name": "stdout",
     "output_type": "stream",
     "text": [
      "                   all        118        118      0.681      0.653      0.668      0.333\n"
     ]
    },
    {
     "name": "stderr",
     "output_type": "stream",
     "text": [
      "\n"
     ]
    },
    {
     "name": "stdout",
     "output_type": "stream",
     "text": [
      "\n",
      "      Epoch    GPU_mem   box_loss   cls_loss   dfl_loss  Instances       Size\n"
     ]
    },
    {
     "name": "stderr",
     "output_type": "stream",
     "text": [
      "    111/300      8.65G      1.749      1.862     0.9206          5        640: 100%|██████████| 61/61 [00:50<00:00,  1.22it/s]\n",
      "                 Class     Images  Instances      Box(P          R      mAP50  mAP50-95): 100%|██████████| 4/4 [00:02<00:00,  1.66it/s]"
     ]
    },
    {
     "name": "stdout",
     "output_type": "stream",
     "text": [
      "                   all        118        118      0.642      0.698      0.674      0.345\n"
     ]
    },
    {
     "name": "stderr",
     "output_type": "stream",
     "text": [
      "\n"
     ]
    },
    {
     "name": "stdout",
     "output_type": "stream",
     "text": [
      "\n",
      "      Epoch    GPU_mem   box_loss   cls_loss   dfl_loss  Instances       Size\n"
     ]
    },
    {
     "name": "stderr",
     "output_type": "stream",
     "text": [
      "    112/300      8.72G      1.715      1.871     0.9107          3        640: 100%|██████████| 61/61 [00:50<00:00,  1.22it/s]\n",
      "                 Class     Images  Instances      Box(P          R      mAP50  mAP50-95): 100%|██████████| 4/4 [00:02<00:00,  1.62it/s]"
     ]
    },
    {
     "name": "stdout",
     "output_type": "stream",
     "text": [
      "                   all        118        118      0.657      0.584      0.611      0.271\n"
     ]
    },
    {
     "name": "stderr",
     "output_type": "stream",
     "text": [
      "\n"
     ]
    },
    {
     "name": "stdout",
     "output_type": "stream",
     "text": [
      "\n",
      "      Epoch    GPU_mem   box_loss   cls_loss   dfl_loss  Instances       Size\n"
     ]
    },
    {
     "name": "stderr",
     "output_type": "stream",
     "text": [
      "    113/300      8.67G      1.656      1.756     0.8883          3        640: 100%|██████████| 61/61 [00:50<00:00,  1.22it/s]\n",
      "                 Class     Images  Instances      Box(P          R      mAP50  mAP50-95): 100%|██████████| 4/4 [00:02<00:00,  1.65it/s]"
     ]
    },
    {
     "name": "stdout",
     "output_type": "stream",
     "text": [
      "                   all        118        118      0.626      0.703      0.705      0.365\n"
     ]
    },
    {
     "name": "stderr",
     "output_type": "stream",
     "text": [
      "\n"
     ]
    },
    {
     "name": "stdout",
     "output_type": "stream",
     "text": [
      "\n",
      "      Epoch    GPU_mem   box_loss   cls_loss   dfl_loss  Instances       Size\n"
     ]
    },
    {
     "name": "stderr",
     "output_type": "stream",
     "text": [
      "    114/300      8.65G      1.733      1.815     0.9075          5        640: 100%|██████████| 61/61 [00:50<00:00,  1.22it/s]\n",
      "                 Class     Images  Instances      Box(P          R      mAP50  mAP50-95): 100%|██████████| 4/4 [00:02<00:00,  1.67it/s]"
     ]
    },
    {
     "name": "stdout",
     "output_type": "stream",
     "text": [
      "                   all        118        118      0.667      0.696      0.709      0.346\n"
     ]
    },
    {
     "name": "stderr",
     "output_type": "stream",
     "text": [
      "\n"
     ]
    },
    {
     "name": "stdout",
     "output_type": "stream",
     "text": [
      "\n",
      "      Epoch    GPU_mem   box_loss   cls_loss   dfl_loss  Instances       Size\n"
     ]
    },
    {
     "name": "stderr",
     "output_type": "stream",
     "text": [
      "    115/300      8.65G      1.632      1.709     0.9004          2        640: 100%|██████████| 61/61 [00:50<00:00,  1.22it/s]\n",
      "                 Class     Images  Instances      Box(P          R      mAP50  mAP50-95): 100%|██████████| 4/4 [00:02<00:00,  1.70it/s]"
     ]
    },
    {
     "name": "stdout",
     "output_type": "stream",
     "text": [
      "                   all        118        118      0.763      0.574      0.698      0.335\n"
     ]
    },
    {
     "name": "stderr",
     "output_type": "stream",
     "text": [
      "\n"
     ]
    },
    {
     "name": "stdout",
     "output_type": "stream",
     "text": [
      "\n",
      "      Epoch    GPU_mem   box_loss   cls_loss   dfl_loss  Instances       Size\n"
     ]
    },
    {
     "name": "stderr",
     "output_type": "stream",
     "text": [
      "    116/300      8.58G      1.736      1.824     0.8935          2        640: 100%|██████████| 61/61 [00:50<00:00,  1.22it/s]\n",
      "                 Class     Images  Instances      Box(P          R      mAP50  mAP50-95): 100%|██████████| 4/4 [00:02<00:00,  1.66it/s]"
     ]
    },
    {
     "name": "stdout",
     "output_type": "stream",
     "text": [
      "                   all        118        118      0.549       0.72      0.636      0.329\n"
     ]
    },
    {
     "name": "stderr",
     "output_type": "stream",
     "text": [
      "\n"
     ]
    },
    {
     "name": "stdout",
     "output_type": "stream",
     "text": [
      "\n",
      "      Epoch    GPU_mem   box_loss   cls_loss   dfl_loss  Instances       Size\n"
     ]
    },
    {
     "name": "stderr",
     "output_type": "stream",
     "text": [
      "    117/300       8.8G      1.663      1.843     0.9121          1        640: 100%|██████████| 61/61 [00:50<00:00,  1.22it/s]\n",
      "                 Class     Images  Instances      Box(P          R      mAP50  mAP50-95): 100%|██████████| 4/4 [00:02<00:00,  1.66it/s]"
     ]
    },
    {
     "name": "stdout",
     "output_type": "stream",
     "text": [
      "                   all        118        118      0.705      0.566      0.647      0.322\n"
     ]
    },
    {
     "name": "stderr",
     "output_type": "stream",
     "text": [
      "\n"
     ]
    },
    {
     "name": "stdout",
     "output_type": "stream",
     "text": [
      "\n",
      "      Epoch    GPU_mem   box_loss   cls_loss   dfl_loss  Instances       Size\n"
     ]
    },
    {
     "name": "stderr",
     "output_type": "stream",
     "text": [
      "    118/300      8.66G       1.76      1.891     0.8865          4        640: 100%|██████████| 61/61 [00:50<00:00,  1.22it/s]\n",
      "                 Class     Images  Instances      Box(P          R      mAP50  mAP50-95): 100%|██████████| 4/4 [00:02<00:00,  1.62it/s]"
     ]
    },
    {
     "name": "stdout",
     "output_type": "stream",
     "text": [
      "                   all        118        118       0.69      0.662      0.651      0.312\n"
     ]
    },
    {
     "name": "stderr",
     "output_type": "stream",
     "text": [
      "\n"
     ]
    },
    {
     "name": "stdout",
     "output_type": "stream",
     "text": [
      "\n",
      "      Epoch    GPU_mem   box_loss   cls_loss   dfl_loss  Instances       Size\n"
     ]
    },
    {
     "name": "stderr",
     "output_type": "stream",
     "text": [
      "    119/300      8.79G       1.59       1.69     0.8916          6        640: 100%|██████████| 61/61 [00:50<00:00,  1.21it/s]\n",
      "                 Class     Images  Instances      Box(P          R      mAP50  mAP50-95): 100%|██████████| 4/4 [00:02<00:00,  1.66it/s]"
     ]
    },
    {
     "name": "stdout",
     "output_type": "stream",
     "text": [
      "                   all        118        118       0.67      0.654      0.693      0.354\n"
     ]
    },
    {
     "name": "stderr",
     "output_type": "stream",
     "text": [
      "\n"
     ]
    },
    {
     "name": "stdout",
     "output_type": "stream",
     "text": [
      "\n",
      "      Epoch    GPU_mem   box_loss   cls_loss   dfl_loss  Instances       Size\n"
     ]
    },
    {
     "name": "stderr",
     "output_type": "stream",
     "text": [
      "    120/300      8.88G      1.687       1.82     0.8841          1        640: 100%|██████████| 61/61 [00:50<00:00,  1.22it/s]\n",
      "                 Class     Images  Instances      Box(P          R      mAP50  mAP50-95): 100%|██████████| 4/4 [00:02<00:00,  1.66it/s]"
     ]
    },
    {
     "name": "stdout",
     "output_type": "stream",
     "text": [
      "                   all        118        118      0.592      0.677      0.621      0.318\n"
     ]
    },
    {
     "name": "stderr",
     "output_type": "stream",
     "text": [
      "\n"
     ]
    },
    {
     "name": "stdout",
     "output_type": "stream",
     "text": [
      "\n",
      "      Epoch    GPU_mem   box_loss   cls_loss   dfl_loss  Instances       Size\n"
     ]
    },
    {
     "name": "stderr",
     "output_type": "stream",
     "text": [
      "    121/300      8.95G      1.661      1.763     0.9016          3        640: 100%|██████████| 61/61 [00:50<00:00,  1.22it/s]\n",
      "                 Class     Images  Instances      Box(P          R      mAP50  mAP50-95): 100%|██████████| 4/4 [00:02<00:00,  1.64it/s]"
     ]
    },
    {
     "name": "stdout",
     "output_type": "stream",
     "text": [
      "                   all        118        118      0.599      0.722      0.647      0.316\n"
     ]
    },
    {
     "name": "stderr",
     "output_type": "stream",
     "text": [
      "\n"
     ]
    },
    {
     "name": "stdout",
     "output_type": "stream",
     "text": [
      "\n",
      "      Epoch    GPU_mem   box_loss   cls_loss   dfl_loss  Instances       Size\n"
     ]
    },
    {
     "name": "stderr",
     "output_type": "stream",
     "text": [
      "    122/300      8.79G       1.64      1.719     0.8716          2        640: 100%|██████████| 61/61 [00:50<00:00,  1.21it/s]\n",
      "                 Class     Images  Instances      Box(P          R      mAP50  mAP50-95): 100%|██████████| 4/4 [00:02<00:00,  1.65it/s]"
     ]
    },
    {
     "name": "stdout",
     "output_type": "stream",
     "text": [
      "                   all        118        118      0.562       0.78      0.688      0.337\n"
     ]
    },
    {
     "name": "stderr",
     "output_type": "stream",
     "text": [
      "\n"
     ]
    },
    {
     "name": "stdout",
     "output_type": "stream",
     "text": [
      "\n",
      "      Epoch    GPU_mem   box_loss   cls_loss   dfl_loss  Instances       Size\n"
     ]
    },
    {
     "name": "stderr",
     "output_type": "stream",
     "text": [
      "    123/300      8.79G      1.667      1.751     0.8844          5        640: 100%|██████████| 61/61 [00:50<00:00,  1.22it/s]\n",
      "                 Class     Images  Instances      Box(P          R      mAP50  mAP50-95): 100%|██████████| 4/4 [00:02<00:00,  1.66it/s]"
     ]
    },
    {
     "name": "stdout",
     "output_type": "stream",
     "text": [
      "                   all        118        118      0.641      0.686      0.675      0.307\n"
     ]
    },
    {
     "name": "stderr",
     "output_type": "stream",
     "text": [
      "\n"
     ]
    },
    {
     "name": "stdout",
     "output_type": "stream",
     "text": [
      "\n",
      "      Epoch    GPU_mem   box_loss   cls_loss   dfl_loss  Instances       Size\n"
     ]
    },
    {
     "name": "stderr",
     "output_type": "stream",
     "text": [
      "    124/300      8.88G      1.657      1.709     0.9014          5        640: 100%|██████████| 61/61 [00:49<00:00,  1.22it/s]\n",
      "                 Class     Images  Instances      Box(P          R      mAP50  mAP50-95): 100%|██████████| 4/4 [00:02<00:00,  1.67it/s]"
     ]
    },
    {
     "name": "stdout",
     "output_type": "stream",
     "text": [
      "                   all        118        118      0.623      0.712      0.649      0.301\n"
     ]
    },
    {
     "name": "stderr",
     "output_type": "stream",
     "text": [
      "\n"
     ]
    },
    {
     "name": "stdout",
     "output_type": "stream",
     "text": [
      "\n",
      "      Epoch    GPU_mem   box_loss   cls_loss   dfl_loss  Instances       Size\n"
     ]
    },
    {
     "name": "stderr",
     "output_type": "stream",
     "text": [
      "    125/300      8.66G      1.604      1.794     0.8876          7        640: 100%|██████████| 61/61 [00:50<00:00,  1.22it/s]\n",
      "                 Class     Images  Instances      Box(P          R      mAP50  mAP50-95): 100%|██████████| 4/4 [00:02<00:00,  1.65it/s]"
     ]
    },
    {
     "name": "stdout",
     "output_type": "stream",
     "text": [
      "                   all        118        118      0.591      0.729      0.688      0.312\n"
     ]
    },
    {
     "name": "stderr",
     "output_type": "stream",
     "text": [
      "\n"
     ]
    },
    {
     "name": "stdout",
     "output_type": "stream",
     "text": [
      "\n",
      "      Epoch    GPU_mem   box_loss   cls_loss   dfl_loss  Instances       Size\n"
     ]
    },
    {
     "name": "stderr",
     "output_type": "stream",
     "text": [
      "    126/300      8.79G      1.663      1.717     0.8903          3        640: 100%|██████████| 61/61 [00:49<00:00,  1.22it/s]\n",
      "                 Class     Images  Instances      Box(P          R      mAP50  mAP50-95): 100%|██████████| 4/4 [00:02<00:00,  1.66it/s]"
     ]
    },
    {
     "name": "stdout",
     "output_type": "stream",
     "text": [
      "                   all        118        118      0.649       0.72      0.709      0.347\n"
     ]
    },
    {
     "name": "stderr",
     "output_type": "stream",
     "text": [
      "\n"
     ]
    },
    {
     "name": "stdout",
     "output_type": "stream",
     "text": [
      "\n",
      "      Epoch    GPU_mem   box_loss   cls_loss   dfl_loss  Instances       Size\n"
     ]
    },
    {
     "name": "stderr",
     "output_type": "stream",
     "text": [
      "    127/300      8.65G      1.698      1.758     0.9004          8        640: 100%|██████████| 61/61 [00:50<00:00,  1.21it/s]\n",
      "                 Class     Images  Instances      Box(P          R      mAP50  mAP50-95): 100%|██████████| 4/4 [00:02<00:00,  1.71it/s]"
     ]
    },
    {
     "name": "stdout",
     "output_type": "stream",
     "text": [
      "                   all        118        118       0.71       0.61      0.649      0.304\n"
     ]
    },
    {
     "name": "stderr",
     "output_type": "stream",
     "text": [
      "\n"
     ]
    },
    {
     "name": "stdout",
     "output_type": "stream",
     "text": [
      "\n",
      "      Epoch    GPU_mem   box_loss   cls_loss   dfl_loss  Instances       Size\n"
     ]
    },
    {
     "name": "stderr",
     "output_type": "stream",
     "text": [
      "    128/300      8.88G      1.682      1.813     0.8826          5        640: 100%|██████████| 61/61 [00:49<00:00,  1.22it/s]\n",
      "                 Class     Images  Instances      Box(P          R      mAP50  mAP50-95): 100%|██████████| 4/4 [00:02<00:00,  1.66it/s]"
     ]
    },
    {
     "name": "stdout",
     "output_type": "stream",
     "text": [
      "                   all        118        118       0.62       0.78      0.646      0.274\n"
     ]
    },
    {
     "name": "stderr",
     "output_type": "stream",
     "text": [
      "\n"
     ]
    },
    {
     "name": "stdout",
     "output_type": "stream",
     "text": [
      "\n",
      "      Epoch    GPU_mem   box_loss   cls_loss   dfl_loss  Instances       Size\n"
     ]
    },
    {
     "name": "stderr",
     "output_type": "stream",
     "text": [
      "    129/300      8.95G      1.632      1.633     0.9017          3        640: 100%|██████████| 61/61 [00:50<00:00,  1.22it/s]\n",
      "                 Class     Images  Instances      Box(P          R      mAP50  mAP50-95): 100%|██████████| 4/4 [00:02<00:00,  1.65it/s]"
     ]
    },
    {
     "name": "stdout",
     "output_type": "stream",
     "text": [
      "                   all        118        118      0.588      0.695      0.638      0.306\n"
     ]
    },
    {
     "name": "stderr",
     "output_type": "stream",
     "text": [
      "\n"
     ]
    },
    {
     "name": "stdout",
     "output_type": "stream",
     "text": [
      "\n",
      "      Epoch    GPU_mem   box_loss   cls_loss   dfl_loss  Instances       Size\n"
     ]
    },
    {
     "name": "stderr",
     "output_type": "stream",
     "text": [
      "    130/300      8.79G      1.625      1.587      0.909          5        640: 100%|██████████| 61/61 [00:50<00:00,  1.21it/s]\n",
      "                 Class     Images  Instances      Box(P          R      mAP50  mAP50-95): 100%|██████████| 4/4 [00:02<00:00,  1.67it/s]"
     ]
    },
    {
     "name": "stdout",
     "output_type": "stream",
     "text": [
      "                   all        118        118      0.694      0.636      0.698      0.334\n"
     ]
    },
    {
     "name": "stderr",
     "output_type": "stream",
     "text": [
      "\n"
     ]
    },
    {
     "name": "stdout",
     "output_type": "stream",
     "text": [
      "\n",
      "      Epoch    GPU_mem   box_loss   cls_loss   dfl_loss  Instances       Size\n"
     ]
    },
    {
     "name": "stderr",
     "output_type": "stream",
     "text": [
      "    131/300      8.66G       1.67      1.707     0.8821          4        640: 100%|██████████| 61/61 [00:50<00:00,  1.21it/s]\n",
      "                 Class     Images  Instances      Box(P          R      mAP50  mAP50-95): 100%|██████████| 4/4 [00:02<00:00,  1.63it/s]"
     ]
    },
    {
     "name": "stdout",
     "output_type": "stream",
     "text": [
      "                   all        118        118      0.558      0.737      0.632      0.295\n"
     ]
    },
    {
     "name": "stderr",
     "output_type": "stream",
     "text": [
      "\n"
     ]
    },
    {
     "name": "stdout",
     "output_type": "stream",
     "text": [
      "\n",
      "      Epoch    GPU_mem   box_loss   cls_loss   dfl_loss  Instances       Size\n"
     ]
    },
    {
     "name": "stderr",
     "output_type": "stream",
     "text": [
      "    132/300      8.88G      1.654       1.72     0.9002          2        640: 100%|██████████| 61/61 [00:50<00:00,  1.22it/s]\n",
      "                 Class     Images  Instances      Box(P          R      mAP50  mAP50-95): 100%|██████████| 4/4 [00:02<00:00,  1.65it/s]"
     ]
    },
    {
     "name": "stdout",
     "output_type": "stream",
     "text": [
      "                   all        118        118      0.701      0.661      0.681      0.329\n"
     ]
    },
    {
     "name": "stderr",
     "output_type": "stream",
     "text": [
      "\n"
     ]
    },
    {
     "name": "stdout",
     "output_type": "stream",
     "text": [
      "\n",
      "      Epoch    GPU_mem   box_loss   cls_loss   dfl_loss  Instances       Size\n"
     ]
    },
    {
     "name": "stderr",
     "output_type": "stream",
     "text": [
      "    133/300      8.66G      1.659      1.678     0.8931          5        640: 100%|██████████| 61/61 [00:50<00:00,  1.22it/s]\n",
      "                 Class     Images  Instances      Box(P          R      mAP50  mAP50-95): 100%|██████████| 4/4 [00:02<00:00,  1.65it/s]"
     ]
    },
    {
     "name": "stdout",
     "output_type": "stream",
     "text": [
      "                   all        118        118      0.652      0.661      0.679      0.347\n"
     ]
    },
    {
     "name": "stderr",
     "output_type": "stream",
     "text": [
      "\n"
     ]
    },
    {
     "name": "stdout",
     "output_type": "stream",
     "text": [
      "\n",
      "      Epoch    GPU_mem   box_loss   cls_loss   dfl_loss  Instances       Size\n"
     ]
    },
    {
     "name": "stderr",
     "output_type": "stream",
     "text": [
      "    134/300      8.66G      1.643      1.672     0.8948          3        640: 100%|██████████| 61/61 [00:50<00:00,  1.22it/s]\n",
      "                 Class     Images  Instances      Box(P          R      mAP50  mAP50-95): 100%|██████████| 4/4 [00:02<00:00,  1.68it/s]"
     ]
    },
    {
     "name": "stdout",
     "output_type": "stream",
     "text": [
      "                   all        118        118      0.691      0.665      0.709      0.358\n"
     ]
    },
    {
     "name": "stderr",
     "output_type": "stream",
     "text": [
      "\n"
     ]
    },
    {
     "name": "stdout",
     "output_type": "stream",
     "text": [
      "\n",
      "      Epoch    GPU_mem   box_loss   cls_loss   dfl_loss  Instances       Size\n"
     ]
    },
    {
     "name": "stderr",
     "output_type": "stream",
     "text": [
      "    135/300      8.79G      1.678      1.653      0.878          4        640: 100%|██████████| 61/61 [00:50<00:00,  1.21it/s]\n",
      "                 Class     Images  Instances      Box(P          R      mAP50  mAP50-95): 100%|██████████| 4/4 [00:02<00:00,  1.66it/s]"
     ]
    },
    {
     "name": "stdout",
     "output_type": "stream",
     "text": [
      "                   all        118        118      0.669      0.686      0.694      0.339\n"
     ]
    },
    {
     "name": "stderr",
     "output_type": "stream",
     "text": [
      "\n"
     ]
    },
    {
     "name": "stdout",
     "output_type": "stream",
     "text": [
      "\n",
      "      Epoch    GPU_mem   box_loss   cls_loss   dfl_loss  Instances       Size\n"
     ]
    },
    {
     "name": "stderr",
     "output_type": "stream",
     "text": [
      "    136/300      8.88G        1.6      1.759     0.8804          2        640: 100%|██████████| 61/61 [00:50<00:00,  1.22it/s]\n",
      "                 Class     Images  Instances      Box(P          R      mAP50  mAP50-95): 100%|██████████| 4/4 [00:02<00:00,  1.68it/s]"
     ]
    },
    {
     "name": "stdout",
     "output_type": "stream",
     "text": [
      "                   all        118        118       0.62      0.678      0.656      0.291\n"
     ]
    },
    {
     "name": "stderr",
     "output_type": "stream",
     "text": [
      "\n"
     ]
    },
    {
     "name": "stdout",
     "output_type": "stream",
     "text": [
      "\n",
      "      Epoch    GPU_mem   box_loss   cls_loss   dfl_loss  Instances       Size\n"
     ]
    },
    {
     "name": "stderr",
     "output_type": "stream",
     "text": [
      "    137/300      8.95G      1.647      1.743     0.8865          2        640: 100%|██████████| 61/61 [00:50<00:00,  1.22it/s]\n",
      "                 Class     Images  Instances      Box(P          R      mAP50  mAP50-95): 100%|██████████| 4/4 [00:02<00:00,  1.66it/s]"
     ]
    },
    {
     "name": "stdout",
     "output_type": "stream",
     "text": [
      "                   all        118        118      0.693      0.602      0.686      0.349\n"
     ]
    },
    {
     "name": "stderr",
     "output_type": "stream",
     "text": [
      "\n"
     ]
    },
    {
     "name": "stdout",
     "output_type": "stream",
     "text": [
      "\n",
      "      Epoch    GPU_mem   box_loss   cls_loss   dfl_loss  Instances       Size\n"
     ]
    },
    {
     "name": "stderr",
     "output_type": "stream",
     "text": [
      "    138/300      8.79G      1.606      1.684     0.8852          2        640: 100%|██████████| 61/61 [00:50<00:00,  1.22it/s]\n",
      "                 Class     Images  Instances      Box(P          R      mAP50  mAP50-95): 100%|██████████| 4/4 [00:02<00:00,  1.59it/s]"
     ]
    },
    {
     "name": "stdout",
     "output_type": "stream",
     "text": [
      "                   all        118        118      0.657      0.644      0.633      0.303\n"
     ]
    },
    {
     "name": "stderr",
     "output_type": "stream",
     "text": [
      "\n"
     ]
    },
    {
     "name": "stdout",
     "output_type": "stream",
     "text": [
      "\n",
      "      Epoch    GPU_mem   box_loss   cls_loss   dfl_loss  Instances       Size\n"
     ]
    },
    {
     "name": "stderr",
     "output_type": "stream",
     "text": [
      "    139/300      8.94G      1.635      1.659     0.8908          3        640: 100%|██████████| 61/61 [00:50<00:00,  1.22it/s]\n",
      "                 Class     Images  Instances      Box(P          R      mAP50  mAP50-95): 100%|██████████| 4/4 [00:02<00:00,  1.69it/s]"
     ]
    },
    {
     "name": "stdout",
     "output_type": "stream",
     "text": [
      "                   all        118        118      0.659      0.712      0.653      0.314\n"
     ]
    },
    {
     "name": "stderr",
     "output_type": "stream",
     "text": [
      "\n"
     ]
    },
    {
     "name": "stdout",
     "output_type": "stream",
     "text": [
      "\n",
      "      Epoch    GPU_mem   box_loss   cls_loss   dfl_loss  Instances       Size\n"
     ]
    },
    {
     "name": "stderr",
     "output_type": "stream",
     "text": [
      "    140/300      8.88G      1.622      1.619     0.8836          5        640: 100%|██████████| 61/61 [00:50<00:00,  1.22it/s]\n",
      "                 Class     Images  Instances      Box(P          R      mAP50  mAP50-95): 100%|██████████| 4/4 [00:02<00:00,  1.62it/s]"
     ]
    },
    {
     "name": "stdout",
     "output_type": "stream",
     "text": [
      "                   all        118        118      0.724        0.6       0.66      0.305\n"
     ]
    },
    {
     "name": "stderr",
     "output_type": "stream",
     "text": [
      "\n"
     ]
    },
    {
     "name": "stdout",
     "output_type": "stream",
     "text": [
      "\n",
      "      Epoch    GPU_mem   box_loss   cls_loss   dfl_loss  Instances       Size\n"
     ]
    },
    {
     "name": "stderr",
     "output_type": "stream",
     "text": [
      "    141/300      8.95G      1.637      1.651     0.8919          5        640: 100%|██████████| 61/61 [00:50<00:00,  1.22it/s]\n",
      "                 Class     Images  Instances      Box(P          R      mAP50  mAP50-95): 100%|██████████| 4/4 [00:02<00:00,  1.64it/s]"
     ]
    },
    {
     "name": "stdout",
     "output_type": "stream",
     "text": [
      "                   all        118        118      0.638      0.671      0.665      0.314\n"
     ]
    },
    {
     "name": "stderr",
     "output_type": "stream",
     "text": [
      "\n"
     ]
    },
    {
     "name": "stdout",
     "output_type": "stream",
     "text": [
      "\n",
      "      Epoch    GPU_mem   box_loss   cls_loss   dfl_loss  Instances       Size\n"
     ]
    },
    {
     "name": "stderr",
     "output_type": "stream",
     "text": [
      "    142/300      8.65G      1.592      1.687     0.8921          5        640: 100%|██████████| 61/61 [00:49<00:00,  1.22it/s]\n",
      "                 Class     Images  Instances      Box(P          R      mAP50  mAP50-95): 100%|██████████| 4/4 [00:02<00:00,  1.67it/s]"
     ]
    },
    {
     "name": "stdout",
     "output_type": "stream",
     "text": [
      "                   all        118        118       0.74      0.626       0.69      0.346\n"
     ]
    },
    {
     "name": "stderr",
     "output_type": "stream",
     "text": [
      "\n"
     ]
    },
    {
     "name": "stdout",
     "output_type": "stream",
     "text": [
      "\n",
      "      Epoch    GPU_mem   box_loss   cls_loss   dfl_loss  Instances       Size\n"
     ]
    },
    {
     "name": "stderr",
     "output_type": "stream",
     "text": [
      "    143/300      8.65G       1.59      1.614     0.8575          3        640: 100%|██████████| 61/61 [00:50<00:00,  1.21it/s]\n",
      "                 Class     Images  Instances      Box(P          R      mAP50  mAP50-95): 100%|██████████| 4/4 [00:02<00:00,  1.69it/s]"
     ]
    },
    {
     "name": "stdout",
     "output_type": "stream",
     "text": [
      "                   all        118        118      0.719      0.542      0.624      0.308\n"
     ]
    },
    {
     "name": "stderr",
     "output_type": "stream",
     "text": [
      "\n"
     ]
    },
    {
     "name": "stdout",
     "output_type": "stream",
     "text": [
      "\n",
      "      Epoch    GPU_mem   box_loss   cls_loss   dfl_loss  Instances       Size\n"
     ]
    },
    {
     "name": "stderr",
     "output_type": "stream",
     "text": [
      "    144/300      8.88G      1.524       1.52     0.8777          4        640: 100%|██████████| 61/61 [00:50<00:00,  1.22it/s]\n",
      "                 Class     Images  Instances      Box(P          R      mAP50  mAP50-95): 100%|██████████| 4/4 [00:02<00:00,  1.67it/s]"
     ]
    },
    {
     "name": "stdout",
     "output_type": "stream",
     "text": [
      "                   all        118        118      0.688      0.599      0.696      0.355\n"
     ]
    },
    {
     "name": "stderr",
     "output_type": "stream",
     "text": [
      "\n"
     ]
    },
    {
     "name": "stdout",
     "output_type": "stream",
     "text": [
      "\n",
      "      Epoch    GPU_mem   box_loss   cls_loss   dfl_loss  Instances       Size\n"
     ]
    },
    {
     "name": "stderr",
     "output_type": "stream",
     "text": [
      "    145/300      8.66G      1.555      1.502     0.8873          4        640: 100%|██████████| 61/61 [00:50<00:00,  1.22it/s]\n",
      "                 Class     Images  Instances      Box(P          R      mAP50  mAP50-95): 100%|██████████| 4/4 [00:02<00:00,  1.67it/s]"
     ]
    },
    {
     "name": "stdout",
     "output_type": "stream",
     "text": [
      "                   all        118        118      0.618      0.661      0.661      0.326\n"
     ]
    },
    {
     "name": "stderr",
     "output_type": "stream",
     "text": [
      "\n"
     ]
    },
    {
     "name": "stdout",
     "output_type": "stream",
     "text": [
      "\n",
      "      Epoch    GPU_mem   box_loss   cls_loss   dfl_loss  Instances       Size\n"
     ]
    },
    {
     "name": "stderr",
     "output_type": "stream",
     "text": [
      "    146/300      8.65G      1.593      1.569     0.8785          3        640: 100%|██████████| 61/61 [00:50<00:00,  1.22it/s]\n",
      "                 Class     Images  Instances      Box(P          R      mAP50  mAP50-95): 100%|██████████| 4/4 [00:02<00:00,  1.64it/s]"
     ]
    },
    {
     "name": "stdout",
     "output_type": "stream",
     "text": [
      "                   all        118        118      0.658      0.602       0.65      0.307\n"
     ]
    },
    {
     "name": "stderr",
     "output_type": "stream",
     "text": [
      "\n"
     ]
    },
    {
     "name": "stdout",
     "output_type": "stream",
     "text": [
      "\n",
      "      Epoch    GPU_mem   box_loss   cls_loss   dfl_loss  Instances       Size\n"
     ]
    },
    {
     "name": "stderr",
     "output_type": "stream",
     "text": [
      "    147/300      8.65G      1.579        1.6     0.8854          2        640: 100%|██████████| 61/61 [00:50<00:00,  1.21it/s]\n",
      "                 Class     Images  Instances      Box(P          R      mAP50  mAP50-95): 100%|██████████| 4/4 [00:02<00:00,  1.69it/s]"
     ]
    },
    {
     "name": "stdout",
     "output_type": "stream",
     "text": [
      "                   all        118        118      0.668      0.686      0.662      0.337\n"
     ]
    },
    {
     "name": "stderr",
     "output_type": "stream",
     "text": [
      "\n"
     ]
    },
    {
     "name": "stdout",
     "output_type": "stream",
     "text": [
      "\n",
      "      Epoch    GPU_mem   box_loss   cls_loss   dfl_loss  Instances       Size\n"
     ]
    },
    {
     "name": "stderr",
     "output_type": "stream",
     "text": [
      "    148/300      8.88G      1.568      1.549      0.878          4        640: 100%|██████████| 61/61 [00:50<00:00,  1.22it/s]\n",
      "                 Class     Images  Instances      Box(P          R      mAP50  mAP50-95): 100%|██████████| 4/4 [00:02<00:00,  1.68it/s]"
     ]
    },
    {
     "name": "stdout",
     "output_type": "stream",
     "text": [
      "                   all        118        118      0.616      0.746      0.703      0.367\n"
     ]
    },
    {
     "name": "stderr",
     "output_type": "stream",
     "text": [
      "\n"
     ]
    },
    {
     "name": "stdout",
     "output_type": "stream",
     "text": [
      "\n",
      "      Epoch    GPU_mem   box_loss   cls_loss   dfl_loss  Instances       Size\n"
     ]
    },
    {
     "name": "stderr",
     "output_type": "stream",
     "text": [
      "    149/300      8.66G      1.567       1.63     0.8913          6        640: 100%|██████████| 61/61 [00:50<00:00,  1.22it/s]\n",
      "                 Class     Images  Instances      Box(P          R      mAP50  mAP50-95): 100%|██████████| 4/4 [00:02<00:00,  1.65it/s]"
     ]
    },
    {
     "name": "stdout",
     "output_type": "stream",
     "text": [
      "                   all        118        118       0.64      0.661      0.674      0.343\n"
     ]
    },
    {
     "name": "stderr",
     "output_type": "stream",
     "text": [
      "\n"
     ]
    },
    {
     "name": "stdout",
     "output_type": "stream",
     "text": [
      "\n",
      "      Epoch    GPU_mem   box_loss   cls_loss   dfl_loss  Instances       Size\n"
     ]
    },
    {
     "name": "stderr",
     "output_type": "stream",
     "text": [
      "    150/300      8.79G       1.56      1.619     0.8796          2        640: 100%|██████████| 61/61 [00:50<00:00,  1.22it/s]\n",
      "                 Class     Images  Instances      Box(P          R      mAP50  mAP50-95): 100%|██████████| 4/4 [00:02<00:00,  1.68it/s]"
     ]
    },
    {
     "name": "stdout",
     "output_type": "stream",
     "text": [
      "                   all        118        118      0.652      0.668      0.673      0.347\n"
     ]
    },
    {
     "name": "stderr",
     "output_type": "stream",
     "text": [
      "\n"
     ]
    },
    {
     "name": "stdout",
     "output_type": "stream",
     "text": [
      "\n",
      "      Epoch    GPU_mem   box_loss   cls_loss   dfl_loss  Instances       Size\n"
     ]
    },
    {
     "name": "stderr",
     "output_type": "stream",
     "text": [
      "    151/300      8.65G      1.541      1.514     0.8802          1        640: 100%|██████████| 61/61 [00:50<00:00,  1.21it/s]\n",
      "                 Class     Images  Instances      Box(P          R      mAP50  mAP50-95): 100%|██████████| 4/4 [00:02<00:00,  1.67it/s]"
     ]
    },
    {
     "name": "stdout",
     "output_type": "stream",
     "text": [
      "                   all        118        118      0.625      0.551      0.619      0.329\n"
     ]
    },
    {
     "name": "stderr",
     "output_type": "stream",
     "text": [
      "\n"
     ]
    },
    {
     "name": "stdout",
     "output_type": "stream",
     "text": [
      "\n",
      "      Epoch    GPU_mem   box_loss   cls_loss   dfl_loss  Instances       Size\n"
     ]
    },
    {
     "name": "stderr",
     "output_type": "stream",
     "text": [
      "    152/300      8.88G       1.52      1.598      0.863          3        640: 100%|██████████| 61/61 [00:50<00:00,  1.22it/s]\n",
      "                 Class     Images  Instances      Box(P          R      mAP50  mAP50-95): 100%|██████████| 4/4 [00:02<00:00,  1.64it/s]"
     ]
    },
    {
     "name": "stdout",
     "output_type": "stream",
     "text": [
      "                   all        118        118      0.661      0.661      0.692       0.37\n"
     ]
    },
    {
     "name": "stderr",
     "output_type": "stream",
     "text": [
      "\n"
     ]
    },
    {
     "name": "stdout",
     "output_type": "stream",
     "text": [
      "\n",
      "      Epoch    GPU_mem   box_loss   cls_loss   dfl_loss  Instances       Size\n"
     ]
    },
    {
     "name": "stderr",
     "output_type": "stream",
     "text": [
      "    153/300      8.66G       1.56      1.569     0.8788          3        640: 100%|██████████| 61/61 [00:50<00:00,  1.22it/s]\n",
      "                 Class     Images  Instances      Box(P          R      mAP50  mAP50-95): 100%|██████████| 4/4 [00:02<00:00,  1.63it/s]"
     ]
    },
    {
     "name": "stdout",
     "output_type": "stream",
     "text": [
      "                   all        118        118      0.721      0.658       0.74      0.381\n"
     ]
    },
    {
     "name": "stderr",
     "output_type": "stream",
     "text": [
      "\n"
     ]
    },
    {
     "name": "stdout",
     "output_type": "stream",
     "text": [
      "\n",
      "      Epoch    GPU_mem   box_loss   cls_loss   dfl_loss  Instances       Size\n"
     ]
    },
    {
     "name": "stderr",
     "output_type": "stream",
     "text": [
      "    154/300      8.79G      1.581      1.511     0.8953          6        640: 100%|██████████| 61/61 [00:50<00:00,  1.22it/s]\n",
      "                 Class     Images  Instances      Box(P          R      mAP50  mAP50-95): 100%|██████████| 4/4 [00:02<00:00,  1.63it/s]"
     ]
    },
    {
     "name": "stdout",
     "output_type": "stream",
     "text": [
      "                   all        118        118      0.641      0.746        0.7      0.387\n"
     ]
    },
    {
     "name": "stderr",
     "output_type": "stream",
     "text": [
      "\n"
     ]
    },
    {
     "name": "stdout",
     "output_type": "stream",
     "text": [
      "\n",
      "      Epoch    GPU_mem   box_loss   cls_loss   dfl_loss  Instances       Size\n"
     ]
    },
    {
     "name": "stderr",
     "output_type": "stream",
     "text": [
      "    155/300      8.78G      1.601      1.628     0.8946          2        640: 100%|██████████| 61/61 [00:50<00:00,  1.21it/s]\n",
      "                 Class     Images  Instances      Box(P          R      mAP50  mAP50-95): 100%|██████████| 4/4 [00:02<00:00,  1.66it/s]"
     ]
    },
    {
     "name": "stdout",
     "output_type": "stream",
     "text": [
      "                   all        118        118       0.66      0.729      0.737      0.388\n"
     ]
    },
    {
     "name": "stderr",
     "output_type": "stream",
     "text": [
      "\n"
     ]
    },
    {
     "name": "stdout",
     "output_type": "stream",
     "text": [
      "\n",
      "      Epoch    GPU_mem   box_loss   cls_loss   dfl_loss  Instances       Size\n"
     ]
    },
    {
     "name": "stderr",
     "output_type": "stream",
     "text": [
      "    156/300      8.88G      1.611      1.641     0.8709          1        640: 100%|██████████| 61/61 [00:50<00:00,  1.22it/s]\n",
      "                 Class     Images  Instances      Box(P          R      mAP50  mAP50-95): 100%|██████████| 4/4 [00:02<00:00,  1.67it/s]"
     ]
    },
    {
     "name": "stdout",
     "output_type": "stream",
     "text": [
      "                   all        118        118      0.598      0.729      0.684      0.339\n"
     ]
    },
    {
     "name": "stderr",
     "output_type": "stream",
     "text": [
      "\n"
     ]
    },
    {
     "name": "stdout",
     "output_type": "stream",
     "text": [
      "\n",
      "      Epoch    GPU_mem   box_loss   cls_loss   dfl_loss  Instances       Size\n"
     ]
    },
    {
     "name": "stderr",
     "output_type": "stream",
     "text": [
      "    157/300      8.95G      1.548      1.626     0.8697          4        640: 100%|██████████| 61/61 [00:50<00:00,  1.22it/s]\n",
      "                 Class     Images  Instances      Box(P          R      mAP50  mAP50-95): 100%|██████████| 4/4 [00:02<00:00,  1.68it/s]"
     ]
    },
    {
     "name": "stdout",
     "output_type": "stream",
     "text": [
      "                   all        118        118      0.669      0.687      0.678      0.322\n"
     ]
    },
    {
     "name": "stderr",
     "output_type": "stream",
     "text": [
      "\n"
     ]
    },
    {
     "name": "stdout",
     "output_type": "stream",
     "text": [
      "\n",
      "      Epoch    GPU_mem   box_loss   cls_loss   dfl_loss  Instances       Size\n"
     ]
    },
    {
     "name": "stderr",
     "output_type": "stream",
     "text": [
      "    158/300      8.79G      1.548      1.651     0.8724          5        640: 100%|██████████| 61/61 [00:50<00:00,  1.22it/s]\n",
      "                 Class     Images  Instances      Box(P          R      mAP50  mAP50-95): 100%|██████████| 4/4 [00:02<00:00,  1.65it/s]"
     ]
    },
    {
     "name": "stdout",
     "output_type": "stream",
     "text": [
      "                   all        118        118      0.643       0.67      0.679      0.346\n"
     ]
    },
    {
     "name": "stderr",
     "output_type": "stream",
     "text": [
      "\n"
     ]
    },
    {
     "name": "stdout",
     "output_type": "stream",
     "text": [
      "\n",
      "      Epoch    GPU_mem   box_loss   cls_loss   dfl_loss  Instances       Size\n"
     ]
    },
    {
     "name": "stderr",
     "output_type": "stream",
     "text": [
      "    159/300      8.79G      1.497      1.508     0.8649          3        640: 100%|██████████| 61/61 [00:50<00:00,  1.21it/s]\n",
      "                 Class     Images  Instances      Box(P          R      mAP50  mAP50-95): 100%|██████████| 4/4 [00:02<00:00,  1.64it/s]"
     ]
    },
    {
     "name": "stdout",
     "output_type": "stream",
     "text": [
      "                   all        118        118      0.614      0.647      0.658      0.326\n"
     ]
    },
    {
     "name": "stderr",
     "output_type": "stream",
     "text": [
      "\n"
     ]
    },
    {
     "name": "stdout",
     "output_type": "stream",
     "text": [
      "\n",
      "      Epoch    GPU_mem   box_loss   cls_loss   dfl_loss  Instances       Size\n"
     ]
    },
    {
     "name": "stderr",
     "output_type": "stream",
     "text": [
      "    160/300      8.88G       1.51      1.554     0.8656          3        640: 100%|██████████| 61/61 [00:50<00:00,  1.22it/s]\n",
      "                 Class     Images  Instances      Box(P          R      mAP50  mAP50-95): 100%|██████████| 4/4 [00:02<00:00,  1.69it/s]"
     ]
    },
    {
     "name": "stdout",
     "output_type": "stream",
     "text": [
      "                   all        118        118      0.701      0.703      0.727      0.359\n"
     ]
    },
    {
     "name": "stderr",
     "output_type": "stream",
     "text": [
      "\n"
     ]
    },
    {
     "name": "stdout",
     "output_type": "stream",
     "text": [
      "\n",
      "      Epoch    GPU_mem   box_loss   cls_loss   dfl_loss  Instances       Size\n"
     ]
    },
    {
     "name": "stderr",
     "output_type": "stream",
     "text": [
      "    161/300      8.66G      1.513      1.577     0.8788          3        640: 100%|██████████| 61/61 [00:49<00:00,  1.22it/s]\n",
      "                 Class     Images  Instances      Box(P          R      mAP50  mAP50-95): 100%|██████████| 4/4 [00:02<00:00,  1.63it/s]"
     ]
    },
    {
     "name": "stdout",
     "output_type": "stream",
     "text": [
      "                   all        118        118      0.651      0.744      0.731       0.36\n"
     ]
    },
    {
     "name": "stderr",
     "output_type": "stream",
     "text": [
      "\n"
     ]
    },
    {
     "name": "stdout",
     "output_type": "stream",
     "text": [
      "\n",
      "      Epoch    GPU_mem   box_loss   cls_loss   dfl_loss  Instances       Size\n"
     ]
    },
    {
     "name": "stderr",
     "output_type": "stream",
     "text": [
      "    162/300      8.79G      1.501      1.551     0.8674          4        640: 100%|██████████| 61/61 [00:50<00:00,  1.22it/s]\n",
      "                 Class     Images  Instances      Box(P          R      mAP50  mAP50-95): 100%|██████████| 4/4 [00:02<00:00,  1.63it/s]"
     ]
    },
    {
     "name": "stdout",
     "output_type": "stream",
     "text": [
      "                   all        118        118      0.636      0.756      0.752      0.385\n"
     ]
    },
    {
     "name": "stderr",
     "output_type": "stream",
     "text": [
      "\n"
     ]
    },
    {
     "name": "stdout",
     "output_type": "stream",
     "text": [
      "\n",
      "      Epoch    GPU_mem   box_loss   cls_loss   dfl_loss  Instances       Size\n"
     ]
    },
    {
     "name": "stderr",
     "output_type": "stream",
     "text": [
      "    163/300      8.95G      1.502      1.517     0.8674          6        640: 100%|██████████| 61/61 [00:50<00:00,  1.21it/s]\n",
      "                 Class     Images  Instances      Box(P          R      mAP50  mAP50-95): 100%|██████████| 4/4 [00:02<00:00,  1.68it/s]"
     ]
    },
    {
     "name": "stdout",
     "output_type": "stream",
     "text": [
      "                   all        118        118      0.661      0.754      0.728      0.365\n"
     ]
    },
    {
     "name": "stderr",
     "output_type": "stream",
     "text": [
      "\n"
     ]
    },
    {
     "name": "stdout",
     "output_type": "stream",
     "text": [
      "\n",
      "      Epoch    GPU_mem   box_loss   cls_loss   dfl_loss  Instances       Size\n"
     ]
    },
    {
     "name": "stderr",
     "output_type": "stream",
     "text": [
      "    164/300      8.88G      1.526      1.542     0.8761          5        640: 100%|██████████| 61/61 [00:50<00:00,  1.22it/s]\n",
      "                 Class     Images  Instances      Box(P          R      mAP50  mAP50-95): 100%|██████████| 4/4 [00:02<00:00,  1.64it/s]"
     ]
    },
    {
     "name": "stdout",
     "output_type": "stream",
     "text": [
      "                   all        118        118      0.622       0.72      0.697      0.362\n"
     ]
    },
    {
     "name": "stderr",
     "output_type": "stream",
     "text": [
      "\n"
     ]
    },
    {
     "name": "stdout",
     "output_type": "stream",
     "text": [
      "\n",
      "      Epoch    GPU_mem   box_loss   cls_loss   dfl_loss  Instances       Size\n"
     ]
    },
    {
     "name": "stderr",
     "output_type": "stream",
     "text": [
      "    165/300      8.95G      1.516      1.571      0.877          2        640: 100%|██████████| 61/61 [00:50<00:00,  1.22it/s]\n",
      "                 Class     Images  Instances      Box(P          R      mAP50  mAP50-95): 100%|██████████| 4/4 [00:02<00:00,  1.66it/s]"
     ]
    },
    {
     "name": "stdout",
     "output_type": "stream",
     "text": [
      "                   all        118        118      0.734      0.669      0.706      0.341\n"
     ]
    },
    {
     "name": "stderr",
     "output_type": "stream",
     "text": [
      "\n"
     ]
    },
    {
     "name": "stdout",
     "output_type": "stream",
     "text": [
      "\n",
      "      Epoch    GPU_mem   box_loss   cls_loss   dfl_loss  Instances       Size\n"
     ]
    },
    {
     "name": "stderr",
     "output_type": "stream",
     "text": [
      "    166/300      8.79G      1.487      1.494     0.8678          3        640: 100%|██████████| 61/61 [00:50<00:00,  1.22it/s]\n",
      "                 Class     Images  Instances      Box(P          R      mAP50  mAP50-95): 100%|██████████| 4/4 [00:02<00:00,  1.66it/s]"
     ]
    },
    {
     "name": "stdout",
     "output_type": "stream",
     "text": [
      "                   all        118        118      0.604      0.686      0.665       0.34\n"
     ]
    },
    {
     "name": "stderr",
     "output_type": "stream",
     "text": [
      "\n"
     ]
    },
    {
     "name": "stdout",
     "output_type": "stream",
     "text": [
      "\n",
      "      Epoch    GPU_mem   box_loss   cls_loss   dfl_loss  Instances       Size\n"
     ]
    },
    {
     "name": "stderr",
     "output_type": "stream",
     "text": [
      "    167/300      8.65G       1.47      1.469     0.8554          2        640: 100%|██████████| 61/61 [00:50<00:00,  1.22it/s]\n",
      "                 Class     Images  Instances      Box(P          R      mAP50  mAP50-95): 100%|██████████| 4/4 [00:02<00:00,  1.70it/s]"
     ]
    },
    {
     "name": "stdout",
     "output_type": "stream",
     "text": [
      "                   all        118        118      0.627      0.555      0.628      0.301\n"
     ]
    },
    {
     "name": "stderr",
     "output_type": "stream",
     "text": [
      "\n"
     ]
    },
    {
     "name": "stdout",
     "output_type": "stream",
     "text": [
      "\n",
      "      Epoch    GPU_mem   box_loss   cls_loss   dfl_loss  Instances       Size\n"
     ]
    },
    {
     "name": "stderr",
     "output_type": "stream",
     "text": [
      "    168/300      8.58G      1.465       1.52     0.8615          7        640: 100%|██████████| 61/61 [00:50<00:00,  1.21it/s]\n",
      "                 Class     Images  Instances      Box(P          R      mAP50  mAP50-95): 100%|██████████| 4/4 [00:02<00:00,  1.66it/s]"
     ]
    },
    {
     "name": "stdout",
     "output_type": "stream",
     "text": [
      "                   all        118        118      0.662      0.754      0.725      0.338\n"
     ]
    },
    {
     "name": "stderr",
     "output_type": "stream",
     "text": [
      "\n"
     ]
    },
    {
     "name": "stdout",
     "output_type": "stream",
     "text": [
      "\n",
      "      Epoch    GPU_mem   box_loss   cls_loss   dfl_loss  Instances       Size\n"
     ]
    },
    {
     "name": "stderr",
     "output_type": "stream",
     "text": [
      "    169/300       8.8G      1.474      1.497     0.8592          4        640: 100%|██████████| 61/61 [00:49<00:00,  1.22it/s]\n",
      "                 Class     Images  Instances      Box(P          R      mAP50  mAP50-95): 100%|██████████| 4/4 [00:02<00:00,  1.64it/s]"
     ]
    },
    {
     "name": "stdout",
     "output_type": "stream",
     "text": [
      "                   all        118        118      0.624      0.703      0.689      0.376\n"
     ]
    },
    {
     "name": "stderr",
     "output_type": "stream",
     "text": [
      "\n"
     ]
    },
    {
     "name": "stdout",
     "output_type": "stream",
     "text": [
      "\n",
      "      Epoch    GPU_mem   box_loss   cls_loss   dfl_loss  Instances       Size\n"
     ]
    },
    {
     "name": "stderr",
     "output_type": "stream",
     "text": [
      "    170/300      8.65G      1.507      1.529     0.8658          1        640: 100%|██████████| 61/61 [00:50<00:00,  1.22it/s]\n",
      "                 Class     Images  Instances      Box(P          R      mAP50  mAP50-95): 100%|██████████| 4/4 [00:02<00:00,  1.65it/s]"
     ]
    },
    {
     "name": "stdout",
     "output_type": "stream",
     "text": [
      "                   all        118        118      0.623      0.653       0.71      0.369\n"
     ]
    },
    {
     "name": "stderr",
     "output_type": "stream",
     "text": [
      "\n"
     ]
    },
    {
     "name": "stdout",
     "output_type": "stream",
     "text": [
      "\n",
      "      Epoch    GPU_mem   box_loss   cls_loss   dfl_loss  Instances       Size\n"
     ]
    },
    {
     "name": "stderr",
     "output_type": "stream",
     "text": [
      "    171/300      8.65G      1.578      1.486     0.8847          2        640: 100%|██████████| 61/61 [00:50<00:00,  1.21it/s]\n",
      "                 Class     Images  Instances      Box(P          R      mAP50  mAP50-95): 100%|██████████| 4/4 [00:02<00:00,  1.67it/s]"
     ]
    },
    {
     "name": "stdout",
     "output_type": "stream",
     "text": [
      "                   all        118        118      0.748      0.579      0.706      0.364\n"
     ]
    },
    {
     "name": "stderr",
     "output_type": "stream",
     "text": [
      "\n"
     ]
    },
    {
     "name": "stdout",
     "output_type": "stream",
     "text": [
      "\n",
      "      Epoch    GPU_mem   box_loss   cls_loss   dfl_loss  Instances       Size\n"
     ]
    },
    {
     "name": "stderr",
     "output_type": "stream",
     "text": [
      "    172/300      8.88G       1.45      1.491     0.8645          4        640: 100%|██████████| 61/61 [00:50<00:00,  1.21it/s]\n",
      "                 Class     Images  Instances      Box(P          R      mAP50  mAP50-95): 100%|██████████| 4/4 [00:02<00:00,  1.67it/s]"
     ]
    },
    {
     "name": "stdout",
     "output_type": "stream",
     "text": [
      "                   all        118        118      0.653      0.687      0.708       0.37\n"
     ]
    },
    {
     "name": "stderr",
     "output_type": "stream",
     "text": [
      "\n"
     ]
    },
    {
     "name": "stdout",
     "output_type": "stream",
     "text": [
      "\n",
      "      Epoch    GPU_mem   box_loss   cls_loss   dfl_loss  Instances       Size\n"
     ]
    },
    {
     "name": "stderr",
     "output_type": "stream",
     "text": [
      "    173/300      8.67G      1.521      1.493     0.8662          3        640: 100%|██████████| 61/61 [00:50<00:00,  1.21it/s]\n",
      "                 Class     Images  Instances      Box(P          R      mAP50  mAP50-95): 100%|██████████| 4/4 [00:02<00:00,  1.66it/s]"
     ]
    },
    {
     "name": "stdout",
     "output_type": "stream",
     "text": [
      "                   all        118        118      0.594       0.72      0.691      0.343\n"
     ]
    },
    {
     "name": "stderr",
     "output_type": "stream",
     "text": [
      "\n"
     ]
    },
    {
     "name": "stdout",
     "output_type": "stream",
     "text": [
      "\n",
      "      Epoch    GPU_mem   box_loss   cls_loss   dfl_loss  Instances       Size\n"
     ]
    },
    {
     "name": "stderr",
     "output_type": "stream",
     "text": [
      "    174/300      8.94G      1.519      1.531     0.8761          5        640: 100%|██████████| 61/61 [00:50<00:00,  1.22it/s]\n",
      "                 Class     Images  Instances      Box(P          R      mAP50  mAP50-95): 100%|██████████| 4/4 [00:02<00:00,  1.70it/s]"
     ]
    },
    {
     "name": "stdout",
     "output_type": "stream",
     "text": [
      "                   all        118        118      0.706      0.686      0.714      0.349\n"
     ]
    },
    {
     "name": "stderr",
     "output_type": "stream",
     "text": [
      "\n"
     ]
    },
    {
     "name": "stdout",
     "output_type": "stream",
     "text": [
      "\n",
      "      Epoch    GPU_mem   box_loss   cls_loss   dfl_loss  Instances       Size\n"
     ]
    },
    {
     "name": "stderr",
     "output_type": "stream",
     "text": [
      "    175/300      8.66G      1.441      1.428     0.8665          3        640: 100%|██████████| 61/61 [00:50<00:00,  1.22it/s]\n",
      "                 Class     Images  Instances      Box(P          R      mAP50  mAP50-95): 100%|██████████| 4/4 [00:02<00:00,  1.65it/s]"
     ]
    },
    {
     "name": "stdout",
     "output_type": "stream",
     "text": [
      "                   all        118        118      0.678      0.695      0.731      0.348\n"
     ]
    },
    {
     "name": "stderr",
     "output_type": "stream",
     "text": [
      "\n"
     ]
    },
    {
     "name": "stdout",
     "output_type": "stream",
     "text": [
      "\n",
      "      Epoch    GPU_mem   box_loss   cls_loss   dfl_loss  Instances       Size\n"
     ]
    },
    {
     "name": "stderr",
     "output_type": "stream",
     "text": [
      "    176/300      8.88G       1.45       1.47     0.8702          4        640: 100%|██████████| 61/61 [00:50<00:00,  1.22it/s]\n",
      "                 Class     Images  Instances      Box(P          R      mAP50  mAP50-95): 100%|██████████| 4/4 [00:02<00:00,  1.64it/s]"
     ]
    },
    {
     "name": "stdout",
     "output_type": "stream",
     "text": [
      "                   all        118        118       0.76      0.627       0.75       0.36\n"
     ]
    },
    {
     "name": "stderr",
     "output_type": "stream",
     "text": [
      "\n"
     ]
    },
    {
     "name": "stdout",
     "output_type": "stream",
     "text": [
      "\n",
      "      Epoch    GPU_mem   box_loss   cls_loss   dfl_loss  Instances       Size\n"
     ]
    },
    {
     "name": "stderr",
     "output_type": "stream",
     "text": [
      "    177/300      8.66G      1.498      1.541     0.8567          3        640: 100%|██████████| 61/61 [00:50<00:00,  1.22it/s]\n",
      "                 Class     Images  Instances      Box(P          R      mAP50  mAP50-95): 100%|██████████| 4/4 [00:02<00:00,  1.61it/s]"
     ]
    },
    {
     "name": "stdout",
     "output_type": "stream",
     "text": [
      "                   all        118        118      0.633      0.712      0.711      0.369\n"
     ]
    },
    {
     "name": "stderr",
     "output_type": "stream",
     "text": [
      "\n"
     ]
    },
    {
     "name": "stdout",
     "output_type": "stream",
     "text": [
      "\n",
      "      Epoch    GPU_mem   box_loss   cls_loss   dfl_loss  Instances       Size\n"
     ]
    },
    {
     "name": "stderr",
     "output_type": "stream",
     "text": [
      "    178/300      8.66G      1.423      1.444     0.8754          3        640: 100%|██████████| 61/61 [00:50<00:00,  1.21it/s]\n",
      "                 Class     Images  Instances      Box(P          R      mAP50  mAP50-95): 100%|██████████| 4/4 [00:02<00:00,  1.66it/s]"
     ]
    },
    {
     "name": "stdout",
     "output_type": "stream",
     "text": [
      "                   all        118        118      0.589      0.704      0.691       0.34\n"
     ]
    },
    {
     "name": "stderr",
     "output_type": "stream",
     "text": [
      "\n"
     ]
    },
    {
     "name": "stdout",
     "output_type": "stream",
     "text": [
      "\n",
      "      Epoch    GPU_mem   box_loss   cls_loss   dfl_loss  Instances       Size\n"
     ]
    },
    {
     "name": "stderr",
     "output_type": "stream",
     "text": [
      "    179/300      8.79G      1.431      1.488     0.8745          2        640: 100%|██████████| 61/61 [00:50<00:00,  1.21it/s]\n",
      "                 Class     Images  Instances      Box(P          R      mAP50  mAP50-95): 100%|██████████| 4/4 [00:02<00:00,  1.65it/s]"
     ]
    },
    {
     "name": "stdout",
     "output_type": "stream",
     "text": [
      "                   all        118        118      0.639      0.719      0.684      0.339\n"
     ]
    },
    {
     "name": "stderr",
     "output_type": "stream",
     "text": [
      "\n"
     ]
    },
    {
     "name": "stdout",
     "output_type": "stream",
     "text": [
      "\n",
      "      Epoch    GPU_mem   box_loss   cls_loss   dfl_loss  Instances       Size\n"
     ]
    },
    {
     "name": "stderr",
     "output_type": "stream",
     "text": [
      "    180/300      8.88G      1.434      1.418     0.8493          7        640: 100%|██████████| 61/61 [00:50<00:00,  1.22it/s]\n",
      "                 Class     Images  Instances      Box(P          R      mAP50  mAP50-95): 100%|██████████| 4/4 [00:02<00:00,  1.67it/s]"
     ]
    },
    {
     "name": "stdout",
     "output_type": "stream",
     "text": [
      "                   all        118        118      0.665      0.703      0.708      0.338\n"
     ]
    },
    {
     "name": "stderr",
     "output_type": "stream",
     "text": [
      "\n"
     ]
    },
    {
     "name": "stdout",
     "output_type": "stream",
     "text": [
      "\n",
      "      Epoch    GPU_mem   box_loss   cls_loss   dfl_loss  Instances       Size\n"
     ]
    },
    {
     "name": "stderr",
     "output_type": "stream",
     "text": [
      "    181/300      8.95G      1.466      1.428     0.8492          1        640: 100%|██████████| 61/61 [00:50<00:00,  1.22it/s]\n",
      "                 Class     Images  Instances      Box(P          R      mAP50  mAP50-95): 100%|██████████| 4/4 [00:02<00:00,  1.65it/s]"
     ]
    },
    {
     "name": "stdout",
     "output_type": "stream",
     "text": [
      "                   all        118        118      0.648      0.703      0.683       0.35\n"
     ]
    },
    {
     "name": "stderr",
     "output_type": "stream",
     "text": [
      "\n"
     ]
    },
    {
     "name": "stdout",
     "output_type": "stream",
     "text": [
      "\n",
      "      Epoch    GPU_mem   box_loss   cls_loss   dfl_loss  Instances       Size\n"
     ]
    },
    {
     "name": "stderr",
     "output_type": "stream",
     "text": [
      "    182/300      8.79G      1.408      1.409     0.8606          3        640: 100%|██████████| 61/61 [00:50<00:00,  1.21it/s]\n",
      "                 Class     Images  Instances      Box(P          R      mAP50  mAP50-95): 100%|██████████| 4/4 [00:02<00:00,  1.61it/s]"
     ]
    },
    {
     "name": "stdout",
     "output_type": "stream",
     "text": [
      "                   all        118        118      0.681      0.636      0.672      0.322\n"
     ]
    },
    {
     "name": "stderr",
     "output_type": "stream",
     "text": [
      "\n"
     ]
    },
    {
     "name": "stdout",
     "output_type": "stream",
     "text": [
      "\n",
      "      Epoch    GPU_mem   box_loss   cls_loss   dfl_loss  Instances       Size\n"
     ]
    },
    {
     "name": "stderr",
     "output_type": "stream",
     "text": [
      "    183/300      8.79G       1.36      1.356     0.8561          4        640: 100%|██████████| 61/61 [00:50<00:00,  1.21it/s]\n",
      "                 Class     Images  Instances      Box(P          R      mAP50  mAP50-95): 100%|██████████| 4/4 [00:02<00:00,  1.68it/s]"
     ]
    },
    {
     "name": "stdout",
     "output_type": "stream",
     "text": [
      "                   all        118        118      0.711      0.653      0.713      0.342\n"
     ]
    },
    {
     "name": "stderr",
     "output_type": "stream",
     "text": [
      "\n"
     ]
    },
    {
     "name": "stdout",
     "output_type": "stream",
     "text": [
      "\n",
      "      Epoch    GPU_mem   box_loss   cls_loss   dfl_loss  Instances       Size\n"
     ]
    },
    {
     "name": "stderr",
     "output_type": "stream",
     "text": [
      "    184/300      8.88G      1.374      1.332     0.8665          8        640: 100%|██████████| 61/61 [00:49<00:00,  1.22it/s]\n",
      "                 Class     Images  Instances      Box(P          R      mAP50  mAP50-95): 100%|██████████| 4/4 [00:02<00:00,  1.65it/s]"
     ]
    },
    {
     "name": "stdout",
     "output_type": "stream",
     "text": [
      "                   all        118        118       0.67      0.724      0.725      0.367\n"
     ]
    },
    {
     "name": "stderr",
     "output_type": "stream",
     "text": [
      "\n"
     ]
    },
    {
     "name": "stdout",
     "output_type": "stream",
     "text": [
      "\n",
      "      Epoch    GPU_mem   box_loss   cls_loss   dfl_loss  Instances       Size\n"
     ]
    },
    {
     "name": "stderr",
     "output_type": "stream",
     "text": [
      "    185/300      8.66G      1.432      1.434      0.855          4        640: 100%|██████████| 61/61 [00:50<00:00,  1.22it/s]\n",
      "                 Class     Images  Instances      Box(P          R      mAP50  mAP50-95): 100%|██████████| 4/4 [00:02<00:00,  1.63it/s]"
     ]
    },
    {
     "name": "stdout",
     "output_type": "stream",
     "text": [
      "                   all        118        118      0.665      0.703       0.72       0.36\n"
     ]
    },
    {
     "name": "stderr",
     "output_type": "stream",
     "text": [
      "\n"
     ]
    },
    {
     "name": "stdout",
     "output_type": "stream",
     "text": [
      "\n",
      "      Epoch    GPU_mem   box_loss   cls_loss   dfl_loss  Instances       Size\n"
     ]
    },
    {
     "name": "stderr",
     "output_type": "stream",
     "text": [
      "    186/300      8.79G      1.434      1.426     0.8507          2        640: 100%|██████████| 61/61 [00:50<00:00,  1.22it/s]\n",
      "                 Class     Images  Instances      Box(P          R      mAP50  mAP50-95): 100%|██████████| 4/4 [00:02<00:00,  1.67it/s]"
     ]
    },
    {
     "name": "stdout",
     "output_type": "stream",
     "text": [
      "                   all        118        118       0.72      0.644      0.714      0.355\n"
     ]
    },
    {
     "name": "stderr",
     "output_type": "stream",
     "text": [
      "\n"
     ]
    },
    {
     "name": "stdout",
     "output_type": "stream",
     "text": [
      "\n",
      "      Epoch    GPU_mem   box_loss   cls_loss   dfl_loss  Instances       Size\n"
     ]
    },
    {
     "name": "stderr",
     "output_type": "stream",
     "text": [
      "    187/300      8.95G      1.406      1.444     0.8639          2        640: 100%|██████████| 61/61 [00:50<00:00,  1.21it/s]\n",
      "                 Class     Images  Instances      Box(P          R      mAP50  mAP50-95): 100%|██████████| 4/4 [00:02<00:00,  1.64it/s]"
     ]
    },
    {
     "name": "stdout",
     "output_type": "stream",
     "text": [
      "                   all        118        118       0.66      0.706      0.705      0.353\n",
      "\u001b[34m\u001b[1mEarlyStopping: \u001b[0mTraining stopped early as no improvement observed in last 100 epochs. Best results observed at epoch 87, best model saved as best.pt.\n",
      "To update EarlyStopping(patience=100) pass a new patience value, i.e. `patience=300` or use `patience=0` to disable EarlyStopping.\n"
     ]
    },
    {
     "name": "stderr",
     "output_type": "stream",
     "text": [
      "\n"
     ]
    },
    {
     "name": "stdout",
     "output_type": "stream",
     "text": [
      "\n",
      "187 epochs completed in 2.859 hours.\n",
      "Optimizer stripped from runs\\detect\\train13\\weights\\last.pt, 40.5MB\n",
      "Optimizer stripped from runs\\detect\\train13\\weights\\best.pt, 40.5MB\n",
      "\n",
      "Validating runs\\detect\\train13\\weights\\best.pt...\n",
      "Ultralytics 8.3.25  Python-3.12.4 torch-2.5.1+cu121 CUDA:0 (NVIDIA GeForce GTX 1080 Ti, 11264MiB)\n",
      "YOLO11m summary (fused): 303 layers, 20,030,803 parameters, 0 gradients, 67.6 GFLOPs\n"
     ]
    },
    {
     "name": "stderr",
     "output_type": "stream",
     "text": [
      "                 Class     Images  Instances      Box(P          R      mAP50  mAP50-95): 100%|██████████| 4/4 [00:03<00:00,  1.28it/s]\n"
     ]
    },
    {
     "name": "stdout",
     "output_type": "stream",
     "text": [
      "                   all        118        118      0.628      0.745      0.743      0.398\n",
      "Speed: 0.6ms preprocess, 14.3ms inference, 0.0ms loss, 4.1ms postprocess per image\n",
      "Results saved to \u001b[1mruns\\detect\\train13\u001b[0m\n"
     ]
    }
   ],
   "source": [
    "results = model.train(\n",
    "    data=\"yolov9/dataset.yaml\",    # 你的資料集設定檔\n",
    "    epochs=300,\n",
    "    batch=16,\n",
    "    lr0=0.003,\n",
    "    weight_decay=0.001,\n",
    "    cls=1,\n",
    "    box=8.5,\n",
    "    optimizer=\"AdamW\",\n",
    "    plots=True,\n",
    "    verbose=True,\n",
    "    \n",
    "\n",
    "    # # ------------------------------\n",
    "    # # 以下為調整後的資料增強參數設定\n",
    "    # # ------------------------------\n",
    "    \n",
    "    # # 幾何轉換\n",
    "    # degrees=5.0,       # 小幅度旋轉，避免破壞結構\n",
    "    # translate=0.1,     # 平移\n",
    "    # scale=0.1,         # 縮放\n",
    "    # shear=0.0,         # 不做剪切\n",
    "    # perspective=0.0,   # 不做透視\n",
    "    \n",
    "    # # 翻轉\n",
    "    # flipud=0.0,        # 垂直翻轉機率 0%，避免肺部上下顛倒\n",
    "    # fliplr=0.3,        # 水平翻轉機率 30%，平衡增強與臨床合理性\n",
    "    \n",
    "    # # 強度/對比度調整\n",
    "    # hsv_h=0.0,         # 不做色相調整\n",
    "    # hsv_s=0.0,         # 不做飽和度調整\n",
    "    # hsv_v=0.1,         # 亮度微調10%，避免過度改變HU\n",
    "    \n",
    "    # # 複合增強\n",
    "    # mixup=0.1,         # 混合影像機率降低至10%\n",
    "    # mosaic=0.1,        # 拼接影像機率降低至10%\n",
    ")\n"
   ]
  },
  {
   "cell_type": "code",
   "execution_count": 5,
   "metadata": {},
   "outputs": [
    {
     "name": "stdout",
     "output_type": "stream",
     "text": [
      "Ultralytics 8.3.25  Python-3.12.4 torch-2.5.1+cu121 CUDA:0 (NVIDIA GeForce GTX 1080 Ti, 11264MiB)\n",
      "YOLO11m summary (fused): 303 layers, 20,030,803 parameters, 0 gradients, 67.6 GFLOPs\n"
     ]
    },
    {
     "name": "stderr",
     "output_type": "stream",
     "text": [
      "\u001b[34m\u001b[1mval: \u001b[0mScanning D:\\luna\\luna_dataset\\val.cache... 118 images, 0 backgrounds, 0 corrupt: 100%|██████████| 118/118 [00:00<?, ?it/s]\n",
      "                 Class     Images  Instances      Box(P          R      mAP50  mAP50-95): 100%|██████████| 8/8 [00:12<00:00,  1.55s/it]\n"
     ]
    },
    {
     "name": "stdout",
     "output_type": "stream",
     "text": [
      "                   all        118        118      0.629      0.746      0.745      0.401\n",
      "Speed: 1.0ms preprocess, 15.0ms inference, 0.0ms loss, 2.6ms postprocess per image\n",
      "Results saved to \u001b[1mruns\\detect\\train1314\u001b[0m\n",
      "Ultralytics 8.3.25  Python-3.12.4 torch-2.5.1+cu121 CUDA:0 (NVIDIA GeForce GTX 1080 Ti, 11264MiB)\n"
     ]
    },
    {
     "name": "stderr",
     "output_type": "stream",
     "text": [
      "\u001b[34m\u001b[1mval: \u001b[0mScanning D:\\luna\\luna_dataset\\train.cache... 963 images, 0 backgrounds, 0 corrupt: 100%|██████████| 963/963 [00:00<?, ?it/s]\n",
      "                 Class     Images  Instances      Box(P          R      mAP50  mAP50-95): 100%|██████████| 61/61 [00:22<00:00,  2.68it/s]\n"
     ]
    },
    {
     "name": "stdout",
     "output_type": "stream",
     "text": [
      "                   all        963        963      0.818      0.827      0.865      0.481\n",
      "Speed: 0.6ms preprocess, 13.4ms inference, 0.0ms loss, 2.2ms postprocess per image\n",
      "Results saved to \u001b[1mruns\\detect\\train1315\u001b[0m\n",
      "Ultralytics 8.3.25  Python-3.12.4 torch-2.5.1+cu121 CUDA:0 (NVIDIA GeForce GTX 1080 Ti, 11264MiB)\n"
     ]
    },
    {
     "name": "stderr",
     "output_type": "stream",
     "text": [
      "\u001b[34m\u001b[1mval: \u001b[0mScanning D:\\luna\\luna_dataset\\test.cache... 105 images, 0 backgrounds, 0 corrupt: 100%|██████████| 105/105 [00:00<?, ?it/s]\n",
      "                 Class     Images  Instances      Box(P          R      mAP50  mAP50-95): 100%|██████████| 7/7 [00:14<00:00,  2.09s/it]\n"
     ]
    },
    {
     "name": "stdout",
     "output_type": "stream",
     "text": [
      "                   all        105        105      0.813      0.752      0.796      0.459\n",
      "Speed: 1.2ms preprocess, 13.8ms inference, 0.0ms loss, 4.2ms postprocess per image\n",
      "Results saved to \u001b[1mruns\\detect\\train1316\u001b[0m\n",
      "Validation Results: ultralytics.utils.metrics.DetMetrics object with attributes:\n",
      "\n",
      "ap_class_index: array([0])\n",
      "box: ultralytics.utils.metrics.Metric object\n",
      "confusion_matrix: <ultralytics.utils.metrics.ConfusionMatrix object at 0x000001FB813E06B0>\n",
      "curves: ['Precision-Recall(B)', 'F1-Confidence(B)', 'Precision-Confidence(B)', 'Recall-Confidence(B)']\n",
      "curves_results: [[array([          0,    0.001001,    0.002002,    0.003003,    0.004004,    0.005005,    0.006006,    0.007007,    0.008008,    0.009009,     0.01001,    0.011011,    0.012012,    0.013013,    0.014014,    0.015015,    0.016016,    0.017017,    0.018018,    0.019019,     0.02002,    0.021021,    0.022022,    0.023023,\n",
      "          0.024024,    0.025025,    0.026026,    0.027027,    0.028028,    0.029029,     0.03003,    0.031031,    0.032032,    0.033033,    0.034034,    0.035035,    0.036036,    0.037037,    0.038038,    0.039039,     0.04004,    0.041041,    0.042042,    0.043043,    0.044044,    0.045045,    0.046046,    0.047047,\n",
      "          0.048048,    0.049049,     0.05005,    0.051051,    0.052052,    0.053053,    0.054054,    0.055055,    0.056056,    0.057057,    0.058058,    0.059059,     0.06006,    0.061061,    0.062062,    0.063063,    0.064064,    0.065065,    0.066066,    0.067067,    0.068068,    0.069069,     0.07007,    0.071071,\n",
      "          0.072072,    0.073073,    0.074074,    0.075075,    0.076076,    0.077077,    0.078078,    0.079079,     0.08008,    0.081081,    0.082082,    0.083083,    0.084084,    0.085085,    0.086086,    0.087087,    0.088088,    0.089089,     0.09009,    0.091091,    0.092092,    0.093093,    0.094094,    0.095095,\n",
      "          0.096096,    0.097097,    0.098098,    0.099099,      0.1001,      0.1011,      0.1021,      0.1031,      0.1041,     0.10511,     0.10611,     0.10711,     0.10811,     0.10911,     0.11011,     0.11111,     0.11211,     0.11311,     0.11411,     0.11512,     0.11612,     0.11712,     0.11812,     0.11912,\n",
      "           0.12012,     0.12112,     0.12212,     0.12312,     0.12412,     0.12513,     0.12613,     0.12713,     0.12813,     0.12913,     0.13013,     0.13113,     0.13213,     0.13313,     0.13413,     0.13514,     0.13614,     0.13714,     0.13814,     0.13914,     0.14014,     0.14114,     0.14214,     0.14314,\n",
      "           0.14414,     0.14515,     0.14615,     0.14715,     0.14815,     0.14915,     0.15015,     0.15115,     0.15215,     0.15315,     0.15415,     0.15516,     0.15616,     0.15716,     0.15816,     0.15916,     0.16016,     0.16116,     0.16216,     0.16316,     0.16416,     0.16517,     0.16617,     0.16717,\n",
      "           0.16817,     0.16917,     0.17017,     0.17117,     0.17217,     0.17317,     0.17417,     0.17518,     0.17618,     0.17718,     0.17818,     0.17918,     0.18018,     0.18118,     0.18218,     0.18318,     0.18418,     0.18519,     0.18619,     0.18719,     0.18819,     0.18919,     0.19019,     0.19119,\n",
      "           0.19219,     0.19319,     0.19419,      0.1952,      0.1962,      0.1972,      0.1982,      0.1992,      0.2002,      0.2012,      0.2022,      0.2032,      0.2042,     0.20521,     0.20621,     0.20721,     0.20821,     0.20921,     0.21021,     0.21121,     0.21221,     0.21321,     0.21421,     0.21522,\n",
      "           0.21622,     0.21722,     0.21822,     0.21922,     0.22022,     0.22122,     0.22222,     0.22322,     0.22422,     0.22523,     0.22623,     0.22723,     0.22823,     0.22923,     0.23023,     0.23123,     0.23223,     0.23323,     0.23423,     0.23524,     0.23624,     0.23724,     0.23824,     0.23924,\n",
      "           0.24024,     0.24124,     0.24224,     0.24324,     0.24424,     0.24525,     0.24625,     0.24725,     0.24825,     0.24925,     0.25025,     0.25125,     0.25225,     0.25325,     0.25425,     0.25526,     0.25626,     0.25726,     0.25826,     0.25926,     0.26026,     0.26126,     0.26226,     0.26326,\n",
      "           0.26426,     0.26527,     0.26627,     0.26727,     0.26827,     0.26927,     0.27027,     0.27127,     0.27227,     0.27327,     0.27427,     0.27528,     0.27628,     0.27728,     0.27828,     0.27928,     0.28028,     0.28128,     0.28228,     0.28328,     0.28428,     0.28529,     0.28629,     0.28729,\n",
      "           0.28829,     0.28929,     0.29029,     0.29129,     0.29229,     0.29329,     0.29429,      0.2953,      0.2963,      0.2973,      0.2983,      0.2993,      0.3003,      0.3013,      0.3023,      0.3033,      0.3043,     0.30531,     0.30631,     0.30731,     0.30831,     0.30931,     0.31031,     0.31131,\n",
      "           0.31231,     0.31331,     0.31431,     0.31532,     0.31632,     0.31732,     0.31832,     0.31932,     0.32032,     0.32132,     0.32232,     0.32332,     0.32432,     0.32533,     0.32633,     0.32733,     0.32833,     0.32933,     0.33033,     0.33133,     0.33233,     0.33333,     0.33433,     0.33534,\n",
      "           0.33634,     0.33734,     0.33834,     0.33934,     0.34034,     0.34134,     0.34234,     0.34334,     0.34434,     0.34535,     0.34635,     0.34735,     0.34835,     0.34935,     0.35035,     0.35135,     0.35235,     0.35335,     0.35435,     0.35536,     0.35636,     0.35736,     0.35836,     0.35936,\n",
      "           0.36036,     0.36136,     0.36236,     0.36336,     0.36436,     0.36537,     0.36637,     0.36737,     0.36837,     0.36937,     0.37037,     0.37137,     0.37237,     0.37337,     0.37437,     0.37538,     0.37638,     0.37738,     0.37838,     0.37938,     0.38038,     0.38138,     0.38238,     0.38338,\n",
      "           0.38438,     0.38539,     0.38639,     0.38739,     0.38839,     0.38939,     0.39039,     0.39139,     0.39239,     0.39339,     0.39439,      0.3954,      0.3964,      0.3974,      0.3984,      0.3994,      0.4004,      0.4014,      0.4024,      0.4034,      0.4044,     0.40541,     0.40641,     0.40741,\n",
      "           0.40841,     0.40941,     0.41041,     0.41141,     0.41241,     0.41341,     0.41441,     0.41542,     0.41642,     0.41742,     0.41842,     0.41942,     0.42042,     0.42142,     0.42242,     0.42342,     0.42442,     0.42543,     0.42643,     0.42743,     0.42843,     0.42943,     0.43043,     0.43143,\n",
      "           0.43243,     0.43343,     0.43443,     0.43544,     0.43644,     0.43744,     0.43844,     0.43944,     0.44044,     0.44144,     0.44244,     0.44344,     0.44444,     0.44545,     0.44645,     0.44745,     0.44845,     0.44945,     0.45045,     0.45145,     0.45245,     0.45345,     0.45445,     0.45546,\n",
      "           0.45646,     0.45746,     0.45846,     0.45946,     0.46046,     0.46146,     0.46246,     0.46346,     0.46446,     0.46547,     0.46647,     0.46747,     0.46847,     0.46947,     0.47047,     0.47147,     0.47247,     0.47347,     0.47447,     0.47548,     0.47648,     0.47748,     0.47848,     0.47948,\n",
      "           0.48048,     0.48148,     0.48248,     0.48348,     0.48448,     0.48549,     0.48649,     0.48749,     0.48849,     0.48949,     0.49049,     0.49149,     0.49249,     0.49349,     0.49449,      0.4955,      0.4965,      0.4975,      0.4985,      0.4995,      0.5005,      0.5015,      0.5025,      0.5035,\n",
      "            0.5045,     0.50551,     0.50651,     0.50751,     0.50851,     0.50951,     0.51051,     0.51151,     0.51251,     0.51351,     0.51451,     0.51552,     0.51652,     0.51752,     0.51852,     0.51952,     0.52052,     0.52152,     0.52252,     0.52352,     0.52452,     0.52553,     0.52653,     0.52753,\n",
      "           0.52853,     0.52953,     0.53053,     0.53153,     0.53253,     0.53353,     0.53453,     0.53554,     0.53654,     0.53754,     0.53854,     0.53954,     0.54054,     0.54154,     0.54254,     0.54354,     0.54454,     0.54555,     0.54655,     0.54755,     0.54855,     0.54955,     0.55055,     0.55155,\n",
      "           0.55255,     0.55355,     0.55455,     0.55556,     0.55656,     0.55756,     0.55856,     0.55956,     0.56056,     0.56156,     0.56256,     0.56356,     0.56456,     0.56557,     0.56657,     0.56757,     0.56857,     0.56957,     0.57057,     0.57157,     0.57257,     0.57357,     0.57457,     0.57558,\n",
      "           0.57658,     0.57758,     0.57858,     0.57958,     0.58058,     0.58158,     0.58258,     0.58358,     0.58458,     0.58559,     0.58659,     0.58759,     0.58859,     0.58959,     0.59059,     0.59159,     0.59259,     0.59359,     0.59459,      0.5956,      0.5966,      0.5976,      0.5986,      0.5996,\n",
      "            0.6006,      0.6016,      0.6026,      0.6036,      0.6046,     0.60561,     0.60661,     0.60761,     0.60861,     0.60961,     0.61061,     0.61161,     0.61261,     0.61361,     0.61461,     0.61562,     0.61662,     0.61762,     0.61862,     0.61962,     0.62062,     0.62162,     0.62262,     0.62362,\n",
      "           0.62462,     0.62563,     0.62663,     0.62763,     0.62863,     0.62963,     0.63063,     0.63163,     0.63263,     0.63363,     0.63463,     0.63564,     0.63664,     0.63764,     0.63864,     0.63964,     0.64064,     0.64164,     0.64264,     0.64364,     0.64464,     0.64565,     0.64665,     0.64765,\n",
      "           0.64865,     0.64965,     0.65065,     0.65165,     0.65265,     0.65365,     0.65465,     0.65566,     0.65666,     0.65766,     0.65866,     0.65966,     0.66066,     0.66166,     0.66266,     0.66366,     0.66466,     0.66567,     0.66667,     0.66767,     0.66867,     0.66967,     0.67067,     0.67167,\n",
      "           0.67267,     0.67367,     0.67467,     0.67568,     0.67668,     0.67768,     0.67868,     0.67968,     0.68068,     0.68168,     0.68268,     0.68368,     0.68468,     0.68569,     0.68669,     0.68769,     0.68869,     0.68969,     0.69069,     0.69169,     0.69269,     0.69369,     0.69469,      0.6957,\n",
      "            0.6967,      0.6977,      0.6987,      0.6997,      0.7007,      0.7017,      0.7027,      0.7037,      0.7047,     0.70571,     0.70671,     0.70771,     0.70871,     0.70971,     0.71071,     0.71171,     0.71271,     0.71371,     0.71471,     0.71572,     0.71672,     0.71772,     0.71872,     0.71972,\n",
      "           0.72072,     0.72172,     0.72272,     0.72372,     0.72472,     0.72573,     0.72673,     0.72773,     0.72873,     0.72973,     0.73073,     0.73173,     0.73273,     0.73373,     0.73473,     0.73574,     0.73674,     0.73774,     0.73874,     0.73974,     0.74074,     0.74174,     0.74274,     0.74374,\n",
      "           0.74474,     0.74575,     0.74675,     0.74775,     0.74875,     0.74975,     0.75075,     0.75175,     0.75275,     0.75375,     0.75475,     0.75576,     0.75676,     0.75776,     0.75876,     0.75976,     0.76076,     0.76176,     0.76276,     0.76376,     0.76476,     0.76577,     0.76677,     0.76777,\n",
      "           0.76877,     0.76977,     0.77077,     0.77177,     0.77277,     0.77377,     0.77477,     0.77578,     0.77678,     0.77778,     0.77878,     0.77978,     0.78078,     0.78178,     0.78278,     0.78378,     0.78478,     0.78579,     0.78679,     0.78779,     0.78879,     0.78979,     0.79079,     0.79179,\n",
      "           0.79279,     0.79379,     0.79479,      0.7958,      0.7968,      0.7978,      0.7988,      0.7998,      0.8008,      0.8018,      0.8028,      0.8038,      0.8048,     0.80581,     0.80681,     0.80781,     0.80881,     0.80981,     0.81081,     0.81181,     0.81281,     0.81381,     0.81481,     0.81582,\n",
      "           0.81682,     0.81782,     0.81882,     0.81982,     0.82082,     0.82182,     0.82282,     0.82382,     0.82482,     0.82583,     0.82683,     0.82783,     0.82883,     0.82983,     0.83083,     0.83183,     0.83283,     0.83383,     0.83483,     0.83584,     0.83684,     0.83784,     0.83884,     0.83984,\n",
      "           0.84084,     0.84184,     0.84284,     0.84384,     0.84484,     0.84585,     0.84685,     0.84785,     0.84885,     0.84985,     0.85085,     0.85185,     0.85285,     0.85385,     0.85485,     0.85586,     0.85686,     0.85786,     0.85886,     0.85986,     0.86086,     0.86186,     0.86286,     0.86386,\n",
      "           0.86486,     0.86587,     0.86687,     0.86787,     0.86887,     0.86987,     0.87087,     0.87187,     0.87287,     0.87387,     0.87487,     0.87588,     0.87688,     0.87788,     0.87888,     0.87988,     0.88088,     0.88188,     0.88288,     0.88388,     0.88488,     0.88589,     0.88689,     0.88789,\n",
      "           0.88889,     0.88989,     0.89089,     0.89189,     0.89289,     0.89389,     0.89489,      0.8959,      0.8969,      0.8979,      0.8989,      0.8999,      0.9009,      0.9019,      0.9029,      0.9039,      0.9049,     0.90591,     0.90691,     0.90791,     0.90891,     0.90991,     0.91091,     0.91191,\n",
      "           0.91291,     0.91391,     0.91491,     0.91592,     0.91692,     0.91792,     0.91892,     0.91992,     0.92092,     0.92192,     0.92292,     0.92392,     0.92492,     0.92593,     0.92693,     0.92793,     0.92893,     0.92993,     0.93093,     0.93193,     0.93293,     0.93393,     0.93493,     0.93594,\n",
      "           0.93694,     0.93794,     0.93894,     0.93994,     0.94094,     0.94194,     0.94294,     0.94394,     0.94494,     0.94595,     0.94695,     0.94795,     0.94895,     0.94995,     0.95095,     0.95195,     0.95295,     0.95395,     0.95495,     0.95596,     0.95696,     0.95796,     0.95896,     0.95996,\n",
      "           0.96096,     0.96196,     0.96296,     0.96396,     0.96496,     0.96597,     0.96697,     0.96797,     0.96897,     0.96997,     0.97097,     0.97197,     0.97297,     0.97397,     0.97497,     0.97598,     0.97698,     0.97798,     0.97898,     0.97998,     0.98098,     0.98198,     0.98298,     0.98398,\n",
      "           0.98498,     0.98599,     0.98699,     0.98799,     0.98899,     0.98999,     0.99099,     0.99199,     0.99299,     0.99399,     0.99499,       0.996,       0.997,       0.998,       0.999,           1]), array([[          1,           1,           1,           1,           1,           1,           1,           1,           1,           1,           1,           1,           1,           1,           1,           1,           1,           1,           1,           1,           1,           1,           1,\n",
      "                  1,           1,           1,           1,           1,           1,           1,           1,           1,           1,           1,           1,           1,           1,           1,           1,           1,           1,           1,           1,           1,           1,           1,\n",
      "                  1,           1,           1,           1,           1,           1,           1,           1,           1,           1,           1,           1,           1,           1,           1,           1,           1,           1,           1,           1,           1,           1,           1,\n",
      "                  1,           1,           1,           1,           1,           1,           1,           1,           1,           1,           1,           1,           1,           1,           1,           1,           1,           1,           1,           1,           1,           1,           1,\n",
      "                  1,           1,           1,           1,           1,           1,           1,           1,           1,           1,           1,           1,           1,           1,           1,           1,           1,           1,           1,     0.95455,     0.95455,     0.95455,     0.95455,\n",
      "            0.95455,     0.95455,     0.95455,     0.95455,     0.95455,     0.95455,     0.95455,     0.95455,     0.95455,     0.95455,     0.95455,     0.95455,     0.95455,     0.95455,     0.95455,     0.95455,     0.95455,     0.95455,     0.95455,     0.95455,     0.95455,     0.95455,     0.95455,\n",
      "            0.95455,     0.95455,     0.95455,     0.95455,     0.95455,     0.95455,     0.95455,     0.95455,     0.95455,     0.95455,     0.95455,     0.95455,     0.95455,     0.95455,     0.95455,     0.95455,     0.95455,     0.95455,     0.95455,     0.95455,     0.95455,     0.95455,     0.95455,\n",
      "            0.95455,     0.95455,     0.95455,     0.95455,     0.95455,     0.95455,     0.95455,     0.95455,     0.95455,     0.95455,     0.95455,     0.95455,     0.95455,     0.95455,     0.95455,     0.95455,     0.95455,     0.94118,     0.94118,     0.94118,     0.94118,     0.94118,     0.94118,\n",
      "            0.94118,     0.94118,     0.94118,     0.94118,     0.94118,     0.94118,     0.94118,     0.94118,     0.94118,     0.94118,     0.94118,     0.94118,     0.94118,     0.94118,     0.94118,     0.94118,     0.94118,     0.94118,     0.94118,     0.94118,     0.94118,     0.94118,     0.94118,\n",
      "            0.94118,     0.94118,     0.94118,     0.94118,     0.94118,     0.94118,     0.94118,     0.94118,     0.94118,     0.94118,     0.94118,     0.94118,     0.94118,     0.94118,     0.94118,     0.94118,     0.94118,     0.94118,     0.94118,     0.94118,     0.94118,     0.94118,     0.94118,\n",
      "            0.94118,     0.94118,     0.94118,     0.94118,     0.94118,     0.94118,     0.94118,     0.94118,     0.94118,     0.94118,     0.94118,     0.94118,     0.94118,     0.94118,     0.94118,     0.94118,     0.94118,     0.94118,     0.94118,     0.94118,     0.94118,     0.94118,     0.94118,\n",
      "            0.94118,     0.94118,     0.94118,     0.94118,     0.94118,     0.94118,     0.94118,     0.94118,     0.94118,     0.94118,     0.94118,     0.94118,     0.94118,     0.94118,     0.94118,     0.94118,     0.94118,     0.94118,     0.92105,     0.92105,     0.92105,     0.92105,     0.92105,\n",
      "            0.92105,     0.92105,     0.92105,     0.92105,     0.92105,     0.92105,     0.92105,     0.92105,     0.92105,     0.92105,     0.92105,     0.92105,     0.92105,     0.92105,     0.92105,     0.92105,     0.92105,     0.92105,     0.92105,     0.92105,     0.92105,     0.90196,     0.90196,\n",
      "            0.90196,     0.90196,     0.90196,     0.90196,     0.90196,     0.90196,     0.90196,     0.90196,     0.90196,     0.90196,     0.90196,     0.90196,     0.90196,     0.90196,     0.90196,     0.90196,     0.90196,     0.90196,     0.90196,     0.90196,     0.90196,     0.90196,     0.90196,\n",
      "            0.90196,     0.90196,     0.90196,     0.90196,     0.90196,     0.90196,     0.90196,     0.90196,     0.90196,     0.90196,     0.90196,     0.90196,     0.90196,     0.90196,     0.90196,     0.90196,     0.90196,     0.90196,     0.90196,     0.90196,     0.90196,     0.90196,     0.90196,\n",
      "            0.90196,     0.90196,     0.90196,     0.90196,     0.90196,     0.90196,     0.90196,     0.90196,     0.90196,     0.90196,     0.90196,     0.90196,     0.90196,     0.90196,     0.90196,     0.90196,     0.90196,     0.90196,     0.90196,     0.90196,     0.90196,     0.90196,     0.90196,\n",
      "            0.90196,     0.90196,     0.90196,     0.90196,     0.90196,     0.90196,     0.90196,     0.90196,     0.90196,     0.90196,     0.90196,     0.90196,     0.90196,     0.90196,     0.90196,     0.90196,     0.90196,     0.90196,     0.90196,     0.90196,     0.90196,     0.90196,     0.89091,\n",
      "            0.89091,     0.89091,     0.89091,     0.89091,     0.89091,     0.89091,     0.89091,     0.89091,     0.89091,     0.89091,     0.89091,     0.89091,     0.89091,     0.89091,     0.89091,     0.89091,     0.89091,     0.89091,     0.89091,     0.89091,     0.89091,     0.89091,     0.89091,\n",
      "            0.89091,        0.85,        0.85,        0.85,        0.85,        0.85,        0.85,        0.85,        0.85,        0.85,        0.85,        0.85,        0.85,        0.85,        0.85,        0.85,        0.85,        0.85,     0.83333,     0.83333,     0.83333,     0.83333,     0.83333,\n",
      "            0.83333,     0.83333,     0.83333,     0.83333,     0.83333,     0.83333,     0.83333,     0.83333,     0.83333,     0.83333,     0.83333,     0.83333,     0.83333,     0.83333,     0.83333,     0.83333,     0.83333,     0.83333,     0.83333,     0.83333,     0.83333,     0.83333,     0.83333,\n",
      "            0.83333,     0.83333,     0.83333,     0.83333,     0.83333,     0.83333,     0.83333,     0.83333,     0.83333,     0.83333,     0.83333,     0.83333,     0.83333,     0.83333,     0.83333,     0.83333,     0.83333,     0.83333,     0.83333,     0.83333,     0.83333,     0.83333,     0.83333,\n",
      "            0.83333,     0.83333,     0.83333,     0.83333,     0.83333,     0.83333,     0.83333,     0.83333,     0.83333,     0.83333,     0.83333,     0.83333,     0.83333,     0.83333,     0.83333,     0.83333,     0.83333,     0.83333,     0.83333,     0.83333,     0.83333,     0.83333,     0.83333,\n",
      "            0.83333,     0.83333,     0.82667,     0.82667,     0.82667,     0.82667,     0.82667,     0.82667,     0.82667,     0.82667,     0.82667,     0.82667,     0.82667,     0.82667,     0.82667,     0.82667,     0.82667,     0.82667,     0.82667,     0.81481,     0.81481,     0.81481,     0.81481,\n",
      "            0.81481,     0.81481,     0.81481,     0.81481,     0.81481,     0.81481,     0.81481,     0.81481,     0.81481,     0.81481,     0.81481,     0.81481,     0.81481,     0.81481,     0.81481,     0.81481,     0.81481,     0.81481,     0.81481,     0.81481,     0.81481,     0.81481,     0.81481,\n",
      "            0.81481,     0.81481,     0.81481,     0.81481,     0.81481,     0.81481,     0.81481,     0.80723,     0.80723,     0.80723,     0.80723,     0.80723,     0.80723,     0.80723,     0.80723,     0.80723,      0.7907,      0.7907,      0.7907,      0.7907,      0.7907,      0.7907,      0.7907,\n",
      "             0.7907,     0.78409,     0.78409,     0.78409,     0.78409,     0.78409,     0.78409,     0.78409,     0.78409,     0.78409,     0.77778,     0.77778,     0.77778,     0.77778,     0.77778,     0.77778,     0.77778,     0.77778,     0.77174,     0.77174,     0.77174,     0.77174,     0.77174,\n",
      "            0.77174,     0.77174,     0.77174,     0.77174,     0.75258,     0.75258,     0.75258,     0.75258,     0.75258,     0.75258,     0.75258,     0.75258,     0.75258,     0.75258,     0.75258,     0.75258,     0.75258,     0.75258,     0.75258,     0.75258,     0.75258,     0.72115,     0.72115,\n",
      "            0.72115,     0.72115,     0.72115,     0.72115,     0.72115,     0.72115,     0.72115,     0.72115,     0.72115,     0.72115,     0.72115,     0.72115,     0.72115,     0.72115,     0.71698,     0.71698,     0.71698,     0.71698,     0.71698,     0.71698,     0.71698,     0.71698,     0.71698,\n",
      "            0.70642,     0.70642,     0.70642,     0.70642,     0.70642,     0.70642,     0.70642,     0.70642,      0.7027,      0.7027,      0.7027,      0.7027,      0.7027,      0.7027,      0.7027,      0.7027,      0.7027,     0.69912,     0.69912,     0.69912,     0.69912,     0.69912,     0.69912,\n",
      "            0.69912,     0.69912,     0.68966,     0.68966,     0.68966,     0.68966,     0.68966,     0.68966,     0.68966,     0.68966,     0.68966,     0.68067,     0.68067,     0.68067,     0.68067,     0.68067,     0.68067,     0.68067,     0.68067,     0.68033,     0.68033,     0.68033,     0.68033,\n",
      "            0.68033,     0.68033,     0.68033,     0.68033,     0.68033,     0.68033,     0.68033,     0.68033,     0.68033,     0.68033,     0.68033,     0.68033,     0.68033,     0.65625,     0.65625,     0.65625,     0.65625,     0.65625,     0.65625,     0.65625,     0.65625,     0.65625,     0.64394,\n",
      "            0.64394,     0.64394,     0.64394,     0.64394,     0.64394,     0.64394,     0.64394,     0.63971,     0.63971,     0.63971,     0.63971,     0.63971,     0.63971,     0.63971,     0.63971,     0.63971,     0.63971,     0.63971,     0.63971,     0.63971,     0.63971,     0.63971,     0.63971,\n",
      "            0.63971,      0.6338,      0.6338,      0.6338,      0.6338,      0.6338,      0.6338,      0.6338,      0.6338,      0.6338,      0.6338,      0.6338,      0.6338,      0.6338,      0.6338,      0.6338,      0.6338,      0.6338,      0.6338,      0.6338,      0.6338,      0.6338,      0.6338,\n",
      "             0.6338,      0.6338,      0.6338,     0.62759,     0.62759,     0.62759,     0.62759,     0.62759,     0.62759,     0.62759,     0.62759,     0.62759,     0.62162,     0.62162,     0.62162,     0.62162,     0.62162,     0.62162,     0.62162,     0.62162,     0.61184,     0.61184,     0.61184,\n",
      "            0.61184,     0.61184,     0.61184,     0.61184,     0.61184,     0.61184,     0.59494,     0.59494,     0.59494,     0.59494,     0.59494,     0.59494,     0.59494,     0.59494,     0.58084,     0.58084,     0.58084,     0.58084,     0.58084,     0.58084,     0.58084,     0.58084,     0.58084,\n",
      "            0.58084,     0.58084,     0.58084,     0.58084,     0.58084,     0.58084,     0.58084,     0.58084,     0.58084,     0.58084,     0.58084,     0.58084,     0.58084,     0.58084,     0.58084,     0.58084,     0.58084,     0.53261,     0.53261,     0.53261,     0.53261,     0.53261,     0.53261,\n",
      "            0.53261,     0.53261,     0.52356,     0.52356,     0.52356,     0.52356,     0.52356,     0.52356,     0.52356,     0.52356,     0.52356,     0.52356,     0.52356,     0.52356,     0.52356,     0.52356,     0.52356,     0.52356,     0.52356,     0.48571,     0.48571,     0.48571,     0.48571,\n",
      "            0.48571,     0.48571,     0.48571,     0.48571,     0.48571,     0.48571,     0.48571,     0.48571,     0.48571,     0.48571,     0.48571,     0.48571,     0.48571,     0.46818,     0.46818,     0.46818,     0.46818,     0.46818,     0.46818,     0.46818,     0.46818,     0.46818,     0.45415,\n",
      "            0.45415,     0.45415,     0.45415,     0.45415,     0.45415,     0.45415,     0.45415,     0.42742,     0.42742,     0.42742,     0.42742,     0.42742,     0.42742,     0.42742,     0.42742,     0.42742,     0.42742,     0.42742,     0.42742,     0.42742,     0.42742,     0.42742,     0.42742,\n",
      "            0.42742,     0.29805,     0.29805,     0.29805,     0.29805,     0.29805,     0.29805,     0.29805,     0.29805,     0.29348,     0.29348,     0.29348,     0.29348,     0.29348,     0.29348,     0.29348,     0.29348,     0.29348,     0.23696,     0.23696,     0.23696,     0.23696,     0.23696,\n",
      "            0.23696,     0.23696,     0.23696,     0.23404,     0.23404,     0.23404,     0.23404,     0.23404,     0.23404,     0.23404,     0.23404,     0.23404,     0.17563,     0.17563,     0.17563,     0.17563,     0.17563,     0.17563,     0.17563,     0.17563,     0.16817,     0.16817,     0.16817,\n",
      "            0.16817,     0.16817,     0.16817,     0.16817,     0.16817,     0.16817,     0.14974,     0.14974,     0.14974,     0.14974,     0.14974,     0.14974,     0.14974,     0.14974,     0.14974,     0.14974,     0.14974,     0.14974,     0.14974,     0.14974,     0.14974,     0.14974,     0.14974,\n",
      "            0.14974,     0.14974,     0.14974,     0.14974,     0.14974,     0.14974,     0.14974,     0.14974,    0.072936,    0.070018,    0.067101,    0.064184,    0.061266,    0.058349,    0.055431,    0.052514,    0.049596,    0.046679,    0.043762,    0.040844,    0.037927,    0.035009,    0.032092,\n",
      "           0.029174,    0.026257,    0.023339,    0.020422,    0.017505,    0.014587,     0.01167,   0.0087523,   0.0058349,   0.0029174,           0]]), 'Recall', 'Precision'], [array([          0,    0.001001,    0.002002,    0.003003,    0.004004,    0.005005,    0.006006,    0.007007,    0.008008,    0.009009,     0.01001,    0.011011,    0.012012,    0.013013,    0.014014,    0.015015,    0.016016,    0.017017,    0.018018,    0.019019,     0.02002,    0.021021,    0.022022,    0.023023,\n",
      "          0.024024,    0.025025,    0.026026,    0.027027,    0.028028,    0.029029,     0.03003,    0.031031,    0.032032,    0.033033,    0.034034,    0.035035,    0.036036,    0.037037,    0.038038,    0.039039,     0.04004,    0.041041,    0.042042,    0.043043,    0.044044,    0.045045,    0.046046,    0.047047,\n",
      "          0.048048,    0.049049,     0.05005,    0.051051,    0.052052,    0.053053,    0.054054,    0.055055,    0.056056,    0.057057,    0.058058,    0.059059,     0.06006,    0.061061,    0.062062,    0.063063,    0.064064,    0.065065,    0.066066,    0.067067,    0.068068,    0.069069,     0.07007,    0.071071,\n",
      "          0.072072,    0.073073,    0.074074,    0.075075,    0.076076,    0.077077,    0.078078,    0.079079,     0.08008,    0.081081,    0.082082,    0.083083,    0.084084,    0.085085,    0.086086,    0.087087,    0.088088,    0.089089,     0.09009,    0.091091,    0.092092,    0.093093,    0.094094,    0.095095,\n",
      "          0.096096,    0.097097,    0.098098,    0.099099,      0.1001,      0.1011,      0.1021,      0.1031,      0.1041,     0.10511,     0.10611,     0.10711,     0.10811,     0.10911,     0.11011,     0.11111,     0.11211,     0.11311,     0.11411,     0.11512,     0.11612,     0.11712,     0.11812,     0.11912,\n",
      "           0.12012,     0.12112,     0.12212,     0.12312,     0.12412,     0.12513,     0.12613,     0.12713,     0.12813,     0.12913,     0.13013,     0.13113,     0.13213,     0.13313,     0.13413,     0.13514,     0.13614,     0.13714,     0.13814,     0.13914,     0.14014,     0.14114,     0.14214,     0.14314,\n",
      "           0.14414,     0.14515,     0.14615,     0.14715,     0.14815,     0.14915,     0.15015,     0.15115,     0.15215,     0.15315,     0.15415,     0.15516,     0.15616,     0.15716,     0.15816,     0.15916,     0.16016,     0.16116,     0.16216,     0.16316,     0.16416,     0.16517,     0.16617,     0.16717,\n",
      "           0.16817,     0.16917,     0.17017,     0.17117,     0.17217,     0.17317,     0.17417,     0.17518,     0.17618,     0.17718,     0.17818,     0.17918,     0.18018,     0.18118,     0.18218,     0.18318,     0.18418,     0.18519,     0.18619,     0.18719,     0.18819,     0.18919,     0.19019,     0.19119,\n",
      "           0.19219,     0.19319,     0.19419,      0.1952,      0.1962,      0.1972,      0.1982,      0.1992,      0.2002,      0.2012,      0.2022,      0.2032,      0.2042,     0.20521,     0.20621,     0.20721,     0.20821,     0.20921,     0.21021,     0.21121,     0.21221,     0.21321,     0.21421,     0.21522,\n",
      "           0.21622,     0.21722,     0.21822,     0.21922,     0.22022,     0.22122,     0.22222,     0.22322,     0.22422,     0.22523,     0.22623,     0.22723,     0.22823,     0.22923,     0.23023,     0.23123,     0.23223,     0.23323,     0.23423,     0.23524,     0.23624,     0.23724,     0.23824,     0.23924,\n",
      "           0.24024,     0.24124,     0.24224,     0.24324,     0.24424,     0.24525,     0.24625,     0.24725,     0.24825,     0.24925,     0.25025,     0.25125,     0.25225,     0.25325,     0.25425,     0.25526,     0.25626,     0.25726,     0.25826,     0.25926,     0.26026,     0.26126,     0.26226,     0.26326,\n",
      "           0.26426,     0.26527,     0.26627,     0.26727,     0.26827,     0.26927,     0.27027,     0.27127,     0.27227,     0.27327,     0.27427,     0.27528,     0.27628,     0.27728,     0.27828,     0.27928,     0.28028,     0.28128,     0.28228,     0.28328,     0.28428,     0.28529,     0.28629,     0.28729,\n",
      "           0.28829,     0.28929,     0.29029,     0.29129,     0.29229,     0.29329,     0.29429,      0.2953,      0.2963,      0.2973,      0.2983,      0.2993,      0.3003,      0.3013,      0.3023,      0.3033,      0.3043,     0.30531,     0.30631,     0.30731,     0.30831,     0.30931,     0.31031,     0.31131,\n",
      "           0.31231,     0.31331,     0.31431,     0.31532,     0.31632,     0.31732,     0.31832,     0.31932,     0.32032,     0.32132,     0.32232,     0.32332,     0.32432,     0.32533,     0.32633,     0.32733,     0.32833,     0.32933,     0.33033,     0.33133,     0.33233,     0.33333,     0.33433,     0.33534,\n",
      "           0.33634,     0.33734,     0.33834,     0.33934,     0.34034,     0.34134,     0.34234,     0.34334,     0.34434,     0.34535,     0.34635,     0.34735,     0.34835,     0.34935,     0.35035,     0.35135,     0.35235,     0.35335,     0.35435,     0.35536,     0.35636,     0.35736,     0.35836,     0.35936,\n",
      "           0.36036,     0.36136,     0.36236,     0.36336,     0.36436,     0.36537,     0.36637,     0.36737,     0.36837,     0.36937,     0.37037,     0.37137,     0.37237,     0.37337,     0.37437,     0.37538,     0.37638,     0.37738,     0.37838,     0.37938,     0.38038,     0.38138,     0.38238,     0.38338,\n",
      "           0.38438,     0.38539,     0.38639,     0.38739,     0.38839,     0.38939,     0.39039,     0.39139,     0.39239,     0.39339,     0.39439,      0.3954,      0.3964,      0.3974,      0.3984,      0.3994,      0.4004,      0.4014,      0.4024,      0.4034,      0.4044,     0.40541,     0.40641,     0.40741,\n",
      "           0.40841,     0.40941,     0.41041,     0.41141,     0.41241,     0.41341,     0.41441,     0.41542,     0.41642,     0.41742,     0.41842,     0.41942,     0.42042,     0.42142,     0.42242,     0.42342,     0.42442,     0.42543,     0.42643,     0.42743,     0.42843,     0.42943,     0.43043,     0.43143,\n",
      "           0.43243,     0.43343,     0.43443,     0.43544,     0.43644,     0.43744,     0.43844,     0.43944,     0.44044,     0.44144,     0.44244,     0.44344,     0.44444,     0.44545,     0.44645,     0.44745,     0.44845,     0.44945,     0.45045,     0.45145,     0.45245,     0.45345,     0.45445,     0.45546,\n",
      "           0.45646,     0.45746,     0.45846,     0.45946,     0.46046,     0.46146,     0.46246,     0.46346,     0.46446,     0.46547,     0.46647,     0.46747,     0.46847,     0.46947,     0.47047,     0.47147,     0.47247,     0.47347,     0.47447,     0.47548,     0.47648,     0.47748,     0.47848,     0.47948,\n",
      "           0.48048,     0.48148,     0.48248,     0.48348,     0.48448,     0.48549,     0.48649,     0.48749,     0.48849,     0.48949,     0.49049,     0.49149,     0.49249,     0.49349,     0.49449,      0.4955,      0.4965,      0.4975,      0.4985,      0.4995,      0.5005,      0.5015,      0.5025,      0.5035,\n",
      "            0.5045,     0.50551,     0.50651,     0.50751,     0.50851,     0.50951,     0.51051,     0.51151,     0.51251,     0.51351,     0.51451,     0.51552,     0.51652,     0.51752,     0.51852,     0.51952,     0.52052,     0.52152,     0.52252,     0.52352,     0.52452,     0.52553,     0.52653,     0.52753,\n",
      "           0.52853,     0.52953,     0.53053,     0.53153,     0.53253,     0.53353,     0.53453,     0.53554,     0.53654,     0.53754,     0.53854,     0.53954,     0.54054,     0.54154,     0.54254,     0.54354,     0.54454,     0.54555,     0.54655,     0.54755,     0.54855,     0.54955,     0.55055,     0.55155,\n",
      "           0.55255,     0.55355,     0.55455,     0.55556,     0.55656,     0.55756,     0.55856,     0.55956,     0.56056,     0.56156,     0.56256,     0.56356,     0.56456,     0.56557,     0.56657,     0.56757,     0.56857,     0.56957,     0.57057,     0.57157,     0.57257,     0.57357,     0.57457,     0.57558,\n",
      "           0.57658,     0.57758,     0.57858,     0.57958,     0.58058,     0.58158,     0.58258,     0.58358,     0.58458,     0.58559,     0.58659,     0.58759,     0.58859,     0.58959,     0.59059,     0.59159,     0.59259,     0.59359,     0.59459,      0.5956,      0.5966,      0.5976,      0.5986,      0.5996,\n",
      "            0.6006,      0.6016,      0.6026,      0.6036,      0.6046,     0.60561,     0.60661,     0.60761,     0.60861,     0.60961,     0.61061,     0.61161,     0.61261,     0.61361,     0.61461,     0.61562,     0.61662,     0.61762,     0.61862,     0.61962,     0.62062,     0.62162,     0.62262,     0.62362,\n",
      "           0.62462,     0.62563,     0.62663,     0.62763,     0.62863,     0.62963,     0.63063,     0.63163,     0.63263,     0.63363,     0.63463,     0.63564,     0.63664,     0.63764,     0.63864,     0.63964,     0.64064,     0.64164,     0.64264,     0.64364,     0.64464,     0.64565,     0.64665,     0.64765,\n",
      "           0.64865,     0.64965,     0.65065,     0.65165,     0.65265,     0.65365,     0.65465,     0.65566,     0.65666,     0.65766,     0.65866,     0.65966,     0.66066,     0.66166,     0.66266,     0.66366,     0.66466,     0.66567,     0.66667,     0.66767,     0.66867,     0.66967,     0.67067,     0.67167,\n",
      "           0.67267,     0.67367,     0.67467,     0.67568,     0.67668,     0.67768,     0.67868,     0.67968,     0.68068,     0.68168,     0.68268,     0.68368,     0.68468,     0.68569,     0.68669,     0.68769,     0.68869,     0.68969,     0.69069,     0.69169,     0.69269,     0.69369,     0.69469,      0.6957,\n",
      "            0.6967,      0.6977,      0.6987,      0.6997,      0.7007,      0.7017,      0.7027,      0.7037,      0.7047,     0.70571,     0.70671,     0.70771,     0.70871,     0.70971,     0.71071,     0.71171,     0.71271,     0.71371,     0.71471,     0.71572,     0.71672,     0.71772,     0.71872,     0.71972,\n",
      "           0.72072,     0.72172,     0.72272,     0.72372,     0.72472,     0.72573,     0.72673,     0.72773,     0.72873,     0.72973,     0.73073,     0.73173,     0.73273,     0.73373,     0.73473,     0.73574,     0.73674,     0.73774,     0.73874,     0.73974,     0.74074,     0.74174,     0.74274,     0.74374,\n",
      "           0.74474,     0.74575,     0.74675,     0.74775,     0.74875,     0.74975,     0.75075,     0.75175,     0.75275,     0.75375,     0.75475,     0.75576,     0.75676,     0.75776,     0.75876,     0.75976,     0.76076,     0.76176,     0.76276,     0.76376,     0.76476,     0.76577,     0.76677,     0.76777,\n",
      "           0.76877,     0.76977,     0.77077,     0.77177,     0.77277,     0.77377,     0.77477,     0.77578,     0.77678,     0.77778,     0.77878,     0.77978,     0.78078,     0.78178,     0.78278,     0.78378,     0.78478,     0.78579,     0.78679,     0.78779,     0.78879,     0.78979,     0.79079,     0.79179,\n",
      "           0.79279,     0.79379,     0.79479,      0.7958,      0.7968,      0.7978,      0.7988,      0.7998,      0.8008,      0.8018,      0.8028,      0.8038,      0.8048,     0.80581,     0.80681,     0.80781,     0.80881,     0.80981,     0.81081,     0.81181,     0.81281,     0.81381,     0.81481,     0.81582,\n",
      "           0.81682,     0.81782,     0.81882,     0.81982,     0.82082,     0.82182,     0.82282,     0.82382,     0.82482,     0.82583,     0.82683,     0.82783,     0.82883,     0.82983,     0.83083,     0.83183,     0.83283,     0.83383,     0.83483,     0.83584,     0.83684,     0.83784,     0.83884,     0.83984,\n",
      "           0.84084,     0.84184,     0.84284,     0.84384,     0.84484,     0.84585,     0.84685,     0.84785,     0.84885,     0.84985,     0.85085,     0.85185,     0.85285,     0.85385,     0.85485,     0.85586,     0.85686,     0.85786,     0.85886,     0.85986,     0.86086,     0.86186,     0.86286,     0.86386,\n",
      "           0.86486,     0.86587,     0.86687,     0.86787,     0.86887,     0.86987,     0.87087,     0.87187,     0.87287,     0.87387,     0.87487,     0.87588,     0.87688,     0.87788,     0.87888,     0.87988,     0.88088,     0.88188,     0.88288,     0.88388,     0.88488,     0.88589,     0.88689,     0.88789,\n",
      "           0.88889,     0.88989,     0.89089,     0.89189,     0.89289,     0.89389,     0.89489,      0.8959,      0.8969,      0.8979,      0.8989,      0.8999,      0.9009,      0.9019,      0.9029,      0.9039,      0.9049,     0.90591,     0.90691,     0.90791,     0.90891,     0.90991,     0.91091,     0.91191,\n",
      "           0.91291,     0.91391,     0.91491,     0.91592,     0.91692,     0.91792,     0.91892,     0.91992,     0.92092,     0.92192,     0.92292,     0.92392,     0.92492,     0.92593,     0.92693,     0.92793,     0.92893,     0.92993,     0.93093,     0.93193,     0.93293,     0.93393,     0.93493,     0.93594,\n",
      "           0.93694,     0.93794,     0.93894,     0.93994,     0.94094,     0.94194,     0.94294,     0.94394,     0.94494,     0.94595,     0.94695,     0.94795,     0.94895,     0.94995,     0.95095,     0.95195,     0.95295,     0.95395,     0.95495,     0.95596,     0.95696,     0.95796,     0.95896,     0.95996,\n",
      "           0.96096,     0.96196,     0.96296,     0.96396,     0.96496,     0.96597,     0.96697,     0.96797,     0.96897,     0.96997,     0.97097,     0.97197,     0.97297,     0.97397,     0.97497,     0.97598,     0.97698,     0.97798,     0.97898,     0.97998,     0.98098,     0.98198,     0.98298,     0.98398,\n",
      "           0.98498,     0.98599,     0.98699,     0.98799,     0.98899,     0.98999,     0.99099,     0.99199,     0.99299,     0.99399,     0.99499,       0.996,       0.997,       0.998,       0.999,           1]), array([[    0.13772,     0.13784,      0.1846,     0.22326,     0.24772,      0.2581,      0.2762,     0.29362,     0.30402,     0.31726,     0.32935,     0.34225,     0.35389,     0.36181,     0.36951,     0.37562,      0.3861,     0.39021,     0.39934,     0.40456,     0.40885,     0.41693,     0.42364,\n",
      "            0.42899,     0.43529,     0.44066,     0.44239,     0.44593,     0.44795,     0.45352,     0.45657,     0.46003,     0.46531,     0.47379,     0.47979,     0.48091,     0.48282,     0.48738,     0.49006,     0.49145,     0.49389,      0.4967,     0.49804,     0.49957,     0.50121,     0.50365,\n",
      "             0.5043,     0.50611,     0.50661,     0.50711,     0.51248,     0.51536,     0.51803,      0.5201,     0.52617,     0.52762,     0.52809,     0.52857,     0.52993,     0.53195,     0.53414,       0.535,     0.53781,     0.54106,     0.54269,     0.54418,     0.55076,     0.55545,     0.55797,\n",
      "            0.55933,     0.56411,     0.56744,     0.56833,     0.56948,     0.57108,     0.57381,     0.57762,     0.57867,     0.57205,     0.57314,     0.57561,     0.57784,     0.57817,      0.5785,     0.57883,     0.57917,     0.57973,     0.58077,     0.58204,     0.58367,     0.58609,     0.58668,\n",
      "            0.58727,     0.58809,     0.58916,      0.5917,     0.59462,     0.59521,     0.59579,      0.5987,     0.59589,     0.59733,     0.59805,     0.59877,     0.60441,     0.60783,     0.60877,     0.60591,     0.60752,     0.60859,     0.61052,     0.61509,      0.6161,     0.61652,     0.61679,\n",
      "            0.61706,     0.61732,     0.61759,     0.61786,     0.61812,     0.61937,     0.62044,     0.62113,     0.62182,     0.61657,     0.61496,     0.61355,     0.61415,     0.61476,     0.61536,     0.61723,     0.62169,     0.62245,     0.62346,     0.62719,     0.63111,      0.6318,     0.63249,\n",
      "            0.63337,     0.63457,     0.63525,     0.63572,     0.63618,     0.63665,      0.6394,     0.64056,     0.64201,     0.64322,     0.64361,     0.64399,     0.64438,     0.64476,     0.64515,     0.64607,     0.64702,     0.64533,     0.64272,     0.64257,      0.6432,     0.64379,     0.64438,\n",
      "            0.64884,     0.64752,     0.64599,     0.64454,     0.64507,      0.6456,     0.64613,     0.64666,     0.64739,     0.64812,     0.64885,     0.64962,     0.65039,     0.65119,     0.65212,     0.65306,     0.65453,     0.65592,      0.6571,     0.65791,     0.65841,     0.65891,     0.65941,\n",
      "            0.66225,     0.66382,     0.66497,     0.66589,     0.66904,     0.66951,     0.66998,     0.67045,     0.67092,     0.67162,     0.67309,     0.67396,     0.67451,     0.67506,      0.6756,     0.67607,     0.67639,     0.67671,     0.67703,     0.67735,     0.67767,     0.67798,      0.6783,\n",
      "            0.67997,     0.67915,     0.67834,     0.67752,      0.6767,     0.67575,     0.67429,     0.67283,     0.67138,     0.66998,     0.66857,     0.66717,     0.66706,     0.66767,     0.66828,     0.66889,     0.67171,     0.67406,     0.67514,     0.67622,     0.67672,      0.6772,     0.67767,\n",
      "            0.67815,     0.67862,     0.68027,     0.67921,     0.67815,     0.67709,     0.68054,     0.68419,     0.68488,     0.68558,     0.68627,     0.68715,     0.68806,     0.68827,     0.68482,     0.68663,     0.68749,     0.68836,     0.68918,     0.68961,     0.69004,     0.69047,      0.6909,\n",
      "            0.69133,     0.69169,     0.69111,     0.69053,     0.68995,     0.68938,      0.6888,     0.68822,     0.68764,     0.68706,     0.68729,     0.68822,     0.68915,     0.69163,     0.69103,     0.69042,     0.68981,      0.6892,     0.68859,     0.68798,     0.68737,     0.68725,     0.68775,\n",
      "            0.68826,     0.68877,     0.68928,     0.69087,     0.69189,      0.6913,     0.69071,     0.69012,     0.68953,     0.68894,     0.68835,     0.68775,     0.68688,     0.68453,     0.68218,     0.67876,      0.6776,     0.67871,     0.67973,     0.68008,     0.68043,     0.68078,     0.68113,\n",
      "            0.68148,     0.68183,     0.68218,     0.68384,     0.68005,     0.67823,     0.67657,     0.67491,     0.67642,     0.67757,     0.67802,     0.67847,     0.67892,     0.67937,     0.67981,     0.67705,     0.67513,     0.67593,     0.67673,     0.67803,      0.6803,     0.68059,     0.68088,\n",
      "            0.68117,     0.68146,     0.68175,     0.68204,     0.68232,     0.68261,      0.6829,     0.68055,     0.67792,     0.68007,      0.6843,     0.68558,     0.68917,     0.68971,     0.69024,     0.69077,      0.6913,     0.69093,     0.68853,     0.68074,     0.68336,     0.68267,     0.68174,\n",
      "             0.6808,     0.67986,     0.67892,     0.67799,      0.6812,     0.68162,     0.68204,     0.68246,     0.68288,      0.6833,     0.68372,     0.68207,     0.68019,      0.6783,     0.68151,     0.68204,     0.68257,     0.68309,     0.68362,     0.68267,     0.67847,      0.6785,     0.67874,\n",
      "            0.67899,     0.67924,     0.67949,     0.67974,     0.67998,     0.68023,     0.68048,     0.68072,     0.68097,     0.68121,     0.67981,     0.67835,     0.67689,     0.67545,     0.67636,     0.67726,     0.67817,     0.67267,     0.67478,     0.67599,     0.67668,     0.67737,     0.67806,\n",
      "            0.67766,     0.67401,     0.67291,     0.67334,     0.67377,      0.6742,     0.67462,     0.67505,     0.67548,     0.67535,     0.67472,      0.6741,     0.67348,     0.67286,     0.67223,     0.67161,     0.67099,     0.67036,     0.66974,     0.66928,     0.66884,      0.6684,     0.66796,\n",
      "            0.66752,     0.66709,     0.66665,     0.66621,     0.66577,     0.66533,     0.66488,     0.66444,       0.664,     0.66456,     0.66692,     0.66733,     0.66774,     0.66816,     0.66857,     0.66898,     0.66939,     0.67297,     0.67391,     0.67485,     0.67579,     0.67809,     0.67646,\n",
      "            0.67172,     0.66704,     0.66834,     0.66964,     0.67484,     0.67394,     0.67247,      0.6707,     0.66894,     0.66717,     0.66824,     0.66883,     0.66423,      0.6649,     0.66664,     0.66379,     0.66093,     0.66038,     0.66077,     0.66117,     0.66156,     0.66196,     0.66235,\n",
      "            0.66274,     0.66313,     0.66359,     0.66414,     0.66469,     0.66524,     0.66578,     0.66633,     0.66011,      0.6604,     0.66068,     0.66097,     0.66125,     0.66154,     0.66182,     0.66211,     0.66239,     0.66268,     0.66296,     0.66324,     0.66112,     0.65813,     0.65557,\n",
      "             0.6535,     0.65142,     0.64914,     0.64608,     0.64302,      0.6406,     0.63822,     0.63922,     0.64072,     0.64221,     0.63964,     0.63613,     0.63356,     0.63123,     0.62889,     0.63132,      0.6307,     0.63007,     0.62944,     0.62881,     0.62818,     0.62755,     0.62692,\n",
      "            0.62629,     0.62566,     0.62503,      0.6244,     0.62267,     0.62083,     0.61898,     0.61713,     0.60912,     0.60804,     0.60697,     0.60589,     0.60481,     0.60373,     0.60265,     0.60121,     0.59943,     0.59766,     0.59588,     0.58648,     0.58422,     0.58195,     0.57968,\n",
      "            0.57717,      0.5746,     0.57202,      0.5717,     0.57205,     0.57239,     0.57274,     0.57309,     0.57343,     0.57378,     0.57412,     0.57446,     0.57156,     0.56686,     0.56811,      0.5696,     0.56997,     0.57014,      0.5703,     0.57047,     0.57063,      0.5708,     0.57096,\n",
      "            0.57113,     0.57129,     0.57146,     0.57162,     0.57179,     0.57195,     0.57211,     0.57228,     0.57244,      0.5726,     0.57277,     0.57293,     0.57206,      0.5693,     0.56652,     0.56385,     0.56129,     0.55873,     0.56049,     0.56241,     0.56421,     0.56591,     0.55776,\n",
      "            0.55685,     0.55594,     0.55502,      0.5541,     0.55318,     0.55227,     0.55135,     0.55042,      0.5488,     0.54472,     0.54267,     0.54301,     0.54137,     0.53972,     0.53808,     0.53643,     0.53374,     0.53025,     0.52687,     0.52549,     0.52412,     0.52274,     0.52136,\n",
      "            0.51997,     0.51859,      0.5165,     0.51399,     0.51148,     0.50849,     0.49967,     0.49823,      0.4968,     0.49535,     0.49391,     0.49247,     0.49102,     0.48789,     0.48446,     0.48142,     0.48098,     0.48053,     0.48009,     0.47965,      0.4792,     0.47876,     0.47832,\n",
      "            0.47787,     0.47743,     0.47698,     0.47654,     0.47609,     0.47565,      0.4752,     0.47475,     0.47431,     0.47386,     0.47341,     0.47297,     0.47252,     0.47207,     0.47068,     0.46924,     0.46779,     0.46634,     0.46489,     0.46343,     0.46142,     0.45838,     0.45533,\n",
      "              0.446,     0.44007,     0.43476,     0.43061,      0.4192,     0.41406,     0.40892,     0.40575,     0.40258,      0.3991,      0.3944,     0.38967,     0.38603,     0.38249,     0.37892,     0.37628,     0.37379,      0.3713,      0.3688,     0.36549,     0.36107,     0.35663,     0.35451,\n",
      "            0.35265,     0.35079,     0.34893,     0.34707,      0.3452,     0.34153,     0.33741,     0.33313,     0.32082,     0.31613,     0.31142,     0.30776,     0.30463,     0.30148,     0.29832,     0.29975,     0.29831,     0.29687,     0.29542,     0.29398,     0.29253,     0.29108,     0.28963,\n",
      "            0.28817,     0.28609,     0.28376,     0.28142,     0.27908,     0.27673,     0.27382,     0.27015,     0.26646,     0.26277,     0.26198,     0.26119,      0.2604,     0.25961,     0.25882,     0.25803,     0.25724,     0.25644,     0.25565,     0.25485,     0.25406,     0.25326,     0.25246,\n",
      "            0.25167,     0.25087,     0.25007,     0.23778,     0.23396,      0.2307,     0.22742,     0.22414,     0.22139,     0.21869,     0.21598,     0.21326,     0.21053,     0.21013,     0.20974,     0.20934,     0.20895,     0.20855,     0.20815,     0.20776,     0.20736,     0.20696,     0.20657,\n",
      "            0.20617,     0.20577,     0.20538,     0.20498,     0.20458,     0.20419,     0.20379,     0.20339,     0.20299,     0.20259,     0.20219,      0.2018,      0.2014,       0.201,      0.2006,      0.2002,      0.1998,      0.1994,       0.199,      0.1986,      0.1982,      0.1978,      0.1974,\n",
      "              0.197,     0.19785,     0.19826,     0.19755,     0.19685,     0.19614,     0.19543,     0.19473,     0.19402,     0.19331,      0.1926,     0.19189,     0.19118,     0.19047,     0.18976,     0.18905,     0.18834,     0.18762,     0.18691,      0.1862,     0.18548,     0.18477,     0.18351,\n",
      "            0.18211,     0.18071,     0.17931,      0.1779,     0.17649,     0.17508,     0.17367,     0.17225,     0.17084,     0.16188,     0.15499,      0.1524,     0.14981,     0.14721,      0.1446,     0.14198,     0.13801,     0.13388,     0.12973,     0.12656,     0.12533,     0.12409,     0.12286,\n",
      "            0.12162,     0.12038,     0.11914,      0.1179,     0.11665,      0.1154,     0.11416,     0.11291,     0.11162,     0.11023,     0.10883,     0.10744,     0.10604,     0.10464,     0.10324,     0.10184,     0.10043,    0.099026,    0.097616,    0.096201,    0.094778,    0.093353,    0.091925,\n",
      "           0.090496,    0.089064,     0.08763,    0.086194,    0.084756,    0.083315,    0.081873,    0.080279,    0.078584,    0.076886,    0.075186,    0.073482,    0.071775,    0.070065,    0.068353,    0.066637,     0.06087,    0.049282,    0.045989,    0.042686,    0.039371,    0.036045,    0.032904,\n",
      "           0.030612,    0.028314,    0.026011,    0.023702,    0.021388,    0.019069,           0,           0,           0,           0,           0,           0,           0,           0,           0,           0,           0,           0,           0,           0,           0,           0,           0,\n",
      "                  0,           0,           0,           0,           0,           0,           0,           0,           0,           0,           0,           0,           0,           0,           0,           0,           0,           0,           0,           0,           0,           0,           0,\n",
      "                  0,           0,           0,           0,           0,           0,           0,           0,           0,           0,           0,           0,           0,           0,           0,           0,           0,           0,           0,           0,           0,           0,           0,\n",
      "                  0,           0,           0,           0,           0,           0,           0,           0,           0,           0,           0,           0,           0,           0,           0,           0,           0,           0,           0,           0,           0,           0,           0,\n",
      "                  0,           0,           0,           0,           0,           0,           0,           0,           0,           0,           0,           0,           0,           0,           0,           0,           0,           0,           0,           0,           0,           0,           0,\n",
      "                  0,           0,           0,           0,           0,           0,           0,           0,           0,           0,           0,           0,           0,           0,           0,           0,           0,           0,           0,           0,           0,           0,           0,\n",
      "                  0,           0,           0,           0,           0,           0,           0,           0,           0,           0,           0]]), 'Confidence', 'F1'], [array([          0,    0.001001,    0.002002,    0.003003,    0.004004,    0.005005,    0.006006,    0.007007,    0.008008,    0.009009,     0.01001,    0.011011,    0.012012,    0.013013,    0.014014,    0.015015,    0.016016,    0.017017,    0.018018,    0.019019,     0.02002,    0.021021,    0.022022,    0.023023,\n",
      "          0.024024,    0.025025,    0.026026,    0.027027,    0.028028,    0.029029,     0.03003,    0.031031,    0.032032,    0.033033,    0.034034,    0.035035,    0.036036,    0.037037,    0.038038,    0.039039,     0.04004,    0.041041,    0.042042,    0.043043,    0.044044,    0.045045,    0.046046,    0.047047,\n",
      "          0.048048,    0.049049,     0.05005,    0.051051,    0.052052,    0.053053,    0.054054,    0.055055,    0.056056,    0.057057,    0.058058,    0.059059,     0.06006,    0.061061,    0.062062,    0.063063,    0.064064,    0.065065,    0.066066,    0.067067,    0.068068,    0.069069,     0.07007,    0.071071,\n",
      "          0.072072,    0.073073,    0.074074,    0.075075,    0.076076,    0.077077,    0.078078,    0.079079,     0.08008,    0.081081,    0.082082,    0.083083,    0.084084,    0.085085,    0.086086,    0.087087,    0.088088,    0.089089,     0.09009,    0.091091,    0.092092,    0.093093,    0.094094,    0.095095,\n",
      "          0.096096,    0.097097,    0.098098,    0.099099,      0.1001,      0.1011,      0.1021,      0.1031,      0.1041,     0.10511,     0.10611,     0.10711,     0.10811,     0.10911,     0.11011,     0.11111,     0.11211,     0.11311,     0.11411,     0.11512,     0.11612,     0.11712,     0.11812,     0.11912,\n",
      "           0.12012,     0.12112,     0.12212,     0.12312,     0.12412,     0.12513,     0.12613,     0.12713,     0.12813,     0.12913,     0.13013,     0.13113,     0.13213,     0.13313,     0.13413,     0.13514,     0.13614,     0.13714,     0.13814,     0.13914,     0.14014,     0.14114,     0.14214,     0.14314,\n",
      "           0.14414,     0.14515,     0.14615,     0.14715,     0.14815,     0.14915,     0.15015,     0.15115,     0.15215,     0.15315,     0.15415,     0.15516,     0.15616,     0.15716,     0.15816,     0.15916,     0.16016,     0.16116,     0.16216,     0.16316,     0.16416,     0.16517,     0.16617,     0.16717,\n",
      "           0.16817,     0.16917,     0.17017,     0.17117,     0.17217,     0.17317,     0.17417,     0.17518,     0.17618,     0.17718,     0.17818,     0.17918,     0.18018,     0.18118,     0.18218,     0.18318,     0.18418,     0.18519,     0.18619,     0.18719,     0.18819,     0.18919,     0.19019,     0.19119,\n",
      "           0.19219,     0.19319,     0.19419,      0.1952,      0.1962,      0.1972,      0.1982,      0.1992,      0.2002,      0.2012,      0.2022,      0.2032,      0.2042,     0.20521,     0.20621,     0.20721,     0.20821,     0.20921,     0.21021,     0.21121,     0.21221,     0.21321,     0.21421,     0.21522,\n",
      "           0.21622,     0.21722,     0.21822,     0.21922,     0.22022,     0.22122,     0.22222,     0.22322,     0.22422,     0.22523,     0.22623,     0.22723,     0.22823,     0.22923,     0.23023,     0.23123,     0.23223,     0.23323,     0.23423,     0.23524,     0.23624,     0.23724,     0.23824,     0.23924,\n",
      "           0.24024,     0.24124,     0.24224,     0.24324,     0.24424,     0.24525,     0.24625,     0.24725,     0.24825,     0.24925,     0.25025,     0.25125,     0.25225,     0.25325,     0.25425,     0.25526,     0.25626,     0.25726,     0.25826,     0.25926,     0.26026,     0.26126,     0.26226,     0.26326,\n",
      "           0.26426,     0.26527,     0.26627,     0.26727,     0.26827,     0.26927,     0.27027,     0.27127,     0.27227,     0.27327,     0.27427,     0.27528,     0.27628,     0.27728,     0.27828,     0.27928,     0.28028,     0.28128,     0.28228,     0.28328,     0.28428,     0.28529,     0.28629,     0.28729,\n",
      "           0.28829,     0.28929,     0.29029,     0.29129,     0.29229,     0.29329,     0.29429,      0.2953,      0.2963,      0.2973,      0.2983,      0.2993,      0.3003,      0.3013,      0.3023,      0.3033,      0.3043,     0.30531,     0.30631,     0.30731,     0.30831,     0.30931,     0.31031,     0.31131,\n",
      "           0.31231,     0.31331,     0.31431,     0.31532,     0.31632,     0.31732,     0.31832,     0.31932,     0.32032,     0.32132,     0.32232,     0.32332,     0.32432,     0.32533,     0.32633,     0.32733,     0.32833,     0.32933,     0.33033,     0.33133,     0.33233,     0.33333,     0.33433,     0.33534,\n",
      "           0.33634,     0.33734,     0.33834,     0.33934,     0.34034,     0.34134,     0.34234,     0.34334,     0.34434,     0.34535,     0.34635,     0.34735,     0.34835,     0.34935,     0.35035,     0.35135,     0.35235,     0.35335,     0.35435,     0.35536,     0.35636,     0.35736,     0.35836,     0.35936,\n",
      "           0.36036,     0.36136,     0.36236,     0.36336,     0.36436,     0.36537,     0.36637,     0.36737,     0.36837,     0.36937,     0.37037,     0.37137,     0.37237,     0.37337,     0.37437,     0.37538,     0.37638,     0.37738,     0.37838,     0.37938,     0.38038,     0.38138,     0.38238,     0.38338,\n",
      "           0.38438,     0.38539,     0.38639,     0.38739,     0.38839,     0.38939,     0.39039,     0.39139,     0.39239,     0.39339,     0.39439,      0.3954,      0.3964,      0.3974,      0.3984,      0.3994,      0.4004,      0.4014,      0.4024,      0.4034,      0.4044,     0.40541,     0.40641,     0.40741,\n",
      "           0.40841,     0.40941,     0.41041,     0.41141,     0.41241,     0.41341,     0.41441,     0.41542,     0.41642,     0.41742,     0.41842,     0.41942,     0.42042,     0.42142,     0.42242,     0.42342,     0.42442,     0.42543,     0.42643,     0.42743,     0.42843,     0.42943,     0.43043,     0.43143,\n",
      "           0.43243,     0.43343,     0.43443,     0.43544,     0.43644,     0.43744,     0.43844,     0.43944,     0.44044,     0.44144,     0.44244,     0.44344,     0.44444,     0.44545,     0.44645,     0.44745,     0.44845,     0.44945,     0.45045,     0.45145,     0.45245,     0.45345,     0.45445,     0.45546,\n",
      "           0.45646,     0.45746,     0.45846,     0.45946,     0.46046,     0.46146,     0.46246,     0.46346,     0.46446,     0.46547,     0.46647,     0.46747,     0.46847,     0.46947,     0.47047,     0.47147,     0.47247,     0.47347,     0.47447,     0.47548,     0.47648,     0.47748,     0.47848,     0.47948,\n",
      "           0.48048,     0.48148,     0.48248,     0.48348,     0.48448,     0.48549,     0.48649,     0.48749,     0.48849,     0.48949,     0.49049,     0.49149,     0.49249,     0.49349,     0.49449,      0.4955,      0.4965,      0.4975,      0.4985,      0.4995,      0.5005,      0.5015,      0.5025,      0.5035,\n",
      "            0.5045,     0.50551,     0.50651,     0.50751,     0.50851,     0.50951,     0.51051,     0.51151,     0.51251,     0.51351,     0.51451,     0.51552,     0.51652,     0.51752,     0.51852,     0.51952,     0.52052,     0.52152,     0.52252,     0.52352,     0.52452,     0.52553,     0.52653,     0.52753,\n",
      "           0.52853,     0.52953,     0.53053,     0.53153,     0.53253,     0.53353,     0.53453,     0.53554,     0.53654,     0.53754,     0.53854,     0.53954,     0.54054,     0.54154,     0.54254,     0.54354,     0.54454,     0.54555,     0.54655,     0.54755,     0.54855,     0.54955,     0.55055,     0.55155,\n",
      "           0.55255,     0.55355,     0.55455,     0.55556,     0.55656,     0.55756,     0.55856,     0.55956,     0.56056,     0.56156,     0.56256,     0.56356,     0.56456,     0.56557,     0.56657,     0.56757,     0.56857,     0.56957,     0.57057,     0.57157,     0.57257,     0.57357,     0.57457,     0.57558,\n",
      "           0.57658,     0.57758,     0.57858,     0.57958,     0.58058,     0.58158,     0.58258,     0.58358,     0.58458,     0.58559,     0.58659,     0.58759,     0.58859,     0.58959,     0.59059,     0.59159,     0.59259,     0.59359,     0.59459,      0.5956,      0.5966,      0.5976,      0.5986,      0.5996,\n",
      "            0.6006,      0.6016,      0.6026,      0.6036,      0.6046,     0.60561,     0.60661,     0.60761,     0.60861,     0.60961,     0.61061,     0.61161,     0.61261,     0.61361,     0.61461,     0.61562,     0.61662,     0.61762,     0.61862,     0.61962,     0.62062,     0.62162,     0.62262,     0.62362,\n",
      "           0.62462,     0.62563,     0.62663,     0.62763,     0.62863,     0.62963,     0.63063,     0.63163,     0.63263,     0.63363,     0.63463,     0.63564,     0.63664,     0.63764,     0.63864,     0.63964,     0.64064,     0.64164,     0.64264,     0.64364,     0.64464,     0.64565,     0.64665,     0.64765,\n",
      "           0.64865,     0.64965,     0.65065,     0.65165,     0.65265,     0.65365,     0.65465,     0.65566,     0.65666,     0.65766,     0.65866,     0.65966,     0.66066,     0.66166,     0.66266,     0.66366,     0.66466,     0.66567,     0.66667,     0.66767,     0.66867,     0.66967,     0.67067,     0.67167,\n",
      "           0.67267,     0.67367,     0.67467,     0.67568,     0.67668,     0.67768,     0.67868,     0.67968,     0.68068,     0.68168,     0.68268,     0.68368,     0.68468,     0.68569,     0.68669,     0.68769,     0.68869,     0.68969,     0.69069,     0.69169,     0.69269,     0.69369,     0.69469,      0.6957,\n",
      "            0.6967,      0.6977,      0.6987,      0.6997,      0.7007,      0.7017,      0.7027,      0.7037,      0.7047,     0.70571,     0.70671,     0.70771,     0.70871,     0.70971,     0.71071,     0.71171,     0.71271,     0.71371,     0.71471,     0.71572,     0.71672,     0.71772,     0.71872,     0.71972,\n",
      "           0.72072,     0.72172,     0.72272,     0.72372,     0.72472,     0.72573,     0.72673,     0.72773,     0.72873,     0.72973,     0.73073,     0.73173,     0.73273,     0.73373,     0.73473,     0.73574,     0.73674,     0.73774,     0.73874,     0.73974,     0.74074,     0.74174,     0.74274,     0.74374,\n",
      "           0.74474,     0.74575,     0.74675,     0.74775,     0.74875,     0.74975,     0.75075,     0.75175,     0.75275,     0.75375,     0.75475,     0.75576,     0.75676,     0.75776,     0.75876,     0.75976,     0.76076,     0.76176,     0.76276,     0.76376,     0.76476,     0.76577,     0.76677,     0.76777,\n",
      "           0.76877,     0.76977,     0.77077,     0.77177,     0.77277,     0.77377,     0.77477,     0.77578,     0.77678,     0.77778,     0.77878,     0.77978,     0.78078,     0.78178,     0.78278,     0.78378,     0.78478,     0.78579,     0.78679,     0.78779,     0.78879,     0.78979,     0.79079,     0.79179,\n",
      "           0.79279,     0.79379,     0.79479,      0.7958,      0.7968,      0.7978,      0.7988,      0.7998,      0.8008,      0.8018,      0.8028,      0.8038,      0.8048,     0.80581,     0.80681,     0.80781,     0.80881,     0.80981,     0.81081,     0.81181,     0.81281,     0.81381,     0.81481,     0.81582,\n",
      "           0.81682,     0.81782,     0.81882,     0.81982,     0.82082,     0.82182,     0.82282,     0.82382,     0.82482,     0.82583,     0.82683,     0.82783,     0.82883,     0.82983,     0.83083,     0.83183,     0.83283,     0.83383,     0.83483,     0.83584,     0.83684,     0.83784,     0.83884,     0.83984,\n",
      "           0.84084,     0.84184,     0.84284,     0.84384,     0.84484,     0.84585,     0.84685,     0.84785,     0.84885,     0.84985,     0.85085,     0.85185,     0.85285,     0.85385,     0.85485,     0.85586,     0.85686,     0.85786,     0.85886,     0.85986,     0.86086,     0.86186,     0.86286,     0.86386,\n",
      "           0.86486,     0.86587,     0.86687,     0.86787,     0.86887,     0.86987,     0.87087,     0.87187,     0.87287,     0.87387,     0.87487,     0.87588,     0.87688,     0.87788,     0.87888,     0.87988,     0.88088,     0.88188,     0.88288,     0.88388,     0.88488,     0.88589,     0.88689,     0.88789,\n",
      "           0.88889,     0.88989,     0.89089,     0.89189,     0.89289,     0.89389,     0.89489,      0.8959,      0.8969,      0.8979,      0.8989,      0.8999,      0.9009,      0.9019,      0.9029,      0.9039,      0.9049,     0.90591,     0.90691,     0.90791,     0.90891,     0.90991,     0.91091,     0.91191,\n",
      "           0.91291,     0.91391,     0.91491,     0.91592,     0.91692,     0.91792,     0.91892,     0.91992,     0.92092,     0.92192,     0.92292,     0.92392,     0.92492,     0.92593,     0.92693,     0.92793,     0.92893,     0.92993,     0.93093,     0.93193,     0.93293,     0.93393,     0.93493,     0.93594,\n",
      "           0.93694,     0.93794,     0.93894,     0.93994,     0.94094,     0.94194,     0.94294,     0.94394,     0.94494,     0.94595,     0.94695,     0.94795,     0.94895,     0.94995,     0.95095,     0.95195,     0.95295,     0.95395,     0.95495,     0.95596,     0.95696,     0.95796,     0.95896,     0.95996,\n",
      "           0.96096,     0.96196,     0.96296,     0.96396,     0.96496,     0.96597,     0.96697,     0.96797,     0.96897,     0.96997,     0.97097,     0.97197,     0.97297,     0.97397,     0.97497,     0.97598,     0.97698,     0.97798,     0.97898,     0.97998,     0.98098,     0.98198,     0.98298,     0.98398,\n",
      "           0.98498,     0.98599,     0.98699,     0.98799,     0.98899,     0.98999,     0.99099,     0.99199,     0.99299,     0.99399,     0.99499,       0.996,       0.997,       0.998,       0.999,           1]), array([[   0.074098,    0.074166,     0.10196,     0.12607,     0.14189,     0.14936,     0.16161,     0.17396,     0.18163,     0.19116,     0.20001,     0.20961,      0.2184,     0.22446,     0.23043,      0.2363,     0.24465,     0.24796,     0.25539,     0.25967,     0.26321,     0.26995,      0.2756,\n",
      "            0.28015,     0.28555,     0.29018,     0.29256,     0.29658,     0.29836,     0.30333,     0.30607,     0.30919,     0.31397,     0.32174,      0.3273,     0.32835,     0.33013,     0.33441,     0.33694,     0.33826,     0.34056,     0.34325,     0.34453,     0.34599,     0.34757,     0.34991,\n",
      "            0.35054,     0.35229,     0.35278,     0.35327,      0.3585,     0.36132,     0.36396,       0.366,     0.37204,     0.37349,     0.37397,     0.37445,     0.37582,     0.37785,     0.38007,     0.38094,     0.38379,     0.38711,     0.38878,     0.39031,     0.39712,     0.40201,     0.40465,\n",
      "            0.40609,     0.41115,      0.4147,     0.41565,     0.41688,      0.4186,     0.42154,     0.42567,     0.42708,     0.42313,     0.42464,     0.42735,     0.42982,     0.43019,     0.43056,     0.43092,     0.43129,     0.43192,     0.43307,     0.43449,      0.4363,     0.43901,     0.43968,\n",
      "            0.44034,     0.44127,     0.44247,     0.44535,     0.44866,     0.44932,     0.44999,     0.45331,     0.45235,     0.45401,     0.45484,     0.45567,     0.46225,     0.46625,     0.46736,     0.46609,     0.46834,     0.46962,     0.47192,     0.47739,     0.47861,     0.47913,     0.47945,\n",
      "            0.47977,     0.48009,     0.48042,     0.48074,     0.48106,     0.48257,     0.48387,     0.48471,     0.48555,     0.48257,     0.48163,     0.48084,     0.48158,     0.48232,     0.48306,     0.48538,      0.4909,     0.49186,     0.49312,      0.4978,     0.50277,     0.50364,     0.50451,\n",
      "            0.50564,     0.50716,     0.50803,     0.50863,     0.50923,     0.50983,     0.51337,     0.51486,     0.51674,     0.51831,     0.51881,     0.51931,     0.51981,     0.52031,     0.52081,     0.52202,     0.52326,     0.52246,     0.52098,     0.52399,     0.52484,     0.52562,      0.5264,\n",
      "            0.53238,     0.53176,     0.53089,     0.53008,      0.5308,     0.53152,     0.53224,     0.53295,     0.53395,     0.53494,     0.53594,     0.53699,     0.53804,     0.53914,     0.54042,     0.54171,     0.54373,     0.54566,      0.5473,     0.54841,     0.54911,      0.5498,      0.5505,\n",
      "            0.55447,     0.55668,      0.5583,      0.5596,     0.56406,     0.56473,      0.5654,     0.56607,     0.56674,     0.56774,     0.56984,     0.57109,     0.57188,     0.57267,     0.57345,     0.57413,     0.57459,     0.57505,     0.57551,     0.57597,     0.57643,     0.57689,     0.57735,\n",
      "            0.58044,        0.58,     0.57955,     0.57911,     0.57866,     0.57814,     0.57735,     0.57655,     0.57576,     0.57499,     0.57422,     0.57345,     0.57375,     0.57465,     0.57556,     0.57646,     0.58067,     0.58419,     0.58582,     0.58745,      0.5882,     0.58892,     0.58964,\n",
      "            0.59036,     0.59108,     0.59446,     0.59389,     0.59332,     0.59275,     0.59879,     0.60447,     0.60555,     0.60664,     0.60772,     0.60911,     0.61053,     0.61151,     0.61055,     0.61343,     0.61481,      0.6162,     0.61751,     0.61821,      0.6189,     0.61959,     0.62029,\n",
      "            0.62098,      0.6216,      0.6213,       0.621,     0.62069,     0.62039,     0.62009,     0.61979,     0.61949,     0.61919,     0.61986,     0.62137,     0.62288,     0.62739,     0.62707,     0.62676,     0.62644,     0.62613,     0.62581,     0.62549,     0.62518,     0.62537,     0.62621,\n",
      "            0.62705,      0.6279,     0.62874,     0.63139,     0.63359,     0.63329,     0.63298,     0.63268,     0.63237,     0.63207,     0.63176,     0.63146,     0.63101,     0.62979,     0.62858,     0.62679,     0.62685,     0.62875,      0.6305,     0.63111,     0.63171,     0.63232,     0.63293,\n",
      "            0.63353,     0.63414,     0.63474,     0.63762,     0.63714,      0.6362,     0.63534,     0.63449,     0.63755,     0.63959,     0.64039,      0.6412,       0.642,      0.6428,     0.64361,     0.64242,       0.642,     0.64345,     0.64491,     0.64726,     0.65142,     0.65195,     0.65248,\n",
      "            0.65302,     0.65355,     0.65408,     0.65461,     0.65514,     0.65567,      0.6562,     0.65505,     0.65373,     0.65824,     0.66621,     0.66864,     0.67552,     0.67654,     0.67757,     0.67859,     0.67962,     0.67997,     0.67881,     0.67514,     0.68031,     0.68025,     0.67979,\n",
      "            0.67934,     0.67889,     0.67843,     0.67798,     0.68446,     0.68531,     0.68617,     0.68702,     0.68787,     0.68872,     0.68957,     0.68885,     0.68795,     0.68705,     0.69397,     0.69507,     0.69616,     0.69726,     0.69836,      0.6985,     0.69653,     0.69693,     0.69745,\n",
      "            0.69797,      0.6985,     0.69902,     0.69954,     0.70007,     0.70059,     0.70112,     0.70164,     0.70216,     0.70269,     0.70204,     0.70136,     0.70068,     0.70001,     0.70197,     0.70393,     0.70589,     0.70393,     0.70857,     0.71125,     0.71278,     0.71431,     0.71584,\n",
      "            0.71656,     0.71491,     0.71489,     0.71586,     0.71683,      0.7178,     0.71876,     0.71973,      0.7207,       0.721,     0.72072,     0.72044,     0.72016,     0.71988,      0.7196,     0.71932,     0.71903,     0.71875,     0.71847,     0.71826,     0.71806,     0.71786,     0.71766,\n",
      "            0.71746,     0.71726,     0.71706,     0.71686,     0.71666,     0.71646,     0.71625,     0.71605,     0.71585,     0.71783,     0.72337,     0.72434,     0.72531,     0.72628,     0.72726,     0.72823,      0.7292,     0.73775,     0.74002,     0.74229,     0.74456,     0.75017,     0.75149,\n",
      "             0.7495,     0.74831,      0.7516,     0.75489,     0.76822,     0.77085,     0.77754,     0.77685,     0.77616,     0.77547,     0.77955,     0.78368,     0.78192,     0.78573,     0.79069,     0.78962,     0.78855,     0.78904,     0.79017,      0.7913,     0.79243,     0.79356,     0.79468,\n",
      "            0.79581,     0.79694,     0.79826,     0.79986,     0.80145,     0.80305,     0.80465,     0.80624,      0.8052,     0.80606,     0.80691,     0.80776,     0.80862,     0.80947,     0.81032,     0.81118,     0.81203,     0.81288,     0.81374,     0.81459,     0.81406,     0.81303,     0.81215,\n",
      "            0.81143,     0.81071,     0.80991,     0.80883,     0.80775,     0.80688,     0.80603,     0.81593,     0.82085,     0.82576,     0.82572,     0.82456,      0.8237,     0.82291,     0.82212,     0.83325,     0.83305,     0.83284,     0.83264,     0.83243,     0.83223,     0.83203,     0.83182,\n",
      "            0.83162,     0.83141,     0.83121,     0.83101,     0.83043,     0.82982,     0.82922,     0.82861,     0.82591,     0.82554,     0.82517,     0.82481,     0.82444,     0.82407,      0.8237,      0.8232,     0.82258,     0.82196,     0.82134,     0.81801,     0.81719,     0.81637,     0.81555,\n",
      "            0.81462,     0.81367,     0.81272,     0.81359,       0.815,     0.81642,     0.81783,     0.81924,     0.82066,     0.82207,     0.82348,      0.8249,     0.82432,     0.82265,     0.82869,     0.83505,     0.83667,     0.83738,      0.8381,     0.83881,     0.83953,     0.84024,     0.84096,\n",
      "            0.84167,     0.84239,      0.8431,     0.84382,     0.84453,     0.84525,     0.84596,     0.84668,     0.84739,     0.84811,     0.84882,     0.84954,     0.84969,     0.84882,     0.84795,     0.84709,     0.84627,     0.84544,     0.86198,      0.8711,     0.87979,     0.88814,      0.8888,\n",
      "            0.88857,     0.88834,     0.88811,     0.88788,     0.88765,     0.88743,      0.8872,     0.88697,     0.88656,     0.88552,     0.89262,     0.90165,     0.90128,     0.90091,     0.90053,     0.90016,     0.89954,     0.89873,     0.89794,     0.89761,     0.89728,     0.89695,     0.89662,\n",
      "            0.89629,     0.89596,     0.89544,     0.89482,      0.8942,     0.89346,     0.89122,     0.89084,     0.89046,     0.89008,      0.8897,     0.88932,     0.88895,      0.8881,     0.88717,     0.88635,     0.88622,      0.8861,     0.88597,     0.88585,     0.88572,      0.8856,     0.88547,\n",
      "            0.88535,     0.88522,      0.8851,     0.88497,     0.88485,     0.88473,      0.8846,     0.88448,     0.88435,     0.88423,      0.8841,     0.88398,     0.88385,     0.88373,     0.88332,      0.8829,     0.88248,     0.88206,     0.88164,     0.88122,     0.88063,     0.87971,      0.8788,\n",
      "            0.89856,     0.91921,     0.91804,     0.91712,     0.91449,     0.93998,     0.93909,     0.93853,     0.93796,     0.93733,     0.93645,     0.93556,     0.93484,     0.93414,     0.93344,     0.93289,     0.93237,     0.93185,     0.93133,     0.93062,     0.92965,     0.92867,     0.92818,\n",
      "            0.92775,     0.92731,     0.92688,     0.92645,     0.92601,     0.92511,     0.92408,     0.92302,     0.91976,     0.91843,      0.9171,     0.91603,     0.91508,     0.91413,     0.91318,      0.9545,     0.95424,     0.95399,     0.95373,     0.95348,     0.95322,     0.95296,     0.95271,\n",
      "            0.95245,     0.95206,     0.95161,     0.95116,     0.95071,     0.95026,     0.94968,     0.94891,     0.94814,     0.94737,     0.94719,       0.947,     0.94682,     0.94664,     0.94646,     0.94628,      0.9461,     0.94591,     0.94573,     0.94555,     0.94537,     0.94519,     0.94501,\n",
      "            0.94482,     0.94464,     0.94446,     0.94136,     0.94031,      0.9394,     0.93848,     0.93757,     0.93672,     0.93587,     0.93503,     0.93418,     0.93333,     0.93319,     0.93305,     0.93291,     0.93277,     0.93263,      0.9325,     0.93236,     0.93222,     0.93208,     0.93194,\n",
      "             0.9318,     0.93166,     0.93152,     0.93138,     0.93124,      0.9311,     0.93096,     0.93082,     0.93068,     0.93054,      0.9304,     0.93026,     0.93012,     0.92998,     0.92984,      0.9297,     0.92956,     0.92942,     0.92928,     0.92914,       0.929,     0.92886,     0.92872,\n",
      "            0.92858,     0.96942,           1,           1,           1,           1,           1,           1,           1,           1,           1,           1,           1,           1,           1,           1,           1,           1,           1,           1,           1,           1,           1,\n",
      "                  1,           1,           1,           1,           1,           1,           1,           1,           1,           1,           1,           1,           1,           1,           1,           1,           1,           1,           1,           1,           1,           1,           1,\n",
      "                  1,           1,           1,           1,           1,           1,           1,           1,           1,           1,           1,           1,           1,           1,           1,           1,           1,           1,           1,           1,           1,           1,           1,\n",
      "                  1,           1,           1,           1,           1,           1,           1,           1,           1,           1,           1,           1,           1,           1,           1,           1,           1,           1,           1,           1,           1,           1,           1,\n",
      "                  1,           1,           1,           1,           1,           1,           1,           1,           1,           1,           1,           1,           1,           1,           1,           1,           1,           1,           1,           1,           1,           1,           1,\n",
      "                  1,           1,           1,           1,           1,           1,           1,           1,           1,           1,           1,           1,           1,           1,           1,           1,           1,           1,           1,           1,           1,           1,           1,\n",
      "                  1,           1,           1,           1,           1,           1,           1,           1,           1,           1,           1,           1,           1,           1,           1,           1,           1,           1,           1,           1,           1,           1,           1,\n",
      "                  1,           1,           1,           1,           1,           1,           1,           1,           1,           1,           1,           1,           1,           1,           1,           1,           1,           1,           1,           1,           1,           1,           1,\n",
      "                  1,           1,           1,           1,           1,           1,           1,           1,           1,           1,           1,           1,           1,           1,           1,           1,           1,           1,           1,           1,           1,           1,           1,\n",
      "                  1,           1,           1,           1,           1,           1,           1,           1,           1,           1,           1,           1,           1,           1,           1,           1,           1,           1,           1,           1,           1,           1,           1,\n",
      "                  1,           1,           1,           1,           1,           1,           1,           1,           1,           1,           1]]), 'Confidence', 'Precision'], [array([          0,    0.001001,    0.002002,    0.003003,    0.004004,    0.005005,    0.006006,    0.007007,    0.008008,    0.009009,     0.01001,    0.011011,    0.012012,    0.013013,    0.014014,    0.015015,    0.016016,    0.017017,    0.018018,    0.019019,     0.02002,    0.021021,    0.022022,    0.023023,\n",
      "          0.024024,    0.025025,    0.026026,    0.027027,    0.028028,    0.029029,     0.03003,    0.031031,    0.032032,    0.033033,    0.034034,    0.035035,    0.036036,    0.037037,    0.038038,    0.039039,     0.04004,    0.041041,    0.042042,    0.043043,    0.044044,    0.045045,    0.046046,    0.047047,\n",
      "          0.048048,    0.049049,     0.05005,    0.051051,    0.052052,    0.053053,    0.054054,    0.055055,    0.056056,    0.057057,    0.058058,    0.059059,     0.06006,    0.061061,    0.062062,    0.063063,    0.064064,    0.065065,    0.066066,    0.067067,    0.068068,    0.069069,     0.07007,    0.071071,\n",
      "          0.072072,    0.073073,    0.074074,    0.075075,    0.076076,    0.077077,    0.078078,    0.079079,     0.08008,    0.081081,    0.082082,    0.083083,    0.084084,    0.085085,    0.086086,    0.087087,    0.088088,    0.089089,     0.09009,    0.091091,    0.092092,    0.093093,    0.094094,    0.095095,\n",
      "          0.096096,    0.097097,    0.098098,    0.099099,      0.1001,      0.1011,      0.1021,      0.1031,      0.1041,     0.10511,     0.10611,     0.10711,     0.10811,     0.10911,     0.11011,     0.11111,     0.11211,     0.11311,     0.11411,     0.11512,     0.11612,     0.11712,     0.11812,     0.11912,\n",
      "           0.12012,     0.12112,     0.12212,     0.12312,     0.12412,     0.12513,     0.12613,     0.12713,     0.12813,     0.12913,     0.13013,     0.13113,     0.13213,     0.13313,     0.13413,     0.13514,     0.13614,     0.13714,     0.13814,     0.13914,     0.14014,     0.14114,     0.14214,     0.14314,\n",
      "           0.14414,     0.14515,     0.14615,     0.14715,     0.14815,     0.14915,     0.15015,     0.15115,     0.15215,     0.15315,     0.15415,     0.15516,     0.15616,     0.15716,     0.15816,     0.15916,     0.16016,     0.16116,     0.16216,     0.16316,     0.16416,     0.16517,     0.16617,     0.16717,\n",
      "           0.16817,     0.16917,     0.17017,     0.17117,     0.17217,     0.17317,     0.17417,     0.17518,     0.17618,     0.17718,     0.17818,     0.17918,     0.18018,     0.18118,     0.18218,     0.18318,     0.18418,     0.18519,     0.18619,     0.18719,     0.18819,     0.18919,     0.19019,     0.19119,\n",
      "           0.19219,     0.19319,     0.19419,      0.1952,      0.1962,      0.1972,      0.1982,      0.1992,      0.2002,      0.2012,      0.2022,      0.2032,      0.2042,     0.20521,     0.20621,     0.20721,     0.20821,     0.20921,     0.21021,     0.21121,     0.21221,     0.21321,     0.21421,     0.21522,\n",
      "           0.21622,     0.21722,     0.21822,     0.21922,     0.22022,     0.22122,     0.22222,     0.22322,     0.22422,     0.22523,     0.22623,     0.22723,     0.22823,     0.22923,     0.23023,     0.23123,     0.23223,     0.23323,     0.23423,     0.23524,     0.23624,     0.23724,     0.23824,     0.23924,\n",
      "           0.24024,     0.24124,     0.24224,     0.24324,     0.24424,     0.24525,     0.24625,     0.24725,     0.24825,     0.24925,     0.25025,     0.25125,     0.25225,     0.25325,     0.25425,     0.25526,     0.25626,     0.25726,     0.25826,     0.25926,     0.26026,     0.26126,     0.26226,     0.26326,\n",
      "           0.26426,     0.26527,     0.26627,     0.26727,     0.26827,     0.26927,     0.27027,     0.27127,     0.27227,     0.27327,     0.27427,     0.27528,     0.27628,     0.27728,     0.27828,     0.27928,     0.28028,     0.28128,     0.28228,     0.28328,     0.28428,     0.28529,     0.28629,     0.28729,\n",
      "           0.28829,     0.28929,     0.29029,     0.29129,     0.29229,     0.29329,     0.29429,      0.2953,      0.2963,      0.2973,      0.2983,      0.2993,      0.3003,      0.3013,      0.3023,      0.3033,      0.3043,     0.30531,     0.30631,     0.30731,     0.30831,     0.30931,     0.31031,     0.31131,\n",
      "           0.31231,     0.31331,     0.31431,     0.31532,     0.31632,     0.31732,     0.31832,     0.31932,     0.32032,     0.32132,     0.32232,     0.32332,     0.32432,     0.32533,     0.32633,     0.32733,     0.32833,     0.32933,     0.33033,     0.33133,     0.33233,     0.33333,     0.33433,     0.33534,\n",
      "           0.33634,     0.33734,     0.33834,     0.33934,     0.34034,     0.34134,     0.34234,     0.34334,     0.34434,     0.34535,     0.34635,     0.34735,     0.34835,     0.34935,     0.35035,     0.35135,     0.35235,     0.35335,     0.35435,     0.35536,     0.35636,     0.35736,     0.35836,     0.35936,\n",
      "           0.36036,     0.36136,     0.36236,     0.36336,     0.36436,     0.36537,     0.36637,     0.36737,     0.36837,     0.36937,     0.37037,     0.37137,     0.37237,     0.37337,     0.37437,     0.37538,     0.37638,     0.37738,     0.37838,     0.37938,     0.38038,     0.38138,     0.38238,     0.38338,\n",
      "           0.38438,     0.38539,     0.38639,     0.38739,     0.38839,     0.38939,     0.39039,     0.39139,     0.39239,     0.39339,     0.39439,      0.3954,      0.3964,      0.3974,      0.3984,      0.3994,      0.4004,      0.4014,      0.4024,      0.4034,      0.4044,     0.40541,     0.40641,     0.40741,\n",
      "           0.40841,     0.40941,     0.41041,     0.41141,     0.41241,     0.41341,     0.41441,     0.41542,     0.41642,     0.41742,     0.41842,     0.41942,     0.42042,     0.42142,     0.42242,     0.42342,     0.42442,     0.42543,     0.42643,     0.42743,     0.42843,     0.42943,     0.43043,     0.43143,\n",
      "           0.43243,     0.43343,     0.43443,     0.43544,     0.43644,     0.43744,     0.43844,     0.43944,     0.44044,     0.44144,     0.44244,     0.44344,     0.44444,     0.44545,     0.44645,     0.44745,     0.44845,     0.44945,     0.45045,     0.45145,     0.45245,     0.45345,     0.45445,     0.45546,\n",
      "           0.45646,     0.45746,     0.45846,     0.45946,     0.46046,     0.46146,     0.46246,     0.46346,     0.46446,     0.46547,     0.46647,     0.46747,     0.46847,     0.46947,     0.47047,     0.47147,     0.47247,     0.47347,     0.47447,     0.47548,     0.47648,     0.47748,     0.47848,     0.47948,\n",
      "           0.48048,     0.48148,     0.48248,     0.48348,     0.48448,     0.48549,     0.48649,     0.48749,     0.48849,     0.48949,     0.49049,     0.49149,     0.49249,     0.49349,     0.49449,      0.4955,      0.4965,      0.4975,      0.4985,      0.4995,      0.5005,      0.5015,      0.5025,      0.5035,\n",
      "            0.5045,     0.50551,     0.50651,     0.50751,     0.50851,     0.50951,     0.51051,     0.51151,     0.51251,     0.51351,     0.51451,     0.51552,     0.51652,     0.51752,     0.51852,     0.51952,     0.52052,     0.52152,     0.52252,     0.52352,     0.52452,     0.52553,     0.52653,     0.52753,\n",
      "           0.52853,     0.52953,     0.53053,     0.53153,     0.53253,     0.53353,     0.53453,     0.53554,     0.53654,     0.53754,     0.53854,     0.53954,     0.54054,     0.54154,     0.54254,     0.54354,     0.54454,     0.54555,     0.54655,     0.54755,     0.54855,     0.54955,     0.55055,     0.55155,\n",
      "           0.55255,     0.55355,     0.55455,     0.55556,     0.55656,     0.55756,     0.55856,     0.55956,     0.56056,     0.56156,     0.56256,     0.56356,     0.56456,     0.56557,     0.56657,     0.56757,     0.56857,     0.56957,     0.57057,     0.57157,     0.57257,     0.57357,     0.57457,     0.57558,\n",
      "           0.57658,     0.57758,     0.57858,     0.57958,     0.58058,     0.58158,     0.58258,     0.58358,     0.58458,     0.58559,     0.58659,     0.58759,     0.58859,     0.58959,     0.59059,     0.59159,     0.59259,     0.59359,     0.59459,      0.5956,      0.5966,      0.5976,      0.5986,      0.5996,\n",
      "            0.6006,      0.6016,      0.6026,      0.6036,      0.6046,     0.60561,     0.60661,     0.60761,     0.60861,     0.60961,     0.61061,     0.61161,     0.61261,     0.61361,     0.61461,     0.61562,     0.61662,     0.61762,     0.61862,     0.61962,     0.62062,     0.62162,     0.62262,     0.62362,\n",
      "           0.62462,     0.62563,     0.62663,     0.62763,     0.62863,     0.62963,     0.63063,     0.63163,     0.63263,     0.63363,     0.63463,     0.63564,     0.63664,     0.63764,     0.63864,     0.63964,     0.64064,     0.64164,     0.64264,     0.64364,     0.64464,     0.64565,     0.64665,     0.64765,\n",
      "           0.64865,     0.64965,     0.65065,     0.65165,     0.65265,     0.65365,     0.65465,     0.65566,     0.65666,     0.65766,     0.65866,     0.65966,     0.66066,     0.66166,     0.66266,     0.66366,     0.66466,     0.66567,     0.66667,     0.66767,     0.66867,     0.66967,     0.67067,     0.67167,\n",
      "           0.67267,     0.67367,     0.67467,     0.67568,     0.67668,     0.67768,     0.67868,     0.67968,     0.68068,     0.68168,     0.68268,     0.68368,     0.68468,     0.68569,     0.68669,     0.68769,     0.68869,     0.68969,     0.69069,     0.69169,     0.69269,     0.69369,     0.69469,      0.6957,\n",
      "            0.6967,      0.6977,      0.6987,      0.6997,      0.7007,      0.7017,      0.7027,      0.7037,      0.7047,     0.70571,     0.70671,     0.70771,     0.70871,     0.70971,     0.71071,     0.71171,     0.71271,     0.71371,     0.71471,     0.71572,     0.71672,     0.71772,     0.71872,     0.71972,\n",
      "           0.72072,     0.72172,     0.72272,     0.72372,     0.72472,     0.72573,     0.72673,     0.72773,     0.72873,     0.72973,     0.73073,     0.73173,     0.73273,     0.73373,     0.73473,     0.73574,     0.73674,     0.73774,     0.73874,     0.73974,     0.74074,     0.74174,     0.74274,     0.74374,\n",
      "           0.74474,     0.74575,     0.74675,     0.74775,     0.74875,     0.74975,     0.75075,     0.75175,     0.75275,     0.75375,     0.75475,     0.75576,     0.75676,     0.75776,     0.75876,     0.75976,     0.76076,     0.76176,     0.76276,     0.76376,     0.76476,     0.76577,     0.76677,     0.76777,\n",
      "           0.76877,     0.76977,     0.77077,     0.77177,     0.77277,     0.77377,     0.77477,     0.77578,     0.77678,     0.77778,     0.77878,     0.77978,     0.78078,     0.78178,     0.78278,     0.78378,     0.78478,     0.78579,     0.78679,     0.78779,     0.78879,     0.78979,     0.79079,     0.79179,\n",
      "           0.79279,     0.79379,     0.79479,      0.7958,      0.7968,      0.7978,      0.7988,      0.7998,      0.8008,      0.8018,      0.8028,      0.8038,      0.8048,     0.80581,     0.80681,     0.80781,     0.80881,     0.80981,     0.81081,     0.81181,     0.81281,     0.81381,     0.81481,     0.81582,\n",
      "           0.81682,     0.81782,     0.81882,     0.81982,     0.82082,     0.82182,     0.82282,     0.82382,     0.82482,     0.82583,     0.82683,     0.82783,     0.82883,     0.82983,     0.83083,     0.83183,     0.83283,     0.83383,     0.83483,     0.83584,     0.83684,     0.83784,     0.83884,     0.83984,\n",
      "           0.84084,     0.84184,     0.84284,     0.84384,     0.84484,     0.84585,     0.84685,     0.84785,     0.84885,     0.84985,     0.85085,     0.85185,     0.85285,     0.85385,     0.85485,     0.85586,     0.85686,     0.85786,     0.85886,     0.85986,     0.86086,     0.86186,     0.86286,     0.86386,\n",
      "           0.86486,     0.86587,     0.86687,     0.86787,     0.86887,     0.86987,     0.87087,     0.87187,     0.87287,     0.87387,     0.87487,     0.87588,     0.87688,     0.87788,     0.87888,     0.87988,     0.88088,     0.88188,     0.88288,     0.88388,     0.88488,     0.88589,     0.88689,     0.88789,\n",
      "           0.88889,     0.88989,     0.89089,     0.89189,     0.89289,     0.89389,     0.89489,      0.8959,      0.8969,      0.8979,      0.8989,      0.8999,      0.9009,      0.9019,      0.9029,      0.9039,      0.9049,     0.90591,     0.90691,     0.90791,     0.90891,     0.90991,     0.91091,     0.91191,\n",
      "           0.91291,     0.91391,     0.91491,     0.91592,     0.91692,     0.91792,     0.91892,     0.91992,     0.92092,     0.92192,     0.92292,     0.92392,     0.92492,     0.92593,     0.92693,     0.92793,     0.92893,     0.92993,     0.93093,     0.93193,     0.93293,     0.93393,     0.93493,     0.93594,\n",
      "           0.93694,     0.93794,     0.93894,     0.93994,     0.94094,     0.94194,     0.94294,     0.94394,     0.94494,     0.94595,     0.94695,     0.94795,     0.94895,     0.94995,     0.95095,     0.95195,     0.95295,     0.95395,     0.95495,     0.95596,     0.95696,     0.95796,     0.95896,     0.95996,\n",
      "           0.96096,     0.96196,     0.96296,     0.96396,     0.96496,     0.96597,     0.96697,     0.96797,     0.96897,     0.96997,     0.97097,     0.97197,     0.97297,     0.97397,     0.97497,     0.97598,     0.97698,     0.97798,     0.97898,     0.97998,     0.98098,     0.98198,     0.98298,     0.98398,\n",
      "           0.98498,     0.98599,     0.98699,     0.98799,     0.98899,     0.98999,     0.99099,     0.99199,     0.99299,     0.99399,     0.99499,       0.996,       0.997,       0.998,       0.999,           1]), array([[    0.97458,     0.97458,     0.97458,     0.97458,     0.97458,     0.94915,     0.94915,     0.94068,      0.9322,      0.9322,      0.9322,      0.9322,      0.9322,      0.9322,      0.9322,     0.91525,     0.91525,     0.91525,     0.91525,     0.91525,     0.91525,     0.91525,     0.91525,\n",
      "            0.91525,     0.91525,     0.91525,     0.90678,     0.89831,     0.89831,     0.89831,     0.89831,     0.89831,     0.89831,     0.89831,     0.89831,     0.89831,     0.89831,     0.89831,     0.89831,     0.89831,     0.89831,     0.89831,     0.89831,     0.89831,     0.89831,     0.89831,\n",
      "            0.89831,     0.89831,     0.89831,     0.89831,     0.89831,     0.89831,     0.89831,     0.89831,     0.89831,     0.89831,     0.89831,     0.89831,     0.89831,     0.89831,     0.89831,     0.89831,     0.89831,     0.89831,     0.89831,     0.89831,     0.89831,     0.89831,     0.89831,\n",
      "            0.89831,     0.89831,     0.89831,     0.89831,     0.89831,     0.89831,     0.89831,     0.89831,     0.89707,      0.8827,     0.88136,     0.88136,     0.88136,     0.88136,     0.88136,     0.88136,     0.88136,     0.88136,     0.88136,     0.88136,     0.88136,     0.88136,     0.88136,\n",
      "            0.88136,     0.88136,     0.88136,     0.88136,     0.88136,     0.88136,     0.88136,     0.88136,     0.87288,     0.87288,     0.87288,     0.87288,     0.87288,     0.87288,     0.87288,     0.86557,     0.86441,     0.86441,     0.86441,     0.86441,     0.86441,     0.86441,     0.86441,\n",
      "            0.86441,     0.86441,     0.86441,     0.86441,     0.86441,     0.86441,     0.86441,     0.86441,     0.86441,      0.8536,     0.85038,     0.84746,     0.84746,     0.84746,     0.84746,     0.84746,     0.84746,     0.84746,     0.84746,     0.84746,     0.84746,     0.84746,     0.84746,\n",
      "            0.84746,     0.84746,     0.84746,     0.84746,     0.84746,     0.84746,     0.84746,     0.84746,     0.84746,     0.84746,     0.84746,     0.84746,     0.84746,     0.84746,     0.84746,     0.84746,     0.84746,     0.84375,     0.83873,     0.83051,     0.83051,     0.83051,     0.83051,\n",
      "            0.83051,     0.82771,     0.82481,     0.82203,     0.82203,     0.82203,     0.82203,     0.82203,     0.82203,     0.82203,     0.82203,     0.82203,     0.82203,     0.82203,     0.82203,     0.82203,     0.82203,     0.82203,     0.82203,     0.82203,     0.82203,     0.82203,     0.82203,\n",
      "            0.82203,     0.82203,     0.82203,     0.82203,     0.82203,     0.82203,     0.82203,     0.82203,     0.82203,     0.82203,     0.82203,     0.82203,     0.82203,     0.82203,     0.82203,     0.82203,     0.82203,     0.82203,     0.82203,     0.82203,     0.82203,     0.82203,     0.82203,\n",
      "             0.8207,     0.81921,     0.81772,     0.81623,     0.81473,       0.813,     0.81036,     0.80772,     0.80508,     0.80256,     0.80004,     0.79751,     0.79661,     0.79661,     0.79661,     0.79661,     0.79661,     0.79661,     0.79661,     0.79661,     0.79661,     0.79661,     0.79661,\n",
      "            0.79661,     0.79661,     0.79504,     0.79317,     0.79129,     0.78942,     0.78814,     0.78814,     0.78814,     0.78814,     0.78814,     0.78814,     0.78814,     0.78705,     0.77966,     0.77966,     0.77966,     0.77966,     0.77966,     0.77966,     0.77966,     0.77966,     0.77966,\n",
      "            0.77966,     0.77959,      0.7786,      0.7776,     0.77661,     0.77562,     0.77462,     0.77363,     0.77264,     0.77164,     0.77119,     0.77119,     0.77119,     0.77054,      0.7695,     0.76847,     0.76743,      0.7664,     0.76536,     0.76433,     0.76329,     0.76271,     0.76271,\n",
      "            0.76271,     0.76271,     0.76271,     0.76271,     0.76202,     0.76102,     0.76003,     0.75904,     0.75805,     0.75705,     0.75606,     0.75507,      0.7536,     0.74969,     0.74578,     0.74013,     0.73729,     0.73729,     0.73729,     0.73729,     0.73729,     0.73729,     0.73729,\n",
      "            0.73729,     0.73729,     0.73729,     0.73729,     0.72915,      0.7262,     0.72352,     0.72083,     0.72034,     0.72034,     0.72034,     0.72034,     0.72034,     0.72034,     0.72034,     0.71561,     0.71186,     0.71186,     0.71186,     0.71186,     0.71186,     0.71186,     0.71186,\n",
      "            0.71186,     0.71186,     0.71186,     0.71186,     0.71186,     0.71186,     0.71186,     0.70811,     0.70398,     0.70339,     0.70339,     0.70339,     0.70339,     0.70339,     0.70339,     0.70339,     0.70339,     0.70225,     0.69853,     0.68644,     0.68644,     0.68512,     0.68369,\n",
      "            0.68227,     0.68084,     0.67942,       0.678,     0.67797,     0.67797,     0.67797,     0.67797,     0.67797,     0.67797,     0.67797,     0.67543,      0.6726,     0.66978,     0.66949,     0.66949,     0.66949,     0.66949,     0.66949,     0.66754,     0.66133,     0.66102,     0.66102,\n",
      "            0.66102,     0.66102,     0.66102,     0.66102,     0.66102,     0.66102,     0.66102,     0.66102,     0.66102,     0.66102,     0.65895,     0.65681,     0.65467,     0.65254,     0.65254,     0.65254,     0.65254,     0.64407,     0.64407,     0.64407,     0.64407,     0.64407,     0.64407,\n",
      "            0.64276,     0.63754,     0.63559,     0.63559,     0.63559,     0.63559,     0.63559,     0.63559,     0.63559,     0.63513,     0.63425,     0.63336,     0.63248,      0.6316,     0.63072,     0.62984,     0.62896,     0.62808,     0.62719,     0.62655,     0.62594,     0.62532,     0.62471,\n",
      "            0.62409,     0.62347,     0.62286,     0.62224,     0.62162,     0.62101,     0.62039,     0.61977,     0.61916,     0.61864,     0.61864,     0.61864,     0.61864,     0.61864,     0.61864,     0.61864,     0.61864,     0.61864,     0.61864,     0.61864,     0.61864,     0.61864,     0.61506,\n",
      "            0.60857,     0.60169,     0.60169,     0.60169,     0.60169,     0.59868,     0.59241,     0.59007,     0.58774,      0.5854,     0.58475,     0.58334,     0.57734,     0.57627,     0.57623,     0.57255,     0.56887,      0.5678,      0.5678,      0.5678,      0.5678,      0.5678,      0.5678,\n",
      "             0.5678,      0.5678,      0.5678,      0.5678,      0.5678,      0.5678,      0.5678,      0.5678,     0.55932,     0.55932,     0.55932,     0.55932,     0.55932,     0.55932,     0.55932,     0.55932,     0.55932,     0.55932,     0.55932,     0.55932,     0.55656,      0.5528,     0.54961,\n",
      "            0.54703,     0.54444,     0.54162,     0.53786,      0.5341,     0.53115,     0.52824,     0.52542,     0.52542,     0.52542,       0.522,     0.51781,     0.51474,     0.51197,      0.5092,     0.50818,     0.50744,      0.5067,     0.50596,     0.50523,     0.50449,     0.50375,     0.50302,\n",
      "            0.50228,     0.50154,     0.50081,     0.50007,     0.49806,     0.49592,     0.49378,     0.49165,     0.48247,     0.48125,     0.48003,     0.47881,     0.47759,     0.47637,     0.47514,     0.47351,     0.47152,     0.46953,     0.46754,     0.45711,     0.45462,     0.45213,     0.44964,\n",
      "            0.44691,     0.44411,     0.44132,     0.44068,     0.44068,     0.44068,     0.44068,     0.44068,     0.44068,     0.44068,     0.44068,     0.44068,     0.43743,     0.43241,      0.4322,      0.4322,      0.4322,      0.4322,      0.4322,      0.4322,      0.4322,      0.4322,      0.4322,\n",
      "             0.4322,      0.4322,      0.4322,      0.4322,      0.4322,      0.4322,      0.4322,      0.4322,      0.4322,      0.4322,      0.4322,      0.4322,     0.43118,     0.42827,     0.42536,     0.42255,      0.4199,     0.41724,     0.41525,     0.41525,     0.41525,     0.41525,      0.4064,\n",
      "            0.40548,     0.40456,     0.40363,     0.40271,     0.40179,     0.40087,     0.39994,     0.39902,      0.3974,     0.39334,     0.38983,     0.38848,     0.38687,     0.38527,     0.38366,     0.38205,     0.37944,     0.37606,      0.3728,     0.37149,     0.37017,     0.36885,     0.36753,\n",
      "            0.36622,      0.3649,     0.36292,     0.36055,     0.35818,     0.35537,     0.34715,     0.34582,      0.3445,     0.34317,     0.34184,     0.34051,     0.33918,     0.33633,     0.33321,     0.33045,     0.33005,     0.32965,     0.32925,     0.32885,     0.32845,     0.32805,     0.32765,\n",
      "            0.32725,     0.32685,     0.32645,     0.32605,     0.32565,     0.32525,     0.32485,     0.32445,     0.32405,     0.32365,     0.32325,     0.32285,     0.32245,     0.32205,     0.32081,     0.31953,     0.31824,     0.31696,     0.31567,     0.31438,      0.3126,     0.30994,     0.30727,\n",
      "            0.29661,     0.28928,     0.28483,     0.28135,     0.27192,     0.26551,     0.26136,     0.25883,     0.25629,     0.25353,     0.24981,     0.24609,     0.24324,     0.24047,     0.23771,     0.23567,     0.23375,     0.23184,     0.22992,      0.2274,     0.22404,     0.22069,     0.21909,\n",
      "             0.2177,     0.21631,     0.21492,     0.21353,     0.21214,     0.20943,     0.20639,     0.20324,      0.1943,     0.19093,     0.18755,     0.18495,     0.18273,      0.1805,     0.17828,     0.17779,     0.17679,     0.17578,     0.17478,     0.17378,     0.17278,     0.17177,     0.17077,\n",
      "            0.16977,     0.16833,     0.16674,     0.16514,     0.16354,     0.16194,     0.15998,     0.15749,     0.15501,     0.15254,     0.15201,     0.15149,     0.15096,     0.15043,     0.14991,     0.14938,     0.14885,     0.14833,      0.1478,     0.14727,     0.14675,     0.14622,     0.14569,\n",
      "            0.14517,     0.14464,     0.14411,     0.13608,      0.1336,      0.1315,     0.12939,     0.12728,     0.12553,     0.12381,     0.12209,     0.12037,     0.11865,      0.1184,     0.11815,      0.1179,     0.11765,      0.1174,     0.11715,      0.1169,     0.11665,     0.11641,     0.11616,\n",
      "            0.11591,     0.11566,     0.11541,     0.11516,     0.11491,     0.11467,     0.11442,     0.11417,     0.11392,     0.11367,     0.11342,     0.11317,     0.11292,     0.11268,     0.11243,     0.11218,     0.11193,     0.11168,     0.11143,     0.11118,     0.11093,     0.11069,     0.11044,\n",
      "            0.11019,     0.11017,     0.11004,      0.1096,     0.10917,     0.10873,      0.1083,     0.10786,     0.10743,       0.107,     0.10656,     0.10613,     0.10569,     0.10526,     0.10483,     0.10439,     0.10396,     0.10352,     0.10309,     0.10266,     0.10222,     0.10179,     0.10103,\n",
      "            0.10018,    0.099331,    0.098483,    0.097635,    0.096787,    0.095939,    0.095091,    0.094243,    0.093395,     0.08807,    0.084005,    0.082487,    0.080969,    0.079452,    0.077934,    0.076416,    0.074119,    0.071741,    0.069363,    0.067557,    0.066854,    0.066152,     0.06545,\n",
      "           0.064747,    0.064045,    0.063343,     0.06264,    0.061938,    0.061235,    0.060533,    0.059831,    0.059107,    0.058328,    0.057548,    0.056769,    0.055989,     0.05521,     0.05443,    0.053651,    0.052872,    0.052092,    0.051313,    0.050531,    0.049746,    0.048962,    0.048177,\n",
      "           0.047392,    0.046607,    0.045823,    0.045038,    0.044253,    0.043468,    0.042684,    0.041818,    0.040899,     0.03998,    0.039061,    0.038142,    0.037223,    0.036305,    0.035386,    0.034467,     0.03139,    0.025264,    0.023536,    0.021808,    0.020081,    0.018353,    0.016727,\n",
      "           0.015544,     0.01436,    0.013177,    0.011993,     0.01081,   0.0096263,           0,           0,           0,           0,           0,           0,           0,           0,           0,           0,           0,           0,           0,           0,           0,           0,           0,\n",
      "                  0,           0,           0,           0,           0,           0,           0,           0,           0,           0,           0,           0,           0,           0,           0,           0,           0,           0,           0,           0,           0,           0,           0,\n",
      "                  0,           0,           0,           0,           0,           0,           0,           0,           0,           0,           0,           0,           0,           0,           0,           0,           0,           0,           0,           0,           0,           0,           0,\n",
      "                  0,           0,           0,           0,           0,           0,           0,           0,           0,           0,           0,           0,           0,           0,           0,           0,           0,           0,           0,           0,           0,           0,           0,\n",
      "                  0,           0,           0,           0,           0,           0,           0,           0,           0,           0,           0,           0,           0,           0,           0,           0,           0,           0,           0,           0,           0,           0,           0,\n",
      "                  0,           0,           0,           0,           0,           0,           0,           0,           0,           0,           0,           0,           0,           0,           0,           0,           0,           0,           0,           0,           0,           0,           0,\n",
      "                  0,           0,           0,           0,           0,           0,           0,           0,           0,           0,           0]]), 'Confidence', 'Recall']]\n",
      "fitness: 0.4353243383319248\n",
      "keys: ['metrics/precision(B)', 'metrics/recall(B)', 'metrics/mAP50(B)', 'metrics/mAP50-95(B)']\n",
      "maps: array([    0.40096])\n",
      "names: {0: 'Pulmonary nodules'}\n",
      "plot: True\n",
      "results_dict: {'metrics/precision(B)': 0.628577442256267, 'metrics/recall(B)': 0.7457820583668041, 'metrics/mAP50(B)': 0.7445648213310467, 'metrics/mAP50-95(B)': 0.40096428466535566, 'fitness': 0.4353243383319248}\n",
      "save_dir: WindowsPath('runs/detect/train1314')\n",
      "speed: {'preprocess': 1.0084762411602473, 'inference': 15.008263668771518, 'loss': 0.02549260349596961, 'postprocess': 2.5679762080564337}\n",
      "task: 'detect'\n",
      "Train Results: ultralytics.utils.metrics.DetMetrics object with attributes:\n",
      "\n",
      "ap_class_index: array([0])\n",
      "box: ultralytics.utils.metrics.Metric object\n",
      "confusion_matrix: <ultralytics.utils.metrics.ConfusionMatrix object at 0x000001FB81D15B80>\n",
      "curves: ['Precision-Recall(B)', 'F1-Confidence(B)', 'Precision-Confidence(B)', 'Recall-Confidence(B)']\n",
      "curves_results: [[array([          0,    0.001001,    0.002002,    0.003003,    0.004004,    0.005005,    0.006006,    0.007007,    0.008008,    0.009009,     0.01001,    0.011011,    0.012012,    0.013013,    0.014014,    0.015015,    0.016016,    0.017017,    0.018018,    0.019019,     0.02002,    0.021021,    0.022022,    0.023023,\n",
      "          0.024024,    0.025025,    0.026026,    0.027027,    0.028028,    0.029029,     0.03003,    0.031031,    0.032032,    0.033033,    0.034034,    0.035035,    0.036036,    0.037037,    0.038038,    0.039039,     0.04004,    0.041041,    0.042042,    0.043043,    0.044044,    0.045045,    0.046046,    0.047047,\n",
      "          0.048048,    0.049049,     0.05005,    0.051051,    0.052052,    0.053053,    0.054054,    0.055055,    0.056056,    0.057057,    0.058058,    0.059059,     0.06006,    0.061061,    0.062062,    0.063063,    0.064064,    0.065065,    0.066066,    0.067067,    0.068068,    0.069069,     0.07007,    0.071071,\n",
      "          0.072072,    0.073073,    0.074074,    0.075075,    0.076076,    0.077077,    0.078078,    0.079079,     0.08008,    0.081081,    0.082082,    0.083083,    0.084084,    0.085085,    0.086086,    0.087087,    0.088088,    0.089089,     0.09009,    0.091091,    0.092092,    0.093093,    0.094094,    0.095095,\n",
      "          0.096096,    0.097097,    0.098098,    0.099099,      0.1001,      0.1011,      0.1021,      0.1031,      0.1041,     0.10511,     0.10611,     0.10711,     0.10811,     0.10911,     0.11011,     0.11111,     0.11211,     0.11311,     0.11411,     0.11512,     0.11612,     0.11712,     0.11812,     0.11912,\n",
      "           0.12012,     0.12112,     0.12212,     0.12312,     0.12412,     0.12513,     0.12613,     0.12713,     0.12813,     0.12913,     0.13013,     0.13113,     0.13213,     0.13313,     0.13413,     0.13514,     0.13614,     0.13714,     0.13814,     0.13914,     0.14014,     0.14114,     0.14214,     0.14314,\n",
      "           0.14414,     0.14515,     0.14615,     0.14715,     0.14815,     0.14915,     0.15015,     0.15115,     0.15215,     0.15315,     0.15415,     0.15516,     0.15616,     0.15716,     0.15816,     0.15916,     0.16016,     0.16116,     0.16216,     0.16316,     0.16416,     0.16517,     0.16617,     0.16717,\n",
      "           0.16817,     0.16917,     0.17017,     0.17117,     0.17217,     0.17317,     0.17417,     0.17518,     0.17618,     0.17718,     0.17818,     0.17918,     0.18018,     0.18118,     0.18218,     0.18318,     0.18418,     0.18519,     0.18619,     0.18719,     0.18819,     0.18919,     0.19019,     0.19119,\n",
      "           0.19219,     0.19319,     0.19419,      0.1952,      0.1962,      0.1972,      0.1982,      0.1992,      0.2002,      0.2012,      0.2022,      0.2032,      0.2042,     0.20521,     0.20621,     0.20721,     0.20821,     0.20921,     0.21021,     0.21121,     0.21221,     0.21321,     0.21421,     0.21522,\n",
      "           0.21622,     0.21722,     0.21822,     0.21922,     0.22022,     0.22122,     0.22222,     0.22322,     0.22422,     0.22523,     0.22623,     0.22723,     0.22823,     0.22923,     0.23023,     0.23123,     0.23223,     0.23323,     0.23423,     0.23524,     0.23624,     0.23724,     0.23824,     0.23924,\n",
      "           0.24024,     0.24124,     0.24224,     0.24324,     0.24424,     0.24525,     0.24625,     0.24725,     0.24825,     0.24925,     0.25025,     0.25125,     0.25225,     0.25325,     0.25425,     0.25526,     0.25626,     0.25726,     0.25826,     0.25926,     0.26026,     0.26126,     0.26226,     0.26326,\n",
      "           0.26426,     0.26527,     0.26627,     0.26727,     0.26827,     0.26927,     0.27027,     0.27127,     0.27227,     0.27327,     0.27427,     0.27528,     0.27628,     0.27728,     0.27828,     0.27928,     0.28028,     0.28128,     0.28228,     0.28328,     0.28428,     0.28529,     0.28629,     0.28729,\n",
      "           0.28829,     0.28929,     0.29029,     0.29129,     0.29229,     0.29329,     0.29429,      0.2953,      0.2963,      0.2973,      0.2983,      0.2993,      0.3003,      0.3013,      0.3023,      0.3033,      0.3043,     0.30531,     0.30631,     0.30731,     0.30831,     0.30931,     0.31031,     0.31131,\n",
      "           0.31231,     0.31331,     0.31431,     0.31532,     0.31632,     0.31732,     0.31832,     0.31932,     0.32032,     0.32132,     0.32232,     0.32332,     0.32432,     0.32533,     0.32633,     0.32733,     0.32833,     0.32933,     0.33033,     0.33133,     0.33233,     0.33333,     0.33433,     0.33534,\n",
      "           0.33634,     0.33734,     0.33834,     0.33934,     0.34034,     0.34134,     0.34234,     0.34334,     0.34434,     0.34535,     0.34635,     0.34735,     0.34835,     0.34935,     0.35035,     0.35135,     0.35235,     0.35335,     0.35435,     0.35536,     0.35636,     0.35736,     0.35836,     0.35936,\n",
      "           0.36036,     0.36136,     0.36236,     0.36336,     0.36436,     0.36537,     0.36637,     0.36737,     0.36837,     0.36937,     0.37037,     0.37137,     0.37237,     0.37337,     0.37437,     0.37538,     0.37638,     0.37738,     0.37838,     0.37938,     0.38038,     0.38138,     0.38238,     0.38338,\n",
      "           0.38438,     0.38539,     0.38639,     0.38739,     0.38839,     0.38939,     0.39039,     0.39139,     0.39239,     0.39339,     0.39439,      0.3954,      0.3964,      0.3974,      0.3984,      0.3994,      0.4004,      0.4014,      0.4024,      0.4034,      0.4044,     0.40541,     0.40641,     0.40741,\n",
      "           0.40841,     0.40941,     0.41041,     0.41141,     0.41241,     0.41341,     0.41441,     0.41542,     0.41642,     0.41742,     0.41842,     0.41942,     0.42042,     0.42142,     0.42242,     0.42342,     0.42442,     0.42543,     0.42643,     0.42743,     0.42843,     0.42943,     0.43043,     0.43143,\n",
      "           0.43243,     0.43343,     0.43443,     0.43544,     0.43644,     0.43744,     0.43844,     0.43944,     0.44044,     0.44144,     0.44244,     0.44344,     0.44444,     0.44545,     0.44645,     0.44745,     0.44845,     0.44945,     0.45045,     0.45145,     0.45245,     0.45345,     0.45445,     0.45546,\n",
      "           0.45646,     0.45746,     0.45846,     0.45946,     0.46046,     0.46146,     0.46246,     0.46346,     0.46446,     0.46547,     0.46647,     0.46747,     0.46847,     0.46947,     0.47047,     0.47147,     0.47247,     0.47347,     0.47447,     0.47548,     0.47648,     0.47748,     0.47848,     0.47948,\n",
      "           0.48048,     0.48148,     0.48248,     0.48348,     0.48448,     0.48549,     0.48649,     0.48749,     0.48849,     0.48949,     0.49049,     0.49149,     0.49249,     0.49349,     0.49449,      0.4955,      0.4965,      0.4975,      0.4985,      0.4995,      0.5005,      0.5015,      0.5025,      0.5035,\n",
      "            0.5045,     0.50551,     0.50651,     0.50751,     0.50851,     0.50951,     0.51051,     0.51151,     0.51251,     0.51351,     0.51451,     0.51552,     0.51652,     0.51752,     0.51852,     0.51952,     0.52052,     0.52152,     0.52252,     0.52352,     0.52452,     0.52553,     0.52653,     0.52753,\n",
      "           0.52853,     0.52953,     0.53053,     0.53153,     0.53253,     0.53353,     0.53453,     0.53554,     0.53654,     0.53754,     0.53854,     0.53954,     0.54054,     0.54154,     0.54254,     0.54354,     0.54454,     0.54555,     0.54655,     0.54755,     0.54855,     0.54955,     0.55055,     0.55155,\n",
      "           0.55255,     0.55355,     0.55455,     0.55556,     0.55656,     0.55756,     0.55856,     0.55956,     0.56056,     0.56156,     0.56256,     0.56356,     0.56456,     0.56557,     0.56657,     0.56757,     0.56857,     0.56957,     0.57057,     0.57157,     0.57257,     0.57357,     0.57457,     0.57558,\n",
      "           0.57658,     0.57758,     0.57858,     0.57958,     0.58058,     0.58158,     0.58258,     0.58358,     0.58458,     0.58559,     0.58659,     0.58759,     0.58859,     0.58959,     0.59059,     0.59159,     0.59259,     0.59359,     0.59459,      0.5956,      0.5966,      0.5976,      0.5986,      0.5996,\n",
      "            0.6006,      0.6016,      0.6026,      0.6036,      0.6046,     0.60561,     0.60661,     0.60761,     0.60861,     0.60961,     0.61061,     0.61161,     0.61261,     0.61361,     0.61461,     0.61562,     0.61662,     0.61762,     0.61862,     0.61962,     0.62062,     0.62162,     0.62262,     0.62362,\n",
      "           0.62462,     0.62563,     0.62663,     0.62763,     0.62863,     0.62963,     0.63063,     0.63163,     0.63263,     0.63363,     0.63463,     0.63564,     0.63664,     0.63764,     0.63864,     0.63964,     0.64064,     0.64164,     0.64264,     0.64364,     0.64464,     0.64565,     0.64665,     0.64765,\n",
      "           0.64865,     0.64965,     0.65065,     0.65165,     0.65265,     0.65365,     0.65465,     0.65566,     0.65666,     0.65766,     0.65866,     0.65966,     0.66066,     0.66166,     0.66266,     0.66366,     0.66466,     0.66567,     0.66667,     0.66767,     0.66867,     0.66967,     0.67067,     0.67167,\n",
      "           0.67267,     0.67367,     0.67467,     0.67568,     0.67668,     0.67768,     0.67868,     0.67968,     0.68068,     0.68168,     0.68268,     0.68368,     0.68468,     0.68569,     0.68669,     0.68769,     0.68869,     0.68969,     0.69069,     0.69169,     0.69269,     0.69369,     0.69469,      0.6957,\n",
      "            0.6967,      0.6977,      0.6987,      0.6997,      0.7007,      0.7017,      0.7027,      0.7037,      0.7047,     0.70571,     0.70671,     0.70771,     0.70871,     0.70971,     0.71071,     0.71171,     0.71271,     0.71371,     0.71471,     0.71572,     0.71672,     0.71772,     0.71872,     0.71972,\n",
      "           0.72072,     0.72172,     0.72272,     0.72372,     0.72472,     0.72573,     0.72673,     0.72773,     0.72873,     0.72973,     0.73073,     0.73173,     0.73273,     0.73373,     0.73473,     0.73574,     0.73674,     0.73774,     0.73874,     0.73974,     0.74074,     0.74174,     0.74274,     0.74374,\n",
      "           0.74474,     0.74575,     0.74675,     0.74775,     0.74875,     0.74975,     0.75075,     0.75175,     0.75275,     0.75375,     0.75475,     0.75576,     0.75676,     0.75776,     0.75876,     0.75976,     0.76076,     0.76176,     0.76276,     0.76376,     0.76476,     0.76577,     0.76677,     0.76777,\n",
      "           0.76877,     0.76977,     0.77077,     0.77177,     0.77277,     0.77377,     0.77477,     0.77578,     0.77678,     0.77778,     0.77878,     0.77978,     0.78078,     0.78178,     0.78278,     0.78378,     0.78478,     0.78579,     0.78679,     0.78779,     0.78879,     0.78979,     0.79079,     0.79179,\n",
      "           0.79279,     0.79379,     0.79479,      0.7958,      0.7968,      0.7978,      0.7988,      0.7998,      0.8008,      0.8018,      0.8028,      0.8038,      0.8048,     0.80581,     0.80681,     0.80781,     0.80881,     0.80981,     0.81081,     0.81181,     0.81281,     0.81381,     0.81481,     0.81582,\n",
      "           0.81682,     0.81782,     0.81882,     0.81982,     0.82082,     0.82182,     0.82282,     0.82382,     0.82482,     0.82583,     0.82683,     0.82783,     0.82883,     0.82983,     0.83083,     0.83183,     0.83283,     0.83383,     0.83483,     0.83584,     0.83684,     0.83784,     0.83884,     0.83984,\n",
      "           0.84084,     0.84184,     0.84284,     0.84384,     0.84484,     0.84585,     0.84685,     0.84785,     0.84885,     0.84985,     0.85085,     0.85185,     0.85285,     0.85385,     0.85485,     0.85586,     0.85686,     0.85786,     0.85886,     0.85986,     0.86086,     0.86186,     0.86286,     0.86386,\n",
      "           0.86486,     0.86587,     0.86687,     0.86787,     0.86887,     0.86987,     0.87087,     0.87187,     0.87287,     0.87387,     0.87487,     0.87588,     0.87688,     0.87788,     0.87888,     0.87988,     0.88088,     0.88188,     0.88288,     0.88388,     0.88488,     0.88589,     0.88689,     0.88789,\n",
      "           0.88889,     0.88989,     0.89089,     0.89189,     0.89289,     0.89389,     0.89489,      0.8959,      0.8969,      0.8979,      0.8989,      0.8999,      0.9009,      0.9019,      0.9029,      0.9039,      0.9049,     0.90591,     0.90691,     0.90791,     0.90891,     0.90991,     0.91091,     0.91191,\n",
      "           0.91291,     0.91391,     0.91491,     0.91592,     0.91692,     0.91792,     0.91892,     0.91992,     0.92092,     0.92192,     0.92292,     0.92392,     0.92492,     0.92593,     0.92693,     0.92793,     0.92893,     0.92993,     0.93093,     0.93193,     0.93293,     0.93393,     0.93493,     0.93594,\n",
      "           0.93694,     0.93794,     0.93894,     0.93994,     0.94094,     0.94194,     0.94294,     0.94394,     0.94494,     0.94595,     0.94695,     0.94795,     0.94895,     0.94995,     0.95095,     0.95195,     0.95295,     0.95395,     0.95495,     0.95596,     0.95696,     0.95796,     0.95896,     0.95996,\n",
      "           0.96096,     0.96196,     0.96296,     0.96396,     0.96496,     0.96597,     0.96697,     0.96797,     0.96897,     0.96997,     0.97097,     0.97197,     0.97297,     0.97397,     0.97497,     0.97598,     0.97698,     0.97798,     0.97898,     0.97998,     0.98098,     0.98198,     0.98298,     0.98398,\n",
      "           0.98498,     0.98599,     0.98699,     0.98799,     0.98899,     0.98999,     0.99099,     0.99199,     0.99299,     0.99399,     0.99499,       0.996,       0.997,       0.998,       0.999,           1]), array([[    0.97143,     0.97143,     0.97143,     0.97143,     0.97143,     0.97143,     0.97143,     0.97143,     0.97143,     0.97143,     0.97143,     0.97143,     0.97143,     0.97143,     0.97143,     0.97143,     0.97143,     0.97143,     0.97143,     0.97143,     0.97143,     0.97143,     0.97143,\n",
      "            0.97143,     0.97143,     0.97143,     0.97143,     0.97143,     0.97143,     0.97143,     0.97143,     0.97143,     0.97143,     0.97143,     0.97143,     0.97143,     0.97015,     0.97015,     0.97015,     0.97015,     0.97015,     0.97015,     0.97015,     0.97015,     0.97015,     0.97015,\n",
      "            0.97015,     0.97015,     0.97015,     0.97015,     0.97015,     0.97015,     0.97015,     0.97015,     0.97015,     0.97015,     0.97015,     0.97015,     0.97015,     0.97015,     0.97015,     0.97015,     0.97015,     0.97015,     0.97015,     0.97015,     0.97015,     0.97015,     0.96255,\n",
      "            0.96255,     0.96255,     0.96255,     0.96255,     0.96255,     0.96255,     0.96255,     0.96255,     0.96255,     0.96255,     0.96255,     0.96255,     0.96255,     0.96255,     0.96255,     0.96255,     0.96255,     0.96255,     0.96255,     0.96255,     0.96255,     0.96255,     0.96255,\n",
      "            0.96255,     0.96255,     0.96255,     0.96255,     0.96255,     0.96255,     0.96255,     0.96255,     0.96255,     0.96255,     0.96255,     0.96255,     0.96255,     0.96255,     0.96255,     0.96255,     0.96255,     0.96255,     0.96255,     0.96255,     0.96255,     0.96255,     0.96255,\n",
      "            0.96255,     0.96255,     0.96255,     0.96255,     0.96255,     0.96255,     0.96255,     0.96255,     0.96255,     0.96255,     0.96255,     0.96255,     0.96255,     0.96255,     0.96255,     0.96255,     0.96255,     0.96255,     0.96255,     0.96255,     0.96255,     0.96255,     0.96255,\n",
      "            0.96255,     0.96255,     0.96255,     0.96255,     0.96255,     0.96255,     0.96255,     0.96255,     0.96255,     0.96255,     0.96255,     0.96255,     0.96255,     0.96255,     0.96255,     0.96255,     0.96255,     0.96255,     0.96255,     0.96255,     0.96255,     0.96255,     0.96255,\n",
      "            0.96255,     0.96255,     0.96255,     0.96255,     0.96255,     0.96255,     0.96255,     0.96255,     0.96255,     0.96255,     0.96255,     0.96255,     0.96255,     0.96255,     0.96255,     0.96255,     0.96255,     0.96255,     0.96255,     0.96255,     0.96255,     0.96255,     0.96255,\n",
      "            0.96255,     0.96255,     0.96255,     0.96255,     0.96255,     0.96255,     0.96255,     0.96255,     0.96255,     0.96255,     0.96255,     0.96255,     0.96255,     0.96255,     0.96255,     0.96255,     0.96255,     0.96255,     0.96255,     0.96255,     0.96255,     0.96255,     0.96255,\n",
      "            0.96255,     0.96255,     0.96255,     0.96255,     0.96255,     0.96255,     0.96255,     0.96255,     0.96255,     0.96255,     0.96255,     0.96255,     0.96255,     0.96255,     0.96255,     0.96255,     0.96255,     0.96255,     0.96255,     0.96255,     0.96255,     0.96255,     0.96255,\n",
      "            0.96255,     0.96255,     0.96255,     0.96255,     0.96255,     0.96255,     0.96255,     0.96255,     0.96255,     0.96255,     0.96255,     0.96255,     0.96255,     0.96255,     0.96255,     0.96255,     0.96255,     0.96255,     0.96255,     0.96255,     0.96255,     0.96255,     0.96255,\n",
      "            0.96255,     0.96255,     0.96255,     0.96255,     0.96255,     0.96255,     0.96255,     0.96255,     0.96255,     0.96255,     0.96255,     0.96255,     0.96255,     0.96255,      0.9622,      0.9622,      0.9622,      0.9622,      0.9622,      0.9622,      0.9622,      0.9622,      0.9622,\n",
      "             0.9622,      0.9622,      0.9622,      0.9622,      0.9622,      0.9622,      0.9622,      0.9622,      0.9622,      0.9622,      0.9622,      0.9622,      0.9622,      0.9622,      0.9622,     0.96053,     0.96053,     0.96053,     0.96053,     0.96053,     0.96053,     0.96053,     0.96053,\n",
      "            0.96053,     0.96053,     0.96053,     0.96053,     0.95873,     0.95873,     0.95873,     0.95873,     0.95873,     0.95873,     0.95873,     0.95873,     0.95873,     0.95873,     0.95873,     0.95625,     0.95625,     0.95625,     0.95625,      0.9537,      0.9537,      0.9537,     0.95362,\n",
      "            0.95362,     0.95362,     0.95362,     0.95362,     0.95362,     0.95362,     0.95362,     0.95362,     0.95362,     0.95362,     0.95362,     0.95362,     0.95362,     0.95362,     0.95362,     0.95362,     0.95362,     0.95362,     0.95362,     0.95362,     0.95129,     0.95129,     0.95129,\n",
      "            0.95082,     0.95082,     0.95082,     0.95082,     0.95082,     0.95082,     0.95082,     0.95082,     0.95082,     0.95082,     0.95082,     0.95082,     0.95082,     0.95082,     0.95082,     0.95082,     0.95082,     0.95026,     0.95026,     0.95026,     0.95026,     0.95026,     0.95026,\n",
      "            0.95026,     0.95026,     0.95026,     0.95026,     0.95026,     0.95026,     0.95026,     0.95026,     0.95026,     0.94845,     0.94845,     0.94845,     0.94845,     0.94845,     0.94643,     0.94643,     0.94643,     0.94231,     0.94231,     0.94231,     0.94231,     0.94231,     0.94231,\n",
      "            0.94231,     0.94231,     0.94231,     0.94231,     0.94231,     0.94231,     0.94231,     0.94231,     0.94231,     0.94231,     0.94231,     0.94231,     0.94231,     0.94231,     0.94231,     0.94231,     0.94159,     0.94159,     0.94159,     0.94159,     0.94159,     0.94159,     0.94159,\n",
      "            0.94159,     0.94159,     0.94159,     0.94159,     0.94159,     0.93953,     0.93822,     0.93822,     0.93822,     0.93822,     0.93822,     0.93822,     0.93708,     0.93708,     0.93708,     0.93708,     0.93708,     0.93708,     0.93708,     0.93617,     0.93617,     0.93617,     0.93617,\n",
      "            0.93617,     0.93617,     0.93617,     0.93617,     0.93617,     0.93617,     0.93617,     0.93617,     0.93617,     0.93617,     0.93617,     0.93617,     0.93617,     0.93617,     0.93617,     0.93617,     0.93617,     0.93617,     0.93617,     0.93617,     0.93501,     0.93501,     0.93501,\n",
      "            0.93501,     0.93501,     0.93501,     0.93483,     0.93483,     0.93483,     0.93483,     0.93483,     0.93483,     0.93483,     0.93483,     0.93483,     0.93483,     0.93483,     0.93483,     0.93483,     0.93483,      0.9332,      0.9332,     0.93294,     0.93294,     0.93294,     0.93294,\n",
      "            0.93294,     0.93294,     0.93294,     0.93294,     0.93294,     0.93294,     0.93294,     0.93294,     0.93151,     0.93151,     0.93151,     0.93077,     0.93077,     0.93077,     0.93077,     0.93077,     0.93077,     0.93077,     0.93077,     0.93077,     0.93002,     0.93002,     0.93002,\n",
      "            0.93002,     0.93002,     0.93002,     0.93002,     0.93002,     0.93002,     0.93002,     0.93002,     0.93002,     0.93002,     0.93002,     0.93002,     0.93002,     0.93002,     0.93002,     0.93002,     0.93002,     0.93002,     0.92687,     0.92687,     0.92586,     0.92586,     0.92586,\n",
      "            0.92586,     0.92586,     0.92586,      0.9246,      0.9246,      0.9246,     0.92416,     0.92416,     0.92416,     0.92416,     0.92416,     0.92416,     0.92416,     0.92416,     0.92416,      0.9216,      0.9216,      0.9216,      0.9216,      0.9216,     0.92096,     0.92096,     0.92096,\n",
      "            0.92096,     0.92096,     0.92096,     0.92096,     0.92096,     0.91952,     0.91723,     0.91723,     0.91723,     0.91723,     0.91723,     0.91723,     0.91653,     0.91653,     0.91653,     0.91653,     0.91653,     0.91653,     0.91653,     0.91653,     0.91653,     0.91653,     0.91653,\n",
      "            0.91653,     0.91653,     0.91653,     0.91653,     0.91653,     0.91653,     0.91653,     0.91653,     0.91653,     0.91653,     0.91653,     0.91653,     0.91653,     0.91653,     0.91653,     0.91653,     0.91653,     0.91653,     0.91534,     0.91534,     0.91429,     0.91429,     0.91429,\n",
      "            0.91153,     0.91066,     0.91066,     0.91066,     0.91066,     0.90952,     0.90952,     0.90824,     0.90755,     0.90755,     0.90755,     0.90755,     0.90755,     0.90755,     0.90705,     0.90705,     0.90705,     0.90705,     0.90705,     0.90705,     0.90705,     0.90705,     0.90705,\n",
      "            0.90705,     0.90705,     0.90705,     0.90705,     0.90705,     0.90705,     0.90705,     0.90583,     0.90476,     0.90476,     0.90427,     0.90427,     0.90427,     0.90427,     0.90427,     0.90427,     0.90216,     0.90216,     0.90216,     0.90216,     0.90216,     0.90216,     0.90216,\n",
      "            0.90216,     0.90216,     0.90216,     0.90216,     0.90216,     0.90216,     0.90216,     0.90129,     0.90129,     0.90129,     0.90014,     0.89986,     0.89986,     0.89986,     0.89986,     0.89986,     0.89986,     0.89986,     0.89873,      0.8979,      0.8979,      0.8979,     0.89694,\n",
      "            0.89694,     0.89694,     0.89612,     0.89612,     0.89612,     0.89532,     0.89532,     0.89532,     0.89388,     0.89388,     0.89388,     0.89388,     0.89388,     0.89388,     0.89388,     0.89333,     0.89333,     0.89333,     0.89333,     0.89333,     0.89333,     0.89333,     0.89333,\n",
      "            0.89333,     0.89333,     0.89333,     0.89333,     0.89333,     0.89333,     0.89253,     0.89253,     0.89253,     0.89253,     0.89253,     0.89253,     0.89253,     0.89253,     0.89253,     0.89253,     0.89253,     0.89235,     0.89235,     0.89235,     0.89235,     0.89235,     0.89235,\n",
      "            0.89235,     0.89133,     0.89075,     0.89075,     0.89075,     0.89075,     0.88988,     0.88988,     0.88945,     0.88945,     0.88945,     0.88945,     0.88945,     0.88945,     0.88945,     0.88945,     0.88945,     0.88945,     0.88945,     0.88945,     0.88945,     0.88945,      0.8875,\n",
      "             0.8875,     0.88667,     0.88667,     0.88642,     0.88642,     0.88642,     0.88642,     0.88642,     0.88642,     0.88547,     0.88127,     0.87893,     0.87893,     0.87893,     0.87893,     0.87893,     0.87893,     0.87893,      0.8762,      0.8762,      0.8762,     0.87545,     0.87545,\n",
      "            0.87292,     0.87292,     0.87292,     0.87292,     0.87204,     0.86706,      0.8662,     0.86565,     0.86565,     0.86565,     0.86512,     0.86512,     0.86512,     0.86443,     0.86443,     0.86358,     0.86175,      0.8614,      0.8614,      0.8614,      0.8614,      0.8614,     0.86057,\n",
      "            0.85877,     0.85617,     0.85617,     0.85537,     0.85393,     0.85393,     0.85393,     0.85314,     0.85251,     0.85251,     0.85078,     0.84906,     0.84658,     0.84658,     0.84488,     0.84447,     0.84447,     0.84447,     0.84096,     0.84056,     0.84056,     0.84056,     0.83983,\n",
      "            0.83983,     0.83819,     0.83673,     0.83673,     0.83619,     0.83619,     0.83422,     0.83422,     0.83422,     0.83422,     0.83351,      0.8328,     0.83158,     0.83158,     0.83158,     0.82654,     0.82518,     0.82518,     0.82365,     0.82213,     0.81828,     0.81828,     0.81762,\n",
      "            0.81448,     0.81384,     0.81155,     0.80928,     0.80785,     0.80785,     0.80742,     0.80742,     0.80719,     0.80719,     0.80719,     0.80658,     0.80597,     0.80536,     0.80237,     0.80099,     0.79961,     0.79824,      0.7961,     0.79552,     0.79417,      0.7936,     0.79324,\n",
      "            0.79324,     0.79115,     0.79059,     0.78551,     0.78199,     0.78072,     0.77945,     0.77767,     0.77767,     0.77498,     0.77498,     0.76845,     0.76845,     0.76845,     0.76746,     0.76746,     0.76557,     0.76369,     0.76321,     0.76273,     0.75744,     0.75651,     0.75651,\n",
      "            0.75605,     0.75492,     0.75178,     0.75155,     0.75155,     0.75133,     0.75133,     0.73785,     0.73766,     0.73766,      0.7272,     0.72681,     0.72396,     0.72321,     0.72321,     0.72321,     0.72101,     0.71703,     0.71251,     0.71216,     0.71063,     0.70994,     0.70994,\n",
      "             0.7096,     0.70431,     0.70431,      0.7034,     0.70251,       0.696,     0.68799,     0.67077,     0.66948,     0.66871,     0.66489,     0.66364,      0.6594,     0.65182,     0.65063,     0.64753,     0.64589,     0.64474,     0.63709,     0.63709,     0.62562,     0.60492,     0.60437,\n",
      "            0.58625,       0.577,     0.57392,      0.5676,     0.56384,     0.56384,       0.555,     0.54579,     0.54308,     0.53524,      0.5203,     0.51226,     0.50993,     0.50083,     0.49669,      0.4956,     0.49425,     0.48008,     0.47283,     0.47138,     0.45901,     0.45835,     0.45179,\n",
      "            0.44025,     0.44025,     0.43798,     0.42419,     0.41977,      0.4132,     0.39457,     0.38764,     0.38384,      0.3784,     0.35941,     0.35909,     0.35355,     0.35285,     0.34412,     0.34412,     0.34412,     0.33932,     0.33599,     0.33084,     0.32804,     0.31461,     0.31347,\n",
      "            0.31275,      0.2848,     0.27641,     0.26799,     0.23793,     0.23073,     0.23073,     0.21524,     0.20207,     0.19936,     0.17059,     0.17034,     0.14161,     0.14018,     0.13002,     0.12225,     0.11832,    0.096784,    0.096365,    0.091965,    0.085923,    0.083064,    0.082597,\n",
      "            0.07601,    0.068409,    0.060808,    0.053207,    0.045606,    0.038005,    0.030404,    0.022803,    0.015202,    0.007601,           0]]), 'Recall', 'Precision'], [array([          0,    0.001001,    0.002002,    0.003003,    0.004004,    0.005005,    0.006006,    0.007007,    0.008008,    0.009009,     0.01001,    0.011011,    0.012012,    0.013013,    0.014014,    0.015015,    0.016016,    0.017017,    0.018018,    0.019019,     0.02002,    0.021021,    0.022022,    0.023023,\n",
      "          0.024024,    0.025025,    0.026026,    0.027027,    0.028028,    0.029029,     0.03003,    0.031031,    0.032032,    0.033033,    0.034034,    0.035035,    0.036036,    0.037037,    0.038038,    0.039039,     0.04004,    0.041041,    0.042042,    0.043043,    0.044044,    0.045045,    0.046046,    0.047047,\n",
      "          0.048048,    0.049049,     0.05005,    0.051051,    0.052052,    0.053053,    0.054054,    0.055055,    0.056056,    0.057057,    0.058058,    0.059059,     0.06006,    0.061061,    0.062062,    0.063063,    0.064064,    0.065065,    0.066066,    0.067067,    0.068068,    0.069069,     0.07007,    0.071071,\n",
      "          0.072072,    0.073073,    0.074074,    0.075075,    0.076076,    0.077077,    0.078078,    0.079079,     0.08008,    0.081081,    0.082082,    0.083083,    0.084084,    0.085085,    0.086086,    0.087087,    0.088088,    0.089089,     0.09009,    0.091091,    0.092092,    0.093093,    0.094094,    0.095095,\n",
      "          0.096096,    0.097097,    0.098098,    0.099099,      0.1001,      0.1011,      0.1021,      0.1031,      0.1041,     0.10511,     0.10611,     0.10711,     0.10811,     0.10911,     0.11011,     0.11111,     0.11211,     0.11311,     0.11411,     0.11512,     0.11612,     0.11712,     0.11812,     0.11912,\n",
      "           0.12012,     0.12112,     0.12212,     0.12312,     0.12412,     0.12513,     0.12613,     0.12713,     0.12813,     0.12913,     0.13013,     0.13113,     0.13213,     0.13313,     0.13413,     0.13514,     0.13614,     0.13714,     0.13814,     0.13914,     0.14014,     0.14114,     0.14214,     0.14314,\n",
      "           0.14414,     0.14515,     0.14615,     0.14715,     0.14815,     0.14915,     0.15015,     0.15115,     0.15215,     0.15315,     0.15415,     0.15516,     0.15616,     0.15716,     0.15816,     0.15916,     0.16016,     0.16116,     0.16216,     0.16316,     0.16416,     0.16517,     0.16617,     0.16717,\n",
      "           0.16817,     0.16917,     0.17017,     0.17117,     0.17217,     0.17317,     0.17417,     0.17518,     0.17618,     0.17718,     0.17818,     0.17918,     0.18018,     0.18118,     0.18218,     0.18318,     0.18418,     0.18519,     0.18619,     0.18719,     0.18819,     0.18919,     0.19019,     0.19119,\n",
      "           0.19219,     0.19319,     0.19419,      0.1952,      0.1962,      0.1972,      0.1982,      0.1992,      0.2002,      0.2012,      0.2022,      0.2032,      0.2042,     0.20521,     0.20621,     0.20721,     0.20821,     0.20921,     0.21021,     0.21121,     0.21221,     0.21321,     0.21421,     0.21522,\n",
      "           0.21622,     0.21722,     0.21822,     0.21922,     0.22022,     0.22122,     0.22222,     0.22322,     0.22422,     0.22523,     0.22623,     0.22723,     0.22823,     0.22923,     0.23023,     0.23123,     0.23223,     0.23323,     0.23423,     0.23524,     0.23624,     0.23724,     0.23824,     0.23924,\n",
      "           0.24024,     0.24124,     0.24224,     0.24324,     0.24424,     0.24525,     0.24625,     0.24725,     0.24825,     0.24925,     0.25025,     0.25125,     0.25225,     0.25325,     0.25425,     0.25526,     0.25626,     0.25726,     0.25826,     0.25926,     0.26026,     0.26126,     0.26226,     0.26326,\n",
      "           0.26426,     0.26527,     0.26627,     0.26727,     0.26827,     0.26927,     0.27027,     0.27127,     0.27227,     0.27327,     0.27427,     0.27528,     0.27628,     0.27728,     0.27828,     0.27928,     0.28028,     0.28128,     0.28228,     0.28328,     0.28428,     0.28529,     0.28629,     0.28729,\n",
      "           0.28829,     0.28929,     0.29029,     0.29129,     0.29229,     0.29329,     0.29429,      0.2953,      0.2963,      0.2973,      0.2983,      0.2993,      0.3003,      0.3013,      0.3023,      0.3033,      0.3043,     0.30531,     0.30631,     0.30731,     0.30831,     0.30931,     0.31031,     0.31131,\n",
      "           0.31231,     0.31331,     0.31431,     0.31532,     0.31632,     0.31732,     0.31832,     0.31932,     0.32032,     0.32132,     0.32232,     0.32332,     0.32432,     0.32533,     0.32633,     0.32733,     0.32833,     0.32933,     0.33033,     0.33133,     0.33233,     0.33333,     0.33433,     0.33534,\n",
      "           0.33634,     0.33734,     0.33834,     0.33934,     0.34034,     0.34134,     0.34234,     0.34334,     0.34434,     0.34535,     0.34635,     0.34735,     0.34835,     0.34935,     0.35035,     0.35135,     0.35235,     0.35335,     0.35435,     0.35536,     0.35636,     0.35736,     0.35836,     0.35936,\n",
      "           0.36036,     0.36136,     0.36236,     0.36336,     0.36436,     0.36537,     0.36637,     0.36737,     0.36837,     0.36937,     0.37037,     0.37137,     0.37237,     0.37337,     0.37437,     0.37538,     0.37638,     0.37738,     0.37838,     0.37938,     0.38038,     0.38138,     0.38238,     0.38338,\n",
      "           0.38438,     0.38539,     0.38639,     0.38739,     0.38839,     0.38939,     0.39039,     0.39139,     0.39239,     0.39339,     0.39439,      0.3954,      0.3964,      0.3974,      0.3984,      0.3994,      0.4004,      0.4014,      0.4024,      0.4034,      0.4044,     0.40541,     0.40641,     0.40741,\n",
      "           0.40841,     0.40941,     0.41041,     0.41141,     0.41241,     0.41341,     0.41441,     0.41542,     0.41642,     0.41742,     0.41842,     0.41942,     0.42042,     0.42142,     0.42242,     0.42342,     0.42442,     0.42543,     0.42643,     0.42743,     0.42843,     0.42943,     0.43043,     0.43143,\n",
      "           0.43243,     0.43343,     0.43443,     0.43544,     0.43644,     0.43744,     0.43844,     0.43944,     0.44044,     0.44144,     0.44244,     0.44344,     0.44444,     0.44545,     0.44645,     0.44745,     0.44845,     0.44945,     0.45045,     0.45145,     0.45245,     0.45345,     0.45445,     0.45546,\n",
      "           0.45646,     0.45746,     0.45846,     0.45946,     0.46046,     0.46146,     0.46246,     0.46346,     0.46446,     0.46547,     0.46647,     0.46747,     0.46847,     0.46947,     0.47047,     0.47147,     0.47247,     0.47347,     0.47447,     0.47548,     0.47648,     0.47748,     0.47848,     0.47948,\n",
      "           0.48048,     0.48148,     0.48248,     0.48348,     0.48448,     0.48549,     0.48649,     0.48749,     0.48849,     0.48949,     0.49049,     0.49149,     0.49249,     0.49349,     0.49449,      0.4955,      0.4965,      0.4975,      0.4985,      0.4995,      0.5005,      0.5015,      0.5025,      0.5035,\n",
      "            0.5045,     0.50551,     0.50651,     0.50751,     0.50851,     0.50951,     0.51051,     0.51151,     0.51251,     0.51351,     0.51451,     0.51552,     0.51652,     0.51752,     0.51852,     0.51952,     0.52052,     0.52152,     0.52252,     0.52352,     0.52452,     0.52553,     0.52653,     0.52753,\n",
      "           0.52853,     0.52953,     0.53053,     0.53153,     0.53253,     0.53353,     0.53453,     0.53554,     0.53654,     0.53754,     0.53854,     0.53954,     0.54054,     0.54154,     0.54254,     0.54354,     0.54454,     0.54555,     0.54655,     0.54755,     0.54855,     0.54955,     0.55055,     0.55155,\n",
      "           0.55255,     0.55355,     0.55455,     0.55556,     0.55656,     0.55756,     0.55856,     0.55956,     0.56056,     0.56156,     0.56256,     0.56356,     0.56456,     0.56557,     0.56657,     0.56757,     0.56857,     0.56957,     0.57057,     0.57157,     0.57257,     0.57357,     0.57457,     0.57558,\n",
      "           0.57658,     0.57758,     0.57858,     0.57958,     0.58058,     0.58158,     0.58258,     0.58358,     0.58458,     0.58559,     0.58659,     0.58759,     0.58859,     0.58959,     0.59059,     0.59159,     0.59259,     0.59359,     0.59459,      0.5956,      0.5966,      0.5976,      0.5986,      0.5996,\n",
      "            0.6006,      0.6016,      0.6026,      0.6036,      0.6046,     0.60561,     0.60661,     0.60761,     0.60861,     0.60961,     0.61061,     0.61161,     0.61261,     0.61361,     0.61461,     0.61562,     0.61662,     0.61762,     0.61862,     0.61962,     0.62062,     0.62162,     0.62262,     0.62362,\n",
      "           0.62462,     0.62563,     0.62663,     0.62763,     0.62863,     0.62963,     0.63063,     0.63163,     0.63263,     0.63363,     0.63463,     0.63564,     0.63664,     0.63764,     0.63864,     0.63964,     0.64064,     0.64164,     0.64264,     0.64364,     0.64464,     0.64565,     0.64665,     0.64765,\n",
      "           0.64865,     0.64965,     0.65065,     0.65165,     0.65265,     0.65365,     0.65465,     0.65566,     0.65666,     0.65766,     0.65866,     0.65966,     0.66066,     0.66166,     0.66266,     0.66366,     0.66466,     0.66567,     0.66667,     0.66767,     0.66867,     0.66967,     0.67067,     0.67167,\n",
      "           0.67267,     0.67367,     0.67467,     0.67568,     0.67668,     0.67768,     0.67868,     0.67968,     0.68068,     0.68168,     0.68268,     0.68368,     0.68468,     0.68569,     0.68669,     0.68769,     0.68869,     0.68969,     0.69069,     0.69169,     0.69269,     0.69369,     0.69469,      0.6957,\n",
      "            0.6967,      0.6977,      0.6987,      0.6997,      0.7007,      0.7017,      0.7027,      0.7037,      0.7047,     0.70571,     0.70671,     0.70771,     0.70871,     0.70971,     0.71071,     0.71171,     0.71271,     0.71371,     0.71471,     0.71572,     0.71672,     0.71772,     0.71872,     0.71972,\n",
      "           0.72072,     0.72172,     0.72272,     0.72372,     0.72472,     0.72573,     0.72673,     0.72773,     0.72873,     0.72973,     0.73073,     0.73173,     0.73273,     0.73373,     0.73473,     0.73574,     0.73674,     0.73774,     0.73874,     0.73974,     0.74074,     0.74174,     0.74274,     0.74374,\n",
      "           0.74474,     0.74575,     0.74675,     0.74775,     0.74875,     0.74975,     0.75075,     0.75175,     0.75275,     0.75375,     0.75475,     0.75576,     0.75676,     0.75776,     0.75876,     0.75976,     0.76076,     0.76176,     0.76276,     0.76376,     0.76476,     0.76577,     0.76677,     0.76777,\n",
      "           0.76877,     0.76977,     0.77077,     0.77177,     0.77277,     0.77377,     0.77477,     0.77578,     0.77678,     0.77778,     0.77878,     0.77978,     0.78078,     0.78178,     0.78278,     0.78378,     0.78478,     0.78579,     0.78679,     0.78779,     0.78879,     0.78979,     0.79079,     0.79179,\n",
      "           0.79279,     0.79379,     0.79479,      0.7958,      0.7968,      0.7978,      0.7988,      0.7998,      0.8008,      0.8018,      0.8028,      0.8038,      0.8048,     0.80581,     0.80681,     0.80781,     0.80881,     0.80981,     0.81081,     0.81181,     0.81281,     0.81381,     0.81481,     0.81582,\n",
      "           0.81682,     0.81782,     0.81882,     0.81982,     0.82082,     0.82182,     0.82282,     0.82382,     0.82482,     0.82583,     0.82683,     0.82783,     0.82883,     0.82983,     0.83083,     0.83183,     0.83283,     0.83383,     0.83483,     0.83584,     0.83684,     0.83784,     0.83884,     0.83984,\n",
      "           0.84084,     0.84184,     0.84284,     0.84384,     0.84484,     0.84585,     0.84685,     0.84785,     0.84885,     0.84985,     0.85085,     0.85185,     0.85285,     0.85385,     0.85485,     0.85586,     0.85686,     0.85786,     0.85886,     0.85986,     0.86086,     0.86186,     0.86286,     0.86386,\n",
      "           0.86486,     0.86587,     0.86687,     0.86787,     0.86887,     0.86987,     0.87087,     0.87187,     0.87287,     0.87387,     0.87487,     0.87588,     0.87688,     0.87788,     0.87888,     0.87988,     0.88088,     0.88188,     0.88288,     0.88388,     0.88488,     0.88589,     0.88689,     0.88789,\n",
      "           0.88889,     0.88989,     0.89089,     0.89189,     0.89289,     0.89389,     0.89489,      0.8959,      0.8969,      0.8979,      0.8989,      0.8999,      0.9009,      0.9019,      0.9029,      0.9039,      0.9049,     0.90591,     0.90691,     0.90791,     0.90891,     0.90991,     0.91091,     0.91191,\n",
      "           0.91291,     0.91391,     0.91491,     0.91592,     0.91692,     0.91792,     0.91892,     0.91992,     0.92092,     0.92192,     0.92292,     0.92392,     0.92492,     0.92593,     0.92693,     0.92793,     0.92893,     0.92993,     0.93093,     0.93193,     0.93293,     0.93393,     0.93493,     0.93594,\n",
      "           0.93694,     0.93794,     0.93894,     0.93994,     0.94094,     0.94194,     0.94294,     0.94394,     0.94494,     0.94595,     0.94695,     0.94795,     0.94895,     0.94995,     0.95095,     0.95195,     0.95295,     0.95395,     0.95495,     0.95596,     0.95696,     0.95796,     0.95896,     0.95996,\n",
      "           0.96096,     0.96196,     0.96296,     0.96396,     0.96496,     0.96597,     0.96697,     0.96797,     0.96897,     0.96997,     0.97097,     0.97197,     0.97297,     0.97397,     0.97497,     0.97598,     0.97698,     0.97798,     0.97898,     0.97998,     0.98098,     0.98198,     0.98298,     0.98398,\n",
      "           0.98498,     0.98599,     0.98699,     0.98799,     0.98899,     0.98999,     0.99099,     0.99199,     0.99299,     0.99399,     0.99499,       0.996,       0.997,       0.998,       0.999,           1]), array([[    0.14606,     0.14621,     0.19736,     0.23288,      0.2621,     0.28678,     0.30747,     0.32537,     0.34044,     0.35527,     0.36887,     0.38276,     0.39354,     0.40245,     0.41493,      0.4268,     0.43645,     0.44566,      0.4554,     0.46225,     0.47009,     0.47771,     0.48383,\n",
      "            0.49054,     0.49807,      0.5038,     0.50964,      0.5165,     0.52158,     0.52689,     0.53073,     0.53726,     0.54044,     0.54458,     0.54925,     0.55223,     0.55664,     0.55962,     0.56416,     0.56825,     0.57315,     0.57788,     0.58152,     0.58483,     0.58843,     0.59438,\n",
      "            0.59768,     0.60054,     0.60385,       0.608,     0.61071,     0.61368,     0.61714,     0.62047,     0.62315,     0.62662,      0.6288,     0.63195,     0.63387,     0.63548,     0.63883,     0.64325,     0.64683,     0.64871,      0.6508,     0.65205,     0.65356,      0.6575,     0.65927,\n",
      "            0.66142,     0.66374,     0.66487,     0.66729,     0.66813,     0.67078,     0.67325,     0.67522,     0.67688,     0.67842,     0.67979,     0.68241,     0.68303,      0.6849,     0.68679,     0.68778,     0.69025,       0.692,     0.69405,     0.69606,     0.69685,     0.69794,     0.69914,\n",
      "            0.70049,     0.70121,     0.70354,     0.70549,     0.70676,     0.70813,      0.7097,     0.71097,     0.71241,     0.71399,     0.71524,     0.71634,     0.71607,     0.71702,     0.71938,     0.72095,     0.72292,     0.72459,     0.72672,     0.72861,     0.72929,     0.73039,     0.73144,\n",
      "            0.73408,     0.73491,     0.73688,     0.73885,     0.74004,      0.7414,     0.74235,     0.74375,     0.74402,     0.74502,     0.74662,     0.74748,     0.74923,     0.75008,     0.75136,     0.75302,     0.75454,     0.75632,     0.75668,     0.75762,     0.75839,     0.75918,     0.75963,\n",
      "            0.76011,     0.76191,     0.76293,     0.76441,     0.76495,     0.76578,     0.76708,     0.76732,     0.76768,     0.76738,     0.76889,     0.76934,     0.76955,     0.76991,     0.77044,     0.77187,      0.7728,     0.77416,     0.77439,     0.77457,     0.77541,     0.77572,     0.77641,\n",
      "            0.77717,     0.77766,      0.7797,     0.78076,     0.78119,     0.78122,     0.78212,     0.78485,     0.78511,     0.78542,     0.78621,     0.78738,     0.78916,     0.78964,     0.78986,     0.78935,     0.79149,     0.79256,     0.79238,     0.79247,      0.7916,     0.79198,     0.79227,\n",
      "            0.79216,     0.79343,     0.79492,     0.79452,     0.79541,      0.7961,     0.79676,     0.79689,     0.79662,     0.79688,     0.79718,      0.7972,      0.7975,     0.79798,     0.79831,     0.79853,     0.79841,     0.79856,     0.79935,     0.80006,     0.80029,     0.80062,     0.80142,\n",
      "            0.80218,     0.80417,     0.80373,     0.80463,     0.80583,      0.8074,     0.80847,     0.80917,     0.80985,      0.8112,     0.80939,     0.80942,     0.81005,     0.81029,     0.81065,     0.81082,      0.8109,     0.81099,     0.81107,       0.811,     0.81102,     0.81135,     0.81021,\n",
      "            0.81028,     0.81062,      0.8114,     0.81314,     0.81285,     0.81319,     0.81279,     0.81289,     0.81272,     0.81308,     0.81339,      0.8136,     0.81398,     0.81318,      0.8127,      0.8122,     0.81321,     0.81426,     0.81513,     0.81569,     0.81649,     0.81679,     0.81704,\n",
      "            0.81666,       0.816,     0.81662,     0.81664,     0.81715,     0.81738,     0.81722,     0.81752,     0.81726,     0.81771,     0.81871,     0.81889,     0.82026,     0.82079,     0.82109,     0.82092,     0.82112,     0.82177,     0.82127,     0.82083,     0.82066,      0.8207,      0.8209,\n",
      "            0.82059,     0.82071,     0.82043,     0.82114,     0.82102,     0.82145,     0.82124,     0.82158,     0.82168,     0.82214,     0.82174,     0.82228,     0.82297,     0.82313,      0.8228,     0.82283,     0.82264,     0.82244,     0.82263,     0.82154,     0.82101,     0.82062,     0.82039,\n",
      "            0.82019,     0.82102,     0.82213,     0.82196,     0.82171,     0.82174,     0.82201,     0.82161,     0.82196,     0.82218,     0.82263,     0.82304,     0.82271,     0.82289,     0.82249,       0.822,     0.82264,     0.82346,     0.82391,     0.82378,      0.8239,     0.82387,     0.82356,\n",
      "            0.82368,     0.82497,     0.82521,     0.82442,      0.8243,     0.82461,     0.82446,     0.82466,     0.82446,     0.82348,     0.82214,     0.82302,     0.82276,     0.82231,     0.82233,     0.82139,     0.82167,     0.82231,     0.82226,     0.82191,     0.82103,      0.8207,     0.82047,\n",
      "            0.82071,      0.8203,     0.82096,      0.8218,     0.82043,     0.81999,     0.82062,      0.8205,     0.82005,     0.82002,     0.82072,      0.8205,     0.82089,     0.82062,     0.82078,     0.82092,     0.82029,     0.81954,     0.81876,     0.81846,     0.81902,     0.81789,     0.81827,\n",
      "            0.81862,     0.81864,     0.81895,     0.81787,     0.81667,     0.81686,     0.81651,     0.81681,     0.81688,     0.81609,     0.81469,     0.81471,     0.81361,     0.81318,     0.81299,     0.81284,     0.81307,      0.8133,     0.81356,     0.81454,     0.81422,     0.81401,     0.81439,\n",
      "            0.81337,     0.81297,      0.8128,     0.81263,     0.81246,     0.81218,     0.81187,     0.81214,     0.81261,     0.81301,     0.81212,      0.8104,     0.81117,     0.81154,     0.81076,     0.80984,     0.80882,     0.80864,     0.80845,     0.80825,     0.80787,     0.80889,     0.80862,\n",
      "            0.80926,     0.80945,     0.80963,     0.81006,     0.80985,     0.80963,     0.80963,     0.80961,     0.80785,     0.80739,     0.80632,     0.80634,     0.80566,     0.80526,     0.80543,     0.80415,     0.80466,     0.80348,     0.80247,     0.80198,     0.80143,     0.80073,     0.80051,\n",
      "             0.8003,     0.79831,     0.79619,     0.79683,     0.79653,      0.7946,     0.79422,      0.7934,     0.79372,     0.79333,     0.79212,      0.7918,     0.79149,     0.78979,     0.78919,     0.78895,     0.78872,     0.78822,     0.78781,     0.78598,     0.78503,     0.78463,     0.78435,\n",
      "              0.784,     0.78349,     0.78295,      0.7832,      0.7822,      0.7822,     0.78139,     0.78114,     0.78089,     0.77909,     0.77755,     0.77678,     0.77572,      0.7749,     0.77401,     0.77359,     0.77346,     0.77226,     0.77184,     0.77132,     0.77017,      0.7693,     0.76788,\n",
      "            0.76756,     0.76476,     0.76473,     0.76307,     0.76154,     0.76084,     0.75912,     0.75748,     0.75462,      0.7521,     0.74823,     0.74775,     0.74732,     0.74761,     0.74785,     0.74541,     0.74358,     0.74337,     0.74223,     0.74242,      0.7426,     0.74204,     0.74036,\n",
      "            0.73915,     0.73835,     0.73726,     0.73579,      0.7347,     0.73251,     0.73078,     0.73063,     0.73031,      0.7293,     0.72787,     0.72714,     0.72675,     0.72535,     0.72488,     0.72453,     0.72327,      0.7227,     0.72206,     0.72092,     0.72063,     0.71833,     0.71802,\n",
      "             0.7177,     0.71581,     0.71346,     0.71232,     0.70966,     0.70883,     0.70618,     0.70346,     0.70213,     0.70064,     0.69938,     0.69873,     0.69829,     0.69782,     0.69647,     0.69483,     0.69384,     0.69377,     0.69353,     0.69381,     0.69319,     0.69244,      0.6911,\n",
      "            0.68945,     0.68803,     0.68529,     0.68457,      0.6848,     0.68458,     0.68436,     0.68414,     0.68354,     0.68219,     0.67943,      0.6756,     0.67531,     0.67332,     0.67227,     0.67107,     0.67004,     0.66968,     0.66849,     0.66537,     0.66299,     0.66056,     0.65792,\n",
      "            0.65578,     0.65485,     0.65378,     0.65309,     0.65256,     0.65087,     0.65038,     0.64964,      0.6468,     0.64533,     0.64379,     0.64212,     0.63953,     0.63582,     0.63331,     0.63114,     0.62907,     0.62825,     0.62483,       0.624,     0.62157,     0.62048,     0.61831,\n",
      "             0.6144,     0.61369,     0.61284,     0.61225,     0.61091,     0.60682,     0.60458,     0.60349,     0.59626,     0.59406,     0.59257,     0.59048,     0.58606,     0.58557,     0.58242,     0.58033,     0.57957,     0.57818,     0.57369,     0.57193,     0.56879,     0.56811,     0.56332,\n",
      "            0.56077,     0.55734,     0.55633,     0.55445,     0.55292,     0.54837,     0.54735,     0.54694,     0.54439,      0.5436,     0.54266,     0.54044,       0.537,     0.53351,     0.53048,     0.52897,     0.52784,     0.52512,     0.52325,     0.51795,     0.51579,      0.5125,     0.51183,\n",
      "            0.50805,     0.50604,     0.50334,     0.49895,      0.4973,     0.49577,       0.492,     0.48335,     0.47948,     0.47695,     0.47389,     0.47261,     0.47089,     0.47029,      0.4656,     0.46253,     0.46078,     0.45468,     0.45174,     0.44924,     0.44652,      0.4429,     0.44085,\n",
      "            0.43764,     0.43446,     0.43018,     0.42452,     0.42172,     0.41768,     0.41209,     0.40819,     0.40538,     0.40222,     0.40009,     0.39644,     0.39465,     0.39032,     0.38909,     0.38809,     0.38567,     0.38441,     0.38188,     0.37688,     0.37271,     0.36963,     0.36725,\n",
      "            0.36415,     0.36181,     0.35705,     0.35382,     0.34943,     0.34478,     0.33828,     0.33298,     0.32962,     0.32853,     0.32327,     0.31652,     0.31556,     0.31253,      0.3097,       0.307,     0.30364,     0.29968,     0.29671,     0.28854,     0.28764,     0.28353,     0.28057,\n",
      "              0.279,     0.27691,     0.27241,     0.26993,      0.2675,     0.26165,     0.25699,     0.25319,     0.25002,     0.24783,      0.2411,     0.23875,     0.23696,     0.23558,     0.23377,     0.23196,     0.22762,     0.22392,     0.21828,     0.21542,     0.21425,     0.21337,     0.21097,\n",
      "            0.20718,     0.20578,     0.20294,     0.20128,     0.20038,     0.19489,      0.1901,     0.18673,     0.18387,     0.18025,     0.17502,     0.16762,      0.1658,     0.16334,     0.16017,     0.15575,     0.15235,     0.15168,     0.15101,     0.14917,     0.14923,     0.14928,     0.14575,\n",
      "            0.14367,     0.14208,     0.14093,     0.13971,     0.13864,      0.1382,     0.13776,     0.13733,     0.13662,     0.13244,      0.1296,     0.12921,     0.12881,     0.12841,     0.12801,     0.12616,       0.126,     0.12545,      0.1249,     0.12433,      0.1235,     0.12268,      0.1211,\n",
      "            0.11932,     0.11506,      0.1138,     0.11169,     0.10888,     0.10742,     0.10444,     0.10302,     0.10144,     0.09826,    0.097719,    0.097177,    0.096618,    0.095224,    0.087533,    0.085932,    0.084269,    0.079996,    0.077356,    0.076823,     0.07629,    0.075756,    0.075193,\n",
      "            0.07463,    0.074067,    0.073221,    0.072202,    0.069548,    0.068072,    0.068096,     0.06812,    0.067604,    0.065865,    0.064527,    0.062866,    0.059866,    0.058344,    0.057213,    0.055189,    0.053719,    0.052776,    0.051726,    0.050636,    0.049455,    0.048259,    0.047044,\n",
      "           0.045666,    0.043371,    0.042029,    0.041292,    0.040487,    0.039233,    0.038016,    0.036832,    0.035501,    0.033594,    0.031739,    0.030182,    0.021905,    0.018328,    0.018088,    0.017848,    0.017608,    0.017368,    0.017128,    0.016887,    0.016647,    0.016188,    0.014981,\n",
      "           0.014199,    0.013789,    0.013378,    0.012968,    0.012557,    0.011515,   0.0088665,   0.0081464,   0.0080154,   0.0078844,   0.0077533,   0.0076223,   0.0074913,   0.0073602,   0.0072292,   0.0070981,    0.006967,   0.0068359,   0.0067048,   0.0065736,   0.0064425,   0.0063113,   0.0061375,\n",
      "          0.0057785,   0.0054194,   0.0050602,    0.004701,   0.0043416,   0.0040979,   0.0040008,   0.0039036,   0.0038064,   0.0037093,   0.0036121,   0.0035149,   0.0034177,   0.0033206,   0.0032234,   0.0031262,    0.003029,   0.0029318,   0.0028345,   0.0027373,   0.0026401,   0.0025429,   0.0024456,\n",
      "          0.0023484,   0.0022511,   0.0021539,   0.0018594,  0.00055742,           0,           0,           0,           0,           0,           0,           0,           0,           0,           0,           0,           0,           0,           0,           0,           0,           0,           0,\n",
      "                  0,           0,           0,           0,           0,           0,           0,           0,           0,           0,           0,           0,           0,           0,           0,           0,           0,           0,           0,           0,           0,           0,           0,\n",
      "                  0,           0,           0,           0,           0,           0,           0,           0,           0,           0,           0,           0,           0,           0,           0,           0,           0,           0,           0,           0,           0,           0,           0,\n",
      "                  0,           0,           0,           0,           0,           0,           0,           0,           0,           0,           0,           0,           0,           0,           0,           0,           0,           0,           0,           0,           0,           0,           0,\n",
      "                  0,           0,           0,           0,           0,           0,           0,           0,           0,           0,           0]]), 'Confidence', 'F1'], [array([          0,    0.001001,    0.002002,    0.003003,    0.004004,    0.005005,    0.006006,    0.007007,    0.008008,    0.009009,     0.01001,    0.011011,    0.012012,    0.013013,    0.014014,    0.015015,    0.016016,    0.017017,    0.018018,    0.019019,     0.02002,    0.021021,    0.022022,    0.023023,\n",
      "          0.024024,    0.025025,    0.026026,    0.027027,    0.028028,    0.029029,     0.03003,    0.031031,    0.032032,    0.033033,    0.034034,    0.035035,    0.036036,    0.037037,    0.038038,    0.039039,     0.04004,    0.041041,    0.042042,    0.043043,    0.044044,    0.045045,    0.046046,    0.047047,\n",
      "          0.048048,    0.049049,     0.05005,    0.051051,    0.052052,    0.053053,    0.054054,    0.055055,    0.056056,    0.057057,    0.058058,    0.059059,     0.06006,    0.061061,    0.062062,    0.063063,    0.064064,    0.065065,    0.066066,    0.067067,    0.068068,    0.069069,     0.07007,    0.071071,\n",
      "          0.072072,    0.073073,    0.074074,    0.075075,    0.076076,    0.077077,    0.078078,    0.079079,     0.08008,    0.081081,    0.082082,    0.083083,    0.084084,    0.085085,    0.086086,    0.087087,    0.088088,    0.089089,     0.09009,    0.091091,    0.092092,    0.093093,    0.094094,    0.095095,\n",
      "          0.096096,    0.097097,    0.098098,    0.099099,      0.1001,      0.1011,      0.1021,      0.1031,      0.1041,     0.10511,     0.10611,     0.10711,     0.10811,     0.10911,     0.11011,     0.11111,     0.11211,     0.11311,     0.11411,     0.11512,     0.11612,     0.11712,     0.11812,     0.11912,\n",
      "           0.12012,     0.12112,     0.12212,     0.12312,     0.12412,     0.12513,     0.12613,     0.12713,     0.12813,     0.12913,     0.13013,     0.13113,     0.13213,     0.13313,     0.13413,     0.13514,     0.13614,     0.13714,     0.13814,     0.13914,     0.14014,     0.14114,     0.14214,     0.14314,\n",
      "           0.14414,     0.14515,     0.14615,     0.14715,     0.14815,     0.14915,     0.15015,     0.15115,     0.15215,     0.15315,     0.15415,     0.15516,     0.15616,     0.15716,     0.15816,     0.15916,     0.16016,     0.16116,     0.16216,     0.16316,     0.16416,     0.16517,     0.16617,     0.16717,\n",
      "           0.16817,     0.16917,     0.17017,     0.17117,     0.17217,     0.17317,     0.17417,     0.17518,     0.17618,     0.17718,     0.17818,     0.17918,     0.18018,     0.18118,     0.18218,     0.18318,     0.18418,     0.18519,     0.18619,     0.18719,     0.18819,     0.18919,     0.19019,     0.19119,\n",
      "           0.19219,     0.19319,     0.19419,      0.1952,      0.1962,      0.1972,      0.1982,      0.1992,      0.2002,      0.2012,      0.2022,      0.2032,      0.2042,     0.20521,     0.20621,     0.20721,     0.20821,     0.20921,     0.21021,     0.21121,     0.21221,     0.21321,     0.21421,     0.21522,\n",
      "           0.21622,     0.21722,     0.21822,     0.21922,     0.22022,     0.22122,     0.22222,     0.22322,     0.22422,     0.22523,     0.22623,     0.22723,     0.22823,     0.22923,     0.23023,     0.23123,     0.23223,     0.23323,     0.23423,     0.23524,     0.23624,     0.23724,     0.23824,     0.23924,\n",
      "           0.24024,     0.24124,     0.24224,     0.24324,     0.24424,     0.24525,     0.24625,     0.24725,     0.24825,     0.24925,     0.25025,     0.25125,     0.25225,     0.25325,     0.25425,     0.25526,     0.25626,     0.25726,     0.25826,     0.25926,     0.26026,     0.26126,     0.26226,     0.26326,\n",
      "           0.26426,     0.26527,     0.26627,     0.26727,     0.26827,     0.26927,     0.27027,     0.27127,     0.27227,     0.27327,     0.27427,     0.27528,     0.27628,     0.27728,     0.27828,     0.27928,     0.28028,     0.28128,     0.28228,     0.28328,     0.28428,     0.28529,     0.28629,     0.28729,\n",
      "           0.28829,     0.28929,     0.29029,     0.29129,     0.29229,     0.29329,     0.29429,      0.2953,      0.2963,      0.2973,      0.2983,      0.2993,      0.3003,      0.3013,      0.3023,      0.3033,      0.3043,     0.30531,     0.30631,     0.30731,     0.30831,     0.30931,     0.31031,     0.31131,\n",
      "           0.31231,     0.31331,     0.31431,     0.31532,     0.31632,     0.31732,     0.31832,     0.31932,     0.32032,     0.32132,     0.32232,     0.32332,     0.32432,     0.32533,     0.32633,     0.32733,     0.32833,     0.32933,     0.33033,     0.33133,     0.33233,     0.33333,     0.33433,     0.33534,\n",
      "           0.33634,     0.33734,     0.33834,     0.33934,     0.34034,     0.34134,     0.34234,     0.34334,     0.34434,     0.34535,     0.34635,     0.34735,     0.34835,     0.34935,     0.35035,     0.35135,     0.35235,     0.35335,     0.35435,     0.35536,     0.35636,     0.35736,     0.35836,     0.35936,\n",
      "           0.36036,     0.36136,     0.36236,     0.36336,     0.36436,     0.36537,     0.36637,     0.36737,     0.36837,     0.36937,     0.37037,     0.37137,     0.37237,     0.37337,     0.37437,     0.37538,     0.37638,     0.37738,     0.37838,     0.37938,     0.38038,     0.38138,     0.38238,     0.38338,\n",
      "           0.38438,     0.38539,     0.38639,     0.38739,     0.38839,     0.38939,     0.39039,     0.39139,     0.39239,     0.39339,     0.39439,      0.3954,      0.3964,      0.3974,      0.3984,      0.3994,      0.4004,      0.4014,      0.4024,      0.4034,      0.4044,     0.40541,     0.40641,     0.40741,\n",
      "           0.40841,     0.40941,     0.41041,     0.41141,     0.41241,     0.41341,     0.41441,     0.41542,     0.41642,     0.41742,     0.41842,     0.41942,     0.42042,     0.42142,     0.42242,     0.42342,     0.42442,     0.42543,     0.42643,     0.42743,     0.42843,     0.42943,     0.43043,     0.43143,\n",
      "           0.43243,     0.43343,     0.43443,     0.43544,     0.43644,     0.43744,     0.43844,     0.43944,     0.44044,     0.44144,     0.44244,     0.44344,     0.44444,     0.44545,     0.44645,     0.44745,     0.44845,     0.44945,     0.45045,     0.45145,     0.45245,     0.45345,     0.45445,     0.45546,\n",
      "           0.45646,     0.45746,     0.45846,     0.45946,     0.46046,     0.46146,     0.46246,     0.46346,     0.46446,     0.46547,     0.46647,     0.46747,     0.46847,     0.46947,     0.47047,     0.47147,     0.47247,     0.47347,     0.47447,     0.47548,     0.47648,     0.47748,     0.47848,     0.47948,\n",
      "           0.48048,     0.48148,     0.48248,     0.48348,     0.48448,     0.48549,     0.48649,     0.48749,     0.48849,     0.48949,     0.49049,     0.49149,     0.49249,     0.49349,     0.49449,      0.4955,      0.4965,      0.4975,      0.4985,      0.4995,      0.5005,      0.5015,      0.5025,      0.5035,\n",
      "            0.5045,     0.50551,     0.50651,     0.50751,     0.50851,     0.50951,     0.51051,     0.51151,     0.51251,     0.51351,     0.51451,     0.51552,     0.51652,     0.51752,     0.51852,     0.51952,     0.52052,     0.52152,     0.52252,     0.52352,     0.52452,     0.52553,     0.52653,     0.52753,\n",
      "           0.52853,     0.52953,     0.53053,     0.53153,     0.53253,     0.53353,     0.53453,     0.53554,     0.53654,     0.53754,     0.53854,     0.53954,     0.54054,     0.54154,     0.54254,     0.54354,     0.54454,     0.54555,     0.54655,     0.54755,     0.54855,     0.54955,     0.55055,     0.55155,\n",
      "           0.55255,     0.55355,     0.55455,     0.55556,     0.55656,     0.55756,     0.55856,     0.55956,     0.56056,     0.56156,     0.56256,     0.56356,     0.56456,     0.56557,     0.56657,     0.56757,     0.56857,     0.56957,     0.57057,     0.57157,     0.57257,     0.57357,     0.57457,     0.57558,\n",
      "           0.57658,     0.57758,     0.57858,     0.57958,     0.58058,     0.58158,     0.58258,     0.58358,     0.58458,     0.58559,     0.58659,     0.58759,     0.58859,     0.58959,     0.59059,     0.59159,     0.59259,     0.59359,     0.59459,      0.5956,      0.5966,      0.5976,      0.5986,      0.5996,\n",
      "            0.6006,      0.6016,      0.6026,      0.6036,      0.6046,     0.60561,     0.60661,     0.60761,     0.60861,     0.60961,     0.61061,     0.61161,     0.61261,     0.61361,     0.61461,     0.61562,     0.61662,     0.61762,     0.61862,     0.61962,     0.62062,     0.62162,     0.62262,     0.62362,\n",
      "           0.62462,     0.62563,     0.62663,     0.62763,     0.62863,     0.62963,     0.63063,     0.63163,     0.63263,     0.63363,     0.63463,     0.63564,     0.63664,     0.63764,     0.63864,     0.63964,     0.64064,     0.64164,     0.64264,     0.64364,     0.64464,     0.64565,     0.64665,     0.64765,\n",
      "           0.64865,     0.64965,     0.65065,     0.65165,     0.65265,     0.65365,     0.65465,     0.65566,     0.65666,     0.65766,     0.65866,     0.65966,     0.66066,     0.66166,     0.66266,     0.66366,     0.66466,     0.66567,     0.66667,     0.66767,     0.66867,     0.66967,     0.67067,     0.67167,\n",
      "           0.67267,     0.67367,     0.67467,     0.67568,     0.67668,     0.67768,     0.67868,     0.67968,     0.68068,     0.68168,     0.68268,     0.68368,     0.68468,     0.68569,     0.68669,     0.68769,     0.68869,     0.68969,     0.69069,     0.69169,     0.69269,     0.69369,     0.69469,      0.6957,\n",
      "            0.6967,      0.6977,      0.6987,      0.6997,      0.7007,      0.7017,      0.7027,      0.7037,      0.7047,     0.70571,     0.70671,     0.70771,     0.70871,     0.70971,     0.71071,     0.71171,     0.71271,     0.71371,     0.71471,     0.71572,     0.71672,     0.71772,     0.71872,     0.71972,\n",
      "           0.72072,     0.72172,     0.72272,     0.72372,     0.72472,     0.72573,     0.72673,     0.72773,     0.72873,     0.72973,     0.73073,     0.73173,     0.73273,     0.73373,     0.73473,     0.73574,     0.73674,     0.73774,     0.73874,     0.73974,     0.74074,     0.74174,     0.74274,     0.74374,\n",
      "           0.74474,     0.74575,     0.74675,     0.74775,     0.74875,     0.74975,     0.75075,     0.75175,     0.75275,     0.75375,     0.75475,     0.75576,     0.75676,     0.75776,     0.75876,     0.75976,     0.76076,     0.76176,     0.76276,     0.76376,     0.76476,     0.76577,     0.76677,     0.76777,\n",
      "           0.76877,     0.76977,     0.77077,     0.77177,     0.77277,     0.77377,     0.77477,     0.77578,     0.77678,     0.77778,     0.77878,     0.77978,     0.78078,     0.78178,     0.78278,     0.78378,     0.78478,     0.78579,     0.78679,     0.78779,     0.78879,     0.78979,     0.79079,     0.79179,\n",
      "           0.79279,     0.79379,     0.79479,      0.7958,      0.7968,      0.7978,      0.7988,      0.7998,      0.8008,      0.8018,      0.8028,      0.8038,      0.8048,     0.80581,     0.80681,     0.80781,     0.80881,     0.80981,     0.81081,     0.81181,     0.81281,     0.81381,     0.81481,     0.81582,\n",
      "           0.81682,     0.81782,     0.81882,     0.81982,     0.82082,     0.82182,     0.82282,     0.82382,     0.82482,     0.82583,     0.82683,     0.82783,     0.82883,     0.82983,     0.83083,     0.83183,     0.83283,     0.83383,     0.83483,     0.83584,     0.83684,     0.83784,     0.83884,     0.83984,\n",
      "           0.84084,     0.84184,     0.84284,     0.84384,     0.84484,     0.84585,     0.84685,     0.84785,     0.84885,     0.84985,     0.85085,     0.85185,     0.85285,     0.85385,     0.85485,     0.85586,     0.85686,     0.85786,     0.85886,     0.85986,     0.86086,     0.86186,     0.86286,     0.86386,\n",
      "           0.86486,     0.86587,     0.86687,     0.86787,     0.86887,     0.86987,     0.87087,     0.87187,     0.87287,     0.87387,     0.87487,     0.87588,     0.87688,     0.87788,     0.87888,     0.87988,     0.88088,     0.88188,     0.88288,     0.88388,     0.88488,     0.88589,     0.88689,     0.88789,\n",
      "           0.88889,     0.88989,     0.89089,     0.89189,     0.89289,     0.89389,     0.89489,      0.8959,      0.8969,      0.8979,      0.8989,      0.8999,      0.9009,      0.9019,      0.9029,      0.9039,      0.9049,     0.90591,     0.90691,     0.90791,     0.90891,     0.90991,     0.91091,     0.91191,\n",
      "           0.91291,     0.91391,     0.91491,     0.91592,     0.91692,     0.91792,     0.91892,     0.91992,     0.92092,     0.92192,     0.92292,     0.92392,     0.92492,     0.92593,     0.92693,     0.92793,     0.92893,     0.92993,     0.93093,     0.93193,     0.93293,     0.93393,     0.93493,     0.93594,\n",
      "           0.93694,     0.93794,     0.93894,     0.93994,     0.94094,     0.94194,     0.94294,     0.94394,     0.94494,     0.94595,     0.94695,     0.94795,     0.94895,     0.94995,     0.95095,     0.95195,     0.95295,     0.95395,     0.95495,     0.95596,     0.95696,     0.95796,     0.95896,     0.95996,\n",
      "           0.96096,     0.96196,     0.96296,     0.96396,     0.96496,     0.96597,     0.96697,     0.96797,     0.96897,     0.96997,     0.97097,     0.97197,     0.97297,     0.97397,     0.97497,     0.97598,     0.97698,     0.97798,     0.97898,     0.97998,     0.98098,     0.98198,     0.98298,     0.98398,\n",
      "           0.98498,     0.98599,     0.98699,     0.98799,     0.98899,     0.98999,     0.99099,     0.99199,     0.99299,     0.99399,     0.99499,       0.996,       0.997,       0.998,       0.999,           1]), array([[   0.078852,    0.078937,     0.10968,     0.13213,     0.15132,     0.16802,     0.18248,     0.19522,     0.20626,     0.21731,     0.22758,     0.23837,     0.24679,     0.25383,     0.26384,      0.2736,     0.28167,     0.28948,     0.29776,     0.30364,     0.31044,     0.31746,     0.32289,\n",
      "            0.32901,     0.33595,     0.34145,     0.34723,     0.35392,     0.35886,     0.36405,     0.36773,     0.37403,     0.37712,     0.38133,     0.38609,     0.38922,     0.39362,     0.39679,     0.40137,     0.40552,     0.41053,     0.41559,     0.41958,     0.42303,     0.42702,     0.43332,\n",
      "            0.43684,     0.44035,     0.44391,     0.44842,     0.45161,     0.45486,     0.45893,     0.46287,     0.46586,     0.46975,     0.47246,     0.47629,     0.47848,     0.48059,     0.48443,     0.48953,     0.49369,     0.49677,     0.49922,     0.50069,     0.50277,     0.50745,     0.50988,\n",
      "            0.51276,     0.51556,     0.51692,     0.51985,      0.5212,     0.52443,     0.52746,     0.52989,     0.53193,     0.53383,     0.53588,     0.53914,     0.53992,     0.54225,     0.54498,     0.54659,     0.54971,     0.55194,     0.55481,      0.5575,     0.55852,     0.55991,     0.56146,\n",
      "            0.56321,     0.56491,     0.56833,     0.57089,     0.57254,     0.57475,     0.57682,     0.57891,     0.58082,     0.58292,      0.5846,     0.58607,     0.58612,      0.5874,     0.59058,     0.59269,     0.59537,     0.59762,     0.60054,     0.60311,     0.60451,     0.60647,     0.60791,\n",
      "            0.61158,     0.61272,     0.61547,     0.61823,     0.61989,      0.6218,     0.62314,     0.62511,     0.62597,      0.6274,     0.62967,     0.63089,     0.63339,     0.63461,     0.63695,     0.63933,     0.64152,     0.64411,     0.64564,     0.64755,     0.64867,     0.64983,     0.65102,\n",
      "            0.65179,     0.65491,     0.65643,     0.65861,     0.65996,      0.6612,     0.66315,     0.66406,     0.66459,     0.66471,     0.66697,     0.66764,     0.66848,     0.66964,     0.67102,     0.67319,     0.67459,     0.67668,     0.67702,     0.67729,     0.67858,     0.67906,     0.68012,\n",
      "            0.68129,     0.68203,     0.68518,     0.68683,     0.68749,     0.68786,     0.68954,     0.69379,     0.69419,     0.69468,     0.69654,     0.69837,     0.70118,     0.70257,     0.70327,     0.70401,     0.70742,     0.70914,     0.70948,     0.70986,     0.70949,     0.71081,     0.71194,\n",
      "            0.71231,     0.71448,     0.71689,     0.71682,     0.71836,      0.7195,     0.72058,     0.72095,     0.72084,     0.72145,     0.72194,     0.72334,     0.72454,     0.72533,     0.72587,     0.72623,     0.72662,     0.72768,       0.729,     0.73017,     0.73057,     0.73111,     0.73245,\n",
      "            0.73372,     0.73705,     0.73776,        0.74,     0.74204,      0.7447,     0.74654,     0.74772,     0.74889,      0.7513,     0.75111,     0.75192,     0.75302,     0.75343,     0.75405,     0.75435,      0.7545,     0.75464,     0.75478,     0.75486,     0.75546,     0.75604,      0.7564,\n",
      "            0.75724,     0.75789,     0.75926,      0.7623,      0.7626,     0.76319,     0.76328,     0.76364,     0.76397,      0.7646,     0.76548,     0.76632,     0.76701,     0.76721,     0.76802,     0.76783,     0.76974,     0.77163,     0.77319,     0.77503,     0.77648,     0.77702,     0.77748,\n",
      "             0.7775,     0.77726,     0.77841,      0.7793,     0.78024,     0.78065,     0.78122,     0.78176,     0.78186,     0.78299,     0.78481,     0.78602,     0.78856,     0.79039,     0.79098,     0.79106,     0.79194,     0.79313,     0.79305,     0.79319,     0.79378,     0.79477,     0.79545,\n",
      "            0.79547,     0.79602,     0.79609,     0.79743,     0.79811,     0.79894,     0.79946,      0.8001,     0.80086,     0.80212,     0.80229,     0.80332,     0.80463,     0.80529,     0.80621,     0.80653,     0.80647,      0.8064,     0.80713,     0.80678,     0.80661,     0.80716,     0.80735,\n",
      "             0.8077,     0.81054,     0.81371,     0.81376,     0.81368,     0.81394,     0.81446,     0.81468,     0.81537,      0.8158,     0.81668,      0.8176,      0.8175,     0.81827,     0.81814,     0.81799,     0.81976,     0.82138,      0.8236,     0.82409,     0.82506,     0.82651,     0.82642,\n",
      "            0.82703,     0.82964,     0.83137,     0.83114,     0.83149,     0.83271,     0.83289,      0.8333,     0.83397,      0.8339,     0.83352,     0.83539,     0.83601,     0.83614,     0.83666,     0.83647,     0.83803,     0.83949,     0.83977,     0.83967,     0.84022,     0.84012,     0.84017,\n",
      "            0.84092,     0.84081,     0.84237,     0.84413,     0.84486,     0.84474,     0.84628,     0.84651,     0.84639,     0.84735,     0.84903,     0.84957,     0.85073,     0.85066,     0.85136,     0.85241,     0.85309,     0.85374,     0.85354,     0.85361,     0.85616,     0.85606,      0.8569,\n",
      "            0.85767,     0.85895,     0.86092,     0.86108,     0.86078,     0.86171,     0.86186,     0.86381,     0.86438,     0.86508,     0.86474,     0.86559,     0.86538,     0.86611,     0.86699,     0.86799,     0.86851,     0.86905,     0.86963,     0.87202,     0.87195,     0.87203,     0.87289,\n",
      "            0.87268,     0.87259,     0.87255,     0.87251,     0.87247,     0.87241,     0.87234,     0.87317,     0.87425,     0.87517,     0.87589,     0.87606,     0.87786,     0.87892,     0.87874,     0.87854,     0.87831,     0.87827,     0.87823,     0.87819,      0.8781,     0.88103,     0.88184,\n",
      "            0.88337,     0.88382,     0.88426,     0.88545,     0.88541,     0.88536,     0.88571,     0.88635,     0.88598,     0.88589,     0.88566,     0.88667,     0.88653,     0.88645,     0.88745,     0.88736,     0.88938,     0.88914,     0.88893,     0.88883,     0.88871,     0.88857,     0.88853,\n",
      "            0.88848,     0.88807,     0.88782,     0.88943,     0.88978,     0.89044,     0.89037,     0.89038,     0.89119,     0.89182,     0.89206,       0.892,     0.89193,     0.89159,     0.89147,     0.89142,     0.89138,     0.89235,     0.89227,      0.8919,     0.89171,     0.89163,     0.89157,\n",
      "             0.8915,      0.8914,     0.89129,     0.89239,     0.89223,     0.89332,     0.89316,     0.89311,     0.89306,      0.8927,     0.89239,     0.89223,     0.89202,     0.89185,     0.89253,     0.89317,      0.8938,     0.89356,     0.89348,     0.89337,     0.89314,     0.89426,     0.89496,\n",
      "            0.89604,     0.89671,     0.89781,     0.89961,     0.89955,     0.89942,     0.89908,     0.90117,     0.90184,     0.90136,     0.90116,     0.90177,     0.90266,     0.90353,     0.90423,     0.90381,     0.90348,      0.9047,     0.90459,     0.90515,      0.9057,     0.90572,     0.90669,\n",
      "            0.90647,     0.90632,     0.90613,     0.90586,     0.90566,     0.90525,     0.90493,     0.90713,     0.90747,     0.90728,     0.90702,     0.90822,     0.90895,     0.90927,      0.9105,     0.91043,     0.91021,     0.91147,      0.9141,     0.91441,     0.91524,     0.91625,     0.91619,\n",
      "            0.91614,     0.91583,     0.91543,     0.91524,     0.91479,     0.91464,     0.91419,     0.91372,     0.91349,     0.91323,     0.91301,     0.91294,     0.91574,     0.91713,     0.91691,     0.91663,     0.91808,     0.91944,     0.91983,     0.92081,     0.92086,     0.92073,     0.92052,\n",
      "            0.92025,     0.92155,     0.92111,      0.9227,     0.92414,      0.9241,     0.92407,     0.92403,     0.92394,     0.92373,     0.92329,     0.92428,      0.9253,     0.92553,     0.92537,      0.9268,     0.92768,     0.92988,      0.9297,     0.92924,     0.92889,     0.92853,     0.92813,\n",
      "             0.9278,     0.92766,      0.9275,     0.92867,     0.93006,      0.9305,     0.93042,     0.93031,     0.92989,     0.93143,      0.9312,     0.93273,     0.93236,     0.93182,     0.93145,     0.93384,      0.9345,     0.93439,      0.9339,     0.93378,     0.93343,     0.93327,     0.93485,\n",
      "            0.93429,     0.93419,     0.93599,     0.93591,     0.93572,     0.93514,     0.93482,     0.93466,      0.9336,     0.93327,     0.93305,     0.93682,     0.93618,     0.93748,     0.93775,     0.93745,     0.93947,     0.94142,     0.94081,     0.94057,     0.94014,     0.94225,     0.94161,\n",
      "            0.94126,     0.94079,     0.94065,     0.94038,     0.94017,     0.93952,     0.93938,     0.94634,     0.94611,     0.94831,     0.94819,     0.94791,     0.94993,      0.9495,     0.94913,     0.94894,      0.9488,     0.94846,     0.95076,     0.95012,     0.94985,     0.94944,     0.94935,\n",
      "            0.94887,     0.95091,     0.95095,     0.95314,     0.95294,     0.95275,      0.9523,     0.95122,     0.95362,     0.95331,     0.95589,     0.95873,     0.95854,     0.95847,     0.95795,      0.9576,     0.96051,     0.95985,     0.95952,     0.95925,      0.9617,     0.96181,     0.96159,\n",
      "            0.96124,      0.9609,     0.96042,     0.95977,     0.95945,     0.96252,     0.96191,     0.96147,     0.96114,     0.96077,     0.96052,     0.96009,     0.95987,     0.95934,     0.95919,     0.95906,     0.95876,     0.95859,     0.95827,     0.95761,     0.95705,     0.95663,      0.9563,\n",
      "            0.95587,     0.95553,     0.95484,     0.95436,      0.9537,     0.95298,     0.95194,     0.95107,     0.95059,     0.95501,     0.95417,     0.95306,      0.9529,     0.95239,     0.95189,     0.95142,     0.95081,     0.95009,     0.94953,     0.94794,     0.94776,     0.94692,      0.9463,\n",
      "            0.94597,     0.94552,     0.94453,     0.94398,     0.94342,     0.94205,     0.94091,     0.93995,     0.93913,     0.93856,     0.93672,     0.93606,     0.93555,     0.93515,      0.9414,     0.94091,     0.93971,     0.93866,     0.93699,     0.93611,     0.93574,     0.93547,      0.9347,\n",
      "            0.93345,     0.93298,       0.932,     0.93142,      0.9311,      0.9291,     0.93571,     0.93451,     0.93346,     0.93209,     0.93002,      0.9366,     0.93589,     0.93491,      0.9336,     0.93169,     0.94105,     0.94078,     0.94052,     0.94244,     0.94662,      0.9508,     0.96199,\n",
      "            0.96142,     0.96097,     0.96064,     0.96029,     0.95997,     0.95984,     0.95971,     0.95958,     0.95936,     0.95804,      0.9571,     0.95697,     0.95683,     0.95669,     0.95656,     0.96365,      0.9701,     0.96996,     0.96982,     0.96968,     0.96947,     0.96926,     0.96885,\n",
      "            0.96837,     0.96716,     0.96679,     0.96615,     0.96525,     0.96477,     0.96374,     0.96324,     0.96265,     0.96143,     0.96122,       0.961,     0.96077,     0.96019,     0.95668,     0.95587,       0.955,     0.95261,     0.95101,     0.95067,     0.95033,     0.94999,     0.94961,\n",
      "            0.94924,     0.94886,     0.94827,     0.94756,     0.94559,     0.94597,     0.95535,     0.96472,      0.9712,     0.97043,     0.96982,     0.96902,     0.96747,     0.96663,     0.96596,     0.96472,     0.96377,     0.96313,     0.96238,      0.9616,     0.96068,     0.95973,      0.9587,\n",
      "            0.95747,     0.95527,     0.95388,     0.95308,     0.95219,     0.95069,     0.94916,      0.9476,     0.94568,     0.94271,      0.9395,     0.93654,     0.91421,     0.89907,     0.89776,     0.89645,     0.89514,     0.89383,     0.89252,     0.89121,      0.8899,     0.88703,     0.87883,\n",
      "            0.87309,     0.86951,     0.86593,     0.86235,     0.85876,      0.8472,     0.80976,     0.79713,     0.79395,     0.79077,     0.78759,      0.7844,     0.78122,     0.77804,     0.77486,     0.77168,     0.76849,     0.76531,     0.76213,     0.75895,     0.75577,     0.75259,     0.74728,\n",
      "            0.73278,     0.71828,     0.70377,     0.68927,     0.67477,     0.66321,     0.65538,     0.64754,     0.63971,     0.63188,     0.62405,     0.61621,     0.60838,     0.60055,     0.59271,     0.58488,     0.57705,     0.56921,     0.56138,     0.55355,     0.54572,     0.53788,     0.53005,\n",
      "            0.52222,     0.51438,     0.50655,     0.44858,     0.13448,           1,           1,           1,           1,           1,           1,           1,           1,           1,           1,           1,           1,           1,           1,           1,           1,           1,           1,\n",
      "                  1,           1,           1,           1,           1,           1,           1,           1,           1,           1,           1,           1,           1,           1,           1,           1,           1,           1,           1,           1,           1,           1,           1,\n",
      "                  1,           1,           1,           1,           1,           1,           1,           1,           1,           1,           1,           1,           1,           1,           1,           1,           1,           1,           1,           1,           1,           1,           1,\n",
      "                  1,           1,           1,           1,           1,           1,           1,           1,           1,           1,           1,           1,           1,           1,           1,           1,           1,           1,           1,           1,           1,           1,           1,\n",
      "                  1,           1,           1,           1,           1,           1,           1,           1,           1,           1,           1]]), 'Confidence', 'Precision'], [array([          0,    0.001001,    0.002002,    0.003003,    0.004004,    0.005005,    0.006006,    0.007007,    0.008008,    0.009009,     0.01001,    0.011011,    0.012012,    0.013013,    0.014014,    0.015015,    0.016016,    0.017017,    0.018018,    0.019019,     0.02002,    0.021021,    0.022022,    0.023023,\n",
      "          0.024024,    0.025025,    0.026026,    0.027027,    0.028028,    0.029029,     0.03003,    0.031031,    0.032032,    0.033033,    0.034034,    0.035035,    0.036036,    0.037037,    0.038038,    0.039039,     0.04004,    0.041041,    0.042042,    0.043043,    0.044044,    0.045045,    0.046046,    0.047047,\n",
      "          0.048048,    0.049049,     0.05005,    0.051051,    0.052052,    0.053053,    0.054054,    0.055055,    0.056056,    0.057057,    0.058058,    0.059059,     0.06006,    0.061061,    0.062062,    0.063063,    0.064064,    0.065065,    0.066066,    0.067067,    0.068068,    0.069069,     0.07007,    0.071071,\n",
      "          0.072072,    0.073073,    0.074074,    0.075075,    0.076076,    0.077077,    0.078078,    0.079079,     0.08008,    0.081081,    0.082082,    0.083083,    0.084084,    0.085085,    0.086086,    0.087087,    0.088088,    0.089089,     0.09009,    0.091091,    0.092092,    0.093093,    0.094094,    0.095095,\n",
      "          0.096096,    0.097097,    0.098098,    0.099099,      0.1001,      0.1011,      0.1021,      0.1031,      0.1041,     0.10511,     0.10611,     0.10711,     0.10811,     0.10911,     0.11011,     0.11111,     0.11211,     0.11311,     0.11411,     0.11512,     0.11612,     0.11712,     0.11812,     0.11912,\n",
      "           0.12012,     0.12112,     0.12212,     0.12312,     0.12412,     0.12513,     0.12613,     0.12713,     0.12813,     0.12913,     0.13013,     0.13113,     0.13213,     0.13313,     0.13413,     0.13514,     0.13614,     0.13714,     0.13814,     0.13914,     0.14014,     0.14114,     0.14214,     0.14314,\n",
      "           0.14414,     0.14515,     0.14615,     0.14715,     0.14815,     0.14915,     0.15015,     0.15115,     0.15215,     0.15315,     0.15415,     0.15516,     0.15616,     0.15716,     0.15816,     0.15916,     0.16016,     0.16116,     0.16216,     0.16316,     0.16416,     0.16517,     0.16617,     0.16717,\n",
      "           0.16817,     0.16917,     0.17017,     0.17117,     0.17217,     0.17317,     0.17417,     0.17518,     0.17618,     0.17718,     0.17818,     0.17918,     0.18018,     0.18118,     0.18218,     0.18318,     0.18418,     0.18519,     0.18619,     0.18719,     0.18819,     0.18919,     0.19019,     0.19119,\n",
      "           0.19219,     0.19319,     0.19419,      0.1952,      0.1962,      0.1972,      0.1982,      0.1992,      0.2002,      0.2012,      0.2022,      0.2032,      0.2042,     0.20521,     0.20621,     0.20721,     0.20821,     0.20921,     0.21021,     0.21121,     0.21221,     0.21321,     0.21421,     0.21522,\n",
      "           0.21622,     0.21722,     0.21822,     0.21922,     0.22022,     0.22122,     0.22222,     0.22322,     0.22422,     0.22523,     0.22623,     0.22723,     0.22823,     0.22923,     0.23023,     0.23123,     0.23223,     0.23323,     0.23423,     0.23524,     0.23624,     0.23724,     0.23824,     0.23924,\n",
      "           0.24024,     0.24124,     0.24224,     0.24324,     0.24424,     0.24525,     0.24625,     0.24725,     0.24825,     0.24925,     0.25025,     0.25125,     0.25225,     0.25325,     0.25425,     0.25526,     0.25626,     0.25726,     0.25826,     0.25926,     0.26026,     0.26126,     0.26226,     0.26326,\n",
      "           0.26426,     0.26527,     0.26627,     0.26727,     0.26827,     0.26927,     0.27027,     0.27127,     0.27227,     0.27327,     0.27427,     0.27528,     0.27628,     0.27728,     0.27828,     0.27928,     0.28028,     0.28128,     0.28228,     0.28328,     0.28428,     0.28529,     0.28629,     0.28729,\n",
      "           0.28829,     0.28929,     0.29029,     0.29129,     0.29229,     0.29329,     0.29429,      0.2953,      0.2963,      0.2973,      0.2983,      0.2993,      0.3003,      0.3013,      0.3023,      0.3033,      0.3043,     0.30531,     0.30631,     0.30731,     0.30831,     0.30931,     0.31031,     0.31131,\n",
      "           0.31231,     0.31331,     0.31431,     0.31532,     0.31632,     0.31732,     0.31832,     0.31932,     0.32032,     0.32132,     0.32232,     0.32332,     0.32432,     0.32533,     0.32633,     0.32733,     0.32833,     0.32933,     0.33033,     0.33133,     0.33233,     0.33333,     0.33433,     0.33534,\n",
      "           0.33634,     0.33734,     0.33834,     0.33934,     0.34034,     0.34134,     0.34234,     0.34334,     0.34434,     0.34535,     0.34635,     0.34735,     0.34835,     0.34935,     0.35035,     0.35135,     0.35235,     0.35335,     0.35435,     0.35536,     0.35636,     0.35736,     0.35836,     0.35936,\n",
      "           0.36036,     0.36136,     0.36236,     0.36336,     0.36436,     0.36537,     0.36637,     0.36737,     0.36837,     0.36937,     0.37037,     0.37137,     0.37237,     0.37337,     0.37437,     0.37538,     0.37638,     0.37738,     0.37838,     0.37938,     0.38038,     0.38138,     0.38238,     0.38338,\n",
      "           0.38438,     0.38539,     0.38639,     0.38739,     0.38839,     0.38939,     0.39039,     0.39139,     0.39239,     0.39339,     0.39439,      0.3954,      0.3964,      0.3974,      0.3984,      0.3994,      0.4004,      0.4014,      0.4024,      0.4034,      0.4044,     0.40541,     0.40641,     0.40741,\n",
      "           0.40841,     0.40941,     0.41041,     0.41141,     0.41241,     0.41341,     0.41441,     0.41542,     0.41642,     0.41742,     0.41842,     0.41942,     0.42042,     0.42142,     0.42242,     0.42342,     0.42442,     0.42543,     0.42643,     0.42743,     0.42843,     0.42943,     0.43043,     0.43143,\n",
      "           0.43243,     0.43343,     0.43443,     0.43544,     0.43644,     0.43744,     0.43844,     0.43944,     0.44044,     0.44144,     0.44244,     0.44344,     0.44444,     0.44545,     0.44645,     0.44745,     0.44845,     0.44945,     0.45045,     0.45145,     0.45245,     0.45345,     0.45445,     0.45546,\n",
      "           0.45646,     0.45746,     0.45846,     0.45946,     0.46046,     0.46146,     0.46246,     0.46346,     0.46446,     0.46547,     0.46647,     0.46747,     0.46847,     0.46947,     0.47047,     0.47147,     0.47247,     0.47347,     0.47447,     0.47548,     0.47648,     0.47748,     0.47848,     0.47948,\n",
      "           0.48048,     0.48148,     0.48248,     0.48348,     0.48448,     0.48549,     0.48649,     0.48749,     0.48849,     0.48949,     0.49049,     0.49149,     0.49249,     0.49349,     0.49449,      0.4955,      0.4965,      0.4975,      0.4985,      0.4995,      0.5005,      0.5015,      0.5025,      0.5035,\n",
      "            0.5045,     0.50551,     0.50651,     0.50751,     0.50851,     0.50951,     0.51051,     0.51151,     0.51251,     0.51351,     0.51451,     0.51552,     0.51652,     0.51752,     0.51852,     0.51952,     0.52052,     0.52152,     0.52252,     0.52352,     0.52452,     0.52553,     0.52653,     0.52753,\n",
      "           0.52853,     0.52953,     0.53053,     0.53153,     0.53253,     0.53353,     0.53453,     0.53554,     0.53654,     0.53754,     0.53854,     0.53954,     0.54054,     0.54154,     0.54254,     0.54354,     0.54454,     0.54555,     0.54655,     0.54755,     0.54855,     0.54955,     0.55055,     0.55155,\n",
      "           0.55255,     0.55355,     0.55455,     0.55556,     0.55656,     0.55756,     0.55856,     0.55956,     0.56056,     0.56156,     0.56256,     0.56356,     0.56456,     0.56557,     0.56657,     0.56757,     0.56857,     0.56957,     0.57057,     0.57157,     0.57257,     0.57357,     0.57457,     0.57558,\n",
      "           0.57658,     0.57758,     0.57858,     0.57958,     0.58058,     0.58158,     0.58258,     0.58358,     0.58458,     0.58559,     0.58659,     0.58759,     0.58859,     0.58959,     0.59059,     0.59159,     0.59259,     0.59359,     0.59459,      0.5956,      0.5966,      0.5976,      0.5986,      0.5996,\n",
      "            0.6006,      0.6016,      0.6026,      0.6036,      0.6046,     0.60561,     0.60661,     0.60761,     0.60861,     0.60961,     0.61061,     0.61161,     0.61261,     0.61361,     0.61461,     0.61562,     0.61662,     0.61762,     0.61862,     0.61962,     0.62062,     0.62162,     0.62262,     0.62362,\n",
      "           0.62462,     0.62563,     0.62663,     0.62763,     0.62863,     0.62963,     0.63063,     0.63163,     0.63263,     0.63363,     0.63463,     0.63564,     0.63664,     0.63764,     0.63864,     0.63964,     0.64064,     0.64164,     0.64264,     0.64364,     0.64464,     0.64565,     0.64665,     0.64765,\n",
      "           0.64865,     0.64965,     0.65065,     0.65165,     0.65265,     0.65365,     0.65465,     0.65566,     0.65666,     0.65766,     0.65866,     0.65966,     0.66066,     0.66166,     0.66266,     0.66366,     0.66466,     0.66567,     0.66667,     0.66767,     0.66867,     0.66967,     0.67067,     0.67167,\n",
      "           0.67267,     0.67367,     0.67467,     0.67568,     0.67668,     0.67768,     0.67868,     0.67968,     0.68068,     0.68168,     0.68268,     0.68368,     0.68468,     0.68569,     0.68669,     0.68769,     0.68869,     0.68969,     0.69069,     0.69169,     0.69269,     0.69369,     0.69469,      0.6957,\n",
      "            0.6967,      0.6977,      0.6987,      0.6997,      0.7007,      0.7017,      0.7027,      0.7037,      0.7047,     0.70571,     0.70671,     0.70771,     0.70871,     0.70971,     0.71071,     0.71171,     0.71271,     0.71371,     0.71471,     0.71572,     0.71672,     0.71772,     0.71872,     0.71972,\n",
      "           0.72072,     0.72172,     0.72272,     0.72372,     0.72472,     0.72573,     0.72673,     0.72773,     0.72873,     0.72973,     0.73073,     0.73173,     0.73273,     0.73373,     0.73473,     0.73574,     0.73674,     0.73774,     0.73874,     0.73974,     0.74074,     0.74174,     0.74274,     0.74374,\n",
      "           0.74474,     0.74575,     0.74675,     0.74775,     0.74875,     0.74975,     0.75075,     0.75175,     0.75275,     0.75375,     0.75475,     0.75576,     0.75676,     0.75776,     0.75876,     0.75976,     0.76076,     0.76176,     0.76276,     0.76376,     0.76476,     0.76577,     0.76677,     0.76777,\n",
      "           0.76877,     0.76977,     0.77077,     0.77177,     0.77277,     0.77377,     0.77477,     0.77578,     0.77678,     0.77778,     0.77878,     0.77978,     0.78078,     0.78178,     0.78278,     0.78378,     0.78478,     0.78579,     0.78679,     0.78779,     0.78879,     0.78979,     0.79079,     0.79179,\n",
      "           0.79279,     0.79379,     0.79479,      0.7958,      0.7968,      0.7978,      0.7988,      0.7998,      0.8008,      0.8018,      0.8028,      0.8038,      0.8048,     0.80581,     0.80681,     0.80781,     0.80881,     0.80981,     0.81081,     0.81181,     0.81281,     0.81381,     0.81481,     0.81582,\n",
      "           0.81682,     0.81782,     0.81882,     0.81982,     0.82082,     0.82182,     0.82282,     0.82382,     0.82482,     0.82583,     0.82683,     0.82783,     0.82883,     0.82983,     0.83083,     0.83183,     0.83283,     0.83383,     0.83483,     0.83584,     0.83684,     0.83784,     0.83884,     0.83984,\n",
      "           0.84084,     0.84184,     0.84284,     0.84384,     0.84484,     0.84585,     0.84685,     0.84785,     0.84885,     0.84985,     0.85085,     0.85185,     0.85285,     0.85385,     0.85485,     0.85586,     0.85686,     0.85786,     0.85886,     0.85986,     0.86086,     0.86186,     0.86286,     0.86386,\n",
      "           0.86486,     0.86587,     0.86687,     0.86787,     0.86887,     0.86987,     0.87087,     0.87187,     0.87287,     0.87387,     0.87487,     0.87588,     0.87688,     0.87788,     0.87888,     0.87988,     0.88088,     0.88188,     0.88288,     0.88388,     0.88488,     0.88589,     0.88689,     0.88789,\n",
      "           0.88889,     0.88989,     0.89089,     0.89189,     0.89289,     0.89389,     0.89489,      0.8959,      0.8969,      0.8979,      0.8989,      0.8999,      0.9009,      0.9019,      0.9029,      0.9039,      0.9049,     0.90591,     0.90691,     0.90791,     0.90891,     0.90991,     0.91091,     0.91191,\n",
      "           0.91291,     0.91391,     0.91491,     0.91592,     0.91692,     0.91792,     0.91892,     0.91992,     0.92092,     0.92192,     0.92292,     0.92392,     0.92492,     0.92593,     0.92693,     0.92793,     0.92893,     0.92993,     0.93093,     0.93193,     0.93293,     0.93393,     0.93493,     0.93594,\n",
      "           0.93694,     0.93794,     0.93894,     0.93994,     0.94094,     0.94194,     0.94294,     0.94394,     0.94494,     0.94595,     0.94695,     0.94795,     0.94895,     0.94995,     0.95095,     0.95195,     0.95295,     0.95395,     0.95495,     0.95596,     0.95696,     0.95796,     0.95896,     0.95996,\n",
      "           0.96096,     0.96196,     0.96296,     0.96396,     0.96496,     0.96597,     0.96697,     0.96797,     0.96897,     0.96997,     0.97097,     0.97197,     0.97297,     0.97397,     0.97497,     0.97598,     0.97698,     0.97798,     0.97898,     0.97998,     0.98098,     0.98198,     0.98298,     0.98398,\n",
      "           0.98498,     0.98599,     0.98699,     0.98799,     0.98899,     0.98999,     0.99099,     0.99199,     0.99299,     0.99399,     0.99499,       0.996,       0.997,       0.998,       0.999,           1]), array([[    0.98962,     0.98962,     0.98339,     0.98027,     0.97819,     0.97819,     0.97612,     0.97612,     0.97404,       0.973,       0.973,     0.97092,     0.97092,     0.97092,     0.97092,     0.96989,     0.96885,     0.96781,     0.96781,     0.96781,     0.96781,     0.96469,     0.96469,\n",
      "            0.96366,     0.96262,     0.96054,     0.95742,     0.95535,     0.95431,     0.95327,     0.95327,     0.95327,     0.95327,     0.95223,     0.95119,     0.95016,     0.95016,     0.94912,     0.94912,     0.94912,     0.94912,     0.94808,     0.94704,     0.94704,       0.946,       0.946,\n",
      "              0.946,     0.94393,     0.94393,     0.94393,     0.94289,     0.94289,     0.94185,     0.94081,     0.94081,     0.94081,     0.93977,     0.93873,     0.93873,     0.93769,     0.93769,     0.93769,     0.93769,     0.93458,     0.93458,     0.93458,     0.93354,     0.93354,      0.9325,\n",
      "            0.93146,     0.93146,     0.93146,     0.93146,     0.93043,     0.93043,     0.93043,     0.93043,     0.93043,     0.93043,     0.92939,     0.92939,     0.92939,     0.92939,     0.92835,     0.92731,     0.92731,     0.92731,     0.92659,     0.92627,     0.92627,     0.92627,     0.92627,\n",
      "            0.92627,      0.9242,     0.92316,     0.92316,     0.92316,     0.92212,     0.92212,     0.92108,     0.92108,     0.92108,     0.92108,     0.92108,     0.92004,     0.92004,     0.92004,     0.92004,     0.92004,     0.92004,     0.92004,     0.92004,       0.919,     0.91796,     0.91796,\n",
      "            0.91796,     0.91796,     0.91796,     0.91796,     0.91796,     0.91796,     0.91796,     0.91796,     0.91693,     0.91693,     0.91693,     0.91693,     0.91693,     0.91693,     0.91589,     0.91589,     0.91589,     0.91589,     0.91383,     0.91277,     0.91277,     0.91277,     0.91173,\n",
      "            0.91161,      0.9107,      0.9107,      0.9107,     0.90966,     0.90966,     0.90966,     0.90862,     0.90862,     0.90758,     0.90758,     0.90758,     0.90663,      0.9055,     0.90447,     0.90447,     0.90447,     0.90447,     0.90447,     0.90447,     0.90447,     0.90447,     0.90447,\n",
      "            0.90447,     0.90447,     0.90447,     0.90447,     0.90447,     0.90391,     0.90343,     0.90343,     0.90343,     0.90343,     0.90239,     0.90239,     0.90239,     0.90135,     0.90076,     0.89823,     0.89823,     0.89823,      0.8972,     0.89683,     0.89521,     0.89408,     0.89304,\n",
      "            0.89217,       0.892,       0.892,     0.89111,     0.89097,     0.89097,     0.89097,     0.89072,     0.89021,     0.88993,     0.88993,     0.88785,     0.88681,     0.88681,     0.88681,     0.88681,     0.88595,     0.88474,     0.88474,     0.88474,     0.88474,     0.88474,     0.88474,\n",
      "            0.88474,     0.88474,     0.88266,     0.88162,     0.88162,     0.88162,     0.88162,     0.88162,     0.88162,     0.88149,     0.87747,     0.87643,     0.87643,     0.87643,     0.87643,     0.87643,     0.87643,     0.87643,     0.87643,     0.87615,     0.87539,     0.87539,     0.87227,\n",
      "            0.87132,     0.87124,     0.87124,     0.87124,      0.8702,      0.8702,     0.86916,     0.86893,     0.86812,     0.86812,      0.8677,     0.86708,     0.86708,     0.86501,      0.8629,       0.862,     0.86189,     0.86189,     0.86189,     0.86085,     0.86085,     0.86085,     0.86085,\n",
      "            0.85998,     0.85881,     0.85877,     0.85774,     0.85774,     0.85774,      0.8567,      0.8567,     0.85602,     0.85566,     0.85566,     0.85462,     0.85462,     0.85362,     0.85358,     0.85313,     0.85254,     0.85254,     0.85157,     0.85047,     0.84943,     0.84839,     0.84802,\n",
      "            0.84735,     0.84697,     0.84631,     0.84631,     0.84528,     0.84528,     0.84424,     0.84424,      0.8436,      0.8432,     0.84216,     0.84216,     0.84216,     0.84177,     0.84008,     0.83981,     0.83947,     0.83913,     0.83873,     0.83685,     0.83594,     0.83454,     0.83385,\n",
      "            0.83307,     0.83178,     0.83074,     0.83033,     0.82989,      0.8297,      0.8297,     0.82866,     0.82866,     0.82866,     0.82866,     0.82855,     0.82799,     0.82757,     0.82688,     0.82605,     0.82555,     0.82555,     0.82422,     0.82347,     0.82274,     0.82124,     0.82071,\n",
      "            0.82035,     0.82035,     0.81913,     0.81781,     0.81724,     0.81666,      0.8162,      0.8162,     0.81516,     0.81331,     0.81107,     0.81101,     0.80993,     0.80893,     0.80848,     0.80685,     0.80594,     0.80582,     0.80546,     0.80488,     0.80269,     0.80215,     0.80166,\n",
      "            0.80145,     0.80077,     0.80062,     0.80062,     0.79737,     0.79665,     0.79647,     0.79604,      0.7953,     0.79439,     0.79423,     0.79335,     0.79308,     0.79262,     0.79232,     0.79167,     0.78992,     0.78798,      0.7867,     0.78609,     0.78496,     0.78297,     0.78297,\n",
      "            0.78297,     0.78193,     0.78089,      0.7788,     0.77686,     0.77645,      0.7757,     0.77466,     0.77433,     0.77236,     0.77012,     0.76947,     0.76768,     0.76636,     0.76532,     0.76428,     0.76428,     0.76428,     0.76428,     0.76417,     0.76367,     0.76324,     0.76324,\n",
      "             0.7616,     0.76098,     0.76071,     0.76044,     0.76017,     0.75973,     0.75925,     0.75909,     0.75909,     0.75909,     0.75701,     0.75389,     0.75389,     0.75376,     0.75254,     0.75111,     0.74951,     0.74923,     0.74895,     0.74863,     0.74804,     0.74766,     0.74663,\n",
      "            0.74663,     0.74663,     0.74663,      0.7465,     0.74617,     0.74584,     0.74559,     0.74509,     0.74238,     0.74167,     0.74003,     0.73935,     0.73831,      0.7377,     0.73728,      0.7352,     0.73468,     0.73287,     0.73134,     0.73059,     0.72975,     0.72869,     0.72837,\n",
      "            0.72804,     0.72503,      0.7217,      0.7217,     0.72096,     0.71739,     0.71682,     0.71547,     0.71547,     0.71443,     0.71231,     0.71184,     0.71137,     0.70886,     0.70796,     0.70761,     0.70727,     0.70585,     0.70525,     0.70255,     0.70115,     0.70056,     0.70016,\n",
      "            0.69964,      0.6989,      0.6981,     0.69782,     0.69634,     0.69566,     0.69449,     0.69412,     0.69375,     0.69113,      0.6889,     0.68779,     0.68624,     0.68506,     0.68328,     0.68224,     0.68168,     0.67996,     0.67936,     0.67861,     0.67697,     0.67497,      0.6724,\n",
      "             0.6713,     0.66667,     0.66601,     0.66251,     0.66025,     0.65927,     0.65686,     0.65332,     0.64872,     0.64525,     0.63967,     0.63867,     0.63759,     0.63759,     0.63759,     0.63425,     0.63178,     0.63087,     0.62928,     0.62928,     0.62928,     0.62846,      0.6256,\n",
      "            0.62397,      0.6229,     0.62145,     0.61948,     0.61803,     0.61513,     0.61284,     0.61163,     0.61102,      0.6097,     0.60782,     0.60626,      0.6054,     0.60332,     0.60213,     0.60167,     0.60004,     0.59871,     0.59671,     0.59502,     0.59426,     0.59073,     0.59033,\n",
      "            0.58993,      0.5875,      0.5845,     0.58305,     0.57968,     0.57863,     0.57528,     0.57187,      0.5702,     0.56833,     0.56677,     0.56594,     0.56429,     0.56316,     0.56148,     0.55945,     0.55763,     0.55705,     0.55659,     0.55659,     0.55578,     0.55486,     0.55322,\n",
      "            0.55121,     0.54893,     0.54561,     0.54413,     0.54393,     0.54366,      0.5434,     0.54313,     0.54242,     0.54079,     0.53747,     0.53237,     0.53167,     0.52913,     0.52789,     0.52594,      0.5244,     0.52327,     0.52187,     0.51821,     0.51544,     0.51262,     0.50957,\n",
      "             0.5071,     0.50604,     0.50481,     0.50363,      0.5026,     0.50047,     0.49991,     0.49907,     0.49584,     0.49368,     0.49195,     0.48958,     0.48668,     0.48253,     0.47975,     0.47664,     0.47411,     0.47321,     0.46946,     0.46856,     0.46591,     0.46472,     0.46191,\n",
      "            0.45769,     0.45693,     0.45556,     0.45493,      0.4535,     0.44913,     0.44676,     0.44561,       0.438,      0.4357,     0.43415,     0.43111,     0.42654,     0.42575,     0.42237,     0.42024,     0.41904,     0.41721,     0.41266,     0.41089,     0.40773,     0.40664,     0.40187,\n",
      "            0.39935,     0.39596,     0.39497,     0.39312,     0.39162,     0.38718,     0.38618,     0.38462,     0.38214,       0.381,     0.38009,     0.37797,      0.3743,     0.37098,     0.36811,     0.36668,     0.36563,     0.36307,     0.36095,     0.35601,     0.35401,     0.35098,     0.35036,\n",
      "             0.3469,     0.34476,     0.34225,     0.33792,     0.33643,     0.33506,     0.33168,     0.32399,     0.32026,     0.31803,     0.31503,      0.3136,     0.31211,     0.31158,     0.30753,      0.3049,     0.30309,     0.29789,     0.29541,      0.2933,     0.29076,     0.28769,     0.28598,\n",
      "            0.28332,     0.28069,     0.27716,     0.27254,     0.27025,     0.26671,     0.26221,     0.25909,     0.25686,     0.25435,     0.25266,     0.24979,     0.24839,       0.245,     0.24404,     0.24326,     0.24139,     0.24041,     0.23845,      0.2346,     0.23141,     0.22907,     0.22726,\n",
      "            0.22491,     0.22315,     0.21958,     0.21716,      0.2139,     0.21046,     0.20569,     0.20182,     0.19938,     0.19839,      0.1946,     0.18977,     0.18909,     0.18694,     0.18493,     0.18303,     0.18067,      0.1779,     0.17583,     0.17017,     0.16955,     0.16672,      0.1647,\n",
      "            0.16363,     0.16221,     0.15915,     0.15748,     0.15584,     0.15193,     0.14882,      0.1463,      0.1442,     0.14276,     0.13835,     0.13682,     0.13566,     0.13476,     0.13345,     0.13228,     0.12949,     0.12712,     0.12353,     0.12172,     0.12098,     0.12042,      0.1189,\n",
      "            0.11652,     0.11564,     0.11387,     0.11283,     0.11227,     0.10886,      0.1058,     0.10373,     0.10198,     0.09977,    0.096599,    0.092047,     0.09096,    0.089488,    0.087599,    0.084977,    0.082882,    0.082488,    0.082094,    0.080997,    0.080997,    0.080997,    0.078846,\n",
      "           0.077635,    0.076711,     0.07604,    0.075336,    0.074713,     0.07446,    0.074208,    0.073955,    0.073548,    0.071139,    0.069508,     0.06928,    0.069052,    0.068825,    0.068597,    0.067497,    0.067376,    0.067062,    0.066749,    0.066423,    0.065952,    0.065481,    0.064589,\n",
      "           0.063578,    0.061171,    0.060456,    0.059274,    0.057693,    0.056877,    0.055209,     0.05442,     0.05354,    0.051776,    0.051476,    0.051176,    0.050867,    0.050096,    0.045865,    0.044988,    0.044079,    0.041751,    0.040318,    0.040029,     0.03974,    0.039451,    0.039147,\n",
      "           0.038842,    0.038537,    0.038081,    0.037531,    0.036102,    0.035306,    0.035306,    0.035306,    0.035021,    0.034089,    0.033374,    0.032487,    0.030889,     0.03008,     0.02948,    0.028407,    0.027629,    0.027131,    0.026577,    0.026003,    0.025381,    0.024752,    0.024114,\n",
      "           0.023391,    0.022189,    0.021488,    0.021103,    0.020683,     0.02003,    0.019397,    0.018781,     0.01809,    0.017102,    0.016142,    0.015338,    0.011086,   0.0092584,   0.0091361,   0.0090138,   0.0088914,   0.0087691,   0.0086467,   0.0085244,   0.0084021,   0.0081687,    0.007555,\n",
      "          0.0071578,   0.0069495,   0.0067413,   0.0065331,   0.0063248,   0.0057967,   0.0044576,   0.0040941,    0.004028,   0.0039619,   0.0038959,   0.0038298,   0.0037637,   0.0036976,   0.0036315,   0.0035654,   0.0034994,   0.0034333,   0.0033672,   0.0033011,    0.003235,    0.003169,   0.0030814,\n",
      "          0.0029007,     0.00272,   0.0025392,   0.0023585,   0.0021778,   0.0020553,   0.0020065,   0.0019577,   0.0019089,   0.0018601,   0.0018113,   0.0017625,   0.0017137,   0.0016649,   0.0016161,   0.0015673,   0.0015185,   0.0014697,   0.0014209,   0.0013721,   0.0013233,   0.0012745,   0.0012256,\n",
      "          0.0011768,    0.001128,   0.0010792,  0.00093164,  0.00027929,           0,           0,           0,           0,           0,           0,           0,           0,           0,           0,           0,           0,           0,           0,           0,           0,           0,           0,\n",
      "                  0,           0,           0,           0,           0,           0,           0,           0,           0,           0,           0,           0,           0,           0,           0,           0,           0,           0,           0,           0,           0,           0,           0,\n",
      "                  0,           0,           0,           0,           0,           0,           0,           0,           0,           0,           0,           0,           0,           0,           0,           0,           0,           0,           0,           0,           0,           0,           0,\n",
      "                  0,           0,           0,           0,           0,           0,           0,           0,           0,           0,           0,           0,           0,           0,           0,           0,           0,           0,           0,           0,           0,           0,           0,\n",
      "                  0,           0,           0,           0,           0,           0,           0,           0,           0,           0,           0]]), 'Confidence', 'Recall']]\n",
      "fitness: 0.5190874239369635\n",
      "keys: ['metrics/precision(B)', 'metrics/recall(B)', 'metrics/mAP50(B)', 'metrics/mAP50-95(B)']\n",
      "maps: array([    0.48065])\n",
      "names: {0: 'Pulmonary nodules'}\n",
      "plot: True\n",
      "results_dict: {'metrics/precision(B)': 0.8181418270802453, 'metrics/recall(B)': 0.8268807211902699, 'metrics/mAP50(B)': 0.8650333943779026, 'metrics/mAP50-95(B)': 0.48064898277685913, 'fitness': 0.5190874239369635}\n",
      "save_dir: WindowsPath('runs/detect/train1315')\n",
      "speed: {'preprocess': 0.5980718915707598, 'inference': 13.404849162354276, 'loss': 0.0, 'postprocess': 2.2233406455098406}\n",
      "task: 'detect'\n",
      "Test Results: ultralytics.utils.metrics.DetMetrics object with attributes:\n",
      "\n",
      "ap_class_index: array([0])\n",
      "box: ultralytics.utils.metrics.Metric object\n",
      "confusion_matrix: <ultralytics.utils.metrics.ConfusionMatrix object at 0x000001FB81A406B0>\n",
      "curves: ['Precision-Recall(B)', 'F1-Confidence(B)', 'Precision-Confidence(B)', 'Recall-Confidence(B)']\n",
      "curves_results: [[array([          0,    0.001001,    0.002002,    0.003003,    0.004004,    0.005005,    0.006006,    0.007007,    0.008008,    0.009009,     0.01001,    0.011011,    0.012012,    0.013013,    0.014014,    0.015015,    0.016016,    0.017017,    0.018018,    0.019019,     0.02002,    0.021021,    0.022022,    0.023023,\n",
      "          0.024024,    0.025025,    0.026026,    0.027027,    0.028028,    0.029029,     0.03003,    0.031031,    0.032032,    0.033033,    0.034034,    0.035035,    0.036036,    0.037037,    0.038038,    0.039039,     0.04004,    0.041041,    0.042042,    0.043043,    0.044044,    0.045045,    0.046046,    0.047047,\n",
      "          0.048048,    0.049049,     0.05005,    0.051051,    0.052052,    0.053053,    0.054054,    0.055055,    0.056056,    0.057057,    0.058058,    0.059059,     0.06006,    0.061061,    0.062062,    0.063063,    0.064064,    0.065065,    0.066066,    0.067067,    0.068068,    0.069069,     0.07007,    0.071071,\n",
      "          0.072072,    0.073073,    0.074074,    0.075075,    0.076076,    0.077077,    0.078078,    0.079079,     0.08008,    0.081081,    0.082082,    0.083083,    0.084084,    0.085085,    0.086086,    0.087087,    0.088088,    0.089089,     0.09009,    0.091091,    0.092092,    0.093093,    0.094094,    0.095095,\n",
      "          0.096096,    0.097097,    0.098098,    0.099099,      0.1001,      0.1011,      0.1021,      0.1031,      0.1041,     0.10511,     0.10611,     0.10711,     0.10811,     0.10911,     0.11011,     0.11111,     0.11211,     0.11311,     0.11411,     0.11512,     0.11612,     0.11712,     0.11812,     0.11912,\n",
      "           0.12012,     0.12112,     0.12212,     0.12312,     0.12412,     0.12513,     0.12613,     0.12713,     0.12813,     0.12913,     0.13013,     0.13113,     0.13213,     0.13313,     0.13413,     0.13514,     0.13614,     0.13714,     0.13814,     0.13914,     0.14014,     0.14114,     0.14214,     0.14314,\n",
      "           0.14414,     0.14515,     0.14615,     0.14715,     0.14815,     0.14915,     0.15015,     0.15115,     0.15215,     0.15315,     0.15415,     0.15516,     0.15616,     0.15716,     0.15816,     0.15916,     0.16016,     0.16116,     0.16216,     0.16316,     0.16416,     0.16517,     0.16617,     0.16717,\n",
      "           0.16817,     0.16917,     0.17017,     0.17117,     0.17217,     0.17317,     0.17417,     0.17518,     0.17618,     0.17718,     0.17818,     0.17918,     0.18018,     0.18118,     0.18218,     0.18318,     0.18418,     0.18519,     0.18619,     0.18719,     0.18819,     0.18919,     0.19019,     0.19119,\n",
      "           0.19219,     0.19319,     0.19419,      0.1952,      0.1962,      0.1972,      0.1982,      0.1992,      0.2002,      0.2012,      0.2022,      0.2032,      0.2042,     0.20521,     0.20621,     0.20721,     0.20821,     0.20921,     0.21021,     0.21121,     0.21221,     0.21321,     0.21421,     0.21522,\n",
      "           0.21622,     0.21722,     0.21822,     0.21922,     0.22022,     0.22122,     0.22222,     0.22322,     0.22422,     0.22523,     0.22623,     0.22723,     0.22823,     0.22923,     0.23023,     0.23123,     0.23223,     0.23323,     0.23423,     0.23524,     0.23624,     0.23724,     0.23824,     0.23924,\n",
      "           0.24024,     0.24124,     0.24224,     0.24324,     0.24424,     0.24525,     0.24625,     0.24725,     0.24825,     0.24925,     0.25025,     0.25125,     0.25225,     0.25325,     0.25425,     0.25526,     0.25626,     0.25726,     0.25826,     0.25926,     0.26026,     0.26126,     0.26226,     0.26326,\n",
      "           0.26426,     0.26527,     0.26627,     0.26727,     0.26827,     0.26927,     0.27027,     0.27127,     0.27227,     0.27327,     0.27427,     0.27528,     0.27628,     0.27728,     0.27828,     0.27928,     0.28028,     0.28128,     0.28228,     0.28328,     0.28428,     0.28529,     0.28629,     0.28729,\n",
      "           0.28829,     0.28929,     0.29029,     0.29129,     0.29229,     0.29329,     0.29429,      0.2953,      0.2963,      0.2973,      0.2983,      0.2993,      0.3003,      0.3013,      0.3023,      0.3033,      0.3043,     0.30531,     0.30631,     0.30731,     0.30831,     0.30931,     0.31031,     0.31131,\n",
      "           0.31231,     0.31331,     0.31431,     0.31532,     0.31632,     0.31732,     0.31832,     0.31932,     0.32032,     0.32132,     0.32232,     0.32332,     0.32432,     0.32533,     0.32633,     0.32733,     0.32833,     0.32933,     0.33033,     0.33133,     0.33233,     0.33333,     0.33433,     0.33534,\n",
      "           0.33634,     0.33734,     0.33834,     0.33934,     0.34034,     0.34134,     0.34234,     0.34334,     0.34434,     0.34535,     0.34635,     0.34735,     0.34835,     0.34935,     0.35035,     0.35135,     0.35235,     0.35335,     0.35435,     0.35536,     0.35636,     0.35736,     0.35836,     0.35936,\n",
      "           0.36036,     0.36136,     0.36236,     0.36336,     0.36436,     0.36537,     0.36637,     0.36737,     0.36837,     0.36937,     0.37037,     0.37137,     0.37237,     0.37337,     0.37437,     0.37538,     0.37638,     0.37738,     0.37838,     0.37938,     0.38038,     0.38138,     0.38238,     0.38338,\n",
      "           0.38438,     0.38539,     0.38639,     0.38739,     0.38839,     0.38939,     0.39039,     0.39139,     0.39239,     0.39339,     0.39439,      0.3954,      0.3964,      0.3974,      0.3984,      0.3994,      0.4004,      0.4014,      0.4024,      0.4034,      0.4044,     0.40541,     0.40641,     0.40741,\n",
      "           0.40841,     0.40941,     0.41041,     0.41141,     0.41241,     0.41341,     0.41441,     0.41542,     0.41642,     0.41742,     0.41842,     0.41942,     0.42042,     0.42142,     0.42242,     0.42342,     0.42442,     0.42543,     0.42643,     0.42743,     0.42843,     0.42943,     0.43043,     0.43143,\n",
      "           0.43243,     0.43343,     0.43443,     0.43544,     0.43644,     0.43744,     0.43844,     0.43944,     0.44044,     0.44144,     0.44244,     0.44344,     0.44444,     0.44545,     0.44645,     0.44745,     0.44845,     0.44945,     0.45045,     0.45145,     0.45245,     0.45345,     0.45445,     0.45546,\n",
      "           0.45646,     0.45746,     0.45846,     0.45946,     0.46046,     0.46146,     0.46246,     0.46346,     0.46446,     0.46547,     0.46647,     0.46747,     0.46847,     0.46947,     0.47047,     0.47147,     0.47247,     0.47347,     0.47447,     0.47548,     0.47648,     0.47748,     0.47848,     0.47948,\n",
      "           0.48048,     0.48148,     0.48248,     0.48348,     0.48448,     0.48549,     0.48649,     0.48749,     0.48849,     0.48949,     0.49049,     0.49149,     0.49249,     0.49349,     0.49449,      0.4955,      0.4965,      0.4975,      0.4985,      0.4995,      0.5005,      0.5015,      0.5025,      0.5035,\n",
      "            0.5045,     0.50551,     0.50651,     0.50751,     0.50851,     0.50951,     0.51051,     0.51151,     0.51251,     0.51351,     0.51451,     0.51552,     0.51652,     0.51752,     0.51852,     0.51952,     0.52052,     0.52152,     0.52252,     0.52352,     0.52452,     0.52553,     0.52653,     0.52753,\n",
      "           0.52853,     0.52953,     0.53053,     0.53153,     0.53253,     0.53353,     0.53453,     0.53554,     0.53654,     0.53754,     0.53854,     0.53954,     0.54054,     0.54154,     0.54254,     0.54354,     0.54454,     0.54555,     0.54655,     0.54755,     0.54855,     0.54955,     0.55055,     0.55155,\n",
      "           0.55255,     0.55355,     0.55455,     0.55556,     0.55656,     0.55756,     0.55856,     0.55956,     0.56056,     0.56156,     0.56256,     0.56356,     0.56456,     0.56557,     0.56657,     0.56757,     0.56857,     0.56957,     0.57057,     0.57157,     0.57257,     0.57357,     0.57457,     0.57558,\n",
      "           0.57658,     0.57758,     0.57858,     0.57958,     0.58058,     0.58158,     0.58258,     0.58358,     0.58458,     0.58559,     0.58659,     0.58759,     0.58859,     0.58959,     0.59059,     0.59159,     0.59259,     0.59359,     0.59459,      0.5956,      0.5966,      0.5976,      0.5986,      0.5996,\n",
      "            0.6006,      0.6016,      0.6026,      0.6036,      0.6046,     0.60561,     0.60661,     0.60761,     0.60861,     0.60961,     0.61061,     0.61161,     0.61261,     0.61361,     0.61461,     0.61562,     0.61662,     0.61762,     0.61862,     0.61962,     0.62062,     0.62162,     0.62262,     0.62362,\n",
      "           0.62462,     0.62563,     0.62663,     0.62763,     0.62863,     0.62963,     0.63063,     0.63163,     0.63263,     0.63363,     0.63463,     0.63564,     0.63664,     0.63764,     0.63864,     0.63964,     0.64064,     0.64164,     0.64264,     0.64364,     0.64464,     0.64565,     0.64665,     0.64765,\n",
      "           0.64865,     0.64965,     0.65065,     0.65165,     0.65265,     0.65365,     0.65465,     0.65566,     0.65666,     0.65766,     0.65866,     0.65966,     0.66066,     0.66166,     0.66266,     0.66366,     0.66466,     0.66567,     0.66667,     0.66767,     0.66867,     0.66967,     0.67067,     0.67167,\n",
      "           0.67267,     0.67367,     0.67467,     0.67568,     0.67668,     0.67768,     0.67868,     0.67968,     0.68068,     0.68168,     0.68268,     0.68368,     0.68468,     0.68569,     0.68669,     0.68769,     0.68869,     0.68969,     0.69069,     0.69169,     0.69269,     0.69369,     0.69469,      0.6957,\n",
      "            0.6967,      0.6977,      0.6987,      0.6997,      0.7007,      0.7017,      0.7027,      0.7037,      0.7047,     0.70571,     0.70671,     0.70771,     0.70871,     0.70971,     0.71071,     0.71171,     0.71271,     0.71371,     0.71471,     0.71572,     0.71672,     0.71772,     0.71872,     0.71972,\n",
      "           0.72072,     0.72172,     0.72272,     0.72372,     0.72472,     0.72573,     0.72673,     0.72773,     0.72873,     0.72973,     0.73073,     0.73173,     0.73273,     0.73373,     0.73473,     0.73574,     0.73674,     0.73774,     0.73874,     0.73974,     0.74074,     0.74174,     0.74274,     0.74374,\n",
      "           0.74474,     0.74575,     0.74675,     0.74775,     0.74875,     0.74975,     0.75075,     0.75175,     0.75275,     0.75375,     0.75475,     0.75576,     0.75676,     0.75776,     0.75876,     0.75976,     0.76076,     0.76176,     0.76276,     0.76376,     0.76476,     0.76577,     0.76677,     0.76777,\n",
      "           0.76877,     0.76977,     0.77077,     0.77177,     0.77277,     0.77377,     0.77477,     0.77578,     0.77678,     0.77778,     0.77878,     0.77978,     0.78078,     0.78178,     0.78278,     0.78378,     0.78478,     0.78579,     0.78679,     0.78779,     0.78879,     0.78979,     0.79079,     0.79179,\n",
      "           0.79279,     0.79379,     0.79479,      0.7958,      0.7968,      0.7978,      0.7988,      0.7998,      0.8008,      0.8018,      0.8028,      0.8038,      0.8048,     0.80581,     0.80681,     0.80781,     0.80881,     0.80981,     0.81081,     0.81181,     0.81281,     0.81381,     0.81481,     0.81582,\n",
      "           0.81682,     0.81782,     0.81882,     0.81982,     0.82082,     0.82182,     0.82282,     0.82382,     0.82482,     0.82583,     0.82683,     0.82783,     0.82883,     0.82983,     0.83083,     0.83183,     0.83283,     0.83383,     0.83483,     0.83584,     0.83684,     0.83784,     0.83884,     0.83984,\n",
      "           0.84084,     0.84184,     0.84284,     0.84384,     0.84484,     0.84585,     0.84685,     0.84785,     0.84885,     0.84985,     0.85085,     0.85185,     0.85285,     0.85385,     0.85485,     0.85586,     0.85686,     0.85786,     0.85886,     0.85986,     0.86086,     0.86186,     0.86286,     0.86386,\n",
      "           0.86486,     0.86587,     0.86687,     0.86787,     0.86887,     0.86987,     0.87087,     0.87187,     0.87287,     0.87387,     0.87487,     0.87588,     0.87688,     0.87788,     0.87888,     0.87988,     0.88088,     0.88188,     0.88288,     0.88388,     0.88488,     0.88589,     0.88689,     0.88789,\n",
      "           0.88889,     0.88989,     0.89089,     0.89189,     0.89289,     0.89389,     0.89489,      0.8959,      0.8969,      0.8979,      0.8989,      0.8999,      0.9009,      0.9019,      0.9029,      0.9039,      0.9049,     0.90591,     0.90691,     0.90791,     0.90891,     0.90991,     0.91091,     0.91191,\n",
      "           0.91291,     0.91391,     0.91491,     0.91592,     0.91692,     0.91792,     0.91892,     0.91992,     0.92092,     0.92192,     0.92292,     0.92392,     0.92492,     0.92593,     0.92693,     0.92793,     0.92893,     0.92993,     0.93093,     0.93193,     0.93293,     0.93393,     0.93493,     0.93594,\n",
      "           0.93694,     0.93794,     0.93894,     0.93994,     0.94094,     0.94194,     0.94294,     0.94394,     0.94494,     0.94595,     0.94695,     0.94795,     0.94895,     0.94995,     0.95095,     0.95195,     0.95295,     0.95395,     0.95495,     0.95596,     0.95696,     0.95796,     0.95896,     0.95996,\n",
      "           0.96096,     0.96196,     0.96296,     0.96396,     0.96496,     0.96597,     0.96697,     0.96797,     0.96897,     0.96997,     0.97097,     0.97197,     0.97297,     0.97397,     0.97497,     0.97598,     0.97698,     0.97798,     0.97898,     0.97998,     0.98098,     0.98198,     0.98298,     0.98398,\n",
      "           0.98498,     0.98599,     0.98699,     0.98799,     0.98899,     0.98999,     0.99099,     0.99199,     0.99299,     0.99399,     0.99499,       0.996,       0.997,       0.998,       0.999,           1]), array([[          1,           1,           1,           1,           1,           1,           1,           1,           1,           1,           1,           1,           1,           1,           1,           1,           1,           1,           1,           1,           1,           1,           1,\n",
      "                  1,           1,           1,           1,           1,           1,           1,           1,           1,           1,           1,           1,           1,           1,           1,           1,           1,           1,           1,           1,           1,           1,           1,\n",
      "                  1,           1,           1,           1,           1,           1,           1,           1,           1,           1,           1,           1,           1,           1,           1,           1,           1,           1,           1,           1,           1,           1,           1,\n",
      "                  1,           1,           1,           1,           1,           1,           1,           1,           1,           1,           1,           1,           1,           1,           1,           1,           1,           1,           1,           1,           1,           1,           1,\n",
      "                  1,           1,           1,           1,      0.9375,      0.9375,      0.9375,      0.9375,      0.9375,      0.9375,      0.9375,      0.9375,      0.9375,      0.9375,      0.9375,      0.9375,      0.9375,      0.9375,      0.9375,      0.9375,      0.9375,      0.9375,      0.9375,\n",
      "             0.9375,      0.9375,      0.9375,      0.9375,      0.9375,      0.9375,      0.9375,      0.9375,      0.9375,      0.9375,      0.9375,      0.9375,      0.9375,      0.9375,      0.9375,      0.9375,      0.9375,      0.9375,      0.9375,      0.9375,      0.9375,      0.9375,      0.9375,\n",
      "             0.9375,      0.9375,      0.9375,      0.9375,      0.9375,     0.92308,     0.92308,     0.92308,     0.92308,     0.92308,     0.92308,     0.92308,     0.92308,     0.92308,     0.92308,     0.92308,     0.92308,     0.92308,     0.92308,     0.92308,     0.92308,     0.92308,     0.92308,\n",
      "            0.92308,     0.92308,     0.92308,     0.92308,     0.92308,     0.92308,     0.92308,     0.92308,     0.92308,     0.92308,     0.92308,     0.92308,     0.92308,     0.92308,     0.92308,     0.92308,     0.92308,     0.92308,     0.92308,     0.92308,     0.92308,     0.92308,     0.92308,\n",
      "            0.92308,     0.92308,     0.92308,     0.92308,     0.92308,     0.92308,     0.92308,     0.92308,     0.92308,     0.92308,     0.92308,     0.92308,     0.92308,     0.92308,     0.92308,     0.92308,     0.92308,     0.92308,     0.92308,     0.92308,     0.92308,     0.92308,     0.92308,\n",
      "            0.92308,     0.92308,     0.92308,     0.92308,     0.92308,     0.92308,     0.92308,     0.92308,     0.92308,     0.92308,     0.92308,     0.92308,     0.92308,     0.92308,     0.92308,     0.92308,     0.92308,     0.92308,     0.92308,     0.92308,     0.92308,     0.92308,     0.90909,\n",
      "            0.90909,     0.90909,     0.90909,     0.90909,     0.90909,     0.90909,     0.90909,     0.90909,     0.90909,     0.90909,     0.90909,     0.90909,     0.90909,     0.90909,     0.90909,     0.90909,     0.90909,     0.90909,     0.90909,     0.90909,     0.90909,     0.90909,     0.90909,\n",
      "            0.90909,     0.90909,     0.90909,     0.90909,     0.90909,     0.90909,     0.90909,     0.90909,     0.90909,     0.90909,     0.90909,     0.90909,     0.90909,     0.90909,     0.90909,     0.90909,     0.90909,     0.90909,     0.90909,     0.90909,     0.90909,     0.90909,     0.90909,\n",
      "            0.90909,     0.90909,     0.90909,     0.90909,     0.90909,     0.90909,     0.90909,     0.90909,     0.90909,     0.90909,     0.90909,     0.90909,     0.90909,     0.90909,     0.90909,     0.90909,     0.90909,     0.90909,     0.90909,     0.90909,     0.90909,     0.90909,     0.90909,\n",
      "            0.90909,     0.90909,     0.90909,     0.90909,     0.90909,     0.90909,     0.90909,     0.90909,     0.90909,     0.90909,     0.90909,     0.90909,     0.90909,     0.90909,     0.90909,     0.90909,     0.90909,     0.90909,     0.90909,     0.90909,     0.90909,     0.90909,     0.90909,\n",
      "            0.90909,     0.90909,     0.90909,     0.90909,     0.90909,     0.90909,     0.90909,     0.90909,     0.90909,     0.90909,     0.90909,     0.90909,     0.90909,     0.90909,     0.90909,     0.90909,     0.90909,     0.90909,     0.90909,     0.90909,     0.90909,     0.90909,     0.90909,\n",
      "            0.90909,     0.90909,     0.90909,     0.90909,     0.90909,     0.90909,     0.90909,     0.90909,     0.90909,     0.90909,     0.90909,     0.90909,     0.90909,     0.90909,     0.90909,     0.90909,     0.90909,     0.90909,     0.90909,     0.90909,     0.90909,     0.90909,     0.90909,\n",
      "            0.90909,     0.90909,     0.90909,     0.90909,     0.90909,     0.90909,     0.90909,     0.90909,     0.90909,     0.90909,     0.90909,     0.90909,     0.90909,     0.90909,     0.90909,     0.90909,     0.90909,     0.90909,     0.90909,     0.90909,     0.90909,     0.90909,     0.90909,\n",
      "            0.90909,     0.90909,     0.90909,     0.90909,     0.90909,     0.90909,     0.90909,     0.90909,     0.90909,     0.90909,     0.90909,     0.90909,     0.90909,     0.90909,     0.90909,     0.90909,     0.90909,     0.90909,     0.90909,     0.90909,     0.90909,     0.90909,     0.90909,\n",
      "            0.90909,     0.90909,     0.90909,     0.90909,     0.90909,     0.90909,     0.90909,     0.90909,     0.90909,     0.90909,     0.90909,     0.90909,     0.90909,     0.90909,     0.90909,     0.90909,     0.90909,     0.90909,     0.90909,     0.90909,     0.90909,     0.90909,     0.90909,\n",
      "            0.90909,     0.90909,     0.90909,     0.90909,     0.90909,     0.90909,     0.90909,     0.90909,     0.90909,     0.90909,     0.90909,     0.90909,     0.90909,     0.90909,     0.90909,     0.90909,     0.90909,     0.90909,     0.90909,     0.90909,     0.90909,     0.90909,     0.90909,\n",
      "            0.90909,     0.90909,     0.90909,     0.90909,     0.90909,     0.90909,     0.90909,     0.90909,     0.90909,     0.90909,     0.90909,     0.90909,     0.90909,     0.90909,     0.90909,     0.90909,     0.90323,     0.90323,     0.90323,     0.90323,     0.90323,     0.90323,     0.90323,\n",
      "            0.90323,     0.90323,     0.90323,     0.90323,     0.90323,     0.90323,     0.90323,     0.90323,     0.90323,     0.90323,     0.90323,     0.90323,     0.90323,     0.90323,     0.90323,     0.90323,     0.90323,     0.90323,     0.90323,     0.90323,     0.90323,     0.90323,     0.90323,\n",
      "            0.90323,     0.90323,     0.90323,     0.90323,     0.90323,     0.90323,     0.90323,     0.90323,     0.90323,     0.90323,     0.90323,     0.90323,     0.90323,     0.90323,     0.90323,     0.90323,     0.90323,     0.90323,     0.90323,     0.90323,     0.90323,     0.90323,     0.90323,\n",
      "            0.90323,     0.90323,     0.90323,     0.90323,     0.90141,     0.90141,     0.90141,     0.90141,     0.90141,     0.90141,     0.90141,     0.90141,     0.90141,     0.90141,     0.90141,     0.90141,     0.90141,     0.90141,     0.90141,     0.90141,     0.90141,     0.90141,     0.90141,\n",
      "            0.90141,     0.90141,     0.90141,     0.90141,     0.90141,     0.90141,     0.90141,     0.90141,     0.90141,     0.90141,     0.90141,     0.90141,     0.90141,     0.90141,     0.90141,     0.90141,     0.90141,     0.90141,     0.90141,     0.90141,     0.90141,     0.90141,     0.90141,\n",
      "            0.90141,     0.90141,     0.90141,     0.90141,     0.90141,     0.90141,     0.90141,     0.90141,     0.90141,     0.90141,     0.90141,     0.90141,     0.90141,     0.90141,     0.90141,     0.90141,     0.90141,     0.90141,     0.90141,     0.90141,     0.90141,     0.90141,     0.90141,\n",
      "            0.90141,     0.90141,     0.90141,     0.90141,     0.90141,     0.90141,     0.90141,     0.90141,     0.90141,     0.90141,     0.90141,     0.89474,     0.89474,     0.89474,     0.89474,     0.89474,     0.89474,     0.89474,     0.89474,     0.89474,     0.89474,     0.89474,     0.89474,\n",
      "            0.89474,     0.89474,     0.89474,     0.89474,     0.89474,     0.89474,     0.89474,     0.89474,     0.89474,     0.89474,     0.89474,     0.89474,     0.89474,     0.89474,     0.89474,     0.89474,     0.89474,     0.89474,     0.89474,     0.89474,     0.89474,     0.89474,     0.89474,\n",
      "            0.89474,     0.89474,     0.89474,     0.87342,     0.87342,     0.87342,     0.87342,     0.87342,     0.87342,     0.87342,     0.87342,     0.87342,     0.87342,      0.8642,      0.8642,      0.8642,      0.8642,      0.8642,      0.8642,      0.8642,      0.8642,      0.8642,     0.84524,\n",
      "            0.84524,     0.84524,     0.84524,     0.84524,     0.84524,     0.84524,     0.84524,     0.84524,     0.84524,     0.84444,     0.84444,     0.84444,     0.84444,     0.84444,     0.84444,     0.84444,     0.84444,     0.84444,     0.84444,     0.84444,     0.84444,     0.84444,     0.84444,\n",
      "            0.84444,     0.84444,     0.84444,     0.84444,     0.84444,     0.84444,     0.84444,     0.84444,     0.84444,     0.84444,     0.84444,     0.84444,     0.84444,     0.84444,     0.84444,     0.84444,     0.84444,     0.84444,     0.84444,     0.84444,     0.84444,     0.84444,     0.84444,\n",
      "            0.84444,     0.84444,     0.84444,     0.84444,     0.84444,     0.84444,     0.84444,     0.84444,     0.84444,     0.84444,     0.84444,     0.83871,     0.83871,     0.83871,     0.83871,     0.83871,     0.83871,     0.83871,     0.83871,     0.83871,     0.83871,     0.83871,     0.83871,\n",
      "            0.83871,     0.83871,     0.83871,     0.83871,     0.83871,     0.83871,     0.83871,     0.82292,     0.82292,     0.82292,     0.82292,     0.82292,     0.82292,     0.82292,     0.82292,     0.82292,     0.77143,     0.77143,     0.77143,     0.77143,     0.77143,     0.77143,     0.77143,\n",
      "            0.77143,     0.77143,     0.77143,     0.77143,     0.77143,     0.77143,     0.77143,     0.77143,     0.77143,     0.77143,     0.77143,     0.77143,     0.75926,     0.75926,     0.75926,     0.75926,     0.75926,     0.75926,     0.75926,     0.75926,     0.75926,     0.75926,        0.75,\n",
      "               0.75,        0.75,        0.75,        0.75,        0.75,        0.75,        0.75,        0.75,        0.75,        0.75,        0.75,        0.75,        0.75,        0.75,        0.75,        0.75,        0.75,        0.75,      0.7265,      0.7265,      0.7265,      0.7265,      0.7265,\n",
      "             0.7265,      0.7265,      0.7265,      0.7265,     0.70492,     0.70492,     0.70492,     0.70492,     0.70492,     0.70492,     0.70492,     0.70492,     0.70492,     0.70492,     0.66923,     0.66923,     0.66923,     0.66923,     0.66923,     0.66923,     0.66923,     0.66923,     0.66923,\n",
      "            0.60959,     0.60959,     0.60959,     0.60959,     0.60959,     0.60959,     0.60959,     0.60959,     0.60959,     0.60959,     0.60959,     0.60959,     0.60959,     0.60959,     0.60959,     0.60959,     0.60959,     0.60959,     0.60959,     0.56962,     0.56962,     0.56962,     0.56962,\n",
      "            0.56962,     0.56962,     0.56962,     0.56962,     0.56962,     0.56962,     0.45729,     0.45729,     0.45729,     0.45729,     0.45729,     0.45729,     0.45729,     0.45729,     0.45729,         0.4,         0.4,         0.4,         0.4,         0.4,         0.4,         0.4,         0.4,\n",
      "                0.4,         0.4,     0.32069,     0.32069,     0.32069,     0.32069,     0.32069,     0.32069,     0.32069,     0.32069,     0.32069,     0.30744,     0.30744,     0.30744,     0.30744,     0.30744,     0.30744,     0.30744,     0.30744,     0.30744,     0.30744,     0.30744,     0.30744,\n",
      "            0.30744,     0.30744,     0.30744,     0.30744,     0.30744,     0.30744,     0.30744,      0.3038,      0.3038,      0.3038,      0.3038,      0.3038,      0.3038,      0.3038,      0.3038,      0.3038,      0.3038,     0.30218,     0.30218,     0.30218,     0.30218,     0.30218,     0.30218,\n",
      "            0.30218,     0.30218,     0.30218,     0.30061,     0.30061,     0.30061,     0.30061,     0.30061,     0.30061,     0.30061,     0.30061,     0.30061,     0.30061,     0.26829,     0.26829,     0.26829,     0.26829,     0.26829,     0.26829,     0.26829,     0.26829,     0.26829,     0.23529,\n",
      "            0.23529,     0.23529,     0.23529,     0.23529,     0.23529,     0.23529,     0.23529,     0.23529,     0.23529,     0.23434,     0.23434,     0.23434,     0.23434,     0.23434,     0.23434,     0.23434,     0.23434,     0.23434,     0.22517,     0.22517,     0.22517,     0.22517,     0.22517,\n",
      "            0.22517,     0.22517,     0.22517,     0.22517,     0.22517,    0.076616,    0.073879,    0.071143,    0.068407,    0.065671,    0.062934,    0.060198,    0.057462,    0.054725,    0.051989,    0.049253,    0.046517,     0.04378,    0.041044,    0.038308,    0.035572,    0.032835,    0.030099,\n",
      "           0.027363,    0.024626,     0.02189,    0.019154,    0.016418,    0.013681,    0.010945,   0.0082088,   0.0054725,   0.0027363,           0]]), 'Recall', 'Precision'], [array([          0,    0.001001,    0.002002,    0.003003,    0.004004,    0.005005,    0.006006,    0.007007,    0.008008,    0.009009,     0.01001,    0.011011,    0.012012,    0.013013,    0.014014,    0.015015,    0.016016,    0.017017,    0.018018,    0.019019,     0.02002,    0.021021,    0.022022,    0.023023,\n",
      "          0.024024,    0.025025,    0.026026,    0.027027,    0.028028,    0.029029,     0.03003,    0.031031,    0.032032,    0.033033,    0.034034,    0.035035,    0.036036,    0.037037,    0.038038,    0.039039,     0.04004,    0.041041,    0.042042,    0.043043,    0.044044,    0.045045,    0.046046,    0.047047,\n",
      "          0.048048,    0.049049,     0.05005,    0.051051,    0.052052,    0.053053,    0.054054,    0.055055,    0.056056,    0.057057,    0.058058,    0.059059,     0.06006,    0.061061,    0.062062,    0.063063,    0.064064,    0.065065,    0.066066,    0.067067,    0.068068,    0.069069,     0.07007,    0.071071,\n",
      "          0.072072,    0.073073,    0.074074,    0.075075,    0.076076,    0.077077,    0.078078,    0.079079,     0.08008,    0.081081,    0.082082,    0.083083,    0.084084,    0.085085,    0.086086,    0.087087,    0.088088,    0.089089,     0.09009,    0.091091,    0.092092,    0.093093,    0.094094,    0.095095,\n",
      "          0.096096,    0.097097,    0.098098,    0.099099,      0.1001,      0.1011,      0.1021,      0.1031,      0.1041,     0.10511,     0.10611,     0.10711,     0.10811,     0.10911,     0.11011,     0.11111,     0.11211,     0.11311,     0.11411,     0.11512,     0.11612,     0.11712,     0.11812,     0.11912,\n",
      "           0.12012,     0.12112,     0.12212,     0.12312,     0.12412,     0.12513,     0.12613,     0.12713,     0.12813,     0.12913,     0.13013,     0.13113,     0.13213,     0.13313,     0.13413,     0.13514,     0.13614,     0.13714,     0.13814,     0.13914,     0.14014,     0.14114,     0.14214,     0.14314,\n",
      "           0.14414,     0.14515,     0.14615,     0.14715,     0.14815,     0.14915,     0.15015,     0.15115,     0.15215,     0.15315,     0.15415,     0.15516,     0.15616,     0.15716,     0.15816,     0.15916,     0.16016,     0.16116,     0.16216,     0.16316,     0.16416,     0.16517,     0.16617,     0.16717,\n",
      "           0.16817,     0.16917,     0.17017,     0.17117,     0.17217,     0.17317,     0.17417,     0.17518,     0.17618,     0.17718,     0.17818,     0.17918,     0.18018,     0.18118,     0.18218,     0.18318,     0.18418,     0.18519,     0.18619,     0.18719,     0.18819,     0.18919,     0.19019,     0.19119,\n",
      "           0.19219,     0.19319,     0.19419,      0.1952,      0.1962,      0.1972,      0.1982,      0.1992,      0.2002,      0.2012,      0.2022,      0.2032,      0.2042,     0.20521,     0.20621,     0.20721,     0.20821,     0.20921,     0.21021,     0.21121,     0.21221,     0.21321,     0.21421,     0.21522,\n",
      "           0.21622,     0.21722,     0.21822,     0.21922,     0.22022,     0.22122,     0.22222,     0.22322,     0.22422,     0.22523,     0.22623,     0.22723,     0.22823,     0.22923,     0.23023,     0.23123,     0.23223,     0.23323,     0.23423,     0.23524,     0.23624,     0.23724,     0.23824,     0.23924,\n",
      "           0.24024,     0.24124,     0.24224,     0.24324,     0.24424,     0.24525,     0.24625,     0.24725,     0.24825,     0.24925,     0.25025,     0.25125,     0.25225,     0.25325,     0.25425,     0.25526,     0.25626,     0.25726,     0.25826,     0.25926,     0.26026,     0.26126,     0.26226,     0.26326,\n",
      "           0.26426,     0.26527,     0.26627,     0.26727,     0.26827,     0.26927,     0.27027,     0.27127,     0.27227,     0.27327,     0.27427,     0.27528,     0.27628,     0.27728,     0.27828,     0.27928,     0.28028,     0.28128,     0.28228,     0.28328,     0.28428,     0.28529,     0.28629,     0.28729,\n",
      "           0.28829,     0.28929,     0.29029,     0.29129,     0.29229,     0.29329,     0.29429,      0.2953,      0.2963,      0.2973,      0.2983,      0.2993,      0.3003,      0.3013,      0.3023,      0.3033,      0.3043,     0.30531,     0.30631,     0.30731,     0.30831,     0.30931,     0.31031,     0.31131,\n",
      "           0.31231,     0.31331,     0.31431,     0.31532,     0.31632,     0.31732,     0.31832,     0.31932,     0.32032,     0.32132,     0.32232,     0.32332,     0.32432,     0.32533,     0.32633,     0.32733,     0.32833,     0.32933,     0.33033,     0.33133,     0.33233,     0.33333,     0.33433,     0.33534,\n",
      "           0.33634,     0.33734,     0.33834,     0.33934,     0.34034,     0.34134,     0.34234,     0.34334,     0.34434,     0.34535,     0.34635,     0.34735,     0.34835,     0.34935,     0.35035,     0.35135,     0.35235,     0.35335,     0.35435,     0.35536,     0.35636,     0.35736,     0.35836,     0.35936,\n",
      "           0.36036,     0.36136,     0.36236,     0.36336,     0.36436,     0.36537,     0.36637,     0.36737,     0.36837,     0.36937,     0.37037,     0.37137,     0.37237,     0.37337,     0.37437,     0.37538,     0.37638,     0.37738,     0.37838,     0.37938,     0.38038,     0.38138,     0.38238,     0.38338,\n",
      "           0.38438,     0.38539,     0.38639,     0.38739,     0.38839,     0.38939,     0.39039,     0.39139,     0.39239,     0.39339,     0.39439,      0.3954,      0.3964,      0.3974,      0.3984,      0.3994,      0.4004,      0.4014,      0.4024,      0.4034,      0.4044,     0.40541,     0.40641,     0.40741,\n",
      "           0.40841,     0.40941,     0.41041,     0.41141,     0.41241,     0.41341,     0.41441,     0.41542,     0.41642,     0.41742,     0.41842,     0.41942,     0.42042,     0.42142,     0.42242,     0.42342,     0.42442,     0.42543,     0.42643,     0.42743,     0.42843,     0.42943,     0.43043,     0.43143,\n",
      "           0.43243,     0.43343,     0.43443,     0.43544,     0.43644,     0.43744,     0.43844,     0.43944,     0.44044,     0.44144,     0.44244,     0.44344,     0.44444,     0.44545,     0.44645,     0.44745,     0.44845,     0.44945,     0.45045,     0.45145,     0.45245,     0.45345,     0.45445,     0.45546,\n",
      "           0.45646,     0.45746,     0.45846,     0.45946,     0.46046,     0.46146,     0.46246,     0.46346,     0.46446,     0.46547,     0.46647,     0.46747,     0.46847,     0.46947,     0.47047,     0.47147,     0.47247,     0.47347,     0.47447,     0.47548,     0.47648,     0.47748,     0.47848,     0.47948,\n",
      "           0.48048,     0.48148,     0.48248,     0.48348,     0.48448,     0.48549,     0.48649,     0.48749,     0.48849,     0.48949,     0.49049,     0.49149,     0.49249,     0.49349,     0.49449,      0.4955,      0.4965,      0.4975,      0.4985,      0.4995,      0.5005,      0.5015,      0.5025,      0.5035,\n",
      "            0.5045,     0.50551,     0.50651,     0.50751,     0.50851,     0.50951,     0.51051,     0.51151,     0.51251,     0.51351,     0.51451,     0.51552,     0.51652,     0.51752,     0.51852,     0.51952,     0.52052,     0.52152,     0.52252,     0.52352,     0.52452,     0.52553,     0.52653,     0.52753,\n",
      "           0.52853,     0.52953,     0.53053,     0.53153,     0.53253,     0.53353,     0.53453,     0.53554,     0.53654,     0.53754,     0.53854,     0.53954,     0.54054,     0.54154,     0.54254,     0.54354,     0.54454,     0.54555,     0.54655,     0.54755,     0.54855,     0.54955,     0.55055,     0.55155,\n",
      "           0.55255,     0.55355,     0.55455,     0.55556,     0.55656,     0.55756,     0.55856,     0.55956,     0.56056,     0.56156,     0.56256,     0.56356,     0.56456,     0.56557,     0.56657,     0.56757,     0.56857,     0.56957,     0.57057,     0.57157,     0.57257,     0.57357,     0.57457,     0.57558,\n",
      "           0.57658,     0.57758,     0.57858,     0.57958,     0.58058,     0.58158,     0.58258,     0.58358,     0.58458,     0.58559,     0.58659,     0.58759,     0.58859,     0.58959,     0.59059,     0.59159,     0.59259,     0.59359,     0.59459,      0.5956,      0.5966,      0.5976,      0.5986,      0.5996,\n",
      "            0.6006,      0.6016,      0.6026,      0.6036,      0.6046,     0.60561,     0.60661,     0.60761,     0.60861,     0.60961,     0.61061,     0.61161,     0.61261,     0.61361,     0.61461,     0.61562,     0.61662,     0.61762,     0.61862,     0.61962,     0.62062,     0.62162,     0.62262,     0.62362,\n",
      "           0.62462,     0.62563,     0.62663,     0.62763,     0.62863,     0.62963,     0.63063,     0.63163,     0.63263,     0.63363,     0.63463,     0.63564,     0.63664,     0.63764,     0.63864,     0.63964,     0.64064,     0.64164,     0.64264,     0.64364,     0.64464,     0.64565,     0.64665,     0.64765,\n",
      "           0.64865,     0.64965,     0.65065,     0.65165,     0.65265,     0.65365,     0.65465,     0.65566,     0.65666,     0.65766,     0.65866,     0.65966,     0.66066,     0.66166,     0.66266,     0.66366,     0.66466,     0.66567,     0.66667,     0.66767,     0.66867,     0.66967,     0.67067,     0.67167,\n",
      "           0.67267,     0.67367,     0.67467,     0.67568,     0.67668,     0.67768,     0.67868,     0.67968,     0.68068,     0.68168,     0.68268,     0.68368,     0.68468,     0.68569,     0.68669,     0.68769,     0.68869,     0.68969,     0.69069,     0.69169,     0.69269,     0.69369,     0.69469,      0.6957,\n",
      "            0.6967,      0.6977,      0.6987,      0.6997,      0.7007,      0.7017,      0.7027,      0.7037,      0.7047,     0.70571,     0.70671,     0.70771,     0.70871,     0.70971,     0.71071,     0.71171,     0.71271,     0.71371,     0.71471,     0.71572,     0.71672,     0.71772,     0.71872,     0.71972,\n",
      "           0.72072,     0.72172,     0.72272,     0.72372,     0.72472,     0.72573,     0.72673,     0.72773,     0.72873,     0.72973,     0.73073,     0.73173,     0.73273,     0.73373,     0.73473,     0.73574,     0.73674,     0.73774,     0.73874,     0.73974,     0.74074,     0.74174,     0.74274,     0.74374,\n",
      "           0.74474,     0.74575,     0.74675,     0.74775,     0.74875,     0.74975,     0.75075,     0.75175,     0.75275,     0.75375,     0.75475,     0.75576,     0.75676,     0.75776,     0.75876,     0.75976,     0.76076,     0.76176,     0.76276,     0.76376,     0.76476,     0.76577,     0.76677,     0.76777,\n",
      "           0.76877,     0.76977,     0.77077,     0.77177,     0.77277,     0.77377,     0.77477,     0.77578,     0.77678,     0.77778,     0.77878,     0.77978,     0.78078,     0.78178,     0.78278,     0.78378,     0.78478,     0.78579,     0.78679,     0.78779,     0.78879,     0.78979,     0.79079,     0.79179,\n",
      "           0.79279,     0.79379,     0.79479,      0.7958,      0.7968,      0.7978,      0.7988,      0.7998,      0.8008,      0.8018,      0.8028,      0.8038,      0.8048,     0.80581,     0.80681,     0.80781,     0.80881,     0.80981,     0.81081,     0.81181,     0.81281,     0.81381,     0.81481,     0.81582,\n",
      "           0.81682,     0.81782,     0.81882,     0.81982,     0.82082,     0.82182,     0.82282,     0.82382,     0.82482,     0.82583,     0.82683,     0.82783,     0.82883,     0.82983,     0.83083,     0.83183,     0.83283,     0.83383,     0.83483,     0.83584,     0.83684,     0.83784,     0.83884,     0.83984,\n",
      "           0.84084,     0.84184,     0.84284,     0.84384,     0.84484,     0.84585,     0.84685,     0.84785,     0.84885,     0.84985,     0.85085,     0.85185,     0.85285,     0.85385,     0.85485,     0.85586,     0.85686,     0.85786,     0.85886,     0.85986,     0.86086,     0.86186,     0.86286,     0.86386,\n",
      "           0.86486,     0.86587,     0.86687,     0.86787,     0.86887,     0.86987,     0.87087,     0.87187,     0.87287,     0.87387,     0.87487,     0.87588,     0.87688,     0.87788,     0.87888,     0.87988,     0.88088,     0.88188,     0.88288,     0.88388,     0.88488,     0.88589,     0.88689,     0.88789,\n",
      "           0.88889,     0.88989,     0.89089,     0.89189,     0.89289,     0.89389,     0.89489,      0.8959,      0.8969,      0.8979,      0.8989,      0.8999,      0.9009,      0.9019,      0.9029,      0.9039,      0.9049,     0.90591,     0.90691,     0.90791,     0.90891,     0.90991,     0.91091,     0.91191,\n",
      "           0.91291,     0.91391,     0.91491,     0.91592,     0.91692,     0.91792,     0.91892,     0.91992,     0.92092,     0.92192,     0.92292,     0.92392,     0.92492,     0.92593,     0.92693,     0.92793,     0.92893,     0.92993,     0.93093,     0.93193,     0.93293,     0.93393,     0.93493,     0.93594,\n",
      "           0.93694,     0.93794,     0.93894,     0.93994,     0.94094,     0.94194,     0.94294,     0.94394,     0.94494,     0.94595,     0.94695,     0.94795,     0.94895,     0.94995,     0.95095,     0.95195,     0.95295,     0.95395,     0.95495,     0.95596,     0.95696,     0.95796,     0.95896,     0.95996,\n",
      "           0.96096,     0.96196,     0.96296,     0.96396,     0.96496,     0.96597,     0.96697,     0.96797,     0.96897,     0.96997,     0.97097,     0.97197,     0.97297,     0.97397,     0.97497,     0.97598,     0.97698,     0.97798,     0.97898,     0.97998,     0.98098,     0.98198,     0.98298,     0.98398,\n",
      "           0.98498,     0.98599,     0.98699,     0.98799,     0.98899,     0.98999,     0.99099,     0.99199,     0.99299,     0.99399,     0.99499,       0.996,       0.997,       0.998,       0.999,           1]), array([[    0.14458,     0.14458,     0.19826,     0.23715,     0.26712,     0.28818,     0.31072,     0.33139,     0.34754,     0.35966,     0.36725,     0.37617,     0.38617,      0.3965,      0.4062,     0.41172,     0.41522,     0.41816,     0.42877,     0.43631,     0.44252,     0.44651,     0.45282,\n",
      "            0.45324,     0.45488,     0.45587,     0.45269,     0.45543,     0.46226,     0.46854,     0.46744,     0.47656,      0.4828,     0.49002,     0.49353,      0.4957,      0.5025,     0.50441,     0.50686,     0.51138,     0.51232,     0.51442,     0.51559,     0.51917,     0.52332,     0.52652,\n",
      "            0.52913,     0.53226,     0.53558,     0.54112,     0.54337,      0.5456,      0.5477,     0.54694,      0.5525,     0.55422,     0.55559,     0.55731,     0.56265,     0.56609,     0.56962,     0.57397,      0.5768,     0.58035,     0.58325,      0.5858,     0.58643,     0.58707,     0.58967,\n",
      "            0.59232,     0.59634,     0.59818,     0.59413,     0.59456,     0.59507,     0.59557,     0.59661,     0.59924,     0.60268,     0.60841,     0.61163,     0.61405,     0.61704,     0.61844,     0.62065,     0.62246,     0.62378,     0.62496,     0.62925,     0.63298,     0.63409,     0.63458,\n",
      "            0.63507,     0.63556,     0.63607,     0.63705,     0.63803,     0.63881,     0.63952,     0.64022,      0.6412,     0.64244,     0.64347,      0.6444,     0.64565,     0.64771,     0.64839,     0.64906,     0.64973,     0.65141,     0.65673,     0.65792,     0.65892,     0.66148,     0.66198,\n",
      "            0.66221,     0.66245,     0.66268,     0.66292,     0.66315,     0.66338,     0.66362,     0.66385,     0.66408,     0.66603,     0.66817,     0.67167,     0.67348,     0.67509,     0.67659,     0.67743,     0.67822,     0.67901,     0.67952,      0.6799,     0.68028,     0.68067,     0.68105,\n",
      "            0.68143,     0.68181,      0.6842,     0.68045,     0.68172,      0.6824,     0.68291,     0.68343,     0.68394,     0.68446,     0.68502,     0.68559,     0.68617,     0.68675,     0.68734,      0.6881,     0.68886,     0.68962,     0.69031,     0.69095,     0.69159,     0.69223,     0.69298,\n",
      "            0.69389,     0.69479,     0.69565,     0.69644,     0.69723,     0.69802,      0.7004,     0.70171,     0.70279,     0.70413,     0.70607,     0.70686,     0.70746,     0.70805,     0.70865,      0.7087,     0.70522,      0.7025,     0.70019,     0.69906,     0.69974,     0.70041,     0.70108,\n",
      "            0.70231,      0.7084,     0.71247,     0.71368,     0.71437,     0.71507,     0.71576,     0.71902,     0.71971,      0.7204,     0.72108,     0.72177,     0.72387,     0.72598,     0.72762,     0.72945,     0.73114,     0.73146,     0.73178,      0.7321,     0.73242,     0.73274,     0.73307,\n",
      "            0.73339,     0.73371,     0.73403,     0.73443,     0.73492,      0.7354,     0.73588,     0.73636,     0.73685,     0.73732,      0.7377,     0.73809,     0.73847,     0.73885,     0.73923,     0.73961,        0.74,     0.74038,     0.73734,     0.73552,     0.73687,      0.7382,     0.73847,\n",
      "            0.73874,     0.73901,     0.73927,     0.73954,     0.73981,     0.74008,     0.74034,     0.74061,     0.74088,     0.74114,     0.74144,     0.74192,      0.7424,     0.74288,     0.74335,     0.74383,     0.74431,     0.74571,     0.74795,     0.74851,     0.74908,     0.74964,      0.7502,\n",
      "            0.75077,     0.75177,     0.75338,     0.75486,     0.75612,     0.75737,     0.75713,     0.75634,     0.75554,     0.75475,     0.75395,     0.75316,     0.75236,     0.75302,     0.75401,       0.755,     0.75568,     0.75598,     0.75628,     0.75658,     0.75688,     0.75718,     0.75747,\n",
      "            0.75777,     0.75807,     0.75837,     0.75866,      0.7591,     0.76073,     0.76236,     0.76492,     0.76343,     0.76031,     0.76197,     0.76362,     0.76446,      0.7653,     0.76613,     0.76696,     0.77223,     0.77338,     0.77192,     0.77046,       0.769,     0.76366,      0.7656,\n",
      "            0.76961,     0.76844,     0.76726,     0.76608,     0.76491,     0.76431,     0.76474,     0.76517,      0.7656,     0.76603,     0.76646,     0.76688,     0.76731,     0.76774,     0.76888,     0.77007,     0.77126,     0.77107,     0.77066,     0.77025,     0.76983,     0.76942,       0.769,\n",
      "            0.76859,     0.76817,     0.76776,     0.76734,     0.76692,     0.76651,     0.76609,     0.76568,     0.76426,      0.7624,     0.76054,     0.76005,     0.76092,     0.76179,     0.76266,      0.7635,      0.7643,     0.76509,     0.76588,     0.76667,     0.76905,     0.77381,      0.7752,\n",
      "            0.77599,     0.77677,     0.77755,     0.77832,     0.78156,     0.78321,     0.78449,     0.78577,     0.78003,     0.78053,     0.78104,     0.78154,     0.78204,     0.78254,     0.78304,     0.78354,     0.78445,     0.78672,     0.78772,      0.7874,     0.78708,     0.78677,     0.78645,\n",
      "            0.78613,     0.78581,     0.78549,     0.78517,     0.78485,     0.78453,     0.78421,     0.78389,     0.78357,     0.78325,     0.78292,      0.7826,     0.78228,     0.78196,     0.77876,       0.776,     0.77669,     0.77738,     0.77807,     0.77875,     0.77944,     0.77854,     0.77752,\n",
      "             0.7765,     0.77547,     0.77445,     0.77343,     0.77235,     0.77126,     0.77017,     0.76908,     0.76798,     0.76689,     0.76582,     0.76474,     0.76367,     0.76259,     0.76151,     0.76044,      0.7595,     0.75856,     0.75762,     0.75668,     0.75574,      0.7548,     0.75205,\n",
      "            0.75122,     0.75049,     0.74976,     0.74903,     0.74829,     0.74756,     0.74682,     0.74608,     0.74535,     0.74477,     0.74568,     0.74659,      0.7475,      0.7484,     0.74901,      0.7495,     0.74998,     0.75047,     0.75095,     0.75143,     0.75191,      0.7524,     0.75248,\n",
      "            0.75194,      0.7514,     0.75086,     0.75032,     0.74978,     0.74925,     0.74871,     0.74816,     0.74762,     0.74708,     0.74654,       0.746,     0.74616,     0.74641,     0.74665,     0.74689,     0.74713,     0.74738,     0.74762,     0.74786,      0.7481,     0.74834,     0.74858,\n",
      "            0.74882,     0.74906,      0.7493,     0.74954,     0.74978,     0.74982,     0.74781,     0.74578,     0.74376,     0.74381,     0.74471,     0.74561,     0.74651,     0.74734,     0.74782,     0.74831,      0.7488,     0.74929,     0.74977,     0.75026,     0.75074,     0.75123,     0.75043,\n",
      "            0.74904,     0.74764,     0.74623,     0.74483,      0.7432,     0.74148,     0.73975,     0.73803,     0.73374,      0.7282,      0.7232,     0.72375,      0.7243,     0.72485,      0.7254,     0.72595,     0.72649,     0.72704,     0.72642,     0.72493,     0.72344,     0.72195,     0.72045,\n",
      "            0.70995,     0.70518,     0.70481,     0.70443,     0.70406,     0.70369,     0.70332,     0.70294,     0.70257,      0.7022,     0.70182,     0.70145,     0.70107,      0.7007,     0.70033,     0.69995,     0.69958,      0.6992,     0.69883,     0.69845,     0.69808,      0.6977,      0.6971,\n",
      "            0.69649,     0.69588,     0.69527,     0.69466,     0.69404,     0.69343,     0.69281,      0.6922,     0.69158,     0.69097,     0.69035,     0.68217,     0.68106,     0.67995,     0.67884,     0.67772,     0.67661,     0.67549,     0.67428,     0.67264,     0.67099,     0.66934,     0.66768,\n",
      "            0.66756,     0.66983,       0.664,     0.66159,     0.66037,     0.65915,     0.65792,     0.65669,     0.65547,     0.65064,     0.64475,     0.64256,     0.64036,     0.63815,      0.6344,     0.63056,     0.62889,     0.62792,     0.62695,     0.62597,       0.625,     0.62402,     0.62304,\n",
      "            0.62206,      0.6212,     0.62341,      0.6243,     0.62175,     0.61919,     0.61663,     0.61007,     0.59764,     0.59353,     0.58947,     0.58614,     0.58278,     0.57118,     0.57022,     0.56926,      0.5683,     0.56734,     0.56638,     0.56542,     0.56446,     0.56349,     0.56252,\n",
      "            0.56131,      0.5599,     0.55848,     0.55706,     0.55564,     0.55422,     0.55279,     0.54962,     0.54623,     0.54158,        0.53,     0.52465,     0.51812,     0.51387,     0.51494,     0.51599,     0.51693,     0.51442,      0.5119,     0.50938,     0.50685,     0.50512,     0.50339,\n",
      "            0.50166,     0.49993,     0.49819,     0.49648,     0.49532,     0.49416,       0.493,     0.49184,     0.49068,     0.48951,     0.48834,     0.48717,     0.48595,     0.48413,     0.48232,      0.4805,     0.47868,     0.47685,     0.47395,      0.4682,     0.46429,     0.46307,     0.46185,\n",
      "            0.46062,      0.4594,     0.45817,     0.45694,     0.45571,     0.45447,     0.45194,     0.44825,     0.44455,     0.44219,     0.44097,     0.43975,     0.43852,      0.4373,     0.43607,     0.43484,     0.43361,     0.43238,     0.42749,     0.42168,     0.42174,     0.41925,     0.41674,\n",
      "            0.41423,     0.41165,     0.40631,     0.40094,     0.39461,     0.38805,     0.38661,     0.38515,      0.3837,     0.38225,     0.38079,     0.37933,     0.37786,      0.3764,     0.36398,     0.36448,     0.36497,     0.36546,     0.36595,     0.36637,     0.36475,     0.36312,     0.36148,\n",
      "            0.35985,     0.35821,     0.35657,     0.35492,     0.35247,     0.34847,     0.34446,     0.34081,     0.33909,     0.33737,     0.33564,     0.33392,     0.33219,     0.33045,     0.32872,     0.32382,     0.31724,     0.31458,     0.31399,      0.3134,     0.31282,     0.31223,     0.31164,\n",
      "            0.31105,     0.31046,     0.30987,     0.30928,     0.30869,      0.3081,     0.30751,     0.30692,     0.30633,     0.30574,     0.30515,     0.30455,     0.30396,     0.30337,     0.30277,     0.30218,     0.30158,     0.29959,     0.29759,     0.29558,     0.29357,     0.29155,     0.28954,\n",
      "            0.28684,     0.28198,      0.2771,     0.25899,     0.25533,     0.25166,     0.24798,     0.24742,     0.24116,     0.23328,     0.23179,     0.23028,     0.22878,     0.22728,     0.22577,     0.22426,     0.22274,     0.22123,     0.21971,     0.21778,     0.21415,     0.21051,     0.20685,\n",
      "            0.20326,     0.20097,     0.19868,     0.19639,     0.19409,     0.19178,     0.18947,     0.17689,     0.17251,     0.17263,     0.17275,     0.17286,     0.17298,     0.17309,      0.1732,     0.17331,     0.17341,     0.17352,     0.17362,     0.17373,     0.17383,     0.17369,     0.17242,\n",
      "            0.17115,     0.16988,     0.16861,     0.16733,     0.16605,     0.16477,     0.16349,     0.16221,     0.16092,     0.15963,     0.15834,     0.15658,     0.15457,     0.15255,     0.15052,     0.14849,     0.14646,     0.14442,     0.14238,     0.12548,     0.12454,     0.12407,      0.1236,\n",
      "            0.12312,     0.12265,     0.12218,     0.12171,     0.12124,     0.12076,     0.12029,     0.11982,     0.11934,     0.11887,      0.1184,     0.11792,     0.11745,     0.11697,      0.1165,     0.11602,     0.11555,     0.11507,      0.1146,     0.11412,     0.11364,     0.11317,     0.11269,\n",
      "            0.11221,     0.11174,     0.11126,     0.11078,      0.1103,     0.10983,     0.10935,     0.10887,     0.10839,     0.10509,    0.097717,    0.090819,    0.089741,    0.088662,    0.087581,      0.0865,    0.085417,    0.084333,    0.083248,    0.082161,    0.081073,    0.079984,    0.078894,\n",
      "           0.077803,     0.07671,    0.075616,    0.074521,    0.073424,    0.069337,    0.065148,    0.060942,    0.056717,    0.055007,    0.054251,    0.053495,    0.052737,     0.05198,    0.051221,    0.050462,    0.049703,    0.048943,    0.048182,    0.047421,    0.046659,    0.045896,    0.045133,\n",
      "           0.044369,    0.043605,     0.04284,    0.042075,    0.041308,    0.040542,    0.039774,    0.039007,    0.038238,    0.037469,    0.036904,    0.036364,    0.035824,    0.035283,    0.034743,    0.034202,     0.03366,    0.033119,    0.032577,    0.032035,    0.031492,    0.030949,    0.030406,\n",
      "           0.029863,    0.029319,    0.028775,    0.028231,    0.027686,    0.027141,    0.026596,    0.026051,    0.025505,    0.024959,    0.024412,    0.023866,    0.023319,    0.022771,    0.022224,    0.021676,    0.021128,    0.020579,     0.02003,    0.019481,    0.018932,           0,           0,\n",
      "                  0,           0,           0,           0,           0,           0,           0,           0,           0,           0,           0,           0,           0,           0,           0,           0,           0,           0,           0,           0,           0,           0,           0,\n",
      "                  0,           0,           0,           0,           0,           0,           0,           0,           0,           0,           0,           0,           0,           0,           0,           0,           0,           0,           0,           0,           0,           0,           0,\n",
      "                  0,           0,           0,           0,           0,           0,           0,           0,           0,           0,           0,           0,           0,           0,           0,           0,           0,           0,           0,           0,           0,           0,           0,\n",
      "                  0,           0,           0,           0,           0,           0,           0,           0,           0,           0,           0]]), 'Confidence', 'F1'], [array([          0,    0.001001,    0.002002,    0.003003,    0.004004,    0.005005,    0.006006,    0.007007,    0.008008,    0.009009,     0.01001,    0.011011,    0.012012,    0.013013,    0.014014,    0.015015,    0.016016,    0.017017,    0.018018,    0.019019,     0.02002,    0.021021,    0.022022,    0.023023,\n",
      "          0.024024,    0.025025,    0.026026,    0.027027,    0.028028,    0.029029,     0.03003,    0.031031,    0.032032,    0.033033,    0.034034,    0.035035,    0.036036,    0.037037,    0.038038,    0.039039,     0.04004,    0.041041,    0.042042,    0.043043,    0.044044,    0.045045,    0.046046,    0.047047,\n",
      "          0.048048,    0.049049,     0.05005,    0.051051,    0.052052,    0.053053,    0.054054,    0.055055,    0.056056,    0.057057,    0.058058,    0.059059,     0.06006,    0.061061,    0.062062,    0.063063,    0.064064,    0.065065,    0.066066,    0.067067,    0.068068,    0.069069,     0.07007,    0.071071,\n",
      "          0.072072,    0.073073,    0.074074,    0.075075,    0.076076,    0.077077,    0.078078,    0.079079,     0.08008,    0.081081,    0.082082,    0.083083,    0.084084,    0.085085,    0.086086,    0.087087,    0.088088,    0.089089,     0.09009,    0.091091,    0.092092,    0.093093,    0.094094,    0.095095,\n",
      "          0.096096,    0.097097,    0.098098,    0.099099,      0.1001,      0.1011,      0.1021,      0.1031,      0.1041,     0.10511,     0.10611,     0.10711,     0.10811,     0.10911,     0.11011,     0.11111,     0.11211,     0.11311,     0.11411,     0.11512,     0.11612,     0.11712,     0.11812,     0.11912,\n",
      "           0.12012,     0.12112,     0.12212,     0.12312,     0.12412,     0.12513,     0.12613,     0.12713,     0.12813,     0.12913,     0.13013,     0.13113,     0.13213,     0.13313,     0.13413,     0.13514,     0.13614,     0.13714,     0.13814,     0.13914,     0.14014,     0.14114,     0.14214,     0.14314,\n",
      "           0.14414,     0.14515,     0.14615,     0.14715,     0.14815,     0.14915,     0.15015,     0.15115,     0.15215,     0.15315,     0.15415,     0.15516,     0.15616,     0.15716,     0.15816,     0.15916,     0.16016,     0.16116,     0.16216,     0.16316,     0.16416,     0.16517,     0.16617,     0.16717,\n",
      "           0.16817,     0.16917,     0.17017,     0.17117,     0.17217,     0.17317,     0.17417,     0.17518,     0.17618,     0.17718,     0.17818,     0.17918,     0.18018,     0.18118,     0.18218,     0.18318,     0.18418,     0.18519,     0.18619,     0.18719,     0.18819,     0.18919,     0.19019,     0.19119,\n",
      "           0.19219,     0.19319,     0.19419,      0.1952,      0.1962,      0.1972,      0.1982,      0.1992,      0.2002,      0.2012,      0.2022,      0.2032,      0.2042,     0.20521,     0.20621,     0.20721,     0.20821,     0.20921,     0.21021,     0.21121,     0.21221,     0.21321,     0.21421,     0.21522,\n",
      "           0.21622,     0.21722,     0.21822,     0.21922,     0.22022,     0.22122,     0.22222,     0.22322,     0.22422,     0.22523,     0.22623,     0.22723,     0.22823,     0.22923,     0.23023,     0.23123,     0.23223,     0.23323,     0.23423,     0.23524,     0.23624,     0.23724,     0.23824,     0.23924,\n",
      "           0.24024,     0.24124,     0.24224,     0.24324,     0.24424,     0.24525,     0.24625,     0.24725,     0.24825,     0.24925,     0.25025,     0.25125,     0.25225,     0.25325,     0.25425,     0.25526,     0.25626,     0.25726,     0.25826,     0.25926,     0.26026,     0.26126,     0.26226,     0.26326,\n",
      "           0.26426,     0.26527,     0.26627,     0.26727,     0.26827,     0.26927,     0.27027,     0.27127,     0.27227,     0.27327,     0.27427,     0.27528,     0.27628,     0.27728,     0.27828,     0.27928,     0.28028,     0.28128,     0.28228,     0.28328,     0.28428,     0.28529,     0.28629,     0.28729,\n",
      "           0.28829,     0.28929,     0.29029,     0.29129,     0.29229,     0.29329,     0.29429,      0.2953,      0.2963,      0.2973,      0.2983,      0.2993,      0.3003,      0.3013,      0.3023,      0.3033,      0.3043,     0.30531,     0.30631,     0.30731,     0.30831,     0.30931,     0.31031,     0.31131,\n",
      "           0.31231,     0.31331,     0.31431,     0.31532,     0.31632,     0.31732,     0.31832,     0.31932,     0.32032,     0.32132,     0.32232,     0.32332,     0.32432,     0.32533,     0.32633,     0.32733,     0.32833,     0.32933,     0.33033,     0.33133,     0.33233,     0.33333,     0.33433,     0.33534,\n",
      "           0.33634,     0.33734,     0.33834,     0.33934,     0.34034,     0.34134,     0.34234,     0.34334,     0.34434,     0.34535,     0.34635,     0.34735,     0.34835,     0.34935,     0.35035,     0.35135,     0.35235,     0.35335,     0.35435,     0.35536,     0.35636,     0.35736,     0.35836,     0.35936,\n",
      "           0.36036,     0.36136,     0.36236,     0.36336,     0.36436,     0.36537,     0.36637,     0.36737,     0.36837,     0.36937,     0.37037,     0.37137,     0.37237,     0.37337,     0.37437,     0.37538,     0.37638,     0.37738,     0.37838,     0.37938,     0.38038,     0.38138,     0.38238,     0.38338,\n",
      "           0.38438,     0.38539,     0.38639,     0.38739,     0.38839,     0.38939,     0.39039,     0.39139,     0.39239,     0.39339,     0.39439,      0.3954,      0.3964,      0.3974,      0.3984,      0.3994,      0.4004,      0.4014,      0.4024,      0.4034,      0.4044,     0.40541,     0.40641,     0.40741,\n",
      "           0.40841,     0.40941,     0.41041,     0.41141,     0.41241,     0.41341,     0.41441,     0.41542,     0.41642,     0.41742,     0.41842,     0.41942,     0.42042,     0.42142,     0.42242,     0.42342,     0.42442,     0.42543,     0.42643,     0.42743,     0.42843,     0.42943,     0.43043,     0.43143,\n",
      "           0.43243,     0.43343,     0.43443,     0.43544,     0.43644,     0.43744,     0.43844,     0.43944,     0.44044,     0.44144,     0.44244,     0.44344,     0.44444,     0.44545,     0.44645,     0.44745,     0.44845,     0.44945,     0.45045,     0.45145,     0.45245,     0.45345,     0.45445,     0.45546,\n",
      "           0.45646,     0.45746,     0.45846,     0.45946,     0.46046,     0.46146,     0.46246,     0.46346,     0.46446,     0.46547,     0.46647,     0.46747,     0.46847,     0.46947,     0.47047,     0.47147,     0.47247,     0.47347,     0.47447,     0.47548,     0.47648,     0.47748,     0.47848,     0.47948,\n",
      "           0.48048,     0.48148,     0.48248,     0.48348,     0.48448,     0.48549,     0.48649,     0.48749,     0.48849,     0.48949,     0.49049,     0.49149,     0.49249,     0.49349,     0.49449,      0.4955,      0.4965,      0.4975,      0.4985,      0.4995,      0.5005,      0.5015,      0.5025,      0.5035,\n",
      "            0.5045,     0.50551,     0.50651,     0.50751,     0.50851,     0.50951,     0.51051,     0.51151,     0.51251,     0.51351,     0.51451,     0.51552,     0.51652,     0.51752,     0.51852,     0.51952,     0.52052,     0.52152,     0.52252,     0.52352,     0.52452,     0.52553,     0.52653,     0.52753,\n",
      "           0.52853,     0.52953,     0.53053,     0.53153,     0.53253,     0.53353,     0.53453,     0.53554,     0.53654,     0.53754,     0.53854,     0.53954,     0.54054,     0.54154,     0.54254,     0.54354,     0.54454,     0.54555,     0.54655,     0.54755,     0.54855,     0.54955,     0.55055,     0.55155,\n",
      "           0.55255,     0.55355,     0.55455,     0.55556,     0.55656,     0.55756,     0.55856,     0.55956,     0.56056,     0.56156,     0.56256,     0.56356,     0.56456,     0.56557,     0.56657,     0.56757,     0.56857,     0.56957,     0.57057,     0.57157,     0.57257,     0.57357,     0.57457,     0.57558,\n",
      "           0.57658,     0.57758,     0.57858,     0.57958,     0.58058,     0.58158,     0.58258,     0.58358,     0.58458,     0.58559,     0.58659,     0.58759,     0.58859,     0.58959,     0.59059,     0.59159,     0.59259,     0.59359,     0.59459,      0.5956,      0.5966,      0.5976,      0.5986,      0.5996,\n",
      "            0.6006,      0.6016,      0.6026,      0.6036,      0.6046,     0.60561,     0.60661,     0.60761,     0.60861,     0.60961,     0.61061,     0.61161,     0.61261,     0.61361,     0.61461,     0.61562,     0.61662,     0.61762,     0.61862,     0.61962,     0.62062,     0.62162,     0.62262,     0.62362,\n",
      "           0.62462,     0.62563,     0.62663,     0.62763,     0.62863,     0.62963,     0.63063,     0.63163,     0.63263,     0.63363,     0.63463,     0.63564,     0.63664,     0.63764,     0.63864,     0.63964,     0.64064,     0.64164,     0.64264,     0.64364,     0.64464,     0.64565,     0.64665,     0.64765,\n",
      "           0.64865,     0.64965,     0.65065,     0.65165,     0.65265,     0.65365,     0.65465,     0.65566,     0.65666,     0.65766,     0.65866,     0.65966,     0.66066,     0.66166,     0.66266,     0.66366,     0.66466,     0.66567,     0.66667,     0.66767,     0.66867,     0.66967,     0.67067,     0.67167,\n",
      "           0.67267,     0.67367,     0.67467,     0.67568,     0.67668,     0.67768,     0.67868,     0.67968,     0.68068,     0.68168,     0.68268,     0.68368,     0.68468,     0.68569,     0.68669,     0.68769,     0.68869,     0.68969,     0.69069,     0.69169,     0.69269,     0.69369,     0.69469,      0.6957,\n",
      "            0.6967,      0.6977,      0.6987,      0.6997,      0.7007,      0.7017,      0.7027,      0.7037,      0.7047,     0.70571,     0.70671,     0.70771,     0.70871,     0.70971,     0.71071,     0.71171,     0.71271,     0.71371,     0.71471,     0.71572,     0.71672,     0.71772,     0.71872,     0.71972,\n",
      "           0.72072,     0.72172,     0.72272,     0.72372,     0.72472,     0.72573,     0.72673,     0.72773,     0.72873,     0.72973,     0.73073,     0.73173,     0.73273,     0.73373,     0.73473,     0.73574,     0.73674,     0.73774,     0.73874,     0.73974,     0.74074,     0.74174,     0.74274,     0.74374,\n",
      "           0.74474,     0.74575,     0.74675,     0.74775,     0.74875,     0.74975,     0.75075,     0.75175,     0.75275,     0.75375,     0.75475,     0.75576,     0.75676,     0.75776,     0.75876,     0.75976,     0.76076,     0.76176,     0.76276,     0.76376,     0.76476,     0.76577,     0.76677,     0.76777,\n",
      "           0.76877,     0.76977,     0.77077,     0.77177,     0.77277,     0.77377,     0.77477,     0.77578,     0.77678,     0.77778,     0.77878,     0.77978,     0.78078,     0.78178,     0.78278,     0.78378,     0.78478,     0.78579,     0.78679,     0.78779,     0.78879,     0.78979,     0.79079,     0.79179,\n",
      "           0.79279,     0.79379,     0.79479,      0.7958,      0.7968,      0.7978,      0.7988,      0.7998,      0.8008,      0.8018,      0.8028,      0.8038,      0.8048,     0.80581,     0.80681,     0.80781,     0.80881,     0.80981,     0.81081,     0.81181,     0.81281,     0.81381,     0.81481,     0.81582,\n",
      "           0.81682,     0.81782,     0.81882,     0.81982,     0.82082,     0.82182,     0.82282,     0.82382,     0.82482,     0.82583,     0.82683,     0.82783,     0.82883,     0.82983,     0.83083,     0.83183,     0.83283,     0.83383,     0.83483,     0.83584,     0.83684,     0.83784,     0.83884,     0.83984,\n",
      "           0.84084,     0.84184,     0.84284,     0.84384,     0.84484,     0.84585,     0.84685,     0.84785,     0.84885,     0.84985,     0.85085,     0.85185,     0.85285,     0.85385,     0.85485,     0.85586,     0.85686,     0.85786,     0.85886,     0.85986,     0.86086,     0.86186,     0.86286,     0.86386,\n",
      "           0.86486,     0.86587,     0.86687,     0.86787,     0.86887,     0.86987,     0.87087,     0.87187,     0.87287,     0.87387,     0.87487,     0.87588,     0.87688,     0.87788,     0.87888,     0.87988,     0.88088,     0.88188,     0.88288,     0.88388,     0.88488,     0.88589,     0.88689,     0.88789,\n",
      "           0.88889,     0.88989,     0.89089,     0.89189,     0.89289,     0.89389,     0.89489,      0.8959,      0.8969,      0.8979,      0.8989,      0.8999,      0.9009,      0.9019,      0.9029,      0.9039,      0.9049,     0.90591,     0.90691,     0.90791,     0.90891,     0.90991,     0.91091,     0.91191,\n",
      "           0.91291,     0.91391,     0.91491,     0.91592,     0.91692,     0.91792,     0.91892,     0.91992,     0.92092,     0.92192,     0.92292,     0.92392,     0.92492,     0.92593,     0.92693,     0.92793,     0.92893,     0.92993,     0.93093,     0.93193,     0.93293,     0.93393,     0.93493,     0.93594,\n",
      "           0.93694,     0.93794,     0.93894,     0.93994,     0.94094,     0.94194,     0.94294,     0.94394,     0.94494,     0.94595,     0.94695,     0.94795,     0.94895,     0.94995,     0.95095,     0.95195,     0.95295,     0.95395,     0.95495,     0.95596,     0.95696,     0.95796,     0.95896,     0.95996,\n",
      "           0.96096,     0.96196,     0.96296,     0.96396,     0.96496,     0.96597,     0.96697,     0.96797,     0.96897,     0.96997,     0.97097,     0.97197,     0.97297,     0.97397,     0.97497,     0.97598,     0.97698,     0.97798,     0.97898,     0.97998,     0.98098,     0.98198,     0.98298,     0.98398,\n",
      "           0.98498,     0.98599,     0.98699,     0.98799,     0.98899,     0.98999,     0.99099,     0.99199,     0.99299,     0.99399,     0.99499,       0.996,       0.997,       0.998,       0.999,           1]), array([[   0.078101,    0.078101,      0.1104,     0.13506,     0.15485,     0.16919,     0.18493,     0.19977,     0.21162,     0.22068,     0.22695,     0.23437,     0.24281,     0.25104,     0.25886,     0.26336,     0.26623,     0.26944,     0.27831,      0.2847,     0.29001,     0.29345,     0.29892,\n",
      "            0.30131,     0.30382,     0.30579,       0.304,     0.30652,     0.31274,     0.31851,     0.31874,     0.32728,      0.3332,     0.34011,     0.34351,     0.34562,     0.35226,     0.35415,     0.35657,     0.36105,     0.36199,     0.36409,     0.36526,     0.36887,     0.37307,     0.37634,\n",
      "              0.379,     0.38223,     0.38566,     0.39143,     0.39379,     0.39614,     0.39835,     0.39955,     0.40551,     0.40736,     0.40884,      0.4107,     0.41653,     0.42032,     0.42422,     0.42907,     0.43223,     0.43624,     0.43952,     0.44242,     0.44315,     0.44387,     0.44685,\n",
      "             0.4499,     0.45456,      0.4567,     0.45459,     0.45513,     0.45573,     0.45632,     0.45753,     0.46064,     0.46472,     0.47156,     0.47545,     0.47837,     0.48201,     0.48373,     0.48643,     0.48867,     0.49029,     0.49176,     0.49709,     0.50175,     0.50316,     0.50377,\n",
      "            0.50439,     0.50501,     0.50565,     0.50689,     0.50813,     0.50912,     0.51002,     0.51092,     0.51217,     0.51375,     0.51507,     0.51626,     0.51787,     0.52053,      0.5214,     0.52227,     0.52313,     0.52533,     0.53228,     0.53383,     0.53516,     0.53854,     0.53921,\n",
      "            0.53952,     0.53983,     0.54014,     0.54045,     0.54076,     0.54107,     0.54138,     0.54169,       0.542,     0.54461,     0.54748,     0.55219,     0.55463,     0.55682,     0.55886,     0.56001,      0.5611,     0.56218,     0.56287,      0.5634,     0.56392,     0.56445,     0.56498,\n",
      "            0.56551,     0.56603,     0.56932,     0.56835,     0.57013,     0.57108,      0.5718,     0.57253,     0.57325,     0.57397,     0.57476,     0.57557,     0.57639,      0.5772,     0.57804,     0.57912,      0.5802,     0.58127,     0.58225,     0.58316,     0.58407,     0.58498,     0.58606,\n",
      "            0.58736,     0.58866,     0.58989,     0.59103,     0.59216,      0.5933,     0.59676,     0.59865,     0.60024,     0.60219,     0.60503,     0.60619,     0.60707,     0.60795,     0.60883,     0.60935,     0.60753,     0.60611,      0.6049,     0.60457,     0.60558,     0.60659,      0.6076,\n",
      "            0.60945,     0.61867,     0.62491,     0.62677,     0.62784,     0.62891,     0.62998,     0.63505,     0.63613,     0.63721,     0.63828,     0.63936,     0.64266,     0.64599,      0.6486,     0.65152,      0.6542,     0.65472,     0.65524,     0.65575,     0.65627,     0.65678,      0.6573,\n",
      "            0.65782,     0.65833,     0.65885,      0.6595,     0.66028,     0.66107,     0.66185,     0.66263,     0.66341,     0.66417,      0.6648,     0.66542,     0.66604,     0.66666,     0.66728,     0.66791,     0.66853,     0.66915,     0.66776,     0.66745,     0.66968,     0.67188,     0.67233,\n",
      "            0.67277,     0.67322,     0.67366,     0.67411,     0.67455,       0.675,     0.67544,     0.67588,     0.67633,     0.67677,     0.67726,     0.67806,     0.67886,     0.67967,     0.68047,     0.68127,     0.68207,     0.68443,      0.6882,     0.68916,     0.69012,     0.69108,     0.69204,\n",
      "            0.69299,     0.69471,     0.69746,         0.7,     0.70216,     0.70433,     0.70466,     0.70431,     0.70396,      0.7036,     0.70325,      0.7029,     0.70254,     0.70389,     0.70562,     0.70735,     0.70856,     0.70909,     0.70961,     0.71014,     0.71066,     0.71119,     0.71171,\n",
      "            0.71224,     0.71276,     0.71329,     0.71382,     0.71459,     0.71748,     0.72039,     0.72497,     0.72551,     0.72437,     0.72739,      0.7304,     0.73195,     0.73348,     0.73501,     0.73655,     0.74632,     0.74968,      0.7491,     0.74852,     0.74794,     0.74711,     0.75085,\n",
      "            0.75913,     0.75867,     0.75821,     0.75776,      0.7573,     0.75731,     0.75816,     0.75901,     0.75985,      0.7607,     0.76155,     0.76239,     0.76324,     0.76409,     0.76634,     0.76872,     0.77109,      0.7713,     0.77114,     0.77099,     0.77083,     0.77067,     0.77052,\n",
      "            0.77036,     0.77021,     0.77005,      0.7699,     0.76974,     0.76959,     0.76943,     0.76928,     0.76874,     0.76804,     0.76734,     0.76789,     0.76966,     0.77144,     0.77322,     0.77496,     0.77659,     0.77823,     0.77987,      0.7815,     0.78647,      0.7965,     0.79945,\n",
      "            0.80112,     0.80279,     0.80445,     0.80612,     0.81308,     0.81668,     0.81947,     0.82226,     0.82112,     0.82224,     0.82335,     0.82447,     0.82558,      0.8267,     0.82781,     0.82893,     0.83097,     0.83609,     0.83867,     0.83857,     0.83848,     0.83839,      0.8383,\n",
      "            0.83821,     0.83812,     0.83803,     0.83794,     0.83784,     0.83775,     0.83766,     0.83757,     0.83748,     0.83739,      0.8373,     0.83721,     0.83711,     0.83702,      0.8361,     0.83631,     0.83791,     0.83952,     0.84112,     0.84273,     0.84433,     0.84418,      0.8439,\n",
      "            0.84361,     0.84333,     0.84304,     0.84276,     0.84246,     0.84215,     0.84184,     0.84154,     0.84123,     0.84092,     0.84062,     0.84031,        0.84,      0.8397,     0.83939,     0.83909,     0.83881,     0.83854,     0.83827,       0.838,     0.83773,     0.83746,     0.83666,\n",
      "            0.84521,       0.845,      0.8448,     0.84459,     0.84439,     0.84418,     0.84397,     0.84377,     0.84356,      0.8436,     0.84594,     0.84829,     0.85063,     0.85298,     0.85456,     0.85583,     0.85709,     0.85836,     0.85963,     0.86089,     0.86216,     0.86343,     0.86414,\n",
      "            0.86401,     0.86387,     0.86374,      0.8636,     0.86346,     0.86333,     0.86319,     0.86306,     0.86292,     0.86279,     0.86265,     0.86251,     0.86309,     0.86374,     0.86438,     0.86503,     0.86568,     0.86633,     0.86698,     0.86763,     0.86828,     0.86893,     0.86958,\n",
      "            0.87023,     0.87088,     0.87153,     0.87218,     0.87283,     0.87338,     0.87289,     0.87241,     0.87193,     0.87357,     0.87606,     0.87855,     0.88104,     0.88335,     0.88472,     0.88608,     0.88745,     0.88882,     0.89019,     0.89156,     0.89293,      0.8943,     0.89454,\n",
      "            0.89426,     0.89398,     0.89369,     0.89341,     0.89308,     0.89272,     0.89237,     0.89201,     0.89112,     0.88996,       0.889,     0.89067,     0.89234,     0.89401,     0.89568,     0.89735,     0.89902,     0.90069,     0.90124,     0.90095,     0.90067,     0.90038,     0.90009,\n",
      "            0.89801,     0.89705,     0.89698,      0.8969,     0.89683,     0.89675,     0.89667,      0.8966,     0.89652,     0.89644,     0.89637,     0.89629,     0.89621,     0.89614,     0.89606,     0.89599,     0.89591,     0.89583,     0.89576,     0.89568,      0.8956,     0.89553,      0.8954,\n",
      "            0.89528,     0.89515,     0.89502,     0.89489,     0.89477,     0.89464,     0.89451,     0.89438,     0.89425,     0.89413,       0.894,     0.89227,     0.89203,     0.89179,     0.89155,     0.89131,     0.89107,     0.89083,     0.89056,      0.8902,     0.88984,     0.88947,     0.88911,\n",
      "            0.89206,     0.90024,     0.90191,     0.90142,     0.90118,     0.90093,     0.90068,     0.90043,     0.90019,     0.89919,     0.89797,      0.8975,     0.89704,     0.89658,     0.89576,     0.89494,     0.89457,     0.89436,     0.89414,     0.89393,     0.89371,      0.8935,     0.89328,\n",
      "            0.89307,     0.89318,     0.90241,     0.90895,     0.90846,     0.90796,     0.90746,     0.90615,     0.90362,     0.90275,      0.9019,     0.90118,     0.90046,      0.8979,     0.89768,     0.89746,     0.89725,     0.89703,     0.89681,     0.89659,     0.89637,     0.89615,     0.89593,\n",
      "            0.89565,     0.89532,     0.89498,     0.89465,     0.89432,     0.89399,     0.89365,     0.89289,     0.89207,     0.89094,     0.88803,     0.88666,     0.88494,     0.88583,     0.89221,     0.89858,     0.90474,     0.90417,     0.90359,     0.90301,     0.90244,     0.90203,     0.90162,\n",
      "            0.90121,      0.9008,     0.90039,     0.89998,      0.8997,     0.89941,     0.89912,     0.89884,     0.89855,     0.89827,     0.89798,      0.8977,     0.89739,     0.89693,     0.89647,       0.896,     0.89554,     0.89507,     0.89432,     0.89279,     0.89175,     0.89142,     0.89108,\n",
      "            0.89074,      0.8904,     0.89006,     0.88972,     0.88938,     0.88905,     0.88832,     0.88726,      0.8862,     0.88551,     0.88515,     0.88478,     0.88441,     0.88404,     0.88367,      0.8833,     0.88294,     0.88257,     0.88104,     0.89106,     0.90583,     0.90517,     0.90452,\n",
      "            0.90387,     0.90319,     0.90173,     0.90026,     0.89844,     0.89655,     0.89611,     0.89566,     0.89522,     0.89477,     0.89433,     0.89388,     0.89344,       0.893,     0.89303,     0.89907,     0.90511,     0.91115,     0.91719,     0.92307,     0.92267,     0.92227,     0.92186,\n",
      "            0.92146,     0.92106,     0.92066,     0.92026,     0.91964,     0.91859,     0.91754,     0.91659,     0.91611,     0.91562,     0.91514,     0.91466,     0.91417,     0.91369,     0.91321,     0.91174,     0.90977,     0.90897,     0.90877,     0.90858,     0.90839,      0.9082,     0.90801,\n",
      "            0.90782,     0.90763,     0.90744,     0.90725,     0.90705,     0.90686,     0.90667,     0.90648,     0.90629,      0.9061,     0.90591,     0.90572,     0.90553,     0.90533,     0.90514,     0.90495,     0.90476,     0.90406,     0.90335,     0.90265,     0.90194,     0.90124,     0.90053,\n",
      "            0.89955,      0.8977,     0.89584,     0.88835,     0.88666,     0.88498,      0.8833,     0.92301,     0.93556,     0.93332,     0.93283,     0.93235,     0.93187,     0.93138,      0.9309,     0.93041,     0.92993,     0.92945,     0.92896,     0.92831,     0.92698,     0.92566,     0.92433,\n",
      "            0.92302,     0.92206,      0.9211,     0.92014,     0.91918,     0.91822,     0.91726,     0.91125,     0.91473,     0.92138,     0.92803,     0.93467,     0.94132,     0.94797,     0.95462,     0.96126,     0.96791,     0.97456,      0.9812,     0.98785,      0.9945,           1,           1,\n",
      "                  1,           1,           1,           1,           1,           1,           1,           1,           1,           1,           1,           1,           1,           1,           1,           1,           1,           1,           1,           1,           1,           1,           1,\n",
      "                  1,           1,           1,           1,           1,           1,           1,           1,           1,           1,           1,           1,           1,           1,           1,           1,           1,           1,           1,           1,           1,           1,           1,\n",
      "                  1,           1,           1,           1,           1,           1,           1,           1,           1,           1,           1,           1,           1,           1,           1,           1,           1,           1,           1,           1,           1,           1,           1,\n",
      "                  1,           1,           1,           1,           1,           1,           1,           1,           1,           1,           1,           1,           1,           1,           1,           1,           1,           1,           1,           1,           1,           1,           1,\n",
      "                  1,           1,           1,           1,           1,           1,           1,           1,           1,           1,           1,           1,           1,           1,           1,           1,           1,           1,           1,           1,           1,           1,           1,\n",
      "                  1,           1,           1,           1,           1,           1,           1,           1,           1,           1,           1,           1,           1,           1,           1,           1,           1,           1,           1,           1,           1,           1,           1,\n",
      "                  1,           1,           1,           1,           1,           1,           1,           1,           1,           1,           1,           1,           1,           1,           1,           1,           1,           1,           1,           1,           1,           1,           1,\n",
      "                  1,           1,           1,           1,           1,           1,           1,           1,           1,           1,           1,           1,           1,           1,           1,           1,           1,           1,           1,           1,           1,           1,           1,\n",
      "                  1,           1,           1,           1,           1,           1,           1,           1,           1,           1,           1,           1,           1,           1,           1,           1,           1,           1,           1,           1,           1,           1,           1,\n",
      "                  1,           1,           1,           1,           1,           1,           1,           1,           1,           1,           1]]), 'Confidence', 'Precision'], [array([          0,    0.001001,    0.002002,    0.003003,    0.004004,    0.005005,    0.006006,    0.007007,    0.008008,    0.009009,     0.01001,    0.011011,    0.012012,    0.013013,    0.014014,    0.015015,    0.016016,    0.017017,    0.018018,    0.019019,     0.02002,    0.021021,    0.022022,    0.023023,\n",
      "          0.024024,    0.025025,    0.026026,    0.027027,    0.028028,    0.029029,     0.03003,    0.031031,    0.032032,    0.033033,    0.034034,    0.035035,    0.036036,    0.037037,    0.038038,    0.039039,     0.04004,    0.041041,    0.042042,    0.043043,    0.044044,    0.045045,    0.046046,    0.047047,\n",
      "          0.048048,    0.049049,     0.05005,    0.051051,    0.052052,    0.053053,    0.054054,    0.055055,    0.056056,    0.057057,    0.058058,    0.059059,     0.06006,    0.061061,    0.062062,    0.063063,    0.064064,    0.065065,    0.066066,    0.067067,    0.068068,    0.069069,     0.07007,    0.071071,\n",
      "          0.072072,    0.073073,    0.074074,    0.075075,    0.076076,    0.077077,    0.078078,    0.079079,     0.08008,    0.081081,    0.082082,    0.083083,    0.084084,    0.085085,    0.086086,    0.087087,    0.088088,    0.089089,     0.09009,    0.091091,    0.092092,    0.093093,    0.094094,    0.095095,\n",
      "          0.096096,    0.097097,    0.098098,    0.099099,      0.1001,      0.1011,      0.1021,      0.1031,      0.1041,     0.10511,     0.10611,     0.10711,     0.10811,     0.10911,     0.11011,     0.11111,     0.11211,     0.11311,     0.11411,     0.11512,     0.11612,     0.11712,     0.11812,     0.11912,\n",
      "           0.12012,     0.12112,     0.12212,     0.12312,     0.12412,     0.12513,     0.12613,     0.12713,     0.12813,     0.12913,     0.13013,     0.13113,     0.13213,     0.13313,     0.13413,     0.13514,     0.13614,     0.13714,     0.13814,     0.13914,     0.14014,     0.14114,     0.14214,     0.14314,\n",
      "           0.14414,     0.14515,     0.14615,     0.14715,     0.14815,     0.14915,     0.15015,     0.15115,     0.15215,     0.15315,     0.15415,     0.15516,     0.15616,     0.15716,     0.15816,     0.15916,     0.16016,     0.16116,     0.16216,     0.16316,     0.16416,     0.16517,     0.16617,     0.16717,\n",
      "           0.16817,     0.16917,     0.17017,     0.17117,     0.17217,     0.17317,     0.17417,     0.17518,     0.17618,     0.17718,     0.17818,     0.17918,     0.18018,     0.18118,     0.18218,     0.18318,     0.18418,     0.18519,     0.18619,     0.18719,     0.18819,     0.18919,     0.19019,     0.19119,\n",
      "           0.19219,     0.19319,     0.19419,      0.1952,      0.1962,      0.1972,      0.1982,      0.1992,      0.2002,      0.2012,      0.2022,      0.2032,      0.2042,     0.20521,     0.20621,     0.20721,     0.20821,     0.20921,     0.21021,     0.21121,     0.21221,     0.21321,     0.21421,     0.21522,\n",
      "           0.21622,     0.21722,     0.21822,     0.21922,     0.22022,     0.22122,     0.22222,     0.22322,     0.22422,     0.22523,     0.22623,     0.22723,     0.22823,     0.22923,     0.23023,     0.23123,     0.23223,     0.23323,     0.23423,     0.23524,     0.23624,     0.23724,     0.23824,     0.23924,\n",
      "           0.24024,     0.24124,     0.24224,     0.24324,     0.24424,     0.24525,     0.24625,     0.24725,     0.24825,     0.24925,     0.25025,     0.25125,     0.25225,     0.25325,     0.25425,     0.25526,     0.25626,     0.25726,     0.25826,     0.25926,     0.26026,     0.26126,     0.26226,     0.26326,\n",
      "           0.26426,     0.26527,     0.26627,     0.26727,     0.26827,     0.26927,     0.27027,     0.27127,     0.27227,     0.27327,     0.27427,     0.27528,     0.27628,     0.27728,     0.27828,     0.27928,     0.28028,     0.28128,     0.28228,     0.28328,     0.28428,     0.28529,     0.28629,     0.28729,\n",
      "           0.28829,     0.28929,     0.29029,     0.29129,     0.29229,     0.29329,     0.29429,      0.2953,      0.2963,      0.2973,      0.2983,      0.2993,      0.3003,      0.3013,      0.3023,      0.3033,      0.3043,     0.30531,     0.30631,     0.30731,     0.30831,     0.30931,     0.31031,     0.31131,\n",
      "           0.31231,     0.31331,     0.31431,     0.31532,     0.31632,     0.31732,     0.31832,     0.31932,     0.32032,     0.32132,     0.32232,     0.32332,     0.32432,     0.32533,     0.32633,     0.32733,     0.32833,     0.32933,     0.33033,     0.33133,     0.33233,     0.33333,     0.33433,     0.33534,\n",
      "           0.33634,     0.33734,     0.33834,     0.33934,     0.34034,     0.34134,     0.34234,     0.34334,     0.34434,     0.34535,     0.34635,     0.34735,     0.34835,     0.34935,     0.35035,     0.35135,     0.35235,     0.35335,     0.35435,     0.35536,     0.35636,     0.35736,     0.35836,     0.35936,\n",
      "           0.36036,     0.36136,     0.36236,     0.36336,     0.36436,     0.36537,     0.36637,     0.36737,     0.36837,     0.36937,     0.37037,     0.37137,     0.37237,     0.37337,     0.37437,     0.37538,     0.37638,     0.37738,     0.37838,     0.37938,     0.38038,     0.38138,     0.38238,     0.38338,\n",
      "           0.38438,     0.38539,     0.38639,     0.38739,     0.38839,     0.38939,     0.39039,     0.39139,     0.39239,     0.39339,     0.39439,      0.3954,      0.3964,      0.3974,      0.3984,      0.3994,      0.4004,      0.4014,      0.4024,      0.4034,      0.4044,     0.40541,     0.40641,     0.40741,\n",
      "           0.40841,     0.40941,     0.41041,     0.41141,     0.41241,     0.41341,     0.41441,     0.41542,     0.41642,     0.41742,     0.41842,     0.41942,     0.42042,     0.42142,     0.42242,     0.42342,     0.42442,     0.42543,     0.42643,     0.42743,     0.42843,     0.42943,     0.43043,     0.43143,\n",
      "           0.43243,     0.43343,     0.43443,     0.43544,     0.43644,     0.43744,     0.43844,     0.43944,     0.44044,     0.44144,     0.44244,     0.44344,     0.44444,     0.44545,     0.44645,     0.44745,     0.44845,     0.44945,     0.45045,     0.45145,     0.45245,     0.45345,     0.45445,     0.45546,\n",
      "           0.45646,     0.45746,     0.45846,     0.45946,     0.46046,     0.46146,     0.46246,     0.46346,     0.46446,     0.46547,     0.46647,     0.46747,     0.46847,     0.46947,     0.47047,     0.47147,     0.47247,     0.47347,     0.47447,     0.47548,     0.47648,     0.47748,     0.47848,     0.47948,\n",
      "           0.48048,     0.48148,     0.48248,     0.48348,     0.48448,     0.48549,     0.48649,     0.48749,     0.48849,     0.48949,     0.49049,     0.49149,     0.49249,     0.49349,     0.49449,      0.4955,      0.4965,      0.4975,      0.4985,      0.4995,      0.5005,      0.5015,      0.5025,      0.5035,\n",
      "            0.5045,     0.50551,     0.50651,     0.50751,     0.50851,     0.50951,     0.51051,     0.51151,     0.51251,     0.51351,     0.51451,     0.51552,     0.51652,     0.51752,     0.51852,     0.51952,     0.52052,     0.52152,     0.52252,     0.52352,     0.52452,     0.52553,     0.52653,     0.52753,\n",
      "           0.52853,     0.52953,     0.53053,     0.53153,     0.53253,     0.53353,     0.53453,     0.53554,     0.53654,     0.53754,     0.53854,     0.53954,     0.54054,     0.54154,     0.54254,     0.54354,     0.54454,     0.54555,     0.54655,     0.54755,     0.54855,     0.54955,     0.55055,     0.55155,\n",
      "           0.55255,     0.55355,     0.55455,     0.55556,     0.55656,     0.55756,     0.55856,     0.55956,     0.56056,     0.56156,     0.56256,     0.56356,     0.56456,     0.56557,     0.56657,     0.56757,     0.56857,     0.56957,     0.57057,     0.57157,     0.57257,     0.57357,     0.57457,     0.57558,\n",
      "           0.57658,     0.57758,     0.57858,     0.57958,     0.58058,     0.58158,     0.58258,     0.58358,     0.58458,     0.58559,     0.58659,     0.58759,     0.58859,     0.58959,     0.59059,     0.59159,     0.59259,     0.59359,     0.59459,      0.5956,      0.5966,      0.5976,      0.5986,      0.5996,\n",
      "            0.6006,      0.6016,      0.6026,      0.6036,      0.6046,     0.60561,     0.60661,     0.60761,     0.60861,     0.60961,     0.61061,     0.61161,     0.61261,     0.61361,     0.61461,     0.61562,     0.61662,     0.61762,     0.61862,     0.61962,     0.62062,     0.62162,     0.62262,     0.62362,\n",
      "           0.62462,     0.62563,     0.62663,     0.62763,     0.62863,     0.62963,     0.63063,     0.63163,     0.63263,     0.63363,     0.63463,     0.63564,     0.63664,     0.63764,     0.63864,     0.63964,     0.64064,     0.64164,     0.64264,     0.64364,     0.64464,     0.64565,     0.64665,     0.64765,\n",
      "           0.64865,     0.64965,     0.65065,     0.65165,     0.65265,     0.65365,     0.65465,     0.65566,     0.65666,     0.65766,     0.65866,     0.65966,     0.66066,     0.66166,     0.66266,     0.66366,     0.66466,     0.66567,     0.66667,     0.66767,     0.66867,     0.66967,     0.67067,     0.67167,\n",
      "           0.67267,     0.67367,     0.67467,     0.67568,     0.67668,     0.67768,     0.67868,     0.67968,     0.68068,     0.68168,     0.68268,     0.68368,     0.68468,     0.68569,     0.68669,     0.68769,     0.68869,     0.68969,     0.69069,     0.69169,     0.69269,     0.69369,     0.69469,      0.6957,\n",
      "            0.6967,      0.6977,      0.6987,      0.6997,      0.7007,      0.7017,      0.7027,      0.7037,      0.7047,     0.70571,     0.70671,     0.70771,     0.70871,     0.70971,     0.71071,     0.71171,     0.71271,     0.71371,     0.71471,     0.71572,     0.71672,     0.71772,     0.71872,     0.71972,\n",
      "           0.72072,     0.72172,     0.72272,     0.72372,     0.72472,     0.72573,     0.72673,     0.72773,     0.72873,     0.72973,     0.73073,     0.73173,     0.73273,     0.73373,     0.73473,     0.73574,     0.73674,     0.73774,     0.73874,     0.73974,     0.74074,     0.74174,     0.74274,     0.74374,\n",
      "           0.74474,     0.74575,     0.74675,     0.74775,     0.74875,     0.74975,     0.75075,     0.75175,     0.75275,     0.75375,     0.75475,     0.75576,     0.75676,     0.75776,     0.75876,     0.75976,     0.76076,     0.76176,     0.76276,     0.76376,     0.76476,     0.76577,     0.76677,     0.76777,\n",
      "           0.76877,     0.76977,     0.77077,     0.77177,     0.77277,     0.77377,     0.77477,     0.77578,     0.77678,     0.77778,     0.77878,     0.77978,     0.78078,     0.78178,     0.78278,     0.78378,     0.78478,     0.78579,     0.78679,     0.78779,     0.78879,     0.78979,     0.79079,     0.79179,\n",
      "           0.79279,     0.79379,     0.79479,      0.7958,      0.7968,      0.7978,      0.7988,      0.7998,      0.8008,      0.8018,      0.8028,      0.8038,      0.8048,     0.80581,     0.80681,     0.80781,     0.80881,     0.80981,     0.81081,     0.81181,     0.81281,     0.81381,     0.81481,     0.81582,\n",
      "           0.81682,     0.81782,     0.81882,     0.81982,     0.82082,     0.82182,     0.82282,     0.82382,     0.82482,     0.82583,     0.82683,     0.82783,     0.82883,     0.82983,     0.83083,     0.83183,     0.83283,     0.83383,     0.83483,     0.83584,     0.83684,     0.83784,     0.83884,     0.83984,\n",
      "           0.84084,     0.84184,     0.84284,     0.84384,     0.84484,     0.84585,     0.84685,     0.84785,     0.84885,     0.84985,     0.85085,     0.85185,     0.85285,     0.85385,     0.85485,     0.85586,     0.85686,     0.85786,     0.85886,     0.85986,     0.86086,     0.86186,     0.86286,     0.86386,\n",
      "           0.86486,     0.86587,     0.86687,     0.86787,     0.86887,     0.86987,     0.87087,     0.87187,     0.87287,     0.87387,     0.87487,     0.87588,     0.87688,     0.87788,     0.87888,     0.87988,     0.88088,     0.88188,     0.88288,     0.88388,     0.88488,     0.88589,     0.88689,     0.88789,\n",
      "           0.88889,     0.88989,     0.89089,     0.89189,     0.89289,     0.89389,     0.89489,      0.8959,      0.8969,      0.8979,      0.8989,      0.8999,      0.9009,      0.9019,      0.9029,      0.9039,      0.9049,     0.90591,     0.90691,     0.90791,     0.90891,     0.90991,     0.91091,     0.91191,\n",
      "           0.91291,     0.91391,     0.91491,     0.91592,     0.91692,     0.91792,     0.91892,     0.91992,     0.92092,     0.92192,     0.92292,     0.92392,     0.92492,     0.92593,     0.92693,     0.92793,     0.92893,     0.92993,     0.93093,     0.93193,     0.93293,     0.93393,     0.93493,     0.93594,\n",
      "           0.93694,     0.93794,     0.93894,     0.93994,     0.94094,     0.94194,     0.94294,     0.94394,     0.94494,     0.94595,     0.94695,     0.94795,     0.94895,     0.94995,     0.95095,     0.95195,     0.95295,     0.95395,     0.95495,     0.95596,     0.95696,     0.95796,     0.95896,     0.95996,\n",
      "           0.96096,     0.96196,     0.96296,     0.96396,     0.96496,     0.96597,     0.96697,     0.96797,     0.96897,     0.96997,     0.97097,     0.97197,     0.97297,     0.97397,     0.97497,     0.97598,     0.97698,     0.97798,     0.97898,     0.97998,     0.98098,     0.98198,     0.98298,     0.98398,\n",
      "           0.98498,     0.98599,     0.98699,     0.98799,     0.98899,     0.98999,     0.99099,     0.99199,     0.99299,     0.99399,     0.99499,       0.996,       0.997,       0.998,       0.999,           1]), array([[    0.97143,     0.97143,     0.97143,     0.97143,     0.97143,     0.97143,     0.97143,     0.97143,     0.97143,     0.97143,      0.9619,     0.95238,     0.94286,     0.94286,     0.94286,     0.94286,     0.94286,     0.93333,     0.93333,     0.93333,     0.93333,     0.93333,     0.93333,\n",
      "            0.91429,     0.90476,     0.89524,     0.88605,     0.88571,     0.88571,     0.88571,     0.87619,     0.87619,     0.87619,     0.87619,     0.87619,     0.87619,     0.87619,     0.87619,     0.87619,     0.87619,     0.87619,     0.87619,     0.87619,     0.87619,     0.87619,     0.87619,\n",
      "            0.87619,     0.87619,     0.87619,     0.87619,     0.87619,     0.87619,     0.87619,     0.86667,     0.86667,     0.86667,     0.86667,     0.86667,     0.86667,     0.86667,     0.86667,     0.86667,     0.86667,     0.86667,     0.86667,     0.86667,     0.86667,     0.86667,     0.86667,\n",
      "            0.86667,     0.86667,     0.86667,     0.85729,     0.85714,     0.85714,     0.85714,     0.85714,     0.85714,     0.85714,     0.85714,     0.85714,     0.85714,     0.85714,     0.85714,     0.85714,     0.85714,     0.85714,     0.85714,     0.85714,     0.85714,     0.85714,     0.85714,\n",
      "            0.85714,     0.85714,     0.85714,     0.85714,     0.85714,     0.85714,     0.85714,     0.85714,     0.85714,     0.85714,     0.85714,     0.85714,     0.85714,     0.85714,     0.85714,     0.85714,     0.85714,     0.85714,     0.85714,     0.85714,     0.85714,     0.85714,     0.85714,\n",
      "            0.85714,     0.85714,     0.85714,     0.85714,     0.85714,     0.85714,     0.85714,     0.85714,     0.85714,     0.85714,     0.85714,     0.85714,     0.85714,     0.85714,     0.85714,     0.85714,     0.85714,     0.85714,     0.85714,     0.85714,     0.85714,     0.85714,     0.85714,\n",
      "            0.85714,     0.85714,     0.85714,     0.84762,     0.84762,     0.84762,     0.84762,     0.84762,     0.84762,     0.84762,     0.84762,     0.84762,     0.84762,     0.84762,     0.84762,     0.84762,     0.84762,     0.84762,     0.84762,     0.84762,     0.84762,     0.84762,     0.84762,\n",
      "            0.84762,     0.84762,     0.84762,     0.84762,     0.84762,     0.84762,     0.84762,     0.84762,     0.84762,     0.84762,     0.84762,     0.84762,     0.84762,     0.84762,     0.84762,     0.84677,     0.84034,     0.83535,     0.83112,     0.82857,     0.82857,     0.82857,     0.82857,\n",
      "            0.82857,     0.82857,     0.82857,     0.82857,     0.82857,     0.82857,     0.82857,     0.82857,     0.82857,     0.82857,     0.82857,     0.82857,     0.82857,     0.82857,     0.82857,     0.82857,     0.82857,     0.82857,     0.82857,     0.82857,     0.82857,     0.82857,     0.82857,\n",
      "            0.82857,     0.82857,     0.82857,     0.82857,     0.82857,     0.82857,     0.82857,     0.82857,     0.82857,     0.82857,     0.82857,     0.82857,     0.82857,     0.82857,     0.82857,     0.82857,     0.82857,     0.82857,     0.82311,     0.81905,     0.81905,     0.81905,     0.81905,\n",
      "            0.81905,     0.81905,     0.81905,     0.81905,     0.81905,     0.81905,     0.81905,     0.81905,     0.81905,     0.81905,     0.81905,     0.81905,     0.81905,     0.81905,     0.81905,     0.81905,     0.81905,     0.81905,     0.81905,     0.81905,     0.81905,     0.81905,     0.81905,\n",
      "            0.81905,     0.81905,     0.81905,     0.81905,     0.81905,     0.81905,     0.81804,     0.81666,     0.81529,     0.81391,     0.81253,     0.81115,     0.80978,     0.80952,     0.80952,     0.80952,     0.80952,     0.80952,     0.80952,     0.80952,     0.80952,     0.80952,     0.80952,\n",
      "            0.80952,     0.80952,     0.80952,     0.80952,     0.80952,     0.80952,     0.80952,     0.80952,     0.80553,         0.8,         0.8,         0.8,         0.8,         0.8,         0.8,         0.8,         0.8,     0.79863,     0.79618,     0.79373,     0.79129,     0.78095,     0.78095,\n",
      "            0.78039,     0.77846,     0.77653,      0.7746,     0.77266,     0.77143,     0.77143,     0.77143,     0.77143,     0.77143,     0.77143,     0.77143,     0.77143,     0.77143,     0.77143,     0.77143,     0.77143,     0.77085,     0.77018,     0.76951,     0.76883,     0.76816,     0.76749,\n",
      "            0.76682,     0.76614,     0.76547,      0.7648,     0.76413,     0.76345,     0.76278,     0.76211,     0.75983,     0.75684,     0.75386,     0.75238,     0.75238,     0.75238,     0.75238,     0.75238,     0.75238,     0.75238,     0.75238,     0.75238,     0.75238,     0.75238,     0.75238,\n",
      "            0.75238,     0.75238,     0.75238,     0.75238,     0.75238,     0.75238,     0.75238,     0.75238,     0.74286,     0.74286,     0.74286,     0.74286,     0.74286,     0.74286,     0.74286,     0.74286,     0.74286,     0.74286,     0.74261,     0.74212,     0.74162,     0.74113,     0.74063,\n",
      "            0.74014,     0.73964,     0.73915,     0.73865,     0.73816,     0.73766,     0.73717,     0.73667,     0.73617,     0.73568,     0.73518,     0.73469,     0.73419,      0.7337,     0.72879,     0.72381,     0.72381,     0.72381,     0.72381,     0.72381,     0.72381,     0.72237,     0.72082,\n",
      "            0.71928,     0.71773,     0.71618,     0.71463,     0.71302,     0.71138,     0.70974,     0.70811,     0.70647,     0.70484,     0.70324,     0.70165,     0.70005,     0.69846,     0.69686,     0.69527,     0.69388,      0.6925,     0.69113,     0.68975,     0.68837,     0.68699,     0.68298,\n",
      "            0.67605,       0.675,     0.67394,     0.67289,     0.67183,     0.67078,     0.66973,     0.66867,     0.66762,     0.66667,     0.66667,     0.66667,     0.66667,     0.66667,     0.66667,     0.66667,     0.66667,     0.66667,     0.66667,     0.66667,     0.66667,     0.66667,     0.66637,\n",
      "            0.66561,     0.66484,     0.66408,     0.66332,     0.66256,     0.66179,     0.66103,     0.66027,     0.65951,     0.65874,     0.65798,     0.65722,     0.65714,     0.65714,     0.65714,     0.65714,     0.65714,     0.65714,     0.65714,     0.65714,     0.65714,     0.65714,     0.65714,\n",
      "            0.65714,     0.65714,     0.65714,     0.65714,     0.65714,     0.65689,     0.65407,     0.65125,     0.64843,     0.64762,     0.64762,     0.64762,     0.64762,     0.64762,     0.64762,     0.64762,     0.64762,     0.64762,     0.64762,     0.64762,     0.64762,     0.64762,     0.64631,\n",
      "            0.64439,     0.64247,     0.64054,     0.63862,     0.63639,     0.63405,     0.63172,     0.62938,     0.62361,     0.61621,     0.60952,     0.60952,     0.60952,     0.60952,     0.60952,     0.60952,     0.60952,     0.60952,     0.60841,     0.60645,      0.6045,     0.60254,     0.60059,\n",
      "            0.58702,     0.58092,     0.58045,     0.57998,      0.5795,     0.57903,     0.57856,     0.57808,     0.57761,     0.57714,     0.57666,     0.57619,     0.57572,     0.57525,     0.57477,      0.5743,     0.57383,     0.57335,     0.57288,     0.57241,     0.57193,     0.57146,     0.57071,\n",
      "            0.56994,     0.56918,     0.56841,     0.56764,     0.56687,     0.56611,     0.56534,     0.56457,      0.5638,     0.56304,     0.56227,     0.55215,     0.55079,     0.54943,     0.54807,     0.54671,     0.54535,     0.54399,     0.54252,     0.54053,     0.53854,     0.53655,     0.53455,\n",
      "            0.53333,     0.53333,     0.52541,     0.52256,     0.52112,     0.51968,     0.51824,      0.5168,     0.51536,     0.50974,     0.50293,     0.50041,     0.49789,     0.49536,     0.49111,     0.48676,     0.48488,     0.48379,      0.4827,     0.48161,     0.48052,     0.47943,     0.47834,\n",
      "            0.47724,     0.47619,     0.47619,     0.47541,      0.4726,     0.46978,     0.46697,     0.45982,     0.44646,      0.4421,     0.43781,     0.43431,      0.4308,     0.41879,     0.41781,     0.41683,     0.41585,     0.41487,     0.41389,     0.41291,     0.41193,     0.41094,     0.40996,\n",
      "            0.40874,     0.40731,     0.40588,     0.40445,     0.40302,     0.40159,     0.40016,       0.397,     0.39363,     0.38904,     0.37771,     0.37254,     0.36629,      0.3619,      0.3619,      0.3619,     0.36183,     0.35947,      0.3571,     0.35474,     0.35238,     0.35078,     0.34917,\n",
      "            0.34757,     0.34597,     0.34436,     0.34279,     0.34173,     0.34067,     0.33961,     0.33855,     0.33748,     0.33642,     0.33536,      0.3343,     0.33318,     0.33155,     0.32991,     0.32827,     0.32663,       0.325,      0.3224,      0.3173,     0.31385,     0.31277,      0.3117,\n",
      "            0.31063,     0.30955,     0.30848,     0.30741,     0.30633,     0.30526,     0.30306,     0.29987,     0.29669,     0.29467,     0.29363,     0.29258,     0.29154,      0.2905,     0.28945,     0.28841,     0.28737,     0.28632,     0.28221,     0.27619,     0.27486,      0.2728,     0.27074,\n",
      "            0.26868,     0.26658,     0.26224,      0.2579,     0.25283,     0.24761,     0.24647,     0.24532,     0.24418,     0.24303,     0.24189,     0.24074,      0.2396,     0.23845,     0.22857,     0.22857,     0.22857,     0.22857,     0.22857,     0.22854,      0.2273,     0.22606,     0.22482,\n",
      "            0.22358,     0.22234,      0.2211,     0.21986,     0.21801,     0.21502,     0.21203,     0.20932,     0.20805,     0.20678,     0.20551,     0.20424,     0.20297,      0.2017,     0.20043,     0.19687,     0.19211,      0.1902,     0.18978,     0.18936,     0.18894,     0.18852,      0.1881,\n",
      "            0.18768,     0.18726,     0.18684,     0.18642,       0.186,     0.18558,     0.18516,     0.18474,     0.18432,     0.18389,     0.18347,     0.18305,     0.18263,     0.18221,     0.18179,     0.18137,     0.18095,     0.17954,     0.17813,     0.17672,     0.17532,     0.17391,      0.1725,\n",
      "            0.17062,     0.16726,      0.1639,     0.15159,     0.14914,     0.14669,     0.14424,     0.14286,     0.13842,      0.1333,     0.13233,     0.13137,      0.1304,     0.12943,     0.12846,     0.12749,     0.12653,     0.12556,     0.12459,     0.12336,     0.12106,     0.11876,     0.11646,\n",
      "             0.1142,     0.11278,     0.11135,     0.10993,      0.1085,     0.10707,     0.10565,    0.097955,    0.095238,    0.095238,    0.095238,    0.095238,    0.095238,    0.095238,    0.095238,    0.095238,    0.095238,    0.095238,    0.095238,    0.095238,    0.095238,    0.095107,    0.094346,\n",
      "           0.093586,    0.092825,    0.092064,    0.091304,    0.090543,    0.089783,    0.089022,    0.088261,    0.087501,     0.08674,     0.08598,    0.084942,    0.083757,    0.082572,    0.081386,    0.080201,    0.079015,     0.07783,    0.076644,    0.066941,    0.066404,    0.066136,    0.065868,\n",
      "           0.065601,    0.065333,    0.065065,    0.064797,     0.06453,    0.064262,    0.063994,    0.063726,    0.063459,    0.063191,    0.062923,    0.062655,    0.062388,     0.06212,    0.061852,    0.061584,    0.061317,    0.061049,    0.060781,    0.060513,    0.060246,    0.059978,     0.05971,\n",
      "           0.059442,    0.059175,    0.058907,    0.058639,    0.058371,    0.058104,    0.057836,    0.057568,      0.0573,     0.05546,    0.051368,     0.04757,    0.046978,    0.046387,    0.045796,    0.045205,    0.044614,    0.044023,    0.043432,     0.04284,    0.042249,    0.041658,    0.041067,\n",
      "           0.040476,    0.039885,    0.039294,    0.038702,    0.038111,    0.035913,    0.033671,    0.031429,    0.029186,    0.028281,    0.027882,    0.027482,    0.027083,    0.026683,    0.026284,    0.025884,    0.025485,    0.025085,    0.024686,    0.024286,    0.023887,    0.023487,    0.023087,\n",
      "           0.022688,    0.022288,    0.021889,    0.021489,     0.02109,     0.02069,    0.020291,    0.019891,    0.019492,    0.019092,    0.018799,    0.018519,    0.018239,    0.017959,    0.017678,    0.017398,    0.017118,    0.016838,    0.016558,    0.016278,    0.015998,    0.015718,    0.015438,\n",
      "           0.015158,    0.014878,    0.014598,    0.014318,    0.014037,    0.013757,    0.013477,    0.013197,    0.012917,    0.012637,    0.012357,    0.012077,    0.011797,    0.011517,    0.011237,    0.010957,    0.010677,    0.010397,    0.010116,   0.0098364,   0.0095563,           0,           0,\n",
      "                  0,           0,           0,           0,           0,           0,           0,           0,           0,           0,           0,           0,           0,           0,           0,           0,           0,           0,           0,           0,           0,           0,           0,\n",
      "                  0,           0,           0,           0,           0,           0,           0,           0,           0,           0,           0,           0,           0,           0,           0,           0,           0,           0,           0,           0,           0,           0,           0,\n",
      "                  0,           0,           0,           0,           0,           0,           0,           0,           0,           0,           0,           0,           0,           0,           0,           0,           0,           0,           0,           0,           0,           0,           0,\n",
      "                  0,           0,           0,           0,           0,           0,           0,           0,           0,           0,           0]]), 'Confidence', 'Recall']]\n",
      "fitness: 0.49288856536513903\n",
      "keys: ['metrics/precision(B)', 'metrics/recall(B)', 'metrics/mAP50(B)', 'metrics/mAP50-95(B)']\n",
      "maps: array([    0.45921])\n",
      "names: {0: 'Pulmonary nodules'}\n",
      "plot: True\n",
      "results_dict: {'metrics/precision(B)': 0.813084653264459, 'metrics/recall(B)': 0.7523809523809524, 'metrics/mAP50(B)': 0.7959907203681527, 'metrics/mAP50-95(B)': 0.45921054814258194, 'fitness': 0.49288856536513903}\n",
      "save_dir: WindowsPath('runs/detect/train1316')\n",
      "speed: {'preprocess': 1.2474991026378812, 'inference': 13.818947474161785, 'loss': 0.04757699512300037, 'postprocess': 4.247570037841797}\n",
      "task: 'detect'\n"
     ]
    }
   ],
   "source": [
    "val_results = model.val()\n",
    "train_results = model.val(data=\"yolov9/dataset.yaml\", split='train')\n",
    "test_results = model.val(data=\"yolov9/dataset.yaml\", split='test')\n",
    "\n",
    "print(\"Validation Results:\", val_results)\n",
    "print(\"Train Results:\", train_results)\n",
    "print(\"Test Results:\", test_results)"
   ]
  }
 ],
 "metadata": {
  "kernelspec": {
   "display_name": "pytorch2",
   "language": "python",
   "name": "python3"
  },
  "language_info": {
   "codemirror_mode": {
    "name": "ipython",
    "version": 3
   },
   "file_extension": ".py",
   "mimetype": "text/x-python",
   "name": "python",
   "nbconvert_exporter": "python",
   "pygments_lexer": "ipython3",
   "version": "3.12.4"
  }
 },
 "nbformat": 4,
 "nbformat_minor": 2
}
