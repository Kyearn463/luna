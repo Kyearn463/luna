{
 "cells": [
  {
   "cell_type": "code",
   "execution_count": 5,
   "metadata": {},
   "outputs": [],
   "source": [
    "import cv2\n",
    "import torch\n",
    "import numpy as np\n",
    "from ultralytics import YOLO\n",
    "from sklearn.metrics import confusion_matrix, ConfusionMatrixDisplay\n",
    "import matplotlib.pyplot as plt\n",
    "import albumentations"
   ]
  },
  {
   "cell_type": "code",
   "execution_count": 6,
   "metadata": {},
   "outputs": [
    {
     "name": "stdout",
     "output_type": "stream",
     "text": [
      "CUDA available: True\n",
      "Number of GPUs: 1\n"
     ]
    }
   ],
   "source": [
    "# 確認 GPU 狀態\n",
    "print(\"CUDA available:\", torch.cuda.is_available())\n",
    "print(\"Number of GPUs:\", torch.cuda.device_count())\n"
   ]
  },
  {
   "cell_type": "code",
   "execution_count": 7,
   "metadata": {},
   "outputs": [
    {
     "name": "stdout",
     "output_type": "stream",
     "text": [
      "YOLO11l summary: 631 layers, 25,372,160 parameters, 0 gradients, 87.6 GFLOPs\n"
     ]
    },
    {
     "data": {
      "text/plain": [
       "(631, 25372160, 0, 87.6134912)"
      ]
     },
     "execution_count": 7,
     "metadata": {},
     "output_type": "execute_result"
    }
   ],
   "source": [
    "# Step 3: 建立或載入 YOLO 模型\n",
    "# --------------------------\n",
    "model = YOLO(\"yolov11/yolo11l.pt\")  # 載入預訓練權重\n",
    "model.info()\n"
   ]
  },
  {
   "cell_type": "code",
   "execution_count": 8,
   "metadata": {},
   "outputs": [
    {
     "name": "stdout",
     "output_type": "stream",
     "text": [
      "New https://pypi.org/project/ultralytics/8.3.55 available  Update with 'pip install -U ultralytics'\n",
      "Ultralytics 8.3.25  Python-3.12.4 torch-2.5.1+cu121 CUDA:0 (NVIDIA GeForce GTX 1080 Ti, 11264MiB)\n",
      "\u001b[34m\u001b[1mengine\\trainer: \u001b[0mtask=detect, mode=train, model=yolov11/yolo11l.pt, data=yolov9/dataset.yaml, epochs=300, time=None, patience=100, batch=16, imgsz=640, save=True, save_period=-1, cache=False, device=None, workers=8, project=None, name=train14, exist_ok=False, pretrained=True, optimizer=SGD, verbose=True, seed=0, deterministic=True, single_cls=False, rect=False, cos_lr=False, close_mosaic=10, resume=False, amp=True, fraction=1.0, profile=False, freeze=None, multi_scale=False, overlap_mask=True, mask_ratio=4, dropout=0.0, val=True, split=val, save_json=False, save_hybrid=False, conf=None, iou=0.7, max_det=300, half=False, dnn=False, plots=True, source=None, vid_stride=1, stream_buffer=False, visualize=False, augment=False, agnostic_nms=False, classes=None, retina_masks=False, embed=None, show=False, save_frames=False, save_txt=False, save_conf=False, save_crop=False, show_labels=True, show_conf=True, show_boxes=True, line_width=None, format=torchscript, keras=False, optimize=False, int8=False, dynamic=False, simplify=True, opset=None, workspace=4, nms=False, lr0=0.01, lrf=0.01, momentum=0.937, weight_decay=0.0005, warmup_epochs=3.0, warmup_momentum=0.8, warmup_bias_lr=0.1, box=7.5, cls=0.5, dfl=1.5, pose=12.0, kobj=1.0, label_smoothing=0.0, nbs=64, hsv_h=0.015, hsv_s=0.7, hsv_v=0.4, degrees=0.0, translate=0.1, scale=0.5, shear=0.0, perspective=0.0, flipud=0.0, fliplr=0.5, bgr=0.0, mosaic=1.0, mixup=0.0, copy_paste=0.0, copy_paste_mode=flip, auto_augment=randaugment, erasing=0.4, crop_fraction=1.0, cfg=None, tracker=botsort.yaml, save_dir=runs\\detect\\train14\n",
      "Overriding model.yaml nc=80 with nc=1\n",
      "\n",
      "                   from  n    params  module                                       arguments                     \n",
      "  0                  -1  1      1856  ultralytics.nn.modules.conv.Conv             [3, 64, 3, 2]                 \n",
      "  1                  -1  1     73984  ultralytics.nn.modules.conv.Conv             [64, 128, 3, 2]               \n",
      "  2                  -1  2    173824  ultralytics.nn.modules.block.C3k2            [128, 256, 2, True, 0.25]     \n",
      "  3                  -1  1    590336  ultralytics.nn.modules.conv.Conv             [256, 256, 3, 2]              \n",
      "  4                  -1  2    691712  ultralytics.nn.modules.block.C3k2            [256, 512, 2, True, 0.25]     \n",
      "  5                  -1  1   2360320  ultralytics.nn.modules.conv.Conv             [512, 512, 3, 2]              \n",
      "  6                  -1  2   2234368  ultralytics.nn.modules.block.C3k2            [512, 512, 2, True]           \n",
      "  7                  -1  1   2360320  ultralytics.nn.modules.conv.Conv             [512, 512, 3, 2]              \n",
      "  8                  -1  2   2234368  ultralytics.nn.modules.block.C3k2            [512, 512, 2, True]           \n",
      "  9                  -1  1    656896  ultralytics.nn.modules.block.SPPF            [512, 512, 5]                 \n",
      " 10                  -1  2   1455616  ultralytics.nn.modules.block.C2PSA           [512, 512, 2]                 \n",
      " 11                  -1  1         0  torch.nn.modules.upsampling.Upsample         [None, 2, 'nearest']          \n",
      " 12             [-1, 6]  1         0  ultralytics.nn.modules.conv.Concat           [1]                           \n",
      " 13                  -1  2   2496512  ultralytics.nn.modules.block.C3k2            [1024, 512, 2, True]          \n",
      " 14                  -1  1         0  torch.nn.modules.upsampling.Upsample         [None, 2, 'nearest']          \n",
      " 15             [-1, 4]  1         0  ultralytics.nn.modules.conv.Concat           [1]                           \n",
      " 16                  -1  2    756736  ultralytics.nn.modules.block.C3k2            [1024, 256, 2, True]          \n",
      " 17                  -1  1    590336  ultralytics.nn.modules.conv.Conv             [256, 256, 3, 2]              \n",
      " 18            [-1, 13]  1         0  ultralytics.nn.modules.conv.Concat           [1]                           \n",
      " 19                  -1  2   2365440  ultralytics.nn.modules.block.C3k2            [768, 512, 2, True]           \n",
      " 20                  -1  1   2360320  ultralytics.nn.modules.conv.Conv             [512, 512, 3, 2]              \n",
      " 21            [-1, 10]  1         0  ultralytics.nn.modules.conv.Concat           [1]                           \n",
      " 22                  -1  2   2496512  ultralytics.nn.modules.block.C3k2            [1024, 512, 2, True]          \n",
      " 23        [16, 19, 22]  1   1411795  ultralytics.nn.modules.head.Detect           [1, [256, 512, 512]]          \n",
      "YOLO11l summary: 631 layers, 25,311,251 parameters, 25,311,235 gradients, 87.3 GFLOPs\n",
      "\n",
      "Transferred 1009/1015 items from pretrained weights\n",
      "\u001b[34m\u001b[1mTensorBoard: \u001b[0mStart with 'tensorboard --logdir runs\\detect\\train14', view at http://localhost:6006/\n",
      "Freezing layer 'model.23.dfl.conv.weight'\n",
      "\u001b[34m\u001b[1mAMP: \u001b[0mrunning Automatic Mixed Precision (AMP) checks...\n",
      "\u001b[34m\u001b[1mAMP: \u001b[0mchecks passed \n"
     ]
    },
    {
     "name": "stderr",
     "output_type": "stream",
     "text": [
      "\u001b[34m\u001b[1mtrain: \u001b[0mScanning D:\\luna\\luna_dataset\\train.cache... 963 images, 0 backgrounds, 0 corrupt: 100%|██████████| 963/963 [00:00<?, ?it/s]"
     ]
    },
    {
     "name": "stdout",
     "output_type": "stream",
     "text": [
      "\u001b[34m\u001b[1malbumentations: \u001b[0mBlur(p=0.01, blur_limit=(3, 7)), MedianBlur(p=0.01, blur_limit=(3, 7)), ToGray(p=0.01), CLAHE(p=0.01, clip_limit=(1, 4.0), tile_grid_size=(8, 8))\n"
     ]
    },
    {
     "name": "stderr",
     "output_type": "stream",
     "text": [
      "\n",
      "\u001b[34m\u001b[1mval: \u001b[0mScanning D:\\luna\\luna_dataset\\val.cache... 118 images, 0 backgrounds, 0 corrupt: 100%|██████████| 118/118 [00:00<?, ?it/s]\n"
     ]
    },
    {
     "name": "stdout",
     "output_type": "stream",
     "text": [
      "Plotting labels to runs\\detect\\train14\\labels.jpg... \n",
      "\u001b[34m\u001b[1moptimizer:\u001b[0m SGD(lr=0.01, momentum=0.937) with parameter groups 167 weight(decay=0.0), 174 weight(decay=0.0005), 173 bias(decay=0.0)\n",
      "\u001b[34m\u001b[1mTensorBoard: \u001b[0mmodel graph visualization added \n",
      "Image sizes 640 train, 640 val\n",
      "Using 8 dataloader workers\n",
      "Logging results to \u001b[1mruns\\detect\\train14\u001b[0m\n",
      "Starting training for 300 epochs...\n",
      "\n",
      "      Epoch    GPU_mem   box_loss   cls_loss   dfl_loss  Instances       Size\n"
     ]
    },
    {
     "name": "stderr",
     "output_type": "stream",
     "text": [
      "      1/300      11.1G      2.257      5.532      1.103          3        640: 100%|██████████| 61/61 [16:21<00:00, 16.10s/it]\n",
      "                 Class     Images  Instances      Box(P          R      mAP50  mAP50-95): 100%|██████████| 4/4 [01:18<00:00, 19.69s/it]"
     ]
    },
    {
     "name": "stdout",
     "output_type": "stream",
     "text": [
      "                   all        118        118        0.2      0.339      0.163     0.0753\n"
     ]
    },
    {
     "name": "stderr",
     "output_type": "stream",
     "text": [
      "\n"
     ]
    },
    {
     "name": "stdout",
     "output_type": "stream",
     "text": [
      "\n",
      "      Epoch    GPU_mem   box_loss   cls_loss   dfl_loss  Instances       Size\n"
     ]
    },
    {
     "name": "stderr",
     "output_type": "stream",
     "text": [
      "      2/300        11G      2.096      2.867     0.9987          5        640: 100%|██████████| 61/61 [12:00<00:00, 11.82s/it]\n",
      "                 Class     Images  Instances      Box(P          R      mAP50  mAP50-95): 100%|██████████| 4/4 [00:45<00:00, 11.49s/it]"
     ]
    },
    {
     "name": "stdout",
     "output_type": "stream",
     "text": [
      "                   all        118        118      0.538      0.394      0.408      0.161\n"
     ]
    },
    {
     "name": "stderr",
     "output_type": "stream",
     "text": [
      "\n"
     ]
    },
    {
     "name": "stdout",
     "output_type": "stream",
     "text": [
      "\n",
      "      Epoch    GPU_mem   box_loss   cls_loss   dfl_loss  Instances       Size\n"
     ]
    },
    {
     "name": "stderr",
     "output_type": "stream",
     "text": [
      "      3/300      11.2G      2.286      2.683      1.038          6        640: 100%|██████████| 61/61 [07:39<00:00,  7.54s/it]\n",
      "                 Class     Images  Instances      Box(P          R      mAP50  mAP50-95): 100%|██████████| 4/4 [00:20<00:00,  5.07s/it]"
     ]
    },
    {
     "name": "stdout",
     "output_type": "stream",
     "text": [
      "                   all        118        118      0.519      0.212      0.246      0.107\n"
     ]
    },
    {
     "name": "stderr",
     "output_type": "stream",
     "text": [
      "\n"
     ]
    },
    {
     "name": "stdout",
     "output_type": "stream",
     "text": [
      "\n",
      "      Epoch    GPU_mem   box_loss   cls_loss   dfl_loss  Instances       Size\n"
     ]
    },
    {
     "name": "stderr",
     "output_type": "stream",
     "text": [
      "      4/300      11.1G       2.43       2.54      1.077          5        640: 100%|██████████| 61/61 [09:55<00:00,  9.77s/it]\n",
      "                 Class     Images  Instances      Box(P          R      mAP50  mAP50-95): 100%|██████████| 4/4 [01:06<00:00, 16.70s/it]"
     ]
    },
    {
     "name": "stdout",
     "output_type": "stream",
     "text": [
      "                   all        118        118       0.26      0.381      0.273      0.085\n"
     ]
    },
    {
     "name": "stderr",
     "output_type": "stream",
     "text": [
      "\n"
     ]
    },
    {
     "name": "stdout",
     "output_type": "stream",
     "text": [
      "\n",
      "      Epoch    GPU_mem   box_loss   cls_loss   dfl_loss  Instances       Size\n"
     ]
    },
    {
     "name": "stderr",
     "output_type": "stream",
     "text": [
      "      5/300      11.1G      2.164      1.858      1.075          4        640: 100%|██████████| 61/61 [11:57<00:00, 11.76s/it]\n",
      "                 Class     Images  Instances      Box(P          R      mAP50  mAP50-95): 100%|██████████| 4/4 [01:20<00:00, 20.17s/it]"
     ]
    },
    {
     "name": "stdout",
     "output_type": "stream",
     "text": [
      "                   all        118        118      0.532      0.305      0.335      0.143\n"
     ]
    },
    {
     "name": "stderr",
     "output_type": "stream",
     "text": [
      "\n"
     ]
    },
    {
     "name": "stdout",
     "output_type": "stream",
     "text": [
      "\n",
      "      Epoch    GPU_mem   box_loss   cls_loss   dfl_loss  Instances       Size\n"
     ]
    },
    {
     "name": "stderr",
     "output_type": "stream",
     "text": [
      "      6/300      11.2G      2.214      1.806      1.065          4        640: 100%|██████████| 61/61 [06:50<00:00,  6.73s/it]\n",
      "                 Class     Images  Instances      Box(P          R      mAP50  mAP50-95): 100%|██████████| 4/4 [00:12<00:00,  3.10s/it]"
     ]
    },
    {
     "name": "stdout",
     "output_type": "stream",
     "text": [
      "                   all        118        118       0.33      0.288       0.24      0.111\n"
     ]
    },
    {
     "name": "stderr",
     "output_type": "stream",
     "text": [
      "\n"
     ]
    },
    {
     "name": "stdout",
     "output_type": "stream",
     "text": [
      "\n",
      "      Epoch    GPU_mem   box_loss   cls_loss   dfl_loss  Instances       Size\n"
     ]
    },
    {
     "name": "stderr",
     "output_type": "stream",
     "text": [
      "      7/300      11.1G      2.102      1.546       1.03          5        640: 100%|██████████| 61/61 [06:19<00:00,  6.23s/it]\n",
      "                 Class     Images  Instances      Box(P          R      mAP50  mAP50-95): 100%|██████████| 4/4 [01:01<00:00, 15.48s/it]"
     ]
    },
    {
     "name": "stdout",
     "output_type": "stream",
     "text": [
      "                   all        118        118      0.611      0.246      0.295       0.12\n"
     ]
    },
    {
     "name": "stderr",
     "output_type": "stream",
     "text": [
      "\n"
     ]
    },
    {
     "name": "stdout",
     "output_type": "stream",
     "text": [
      "\n",
      "      Epoch    GPU_mem   box_loss   cls_loss   dfl_loss  Instances       Size\n"
     ]
    },
    {
     "name": "stderr",
     "output_type": "stream",
     "text": [
      "      8/300      11.1G      2.066      1.548      1.027          5        640: 100%|██████████| 61/61 [02:01<00:00,  1.99s/it]\n",
      "                 Class     Images  Instances      Box(P          R      mAP50  mAP50-95): 100%|██████████| 4/4 [00:15<00:00,  3.91s/it]"
     ]
    },
    {
     "name": "stdout",
     "output_type": "stream",
     "text": [
      "                   all        118        118      0.698      0.297      0.364      0.172\n"
     ]
    },
    {
     "name": "stderr",
     "output_type": "stream",
     "text": [
      "\n"
     ]
    },
    {
     "name": "stdout",
     "output_type": "stream",
     "text": [
      "\n",
      "      Epoch    GPU_mem   box_loss   cls_loss   dfl_loss  Instances       Size\n"
     ]
    },
    {
     "name": "stderr",
     "output_type": "stream",
     "text": [
      "      9/300      11.2G      2.055      1.542      1.046          5        640: 100%|██████████| 61/61 [02:10<00:00,  2.15s/it]\n",
      "                 Class     Images  Instances      Box(P          R      mAP50  mAP50-95): 100%|██████████| 4/4 [00:29<00:00,  7.39s/it]"
     ]
    },
    {
     "name": "stdout",
     "output_type": "stream",
     "text": [
      "                   all        118        118      0.418      0.347      0.264      0.125\n"
     ]
    },
    {
     "name": "stderr",
     "output_type": "stream",
     "text": [
      "\n"
     ]
    },
    {
     "name": "stdout",
     "output_type": "stream",
     "text": [
      "\n",
      "      Epoch    GPU_mem   box_loss   cls_loss   dfl_loss  Instances       Size\n"
     ]
    },
    {
     "name": "stderr",
     "output_type": "stream",
     "text": [
      "     10/300      11.2G       2.07      1.566      1.049          7        640: 100%|██████████| 61/61 [06:02<00:00,  5.94s/it]\n",
      "                 Class     Images  Instances      Box(P          R      mAP50  mAP50-95): 100%|██████████| 4/4 [00:22<00:00,  5.74s/it]"
     ]
    },
    {
     "name": "stdout",
     "output_type": "stream",
     "text": [
      "                   all        118        118      0.478      0.388      0.345      0.138\n"
     ]
    },
    {
     "name": "stderr",
     "output_type": "stream",
     "text": [
      "\n"
     ]
    },
    {
     "name": "stdout",
     "output_type": "stream",
     "text": [
      "\n",
      "      Epoch    GPU_mem   box_loss   cls_loss   dfl_loss  Instances       Size\n"
     ]
    },
    {
     "name": "stderr",
     "output_type": "stream",
     "text": [
      "     11/300      11.4G      2.016      1.479     0.9987          2        640: 100%|██████████| 61/61 [03:27<00:00,  3.41s/it]\n",
      "                 Class     Images  Instances      Box(P          R      mAP50  mAP50-95): 100%|██████████| 4/4 [00:16<00:00,  4.07s/it]"
     ]
    },
    {
     "name": "stdout",
     "output_type": "stream",
     "text": [
      "                   all        118        118      0.489      0.449      0.425      0.154\n"
     ]
    },
    {
     "name": "stderr",
     "output_type": "stream",
     "text": [
      "\n"
     ]
    },
    {
     "name": "stdout",
     "output_type": "stream",
     "text": [
      "\n",
      "      Epoch    GPU_mem   box_loss   cls_loss   dfl_loss  Instances       Size\n"
     ]
    },
    {
     "name": "stderr",
     "output_type": "stream",
     "text": [
      "     12/300      11.1G      1.945      1.501     0.9988          3        640: 100%|██████████| 61/61 [04:48<00:00,  4.73s/it]\n",
      "                 Class     Images  Instances      Box(P          R      mAP50  mAP50-95): 100%|██████████| 4/4 [00:19<00:00,  4.79s/it]"
     ]
    },
    {
     "name": "stdout",
     "output_type": "stream",
     "text": [
      "                   all        118        118      0.552      0.458      0.487      0.236\n"
     ]
    },
    {
     "name": "stderr",
     "output_type": "stream",
     "text": [
      "\n"
     ]
    },
    {
     "name": "stdout",
     "output_type": "stream",
     "text": [
      "\n",
      "      Epoch    GPU_mem   box_loss   cls_loss   dfl_loss  Instances       Size\n"
     ]
    },
    {
     "name": "stderr",
     "output_type": "stream",
     "text": [
      "     13/300      11.1G      1.962      1.434     0.9885          3        640: 100%|██████████| 61/61 [01:15<00:00,  1.23s/it]\n",
      "                 Class     Images  Instances      Box(P          R      mAP50  mAP50-95): 100%|██████████| 4/4 [00:15<00:00,  3.85s/it]"
     ]
    },
    {
     "name": "stdout",
     "output_type": "stream",
     "text": [
      "                   all        118        118      0.353      0.288      0.219     0.0906\n"
     ]
    },
    {
     "name": "stderr",
     "output_type": "stream",
     "text": [
      "\n"
     ]
    },
    {
     "name": "stdout",
     "output_type": "stream",
     "text": [
      "\n",
      "      Epoch    GPU_mem   box_loss   cls_loss   dfl_loss  Instances       Size\n"
     ]
    },
    {
     "name": "stderr",
     "output_type": "stream",
     "text": [
      "     14/300      11.4G      1.919      1.373     0.9767          4        640: 100%|██████████| 61/61 [05:15<00:00,  5.17s/it]\n",
      "                 Class     Images  Instances      Box(P          R      mAP50  mAP50-95): 100%|██████████| 4/4 [00:12<00:00,  3.15s/it]"
     ]
    },
    {
     "name": "stdout",
     "output_type": "stream",
     "text": [
      "                   all        118        118      0.531      0.604      0.537      0.263\n"
     ]
    },
    {
     "name": "stderr",
     "output_type": "stream",
     "text": [
      "\n"
     ]
    },
    {
     "name": "stdout",
     "output_type": "stream",
     "text": [
      "\n",
      "      Epoch    GPU_mem   box_loss   cls_loss   dfl_loss  Instances       Size\n"
     ]
    },
    {
     "name": "stderr",
     "output_type": "stream",
     "text": [
      "     15/300      11.1G      1.936      1.368     0.9911          6        640: 100%|██████████| 61/61 [01:12<00:00,  1.20s/it]\n",
      "                 Class     Images  Instances      Box(P          R      mAP50  mAP50-95): 100%|██████████| 4/4 [00:17<00:00,  4.36s/it]"
     ]
    },
    {
     "name": "stdout",
     "output_type": "stream",
     "text": [
      "                   all        118        118      0.492      0.361      0.363      0.166\n"
     ]
    },
    {
     "name": "stderr",
     "output_type": "stream",
     "text": [
      "\n"
     ]
    },
    {
     "name": "stdout",
     "output_type": "stream",
     "text": [
      "\n",
      "      Epoch    GPU_mem   box_loss   cls_loss   dfl_loss  Instances       Size\n"
     ]
    },
    {
     "name": "stderr",
     "output_type": "stream",
     "text": [
      "     16/300      11.1G      1.897      1.396     0.9974          6        640: 100%|██████████| 61/61 [02:49<00:00,  2.78s/it]\n",
      "                 Class     Images  Instances      Box(P          R      mAP50  mAP50-95): 100%|██████████| 4/4 [00:13<00:00,  3.25s/it]"
     ]
    },
    {
     "name": "stdout",
     "output_type": "stream",
     "text": [
      "                   all        118        118      0.356      0.305       0.25      0.116\n"
     ]
    },
    {
     "name": "stderr",
     "output_type": "stream",
     "text": [
      "\n"
     ]
    },
    {
     "name": "stdout",
     "output_type": "stream",
     "text": [
      "\n",
      "      Epoch    GPU_mem   box_loss   cls_loss   dfl_loss  Instances       Size\n"
     ]
    },
    {
     "name": "stderr",
     "output_type": "stream",
     "text": [
      "     17/300      11.4G      1.945      1.358      1.009          5        640: 100%|██████████| 61/61 [01:49<00:00,  1.79s/it]\n",
      "                 Class     Images  Instances      Box(P          R      mAP50  mAP50-95): 100%|██████████| 4/4 [00:12<00:00,  3.05s/it]"
     ]
    },
    {
     "name": "stdout",
     "output_type": "stream",
     "text": [
      "                   all        118        118      0.698      0.549       0.54      0.264\n"
     ]
    },
    {
     "name": "stderr",
     "output_type": "stream",
     "text": [
      "\n"
     ]
    },
    {
     "name": "stdout",
     "output_type": "stream",
     "text": [
      "\n",
      "      Epoch    GPU_mem   box_loss   cls_loss   dfl_loss  Instances       Size\n"
     ]
    },
    {
     "name": "stderr",
     "output_type": "stream",
     "text": [
      "     18/300      11.2G      1.875      1.349     0.9815          5        640: 100%|██████████| 61/61 [03:13<00:00,  3.17s/it]\n",
      "                 Class     Images  Instances      Box(P          R      mAP50  mAP50-95): 100%|██████████| 4/4 [00:16<00:00,  4.11s/it]"
     ]
    },
    {
     "name": "stdout",
     "output_type": "stream",
     "text": [
      "                   all        118        118      0.561      0.586      0.541      0.206\n"
     ]
    },
    {
     "name": "stderr",
     "output_type": "stream",
     "text": [
      "\n"
     ]
    },
    {
     "name": "stdout",
     "output_type": "stream",
     "text": [
      "\n",
      "      Epoch    GPU_mem   box_loss   cls_loss   dfl_loss  Instances       Size\n"
     ]
    },
    {
     "name": "stderr",
     "output_type": "stream",
     "text": [
      "     19/300      11.4G        1.9      1.308      1.008          8        640: 100%|██████████| 61/61 [02:46<00:00,  2.73s/it]\n",
      "                 Class     Images  Instances      Box(P          R      mAP50  mAP50-95): 100%|██████████| 4/4 [00:14<00:00,  3.71s/it]"
     ]
    },
    {
     "name": "stdout",
     "output_type": "stream",
     "text": [
      "                   all        118        118      0.587      0.534       0.53       0.27\n"
     ]
    },
    {
     "name": "stderr",
     "output_type": "stream",
     "text": [
      "\n"
     ]
    },
    {
     "name": "stdout",
     "output_type": "stream",
     "text": [
      "\n",
      "      Epoch    GPU_mem   box_loss   cls_loss   dfl_loss  Instances       Size\n"
     ]
    },
    {
     "name": "stderr",
     "output_type": "stream",
     "text": [
      "     20/300      11.1G       1.89       1.33     0.9842          2        640: 100%|██████████| 61/61 [01:19<00:00,  1.30s/it]\n",
      "                 Class     Images  Instances      Box(P          R      mAP50  mAP50-95): 100%|██████████| 4/4 [00:17<00:00,  4.43s/it]"
     ]
    },
    {
     "name": "stdout",
     "output_type": "stream",
     "text": [
      "                   all        118        118      0.644       0.61      0.582      0.265\n"
     ]
    },
    {
     "name": "stderr",
     "output_type": "stream",
     "text": [
      "\n"
     ]
    },
    {
     "name": "stdout",
     "output_type": "stream",
     "text": [
      "\n",
      "      Epoch    GPU_mem   box_loss   cls_loss   dfl_loss  Instances       Size\n"
     ]
    },
    {
     "name": "stderr",
     "output_type": "stream",
     "text": [
      "     21/300      11.2G       1.84      1.248      1.001          5        640: 100%|██████████| 61/61 [03:58<00:00,  3.91s/it]\n",
      "                 Class     Images  Instances      Box(P          R      mAP50  mAP50-95): 100%|██████████| 4/4 [00:14<00:00,  3.61s/it]"
     ]
    },
    {
     "name": "stdout",
     "output_type": "stream",
     "text": [
      "                   all        118        118      0.625      0.449      0.503      0.242\n"
     ]
    },
    {
     "name": "stderr",
     "output_type": "stream",
     "text": [
      "\n"
     ]
    },
    {
     "name": "stdout",
     "output_type": "stream",
     "text": [
      "\n",
      "      Epoch    GPU_mem   box_loss   cls_loss   dfl_loss  Instances       Size\n"
     ]
    },
    {
     "name": "stderr",
     "output_type": "stream",
     "text": [
      "     22/300      11.2G      1.838      1.346     0.9884          3        640: 100%|██████████| 61/61 [01:57<00:00,  1.93s/it]\n",
      "                 Class     Images  Instances      Box(P          R      mAP50  mAP50-95): 100%|██████████| 4/4 [00:15<00:00,  3.86s/it]"
     ]
    },
    {
     "name": "stdout",
     "output_type": "stream",
     "text": [
      "                   all        118        118       0.52      0.487      0.468      0.199\n"
     ]
    },
    {
     "name": "stderr",
     "output_type": "stream",
     "text": [
      "\n"
     ]
    },
    {
     "name": "stdout",
     "output_type": "stream",
     "text": [
      "\n",
      "      Epoch    GPU_mem   box_loss   cls_loss   dfl_loss  Instances       Size\n"
     ]
    },
    {
     "name": "stderr",
     "output_type": "stream",
     "text": [
      "     23/300      11.4G      1.856       1.32     0.9698          3        640: 100%|██████████| 61/61 [04:49<00:00,  4.75s/it]\n",
      "                 Class     Images  Instances      Box(P          R      mAP50  mAP50-95): 100%|██████████| 4/4 [00:10<00:00,  2.52s/it]"
     ]
    },
    {
     "name": "stdout",
     "output_type": "stream",
     "text": [
      "                   all        118        118      0.465      0.542      0.499      0.217\n"
     ]
    },
    {
     "name": "stderr",
     "output_type": "stream",
     "text": [
      "\n"
     ]
    },
    {
     "name": "stdout",
     "output_type": "stream",
     "text": [
      "\n",
      "      Epoch    GPU_mem   box_loss   cls_loss   dfl_loss  Instances       Size\n"
     ]
    },
    {
     "name": "stderr",
     "output_type": "stream",
     "text": [
      "     24/300      11.1G      1.806      1.255     0.9582          3        640: 100%|██████████| 61/61 [02:36<00:00,  2.56s/it]\n",
      "                 Class     Images  Instances      Box(P          R      mAP50  mAP50-95): 100%|██████████| 4/4 [00:18<00:00,  4.74s/it]"
     ]
    },
    {
     "name": "stdout",
     "output_type": "stream",
     "text": [
      "                   all        118        118      0.623      0.545      0.556      0.255\n"
     ]
    },
    {
     "name": "stderr",
     "output_type": "stream",
     "text": [
      "\n"
     ]
    },
    {
     "name": "stdout",
     "output_type": "stream",
     "text": [
      "\n",
      "      Epoch    GPU_mem   box_loss   cls_loss   dfl_loss  Instances       Size\n"
     ]
    },
    {
     "name": "stderr",
     "output_type": "stream",
     "text": [
      "     25/300      11.1G      1.792      1.179     0.9841          3        640: 100%|██████████| 61/61 [01:12<00:00,  1.18s/it]\n",
      "                 Class     Images  Instances      Box(P          R      mAP50  mAP50-95): 100%|██████████| 4/4 [00:16<00:00,  4.07s/it]"
     ]
    },
    {
     "name": "stdout",
     "output_type": "stream",
     "text": [
      "                   all        118        118      0.647      0.576      0.596      0.282\n"
     ]
    },
    {
     "name": "stderr",
     "output_type": "stream",
     "text": [
      "\n"
     ]
    },
    {
     "name": "stdout",
     "output_type": "stream",
     "text": [
      "\n",
      "      Epoch    GPU_mem   box_loss   cls_loss   dfl_loss  Instances       Size\n"
     ]
    },
    {
     "name": "stderr",
     "output_type": "stream",
     "text": [
      "     26/300      11.4G      1.845      1.314     0.9736          5        640: 100%|██████████| 61/61 [04:38<00:00,  4.56s/it]\n",
      "                 Class     Images  Instances      Box(P          R      mAP50  mAP50-95): 100%|██████████| 4/4 [00:12<00:00,  3.02s/it]"
     ]
    },
    {
     "name": "stdout",
     "output_type": "stream",
     "text": [
      "                   all        118        118      0.578      0.628      0.584      0.289\n"
     ]
    },
    {
     "name": "stderr",
     "output_type": "stream",
     "text": [
      "\n"
     ]
    },
    {
     "name": "stdout",
     "output_type": "stream",
     "text": [
      "\n",
      "      Epoch    GPU_mem   box_loss   cls_loss   dfl_loss  Instances       Size\n"
     ]
    },
    {
     "name": "stderr",
     "output_type": "stream",
     "text": [
      "     27/300      11.2G      1.772      1.243     0.9557          4        640: 100%|██████████| 61/61 [02:15<00:00,  2.22s/it]\n",
      "                 Class     Images  Instances      Box(P          R      mAP50  mAP50-95): 100%|██████████| 4/4 [00:38<00:00,  9.64s/it]"
     ]
    },
    {
     "name": "stdout",
     "output_type": "stream",
     "text": [
      "                   all        118        118      0.612      0.534      0.567       0.28\n"
     ]
    },
    {
     "name": "stderr",
     "output_type": "stream",
     "text": [
      "\n"
     ]
    },
    {
     "name": "stdout",
     "output_type": "stream",
     "text": [
      "\n",
      "      Epoch    GPU_mem   box_loss   cls_loss   dfl_loss  Instances       Size\n"
     ]
    },
    {
     "name": "stderr",
     "output_type": "stream",
     "text": [
      "     28/300      11.3G      1.767      1.222     0.9455          2        640: 100%|██████████| 61/61 [05:40<00:00,  5.59s/it]\n",
      "                 Class     Images  Instances      Box(P          R      mAP50  mAP50-95): 100%|██████████| 4/4 [00:11<00:00,  2.82s/it]"
     ]
    },
    {
     "name": "stdout",
     "output_type": "stream",
     "text": [
      "                   all        118        118       0.62      0.585      0.592      0.266\n"
     ]
    },
    {
     "name": "stderr",
     "output_type": "stream",
     "text": [
      "\n"
     ]
    },
    {
     "name": "stdout",
     "output_type": "stream",
     "text": [
      "\n",
      "      Epoch    GPU_mem   box_loss   cls_loss   dfl_loss  Instances       Size\n"
     ]
    },
    {
     "name": "stderr",
     "output_type": "stream",
     "text": [
      "     29/300      11.1G      1.819      1.216     0.9735          1        640: 100%|██████████| 61/61 [01:14<00:00,  1.23s/it]\n",
      "                 Class     Images  Instances      Box(P          R      mAP50  mAP50-95): 100%|██████████| 4/4 [00:16<00:00,  4.08s/it]"
     ]
    },
    {
     "name": "stdout",
     "output_type": "stream",
     "text": [
      "                   all        118        118      0.569      0.639      0.617      0.296\n"
     ]
    },
    {
     "name": "stderr",
     "output_type": "stream",
     "text": [
      "\n"
     ]
    },
    {
     "name": "stdout",
     "output_type": "stream",
     "text": [
      "\n",
      "      Epoch    GPU_mem   box_loss   cls_loss   dfl_loss  Instances       Size\n"
     ]
    },
    {
     "name": "stderr",
     "output_type": "stream",
     "text": [
      "     30/300      11.2G       1.74      1.166     0.9689          2        640: 100%|██████████| 61/61 [02:51<00:00,  2.81s/it]\n",
      "                 Class     Images  Instances      Box(P          R      mAP50  mAP50-95): 100%|██████████| 4/4 [00:11<00:00,  2.79s/it]"
     ]
    },
    {
     "name": "stdout",
     "output_type": "stream",
     "text": [
      "                   all        118        118      0.576      0.559      0.583      0.293\n"
     ]
    },
    {
     "name": "stderr",
     "output_type": "stream",
     "text": [
      "\n"
     ]
    },
    {
     "name": "stdout",
     "output_type": "stream",
     "text": [
      "\n",
      "      Epoch    GPU_mem   box_loss   cls_loss   dfl_loss  Instances       Size\n"
     ]
    },
    {
     "name": "stderr",
     "output_type": "stream",
     "text": [
      "     31/300      11.1G      1.793      1.212     0.9604          4        640: 100%|██████████| 61/61 [02:10<00:00,  2.14s/it]\n",
      "                 Class     Images  Instances      Box(P          R      mAP50  mAP50-95): 100%|██████████| 4/4 [00:21<00:00,  5.45s/it]"
     ]
    },
    {
     "name": "stdout",
     "output_type": "stream",
     "text": [
      "                   all        118        118      0.662      0.581      0.618      0.289\n"
     ]
    },
    {
     "name": "stderr",
     "output_type": "stream",
     "text": [
      "\n"
     ]
    },
    {
     "name": "stdout",
     "output_type": "stream",
     "text": [
      "\n",
      "      Epoch    GPU_mem   box_loss   cls_loss   dfl_loss  Instances       Size\n"
     ]
    },
    {
     "name": "stderr",
     "output_type": "stream",
     "text": [
      "     32/300      11.3G      1.765        1.2     0.9339          3        640: 100%|██████████| 61/61 [05:34<00:00,  5.48s/it]\n",
      "                 Class     Images  Instances      Box(P          R      mAP50  mAP50-95): 100%|██████████| 4/4 [00:10<00:00,  2.64s/it]"
     ]
    },
    {
     "name": "stdout",
     "output_type": "stream",
     "text": [
      "                   all        118        118      0.563      0.508       0.54      0.259\n"
     ]
    },
    {
     "name": "stderr",
     "output_type": "stream",
     "text": [
      "\n"
     ]
    },
    {
     "name": "stdout",
     "output_type": "stream",
     "text": [
      "\n",
      "      Epoch    GPU_mem   box_loss   cls_loss   dfl_loss  Instances       Size\n"
     ]
    },
    {
     "name": "stderr",
     "output_type": "stream",
     "text": [
      "     33/300      11.4G      1.741        1.2     0.9411          6        640: 100%|██████████| 61/61 [02:12<00:00,  2.16s/it]\n",
      "                 Class     Images  Instances      Box(P          R      mAP50  mAP50-95): 100%|██████████| 4/4 [00:16<00:00,  4.07s/it]"
     ]
    },
    {
     "name": "stdout",
     "output_type": "stream",
     "text": [
      "                   all        118        118      0.626      0.407      0.436      0.184\n"
     ]
    },
    {
     "name": "stderr",
     "output_type": "stream",
     "text": [
      "\n"
     ]
    },
    {
     "name": "stdout",
     "output_type": "stream",
     "text": [
      "\n",
      "      Epoch    GPU_mem   box_loss   cls_loss   dfl_loss  Instances       Size\n"
     ]
    },
    {
     "name": "stderr",
     "output_type": "stream",
     "text": [
      "     34/300      11.2G      1.789      1.192     0.9546          5        640: 100%|██████████| 61/61 [03:00<00:00,  2.95s/it]\n",
      "                 Class     Images  Instances      Box(P          R      mAP50  mAP50-95): 100%|██████████| 4/4 [00:17<00:00,  4.36s/it]"
     ]
    },
    {
     "name": "stdout",
     "output_type": "stream",
     "text": [
      "                   all        118        118      0.627      0.508      0.526      0.251\n"
     ]
    },
    {
     "name": "stderr",
     "output_type": "stream",
     "text": [
      "\n"
     ]
    },
    {
     "name": "stdout",
     "output_type": "stream",
     "text": [
      "\n",
      "      Epoch    GPU_mem   box_loss   cls_loss   dfl_loss  Instances       Size\n"
     ]
    },
    {
     "name": "stderr",
     "output_type": "stream",
     "text": [
      "     35/300      11.1G      1.783      1.203     0.9628          3        640: 100%|██████████| 61/61 [01:25<00:00,  1.40s/it]\n",
      "                 Class     Images  Instances      Box(P          R      mAP50  mAP50-95): 100%|██████████| 4/4 [00:13<00:00,  3.27s/it]"
     ]
    },
    {
     "name": "stdout",
     "output_type": "stream",
     "text": [
      "                   all        118        118      0.672      0.574      0.644      0.319\n"
     ]
    },
    {
     "name": "stderr",
     "output_type": "stream",
     "text": [
      "\n"
     ]
    },
    {
     "name": "stdout",
     "output_type": "stream",
     "text": [
      "\n",
      "      Epoch    GPU_mem   box_loss   cls_loss   dfl_loss  Instances       Size\n"
     ]
    },
    {
     "name": "stderr",
     "output_type": "stream",
     "text": [
      "     36/300      11.1G      1.779      1.156     0.9555          2        640: 100%|██████████| 61/61 [03:40<00:00,  3.61s/it]\n",
      "                 Class     Images  Instances      Box(P          R      mAP50  mAP50-95): 100%|██████████| 4/4 [00:14<00:00,  3.57s/it]"
     ]
    },
    {
     "name": "stdout",
     "output_type": "stream",
     "text": [
      "                   all        118        118      0.613      0.509      0.524      0.277\n"
     ]
    },
    {
     "name": "stderr",
     "output_type": "stream",
     "text": [
      "\n"
     ]
    },
    {
     "name": "stdout",
     "output_type": "stream",
     "text": [
      "\n",
      "      Epoch    GPU_mem   box_loss   cls_loss   dfl_loss  Instances       Size\n"
     ]
    },
    {
     "name": "stderr",
     "output_type": "stream",
     "text": [
      "     37/300      11.2G      1.694      1.155     0.9445          2        640: 100%|██████████| 61/61 [01:14<00:00,  1.23s/it]\n",
      "                 Class     Images  Instances      Box(P          R      mAP50  mAP50-95): 100%|██████████| 4/4 [00:17<00:00,  4.33s/it]"
     ]
    },
    {
     "name": "stdout",
     "output_type": "stream",
     "text": [
      "                   all        118        118      0.492      0.508      0.478      0.236\n"
     ]
    },
    {
     "name": "stderr",
     "output_type": "stream",
     "text": [
      "\n"
     ]
    },
    {
     "name": "stdout",
     "output_type": "stream",
     "text": [
      "\n",
      "      Epoch    GPU_mem   box_loss   cls_loss   dfl_loss  Instances       Size\n"
     ]
    },
    {
     "name": "stderr",
     "output_type": "stream",
     "text": [
      "     38/300      11.2G       1.75      1.144     0.9585          4        640: 100%|██████████| 61/61 [03:40<00:00,  3.61s/it]\n",
      "                 Class     Images  Instances      Box(P          R      mAP50  mAP50-95): 100%|██████████| 4/4 [00:15<00:00,  3.90s/it]"
     ]
    },
    {
     "name": "stdout",
     "output_type": "stream",
     "text": [
      "                   all        118        118      0.572      0.712      0.647      0.331\n"
     ]
    },
    {
     "name": "stderr",
     "output_type": "stream",
     "text": [
      "\n"
     ]
    },
    {
     "name": "stdout",
     "output_type": "stream",
     "text": [
      "\n",
      "      Epoch    GPU_mem   box_loss   cls_loss   dfl_loss  Instances       Size\n"
     ]
    },
    {
     "name": "stderr",
     "output_type": "stream",
     "text": [
      "     39/300      11.1G      1.671      1.099     0.9423          6        640: 100%|██████████| 61/61 [02:08<00:00,  2.11s/it]\n",
      "                 Class     Images  Instances      Box(P          R      mAP50  mAP50-95): 100%|██████████| 4/4 [00:10<00:00,  2.68s/it]"
     ]
    },
    {
     "name": "stdout",
     "output_type": "stream",
     "text": [
      "                   all        118        118      0.655      0.564      0.589       0.28\n"
     ]
    },
    {
     "name": "stderr",
     "output_type": "stream",
     "text": [
      "\n"
     ]
    },
    {
     "name": "stdout",
     "output_type": "stream",
     "text": [
      "\n",
      "      Epoch    GPU_mem   box_loss   cls_loss   dfl_loss  Instances       Size\n"
     ]
    },
    {
     "name": "stderr",
     "output_type": "stream",
     "text": [
      "     40/300      11.1G      1.699      1.166     0.9433          3        640: 100%|██████████| 61/61 [02:03<00:00,  2.03s/it]\n",
      "                 Class     Images  Instances      Box(P          R      mAP50  mAP50-95): 100%|██████████| 4/4 [00:14<00:00,  3.71s/it]"
     ]
    },
    {
     "name": "stdout",
     "output_type": "stream",
     "text": [
      "                   all        118        118       0.66      0.576      0.651      0.323\n"
     ]
    },
    {
     "name": "stderr",
     "output_type": "stream",
     "text": [
      "\n"
     ]
    },
    {
     "name": "stdout",
     "output_type": "stream",
     "text": [
      "\n",
      "      Epoch    GPU_mem   box_loss   cls_loss   dfl_loss  Instances       Size\n"
     ]
    },
    {
     "name": "stderr",
     "output_type": "stream",
     "text": [
      "     41/300      11.2G      1.721      1.108     0.9476          4        640: 100%|██████████| 61/61 [01:21<00:00,  1.34s/it]\n",
      "                 Class     Images  Instances      Box(P          R      mAP50  mAP50-95): 100%|██████████| 4/4 [00:17<00:00,  4.44s/it]"
     ]
    },
    {
     "name": "stdout",
     "output_type": "stream",
     "text": [
      "                   all        118        118      0.646      0.527      0.638      0.269\n"
     ]
    },
    {
     "name": "stderr",
     "output_type": "stream",
     "text": [
      "\n"
     ]
    },
    {
     "name": "stdout",
     "output_type": "stream",
     "text": [
      "\n",
      "      Epoch    GPU_mem   box_loss   cls_loss   dfl_loss  Instances       Size\n"
     ]
    },
    {
     "name": "stderr",
     "output_type": "stream",
     "text": [
      "     42/300      11.4G      1.696      1.116     0.9671          3        640: 100%|██████████| 61/61 [04:53<00:00,  4.81s/it]\n",
      "                 Class     Images  Instances      Box(P          R      mAP50  mAP50-95): 100%|██████████| 4/4 [00:07<00:00,  1.76s/it]"
     ]
    },
    {
     "name": "stdout",
     "output_type": "stream",
     "text": [
      "                   all        118        118      0.557      0.551      0.546      0.265\n"
     ]
    },
    {
     "name": "stderr",
     "output_type": "stream",
     "text": [
      "\n"
     ]
    },
    {
     "name": "stdout",
     "output_type": "stream",
     "text": [
      "\n",
      "      Epoch    GPU_mem   box_loss   cls_loss   dfl_loss  Instances       Size\n"
     ]
    },
    {
     "name": "stderr",
     "output_type": "stream",
     "text": [
      "     43/300      11.1G       1.68      1.083     0.9326          2        640: 100%|██████████| 61/61 [01:22<00:00,  1.35s/it]\n",
      "                 Class     Images  Instances      Box(P          R      mAP50  mAP50-95): 100%|██████████| 4/4 [00:25<00:00,  6.32s/it]"
     ]
    },
    {
     "name": "stdout",
     "output_type": "stream",
     "text": [
      "                   all        118        118      0.603      0.669      0.654      0.317\n"
     ]
    },
    {
     "name": "stderr",
     "output_type": "stream",
     "text": [
      "\n"
     ]
    },
    {
     "name": "stdout",
     "output_type": "stream",
     "text": [
      "\n",
      "      Epoch    GPU_mem   box_loss   cls_loss   dfl_loss  Instances       Size\n"
     ]
    },
    {
     "name": "stderr",
     "output_type": "stream",
     "text": [
      "     44/300      11.3G      1.654      1.064     0.9512          4        640: 100%|██████████| 61/61 [08:59<00:00,  8.85s/it]\n",
      "                 Class     Images  Instances      Box(P          R      mAP50  mAP50-95): 100%|██████████| 4/4 [00:14<00:00,  3.57s/it]"
     ]
    },
    {
     "name": "stdout",
     "output_type": "stream",
     "text": [
      "                   all        118        118       0.57      0.593      0.538      0.252\n"
     ]
    },
    {
     "name": "stderr",
     "output_type": "stream",
     "text": [
      "\n"
     ]
    },
    {
     "name": "stdout",
     "output_type": "stream",
     "text": [
      "\n",
      "      Epoch    GPU_mem   box_loss   cls_loss   dfl_loss  Instances       Size\n"
     ]
    },
    {
     "name": "stderr",
     "output_type": "stream",
     "text": [
      "     45/300      11.4G      1.657      1.032     0.9318          4        640: 100%|██████████| 61/61 [09:55<00:00,  9.76s/it]\n",
      "                 Class     Images  Instances      Box(P          R      mAP50  mAP50-95): 100%|██████████| 4/4 [00:52<00:00, 13.10s/it]"
     ]
    },
    {
     "name": "stdout",
     "output_type": "stream",
     "text": [
      "                   all        118        118      0.646      0.669      0.669      0.324\n"
     ]
    },
    {
     "name": "stderr",
     "output_type": "stream",
     "text": [
      "\n"
     ]
    },
    {
     "name": "stdout",
     "output_type": "stream",
     "text": [
      "\n",
      "      Epoch    GPU_mem   box_loss   cls_loss   dfl_loss  Instances       Size\n"
     ]
    },
    {
     "name": "stderr",
     "output_type": "stream",
     "text": [
      "     46/300      11.2G      1.683      1.064     0.9279          3        640: 100%|██████████| 61/61 [04:37<00:00,  4.55s/it]\n",
      "                 Class     Images  Instances      Box(P          R      mAP50  mAP50-95): 100%|██████████| 4/4 [00:11<00:00,  2.94s/it]"
     ]
    },
    {
     "name": "stdout",
     "output_type": "stream",
     "text": [
      "                   all        118        118      0.731      0.483      0.571      0.266\n"
     ]
    },
    {
     "name": "stderr",
     "output_type": "stream",
     "text": [
      "\n"
     ]
    },
    {
     "name": "stdout",
     "output_type": "stream",
     "text": [
      "\n",
      "      Epoch    GPU_mem   box_loss   cls_loss   dfl_loss  Instances       Size\n"
     ]
    },
    {
     "name": "stderr",
     "output_type": "stream",
     "text": [
      "     47/300      11.2G      1.666      1.066     0.9403          3        640: 100%|██████████| 61/61 [04:22<00:00,  4.30s/it]\n",
      "                 Class     Images  Instances      Box(P          R      mAP50  mAP50-95): 100%|██████████| 4/4 [00:53<00:00, 13.25s/it]"
     ]
    },
    {
     "name": "stdout",
     "output_type": "stream",
     "text": [
      "                   all        118        118      0.572      0.644      0.633      0.311\n"
     ]
    },
    {
     "name": "stderr",
     "output_type": "stream",
     "text": [
      "\n"
     ]
    },
    {
     "name": "stdout",
     "output_type": "stream",
     "text": [
      "\n",
      "      Epoch    GPU_mem   box_loss   cls_loss   dfl_loss  Instances       Size\n"
     ]
    },
    {
     "name": "stderr",
     "output_type": "stream",
     "text": [
      "     48/300      11.1G      1.675      1.088     0.9546          5        640: 100%|██████████| 61/61 [09:04<00:00,  8.93s/it]\n",
      "                 Class     Images  Instances      Box(P          R      mAP50  mAP50-95): 100%|██████████| 4/4 [00:16<00:00,  4.01s/it]"
     ]
    },
    {
     "name": "stdout",
     "output_type": "stream",
     "text": [
      "                   all        118        118      0.643      0.585      0.607      0.295\n"
     ]
    },
    {
     "name": "stderr",
     "output_type": "stream",
     "text": [
      "\n"
     ]
    },
    {
     "name": "stdout",
     "output_type": "stream",
     "text": [
      "\n",
      "      Epoch    GPU_mem   box_loss   cls_loss   dfl_loss  Instances       Size\n"
     ]
    },
    {
     "name": "stderr",
     "output_type": "stream",
     "text": [
      "     49/300      11.2G      1.723      1.125     0.9516          5        640: 100%|██████████| 61/61 [06:01<00:00,  5.92s/it]\n",
      "                 Class     Images  Instances      Box(P          R      mAP50  mAP50-95): 100%|██████████| 4/4 [01:07<00:00, 16.80s/it]"
     ]
    },
    {
     "name": "stdout",
     "output_type": "stream",
     "text": [
      "                   all        118        118      0.731      0.627       0.63      0.337\n"
     ]
    },
    {
     "name": "stderr",
     "output_type": "stream",
     "text": [
      "\n"
     ]
    },
    {
     "name": "stdout",
     "output_type": "stream",
     "text": [
      "\n",
      "      Epoch    GPU_mem   box_loss   cls_loss   dfl_loss  Instances       Size\n"
     ]
    },
    {
     "name": "stderr",
     "output_type": "stream",
     "text": [
      "     50/300      11.4G      1.729      1.074     0.9485          2        640: 100%|██████████| 61/61 [09:54<00:00,  9.75s/it]\n",
      "                 Class     Images  Instances      Box(P          R      mAP50  mAP50-95): 100%|██████████| 4/4 [00:12<00:00,  3.03s/it]"
     ]
    },
    {
     "name": "stdout",
     "output_type": "stream",
     "text": [
      "                   all        118        118      0.628      0.576      0.562      0.276\n"
     ]
    },
    {
     "name": "stderr",
     "output_type": "stream",
     "text": [
      "\n"
     ]
    },
    {
     "name": "stdout",
     "output_type": "stream",
     "text": [
      "\n",
      "      Epoch    GPU_mem   box_loss   cls_loss   dfl_loss  Instances       Size\n"
     ]
    },
    {
     "name": "stderr",
     "output_type": "stream",
     "text": [
      "     51/300      11.1G      1.606      1.024      0.945          5        640: 100%|██████████| 61/61 [03:11<00:00,  3.14s/it]\n",
      "                 Class     Images  Instances      Box(P          R      mAP50  mAP50-95): 100%|██████████| 4/4 [00:21<00:00,  5.44s/it]"
     ]
    },
    {
     "name": "stdout",
     "output_type": "stream",
     "text": [
      "                   all        118        118      0.697      0.644      0.686      0.327\n"
     ]
    },
    {
     "name": "stderr",
     "output_type": "stream",
     "text": [
      "\n"
     ]
    },
    {
     "name": "stdout",
     "output_type": "stream",
     "text": [
      "\n",
      "      Epoch    GPU_mem   box_loss   cls_loss   dfl_loss  Instances       Size\n"
     ]
    },
    {
     "name": "stderr",
     "output_type": "stream",
     "text": [
      "     52/300      11.1G       1.58      1.013     0.9171          3        640: 100%|██████████| 61/61 [06:31<00:00,  6.42s/it]\n",
      "                 Class     Images  Instances      Box(P          R      mAP50  mAP50-95): 100%|██████████| 4/4 [00:13<00:00,  3.27s/it]"
     ]
    },
    {
     "name": "stdout",
     "output_type": "stream",
     "text": [
      "                   all        118        118      0.623      0.669      0.636      0.313\n"
     ]
    },
    {
     "name": "stderr",
     "output_type": "stream",
     "text": [
      "\n"
     ]
    },
    {
     "name": "stdout",
     "output_type": "stream",
     "text": [
      "\n",
      "      Epoch    GPU_mem   box_loss   cls_loss   dfl_loss  Instances       Size\n"
     ]
    },
    {
     "name": "stderr",
     "output_type": "stream",
     "text": [
      "     53/300      11.4G      1.692      1.039     0.9446          3        640: 100%|██████████| 61/61 [05:11<00:00,  5.11s/it]\n",
      "                 Class     Images  Instances      Box(P          R      mAP50  mAP50-95): 100%|██████████| 4/4 [00:19<00:00,  4.80s/it]"
     ]
    },
    {
     "name": "stdout",
     "output_type": "stream",
     "text": [
      "                   all        118        118      0.718      0.636      0.687      0.343\n"
     ]
    },
    {
     "name": "stderr",
     "output_type": "stream",
     "text": [
      "\n"
     ]
    },
    {
     "name": "stdout",
     "output_type": "stream",
     "text": [
      "\n",
      "      Epoch    GPU_mem   box_loss   cls_loss   dfl_loss  Instances       Size\n"
     ]
    },
    {
     "name": "stderr",
     "output_type": "stream",
     "text": [
      "     54/300      11.2G      1.653      1.099     0.9539          7        640: 100%|██████████| 61/61 [06:46<00:00,  6.66s/it]\n",
      "                 Class     Images  Instances      Box(P          R      mAP50  mAP50-95): 100%|██████████| 4/4 [00:15<00:00,  3.76s/it]"
     ]
    },
    {
     "name": "stdout",
     "output_type": "stream",
     "text": [
      "                   all        118        118      0.602      0.661      0.633      0.277\n"
     ]
    },
    {
     "name": "stderr",
     "output_type": "stream",
     "text": [
      "\n"
     ]
    },
    {
     "name": "stdout",
     "output_type": "stream",
     "text": [
      "\n",
      "      Epoch    GPU_mem   box_loss   cls_loss   dfl_loss  Instances       Size\n"
     ]
    },
    {
     "name": "stderr",
     "output_type": "stream",
     "text": [
      "     55/300      11.2G      1.656      1.055     0.9598          4        640: 100%|██████████| 61/61 [09:41<00:00,  9.53s/it]\n",
      "                 Class     Images  Instances      Box(P          R      mAP50  mAP50-95): 100%|██████████| 4/4 [00:35<00:00,  8.83s/it]"
     ]
    },
    {
     "name": "stdout",
     "output_type": "stream",
     "text": [
      "                   all        118        118      0.595      0.586      0.565      0.287\n"
     ]
    },
    {
     "name": "stderr",
     "output_type": "stream",
     "text": [
      "\n"
     ]
    },
    {
     "name": "stdout",
     "output_type": "stream",
     "text": [
      "\n",
      "      Epoch    GPU_mem   box_loss   cls_loss   dfl_loss  Instances       Size\n"
     ]
    },
    {
     "name": "stderr",
     "output_type": "stream",
     "text": [
      "     56/300      11.1G      1.622      1.001     0.9475          3        640: 100%|██████████| 61/61 [11:03<00:00, 10.87s/it]\n",
      "                 Class     Images  Instances      Box(P          R      mAP50  mAP50-95): 100%|██████████| 4/4 [00:28<00:00,  7.11s/it]"
     ]
    },
    {
     "name": "stdout",
     "output_type": "stream",
     "text": [
      "                   all        118        118      0.598      0.559      0.584      0.303\n"
     ]
    },
    {
     "name": "stderr",
     "output_type": "stream",
     "text": [
      "\n"
     ]
    },
    {
     "name": "stdout",
     "output_type": "stream",
     "text": [
      "\n",
      "      Epoch    GPU_mem   box_loss   cls_loss   dfl_loss  Instances       Size\n"
     ]
    },
    {
     "name": "stderr",
     "output_type": "stream",
     "text": [
      "     57/300      11.1G      1.662      1.051     0.9235          2        640: 100%|██████████| 61/61 [05:52<00:00,  5.78s/it]\n",
      "                 Class     Images  Instances      Box(P          R      mAP50  mAP50-95): 100%|██████████| 4/4 [00:32<00:00,  8.24s/it]"
     ]
    },
    {
     "name": "stdout",
     "output_type": "stream",
     "text": [
      "                   all        118        118      0.643      0.644      0.649      0.308\n"
     ]
    },
    {
     "name": "stderr",
     "output_type": "stream",
     "text": [
      "\n"
     ]
    },
    {
     "name": "stdout",
     "output_type": "stream",
     "text": [
      "\n",
      "      Epoch    GPU_mem   box_loss   cls_loss   dfl_loss  Instances       Size\n"
     ]
    },
    {
     "name": "stderr",
     "output_type": "stream",
     "text": [
      "     58/300      11.2G      1.559      1.013     0.9143          3        640: 100%|██████████| 61/61 [08:43<00:00,  8.58s/it]\n",
      "                 Class     Images  Instances      Box(P          R      mAP50  mAP50-95): 100%|██████████| 4/4 [00:40<00:00, 10.15s/it]"
     ]
    },
    {
     "name": "stdout",
     "output_type": "stream",
     "text": [
      "                   all        118        118      0.622      0.771      0.712       0.34\n"
     ]
    },
    {
     "name": "stderr",
     "output_type": "stream",
     "text": [
      "\n"
     ]
    },
    {
     "name": "stdout",
     "output_type": "stream",
     "text": [
      "\n",
      "      Epoch    GPU_mem   box_loss   cls_loss   dfl_loss  Instances       Size\n"
     ]
    },
    {
     "name": "stderr",
     "output_type": "stream",
     "text": [
      "     59/300      11.1G      1.612     0.9959     0.9297          3        640: 100%|██████████| 61/61 [03:01<00:00,  2.98s/it]\n",
      "                 Class     Images  Instances      Box(P          R      mAP50  mAP50-95): 100%|██████████| 4/4 [00:39<00:00,  9.82s/it]"
     ]
    },
    {
     "name": "stdout",
     "output_type": "stream",
     "text": [
      "                   all        118        118      0.655       0.61      0.663      0.318\n"
     ]
    },
    {
     "name": "stderr",
     "output_type": "stream",
     "text": [
      "\n"
     ]
    },
    {
     "name": "stdout",
     "output_type": "stream",
     "text": [
      "\n",
      "      Epoch    GPU_mem   box_loss   cls_loss   dfl_loss  Instances       Size\n"
     ]
    },
    {
     "name": "stderr",
     "output_type": "stream",
     "text": [
      "     60/300      11.3G      1.532     0.9857     0.9256          8        640: 100%|██████████| 61/61 [08:07<00:00,  7.98s/it]\n",
      "                 Class     Images  Instances      Box(P          R      mAP50  mAP50-95): 100%|██████████| 4/4 [00:11<00:00,  2.96s/it]"
     ]
    },
    {
     "name": "stdout",
     "output_type": "stream",
     "text": [
      "                   all        118        118      0.661      0.737      0.698      0.333\n"
     ]
    },
    {
     "name": "stderr",
     "output_type": "stream",
     "text": [
      "\n"
     ]
    },
    {
     "name": "stdout",
     "output_type": "stream",
     "text": [
      "\n",
      "      Epoch    GPU_mem   box_loss   cls_loss   dfl_loss  Instances       Size\n"
     ]
    },
    {
     "name": "stderr",
     "output_type": "stream",
     "text": [
      "     61/300      11.4G      1.588     0.9992     0.9191          7        640: 100%|██████████| 61/61 [07:58<00:00,  7.84s/it]\n",
      "                 Class     Images  Instances      Box(P          R      mAP50  mAP50-95): 100%|██████████| 4/4 [00:25<00:00,  6.26s/it]"
     ]
    },
    {
     "name": "stdout",
     "output_type": "stream",
     "text": [
      "                   all        118        118      0.632      0.597      0.632       0.36\n"
     ]
    },
    {
     "name": "stderr",
     "output_type": "stream",
     "text": [
      "\n"
     ]
    },
    {
     "name": "stdout",
     "output_type": "stream",
     "text": [
      "\n",
      "      Epoch    GPU_mem   box_loss   cls_loss   dfl_loss  Instances       Size\n"
     ]
    },
    {
     "name": "stderr",
     "output_type": "stream",
     "text": [
      "     62/300      11.2G      1.564     0.9868      0.918          5        640: 100%|██████████| 61/61 [09:33<00:00,  9.41s/it]\n",
      "                 Class     Images  Instances      Box(P          R      mAP50  mAP50-95): 100%|██████████| 4/4 [00:25<00:00,  6.38s/it]"
     ]
    },
    {
     "name": "stdout",
     "output_type": "stream",
     "text": [
      "                   all        118        118      0.665       0.72      0.676      0.298\n"
     ]
    },
    {
     "name": "stderr",
     "output_type": "stream",
     "text": [
      "\n"
     ]
    },
    {
     "name": "stdout",
     "output_type": "stream",
     "text": [
      "\n",
      "      Epoch    GPU_mem   box_loss   cls_loss   dfl_loss  Instances       Size\n"
     ]
    },
    {
     "name": "stderr",
     "output_type": "stream",
     "text": [
      "     63/300      11.2G       1.57      1.012      0.919          2        640: 100%|██████████| 61/61 [06:07<00:00,  6.02s/it]\n",
      "                 Class     Images  Instances      Box(P          R      mAP50  mAP50-95): 100%|██████████| 4/4 [00:23<00:00,  5.83s/it]"
     ]
    },
    {
     "name": "stdout",
     "output_type": "stream",
     "text": [
      "                   all        118        118      0.597      0.653      0.632      0.297\n"
     ]
    },
    {
     "name": "stderr",
     "output_type": "stream",
     "text": [
      "\n"
     ]
    },
    {
     "name": "stdout",
     "output_type": "stream",
     "text": [
      "\n",
      "      Epoch    GPU_mem   box_loss   cls_loss   dfl_loss  Instances       Size\n"
     ]
    },
    {
     "name": "stderr",
     "output_type": "stream",
     "text": [
      "     64/300      11.1G      1.531     0.9624      0.935          3        640: 100%|██████████| 61/61 [04:53<00:00,  4.81s/it]\n",
      "                 Class     Images  Instances      Box(P          R      mAP50  mAP50-95): 100%|██████████| 4/4 [00:14<00:00,  3.57s/it]"
     ]
    },
    {
     "name": "stdout",
     "output_type": "stream",
     "text": [
      "                   all        118        118      0.688      0.674      0.657      0.317\n"
     ]
    },
    {
     "name": "stderr",
     "output_type": "stream",
     "text": [
      "\n"
     ]
    },
    {
     "name": "stdout",
     "output_type": "stream",
     "text": [
      "\n",
      "      Epoch    GPU_mem   box_loss   cls_loss   dfl_loss  Instances       Size\n"
     ]
    },
    {
     "name": "stderr",
     "output_type": "stream",
     "text": [
      "     65/300      11.1G      1.578      1.004     0.9203          5        640: 100%|██████████| 61/61 [01:25<00:00,  1.40s/it]\n",
      "                 Class     Images  Instances      Box(P          R      mAP50  mAP50-95): 100%|██████████| 4/4 [00:17<00:00,  4.36s/it]"
     ]
    },
    {
     "name": "stdout",
     "output_type": "stream",
     "text": [
      "                   all        118        118       0.63      0.703        0.7      0.359\n"
     ]
    },
    {
     "name": "stderr",
     "output_type": "stream",
     "text": [
      "\n"
     ]
    },
    {
     "name": "stdout",
     "output_type": "stream",
     "text": [
      "\n",
      "      Epoch    GPU_mem   box_loss   cls_loss   dfl_loss  Instances       Size\n"
     ]
    },
    {
     "name": "stderr",
     "output_type": "stream",
     "text": [
      "     66/300      11.2G      1.555     0.9575     0.9013          1        640: 100%|██████████| 61/61 [04:30<00:00,  4.43s/it]\n",
      "                 Class     Images  Instances      Box(P          R      mAP50  mAP50-95): 100%|██████████| 4/4 [00:16<00:00,  4.20s/it]"
     ]
    },
    {
     "name": "stdout",
     "output_type": "stream",
     "text": [
      "                   all        118        118      0.653      0.703       0.64      0.307\n"
     ]
    },
    {
     "name": "stderr",
     "output_type": "stream",
     "text": [
      "\n"
     ]
    },
    {
     "name": "stdout",
     "output_type": "stream",
     "text": [
      "\n",
      "      Epoch    GPU_mem   box_loss   cls_loss   dfl_loss  Instances       Size\n"
     ]
    },
    {
     "name": "stderr",
     "output_type": "stream",
     "text": [
      "     67/300      11.2G      1.625      1.061     0.9152          4        640: 100%|██████████| 61/61 [01:31<00:00,  1.50s/it]\n",
      "                 Class     Images  Instances      Box(P          R      mAP50  mAP50-95): 100%|██████████| 4/4 [00:18<00:00,  4.75s/it]"
     ]
    },
    {
     "name": "stdout",
     "output_type": "stream",
     "text": [
      "                   all        118        118      0.633      0.701      0.645       0.31\n"
     ]
    },
    {
     "name": "stderr",
     "output_type": "stream",
     "text": [
      "\n"
     ]
    },
    {
     "name": "stdout",
     "output_type": "stream",
     "text": [
      "\n",
      "      Epoch    GPU_mem   box_loss   cls_loss   dfl_loss  Instances       Size\n"
     ]
    },
    {
     "name": "stderr",
     "output_type": "stream",
     "text": [
      "     68/300        11G      1.621     0.9991     0.9317          3        640: 100%|██████████| 61/61 [02:02<00:00,  2.00s/it]\n",
      "                 Class     Images  Instances      Box(P          R      mAP50  mAP50-95): 100%|██████████| 4/4 [00:10<00:00,  2.67s/it]"
     ]
    },
    {
     "name": "stdout",
     "output_type": "stream",
     "text": [
      "                   all        118        118      0.664      0.719       0.72      0.351\n"
     ]
    },
    {
     "name": "stderr",
     "output_type": "stream",
     "text": [
      "\n"
     ]
    },
    {
     "name": "stdout",
     "output_type": "stream",
     "text": [
      "\n",
      "      Epoch    GPU_mem   box_loss   cls_loss   dfl_loss  Instances       Size\n"
     ]
    },
    {
     "name": "stderr",
     "output_type": "stream",
     "text": [
      "     69/300      11.2G      1.551     0.9464     0.9055          7        640: 100%|██████████| 61/61 [01:49<00:00,  1.80s/it]\n",
      "                 Class     Images  Instances      Box(P          R      mAP50  mAP50-95): 100%|██████████| 4/4 [00:19<00:00,  4.82s/it]"
     ]
    },
    {
     "name": "stdout",
     "output_type": "stream",
     "text": [
      "                   all        118        118      0.743      0.637      0.705       0.35\n"
     ]
    },
    {
     "name": "stderr",
     "output_type": "stream",
     "text": [
      "\n"
     ]
    },
    {
     "name": "stdout",
     "output_type": "stream",
     "text": [
      "\n",
      "      Epoch    GPU_mem   box_loss   cls_loss   dfl_loss  Instances       Size\n"
     ]
    },
    {
     "name": "stderr",
     "output_type": "stream",
     "text": [
      "     70/300      11.1G      1.581     0.9917     0.9176          3        640: 100%|██████████| 61/61 [06:31<00:00,  6.41s/it]\n",
      "                 Class     Images  Instances      Box(P          R      mAP50  mAP50-95): 100%|██████████| 4/4 [00:12<00:00,  3.19s/it]"
     ]
    },
    {
     "name": "stdout",
     "output_type": "stream",
     "text": [
      "                   all        118        118      0.683      0.639      0.713      0.356\n"
     ]
    },
    {
     "name": "stderr",
     "output_type": "stream",
     "text": [
      "\n"
     ]
    },
    {
     "name": "stdout",
     "output_type": "stream",
     "text": [
      "\n",
      "      Epoch    GPU_mem   box_loss   cls_loss   dfl_loss  Instances       Size\n"
     ]
    },
    {
     "name": "stderr",
     "output_type": "stream",
     "text": [
      "     71/300      11.2G      1.584     0.9551     0.9162          2        640: 100%|██████████| 61/61 [03:59<00:00,  3.93s/it]\n",
      "                 Class     Images  Instances      Box(P          R      mAP50  mAP50-95): 100%|██████████| 4/4 [00:20<00:00,  5.08s/it]"
     ]
    },
    {
     "name": "stdout",
     "output_type": "stream",
     "text": [
      "                   all        118        118      0.663      0.366      0.457      0.225\n"
     ]
    },
    {
     "name": "stderr",
     "output_type": "stream",
     "text": [
      "\n"
     ]
    },
    {
     "name": "stdout",
     "output_type": "stream",
     "text": [
      "\n",
      "      Epoch    GPU_mem   box_loss   cls_loss   dfl_loss  Instances       Size\n"
     ]
    },
    {
     "name": "stderr",
     "output_type": "stream",
     "text": [
      "     72/300      11.3G      1.555     0.9429     0.9194          6        640: 100%|██████████| 61/61 [04:53<00:00,  4.81s/it]\n",
      "                 Class     Images  Instances      Box(P          R      mAP50  mAP50-95): 100%|██████████| 4/4 [00:11<00:00,  2.89s/it]"
     ]
    },
    {
     "name": "stdout",
     "output_type": "stream",
     "text": [
      "                   all        118        118      0.638      0.619      0.647      0.296\n"
     ]
    },
    {
     "name": "stderr",
     "output_type": "stream",
     "text": [
      "\n"
     ]
    },
    {
     "name": "stdout",
     "output_type": "stream",
     "text": [
      "\n",
      "      Epoch    GPU_mem   box_loss   cls_loss   dfl_loss  Instances       Size\n"
     ]
    },
    {
     "name": "stderr",
     "output_type": "stream",
     "text": [
      "     73/300      11.4G      1.593     0.9706     0.9212          2        640: 100%|██████████| 61/61 [03:21<00:00,  3.30s/it]\n",
      "                 Class     Images  Instances      Box(P          R      mAP50  mAP50-95): 100%|██████████| 4/4 [00:20<00:00,  5.15s/it]"
     ]
    },
    {
     "name": "stdout",
     "output_type": "stream",
     "text": [
      "                   all        118        118      0.744      0.636      0.741      0.368\n"
     ]
    },
    {
     "name": "stderr",
     "output_type": "stream",
     "text": [
      "\n"
     ]
    },
    {
     "name": "stdout",
     "output_type": "stream",
     "text": [
      "\n",
      "      Epoch    GPU_mem   box_loss   cls_loss   dfl_loss  Instances       Size\n"
     ]
    },
    {
     "name": "stderr",
     "output_type": "stream",
     "text": [
      "     74/300      11.2G      1.561     0.9445     0.9132          5        640: 100%|██████████| 61/61 [05:59<00:00,  5.89s/it]\n",
      "                 Class     Images  Instances      Box(P          R      mAP50  mAP50-95): 100%|██████████| 4/4 [00:22<00:00,  5.69s/it]"
     ]
    },
    {
     "name": "stdout",
     "output_type": "stream",
     "text": [
      "                   all        118        118      0.621      0.534      0.562      0.291\n"
     ]
    },
    {
     "name": "stderr",
     "output_type": "stream",
     "text": [
      "\n"
     ]
    },
    {
     "name": "stdout",
     "output_type": "stream",
     "text": [
      "\n",
      "      Epoch    GPU_mem   box_loss   cls_loss   dfl_loss  Instances       Size\n"
     ]
    },
    {
     "name": "stderr",
     "output_type": "stream",
     "text": [
      "     75/300      11.2G      1.483      0.931     0.9026          5        640: 100%|██████████| 61/61 [02:11<00:00,  2.16s/it]\n",
      "                 Class     Images  Instances      Box(P          R      mAP50  mAP50-95): 100%|██████████| 4/4 [00:18<00:00,  4.55s/it]"
     ]
    },
    {
     "name": "stdout",
     "output_type": "stream",
     "text": [
      "                   all        118        118      0.563      0.669      0.621      0.272\n"
     ]
    },
    {
     "name": "stderr",
     "output_type": "stream",
     "text": [
      "\n"
     ]
    },
    {
     "name": "stdout",
     "output_type": "stream",
     "text": [
      "\n",
      "      Epoch    GPU_mem   box_loss   cls_loss   dfl_loss  Instances       Size\n"
     ]
    },
    {
     "name": "stderr",
     "output_type": "stream",
     "text": [
      "     76/300        11G      1.475     0.9169     0.9052          4        640: 100%|██████████| 61/61 [02:54<00:00,  2.86s/it]\n",
      "                 Class     Images  Instances      Box(P          R      mAP50  mAP50-95): 100%|██████████| 4/4 [00:14<00:00,  3.72s/it]"
     ]
    },
    {
     "name": "stdout",
     "output_type": "stream",
     "text": [
      "                   all        118        118      0.643      0.619      0.697      0.375\n"
     ]
    },
    {
     "name": "stderr",
     "output_type": "stream",
     "text": [
      "\n"
     ]
    },
    {
     "name": "stdout",
     "output_type": "stream",
     "text": [
      "\n",
      "      Epoch    GPU_mem   box_loss   cls_loss   dfl_loss  Instances       Size\n"
     ]
    },
    {
     "name": "stderr",
     "output_type": "stream",
     "text": [
      "     77/300      11.4G      1.593      1.002     0.9347          3        640: 100%|██████████| 61/61 [03:16<00:00,  3.22s/it]\n",
      "                 Class     Images  Instances      Box(P          R      mAP50  mAP50-95): 100%|██████████| 4/4 [00:15<00:00,  3.93s/it]"
     ]
    },
    {
     "name": "stdout",
     "output_type": "stream",
     "text": [
      "                   all        118        118      0.696      0.653       0.71       0.35\n"
     ]
    },
    {
     "name": "stderr",
     "output_type": "stream",
     "text": [
      "\n"
     ]
    },
    {
     "name": "stdout",
     "output_type": "stream",
     "text": [
      "\n",
      "      Epoch    GPU_mem   box_loss   cls_loss   dfl_loss  Instances       Size\n"
     ]
    },
    {
     "name": "stderr",
     "output_type": "stream",
     "text": [
      "     78/300      11.1G      1.485     0.9139     0.9106          5        640: 100%|██████████| 61/61 [02:38<00:00,  2.60s/it]\n",
      "                 Class     Images  Instances      Box(P          R      mAP50  mAP50-95): 100%|██████████| 4/4 [00:15<00:00,  3.80s/it]"
     ]
    },
    {
     "name": "stdout",
     "output_type": "stream",
     "text": [
      "                   all        118        118      0.766      0.644      0.701      0.327\n"
     ]
    },
    {
     "name": "stderr",
     "output_type": "stream",
     "text": [
      "\n"
     ]
    },
    {
     "name": "stdout",
     "output_type": "stream",
     "text": [
      "\n",
      "      Epoch    GPU_mem   box_loss   cls_loss   dfl_loss  Instances       Size\n"
     ]
    },
    {
     "name": "stderr",
     "output_type": "stream",
     "text": [
      "     79/300      11.2G      1.468     0.8817     0.9161          3        640: 100%|██████████| 61/61 [02:40<00:00,  2.63s/it]\n",
      "                 Class     Images  Instances      Box(P          R      mAP50  mAP50-95): 100%|██████████| 4/4 [00:40<00:00, 10.11s/it]"
     ]
    },
    {
     "name": "stdout",
     "output_type": "stream",
     "text": [
      "                   all        118        118      0.657      0.653      0.716      0.363\n"
     ]
    },
    {
     "name": "stderr",
     "output_type": "stream",
     "text": [
      "\n"
     ]
    },
    {
     "name": "stdout",
     "output_type": "stream",
     "text": [
      "\n",
      "      Epoch    GPU_mem   box_loss   cls_loss   dfl_loss  Instances       Size\n"
     ]
    },
    {
     "name": "stderr",
     "output_type": "stream",
     "text": [
      "     80/300      11.3G      1.506     0.9008     0.9053          3        640: 100%|██████████| 61/61 [08:18<00:00,  8.16s/it]\n",
      "                 Class     Images  Instances      Box(P          R      mAP50  mAP50-95): 100%|██████████| 4/4 [00:12<00:00,  3.11s/it]"
     ]
    },
    {
     "name": "stdout",
     "output_type": "stream",
     "text": [
      "                   all        118        118      0.685      0.653      0.719      0.357\n"
     ]
    },
    {
     "name": "stderr",
     "output_type": "stream",
     "text": [
      "\n"
     ]
    },
    {
     "name": "stdout",
     "output_type": "stream",
     "text": [
      "\n",
      "      Epoch    GPU_mem   box_loss   cls_loss   dfl_loss  Instances       Size\n"
     ]
    },
    {
     "name": "stderr",
     "output_type": "stream",
     "text": [
      "     81/300      11.2G      1.461     0.8932     0.9088          6        640: 100%|██████████| 61/61 [03:36<00:00,  3.55s/it]\n",
      "                 Class     Images  Instances      Box(P          R      mAP50  mAP50-95): 100%|██████████| 4/4 [00:21<00:00,  5.27s/it]"
     ]
    },
    {
     "name": "stdout",
     "output_type": "stream",
     "text": [
      "                   all        118        118      0.647      0.636      0.656      0.296\n"
     ]
    },
    {
     "name": "stderr",
     "output_type": "stream",
     "text": [
      "\n"
     ]
    },
    {
     "name": "stdout",
     "output_type": "stream",
     "text": [
      "\n",
      "      Epoch    GPU_mem   box_loss   cls_loss   dfl_loss  Instances       Size\n"
     ]
    },
    {
     "name": "stderr",
     "output_type": "stream",
     "text": [
      "     82/300      11.4G      1.526     0.9287     0.9039          4        640: 100%|██████████| 61/61 [05:02<00:00,  4.97s/it]\n",
      "                 Class     Images  Instances      Box(P          R      mAP50  mAP50-95): 100%|██████████| 4/4 [00:08<00:00,  2.01s/it]"
     ]
    },
    {
     "name": "stdout",
     "output_type": "stream",
     "text": [
      "                   all        118        118      0.547      0.307      0.396      0.197\n"
     ]
    },
    {
     "name": "stderr",
     "output_type": "stream",
     "text": [
      "\n"
     ]
    },
    {
     "name": "stdout",
     "output_type": "stream",
     "text": [
      "\n",
      "      Epoch    GPU_mem   box_loss   cls_loss   dfl_loss  Instances       Size\n"
     ]
    },
    {
     "name": "stderr",
     "output_type": "stream",
     "text": [
      "     83/300      11.2G      1.534     0.9057      0.909          5        640: 100%|██████████| 61/61 [06:54<00:00,  6.79s/it]\n",
      "                 Class     Images  Instances      Box(P          R      mAP50  mAP50-95): 100%|██████████| 4/4 [00:17<00:00,  4.29s/it]"
     ]
    },
    {
     "name": "stdout",
     "output_type": "stream",
     "text": [
      "                   all        118        118      0.711      0.749       0.75      0.357\n"
     ]
    },
    {
     "name": "stderr",
     "output_type": "stream",
     "text": [
      "\n"
     ]
    },
    {
     "name": "stdout",
     "output_type": "stream",
     "text": [
      "\n",
      "      Epoch    GPU_mem   box_loss   cls_loss   dfl_loss  Instances       Size\n"
     ]
    },
    {
     "name": "stderr",
     "output_type": "stream",
     "text": [
      "     84/300      11.1G      1.476     0.9084     0.9012          6        640: 100%|██████████| 61/61 [04:38<00:00,  4.57s/it]\n",
      "                 Class     Images  Instances      Box(P          R      mAP50  mAP50-95): 100%|██████████| 4/4 [00:14<00:00,  3.65s/it]"
     ]
    },
    {
     "name": "stdout",
     "output_type": "stream",
     "text": [
      "                   all        118        118      0.643      0.754       0.72      0.334\n"
     ]
    },
    {
     "name": "stderr",
     "output_type": "stream",
     "text": [
      "\n"
     ]
    },
    {
     "name": "stdout",
     "output_type": "stream",
     "text": [
      "\n",
      "      Epoch    GPU_mem   box_loss   cls_loss   dfl_loss  Instances       Size\n"
     ]
    },
    {
     "name": "stderr",
     "output_type": "stream",
     "text": [
      "     85/300      11.4G      1.467        0.9     0.8922          6        640: 100%|██████████| 61/61 [06:14<00:00,  6.15s/it]\n",
      "                 Class     Images  Instances      Box(P          R      mAP50  mAP50-95): 100%|██████████| 4/4 [00:28<00:00,  7.06s/it]"
     ]
    },
    {
     "name": "stdout",
     "output_type": "stream",
     "text": [
      "                   all        118        118       0.72      0.525       0.64      0.302\n"
     ]
    },
    {
     "name": "stderr",
     "output_type": "stream",
     "text": [
      "\n"
     ]
    },
    {
     "name": "stdout",
     "output_type": "stream",
     "text": [
      "\n",
      "      Epoch    GPU_mem   box_loss   cls_loss   dfl_loss  Instances       Size\n"
     ]
    },
    {
     "name": "stderr",
     "output_type": "stream",
     "text": [
      "     86/300      11.4G      1.521     0.8789       0.92          2        640: 100%|██████████| 61/61 [12:45<00:00, 12.56s/it]\n",
      "                 Class     Images  Instances      Box(P          R      mAP50  mAP50-95): 100%|██████████| 4/4 [00:36<00:00,  9.19s/it]"
     ]
    },
    {
     "name": "stdout",
     "output_type": "stream",
     "text": [
      "                   all        118        118      0.703      0.602      0.709      0.344\n"
     ]
    },
    {
     "name": "stderr",
     "output_type": "stream",
     "text": [
      "\n"
     ]
    },
    {
     "name": "stdout",
     "output_type": "stream",
     "text": [
      "\n",
      "      Epoch    GPU_mem   box_loss   cls_loss   dfl_loss  Instances       Size\n"
     ]
    },
    {
     "name": "stderr",
     "output_type": "stream",
     "text": [
      "     87/300      11.1G      1.466     0.8988     0.8879          2        640: 100%|██████████| 61/61 [03:38<00:00,  3.58s/it]\n",
      "                 Class     Images  Instances      Box(P          R      mAP50  mAP50-95): 100%|██████████| 4/4 [00:43<00:00, 10.98s/it]"
     ]
    },
    {
     "name": "stdout",
     "output_type": "stream",
     "text": [
      "                   all        118        118      0.638      0.717      0.727       0.37\n"
     ]
    },
    {
     "name": "stderr",
     "output_type": "stream",
     "text": [
      "\n"
     ]
    },
    {
     "name": "stdout",
     "output_type": "stream",
     "text": [
      "\n",
      "      Epoch    GPU_mem   box_loss   cls_loss   dfl_loss  Instances       Size\n"
     ]
    },
    {
     "name": "stderr",
     "output_type": "stream",
     "text": [
      "     88/300        11G      1.495      0.887     0.8891          2        640: 100%|██████████| 61/61 [01:50<00:00,  1.81s/it]\n",
      "                 Class     Images  Instances      Box(P          R      mAP50  mAP50-95): 100%|██████████| 4/4 [00:16<00:00,  4.10s/it]"
     ]
    },
    {
     "name": "stdout",
     "output_type": "stream",
     "text": [
      "                   all        118        118      0.693      0.661      0.677       0.33\n"
     ]
    },
    {
     "name": "stderr",
     "output_type": "stream",
     "text": [
      "\n"
     ]
    },
    {
     "name": "stdout",
     "output_type": "stream",
     "text": [
      "\n",
      "      Epoch    GPU_mem   box_loss   cls_loss   dfl_loss  Instances       Size\n"
     ]
    },
    {
     "name": "stderr",
     "output_type": "stream",
     "text": [
      "     89/300      11.2G      1.465     0.8782     0.9007          4        640: 100%|██████████| 61/61 [02:31<00:00,  2.49s/it]\n",
      "                 Class     Images  Instances      Box(P          R      mAP50  mAP50-95): 100%|██████████| 4/4 [00:20<00:00,  5.16s/it]"
     ]
    },
    {
     "name": "stdout",
     "output_type": "stream",
     "text": [
      "                   all        118        118      0.664      0.661      0.672       0.35\n"
     ]
    },
    {
     "name": "stderr",
     "output_type": "stream",
     "text": [
      "\n"
     ]
    },
    {
     "name": "stdout",
     "output_type": "stream",
     "text": [
      "\n",
      "      Epoch    GPU_mem   box_loss   cls_loss   dfl_loss  Instances       Size\n"
     ]
    },
    {
     "name": "stderr",
     "output_type": "stream",
     "text": [
      "     90/300      11.1G      1.471      0.912     0.9031          6        640: 100%|██████████| 61/61 [03:38<00:00,  3.58s/it]\n",
      "                 Class     Images  Instances      Box(P          R      mAP50  mAP50-95): 100%|██████████| 4/4 [00:16<00:00,  4.08s/it]"
     ]
    },
    {
     "name": "stdout",
     "output_type": "stream",
     "text": [
      "                   all        118        118      0.669      0.618      0.606      0.297\n"
     ]
    },
    {
     "name": "stderr",
     "output_type": "stream",
     "text": [
      "\n"
     ]
    },
    {
     "name": "stdout",
     "output_type": "stream",
     "text": [
      "\n",
      "      Epoch    GPU_mem   box_loss   cls_loss   dfl_loss  Instances       Size\n"
     ]
    },
    {
     "name": "stderr",
     "output_type": "stream",
     "text": [
      "     91/300      11.2G      1.494     0.8808     0.9162          2        640: 100%|██████████| 61/61 [02:56<00:00,  2.90s/it]\n",
      "                 Class     Images  Instances      Box(P          R      mAP50  mAP50-95): 100%|██████████| 4/4 [00:18<00:00,  4.56s/it]"
     ]
    },
    {
     "name": "stdout",
     "output_type": "stream",
     "text": [
      "                   all        118        118      0.656      0.729      0.712      0.319\n"
     ]
    },
    {
     "name": "stderr",
     "output_type": "stream",
     "text": [
      "\n"
     ]
    },
    {
     "name": "stdout",
     "output_type": "stream",
     "text": [
      "\n",
      "      Epoch    GPU_mem   box_loss   cls_loss   dfl_loss  Instances       Size\n"
     ]
    },
    {
     "name": "stderr",
     "output_type": "stream",
     "text": [
      "     92/300      11.1G      1.501     0.9022     0.8918          3        640: 100%|██████████| 61/61 [03:41<00:00,  3.63s/it]\n",
      "                 Class     Images  Instances      Box(P          R      mAP50  mAP50-95): 100%|██████████| 4/4 [00:14<00:00,  3.71s/it]"
     ]
    },
    {
     "name": "stdout",
     "output_type": "stream",
     "text": [
      "                   all        118        118      0.657      0.686      0.676      0.301\n"
     ]
    },
    {
     "name": "stderr",
     "output_type": "stream",
     "text": [
      "\n"
     ]
    },
    {
     "name": "stdout",
     "output_type": "stream",
     "text": [
      "\n",
      "      Epoch    GPU_mem   box_loss   cls_loss   dfl_loss  Instances       Size\n"
     ]
    },
    {
     "name": "stderr",
     "output_type": "stream",
     "text": [
      "     93/300      11.4G      1.443     0.8539      0.893          7        640: 100%|██████████| 61/61 [02:12<00:00,  2.17s/it]\n",
      "                 Class     Images  Instances      Box(P          R      mAP50  mAP50-95): 100%|██████████| 4/4 [00:14<00:00,  3.64s/it]"
     ]
    },
    {
     "name": "stdout",
     "output_type": "stream",
     "text": [
      "                   all        118        118      0.659       0.64      0.688      0.323\n"
     ]
    },
    {
     "name": "stderr",
     "output_type": "stream",
     "text": [
      "\n"
     ]
    },
    {
     "name": "stdout",
     "output_type": "stream",
     "text": [
      "\n",
      "      Epoch    GPU_mem   box_loss   cls_loss   dfl_loss  Instances       Size\n"
     ]
    },
    {
     "name": "stderr",
     "output_type": "stream",
     "text": [
      "     94/300      11.1G      1.416     0.8458     0.8902          3        640: 100%|██████████| 61/61 [02:05<00:00,  2.05s/it]\n",
      "                 Class     Images  Instances      Box(P          R      mAP50  mAP50-95): 100%|██████████| 4/4 [00:15<00:00,  3.94s/it]"
     ]
    },
    {
     "name": "stdout",
     "output_type": "stream",
     "text": [
      "                   all        118        118      0.701      0.677      0.706      0.338\n"
     ]
    },
    {
     "name": "stderr",
     "output_type": "stream",
     "text": [
      "\n"
     ]
    },
    {
     "name": "stdout",
     "output_type": "stream",
     "text": [
      "\n",
      "      Epoch    GPU_mem   box_loss   cls_loss   dfl_loss  Instances       Size\n"
     ]
    },
    {
     "name": "stderr",
     "output_type": "stream",
     "text": [
      "     95/300      11.2G      1.467     0.8915     0.8888          2        640: 100%|██████████| 61/61 [01:46<00:00,  1.74s/it]\n",
      "                 Class     Images  Instances      Box(P          R      mAP50  mAP50-95): 100%|██████████| 4/4 [00:15<00:00,  3.95s/it]"
     ]
    },
    {
     "name": "stdout",
     "output_type": "stream",
     "text": [
      "                   all        118        118      0.633      0.644        0.7      0.353\n"
     ]
    },
    {
     "name": "stderr",
     "output_type": "stream",
     "text": [
      "\n"
     ]
    },
    {
     "name": "stdout",
     "output_type": "stream",
     "text": [
      "\n",
      "      Epoch    GPU_mem   box_loss   cls_loss   dfl_loss  Instances       Size\n"
     ]
    },
    {
     "name": "stderr",
     "output_type": "stream",
     "text": [
      "     96/300      11.3G      1.439     0.8538     0.8967          2        640: 100%|██████████| 61/61 [04:55<00:00,  4.85s/it]\n",
      "                 Class     Images  Instances      Box(P          R      mAP50  mAP50-95): 100%|██████████| 4/4 [00:09<00:00,  2.46s/it]"
     ]
    },
    {
     "name": "stdout",
     "output_type": "stream",
     "text": [
      "                   all        118        118      0.646      0.604      0.658      0.326\n"
     ]
    },
    {
     "name": "stderr",
     "output_type": "stream",
     "text": [
      "\n"
     ]
    },
    {
     "name": "stdout",
     "output_type": "stream",
     "text": [
      "\n",
      "      Epoch    GPU_mem   box_loss   cls_loss   dfl_loss  Instances       Size\n"
     ]
    },
    {
     "name": "stderr",
     "output_type": "stream",
     "text": [
      "     97/300      11.4G      1.397     0.8265     0.8922          4        640: 100%|██████████| 61/61 [04:31<00:00,  4.45s/it]\n",
      "                 Class     Images  Instances      Box(P          R      mAP50  mAP50-95): 100%|██████████| 4/4 [00:14<00:00,  3.72s/it]"
     ]
    },
    {
     "name": "stdout",
     "output_type": "stream",
     "text": [
      "                   all        118        118      0.736      0.737      0.784      0.383\n"
     ]
    },
    {
     "name": "stderr",
     "output_type": "stream",
     "text": [
      "\n"
     ]
    },
    {
     "name": "stdout",
     "output_type": "stream",
     "text": [
      "\n",
      "      Epoch    GPU_mem   box_loss   cls_loss   dfl_loss  Instances       Size\n"
     ]
    },
    {
     "name": "stderr",
     "output_type": "stream",
     "text": [
      "     98/300      11.2G      1.447     0.8363     0.9011          6        640: 100%|██████████| 61/61 [04:56<00:00,  4.87s/it]\n",
      "                 Class     Images  Instances      Box(P          R      mAP50  mAP50-95): 100%|██████████| 4/4 [00:18<00:00,  4.70s/it]"
     ]
    },
    {
     "name": "stdout",
     "output_type": "stream",
     "text": [
      "                   all        118        118      0.628      0.715      0.707      0.337\n"
     ]
    },
    {
     "name": "stderr",
     "output_type": "stream",
     "text": [
      "\n"
     ]
    },
    {
     "name": "stdout",
     "output_type": "stream",
     "text": [
      "\n",
      "      Epoch    GPU_mem   box_loss   cls_loss   dfl_loss  Instances       Size\n"
     ]
    },
    {
     "name": "stderr",
     "output_type": "stream",
     "text": [
      "     99/300      11.2G      1.478     0.8835     0.9053          6        640: 100%|██████████| 61/61 [03:13<00:00,  3.18s/it]\n",
      "                 Class     Images  Instances      Box(P          R      mAP50  mAP50-95): 100%|██████████| 4/4 [00:16<00:00,  4.22s/it]"
     ]
    },
    {
     "name": "stdout",
     "output_type": "stream",
     "text": [
      "                   all        118        118      0.675      0.685      0.729      0.355\n"
     ]
    },
    {
     "name": "stderr",
     "output_type": "stream",
     "text": [
      "\n"
     ]
    },
    {
     "name": "stdout",
     "output_type": "stream",
     "text": [
      "\n",
      "      Epoch    GPU_mem   box_loss   cls_loss   dfl_loss  Instances       Size\n"
     ]
    },
    {
     "name": "stderr",
     "output_type": "stream",
     "text": [
      "    100/300        11G      1.338     0.7825     0.8749          7        640: 100%|██████████| 61/61 [02:41<00:00,  2.65s/it]\n",
      "                 Class     Images  Instances      Box(P          R      mAP50  mAP50-95): 100%|██████████| 4/4 [00:15<00:00,  3.99s/it]"
     ]
    },
    {
     "name": "stdout",
     "output_type": "stream",
     "text": [
      "                   all        118        118      0.659      0.712      0.725      0.372\n"
     ]
    },
    {
     "name": "stderr",
     "output_type": "stream",
     "text": [
      "\n"
     ]
    },
    {
     "name": "stdout",
     "output_type": "stream",
     "text": [
      "\n",
      "      Epoch    GPU_mem   box_loss   cls_loss   dfl_loss  Instances       Size\n"
     ]
    },
    {
     "name": "stderr",
     "output_type": "stream",
     "text": [
      "    101/300      11.4G      1.371     0.8044     0.8866          3        640: 100%|██████████| 61/61 [06:28<00:00,  6.37s/it]\n",
      "                 Class     Images  Instances      Box(P          R      mAP50  mAP50-95): 100%|██████████| 4/4 [00:21<00:00,  5.33s/it]"
     ]
    },
    {
     "name": "stdout",
     "output_type": "stream",
     "text": [
      "                   all        118        118      0.616      0.763      0.716      0.359\n"
     ]
    },
    {
     "name": "stderr",
     "output_type": "stream",
     "text": [
      "\n"
     ]
    },
    {
     "name": "stdout",
     "output_type": "stream",
     "text": [
      "\n",
      "      Epoch    GPU_mem   box_loss   cls_loss   dfl_loss  Instances       Size\n"
     ]
    },
    {
     "name": "stderr",
     "output_type": "stream",
     "text": [
      "    102/300      11.2G      1.486     0.8659     0.8868          5        640: 100%|██████████| 61/61 [07:17<00:00,  7.17s/it]\n",
      "                 Class     Images  Instances      Box(P          R      mAP50  mAP50-95): 100%|██████████| 4/4 [00:40<00:00, 10.04s/it]"
     ]
    },
    {
     "name": "stdout",
     "output_type": "stream",
     "text": [
      "                   all        118        118      0.681      0.633      0.675       0.34\n"
     ]
    },
    {
     "name": "stderr",
     "output_type": "stream",
     "text": [
      "\n"
     ]
    },
    {
     "name": "stdout",
     "output_type": "stream",
     "text": [
      "\n",
      "      Epoch    GPU_mem   box_loss   cls_loss   dfl_loss  Instances       Size\n"
     ]
    },
    {
     "name": "stderr",
     "output_type": "stream",
     "text": [
      "    103/300      11.2G      1.409     0.8417     0.8782          3        640: 100%|██████████| 61/61 [03:48<00:00,  3.75s/it]\n",
      "                 Class     Images  Instances      Box(P          R      mAP50  mAP50-95): 100%|██████████| 4/4 [00:24<00:00,  6.16s/it]"
     ]
    },
    {
     "name": "stdout",
     "output_type": "stream",
     "text": [
      "                   all        118        118      0.751      0.689      0.755      0.392\n"
     ]
    },
    {
     "name": "stderr",
     "output_type": "stream",
     "text": [
      "\n"
     ]
    },
    {
     "name": "stdout",
     "output_type": "stream",
     "text": [
      "\n",
      "      Epoch    GPU_mem   box_loss   cls_loss   dfl_loss  Instances       Size\n"
     ]
    },
    {
     "name": "stderr",
     "output_type": "stream",
     "text": [
      "    104/300      11.1G      1.369     0.8335     0.8838          2        640: 100%|██████████| 61/61 [06:54<00:00,  6.79s/it]\n",
      "                 Class     Images  Instances      Box(P          R      mAP50  mAP50-95): 100%|██████████| 4/4 [00:15<00:00,  3.96s/it]"
     ]
    },
    {
     "name": "stdout",
     "output_type": "stream",
     "text": [
      "                   all        118        118      0.624      0.737      0.728      0.356\n"
     ]
    },
    {
     "name": "stderr",
     "output_type": "stream",
     "text": [
      "\n"
     ]
    },
    {
     "name": "stdout",
     "output_type": "stream",
     "text": [
      "\n",
      "      Epoch    GPU_mem   box_loss   cls_loss   dfl_loss  Instances       Size\n"
     ]
    },
    {
     "name": "stderr",
     "output_type": "stream",
     "text": [
      "    105/300      11.2G      1.355     0.8036     0.8842          4        640: 100%|██████████| 61/61 [02:14<00:00,  2.20s/it]\n",
      "                 Class     Images  Instances      Box(P          R      mAP50  mAP50-95): 100%|██████████| 4/4 [00:20<00:00,  5.11s/it]"
     ]
    },
    {
     "name": "stdout",
     "output_type": "stream",
     "text": [
      "                   all        118        118      0.715      0.658      0.715      0.373\n"
     ]
    },
    {
     "name": "stderr",
     "output_type": "stream",
     "text": [
      "\n"
     ]
    },
    {
     "name": "stdout",
     "output_type": "stream",
     "text": [
      "\n",
      "      Epoch    GPU_mem   box_loss   cls_loss   dfl_loss  Instances       Size\n"
     ]
    },
    {
     "name": "stderr",
     "output_type": "stream",
     "text": [
      "    106/300      11.2G      1.386     0.8435     0.8657          3        640: 100%|██████████| 61/61 [04:34<00:00,  4.51s/it]\n",
      "                 Class     Images  Instances      Box(P          R      mAP50  mAP50-95): 100%|██████████| 4/4 [00:08<00:00,  2.11s/it]"
     ]
    },
    {
     "name": "stdout",
     "output_type": "stream",
     "text": [
      "                   all        118        118      0.716      0.653      0.719      0.362\n"
     ]
    },
    {
     "name": "stderr",
     "output_type": "stream",
     "text": [
      "\n"
     ]
    },
    {
     "name": "stdout",
     "output_type": "stream",
     "text": [
      "\n",
      "      Epoch    GPU_mem   box_loss   cls_loss   dfl_loss  Instances       Size\n"
     ]
    },
    {
     "name": "stderr",
     "output_type": "stream",
     "text": [
      "    107/300      11.2G      1.405     0.8302      0.889          4        640: 100%|██████████| 61/61 [08:06<00:00,  7.97s/it]\n",
      "                 Class     Images  Instances      Box(P          R      mAP50  mAP50-95): 100%|██████████| 4/4 [00:19<00:00,  4.86s/it]"
     ]
    },
    {
     "name": "stdout",
     "output_type": "stream",
     "text": [
      "                   all        118        118      0.675      0.688      0.699      0.337\n"
     ]
    },
    {
     "name": "stderr",
     "output_type": "stream",
     "text": [
      "\n"
     ]
    },
    {
     "name": "stdout",
     "output_type": "stream",
     "text": [
      "\n",
      "      Epoch    GPU_mem   box_loss   cls_loss   dfl_loss  Instances       Size\n"
     ]
    },
    {
     "name": "stderr",
     "output_type": "stream",
     "text": [
      "    108/300      11.1G      1.335     0.8096     0.8741          5        640: 100%|██████████| 61/61 [04:37<00:00,  4.55s/it]\n",
      "                 Class     Images  Instances      Box(P          R      mAP50  mAP50-95): 100%|██████████| 4/4 [00:17<00:00,  4.35s/it]"
     ]
    },
    {
     "name": "stdout",
     "output_type": "stream",
     "text": [
      "                   all        118        118      0.635      0.686      0.667      0.313\n"
     ]
    },
    {
     "name": "stderr",
     "output_type": "stream",
     "text": [
      "\n"
     ]
    },
    {
     "name": "stdout",
     "output_type": "stream",
     "text": [
      "\n",
      "      Epoch    GPU_mem   box_loss   cls_loss   dfl_loss  Instances       Size\n"
     ]
    },
    {
     "name": "stderr",
     "output_type": "stream",
     "text": [
      "    109/300      11.1G      1.352     0.7756      0.879          3        640: 100%|██████████| 61/61 [01:15<00:00,  1.24s/it]\n",
      "                 Class     Images  Instances      Box(P          R      mAP50  mAP50-95): 100%|██████████| 4/4 [00:17<00:00,  4.26s/it]"
     ]
    },
    {
     "name": "stdout",
     "output_type": "stream",
     "text": [
      "                   all        118        118      0.681      0.712      0.701      0.329\n"
     ]
    },
    {
     "name": "stderr",
     "output_type": "stream",
     "text": [
      "\n"
     ]
    },
    {
     "name": "stdout",
     "output_type": "stream",
     "text": [
      "\n",
      "      Epoch    GPU_mem   box_loss   cls_loss   dfl_loss  Instances       Size\n"
     ]
    },
    {
     "name": "stderr",
     "output_type": "stream",
     "text": [
      "    110/300      11.4G      1.395     0.8116     0.8739          3        640: 100%|██████████| 61/61 [05:28<00:00,  5.38s/it]\n",
      "                 Class     Images  Instances      Box(P          R      mAP50  mAP50-95): 100%|██████████| 4/4 [00:07<00:00,  1.89s/it]"
     ]
    },
    {
     "name": "stdout",
     "output_type": "stream",
     "text": [
      "                   all        118        118       0.68      0.757      0.753      0.384\n"
     ]
    },
    {
     "name": "stderr",
     "output_type": "stream",
     "text": [
      "\n"
     ]
    },
    {
     "name": "stdout",
     "output_type": "stream",
     "text": [
      "\n",
      "      Epoch    GPU_mem   box_loss   cls_loss   dfl_loss  Instances       Size\n"
     ]
    },
    {
     "name": "stderr",
     "output_type": "stream",
     "text": [
      "    111/300      11.2G      1.382     0.8156     0.8991          5        640: 100%|██████████| 61/61 [02:09<00:00,  2.13s/it]\n",
      "                 Class     Images  Instances      Box(P          R      mAP50  mAP50-95): 100%|██████████| 4/4 [00:21<00:00,  5.36s/it]"
     ]
    },
    {
     "name": "stdout",
     "output_type": "stream",
     "text": [
      "                   all        118        118      0.737       0.72      0.735      0.369\n"
     ]
    },
    {
     "name": "stderr",
     "output_type": "stream",
     "text": [
      "\n"
     ]
    },
    {
     "name": "stdout",
     "output_type": "stream",
     "text": [
      "\n",
      "      Epoch    GPU_mem   box_loss   cls_loss   dfl_loss  Instances       Size\n"
     ]
    },
    {
     "name": "stderr",
     "output_type": "stream",
     "text": [
      "    112/300      11.1G      1.389     0.8137     0.8873          3        640: 100%|██████████| 61/61 [04:35<00:00,  4.52s/it]\n",
      "                 Class     Images  Instances      Box(P          R      mAP50  mAP50-95): 100%|██████████| 4/4 [00:08<00:00,  2.16s/it]"
     ]
    },
    {
     "name": "stdout",
     "output_type": "stream",
     "text": [
      "                   all        118        118       0.72       0.72      0.756      0.355\n"
     ]
    },
    {
     "name": "stderr",
     "output_type": "stream",
     "text": [
      "\n"
     ]
    },
    {
     "name": "stdout",
     "output_type": "stream",
     "text": [
      "\n",
      "      Epoch    GPU_mem   box_loss   cls_loss   dfl_loss  Instances       Size\n"
     ]
    },
    {
     "name": "stderr",
     "output_type": "stream",
     "text": [
      "    113/300      11.4G      1.316      0.771     0.8666          3        640: 100%|██████████| 61/61 [10:40<00:00, 10.50s/it]\n",
      "                 Class     Images  Instances      Box(P          R      mAP50  mAP50-95): 100%|██████████| 4/4 [00:21<00:00,  5.27s/it]"
     ]
    },
    {
     "name": "stdout",
     "output_type": "stream",
     "text": [
      "                   all        118        118      0.783      0.678      0.765      0.392\n"
     ]
    },
    {
     "name": "stderr",
     "output_type": "stream",
     "text": [
      "\n"
     ]
    },
    {
     "name": "stdout",
     "output_type": "stream",
     "text": [
      "\n",
      "      Epoch    GPU_mem   box_loss   cls_loss   dfl_loss  Instances       Size\n"
     ]
    },
    {
     "name": "stderr",
     "output_type": "stream",
     "text": [
      "    114/300      11.1G      1.375     0.7858     0.8875          5        640: 100%|██████████| 61/61 [06:58<00:00,  6.86s/it]\n",
      "                 Class     Images  Instances      Box(P          R      mAP50  mAP50-95): 100%|██████████| 4/4 [01:02<00:00, 15.65s/it]"
     ]
    },
    {
     "name": "stdout",
     "output_type": "stream",
     "text": [
      "                   all        118        118      0.757      0.712      0.771      0.393\n"
     ]
    },
    {
     "name": "stderr",
     "output_type": "stream",
     "text": [
      "\n"
     ]
    },
    {
     "name": "stdout",
     "output_type": "stream",
     "text": [
      "\n",
      "      Epoch    GPU_mem   box_loss   cls_loss   dfl_loss  Instances       Size\n"
     ]
    },
    {
     "name": "stderr",
     "output_type": "stream",
     "text": [
      "    115/300      11.1G      1.294     0.7485     0.8768          2        640: 100%|██████████| 61/61 [03:06<00:00,  3.06s/it]\n",
      "                 Class     Images  Instances      Box(P          R      mAP50  mAP50-95): 100%|██████████| 4/4 [00:22<00:00,  5.60s/it]"
     ]
    },
    {
     "name": "stdout",
     "output_type": "stream",
     "text": [
      "                   all        118        118      0.789      0.661      0.757      0.383\n"
     ]
    },
    {
     "name": "stderr",
     "output_type": "stream",
     "text": [
      "\n"
     ]
    },
    {
     "name": "stdout",
     "output_type": "stream",
     "text": [
      "\n",
      "      Epoch    GPU_mem   box_loss   cls_loss   dfl_loss  Instances       Size\n"
     ]
    },
    {
     "name": "stderr",
     "output_type": "stream",
     "text": [
      "    116/300      11.1G      1.379     0.8172     0.8711          2        640: 100%|██████████| 61/61 [02:11<00:00,  2.16s/it]\n",
      "                 Class     Images  Instances      Box(P          R      mAP50  mAP50-95): 100%|██████████| 4/4 [00:14<00:00,  3.63s/it]"
     ]
    },
    {
     "name": "stdout",
     "output_type": "stream",
     "text": [
      "                   all        118        118      0.727      0.619      0.683      0.339\n"
     ]
    },
    {
     "name": "stderr",
     "output_type": "stream",
     "text": [
      "\n"
     ]
    },
    {
     "name": "stdout",
     "output_type": "stream",
     "text": [
      "\n",
      "      Epoch    GPU_mem   box_loss   cls_loss   dfl_loss  Instances       Size\n"
     ]
    },
    {
     "name": "stderr",
     "output_type": "stream",
     "text": [
      "    117/300      11.2G      1.371     0.8397     0.8949          1        640: 100%|██████████| 61/61 [04:37<00:00,  4.55s/it]\n",
      "                 Class     Images  Instances      Box(P          R      mAP50  mAP50-95): 100%|██████████| 4/4 [00:20<00:00,  5.19s/it]"
     ]
    },
    {
     "name": "stdout",
     "output_type": "stream",
     "text": [
      "                   all        118        118      0.608      0.789      0.739      0.362\n"
     ]
    },
    {
     "name": "stderr",
     "output_type": "stream",
     "text": [
      "\n"
     ]
    },
    {
     "name": "stdout",
     "output_type": "stream",
     "text": [
      "\n",
      "      Epoch    GPU_mem   box_loss   cls_loss   dfl_loss  Instances       Size\n"
     ]
    },
    {
     "name": "stderr",
     "output_type": "stream",
     "text": [
      "    118/300      11.2G      1.406     0.8191      0.859          4        640: 100%|██████████| 61/61 [04:10<00:00,  4.11s/it]\n",
      "                 Class     Images  Instances      Box(P          R      mAP50  mAP50-95): 100%|██████████| 4/4 [00:08<00:00,  2.13s/it]"
     ]
    },
    {
     "name": "stdout",
     "output_type": "stream",
     "text": [
      "                   all        118        118      0.671      0.712      0.684       0.35\n"
     ]
    },
    {
     "name": "stderr",
     "output_type": "stream",
     "text": [
      "\n"
     ]
    },
    {
     "name": "stdout",
     "output_type": "stream",
     "text": [
      "\n",
      "      Epoch    GPU_mem   box_loss   cls_loss   dfl_loss  Instances       Size\n"
     ]
    },
    {
     "name": "stderr",
     "output_type": "stream",
     "text": [
      "    119/300      11.2G      1.281      0.743     0.8719          6        640: 100%|██████████| 61/61 [02:23<00:00,  2.36s/it]\n",
      "                 Class     Images  Instances      Box(P          R      mAP50  mAP50-95): 100%|██████████| 4/4 [00:17<00:00,  4.33s/it]"
     ]
    },
    {
     "name": "stdout",
     "output_type": "stream",
     "text": [
      "                   all        118        118      0.654      0.695      0.736      0.345\n"
     ]
    },
    {
     "name": "stderr",
     "output_type": "stream",
     "text": [
      "\n"
     ]
    },
    {
     "name": "stdout",
     "output_type": "stream",
     "text": [
      "\n",
      "      Epoch    GPU_mem   box_loss   cls_loss   dfl_loss  Instances       Size\n"
     ]
    },
    {
     "name": "stderr",
     "output_type": "stream",
     "text": [
      "    120/300      11.1G      1.379     0.7796     0.8719          1        640: 100%|██████████| 61/61 [04:16<00:00,  4.20s/it]\n",
      "                 Class     Images  Instances      Box(P          R      mAP50  mAP50-95): 100%|██████████| 4/4 [00:15<00:00,  3.75s/it]"
     ]
    },
    {
     "name": "stdout",
     "output_type": "stream",
     "text": [
      "                   all        118        118      0.649      0.712      0.721       0.37\n"
     ]
    },
    {
     "name": "stderr",
     "output_type": "stream",
     "text": [
      "\n"
     ]
    },
    {
     "name": "stdout",
     "output_type": "stream",
     "text": [
      "\n",
      "      Epoch    GPU_mem   box_loss   cls_loss   dfl_loss  Instances       Size\n"
     ]
    },
    {
     "name": "stderr",
     "output_type": "stream",
     "text": [
      "    121/300      11.2G      1.308     0.7515     0.8774          3        640: 100%|██████████| 61/61 [01:47<00:00,  1.76s/it]\n",
      "                 Class     Images  Instances      Box(P          R      mAP50  mAP50-95): 100%|██████████| 4/4 [00:18<00:00,  4.70s/it]"
     ]
    },
    {
     "name": "stdout",
     "output_type": "stream",
     "text": [
      "                   all        118        118      0.702      0.737      0.745      0.361\n"
     ]
    },
    {
     "name": "stderr",
     "output_type": "stream",
     "text": [
      "\n"
     ]
    },
    {
     "name": "stdout",
     "output_type": "stream",
     "text": [
      "\n",
      "      Epoch    GPU_mem   box_loss   cls_loss   dfl_loss  Instances       Size\n"
     ]
    },
    {
     "name": "stderr",
     "output_type": "stream",
     "text": [
      "    122/300      11.2G      1.312     0.7788     0.8526          2        640: 100%|██████████| 61/61 [05:05<00:00,  5.01s/it]\n",
      "                 Class     Images  Instances      Box(P          R      mAP50  mAP50-95): 100%|██████████| 4/4 [00:17<00:00,  4.34s/it]"
     ]
    },
    {
     "name": "stdout",
     "output_type": "stream",
     "text": [
      "                   all        118        118      0.688      0.727      0.726      0.359\n"
     ]
    },
    {
     "name": "stderr",
     "output_type": "stream",
     "text": [
      "\n"
     ]
    },
    {
     "name": "stdout",
     "output_type": "stream",
     "text": [
      "\n",
      "      Epoch    GPU_mem   box_loss   cls_loss   dfl_loss  Instances       Size\n"
     ]
    },
    {
     "name": "stderr",
     "output_type": "stream",
     "text": [
      "    123/300      11.2G      1.311     0.7647     0.8574          5        640: 100%|██████████| 61/61 [03:52<00:00,  3.81s/it]\n",
      "                 Class     Images  Instances      Box(P          R      mAP50  mAP50-95): 100%|██████████| 4/4 [00:19<00:00,  4.98s/it]"
     ]
    },
    {
     "name": "stdout",
     "output_type": "stream",
     "text": [
      "                   all        118        118      0.684       0.72      0.707      0.358\n"
     ]
    },
    {
     "name": "stderr",
     "output_type": "stream",
     "text": [
      "\n"
     ]
    },
    {
     "name": "stdout",
     "output_type": "stream",
     "text": [
      "\n",
      "      Epoch    GPU_mem   box_loss   cls_loss   dfl_loss  Instances       Size\n"
     ]
    },
    {
     "name": "stderr",
     "output_type": "stream",
     "text": [
      "    124/300        11G      1.302     0.7478     0.8827          5        640: 100%|██████████| 61/61 [04:11<00:00,  4.12s/it]\n",
      "                 Class     Images  Instances      Box(P          R      mAP50  mAP50-95): 100%|██████████| 4/4 [00:19<00:00,  4.75s/it]"
     ]
    },
    {
     "name": "stdout",
     "output_type": "stream",
     "text": [
      "                   all        118        118      0.608       0.75      0.688      0.361\n"
     ]
    },
    {
     "name": "stderr",
     "output_type": "stream",
     "text": [
      "\n"
     ]
    },
    {
     "name": "stdout",
     "output_type": "stream",
     "text": [
      "\n",
      "      Epoch    GPU_mem   box_loss   cls_loss   dfl_loss  Instances       Size\n"
     ]
    },
    {
     "name": "stderr",
     "output_type": "stream",
     "text": [
      "    125/300      11.2G      1.261     0.7701     0.8649          7        640: 100%|██████████| 61/61 [08:59<00:00,  8.85s/it]\n",
      "                 Class     Images  Instances      Box(P          R      mAP50  mAP50-95): 100%|██████████| 4/4 [00:32<00:00,  8.05s/it]"
     ]
    },
    {
     "name": "stdout",
     "output_type": "stream",
     "text": [
      "                   all        118        118      0.673      0.729      0.737      0.374\n"
     ]
    },
    {
     "name": "stderr",
     "output_type": "stream",
     "text": [
      "\n"
     ]
    },
    {
     "name": "stdout",
     "output_type": "stream",
     "text": [
      "\n",
      "      Epoch    GPU_mem   box_loss   cls_loss   dfl_loss  Instances       Size\n"
     ]
    },
    {
     "name": "stderr",
     "output_type": "stream",
     "text": [
      "    126/300      11.2G      1.292     0.7492     0.8606          3        640: 100%|██████████| 61/61 [07:29<00:00,  7.36s/it]\n",
      "                 Class     Images  Instances      Box(P          R      mAP50  mAP50-95): 100%|██████████| 4/4 [00:48<00:00, 12.24s/it]"
     ]
    },
    {
     "name": "stdout",
     "output_type": "stream",
     "text": [
      "                   all        118        118      0.678      0.713      0.753      0.358\n"
     ]
    },
    {
     "name": "stderr",
     "output_type": "stream",
     "text": [
      "\n"
     ]
    },
    {
     "name": "stdout",
     "output_type": "stream",
     "text": [
      "\n",
      "      Epoch    GPU_mem   box_loss   cls_loss   dfl_loss  Instances       Size\n"
     ]
    },
    {
     "name": "stderr",
     "output_type": "stream",
     "text": [
      "    127/300      11.2G      1.351      0.745     0.8714          8        640: 100%|██████████| 61/61 [04:50<00:00,  4.76s/it]\n",
      "                 Class     Images  Instances      Box(P          R      mAP50  mAP50-95): 100%|██████████| 4/4 [00:22<00:00,  5.60s/it]"
     ]
    },
    {
     "name": "stdout",
     "output_type": "stream",
     "text": [
      "                   all        118        118      0.709      0.678      0.702      0.345\n"
     ]
    },
    {
     "name": "stderr",
     "output_type": "stream",
     "text": [
      "\n"
     ]
    },
    {
     "name": "stdout",
     "output_type": "stream",
     "text": [
      "\n",
      "      Epoch    GPU_mem   box_loss   cls_loss   dfl_loss  Instances       Size\n"
     ]
    },
    {
     "name": "stderr",
     "output_type": "stream",
     "text": [
      "    128/300      11.3G      1.281     0.7282     0.8537          5        640: 100%|██████████| 61/61 [08:32<00:00,  8.41s/it]\n",
      "                 Class     Images  Instances      Box(P          R      mAP50  mAP50-95): 100%|██████████| 4/4 [00:11<00:00,  2.82s/it]"
     ]
    },
    {
     "name": "stdout",
     "output_type": "stream",
     "text": [
      "                   all        118        118      0.642      0.712      0.683      0.332\n"
     ]
    },
    {
     "name": "stderr",
     "output_type": "stream",
     "text": [
      "\n"
     ]
    },
    {
     "name": "stdout",
     "output_type": "stream",
     "text": [
      "\n",
      "      Epoch    GPU_mem   box_loss   cls_loss   dfl_loss  Instances       Size\n"
     ]
    },
    {
     "name": "stderr",
     "output_type": "stream",
     "text": [
      "    129/300      11.4G       1.26     0.7111     0.8719          3        640: 100%|██████████| 61/61 [08:51<00:00,  8.71s/it]\n",
      "                 Class     Images  Instances      Box(P          R      mAP50  mAP50-95): 100%|██████████| 4/4 [00:14<00:00,  3.60s/it]"
     ]
    },
    {
     "name": "stdout",
     "output_type": "stream",
     "text": [
      "                   all        118        118      0.702      0.661      0.728      0.364\n"
     ]
    },
    {
     "name": "stderr",
     "output_type": "stream",
     "text": [
      "\n"
     ]
    },
    {
     "name": "stdout",
     "output_type": "stream",
     "text": [
      "\n",
      "      Epoch    GPU_mem   box_loss   cls_loss   dfl_loss  Instances       Size\n"
     ]
    },
    {
     "name": "stderr",
     "output_type": "stream",
     "text": [
      "    130/300      11.2G      1.272       0.73      0.876          5        640: 100%|██████████| 61/61 [09:15<00:00,  9.10s/it]\n",
      "                 Class     Images  Instances      Box(P          R      mAP50  mAP50-95): 100%|██████████| 4/4 [00:50<00:00, 12.75s/it]"
     ]
    },
    {
     "name": "stdout",
     "output_type": "stream",
     "text": [
      "                   all        118        118      0.658      0.559      0.616      0.313\n"
     ]
    },
    {
     "name": "stderr",
     "output_type": "stream",
     "text": [
      "\n"
     ]
    },
    {
     "name": "stdout",
     "output_type": "stream",
     "text": [
      "\n",
      "      Epoch    GPU_mem   box_loss   cls_loss   dfl_loss  Instances       Size\n"
     ]
    },
    {
     "name": "stderr",
     "output_type": "stream",
     "text": [
      "    131/300      11.2G      1.325     0.7642     0.8613          4        640: 100%|██████████| 61/61 [02:05<00:00,  2.06s/it]\n",
      "                 Class     Images  Instances      Box(P          R      mAP50  mAP50-95): 100%|██████████| 4/4 [00:16<00:00,  4.23s/it]"
     ]
    },
    {
     "name": "stdout",
     "output_type": "stream",
     "text": [
      "                   all        118        118      0.689      0.714      0.711      0.334\n"
     ]
    },
    {
     "name": "stderr",
     "output_type": "stream",
     "text": [
      "\n"
     ]
    },
    {
     "name": "stdout",
     "output_type": "stream",
     "text": [
      "\n",
      "      Epoch    GPU_mem   box_loss   cls_loss   dfl_loss  Instances       Size\n"
     ]
    },
    {
     "name": "stderr",
     "output_type": "stream",
     "text": [
      "    132/300        11G       1.33     0.7466     0.8826          2        640: 100%|██████████| 61/61 [03:35<00:00,  3.53s/it]\n",
      "                 Class     Images  Instances      Box(P          R      mAP50  mAP50-95): 100%|██████████| 4/4 [00:12<00:00,  3.06s/it]"
     ]
    },
    {
     "name": "stdout",
     "output_type": "stream",
     "text": [
      "                   all        118        118      0.616      0.737      0.689      0.323\n"
     ]
    },
    {
     "name": "stderr",
     "output_type": "stream",
     "text": [
      "\n"
     ]
    },
    {
     "name": "stdout",
     "output_type": "stream",
     "text": [
      "\n",
      "      Epoch    GPU_mem   box_loss   cls_loss   dfl_loss  Instances       Size\n"
     ]
    },
    {
     "name": "stderr",
     "output_type": "stream",
     "text": [
      "    133/300      11.1G      1.314     0.7739     0.8703          5        640: 100%|██████████| 61/61 [01:50<00:00,  1.82s/it]\n",
      "                 Class     Images  Instances      Box(P          R      mAP50  mAP50-95): 100%|██████████| 4/4 [00:17<00:00,  4.26s/it]"
     ]
    },
    {
     "name": "stdout",
     "output_type": "stream",
     "text": [
      "                   all        118        118      0.749      0.644      0.727      0.368\n"
     ]
    },
    {
     "name": "stderr",
     "output_type": "stream",
     "text": [
      "\n"
     ]
    },
    {
     "name": "stdout",
     "output_type": "stream",
     "text": [
      "\n",
      "      Epoch    GPU_mem   box_loss   cls_loss   dfl_loss  Instances       Size\n"
     ]
    },
    {
     "name": "stderr",
     "output_type": "stream",
     "text": [
      "    134/300      11.2G      1.255     0.7261     0.8608          3        640: 100%|██████████| 61/61 [05:32<00:00,  5.45s/it]\n",
      "                 Class     Images  Instances      Box(P          R      mAP50  mAP50-95): 100%|██████████| 4/4 [00:14<00:00,  3.53s/it]"
     ]
    },
    {
     "name": "stdout",
     "output_type": "stream",
     "text": [
      "                   all        118        118      0.743       0.71      0.759      0.386\n"
     ]
    },
    {
     "name": "stderr",
     "output_type": "stream",
     "text": [
      "\n"
     ]
    },
    {
     "name": "stdout",
     "output_type": "stream",
     "text": [
      "\n",
      "      Epoch    GPU_mem   box_loss   cls_loss   dfl_loss  Instances       Size\n"
     ]
    },
    {
     "name": "stderr",
     "output_type": "stream",
     "text": [
      "    135/300      11.2G      1.274     0.7339     0.8423          4        640: 100%|██████████| 61/61 [02:00<00:00,  1.98s/it]\n",
      "                 Class     Images  Instances      Box(P          R      mAP50  mAP50-95): 100%|██████████| 4/4 [00:23<00:00,  5.94s/it]"
     ]
    },
    {
     "name": "stdout",
     "output_type": "stream",
     "text": [
      "                   all        118        118      0.719      0.644      0.688      0.319\n"
     ]
    },
    {
     "name": "stderr",
     "output_type": "stream",
     "text": [
      "\n"
     ]
    },
    {
     "name": "stdout",
     "output_type": "stream",
     "text": [
      "\n",
      "      Epoch    GPU_mem   box_loss   cls_loss   dfl_loss  Instances       Size\n"
     ]
    },
    {
     "name": "stderr",
     "output_type": "stream",
     "text": [
      "    136/300      11.1G      1.242     0.7554     0.8537          2        640: 100%|██████████| 61/61 [04:21<00:00,  4.29s/it]\n",
      "                 Class     Images  Instances      Box(P          R      mAP50  mAP50-95): 100%|██████████| 4/4 [00:12<00:00,  3.13s/it]"
     ]
    },
    {
     "name": "stdout",
     "output_type": "stream",
     "text": [
      "                   all        118        118      0.723      0.703      0.744      0.385\n"
     ]
    },
    {
     "name": "stderr",
     "output_type": "stream",
     "text": [
      "\n"
     ]
    },
    {
     "name": "stdout",
     "output_type": "stream",
     "text": [
      "\n",
      "      Epoch    GPU_mem   box_loss   cls_loss   dfl_loss  Instances       Size\n"
     ]
    },
    {
     "name": "stderr",
     "output_type": "stream",
     "text": [
      "    137/300      11.4G      1.308     0.7461     0.8647          2        640: 100%|██████████| 61/61 [04:52<00:00,  4.79s/it]\n",
      "                 Class     Images  Instances      Box(P          R      mAP50  mAP50-95): 100%|██████████| 4/4 [00:15<00:00,  3.94s/it]"
     ]
    },
    {
     "name": "stdout",
     "output_type": "stream",
     "text": [
      "                   all        118        118      0.688      0.711       0.72      0.357\n"
     ]
    },
    {
     "name": "stderr",
     "output_type": "stream",
     "text": [
      "\n"
     ]
    },
    {
     "name": "stdout",
     "output_type": "stream",
     "text": [
      "\n",
      "      Epoch    GPU_mem   box_loss   cls_loss   dfl_loss  Instances       Size\n"
     ]
    },
    {
     "name": "stderr",
     "output_type": "stream",
     "text": [
      "    138/300      11.2G       1.27     0.7118     0.8596          2        640: 100%|██████████| 61/61 [08:04<00:00,  7.94s/it]\n",
      "                 Class     Images  Instances      Box(P          R      mAP50  mAP50-95): 100%|██████████| 4/4 [00:17<00:00,  4.47s/it]"
     ]
    },
    {
     "name": "stdout",
     "output_type": "stream",
     "text": [
      "                   all        118        118      0.758      0.661      0.744      0.382\n"
     ]
    },
    {
     "name": "stderr",
     "output_type": "stream",
     "text": [
      "\n"
     ]
    },
    {
     "name": "stdout",
     "output_type": "stream",
     "text": [
      "\n",
      "      Epoch    GPU_mem   box_loss   cls_loss   dfl_loss  Instances       Size\n"
     ]
    },
    {
     "name": "stderr",
     "output_type": "stream",
     "text": [
      "    139/300      11.2G      1.287     0.7349     0.8735          3        640: 100%|██████████| 61/61 [04:11<00:00,  4.13s/it]\n",
      "                 Class     Images  Instances      Box(P          R      mAP50  mAP50-95): 100%|██████████| 4/4 [00:16<00:00,  4.20s/it]"
     ]
    },
    {
     "name": "stdout",
     "output_type": "stream",
     "text": [
      "                   all        118        118      0.724      0.678      0.719      0.363\n"
     ]
    },
    {
     "name": "stderr",
     "output_type": "stream",
     "text": [
      "\n"
     ]
    },
    {
     "name": "stdout",
     "output_type": "stream",
     "text": [
      "\n",
      "      Epoch    GPU_mem   box_loss   cls_loss   dfl_loss  Instances       Size\n"
     ]
    },
    {
     "name": "stderr",
     "output_type": "stream",
     "text": [
      "    140/300        11G      1.225     0.6991     0.8595          5        640: 100%|██████████| 61/61 [01:24<00:00,  1.38s/it]\n",
      "                 Class     Images  Instances      Box(P          R      mAP50  mAP50-95): 100%|██████████| 4/4 [00:17<00:00,  4.36s/it]"
     ]
    },
    {
     "name": "stdout",
     "output_type": "stream",
     "text": [
      "                   all        118        118      0.704      0.712      0.753      0.372\n"
     ]
    },
    {
     "name": "stderr",
     "output_type": "stream",
     "text": [
      "\n"
     ]
    },
    {
     "name": "stdout",
     "output_type": "stream",
     "text": [
      "\n",
      "      Epoch    GPU_mem   box_loss   cls_loss   dfl_loss  Instances       Size\n"
     ]
    },
    {
     "name": "stderr",
     "output_type": "stream",
     "text": [
      "    141/300      11.4G      1.273     0.7099     0.8688          5        640: 100%|██████████| 61/61 [05:12<00:00,  5.12s/it]\n",
      "                 Class     Images  Instances      Box(P          R      mAP50  mAP50-95): 100%|██████████| 4/4 [00:06<00:00,  1.65s/it]"
     ]
    },
    {
     "name": "stdout",
     "output_type": "stream",
     "text": [
      "                   all        118        118      0.706      0.711      0.723      0.346\n"
     ]
    },
    {
     "name": "stderr",
     "output_type": "stream",
     "text": [
      "\n"
     ]
    },
    {
     "name": "stdout",
     "output_type": "stream",
     "text": [
      "\n",
      "      Epoch    GPU_mem   box_loss   cls_loss   dfl_loss  Instances       Size\n"
     ]
    },
    {
     "name": "stderr",
     "output_type": "stream",
     "text": [
      "    142/300      11.2G      1.235     0.7305     0.8647          5        640: 100%|██████████| 61/61 [02:02<00:00,  2.01s/it]\n",
      "                 Class     Images  Instances      Box(P          R      mAP50  mAP50-95): 100%|██████████| 4/4 [00:22<00:00,  5.61s/it]"
     ]
    },
    {
     "name": "stdout",
     "output_type": "stream",
     "text": [
      "                   all        118        118      0.712      0.691      0.736      0.362\n"
     ]
    },
    {
     "name": "stderr",
     "output_type": "stream",
     "text": [
      "\n"
     ]
    },
    {
     "name": "stdout",
     "output_type": "stream",
     "text": [
      "\n",
      "      Epoch    GPU_mem   box_loss   cls_loss   dfl_loss  Instances       Size\n"
     ]
    },
    {
     "name": "stderr",
     "output_type": "stream",
     "text": [
      "    143/300      11.2G      1.258     0.7298     0.8404          3        640: 100%|██████████| 61/61 [09:39<00:00,  9.50s/it]\n",
      "                 Class     Images  Instances      Box(P          R      mAP50  mAP50-95): 100%|██████████| 4/4 [00:21<00:00,  5.49s/it]"
     ]
    },
    {
     "name": "stdout",
     "output_type": "stream",
     "text": [
      "                   all        118        118      0.607      0.706      0.703      0.331\n"
     ]
    },
    {
     "name": "stderr",
     "output_type": "stream",
     "text": [
      "\n"
     ]
    },
    {
     "name": "stdout",
     "output_type": "stream",
     "text": [
      "\n",
      "      Epoch    GPU_mem   box_loss   cls_loss   dfl_loss  Instances       Size\n"
     ]
    },
    {
     "name": "stderr",
     "output_type": "stream",
     "text": [
      "    144/300        11G      1.195     0.6869       0.86          4        640: 100%|██████████| 61/61 [09:54<00:00,  9.74s/it]\n",
      "                 Class     Images  Instances      Box(P          R      mAP50  mAP50-95): 100%|██████████| 4/4 [00:46<00:00, 11.51s/it]"
     ]
    },
    {
     "name": "stdout",
     "output_type": "stream",
     "text": [
      "                   all        118        118      0.722      0.681       0.73      0.342\n"
     ]
    },
    {
     "name": "stderr",
     "output_type": "stream",
     "text": [
      "\n"
     ]
    },
    {
     "name": "stdout",
     "output_type": "stream",
     "text": [
      "\n",
      "      Epoch    GPU_mem   box_loss   cls_loss   dfl_loss  Instances       Size\n"
     ]
    },
    {
     "name": "stderr",
     "output_type": "stream",
     "text": [
      "    145/300      11.1G       1.19      0.659     0.8626          4        640: 100%|██████████| 61/61 [07:34<00:00,  7.45s/it]\n",
      "                 Class     Images  Instances      Box(P          R      mAP50  mAP50-95): 100%|██████████| 4/4 [01:01<00:00, 15.38s/it]"
     ]
    },
    {
     "name": "stdout",
     "output_type": "stream",
     "text": [
      "                   all        118        118      0.701      0.746      0.732      0.349\n"
     ]
    },
    {
     "name": "stderr",
     "output_type": "stream",
     "text": [
      "\n"
     ]
    },
    {
     "name": "stdout",
     "output_type": "stream",
     "text": [
      "\n",
      "      Epoch    GPU_mem   box_loss   cls_loss   dfl_loss  Instances       Size\n"
     ]
    },
    {
     "name": "stderr",
     "output_type": "stream",
     "text": [
      "    146/300      11.2G      1.188     0.6607     0.8523          3        640: 100%|██████████| 61/61 [05:54<00:00,  5.81s/it]\n",
      "                 Class     Images  Instances      Box(P          R      mAP50  mAP50-95): 100%|██████████| 4/4 [00:30<00:00,  7.74s/it]"
     ]
    },
    {
     "name": "stdout",
     "output_type": "stream",
     "text": [
      "                   all        118        118      0.708      0.686       0.73      0.353\n"
     ]
    },
    {
     "name": "stderr",
     "output_type": "stream",
     "text": [
      "\n"
     ]
    },
    {
     "name": "stdout",
     "output_type": "stream",
     "text": [
      "\n",
      "      Epoch    GPU_mem   box_loss   cls_loss   dfl_loss  Instances       Size\n"
     ]
    },
    {
     "name": "stderr",
     "output_type": "stream",
     "text": [
      "    147/300      11.2G      1.203     0.6833     0.8646          2        640: 100%|██████████| 61/61 [04:11<00:00,  4.12s/it]\n",
      "                 Class     Images  Instances      Box(P          R      mAP50  mAP50-95): 100%|██████████| 4/4 [00:26<00:00,  6.55s/it]"
     ]
    },
    {
     "name": "stdout",
     "output_type": "stream",
     "text": [
      "                   all        118        118      0.691      0.695      0.711      0.342\n"
     ]
    },
    {
     "name": "stderr",
     "output_type": "stream",
     "text": [
      "\n"
     ]
    },
    {
     "name": "stdout",
     "output_type": "stream",
     "text": [
      "\n",
      "      Epoch    GPU_mem   box_loss   cls_loss   dfl_loss  Instances       Size\n"
     ]
    },
    {
     "name": "stderr",
     "output_type": "stream",
     "text": [
      "    148/300      11.1G      1.201     0.6881     0.8557          4        640: 100%|██████████| 61/61 [11:28<00:00, 11.28s/it]\n",
      "                 Class     Images  Instances      Box(P          R      mAP50  mAP50-95): 100%|██████████| 4/4 [00:20<00:00,  5.17s/it]"
     ]
    },
    {
     "name": "stdout",
     "output_type": "stream",
     "text": [
      "                   all        118        118      0.736       0.71      0.736      0.378\n"
     ]
    },
    {
     "name": "stderr",
     "output_type": "stream",
     "text": [
      "\n"
     ]
    },
    {
     "name": "stdout",
     "output_type": "stream",
     "text": [
      "\n",
      "      Epoch    GPU_mem   box_loss   cls_loss   dfl_loss  Instances       Size\n"
     ]
    },
    {
     "name": "stderr",
     "output_type": "stream",
     "text": [
      "    149/300      11.2G      1.242     0.6886     0.8664          6        640: 100%|██████████| 61/61 [02:27<00:00,  2.43s/it]\n",
      "                 Class     Images  Instances      Box(P          R      mAP50  mAP50-95): 100%|██████████| 4/4 [00:17<00:00,  4.42s/it]"
     ]
    },
    {
     "name": "stdout",
     "output_type": "stream",
     "text": [
      "                   all        118        118      0.683       0.64      0.701       0.34\n"
     ]
    },
    {
     "name": "stderr",
     "output_type": "stream",
     "text": [
      "\n"
     ]
    },
    {
     "name": "stdout",
     "output_type": "stream",
     "text": [
      "\n",
      "      Epoch    GPU_mem   box_loss   cls_loss   dfl_loss  Instances       Size\n"
     ]
    },
    {
     "name": "stderr",
     "output_type": "stream",
     "text": [
      "    150/300      11.1G      1.197     0.6957     0.8594          2        640: 100%|██████████| 61/61 [01:43<00:00,  1.70s/it]\n",
      "                 Class     Images  Instances      Box(P          R      mAP50  mAP50-95): 100%|██████████| 4/4 [00:18<00:00,  4.62s/it]"
     ]
    },
    {
     "name": "stdout",
     "output_type": "stream",
     "text": [
      "                   all        118        118      0.706      0.711       0.75       0.37\n"
     ]
    },
    {
     "name": "stderr",
     "output_type": "stream",
     "text": [
      "\n"
     ]
    },
    {
     "name": "stdout",
     "output_type": "stream",
     "text": [
      "\n",
      "      Epoch    GPU_mem   box_loss   cls_loss   dfl_loss  Instances       Size\n"
     ]
    },
    {
     "name": "stderr",
     "output_type": "stream",
     "text": [
      "    151/300      11.2G      1.155     0.6453     0.8512          1        640: 100%|██████████| 61/61 [02:22<00:00,  2.33s/it]\n",
      "                 Class     Images  Instances      Box(P          R      mAP50  mAP50-95): 100%|██████████| 4/4 [00:18<00:00,  4.60s/it]"
     ]
    },
    {
     "name": "stdout",
     "output_type": "stream",
     "text": [
      "                   all        118        118      0.773      0.644      0.741      0.371\n"
     ]
    },
    {
     "name": "stderr",
     "output_type": "stream",
     "text": [
      "\n"
     ]
    },
    {
     "name": "stdout",
     "output_type": "stream",
     "text": [
      "\n",
      "      Epoch    GPU_mem   box_loss   cls_loss   dfl_loss  Instances       Size\n"
     ]
    },
    {
     "name": "stderr",
     "output_type": "stream",
     "text": [
      "    152/300      11.1G      1.141     0.6733      0.835          3        640: 100%|██████████| 61/61 [04:23<00:00,  4.33s/it]\n",
      "                 Class     Images  Instances      Box(P          R      mAP50  mAP50-95): 100%|██████████| 4/4 [00:14<00:00,  3.59s/it]"
     ]
    },
    {
     "name": "stdout",
     "output_type": "stream",
     "text": [
      "                   all        118        118      0.722       0.72      0.758      0.388\n"
     ]
    },
    {
     "name": "stderr",
     "output_type": "stream",
     "text": [
      "\n"
     ]
    },
    {
     "name": "stdout",
     "output_type": "stream",
     "text": [
      "\n",
      "      Epoch    GPU_mem   box_loss   cls_loss   dfl_loss  Instances       Size\n"
     ]
    },
    {
     "name": "stderr",
     "output_type": "stream",
     "text": [
      "    153/300      11.2G        1.2     0.6653     0.8556          3        640: 100%|██████████| 61/61 [01:19<00:00,  1.31s/it]\n",
      "                 Class     Images  Instances      Box(P          R      mAP50  mAP50-95): 100%|██████████| 4/4 [00:17<00:00,  4.30s/it]"
     ]
    },
    {
     "name": "stdout",
     "output_type": "stream",
     "text": [
      "                   all        118        118      0.682      0.728      0.736      0.371\n"
     ]
    },
    {
     "name": "stderr",
     "output_type": "stream",
     "text": [
      "\n"
     ]
    },
    {
     "name": "stdout",
     "output_type": "stream",
     "text": [
      "\n",
      "      Epoch    GPU_mem   box_loss   cls_loss   dfl_loss  Instances       Size\n"
     ]
    },
    {
     "name": "stderr",
     "output_type": "stream",
     "text": [
      "    154/300      11.4G      1.224     0.6642     0.8685          6        640: 100%|██████████| 61/61 [04:32<00:00,  4.46s/it]\n",
      "                 Class     Images  Instances      Box(P          R      mAP50  mAP50-95): 100%|██████████| 4/4 [00:08<00:00,  2.03s/it]"
     ]
    },
    {
     "name": "stdout",
     "output_type": "stream",
     "text": [
      "                   all        118        118      0.784      0.653      0.739      0.372\n"
     ]
    },
    {
     "name": "stderr",
     "output_type": "stream",
     "text": [
      "\n"
     ]
    },
    {
     "name": "stdout",
     "output_type": "stream",
     "text": [
      "\n",
      "      Epoch    GPU_mem   box_loss   cls_loss   dfl_loss  Instances       Size\n"
     ]
    },
    {
     "name": "stderr",
     "output_type": "stream",
     "text": [
      "    155/300      11.2G      1.217     0.6742     0.8642          2        640: 100%|██████████| 61/61 [02:24<00:00,  2.36s/it]\n",
      "                 Class     Images  Instances      Box(P          R      mAP50  mAP50-95): 100%|██████████| 4/4 [00:17<00:00,  4.42s/it]"
     ]
    },
    {
     "name": "stdout",
     "output_type": "stream",
     "text": [
      "                   all        118        118      0.759      0.669      0.779       0.41\n"
     ]
    },
    {
     "name": "stderr",
     "output_type": "stream",
     "text": [
      "\n"
     ]
    },
    {
     "name": "stdout",
     "output_type": "stream",
     "text": [
      "\n",
      "      Epoch    GPU_mem   box_loss   cls_loss   dfl_loss  Instances       Size\n"
     ]
    },
    {
     "name": "stderr",
     "output_type": "stream",
     "text": [
      "    156/300      11.1G      1.205     0.6757       0.84          1        640: 100%|██████████| 61/61 [03:41<00:00,  3.64s/it]\n",
      "                 Class     Images  Instances      Box(P          R      mAP50  mAP50-95): 100%|██████████| 4/4 [00:18<00:00,  4.73s/it]"
     ]
    },
    {
     "name": "stdout",
     "output_type": "stream",
     "text": [
      "                   all        118        118      0.666      0.686      0.705      0.362\n"
     ]
    },
    {
     "name": "stderr",
     "output_type": "stream",
     "text": [
      "\n"
     ]
    },
    {
     "name": "stdout",
     "output_type": "stream",
     "text": [
      "\n",
      "      Epoch    GPU_mem   box_loss   cls_loss   dfl_loss  Instances       Size\n"
     ]
    },
    {
     "name": "stderr",
     "output_type": "stream",
     "text": [
      "    157/300      11.1G      1.196     0.7039     0.8511          4        640: 100%|██████████| 61/61 [01:22<00:00,  1.35s/it]\n",
      "                 Class     Images  Instances      Box(P          R      mAP50  mAP50-95): 100%|██████████| 4/4 [00:16<00:00,  4.08s/it]"
     ]
    },
    {
     "name": "stdout",
     "output_type": "stream",
     "text": [
      "                   all        118        118      0.711      0.686      0.721      0.341\n"
     ]
    },
    {
     "name": "stderr",
     "output_type": "stream",
     "text": [
      "\n"
     ]
    },
    {
     "name": "stdout",
     "output_type": "stream",
     "text": [
      "\n",
      "      Epoch    GPU_mem   box_loss   cls_loss   dfl_loss  Instances       Size\n"
     ]
    },
    {
     "name": "stderr",
     "output_type": "stream",
     "text": [
      "    158/300      11.2G      1.161     0.6757     0.8426          5        640: 100%|██████████| 61/61 [04:16<00:00,  4.21s/it]\n",
      "                 Class     Images  Instances      Box(P          R      mAP50  mAP50-95): 100%|██████████| 4/4 [00:15<00:00,  3.95s/it]"
     ]
    },
    {
     "name": "stdout",
     "output_type": "stream",
     "text": [
      "                   all        118        118      0.597       0.49      0.558      0.301\n"
     ]
    },
    {
     "name": "stderr",
     "output_type": "stream",
     "text": [
      "\n"
     ]
    },
    {
     "name": "stdout",
     "output_type": "stream",
     "text": [
      "\n",
      "      Epoch    GPU_mem   box_loss   cls_loss   dfl_loss  Instances       Size\n"
     ]
    },
    {
     "name": "stderr",
     "output_type": "stream",
     "text": [
      "    159/300      11.2G      1.179     0.6575     0.8431          3        640: 100%|██████████| 61/61 [01:53<00:00,  1.86s/it]\n",
      "                 Class     Images  Instances      Box(P          R      mAP50  mAP50-95): 100%|██████████| 4/4 [00:16<00:00,  4.02s/it]"
     ]
    },
    {
     "name": "stdout",
     "output_type": "stream",
     "text": [
      "                   all        118        118      0.654       0.77      0.742      0.363\n"
     ]
    },
    {
     "name": "stderr",
     "output_type": "stream",
     "text": [
      "\n"
     ]
    },
    {
     "name": "stdout",
     "output_type": "stream",
     "text": [
      "\n",
      "      Epoch    GPU_mem   box_loss   cls_loss   dfl_loss  Instances       Size\n"
     ]
    },
    {
     "name": "stderr",
     "output_type": "stream",
     "text": [
      "    160/300      11.1G      1.154     0.6804     0.8387          3        640: 100%|██████████| 61/61 [02:51<00:00,  2.81s/it]\n",
      "                 Class     Images  Instances      Box(P          R      mAP50  mAP50-95): 100%|██████████| 4/4 [00:17<00:00,  4.49s/it]"
     ]
    },
    {
     "name": "stdout",
     "output_type": "stream",
     "text": [
      "                   all        118        118      0.683      0.737      0.722      0.374\n"
     ]
    },
    {
     "name": "stderr",
     "output_type": "stream",
     "text": [
      "\n"
     ]
    },
    {
     "name": "stdout",
     "output_type": "stream",
     "text": [
      "\n",
      "      Epoch    GPU_mem   box_loss   cls_loss   dfl_loss  Instances       Size\n"
     ]
    },
    {
     "name": "stderr",
     "output_type": "stream",
     "text": [
      "    161/300      11.1G      1.166     0.6626     0.8611          3        640: 100%|██████████| 61/61 [01:30<00:00,  1.49s/it]\n",
      "                 Class     Images  Instances      Box(P          R      mAP50  mAP50-95): 100%|██████████| 4/4 [00:17<00:00,  4.40s/it]"
     ]
    },
    {
     "name": "stdout",
     "output_type": "stream",
     "text": [
      "                   all        118        118      0.684      0.746      0.728      0.375\n"
     ]
    },
    {
     "name": "stderr",
     "output_type": "stream",
     "text": [
      "\n"
     ]
    },
    {
     "name": "stdout",
     "output_type": "stream",
     "text": [
      "\n",
      "      Epoch    GPU_mem   box_loss   cls_loss   dfl_loss  Instances       Size\n"
     ]
    },
    {
     "name": "stderr",
     "output_type": "stream",
     "text": [
      "    162/300      11.2G      1.156     0.6485     0.8453          4        640: 100%|██████████| 61/61 [03:41<00:00,  3.64s/it]\n",
      "                 Class     Images  Instances      Box(P          R      mAP50  mAP50-95): 100%|██████████| 4/4 [00:11<00:00,  2.81s/it]"
     ]
    },
    {
     "name": "stdout",
     "output_type": "stream",
     "text": [
      "                   all        118        118      0.698      0.763      0.762       0.36\n"
     ]
    },
    {
     "name": "stderr",
     "output_type": "stream",
     "text": [
      "\n"
     ]
    },
    {
     "name": "stdout",
     "output_type": "stream",
     "text": [
      "\n",
      "      Epoch    GPU_mem   box_loss   cls_loss   dfl_loss  Instances       Size\n"
     ]
    },
    {
     "name": "stderr",
     "output_type": "stream",
     "text": [
      "    163/300      11.1G      1.158     0.6545     0.8479          6        640: 100%|██████████| 61/61 [02:34<00:00,  2.53s/it]\n",
      "                 Class     Images  Instances      Box(P          R      mAP50  mAP50-95): 100%|██████████| 4/4 [00:22<00:00,  5.58s/it]"
     ]
    },
    {
     "name": "stdout",
     "output_type": "stream",
     "text": [
      "                   all        118        118      0.749      0.737      0.776       0.39\n"
     ]
    },
    {
     "name": "stderr",
     "output_type": "stream",
     "text": [
      "\n"
     ]
    },
    {
     "name": "stdout",
     "output_type": "stream",
     "text": [
      "\n",
      "      Epoch    GPU_mem   box_loss   cls_loss   dfl_loss  Instances       Size\n"
     ]
    },
    {
     "name": "stderr",
     "output_type": "stream",
     "text": [
      "    164/300      11.1G      1.163     0.6607     0.8516          5        640: 100%|██████████| 61/61 [03:00<00:00,  2.95s/it]\n",
      "                 Class     Images  Instances      Box(P          R      mAP50  mAP50-95): 100%|██████████| 4/4 [00:48<00:00, 12.05s/it]"
     ]
    },
    {
     "name": "stdout",
     "output_type": "stream",
     "text": [
      "                   all        118        118      0.741      0.653      0.758      0.376\n"
     ]
    },
    {
     "name": "stderr",
     "output_type": "stream",
     "text": [
      "\n"
     ]
    },
    {
     "name": "stdout",
     "output_type": "stream",
     "text": [
      "\n",
      "      Epoch    GPU_mem   box_loss   cls_loss   dfl_loss  Instances       Size\n"
     ]
    },
    {
     "name": "stderr",
     "output_type": "stream",
     "text": [
      "    165/300      11.4G      1.135     0.6674     0.8522          2        640: 100%|██████████| 61/61 [02:42<00:00,  2.66s/it]\n",
      "                 Class     Images  Instances      Box(P          R      mAP50  mAP50-95): 100%|██████████| 4/4 [00:16<00:00,  4.04s/it]"
     ]
    },
    {
     "name": "stdout",
     "output_type": "stream",
     "text": [
      "                   all        118        118      0.668       0.72      0.747      0.375\n"
     ]
    },
    {
     "name": "stderr",
     "output_type": "stream",
     "text": [
      "\n"
     ]
    },
    {
     "name": "stdout",
     "output_type": "stream",
     "text": [
      "\n",
      "      Epoch    GPU_mem   box_loss   cls_loss   dfl_loss  Instances       Size\n"
     ]
    },
    {
     "name": "stderr",
     "output_type": "stream",
     "text": [
      "    166/300      11.2G      1.126     0.6452     0.8434          3        640: 100%|██████████| 61/61 [03:08<00:00,  3.09s/it]\n",
      "                 Class     Images  Instances      Box(P          R      mAP50  mAP50-95): 100%|██████████| 4/4 [00:23<00:00,  5.75s/it]"
     ]
    },
    {
     "name": "stdout",
     "output_type": "stream",
     "text": [
      "                   all        118        118      0.696      0.736      0.744      0.393\n"
     ]
    },
    {
     "name": "stderr",
     "output_type": "stream",
     "text": [
      "\n"
     ]
    },
    {
     "name": "stdout",
     "output_type": "stream",
     "text": [
      "\n",
      "      Epoch    GPU_mem   box_loss   cls_loss   dfl_loss  Instances       Size\n"
     ]
    },
    {
     "name": "stderr",
     "output_type": "stream",
     "text": [
      "    167/300      11.2G      1.109     0.6146     0.8309          2        640: 100%|██████████| 61/61 [03:12<00:00,  3.16s/it]\n",
      "                 Class     Images  Instances      Box(P          R      mAP50  mAP50-95): 100%|██████████| 4/4 [00:18<00:00,  4.72s/it]"
     ]
    },
    {
     "name": "stdout",
     "output_type": "stream",
     "text": [
      "                   all        118        118       0.77      0.669       0.75      0.385\n"
     ]
    },
    {
     "name": "stderr",
     "output_type": "stream",
     "text": [
      "\n"
     ]
    },
    {
     "name": "stdout",
     "output_type": "stream",
     "text": [
      "\n",
      "      Epoch    GPU_mem   box_loss   cls_loss   dfl_loss  Instances       Size\n"
     ]
    },
    {
     "name": "stderr",
     "output_type": "stream",
     "text": [
      "    168/300      11.1G      1.118      0.649     0.8438          7        640: 100%|██████████| 61/61 [01:11<00:00,  1.18s/it]\n",
      "                 Class     Images  Instances      Box(P          R      mAP50  mAP50-95): 100%|██████████| 4/4 [00:15<00:00,  3.99s/it]"
     ]
    },
    {
     "name": "stdout",
     "output_type": "stream",
     "text": [
      "                   all        118        118      0.722      0.695      0.726      0.366\n"
     ]
    },
    {
     "name": "stderr",
     "output_type": "stream",
     "text": [
      "\n"
     ]
    },
    {
     "name": "stdout",
     "output_type": "stream",
     "text": [
      "\n",
      "      Epoch    GPU_mem   box_loss   cls_loss   dfl_loss  Instances       Size\n"
     ]
    },
    {
     "name": "stderr",
     "output_type": "stream",
     "text": [
      "    169/300      11.4G      1.117     0.6328     0.8376          4        640: 100%|██████████| 61/61 [04:36<00:00,  4.53s/it]\n",
      "                 Class     Images  Instances      Box(P          R      mAP50  mAP50-95): 100%|██████████| 4/4 [00:09<00:00,  2.38s/it]"
     ]
    },
    {
     "name": "stdout",
     "output_type": "stream",
     "text": [
      "                   all        118        118      0.701      0.737      0.731      0.364\n"
     ]
    },
    {
     "name": "stderr",
     "output_type": "stream",
     "text": [
      "\n"
     ]
    },
    {
     "name": "stdout",
     "output_type": "stream",
     "text": [
      "\n",
      "      Epoch    GPU_mem   box_loss   cls_loss   dfl_loss  Instances       Size\n"
     ]
    },
    {
     "name": "stderr",
     "output_type": "stream",
     "text": [
      "    170/300      11.2G      1.161     0.6567     0.8452          1        640: 100%|██████████| 61/61 [02:49<00:00,  2.78s/it]\n",
      "                 Class     Images  Instances      Box(P          R      mAP50  mAP50-95): 100%|██████████| 4/4 [00:16<00:00,  4.24s/it]"
     ]
    },
    {
     "name": "stdout",
     "output_type": "stream",
     "text": [
      "                   all        118        118      0.736      0.686      0.741      0.382\n"
     ]
    },
    {
     "name": "stderr",
     "output_type": "stream",
     "text": [
      "\n"
     ]
    },
    {
     "name": "stdout",
     "output_type": "stream",
     "text": [
      "\n",
      "      Epoch    GPU_mem   box_loss   cls_loss   dfl_loss  Instances       Size\n"
     ]
    },
    {
     "name": "stderr",
     "output_type": "stream",
     "text": [
      "    171/300      11.2G      1.184     0.6371     0.8561          2        640: 100%|██████████| 61/61 [03:58<00:00,  3.91s/it]\n",
      "                 Class     Images  Instances      Box(P          R      mAP50  mAP50-95): 100%|██████████| 4/4 [00:09<00:00,  2.31s/it]"
     ]
    },
    {
     "name": "stdout",
     "output_type": "stream",
     "text": [
      "                   all        118        118      0.642      0.712      0.734      0.381\n"
     ]
    },
    {
     "name": "stderr",
     "output_type": "stream",
     "text": [
      "\n"
     ]
    },
    {
     "name": "stdout",
     "output_type": "stream",
     "text": [
      "\n",
      "      Epoch    GPU_mem   box_loss   cls_loss   dfl_loss  Instances       Size\n"
     ]
    },
    {
     "name": "stderr",
     "output_type": "stream",
     "text": [
      "    172/300      11.1G      1.082     0.6204     0.8434          4        640: 100%|██████████| 61/61 [02:19<00:00,  2.29s/it]\n",
      "                 Class     Images  Instances      Box(P          R      mAP50  mAP50-95): 100%|██████████| 4/4 [00:18<00:00,  4.58s/it]"
     ]
    },
    {
     "name": "stdout",
     "output_type": "stream",
     "text": [
      "                   all        118        118      0.662      0.771      0.731      0.356\n"
     ]
    },
    {
     "name": "stderr",
     "output_type": "stream",
     "text": [
      "\n"
     ]
    },
    {
     "name": "stdout",
     "output_type": "stream",
     "text": [
      "\n",
      "      Epoch    GPU_mem   box_loss   cls_loss   dfl_loss  Instances       Size\n"
     ]
    },
    {
     "name": "stderr",
     "output_type": "stream",
     "text": [
      "    173/300      11.4G      1.145     0.6427     0.8424          3        640: 100%|██████████| 61/61 [04:16<00:00,  4.21s/it]\n",
      "                 Class     Images  Instances      Box(P          R      mAP50  mAP50-95): 100%|██████████| 4/4 [00:08<00:00,  2.22s/it]"
     ]
    },
    {
     "name": "stdout",
     "output_type": "stream",
     "text": [
      "                   all        118        118       0.69      0.729      0.754      0.375\n"
     ]
    },
    {
     "name": "stderr",
     "output_type": "stream",
     "text": [
      "\n"
     ]
    },
    {
     "name": "stdout",
     "output_type": "stream",
     "text": [
      "\n",
      "      Epoch    GPU_mem   box_loss   cls_loss   dfl_loss  Instances       Size\n"
     ]
    },
    {
     "name": "stderr",
     "output_type": "stream",
     "text": [
      "    174/300      11.2G      1.165     0.6767     0.8567          5        640: 100%|██████████| 61/61 [02:43<00:00,  2.68s/it]\n",
      "                 Class     Images  Instances      Box(P          R      mAP50  mAP50-95): 100%|██████████| 4/4 [00:17<00:00,  4.31s/it]"
     ]
    },
    {
     "name": "stdout",
     "output_type": "stream",
     "text": [
      "                   all        118        118      0.711      0.695      0.743      0.372\n"
     ]
    },
    {
     "name": "stderr",
     "output_type": "stream",
     "text": [
      "\n"
     ]
    },
    {
     "name": "stdout",
     "output_type": "stream",
     "text": [
      "\n",
      "      Epoch    GPU_mem   box_loss   cls_loss   dfl_loss  Instances       Size\n"
     ]
    },
    {
     "name": "stderr",
     "output_type": "stream",
     "text": [
      "    175/300      11.2G      1.052     0.6001     0.8402          3        640: 100%|██████████| 61/61 [05:43<00:00,  5.64s/it]\n",
      "                 Class     Images  Instances      Box(P          R      mAP50  mAP50-95): 100%|██████████| 4/4 [00:12<00:00,  3.01s/it]"
     ]
    },
    {
     "name": "stdout",
     "output_type": "stream",
     "text": [
      "                   all        118        118      0.749      0.703      0.757       0.38\n"
     ]
    },
    {
     "name": "stderr",
     "output_type": "stream",
     "text": [
      "\n"
     ]
    },
    {
     "name": "stdout",
     "output_type": "stream",
     "text": [
      "\n",
      "      Epoch    GPU_mem   box_loss   cls_loss   dfl_loss  Instances       Size\n"
     ]
    },
    {
     "name": "stderr",
     "output_type": "stream",
     "text": [
      "    176/300      11.1G      1.077     0.5862     0.8435          4        640: 100%|██████████| 61/61 [01:22<00:00,  1.35s/it]\n",
      "                 Class     Images  Instances      Box(P          R      mAP50  mAP50-95): 100%|██████████| 4/4 [00:18<00:00,  4.61s/it]"
     ]
    },
    {
     "name": "stdout",
     "output_type": "stream",
     "text": [
      "                   all        118        118      0.764      0.661      0.733      0.366\n"
     ]
    },
    {
     "name": "stderr",
     "output_type": "stream",
     "text": [
      "\n"
     ]
    },
    {
     "name": "stdout",
     "output_type": "stream",
     "text": [
      "\n",
      "      Epoch    GPU_mem   box_loss   cls_loss   dfl_loss  Instances       Size\n"
     ]
    },
    {
     "name": "stderr",
     "output_type": "stream",
     "text": [
      "    177/300      11.2G      1.077      0.651      0.827          3        640: 100%|██████████| 61/61 [03:53<00:00,  3.83s/it]\n",
      "                 Class     Images  Instances      Box(P          R      mAP50  mAP50-95): 100%|██████████| 4/4 [00:07<00:00,  2.00s/it]"
     ]
    },
    {
     "name": "stdout",
     "output_type": "stream",
     "text": [
      "                   all        118        118      0.761      0.712      0.742      0.383\n"
     ]
    },
    {
     "name": "stderr",
     "output_type": "stream",
     "text": [
      "\n"
     ]
    },
    {
     "name": "stdout",
     "output_type": "stream",
     "text": [
      "\n",
      "      Epoch    GPU_mem   box_loss   cls_loss   dfl_loss  Instances       Size\n"
     ]
    },
    {
     "name": "stderr",
     "output_type": "stream",
     "text": [
      "    178/300      11.2G      1.055     0.5915      0.846          3        640: 100%|██████████| 61/61 [01:55<00:00,  1.90s/it]\n",
      "                 Class     Images  Instances      Box(P          R      mAP50  mAP50-95): 100%|██████████| 4/4 [00:21<00:00,  5.31s/it]"
     ]
    },
    {
     "name": "stdout",
     "output_type": "stream",
     "text": [
      "                   all        118        118      0.758      0.695      0.741      0.376\n"
     ]
    },
    {
     "name": "stderr",
     "output_type": "stream",
     "text": [
      "\n"
     ]
    },
    {
     "name": "stdout",
     "output_type": "stream",
     "text": [
      "\n",
      "      Epoch    GPU_mem   box_loss   cls_loss   dfl_loss  Instances       Size\n"
     ]
    },
    {
     "name": "stderr",
     "output_type": "stream",
     "text": [
      "    179/300      11.4G      1.095     0.6336     0.8453          2        640: 100%|██████████| 61/61 [08:15<00:00,  8.12s/it]\n",
      "                 Class     Images  Instances      Box(P          R      mAP50  mAP50-95): 100%|██████████| 4/4 [00:08<00:00,  2.08s/it]"
     ]
    },
    {
     "name": "stdout",
     "output_type": "stream",
     "text": [
      "                   all        118        118      0.754      0.712      0.724      0.367\n"
     ]
    },
    {
     "name": "stderr",
     "output_type": "stream",
     "text": [
      "\n"
     ]
    },
    {
     "name": "stdout",
     "output_type": "stream",
     "text": [
      "\n",
      "      Epoch    GPU_mem   box_loss   cls_loss   dfl_loss  Instances       Size\n"
     ]
    },
    {
     "name": "stderr",
     "output_type": "stream",
     "text": [
      "    180/300        11G      1.055     0.6132     0.8272          7        640: 100%|██████████| 61/61 [04:07<00:00,  4.05s/it]\n",
      "                 Class     Images  Instances      Box(P          R      mAP50  mAP50-95): 100%|██████████| 4/4 [00:15<00:00,  3.87s/it]"
     ]
    },
    {
     "name": "stdout",
     "output_type": "stream",
     "text": [
      "                   all        118        118      0.749      0.758      0.762      0.393\n"
     ]
    },
    {
     "name": "stderr",
     "output_type": "stream",
     "text": [
      "\n"
     ]
    },
    {
     "name": "stdout",
     "output_type": "stream",
     "text": [
      "\n",
      "      Epoch    GPU_mem   box_loss   cls_loss   dfl_loss  Instances       Size\n"
     ]
    },
    {
     "name": "stderr",
     "output_type": "stream",
     "text": [
      "    181/300      11.4G      1.059     0.5994     0.8217          1        640: 100%|██████████| 61/61 [04:53<00:00,  4.81s/it]\n",
      "                 Class     Images  Instances      Box(P          R      mAP50  mAP50-95): 100%|██████████| 4/4 [00:10<00:00,  2.53s/it]"
     ]
    },
    {
     "name": "stdout",
     "output_type": "stream",
     "text": [
      "                   all        118        118      0.725      0.714      0.755      0.379\n"
     ]
    },
    {
     "name": "stderr",
     "output_type": "stream",
     "text": [
      "\n"
     ]
    },
    {
     "name": "stdout",
     "output_type": "stream",
     "text": [
      "\n",
      "      Epoch    GPU_mem   box_loss   cls_loss   dfl_loss  Instances       Size\n"
     ]
    },
    {
     "name": "stderr",
     "output_type": "stream",
     "text": [
      "    182/300      11.1G      1.049     0.5836     0.8311          3        640: 100%|██████████| 61/61 [02:16<00:00,  2.24s/it]\n",
      "                 Class     Images  Instances      Box(P          R      mAP50  mAP50-95): 100%|██████████| 4/4 [00:16<00:00,  4.08s/it]"
     ]
    },
    {
     "name": "stdout",
     "output_type": "stream",
     "text": [
      "                   all        118        118      0.734      0.737      0.775      0.388\n"
     ]
    },
    {
     "name": "stderr",
     "output_type": "stream",
     "text": [
      "\n"
     ]
    },
    {
     "name": "stdout",
     "output_type": "stream",
     "text": [
      "\n",
      "      Epoch    GPU_mem   box_loss   cls_loss   dfl_loss  Instances       Size\n"
     ]
    },
    {
     "name": "stderr",
     "output_type": "stream",
     "text": [
      "    183/300      11.2G          1     0.5658     0.8303          4        640: 100%|██████████| 61/61 [03:32<00:00,  3.49s/it]\n",
      "                 Class     Images  Instances      Box(P          R      mAP50  mAP50-95): 100%|██████████| 4/4 [00:15<00:00,  3.79s/it]"
     ]
    },
    {
     "name": "stdout",
     "output_type": "stream",
     "text": [
      "                   all        118        118      0.706       0.72      0.745      0.389\n"
     ]
    },
    {
     "name": "stderr",
     "output_type": "stream",
     "text": [
      "\n"
     ]
    },
    {
     "name": "stdout",
     "output_type": "stream",
     "text": [
      "\n",
      "      Epoch    GPU_mem   box_loss   cls_loss   dfl_loss  Instances       Size\n"
     ]
    },
    {
     "name": "stderr",
     "output_type": "stream",
     "text": [
      "    184/300      11.3G      1.042     0.5682     0.8497          8        640: 100%|██████████| 61/61 [02:18<00:00,  2.27s/it]\n",
      "                 Class     Images  Instances      Box(P          R      mAP50  mAP50-95): 100%|██████████| 4/4 [00:19<00:00,  4.97s/it]"
     ]
    },
    {
     "name": "stdout",
     "output_type": "stream",
     "text": [
      "                   all        118        118      0.744      0.695      0.734      0.382\n"
     ]
    },
    {
     "name": "stderr",
     "output_type": "stream",
     "text": [
      "\n"
     ]
    },
    {
     "name": "stdout",
     "output_type": "stream",
     "text": [
      "\n",
      "      Epoch    GPU_mem   box_loss   cls_loss   dfl_loss  Instances       Size\n"
     ]
    },
    {
     "name": "stderr",
     "output_type": "stream",
     "text": [
      "    185/300      11.1G      1.112     0.6197     0.8381          4        640: 100%|██████████| 61/61 [01:18<00:00,  1.29s/it]\n",
      "                 Class     Images  Instances      Box(P          R      mAP50  mAP50-95): 100%|██████████| 4/4 [00:16<00:00,  4.10s/it]"
     ]
    },
    {
     "name": "stdout",
     "output_type": "stream",
     "text": [
      "                   all        118        118      0.751      0.678      0.731      0.365\n"
     ]
    },
    {
     "name": "stderr",
     "output_type": "stream",
     "text": [
      "\n"
     ]
    },
    {
     "name": "stdout",
     "output_type": "stream",
     "text": [
      "\n",
      "      Epoch    GPU_mem   box_loss   cls_loss   dfl_loss  Instances       Size\n"
     ]
    },
    {
     "name": "stderr",
     "output_type": "stream",
     "text": [
      "    186/300      11.2G      1.059     0.5997     0.8302          2        640: 100%|██████████| 61/61 [02:14<00:00,  2.21s/it]\n",
      "                 Class     Images  Instances      Box(P          R      mAP50  mAP50-95): 100%|██████████| 4/4 [00:14<00:00,  3.75s/it]"
     ]
    },
    {
     "name": "stdout",
     "output_type": "stream",
     "text": [
      "                   all        118        118      0.661      0.728      0.728      0.369\n"
     ]
    },
    {
     "name": "stderr",
     "output_type": "stream",
     "text": [
      "\n"
     ]
    },
    {
     "name": "stdout",
     "output_type": "stream",
     "text": [
      "\n",
      "      Epoch    GPU_mem   box_loss   cls_loss   dfl_loss  Instances       Size\n"
     ]
    },
    {
     "name": "stderr",
     "output_type": "stream",
     "text": [
      "    187/300      11.2G      1.064     0.6101     0.8402          2        640: 100%|██████████| 61/61 [02:39<00:00,  2.62s/it]\n",
      "                 Class     Images  Instances      Box(P          R      mAP50  mAP50-95): 100%|██████████| 4/4 [00:17<00:00,  4.35s/it]"
     ]
    },
    {
     "name": "stdout",
     "output_type": "stream",
     "text": [
      "                   all        118        118      0.757      0.688      0.757      0.369\n"
     ]
    },
    {
     "name": "stderr",
     "output_type": "stream",
     "text": [
      "\n"
     ]
    },
    {
     "name": "stdout",
     "output_type": "stream",
     "text": [
      "\n",
      "      Epoch    GPU_mem   box_loss   cls_loss   dfl_loss  Instances       Size\n"
     ]
    },
    {
     "name": "stderr",
     "output_type": "stream",
     "text": [
      "    188/300      11.3G      1.033     0.5995      0.819          3        640: 100%|██████████| 61/61 [03:01<00:00,  2.97s/it]\n",
      "                 Class     Images  Instances      Box(P          R      mAP50  mAP50-95): 100%|██████████| 4/4 [00:09<00:00,  2.26s/it]"
     ]
    },
    {
     "name": "stdout",
     "output_type": "stream",
     "text": [
      "                   all        118        118      0.673      0.803      0.762      0.383\n"
     ]
    },
    {
     "name": "stderr",
     "output_type": "stream",
     "text": [
      "\n"
     ]
    },
    {
     "name": "stdout",
     "output_type": "stream",
     "text": [
      "\n",
      "      Epoch    GPU_mem   box_loss   cls_loss   dfl_loss  Instances       Size\n"
     ]
    },
    {
     "name": "stderr",
     "output_type": "stream",
     "text": [
      "    189/300      11.4G      1.016     0.5635     0.8387          4        640: 100%|██████████| 61/61 [06:25<00:00,  6.31s/it]\n",
      "                 Class     Images  Instances      Box(P          R      mAP50  mAP50-95): 100%|██████████| 4/4 [00:14<00:00,  3.61s/it]"
     ]
    },
    {
     "name": "stdout",
     "output_type": "stream",
     "text": [
      "                   all        118        118      0.735      0.682      0.741      0.368\n"
     ]
    },
    {
     "name": "stderr",
     "output_type": "stream",
     "text": [
      "\n"
     ]
    },
    {
     "name": "stdout",
     "output_type": "stream",
     "text": [
      "\n",
      "      Epoch    GPU_mem   box_loss   cls_loss   dfl_loss  Instances       Size\n"
     ]
    },
    {
     "name": "stderr",
     "output_type": "stream",
     "text": [
      "    190/300      11.2G      1.028     0.5547     0.8377          8        640: 100%|██████████| 61/61 [04:30<00:00,  4.43s/it]\n",
      "                 Class     Images  Instances      Box(P          R      mAP50  mAP50-95): 100%|██████████| 4/4 [00:17<00:00,  4.48s/it]"
     ]
    },
    {
     "name": "stdout",
     "output_type": "stream",
     "text": [
      "                   all        118        118      0.751      0.712      0.769      0.396\n"
     ]
    },
    {
     "name": "stderr",
     "output_type": "stream",
     "text": [
      "\n"
     ]
    },
    {
     "name": "stdout",
     "output_type": "stream",
     "text": [
      "\n",
      "      Epoch    GPU_mem   box_loss   cls_loss   dfl_loss  Instances       Size\n"
     ]
    },
    {
     "name": "stderr",
     "output_type": "stream",
     "text": [
      "    191/300      11.2G      1.065     0.5716     0.8361          4        640: 100%|██████████| 61/61 [03:41<00:00,  3.63s/it]\n",
      "                 Class     Images  Instances      Box(P          R      mAP50  mAP50-95): 100%|██████████| 4/4 [00:17<00:00,  4.32s/it]"
     ]
    },
    {
     "name": "stdout",
     "output_type": "stream",
     "text": [
      "                   all        118        118      0.775      0.669      0.758      0.392\n"
     ]
    },
    {
     "name": "stderr",
     "output_type": "stream",
     "text": [
      "\n"
     ]
    },
    {
     "name": "stdout",
     "output_type": "stream",
     "text": [
      "\n",
      "      Epoch    GPU_mem   box_loss   cls_loss   dfl_loss  Instances       Size\n"
     ]
    },
    {
     "name": "stderr",
     "output_type": "stream",
     "text": [
      "    192/300      11.1G      1.002     0.5716      0.827          5        640: 100%|██████████| 61/61 [01:18<00:00,  1.29s/it]\n",
      "                 Class     Images  Instances      Box(P          R      mAP50  mAP50-95): 100%|██████████| 4/4 [00:17<00:00,  4.33s/it]"
     ]
    },
    {
     "name": "stdout",
     "output_type": "stream",
     "text": [
      "                   all        118        118      0.722      0.704       0.76      0.381\n"
     ]
    },
    {
     "name": "stderr",
     "output_type": "stream",
     "text": [
      "\n"
     ]
    },
    {
     "name": "stdout",
     "output_type": "stream",
     "text": [
      "\n",
      "      Epoch    GPU_mem   box_loss   cls_loss   dfl_loss  Instances       Size\n"
     ]
    },
    {
     "name": "stderr",
     "output_type": "stream",
     "text": [
      "    193/300      11.2G      1.017     0.5775     0.8146          3        640: 100%|██████████| 61/61 [02:05<00:00,  2.07s/it]\n",
      "                 Class     Images  Instances      Box(P          R      mAP50  mAP50-95): 100%|██████████| 4/4 [00:13<00:00,  3.28s/it]"
     ]
    },
    {
     "name": "stdout",
     "output_type": "stream",
     "text": [
      "                   all        118        118      0.708      0.729      0.754      0.378\n"
     ]
    },
    {
     "name": "stderr",
     "output_type": "stream",
     "text": [
      "\n"
     ]
    },
    {
     "name": "stdout",
     "output_type": "stream",
     "text": [
      "\n",
      "      Epoch    GPU_mem   box_loss   cls_loss   dfl_loss  Instances       Size\n"
     ]
    },
    {
     "name": "stderr",
     "output_type": "stream",
     "text": [
      "    194/300      11.1G      1.008     0.5728      0.826          4        640: 100%|██████████| 61/61 [01:35<00:00,  1.57s/it]\n",
      "                 Class     Images  Instances      Box(P          R      mAP50  mAP50-95): 100%|██████████| 4/4 [00:26<00:00,  6.73s/it]"
     ]
    },
    {
     "name": "stdout",
     "output_type": "stream",
     "text": [
      "                   all        118        118      0.694      0.754       0.75      0.386\n"
     ]
    },
    {
     "name": "stderr",
     "output_type": "stream",
     "text": [
      "\n"
     ]
    },
    {
     "name": "stdout",
     "output_type": "stream",
     "text": [
      "\n",
      "      Epoch    GPU_mem   box_loss   cls_loss   dfl_loss  Instances       Size\n"
     ]
    },
    {
     "name": "stderr",
     "output_type": "stream",
     "text": [
      "    195/300      11.2G       1.02     0.5526      0.815          6        640: 100%|██████████| 61/61 [16:16<00:00, 16.01s/it]\n",
      "                 Class     Images  Instances      Box(P          R      mAP50  mAP50-95): 100%|██████████| 4/4 [00:23<00:00,  5.83s/it]"
     ]
    },
    {
     "name": "stdout",
     "output_type": "stream",
     "text": [
      "                   all        118        118      0.712       0.72      0.729      0.373\n"
     ]
    },
    {
     "name": "stderr",
     "output_type": "stream",
     "text": [
      "\n"
     ]
    },
    {
     "name": "stdout",
     "output_type": "stream",
     "text": [
      "\n",
      "      Epoch    GPU_mem   box_loss   cls_loss   dfl_loss  Instances       Size\n"
     ]
    },
    {
     "name": "stderr",
     "output_type": "stream",
     "text": [
      "    196/300      11.1G      1.009     0.5751     0.8336          5        640: 100%|██████████| 61/61 [10:05<00:00,  9.92s/it]\n",
      "                 Class     Images  Instances      Box(P          R      mAP50  mAP50-95): 100%|██████████| 4/4 [00:24<00:00,  6.09s/it]"
     ]
    },
    {
     "name": "stdout",
     "output_type": "stream",
     "text": [
      "                   all        118        118      0.751      0.669      0.738      0.377\n"
     ]
    },
    {
     "name": "stderr",
     "output_type": "stream",
     "text": [
      "\n"
     ]
    },
    {
     "name": "stdout",
     "output_type": "stream",
     "text": [
      "\n",
      "      Epoch    GPU_mem   box_loss   cls_loss   dfl_loss  Instances       Size\n"
     ]
    },
    {
     "name": "stderr",
     "output_type": "stream",
     "text": [
      "    197/300      11.1G      1.029     0.5648     0.8221          5        640: 100%|██████████| 61/61 [09:32<00:00,  9.38s/it]\n",
      "                 Class     Images  Instances      Box(P          R      mAP50  mAP50-95): 100%|██████████| 4/4 [00:12<00:00,  3.14s/it]"
     ]
    },
    {
     "name": "stdout",
     "output_type": "stream",
     "text": [
      "                   all        118        118      0.762       0.65      0.728      0.376\n"
     ]
    },
    {
     "name": "stderr",
     "output_type": "stream",
     "text": [
      "\n"
     ]
    },
    {
     "name": "stdout",
     "output_type": "stream",
     "text": [
      "\n",
      "      Epoch    GPU_mem   box_loss   cls_loss   dfl_loss  Instances       Size\n"
     ]
    },
    {
     "name": "stderr",
     "output_type": "stream",
     "text": [
      "    198/300      11.2G      1.016     0.5602     0.8375         10        640: 100%|██████████| 61/61 [02:17<00:00,  2.25s/it]\n",
      "                 Class     Images  Instances      Box(P          R      mAP50  mAP50-95): 100%|██████████| 4/4 [00:19<00:00,  4.78s/it]"
     ]
    },
    {
     "name": "stdout",
     "output_type": "stream",
     "text": [
      "                   all        118        118      0.747      0.686      0.752      0.391\n"
     ]
    },
    {
     "name": "stderr",
     "output_type": "stream",
     "text": [
      "\n"
     ]
    },
    {
     "name": "stdout",
     "output_type": "stream",
     "text": [
      "\n",
      "      Epoch    GPU_mem   box_loss   cls_loss   dfl_loss  Instances       Size\n"
     ]
    },
    {
     "name": "stderr",
     "output_type": "stream",
     "text": [
      "    199/300      11.2G      0.964     0.5313     0.8303          1        640: 100%|██████████| 61/61 [01:31<00:00,  1.50s/it]\n",
      "                 Class     Images  Instances      Box(P          R      mAP50  mAP50-95): 100%|██████████| 4/4 [00:19<00:00,  4.78s/it]"
     ]
    },
    {
     "name": "stdout",
     "output_type": "stream",
     "text": [
      "                   all        118        118      0.734      0.677      0.739      0.384\n"
     ]
    },
    {
     "name": "stderr",
     "output_type": "stream",
     "text": [
      "\n"
     ]
    },
    {
     "name": "stdout",
     "output_type": "stream",
     "text": [
      "\n",
      "      Epoch    GPU_mem   box_loss   cls_loss   dfl_loss  Instances       Size\n"
     ]
    },
    {
     "name": "stderr",
     "output_type": "stream",
     "text": [
      "    200/300      11.1G     0.9839     0.5365     0.8284          5        640: 100%|██████████| 61/61 [01:13<00:00,  1.20s/it]\n",
      "                 Class     Images  Instances      Box(P          R      mAP50  mAP50-95): 100%|██████████| 4/4 [00:14<00:00,  3.66s/it]"
     ]
    },
    {
     "name": "stdout",
     "output_type": "stream",
     "text": [
      "                   all        118        118      0.789      0.636      0.743      0.373\n"
     ]
    },
    {
     "name": "stderr",
     "output_type": "stream",
     "text": [
      "\n"
     ]
    },
    {
     "name": "stdout",
     "output_type": "stream",
     "text": [
      "\n",
      "      Epoch    GPU_mem   box_loss   cls_loss   dfl_loss  Instances       Size\n"
     ]
    },
    {
     "name": "stderr",
     "output_type": "stream",
     "text": [
      "    201/300      11.1G     0.9725     0.5759     0.8115          2        640: 100%|██████████| 61/61 [01:14<00:00,  1.22s/it]\n",
      "                 Class     Images  Instances      Box(P          R      mAP50  mAP50-95): 100%|██████████| 4/4 [00:16<00:00,  4.06s/it]"
     ]
    },
    {
     "name": "stdout",
     "output_type": "stream",
     "text": [
      "                   all        118        118      0.714      0.676      0.752      0.396\n"
     ]
    },
    {
     "name": "stderr",
     "output_type": "stream",
     "text": [
      "\n"
     ]
    },
    {
     "name": "stdout",
     "output_type": "stream",
     "text": [
      "\n",
      "      Epoch    GPU_mem   box_loss   cls_loss   dfl_loss  Instances       Size\n"
     ]
    },
    {
     "name": "stderr",
     "output_type": "stream",
     "text": [
      "    202/300      11.2G       1.03     0.5508     0.8271          6        640: 100%|██████████| 61/61 [04:15<00:00,  4.19s/it]\n",
      "                 Class     Images  Instances      Box(P          R      mAP50  mAP50-95): 100%|██████████| 4/4 [00:15<00:00,  3.99s/it]"
     ]
    },
    {
     "name": "stdout",
     "output_type": "stream",
     "text": [
      "                   all        118        118      0.706      0.693      0.752      0.383\n"
     ]
    },
    {
     "name": "stderr",
     "output_type": "stream",
     "text": [
      "\n"
     ]
    },
    {
     "name": "stdout",
     "output_type": "stream",
     "text": [
      "\n",
      "      Epoch    GPU_mem   box_loss   cls_loss   dfl_loss  Instances       Size\n"
     ]
    },
    {
     "name": "stderr",
     "output_type": "stream",
     "text": [
      "    203/300      11.2G      0.978     0.5335      0.813          1        640: 100%|██████████| 61/61 [02:09<00:00,  2.12s/it]\n",
      "                 Class     Images  Instances      Box(P          R      mAP50  mAP50-95): 100%|██████████| 4/4 [00:16<00:00,  4.03s/it]"
     ]
    },
    {
     "name": "stdout",
     "output_type": "stream",
     "text": [
      "                   all        118        118      0.684      0.735      0.755      0.394\n"
     ]
    },
    {
     "name": "stderr",
     "output_type": "stream",
     "text": [
      "\n"
     ]
    },
    {
     "name": "stdout",
     "output_type": "stream",
     "text": [
      "\n",
      "      Epoch    GPU_mem   box_loss   cls_loss   dfl_loss  Instances       Size\n"
     ]
    },
    {
     "name": "stderr",
     "output_type": "stream",
     "text": [
      "    204/300        11G     0.9899     0.5349     0.8211          5        640: 100%|██████████| 61/61 [01:04<00:00,  1.06s/it]\n",
      "                 Class     Images  Instances      Box(P          R      mAP50  mAP50-95): 100%|██████████| 4/4 [00:14<00:00,  3.69s/it]"
     ]
    },
    {
     "name": "stdout",
     "output_type": "stream",
     "text": [
      "                   all        118        118       0.73      0.686      0.747        0.4\n"
     ]
    },
    {
     "name": "stderr",
     "output_type": "stream",
     "text": [
      "\n"
     ]
    },
    {
     "name": "stdout",
     "output_type": "stream",
     "text": [
      "\n",
      "      Epoch    GPU_mem   box_loss   cls_loss   dfl_loss  Instances       Size\n"
     ]
    },
    {
     "name": "stderr",
     "output_type": "stream",
     "text": [
      "    205/300      11.4G     0.9807     0.5275     0.8179          6        640: 100%|██████████| 61/61 [04:16<00:00,  4.21s/it]\n",
      "                 Class     Images  Instances      Box(P          R      mAP50  mAP50-95): 100%|██████████| 4/4 [00:08<00:00,  2.20s/it]"
     ]
    },
    {
     "name": "stdout",
     "output_type": "stream",
     "text": [
      "                   all        118        118      0.741      0.661      0.742      0.389\n"
     ]
    },
    {
     "name": "stderr",
     "output_type": "stream",
     "text": [
      "\n"
     ]
    },
    {
     "name": "stdout",
     "output_type": "stream",
     "text": [
      "\n",
      "      Epoch    GPU_mem   box_loss   cls_loss   dfl_loss  Instances       Size\n"
     ]
    },
    {
     "name": "stderr",
     "output_type": "stream",
     "text": [
      "    206/300      11.1G     0.9352      0.528     0.8114          4        640: 100%|██████████| 61/61 [01:41<00:00,  1.66s/it]\n",
      "                 Class     Images  Instances      Box(P          R      mAP50  mAP50-95): 100%|██████████| 4/4 [00:09<00:00,  2.42s/it]"
     ]
    },
    {
     "name": "stdout",
     "output_type": "stream",
     "text": [
      "                   all        118        118      0.776      0.676      0.772      0.401\n"
     ]
    },
    {
     "name": "stderr",
     "output_type": "stream",
     "text": [
      "\n"
     ]
    },
    {
     "name": "stdout",
     "output_type": "stream",
     "text": [
      "\n",
      "      Epoch    GPU_mem   box_loss   cls_loss   dfl_loss  Instances       Size\n"
     ]
    },
    {
     "name": "stderr",
     "output_type": "stream",
     "text": [
      "    207/300      11.2G     0.9705     0.5379     0.8407          5        640: 100%|██████████| 61/61 [02:23<00:00,  2.35s/it]\n",
      "                 Class     Images  Instances      Box(P          R      mAP50  mAP50-95): 100%|██████████| 4/4 [00:10<00:00,  2.62s/it]"
     ]
    },
    {
     "name": "stdout",
     "output_type": "stream",
     "text": [
      "                   all        118        118      0.651      0.737      0.748      0.389\n"
     ]
    },
    {
     "name": "stderr",
     "output_type": "stream",
     "text": [
      "\n"
     ]
    },
    {
     "name": "stdout",
     "output_type": "stream",
     "text": [
      "\n",
      "      Epoch    GPU_mem   box_loss   cls_loss   dfl_loss  Instances       Size\n"
     ]
    },
    {
     "name": "stderr",
     "output_type": "stream",
     "text": [
      "    208/300      11.3G     0.9327      0.512     0.8217          4        640: 100%|██████████| 61/61 [02:29<00:00,  2.45s/it]\n",
      "                 Class     Images  Instances      Box(P          R      mAP50  mAP50-95): 100%|██████████| 4/4 [00:14<00:00,  3.57s/it]"
     ]
    },
    {
     "name": "stdout",
     "output_type": "stream",
     "text": [
      "                   all        118        118      0.758      0.653       0.75      0.385\n"
     ]
    },
    {
     "name": "stderr",
     "output_type": "stream",
     "text": [
      "\n"
     ]
    },
    {
     "name": "stdout",
     "output_type": "stream",
     "text": [
      "\n",
      "      Epoch    GPU_mem   box_loss   cls_loss   dfl_loss  Instances       Size\n"
     ]
    },
    {
     "name": "stderr",
     "output_type": "stream",
     "text": [
      "    209/300      11.2G     0.9394     0.5299     0.8248          2        640: 100%|██████████| 61/61 [02:49<00:00,  2.78s/it]\n",
      "                 Class     Images  Instances      Box(P          R      mAP50  mAP50-95): 100%|██████████| 4/4 [00:24<00:00,  6.08s/it]"
     ]
    },
    {
     "name": "stdout",
     "output_type": "stream",
     "text": [
      "                   all        118        118      0.762      0.653      0.745      0.366\n"
     ]
    },
    {
     "name": "stderr",
     "output_type": "stream",
     "text": [
      "\n"
     ]
    },
    {
     "name": "stdout",
     "output_type": "stream",
     "text": [
      "\n",
      "      Epoch    GPU_mem   box_loss   cls_loss   dfl_loss  Instances       Size\n"
     ]
    },
    {
     "name": "stderr",
     "output_type": "stream",
     "text": [
      "    210/300      11.4G     0.9689     0.5258     0.8258          7        640: 100%|██████████| 61/61 [06:37<00:00,  6.52s/it]\n",
      "                 Class     Images  Instances      Box(P          R      mAP50  mAP50-95): 100%|██████████| 4/4 [00:18<00:00,  4.63s/it]"
     ]
    },
    {
     "name": "stdout",
     "output_type": "stream",
     "text": [
      "                   all        118        118       0.75      0.661      0.753      0.385\n"
     ]
    },
    {
     "name": "stderr",
     "output_type": "stream",
     "text": [
      "\n"
     ]
    },
    {
     "name": "stdout",
     "output_type": "stream",
     "text": [
      "\n",
      "      Epoch    GPU_mem   box_loss   cls_loss   dfl_loss  Instances       Size\n"
     ]
    },
    {
     "name": "stderr",
     "output_type": "stream",
     "text": [
      "    211/300      11.2G     0.9445     0.5171     0.8154          6        640: 100%|██████████| 61/61 [04:14<00:00,  4.18s/it]\n",
      "                 Class     Images  Instances      Box(P          R      mAP50  mAP50-95): 100%|██████████| 4/4 [00:18<00:00,  4.57s/it]"
     ]
    },
    {
     "name": "stdout",
     "output_type": "stream",
     "text": [
      "                   all        118        118      0.724      0.688      0.746      0.382\n"
     ]
    },
    {
     "name": "stderr",
     "output_type": "stream",
     "text": [
      "\n"
     ]
    },
    {
     "name": "stdout",
     "output_type": "stream",
     "text": [
      "\n",
      "      Epoch    GPU_mem   box_loss   cls_loss   dfl_loss  Instances       Size\n"
     ]
    },
    {
     "name": "stderr",
     "output_type": "stream",
     "text": [
      "    212/300      11.1G     0.9595     0.5252     0.8191          4        640: 100%|██████████| 61/61 [01:56<00:00,  1.91s/it]\n",
      "                 Class     Images  Instances      Box(P          R      mAP50  mAP50-95): 100%|██████████| 4/4 [00:19<00:00,  4.83s/it]"
     ]
    },
    {
     "name": "stdout",
     "output_type": "stream",
     "text": [
      "                   all        118        118      0.732      0.703      0.751      0.388\n"
     ]
    },
    {
     "name": "stderr",
     "output_type": "stream",
     "text": [
      "\n"
     ]
    },
    {
     "name": "stdout",
     "output_type": "stream",
     "text": [
      "\n",
      "      Epoch    GPU_mem   box_loss   cls_loss   dfl_loss  Instances       Size\n"
     ]
    },
    {
     "name": "stderr",
     "output_type": "stream",
     "text": [
      "    213/300      11.4G     0.9352     0.5144      0.817          4        640: 100%|██████████| 61/61 [04:52<00:00,  4.80s/it]\n",
      "                 Class     Images  Instances      Box(P          R      mAP50  mAP50-95): 100%|██████████| 4/4 [00:07<00:00,  1.87s/it]"
     ]
    },
    {
     "name": "stdout",
     "output_type": "stream",
     "text": [
      "                   all        118        118      0.747      0.669      0.736      0.384\n"
     ]
    },
    {
     "name": "stderr",
     "output_type": "stream",
     "text": [
      "\n"
     ]
    },
    {
     "name": "stdout",
     "output_type": "stream",
     "text": [
      "\n",
      "      Epoch    GPU_mem   box_loss   cls_loss   dfl_loss  Instances       Size\n"
     ]
    },
    {
     "name": "stderr",
     "output_type": "stream",
     "text": [
      "    214/300      11.4G     0.9513     0.5377     0.8222          2        640: 100%|██████████| 61/61 [02:17<00:00,  2.25s/it]\n",
      "                 Class     Images  Instances      Box(P          R      mAP50  mAP50-95): 100%|██████████| 4/4 [00:12<00:00,  3.08s/it]"
     ]
    },
    {
     "name": "stdout",
     "output_type": "stream",
     "text": [
      "                   all        118        118      0.733      0.678      0.745       0.39\n"
     ]
    },
    {
     "name": "stderr",
     "output_type": "stream",
     "text": [
      "\n"
     ]
    },
    {
     "name": "stdout",
     "output_type": "stream",
     "text": [
      "\n",
      "      Epoch    GPU_mem   box_loss   cls_loss   dfl_loss  Instances       Size\n"
     ]
    },
    {
     "name": "stderr",
     "output_type": "stream",
     "text": [
      "    215/300      11.1G     0.9477     0.5614      0.821          5        640: 100%|██████████| 61/61 [02:37<00:00,  2.57s/it]\n",
      "                 Class     Images  Instances      Box(P          R      mAP50  mAP50-95): 100%|██████████| 4/4 [00:19<00:00,  4.81s/it]"
     ]
    },
    {
     "name": "stdout",
     "output_type": "stream",
     "text": [
      "                   all        118        118      0.727      0.678      0.733      0.375\n"
     ]
    },
    {
     "name": "stderr",
     "output_type": "stream",
     "text": [
      "\n"
     ]
    },
    {
     "name": "stdout",
     "output_type": "stream",
     "text": [
      "\n",
      "      Epoch    GPU_mem   box_loss   cls_loss   dfl_loss  Instances       Size\n"
     ]
    },
    {
     "name": "stderr",
     "output_type": "stream",
     "text": [
      "    216/300      11.1G       0.91     0.5004     0.8149          3        640: 100%|██████████| 61/61 [02:03<00:00,  2.02s/it]\n",
      "                 Class     Images  Instances      Box(P          R      mAP50  mAP50-95): 100%|██████████| 4/4 [00:18<00:00,  4.64s/it]"
     ]
    },
    {
     "name": "stdout",
     "output_type": "stream",
     "text": [
      "                   all        118        118      0.721       0.72       0.75      0.387\n"
     ]
    },
    {
     "name": "stderr",
     "output_type": "stream",
     "text": [
      "\n"
     ]
    },
    {
     "name": "stdout",
     "output_type": "stream",
     "text": [
      "\n",
      "      Epoch    GPU_mem   box_loss   cls_loss   dfl_loss  Instances       Size\n"
     ]
    },
    {
     "name": "stderr",
     "output_type": "stream",
     "text": [
      "    217/300      11.2G     0.9362     0.5139     0.8225          7        640: 100%|██████████| 61/61 [02:51<00:00,  2.81s/it]\n",
      "                 Class     Images  Instances      Box(P          R      mAP50  mAP50-95): 100%|██████████| 4/4 [00:06<00:00,  1.53s/it]"
     ]
    },
    {
     "name": "stdout",
     "output_type": "stream",
     "text": [
      "                   all        118        118      0.766      0.695      0.749      0.386\n"
     ]
    },
    {
     "name": "stderr",
     "output_type": "stream",
     "text": [
      "\n"
     ]
    },
    {
     "name": "stdout",
     "output_type": "stream",
     "text": [
      "\n",
      "      Epoch    GPU_mem   box_loss   cls_loss   dfl_loss  Instances       Size\n"
     ]
    },
    {
     "name": "stderr",
     "output_type": "stream",
     "text": [
      "    218/300      11.4G     0.9311     0.5078     0.8187          7        640: 100%|██████████| 61/61 [02:46<00:00,  2.73s/it]\n",
      "                 Class     Images  Instances      Box(P          R      mAP50  mAP50-95): 100%|██████████| 4/4 [00:11<00:00,  2.85s/it]"
     ]
    },
    {
     "name": "stdout",
     "output_type": "stream",
     "text": [
      "                   all        118        118      0.715      0.695      0.737      0.374\n"
     ]
    },
    {
     "name": "stderr",
     "output_type": "stream",
     "text": [
      "\n"
     ]
    },
    {
     "name": "stdout",
     "output_type": "stream",
     "text": [
      "\n",
      "      Epoch    GPU_mem   box_loss   cls_loss   dfl_loss  Instances       Size\n"
     ]
    },
    {
     "name": "stderr",
     "output_type": "stream",
     "text": [
      "    219/300      11.1G     0.9101     0.5095     0.8263          5        640: 100%|██████████| 61/61 [01:17<00:00,  1.27s/it]\n",
      "                 Class     Images  Instances      Box(P          R      mAP50  mAP50-95): 100%|██████████| 4/4 [00:14<00:00,  3.69s/it]"
     ]
    },
    {
     "name": "stdout",
     "output_type": "stream",
     "text": [
      "                   all        118        118       0.74      0.712      0.745      0.388\n"
     ]
    },
    {
     "name": "stderr",
     "output_type": "stream",
     "text": [
      "\n"
     ]
    },
    {
     "name": "stdout",
     "output_type": "stream",
     "text": [
      "\n",
      "      Epoch    GPU_mem   box_loss   cls_loss   dfl_loss  Instances       Size\n"
     ]
    },
    {
     "name": "stderr",
     "output_type": "stream",
     "text": [
      "    220/300      11.1G      0.897     0.5056     0.8292          4        640: 100%|██████████| 61/61 [01:54<00:00,  1.88s/it]\n",
      "                 Class     Images  Instances      Box(P          R      mAP50  mAP50-95): 100%|██████████| 4/4 [00:14<00:00,  3.70s/it]"
     ]
    },
    {
     "name": "stdout",
     "output_type": "stream",
     "text": [
      "                   all        118        118      0.672      0.712      0.734      0.389\n"
     ]
    },
    {
     "name": "stderr",
     "output_type": "stream",
     "text": [
      "\n"
     ]
    },
    {
     "name": "stdout",
     "output_type": "stream",
     "text": [
      "\n",
      "      Epoch    GPU_mem   box_loss   cls_loss   dfl_loss  Instances       Size\n"
     ]
    },
    {
     "name": "stderr",
     "output_type": "stream",
     "text": [
      "    221/300      11.4G     0.9356     0.5146     0.8128          4        640: 100%|██████████| 61/61 [01:44<00:00,  1.71s/it]\n",
      "                 Class     Images  Instances      Box(P          R      mAP50  mAP50-95): 100%|██████████| 4/4 [00:14<00:00,  3.55s/it]"
     ]
    },
    {
     "name": "stdout",
     "output_type": "stream",
     "text": [
      "                   all        118        118      0.742      0.681      0.756      0.401\n"
     ]
    },
    {
     "name": "stderr",
     "output_type": "stream",
     "text": [
      "\n"
     ]
    },
    {
     "name": "stdout",
     "output_type": "stream",
     "text": [
      "\n",
      "      Epoch    GPU_mem   box_loss   cls_loss   dfl_loss  Instances       Size\n"
     ]
    },
    {
     "name": "stderr",
     "output_type": "stream",
     "text": [
      "    222/300      11.2G     0.9468     0.5326     0.8269          4        640: 100%|██████████| 61/61 [03:01<00:00,  2.98s/it]\n",
      "                 Class     Images  Instances      Box(P          R      mAP50  mAP50-95): 100%|██████████| 4/4 [00:16<00:00,  4.11s/it]"
     ]
    },
    {
     "name": "stdout",
     "output_type": "stream",
     "text": [
      "                   all        118        118       0.75      0.685      0.749      0.392\n"
     ]
    },
    {
     "name": "stderr",
     "output_type": "stream",
     "text": [
      "\n"
     ]
    },
    {
     "name": "stdout",
     "output_type": "stream",
     "text": [
      "\n",
      "      Epoch    GPU_mem   box_loss   cls_loss   dfl_loss  Instances       Size\n"
     ]
    },
    {
     "name": "stderr",
     "output_type": "stream",
     "text": [
      "    223/300      11.1G     0.8645     0.4823      0.812          6        640: 100%|██████████| 61/61 [02:16<00:00,  2.24s/it]\n",
      "                 Class     Images  Instances      Box(P          R      mAP50  mAP50-95): 100%|██████████| 4/4 [00:18<00:00,  4.54s/it]"
     ]
    },
    {
     "name": "stdout",
     "output_type": "stream",
     "text": [
      "                   all        118        118      0.697      0.729      0.743      0.385\n"
     ]
    },
    {
     "name": "stderr",
     "output_type": "stream",
     "text": [
      "\n"
     ]
    },
    {
     "name": "stdout",
     "output_type": "stream",
     "text": [
      "\n",
      "      Epoch    GPU_mem   box_loss   cls_loss   dfl_loss  Instances       Size\n"
     ]
    },
    {
     "name": "stderr",
     "output_type": "stream",
     "text": [
      "    224/300      11.1G     0.9232     0.5058     0.8301          8        640: 100%|██████████| 61/61 [01:29<00:00,  1.46s/it]\n",
      "                 Class     Images  Instances      Box(P          R      mAP50  mAP50-95): 100%|██████████| 4/4 [00:19<00:00,  4.84s/it]"
     ]
    },
    {
     "name": "stdout",
     "output_type": "stream",
     "text": [
      "                   all        118        118      0.714      0.712      0.755      0.399\n"
     ]
    },
    {
     "name": "stderr",
     "output_type": "stream",
     "text": [
      "\n"
     ]
    },
    {
     "name": "stdout",
     "output_type": "stream",
     "text": [
      "\n",
      "      Epoch    GPU_mem   box_loss   cls_loss   dfl_loss  Instances       Size\n"
     ]
    },
    {
     "name": "stderr",
     "output_type": "stream",
     "text": [
      "    225/300      11.4G     0.8819     0.4877     0.8157          1        640: 100%|██████████| 61/61 [04:12<00:00,  4.15s/it]\n",
      "                 Class     Images  Instances      Box(P          R      mAP50  mAP50-95): 100%|██████████| 4/4 [00:11<00:00,  2.98s/it]"
     ]
    },
    {
     "name": "stdout",
     "output_type": "stream",
     "text": [
      "                   all        118        118      0.712       0.72       0.75      0.396\n"
     ]
    },
    {
     "name": "stderr",
     "output_type": "stream",
     "text": [
      "\n"
     ]
    },
    {
     "name": "stdout",
     "output_type": "stream",
     "text": [
      "\n",
      "      Epoch    GPU_mem   box_loss   cls_loss   dfl_loss  Instances       Size\n"
     ]
    },
    {
     "name": "stderr",
     "output_type": "stream",
     "text": [
      "    226/300      11.2G     0.9099     0.5162      0.826          2        640: 100%|██████████| 61/61 [03:03<00:00,  3.01s/it]\n",
      "                 Class     Images  Instances      Box(P          R      mAP50  mAP50-95): 100%|██████████| 4/4 [00:26<00:00,  6.72s/it]"
     ]
    },
    {
     "name": "stdout",
     "output_type": "stream",
     "text": [
      "                   all        118        118      0.798      0.671      0.748      0.402\n"
     ]
    },
    {
     "name": "stderr",
     "output_type": "stream",
     "text": [
      "\n"
     ]
    },
    {
     "name": "stdout",
     "output_type": "stream",
     "text": [
      "\n",
      "      Epoch    GPU_mem   box_loss   cls_loss   dfl_loss  Instances       Size\n"
     ]
    },
    {
     "name": "stderr",
     "output_type": "stream",
     "text": [
      "    227/300      11.2G     0.9165     0.5028     0.8222          3        640: 100%|██████████| 61/61 [08:29<00:00,  8.35s/it]\n",
      "                 Class     Images  Instances      Box(P          R      mAP50  mAP50-95): 100%|██████████| 4/4 [00:45<00:00, 11.25s/it]"
     ]
    },
    {
     "name": "stdout",
     "output_type": "stream",
     "text": [
      "                   all        118        118      0.682       0.78      0.761      0.399\n"
     ]
    },
    {
     "name": "stderr",
     "output_type": "stream",
     "text": [
      "\n"
     ]
    },
    {
     "name": "stdout",
     "output_type": "stream",
     "text": [
      "\n",
      "      Epoch    GPU_mem   box_loss   cls_loss   dfl_loss  Instances       Size\n"
     ]
    },
    {
     "name": "stderr",
     "output_type": "stream",
     "text": [
      "    228/300      11.1G      0.908     0.5041     0.8249          2        640: 100%|██████████| 61/61 [02:21<00:00,  2.32s/it]\n",
      "                 Class     Images  Instances      Box(P          R      mAP50  mAP50-95): 100%|██████████| 4/4 [00:20<00:00,  5.04s/it]"
     ]
    },
    {
     "name": "stdout",
     "output_type": "stream",
     "text": [
      "                   all        118        118       0.73      0.735       0.76      0.398\n"
     ]
    },
    {
     "name": "stderr",
     "output_type": "stream",
     "text": [
      "\n"
     ]
    },
    {
     "name": "stdout",
     "output_type": "stream",
     "text": [
      "\n",
      "      Epoch    GPU_mem   box_loss   cls_loss   dfl_loss  Instances       Size\n"
     ]
    },
    {
     "name": "stderr",
     "output_type": "stream",
     "text": [
      "    229/300      11.1G      0.895      0.477     0.8169          3        640: 100%|██████████| 61/61 [01:19<00:00,  1.30s/it]\n",
      "                 Class     Images  Instances      Box(P          R      mAP50  mAP50-95): 100%|██████████| 4/4 [00:18<00:00,  4.63s/it]"
     ]
    },
    {
     "name": "stdout",
     "output_type": "stream",
     "text": [
      "                   all        118        118       0.73      0.711      0.754      0.403\n"
     ]
    },
    {
     "name": "stderr",
     "output_type": "stream",
     "text": [
      "\n"
     ]
    },
    {
     "name": "stdout",
     "output_type": "stream",
     "text": [
      "\n",
      "      Epoch    GPU_mem   box_loss   cls_loss   dfl_loss  Instances       Size\n"
     ]
    },
    {
     "name": "stderr",
     "output_type": "stream",
     "text": [
      "    230/300      11.2G     0.8711     0.4833     0.8181          3        640: 100%|██████████| 61/61 [03:59<00:00,  3.93s/it]\n",
      "                 Class     Images  Instances      Box(P          R      mAP50  mAP50-95): 100%|██████████| 4/4 [00:18<00:00,  4.62s/it]"
     ]
    },
    {
     "name": "stdout",
     "output_type": "stream",
     "text": [
      "                   all        118        118      0.712      0.712       0.76      0.378\n"
     ]
    },
    {
     "name": "stderr",
     "output_type": "stream",
     "text": [
      "\n"
     ]
    },
    {
     "name": "stdout",
     "output_type": "stream",
     "text": [
      "\n",
      "      Epoch    GPU_mem   box_loss   cls_loss   dfl_loss  Instances       Size\n"
     ]
    },
    {
     "name": "stderr",
     "output_type": "stream",
     "text": [
      "    231/300      11.4G     0.9121     0.5009     0.8227          6        640: 100%|██████████| 61/61 [02:38<00:00,  2.60s/it]\n",
      "                 Class     Images  Instances      Box(P          R      mAP50  mAP50-95): 100%|██████████| 4/4 [00:12<00:00,  3.23s/it]"
     ]
    },
    {
     "name": "stdout",
     "output_type": "stream",
     "text": [
      "                   all        118        118      0.726      0.696      0.756      0.392\n"
     ]
    },
    {
     "name": "stderr",
     "output_type": "stream",
     "text": [
      "\n"
     ]
    },
    {
     "name": "stdout",
     "output_type": "stream",
     "text": [
      "\n",
      "      Epoch    GPU_mem   box_loss   cls_loss   dfl_loss  Instances       Size\n"
     ]
    },
    {
     "name": "stderr",
     "output_type": "stream",
     "text": [
      "    232/300        11G     0.8564      0.485     0.8074          2        640: 100%|██████████| 61/61 [01:04<00:00,  1.06s/it]\n",
      "                 Class     Images  Instances      Box(P          R      mAP50  mAP50-95): 100%|██████████| 4/4 [00:14<00:00,  3.69s/it]"
     ]
    },
    {
     "name": "stdout",
     "output_type": "stream",
     "text": [
      "                   all        118        118       0.76      0.686      0.761      0.385\n"
     ]
    },
    {
     "name": "stderr",
     "output_type": "stream",
     "text": [
      "\n"
     ]
    },
    {
     "name": "stdout",
     "output_type": "stream",
     "text": [
      "\n",
      "      Epoch    GPU_mem   box_loss   cls_loss   dfl_loss  Instances       Size\n"
     ]
    },
    {
     "name": "stderr",
     "output_type": "stream",
     "text": [
      "    233/300      11.2G     0.8565     0.4831     0.8055          5        640: 100%|██████████| 61/61 [02:51<00:00,  2.81s/it]\n",
      "                 Class     Images  Instances      Box(P          R      mAP50  mAP50-95): 100%|██████████| 4/4 [00:13<00:00,  3.48s/it]"
     ]
    },
    {
     "name": "stdout",
     "output_type": "stream",
     "text": [
      "                   all        118        118      0.729      0.729      0.764      0.398\n"
     ]
    },
    {
     "name": "stderr",
     "output_type": "stream",
     "text": [
      "\n"
     ]
    },
    {
     "name": "stdout",
     "output_type": "stream",
     "text": [
      "\n",
      "      Epoch    GPU_mem   box_loss   cls_loss   dfl_loss  Instances       Size\n"
     ]
    },
    {
     "name": "stderr",
     "output_type": "stream",
     "text": [
      "    234/300      11.4G     0.9082     0.4838     0.8224          2        640: 100%|██████████| 61/61 [02:12<00:00,  2.18s/it]\n",
      "                 Class     Images  Instances      Box(P          R      mAP50  mAP50-95): 100%|██████████| 4/4 [00:41<00:00, 10.30s/it]"
     ]
    },
    {
     "name": "stdout",
     "output_type": "stream",
     "text": [
      "                   all        118        118      0.735      0.712      0.765      0.405\n"
     ]
    },
    {
     "name": "stderr",
     "output_type": "stream",
     "text": [
      "\n"
     ]
    },
    {
     "name": "stdout",
     "output_type": "stream",
     "text": [
      "\n",
      "      Epoch    GPU_mem   box_loss   cls_loss   dfl_loss  Instances       Size\n"
     ]
    },
    {
     "name": "stderr",
     "output_type": "stream",
     "text": [
      "    235/300      11.4G     0.8731     0.4873     0.8156          8        640: 100%|██████████| 61/61 [05:05<00:00,  5.00s/it]\n",
      "                 Class     Images  Instances      Box(P          R      mAP50  mAP50-95): 100%|██████████| 4/4 [00:07<00:00,  1.97s/it]"
     ]
    },
    {
     "name": "stdout",
     "output_type": "stream",
     "text": [
      "                   all        118        118      0.764      0.669      0.771      0.409\n"
     ]
    },
    {
     "name": "stderr",
     "output_type": "stream",
     "text": [
      "\n"
     ]
    },
    {
     "name": "stdout",
     "output_type": "stream",
     "text": [
      "\n",
      "      Epoch    GPU_mem   box_loss   cls_loss   dfl_loss  Instances       Size\n"
     ]
    },
    {
     "name": "stderr",
     "output_type": "stream",
     "text": [
      "    236/300      11.1G     0.8359     0.4654     0.8239          2        640: 100%|██████████| 61/61 [01:45<00:00,  1.72s/it]\n",
      "                 Class     Images  Instances      Box(P          R      mAP50  mAP50-95): 100%|██████████| 4/4 [00:17<00:00,  4.27s/it]"
     ]
    },
    {
     "name": "stdout",
     "output_type": "stream",
     "text": [
      "                   all        118        118      0.718      0.712      0.759      0.408\n"
     ]
    },
    {
     "name": "stderr",
     "output_type": "stream",
     "text": [
      "\n"
     ]
    },
    {
     "name": "stdout",
     "output_type": "stream",
     "text": [
      "\n",
      "      Epoch    GPU_mem   box_loss   cls_loss   dfl_loss  Instances       Size\n"
     ]
    },
    {
     "name": "stderr",
     "output_type": "stream",
     "text": [
      "    237/300      11.4G     0.8543     0.4721     0.8112          2        640: 100%|██████████| 61/61 [05:22<00:00,  5.28s/it]\n",
      "                 Class     Images  Instances      Box(P          R      mAP50  mAP50-95): 100%|██████████| 4/4 [00:08<00:00,  2.07s/it]"
     ]
    },
    {
     "name": "stdout",
     "output_type": "stream",
     "text": [
      "                   all        118        118      0.733      0.743      0.776      0.406\n"
     ]
    },
    {
     "name": "stderr",
     "output_type": "stream",
     "text": [
      "\n"
     ]
    },
    {
     "name": "stdout",
     "output_type": "stream",
     "text": [
      "\n",
      "      Epoch    GPU_mem   box_loss   cls_loss   dfl_loss  Instances       Size\n"
     ]
    },
    {
     "name": "stderr",
     "output_type": "stream",
     "text": [
      "    238/300      11.1G     0.8603     0.4768     0.8263          6        640: 100%|██████████| 61/61 [01:24<00:00,  1.39s/it]\n",
      "                 Class     Images  Instances      Box(P          R      mAP50  mAP50-95): 100%|██████████| 4/4 [00:22<00:00,  5.62s/it]"
     ]
    },
    {
     "name": "stdout",
     "output_type": "stream",
     "text": [
      "                   all        118        118      0.793      0.682      0.777      0.404\n"
     ]
    },
    {
     "name": "stderr",
     "output_type": "stream",
     "text": [
      "\n"
     ]
    },
    {
     "name": "stdout",
     "output_type": "stream",
     "text": [
      "\n",
      "      Epoch    GPU_mem   box_loss   cls_loss   dfl_loss  Instances       Size\n"
     ]
    },
    {
     "name": "stderr",
     "output_type": "stream",
     "text": [
      "    239/300      11.2G     0.8552       0.48     0.8135          5        640: 100%|██████████| 61/61 [11:39<00:00, 11.47s/it]\n",
      "                 Class     Images  Instances      Box(P          R      mAP50  mAP50-95): 100%|██████████| 4/4 [00:20<00:00,  5.00s/it]"
     ]
    },
    {
     "name": "stdout",
     "output_type": "stream",
     "text": [
      "                   all        118        118      0.787      0.678      0.771      0.412\n"
     ]
    },
    {
     "name": "stderr",
     "output_type": "stream",
     "text": [
      "\n"
     ]
    },
    {
     "name": "stdout",
     "output_type": "stream",
     "text": [
      "\n",
      "      Epoch    GPU_mem   box_loss   cls_loss   dfl_loss  Instances       Size\n"
     ]
    },
    {
     "name": "stderr",
     "output_type": "stream",
     "text": [
      "    240/300        11G     0.8601     0.4667     0.8086          4        640: 100%|██████████| 61/61 [01:12<00:00,  1.19s/it]\n",
      "                 Class     Images  Instances      Box(P          R      mAP50  mAP50-95): 100%|██████████| 4/4 [00:14<00:00,  3.52s/it]"
     ]
    },
    {
     "name": "stdout",
     "output_type": "stream",
     "text": [
      "                   all        118        118      0.766      0.703       0.76      0.395\n"
     ]
    },
    {
     "name": "stderr",
     "output_type": "stream",
     "text": [
      "\n"
     ]
    },
    {
     "name": "stdout",
     "output_type": "stream",
     "text": [
      "\n",
      "      Epoch    GPU_mem   box_loss   cls_loss   dfl_loss  Instances       Size\n"
     ]
    },
    {
     "name": "stderr",
     "output_type": "stream",
     "text": [
      "    241/300      11.2G     0.8479     0.4576     0.8092          6        640: 100%|██████████| 61/61 [03:41<00:00,  3.64s/it]\n",
      "                 Class     Images  Instances      Box(P          R      mAP50  mAP50-95): 100%|██████████| 4/4 [00:12<00:00,  3.19s/it]"
     ]
    },
    {
     "name": "stdout",
     "output_type": "stream",
     "text": [
      "                   all        118        118      0.757      0.687      0.751      0.399\n"
     ]
    },
    {
     "name": "stderr",
     "output_type": "stream",
     "text": [
      "\n"
     ]
    },
    {
     "name": "stdout",
     "output_type": "stream",
     "text": [
      "\n",
      "      Epoch    GPU_mem   box_loss   cls_loss   dfl_loss  Instances       Size\n"
     ]
    },
    {
     "name": "stderr",
     "output_type": "stream",
     "text": [
      "    242/300      11.1G     0.8223     0.4562     0.7952          4        640: 100%|██████████| 61/61 [02:37<00:00,  2.58s/it]\n",
      "                 Class     Images  Instances      Box(P          R      mAP50  mAP50-95): 100%|██████████| 4/4 [00:16<00:00,  4.18s/it]"
     ]
    },
    {
     "name": "stdout",
     "output_type": "stream",
     "text": [
      "                   all        118        118      0.738      0.692      0.762      0.401\n"
     ]
    },
    {
     "name": "stderr",
     "output_type": "stream",
     "text": [
      "\n"
     ]
    },
    {
     "name": "stdout",
     "output_type": "stream",
     "text": [
      "\n",
      "      Epoch    GPU_mem   box_loss   cls_loss   dfl_loss  Instances       Size\n"
     ]
    },
    {
     "name": "stderr",
     "output_type": "stream",
     "text": [
      "    243/300      11.1G     0.8952     0.4899      0.818          6        640: 100%|██████████| 61/61 [05:27<00:00,  5.37s/it]\n",
      "                 Class     Images  Instances      Box(P          R      mAP50  mAP50-95): 100%|██████████| 4/4 [00:38<00:00,  9.70s/it]"
     ]
    },
    {
     "name": "stdout",
     "output_type": "stream",
     "text": [
      "                   all        118        118      0.683       0.72       0.75      0.401\n"
     ]
    },
    {
     "name": "stderr",
     "output_type": "stream",
     "text": [
      "\n"
     ]
    },
    {
     "name": "stdout",
     "output_type": "stream",
     "text": [
      "\n",
      "      Epoch    GPU_mem   box_loss   cls_loss   dfl_loss  Instances       Size\n"
     ]
    },
    {
     "name": "stderr",
     "output_type": "stream",
     "text": [
      "    244/300      11.3G     0.8121      0.476     0.8044          2        640: 100%|██████████| 61/61 [07:58<00:00,  7.84s/it]\n",
      "                 Class     Images  Instances      Box(P          R      mAP50  mAP50-95): 100%|██████████| 4/4 [00:17<00:00,  4.29s/it]"
     ]
    },
    {
     "name": "stdout",
     "output_type": "stream",
     "text": [
      "                   all        118        118      0.754      0.653       0.75      0.395\n"
     ]
    },
    {
     "name": "stderr",
     "output_type": "stream",
     "text": [
      "\n"
     ]
    },
    {
     "name": "stdout",
     "output_type": "stream",
     "text": [
      "\n",
      "      Epoch    GPU_mem   box_loss   cls_loss   dfl_loss  Instances       Size\n"
     ]
    },
    {
     "name": "stderr",
     "output_type": "stream",
     "text": [
      "    245/300      11.4G     0.8412     0.4519     0.8097          4        640: 100%|██████████| 61/61 [08:57<00:00,  8.81s/it]\n",
      "                 Class     Images  Instances      Box(P          R      mAP50  mAP50-95): 100%|██████████| 4/4 [00:12<00:00,  3.13s/it]"
     ]
    },
    {
     "name": "stdout",
     "output_type": "stream",
     "text": [
      "                   all        118        118      0.718      0.711       0.75      0.395\n"
     ]
    },
    {
     "name": "stderr",
     "output_type": "stream",
     "text": [
      "\n"
     ]
    },
    {
     "name": "stdout",
     "output_type": "stream",
     "text": [
      "\n",
      "      Epoch    GPU_mem   box_loss   cls_loss   dfl_loss  Instances       Size\n"
     ]
    },
    {
     "name": "stderr",
     "output_type": "stream",
     "text": [
      "    246/300      11.2G     0.8118     0.4463     0.8024          1        640: 100%|██████████| 61/61 [01:46<00:00,  1.75s/it]\n",
      "                 Class     Images  Instances      Box(P          R      mAP50  mAP50-95): 100%|██████████| 4/4 [00:22<00:00,  5.63s/it]"
     ]
    },
    {
     "name": "stdout",
     "output_type": "stream",
     "text": [
      "                   all        118        118      0.759      0.678      0.758      0.396\n"
     ]
    },
    {
     "name": "stderr",
     "output_type": "stream",
     "text": [
      "\n"
     ]
    },
    {
     "name": "stdout",
     "output_type": "stream",
     "text": [
      "\n",
      "      Epoch    GPU_mem   box_loss   cls_loss   dfl_loss  Instances       Size\n"
     ]
    },
    {
     "name": "stderr",
     "output_type": "stream",
     "text": [
      "    247/300      11.1G     0.8923     0.4864     0.8209          2        640: 100%|██████████| 61/61 [02:35<00:00,  2.54s/it]\n",
      "                 Class     Images  Instances      Box(P          R      mAP50  mAP50-95): 100%|██████████| 4/4 [00:18<00:00,  4.64s/it]"
     ]
    },
    {
     "name": "stdout",
     "output_type": "stream",
     "text": [
      "                   all        118        118      0.786      0.653      0.768      0.404\n"
     ]
    },
    {
     "name": "stderr",
     "output_type": "stream",
     "text": [
      "\n"
     ]
    },
    {
     "name": "stdout",
     "output_type": "stream",
     "text": [
      "\n",
      "      Epoch    GPU_mem   box_loss   cls_loss   dfl_loss  Instances       Size\n"
     ]
    },
    {
     "name": "stderr",
     "output_type": "stream",
     "text": [
      "    248/300      11.1G      0.837     0.4728     0.8163          4        640: 100%|██████████| 61/61 [02:56<00:00,  2.89s/it]\n",
      "                 Class     Images  Instances      Box(P          R      mAP50  mAP50-95): 100%|██████████| 4/4 [00:17<00:00,  4.49s/it]"
     ]
    },
    {
     "name": "stdout",
     "output_type": "stream",
     "text": [
      "                   all        118        118      0.752      0.669       0.76      0.401\n"
     ]
    },
    {
     "name": "stderr",
     "output_type": "stream",
     "text": [
      "\n"
     ]
    },
    {
     "name": "stdout",
     "output_type": "stream",
     "text": [
      "\n",
      "      Epoch    GPU_mem   box_loss   cls_loss   dfl_loss  Instances       Size\n"
     ]
    },
    {
     "name": "stderr",
     "output_type": "stream",
     "text": [
      "    249/300      11.4G     0.7618     0.4377     0.8073          5        640: 100%|██████████| 61/61 [07:12<00:00,  7.09s/it]\n",
      "                 Class     Images  Instances      Box(P          R      mAP50  mAP50-95): 100%|██████████| 4/4 [00:09<00:00,  2.33s/it]"
     ]
    },
    {
     "name": "stdout",
     "output_type": "stream",
     "text": [
      "                   all        118        118      0.723      0.709      0.763      0.402\n"
     ]
    },
    {
     "name": "stderr",
     "output_type": "stream",
     "text": [
      "\n"
     ]
    },
    {
     "name": "stdout",
     "output_type": "stream",
     "text": [
      "\n",
      "      Epoch    GPU_mem   box_loss   cls_loss   dfl_loss  Instances       Size\n"
     ]
    },
    {
     "name": "stderr",
     "output_type": "stream",
     "text": [
      "    250/300      11.1G     0.8012     0.4325     0.8153          5        640: 100%|██████████| 61/61 [01:52<00:00,  1.84s/it]\n",
      "                 Class     Images  Instances      Box(P          R      mAP50  mAP50-95): 100%|██████████| 4/4 [00:10<00:00,  2.67s/it]"
     ]
    },
    {
     "name": "stdout",
     "output_type": "stream",
     "text": [
      "                   all        118        118      0.759      0.669      0.765      0.409\n"
     ]
    },
    {
     "name": "stderr",
     "output_type": "stream",
     "text": [
      "\n"
     ]
    },
    {
     "name": "stdout",
     "output_type": "stream",
     "text": [
      "\n",
      "      Epoch    GPU_mem   box_loss   cls_loss   dfl_loss  Instances       Size\n"
     ]
    },
    {
     "name": "stderr",
     "output_type": "stream",
     "text": [
      "    251/300      11.2G     0.8312     0.4705     0.8169          3        640: 100%|██████████| 61/61 [03:25<00:00,  3.37s/it]\n",
      "                 Class     Images  Instances      Box(P          R      mAP50  mAP50-95): 100%|██████████| 4/4 [00:11<00:00,  2.82s/it]"
     ]
    },
    {
     "name": "stdout",
     "output_type": "stream",
     "text": [
      "                   all        118        118      0.716      0.682      0.746      0.396\n"
     ]
    },
    {
     "name": "stderr",
     "output_type": "stream",
     "text": [
      "\n"
     ]
    },
    {
     "name": "stdout",
     "output_type": "stream",
     "text": [
      "\n",
      "      Epoch    GPU_mem   box_loss   cls_loss   dfl_loss  Instances       Size\n"
     ]
    },
    {
     "name": "stderr",
     "output_type": "stream",
     "text": [
      "    252/300      11.1G     0.8072     0.4325     0.8121          5        640: 100%|██████████| 61/61 [02:12<00:00,  2.17s/it]\n",
      "                 Class     Images  Instances      Box(P          R      mAP50  mAP50-95): 100%|██████████| 4/4 [00:20<00:00,  5.13s/it]"
     ]
    },
    {
     "name": "stdout",
     "output_type": "stream",
     "text": [
      "                   all        118        118      0.736      0.686      0.754      0.399\n"
     ]
    },
    {
     "name": "stderr",
     "output_type": "stream",
     "text": [
      "\n"
     ]
    },
    {
     "name": "stdout",
     "output_type": "stream",
     "text": [
      "\n",
      "      Epoch    GPU_mem   box_loss   cls_loss   dfl_loss  Instances       Size\n"
     ]
    },
    {
     "name": "stderr",
     "output_type": "stream",
     "text": [
      "    253/300      11.2G     0.8158     0.4534     0.8035          5        640: 100%|██████████| 61/61 [03:40<00:00,  3.61s/it]\n",
      "                 Class     Images  Instances      Box(P          R      mAP50  mAP50-95): 100%|██████████| 4/4 [00:06<00:00,  1.60s/it]"
     ]
    },
    {
     "name": "stdout",
     "output_type": "stream",
     "text": [
      "                   all        118        118      0.786      0.644      0.752      0.397\n"
     ]
    },
    {
     "name": "stderr",
     "output_type": "stream",
     "text": [
      "\n"
     ]
    },
    {
     "name": "stdout",
     "output_type": "stream",
     "text": [
      "\n",
      "      Epoch    GPU_mem   box_loss   cls_loss   dfl_loss  Instances       Size\n"
     ]
    },
    {
     "name": "stderr",
     "output_type": "stream",
     "text": [
      "    254/300      11.2G     0.8189     0.4323     0.8026          2        640: 100%|██████████| 61/61 [02:02<00:00,  2.01s/it]\n",
      "                 Class     Images  Instances      Box(P          R      mAP50  mAP50-95): 100%|██████████| 4/4 [00:23<00:00,  5.99s/it]"
     ]
    },
    {
     "name": "stdout",
     "output_type": "stream",
     "text": [
      "                   all        118        118      0.751      0.638      0.756      0.392\n"
     ]
    },
    {
     "name": "stderr",
     "output_type": "stream",
     "text": [
      "\n"
     ]
    },
    {
     "name": "stdout",
     "output_type": "stream",
     "text": [
      "\n",
      "      Epoch    GPU_mem   box_loss   cls_loss   dfl_loss  Instances       Size\n"
     ]
    },
    {
     "name": "stderr",
     "output_type": "stream",
     "text": [
      "    255/300      11.2G     0.7962     0.4441     0.8071          5        640: 100%|██████████| 61/61 [03:05<00:00,  3.04s/it]\n",
      "                 Class     Images  Instances      Box(P          R      mAP50  mAP50-95): 100%|██████████| 4/4 [00:17<00:00,  4.30s/it]"
     ]
    },
    {
     "name": "stdout",
     "output_type": "stream",
     "text": [
      "                   all        118        118      0.759      0.667      0.762      0.404\n"
     ]
    },
    {
     "name": "stderr",
     "output_type": "stream",
     "text": [
      "\n"
     ]
    },
    {
     "name": "stdout",
     "output_type": "stream",
     "text": [
      "\n",
      "      Epoch    GPU_mem   box_loss   cls_loss   dfl_loss  Instances       Size\n"
     ]
    },
    {
     "name": "stderr",
     "output_type": "stream",
     "text": [
      "    256/300      11.1G      0.809     0.4597     0.7995          5        640: 100%|██████████| 61/61 [02:43<00:00,  2.69s/it]\n",
      "                 Class     Images  Instances      Box(P          R      mAP50  mAP50-95): 100%|██████████| 4/4 [00:19<00:00,  4.89s/it]"
     ]
    },
    {
     "name": "stdout",
     "output_type": "stream",
     "text": [
      "                   all        118        118       0.72      0.739      0.778      0.414\n"
     ]
    },
    {
     "name": "stderr",
     "output_type": "stream",
     "text": [
      "\n"
     ]
    },
    {
     "name": "stdout",
     "output_type": "stream",
     "text": [
      "\n",
      "      Epoch    GPU_mem   box_loss   cls_loss   dfl_loss  Instances       Size\n"
     ]
    },
    {
     "name": "stderr",
     "output_type": "stream",
     "text": [
      "    257/300      11.2G     0.7745     0.4338     0.8014          5        640: 100%|██████████| 61/61 [03:41<00:00,  3.63s/it]\n",
      "                 Class     Images  Instances      Box(P          R      mAP50  mAP50-95): 100%|██████████| 4/4 [00:13<00:00,  3.42s/it]"
     ]
    },
    {
     "name": "stdout",
     "output_type": "stream",
     "text": [
      "                   all        118        118      0.759       0.72      0.776      0.412\n"
     ]
    },
    {
     "name": "stderr",
     "output_type": "stream",
     "text": [
      "\n"
     ]
    },
    {
     "name": "stdout",
     "output_type": "stream",
     "text": [
      "\n",
      "      Epoch    GPU_mem   box_loss   cls_loss   dfl_loss  Instances       Size\n"
     ]
    },
    {
     "name": "stderr",
     "output_type": "stream",
     "text": [
      "    258/300      11.4G     0.8112     0.4628     0.8037          7        640: 100%|██████████| 61/61 [02:25<00:00,  2.38s/it]\n",
      "                 Class     Images  Instances      Box(P          R      mAP50  mAP50-95): 100%|██████████| 4/4 [00:13<00:00,  3.35s/it]"
     ]
    },
    {
     "name": "stdout",
     "output_type": "stream",
     "text": [
      "                   all        118        118      0.755      0.678      0.773      0.412\n"
     ]
    },
    {
     "name": "stderr",
     "output_type": "stream",
     "text": [
      "\n"
     ]
    },
    {
     "name": "stdout",
     "output_type": "stream",
     "text": [
      "\n",
      "      Epoch    GPU_mem   box_loss   cls_loss   dfl_loss  Instances       Size\n"
     ]
    },
    {
     "name": "stderr",
     "output_type": "stream",
     "text": [
      "    259/300      11.2G     0.7453     0.4145     0.8011          7        640: 100%|██████████| 61/61 [02:01<00:00,  1.99s/it]\n",
      "                 Class     Images  Instances      Box(P          R      mAP50  mAP50-95): 100%|██████████| 4/4 [00:15<00:00,  3.85s/it]"
     ]
    },
    {
     "name": "stdout",
     "output_type": "stream",
     "text": [
      "                   all        118        118        0.8      0.653      0.774      0.416\n"
     ]
    },
    {
     "name": "stderr",
     "output_type": "stream",
     "text": [
      "\n"
     ]
    },
    {
     "name": "stdout",
     "output_type": "stream",
     "text": [
      "\n",
      "      Epoch    GPU_mem   box_loss   cls_loss   dfl_loss  Instances       Size\n"
     ]
    },
    {
     "name": "stderr",
     "output_type": "stream",
     "text": [
      "    260/300        11G     0.8112     0.4493      0.814          4        640: 100%|██████████| 61/61 [01:07<00:00,  1.11s/it]\n",
      "                 Class     Images  Instances      Box(P          R      mAP50  mAP50-95): 100%|██████████| 4/4 [00:14<00:00,  3.72s/it]"
     ]
    },
    {
     "name": "stdout",
     "output_type": "stream",
     "text": [
      "                   all        118        118      0.789      0.636      0.762      0.403\n"
     ]
    },
    {
     "name": "stderr",
     "output_type": "stream",
     "text": [
      "\n"
     ]
    },
    {
     "name": "stdout",
     "output_type": "stream",
     "text": [
      "\n",
      "      Epoch    GPU_mem   box_loss   cls_loss   dfl_loss  Instances       Size\n"
     ]
    },
    {
     "name": "stderr",
     "output_type": "stream",
     "text": [
      "    261/300      11.4G      0.774     0.4382     0.7998          3        640: 100%|██████████| 61/61 [04:37<00:00,  4.55s/it]\n",
      "                 Class     Images  Instances      Box(P          R      mAP50  mAP50-95): 100%|██████████| 4/4 [00:08<00:00,  2.14s/it]"
     ]
    },
    {
     "name": "stdout",
     "output_type": "stream",
     "text": [
      "                   all        118        118      0.759      0.667      0.763      0.402\n"
     ]
    },
    {
     "name": "stderr",
     "output_type": "stream",
     "text": [
      "\n"
     ]
    },
    {
     "name": "stdout",
     "output_type": "stream",
     "text": [
      "\n",
      "      Epoch    GPU_mem   box_loss   cls_loss   dfl_loss  Instances       Size\n"
     ]
    },
    {
     "name": "stderr",
     "output_type": "stream",
     "text": [
      "    262/300      11.4G     0.7977     0.4523     0.8008          5        640: 100%|██████████| 61/61 [02:35<00:00,  2.55s/it]\n",
      "                 Class     Images  Instances      Box(P          R      mAP50  mAP50-95): 100%|██████████| 4/4 [00:13<00:00,  3.29s/it]"
     ]
    },
    {
     "name": "stdout",
     "output_type": "stream",
     "text": [
      "                   all        118        118      0.757      0.678       0.76      0.405\n"
     ]
    },
    {
     "name": "stderr",
     "output_type": "stream",
     "text": [
      "\n"
     ]
    },
    {
     "name": "stdout",
     "output_type": "stream",
     "text": [
      "\n",
      "      Epoch    GPU_mem   box_loss   cls_loss   dfl_loss  Instances       Size\n"
     ]
    },
    {
     "name": "stderr",
     "output_type": "stream",
     "text": [
      "    263/300      11.4G     0.7869     0.4321     0.8117          8        640: 100%|██████████| 61/61 [03:04<00:00,  3.03s/it]\n",
      "                 Class     Images  Instances      Box(P          R      mAP50  mAP50-95): 100%|██████████| 4/4 [00:13<00:00,  3.29s/it]"
     ]
    },
    {
     "name": "stdout",
     "output_type": "stream",
     "text": [
      "                   all        118        118      0.757      0.669      0.763      0.408\n"
     ]
    },
    {
     "name": "stderr",
     "output_type": "stream",
     "text": [
      "\n"
     ]
    },
    {
     "name": "stdout",
     "output_type": "stream",
     "text": [
      "\n",
      "      Epoch    GPU_mem   box_loss   cls_loss   dfl_loss  Instances       Size\n"
     ]
    },
    {
     "name": "stderr",
     "output_type": "stream",
     "text": [
      "    264/300      11.1G     0.7482       0.42     0.8014          8        640: 100%|██████████| 61/61 [01:24<00:00,  1.38s/it]\n",
      "                 Class     Images  Instances      Box(P          R      mAP50  mAP50-95): 100%|██████████| 4/4 [00:17<00:00,  4.37s/it]"
     ]
    },
    {
     "name": "stdout",
     "output_type": "stream",
     "text": [
      "                   all        118        118      0.755      0.677      0.763      0.406\n"
     ]
    },
    {
     "name": "stderr",
     "output_type": "stream",
     "text": [
      "\n"
     ]
    },
    {
     "name": "stdout",
     "output_type": "stream",
     "text": [
      "\n",
      "      Epoch    GPU_mem   box_loss   cls_loss   dfl_loss  Instances       Size\n"
     ]
    },
    {
     "name": "stderr",
     "output_type": "stream",
     "text": [
      "    265/300      11.2G     0.7599     0.4264     0.8042          3        640: 100%|██████████| 61/61 [02:51<00:00,  2.81s/it]\n",
      "                 Class     Images  Instances      Box(P          R      mAP50  mAP50-95): 100%|██████████| 4/4 [00:15<00:00,  3.98s/it]"
     ]
    },
    {
     "name": "stdout",
     "output_type": "stream",
     "text": [
      "                   all        118        118      0.692      0.723      0.764       0.41\n"
     ]
    },
    {
     "name": "stderr",
     "output_type": "stream",
     "text": [
      "\n"
     ]
    },
    {
     "name": "stdout",
     "output_type": "stream",
     "text": [
      "\n",
      "      Epoch    GPU_mem   box_loss   cls_loss   dfl_loss  Instances       Size\n"
     ]
    },
    {
     "name": "stderr",
     "output_type": "stream",
     "text": [
      "    266/300      11.4G      0.771     0.4209     0.8085          3        640: 100%|██████████| 61/61 [02:33<00:00,  2.52s/it]\n",
      "                 Class     Images  Instances      Box(P          R      mAP50  mAP50-95): 100%|██████████| 4/4 [00:54<00:00, 13.52s/it]"
     ]
    },
    {
     "name": "stdout",
     "output_type": "stream",
     "text": [
      "                   all        118        118      0.747      0.686      0.764      0.405\n"
     ]
    },
    {
     "name": "stderr",
     "output_type": "stream",
     "text": [
      "\n"
     ]
    },
    {
     "name": "stdout",
     "output_type": "stream",
     "text": [
      "\n",
      "      Epoch    GPU_mem   box_loss   cls_loss   dfl_loss  Instances       Size\n"
     ]
    },
    {
     "name": "stderr",
     "output_type": "stream",
     "text": [
      "    267/300      11.2G     0.7389     0.4127     0.7996          5        640: 100%|██████████| 61/61 [07:46<00:00,  7.64s/it]\n",
      "                 Class     Images  Instances      Box(P          R      mAP50  mAP50-95): 100%|██████████| 4/4 [00:24<00:00,  6.17s/it]"
     ]
    },
    {
     "name": "stdout",
     "output_type": "stream",
     "text": [
      "                   all        118        118      0.746      0.678      0.764      0.403\n"
     ]
    },
    {
     "name": "stderr",
     "output_type": "stream",
     "text": [
      "\n"
     ]
    },
    {
     "name": "stdout",
     "output_type": "stream",
     "text": [
      "\n",
      "      Epoch    GPU_mem   box_loss   cls_loss   dfl_loss  Instances       Size\n"
     ]
    },
    {
     "name": "stderr",
     "output_type": "stream",
     "text": [
      "    268/300        11G      0.741     0.4065     0.8032          2        640: 100%|██████████| 61/61 [08:24<00:00,  8.27s/it]\n",
      "                 Class     Images  Instances      Box(P          R      mAP50  mAP50-95): 100%|██████████| 4/4 [00:22<00:00,  5.69s/it]"
     ]
    },
    {
     "name": "stdout",
     "output_type": "stream",
     "text": [
      "                   all        118        118      0.758      0.678       0.76      0.394\n"
     ]
    },
    {
     "name": "stderr",
     "output_type": "stream",
     "text": [
      "\n"
     ]
    },
    {
     "name": "stdout",
     "output_type": "stream",
     "text": [
      "\n",
      "      Epoch    GPU_mem   box_loss   cls_loss   dfl_loss  Instances       Size\n"
     ]
    },
    {
     "name": "stderr",
     "output_type": "stream",
     "text": [
      "    269/300      11.2G     0.7328     0.4027     0.8094          5        640: 100%|██████████| 61/61 [05:06<00:00,  5.02s/it]\n",
      "                 Class     Images  Instances      Box(P          R      mAP50  mAP50-95): 100%|██████████| 4/4 [00:14<00:00,  3.56s/it]"
     ]
    },
    {
     "name": "stdout",
     "output_type": "stream",
     "text": [
      "                   all        118        118      0.777      0.677      0.768      0.414\n"
     ]
    },
    {
     "name": "stderr",
     "output_type": "stream",
     "text": [
      "\n"
     ]
    },
    {
     "name": "stdout",
     "output_type": "stream",
     "text": [
      "\n",
      "      Epoch    GPU_mem   box_loss   cls_loss   dfl_loss  Instances       Size\n"
     ]
    },
    {
     "name": "stderr",
     "output_type": "stream",
     "text": [
      "    270/300      11.4G     0.7477     0.4204     0.7976          6        640: 100%|██████████| 61/61 [02:40<00:00,  2.63s/it]\n",
      "                 Class     Images  Instances      Box(P          R      mAP50  mAP50-95): 100%|██████████| 4/4 [00:11<00:00,  2.83s/it]"
     ]
    },
    {
     "name": "stdout",
     "output_type": "stream",
     "text": [
      "                   all        118        118      0.781      0.661      0.763      0.412\n"
     ]
    },
    {
     "name": "stderr",
     "output_type": "stream",
     "text": [
      "\n"
     ]
    },
    {
     "name": "stdout",
     "output_type": "stream",
     "text": [
      "\n",
      "      Epoch    GPU_mem   box_loss   cls_loss   dfl_loss  Instances       Size\n"
     ]
    },
    {
     "name": "stderr",
     "output_type": "stream",
     "text": [
      "    271/300      11.4G     0.7249     0.4086     0.7995          2        640: 100%|██████████| 61/61 [04:37<00:00,  4.55s/it]\n",
      "                 Class     Images  Instances      Box(P          R      mAP50  mAP50-95): 100%|██████████| 4/4 [00:12<00:00,  3.04s/it]"
     ]
    },
    {
     "name": "stdout",
     "output_type": "stream",
     "text": [
      "                   all        118        118      0.785      0.651       0.76      0.409\n"
     ]
    },
    {
     "name": "stderr",
     "output_type": "stream",
     "text": [
      "\n"
     ]
    },
    {
     "name": "stdout",
     "output_type": "stream",
     "text": [
      "\n",
      "      Epoch    GPU_mem   box_loss   cls_loss   dfl_loss  Instances       Size\n"
     ]
    },
    {
     "name": "stderr",
     "output_type": "stream",
     "text": [
      "    272/300      11.1G     0.7413     0.4173     0.8077          2        640: 100%|██████████| 61/61 [01:21<00:00,  1.33s/it]\n",
      "                 Class     Images  Instances      Box(P          R      mAP50  mAP50-95): 100%|██████████| 4/4 [00:17<00:00,  4.39s/it]"
     ]
    },
    {
     "name": "stdout",
     "output_type": "stream",
     "text": [
      "                   all        118        118      0.729      0.683      0.757      0.412\n"
     ]
    },
    {
     "name": "stderr",
     "output_type": "stream",
     "text": [
      "\n"
     ]
    },
    {
     "name": "stdout",
     "output_type": "stream",
     "text": [
      "\n",
      "      Epoch    GPU_mem   box_loss   cls_loss   dfl_loss  Instances       Size\n"
     ]
    },
    {
     "name": "stderr",
     "output_type": "stream",
     "text": [
      "    273/300      11.1G     0.7589     0.4115     0.8041          5        640: 100%|██████████| 61/61 [01:13<00:00,  1.21s/it]\n",
      "                 Class     Images  Instances      Box(P          R      mAP50  mAP50-95): 100%|██████████| 4/4 [00:16<00:00,  4.03s/it]"
     ]
    },
    {
     "name": "stdout",
     "output_type": "stream",
     "text": [
      "                   all        118        118      0.774       0.64      0.754      0.406\n"
     ]
    },
    {
     "name": "stderr",
     "output_type": "stream",
     "text": [
      "\n"
     ]
    },
    {
     "name": "stdout",
     "output_type": "stream",
     "text": [
      "\n",
      "      Epoch    GPU_mem   box_loss   cls_loss   dfl_loss  Instances       Size\n"
     ]
    },
    {
     "name": "stderr",
     "output_type": "stream",
     "text": [
      "    274/300      11.2G     0.7037     0.3943     0.8063          6        640: 100%|██████████| 61/61 [04:16<00:00,  4.21s/it]\n",
      "                 Class     Images  Instances      Box(P          R      mAP50  mAP50-95): 100%|██████████| 4/4 [00:15<00:00,  3.98s/it]"
     ]
    },
    {
     "name": "stdout",
     "output_type": "stream",
     "text": [
      "                   all        118        118      0.749      0.658      0.758      0.412\n"
     ]
    },
    {
     "name": "stderr",
     "output_type": "stream",
     "text": [
      "\n"
     ]
    },
    {
     "name": "stdout",
     "output_type": "stream",
     "text": [
      "\n",
      "      Epoch    GPU_mem   box_loss   cls_loss   dfl_loss  Instances       Size\n"
     ]
    },
    {
     "name": "stderr",
     "output_type": "stream",
     "text": [
      "    275/300      11.2G     0.7197     0.4048     0.8064          4        640: 100%|██████████| 61/61 [02:18<00:00,  2.28s/it]\n",
      "                 Class     Images  Instances      Box(P          R      mAP50  mAP50-95): 100%|██████████| 4/4 [00:09<00:00,  2.46s/it]"
     ]
    },
    {
     "name": "stdout",
     "output_type": "stream",
     "text": [
      "                   all        118        118       0.77      0.651       0.76      0.413\n"
     ]
    },
    {
     "name": "stderr",
     "output_type": "stream",
     "text": [
      "\n"
     ]
    },
    {
     "name": "stdout",
     "output_type": "stream",
     "text": [
      "\n",
      "      Epoch    GPU_mem   box_loss   cls_loss   dfl_loss  Instances       Size\n"
     ]
    },
    {
     "name": "stderr",
     "output_type": "stream",
     "text": [
      "    276/300      11.1G     0.7205     0.4076     0.8007          3        640: 100%|██████████| 61/61 [01:32<00:00,  1.51s/it]\n",
      "                 Class     Images  Instances      Box(P          R      mAP50  mAP50-95): 100%|██████████| 4/4 [00:15<00:00,  3.76s/it]"
     ]
    },
    {
     "name": "stdout",
     "output_type": "stream",
     "text": [
      "                   all        118        118      0.672      0.746      0.758      0.407\n"
     ]
    },
    {
     "name": "stderr",
     "output_type": "stream",
     "text": [
      "\n"
     ]
    },
    {
     "name": "stdout",
     "output_type": "stream",
     "text": [
      "\n",
      "      Epoch    GPU_mem   box_loss   cls_loss   dfl_loss  Instances       Size\n"
     ]
    },
    {
     "name": "stderr",
     "output_type": "stream",
     "text": [
      "    277/300      11.2G     0.7043     0.3756     0.8065          8        640: 100%|██████████| 61/61 [03:40<00:00,  3.61s/it]\n",
      "                 Class     Images  Instances      Box(P          R      mAP50  mAP50-95): 100%|██████████| 4/4 [00:09<00:00,  2.37s/it]"
     ]
    },
    {
     "name": "stdout",
     "output_type": "stream",
     "text": [
      "                   all        118        118      0.689      0.695      0.746      0.389\n"
     ]
    },
    {
     "name": "stderr",
     "output_type": "stream",
     "text": [
      "\n"
     ]
    },
    {
     "name": "stdout",
     "output_type": "stream",
     "text": [
      "\n",
      "      Epoch    GPU_mem   box_loss   cls_loss   dfl_loss  Instances       Size\n"
     ]
    },
    {
     "name": "stderr",
     "output_type": "stream",
     "text": [
      "    278/300      11.2G     0.7118     0.3978     0.8018          3        640: 100%|██████████| 61/61 [01:48<00:00,  1.78s/it]\n",
      "                 Class     Images  Instances      Box(P          R      mAP50  mAP50-95): 100%|██████████| 4/4 [00:16<00:00,  4.20s/it]"
     ]
    },
    {
     "name": "stdout",
     "output_type": "stream",
     "text": [
      "                   all        118        118      0.733      0.678      0.753      0.398\n"
     ]
    },
    {
     "name": "stderr",
     "output_type": "stream",
     "text": [
      "\n"
     ]
    },
    {
     "name": "stdout",
     "output_type": "stream",
     "text": [
      "\n",
      "      Epoch    GPU_mem   box_loss   cls_loss   dfl_loss  Instances       Size\n"
     ]
    },
    {
     "name": "stderr",
     "output_type": "stream",
     "text": [
      "    279/300      11.2G     0.6822     0.3919     0.7963          6        640: 100%|██████████| 61/61 [09:05<00:00,  8.94s/it]\n",
      "                 Class     Images  Instances      Box(P          R      mAP50  mAP50-95): 100%|██████████| 4/4 [00:16<00:00,  4.03s/it]"
     ]
    },
    {
     "name": "stdout",
     "output_type": "stream",
     "text": [
      "                   all        118        118      0.782      0.637      0.758        0.4\n"
     ]
    },
    {
     "name": "stderr",
     "output_type": "stream",
     "text": [
      "\n"
     ]
    },
    {
     "name": "stdout",
     "output_type": "stream",
     "text": [
      "\n",
      "      Epoch    GPU_mem   box_loss   cls_loss   dfl_loss  Instances       Size\n"
     ]
    },
    {
     "name": "stderr",
     "output_type": "stream",
     "text": [
      "    280/300        11G     0.7187     0.3993     0.7948          3        640: 100%|██████████| 61/61 [01:17<00:00,  1.26s/it]\n",
      "                 Class     Images  Instances      Box(P          R      mAP50  mAP50-95): 100%|██████████| 4/4 [00:15<00:00,  3.99s/it]"
     ]
    },
    {
     "name": "stdout",
     "output_type": "stream",
     "text": [
      "                   all        118        118      0.672      0.746      0.755      0.412\n"
     ]
    },
    {
     "name": "stderr",
     "output_type": "stream",
     "text": [
      "\n"
     ]
    },
    {
     "name": "stdout",
     "output_type": "stream",
     "text": [
      "\n",
      "      Epoch    GPU_mem   box_loss   cls_loss   dfl_loss  Instances       Size\n"
     ]
    },
    {
     "name": "stderr",
     "output_type": "stream",
     "text": [
      "    281/300      11.2G     0.7281     0.4228     0.8004          6        640: 100%|██████████| 61/61 [04:15<00:00,  4.18s/it]\n",
      "                 Class     Images  Instances      Box(P          R      mAP50  mAP50-95): 100%|██████████| 4/4 [00:14<00:00,  3.71s/it]"
     ]
    },
    {
     "name": "stdout",
     "output_type": "stream",
     "text": [
      "                   all        118        118      0.697      0.741      0.765      0.412\n"
     ]
    },
    {
     "name": "stderr",
     "output_type": "stream",
     "text": [
      "\n"
     ]
    },
    {
     "name": "stdout",
     "output_type": "stream",
     "text": [
      "\n",
      "      Epoch    GPU_mem   box_loss   cls_loss   dfl_loss  Instances       Size\n"
     ]
    },
    {
     "name": "stderr",
     "output_type": "stream",
     "text": [
      "    282/300      11.1G     0.6637     0.3762     0.7907          4        640: 100%|██████████| 61/61 [02:05<00:00,  2.06s/it]\n",
      "                 Class     Images  Instances      Box(P          R      mAP50  mAP50-95): 100%|██████████| 4/4 [00:14<00:00,  3.51s/it]"
     ]
    },
    {
     "name": "stdout",
     "output_type": "stream",
     "text": [
      "                   all        118        118      0.778      0.661      0.766      0.414\n"
     ]
    },
    {
     "name": "stderr",
     "output_type": "stream",
     "text": [
      "\n"
     ]
    },
    {
     "name": "stdout",
     "output_type": "stream",
     "text": [
      "\n",
      "      Epoch    GPU_mem   box_loss   cls_loss   dfl_loss  Instances       Size\n"
     ]
    },
    {
     "name": "stderr",
     "output_type": "stream",
     "text": [
      "    283/300      11.1G     0.7033     0.3993     0.8019          5        640: 100%|██████████| 61/61 [01:39<00:00,  1.63s/it]\n",
      "                 Class     Images  Instances      Box(P          R      mAP50  mAP50-95): 100%|██████████| 4/4 [00:19<00:00,  4.81s/it]"
     ]
    },
    {
     "name": "stdout",
     "output_type": "stream",
     "text": [
      "                   all        118        118       0.72       0.72      0.764      0.414\n"
     ]
    },
    {
     "name": "stderr",
     "output_type": "stream",
     "text": [
      "\n"
     ]
    },
    {
     "name": "stdout",
     "output_type": "stream",
     "text": [
      "\n",
      "      Epoch    GPU_mem   box_loss   cls_loss   dfl_loss  Instances       Size\n"
     ]
    },
    {
     "name": "stderr",
     "output_type": "stream",
     "text": [
      "    284/300      11.3G     0.7022     0.3909     0.7999          6        640: 100%|██████████| 61/61 [01:37<00:00,  1.60s/it]\n",
      "                 Class     Images  Instances      Box(P          R      mAP50  mAP50-95): 100%|██████████| 4/4 [00:13<00:00,  3.32s/it]"
     ]
    },
    {
     "name": "stdout",
     "output_type": "stream",
     "text": [
      "                   all        118        118      0.721      0.729      0.767      0.414\n"
     ]
    },
    {
     "name": "stderr",
     "output_type": "stream",
     "text": [
      "\n"
     ]
    },
    {
     "name": "stdout",
     "output_type": "stream",
     "text": [
      "\n",
      "      Epoch    GPU_mem   box_loss   cls_loss   dfl_loss  Instances       Size\n"
     ]
    },
    {
     "name": "stderr",
     "output_type": "stream",
     "text": [
      "    285/300      11.1G     0.6915     0.3951     0.8033          6        640: 100%|██████████| 61/61 [01:13<00:00,  1.20s/it]\n",
      "                 Class     Images  Instances      Box(P          R      mAP50  mAP50-95): 100%|██████████| 4/4 [00:15<00:00,  3.80s/it]"
     ]
    },
    {
     "name": "stdout",
     "output_type": "stream",
     "text": [
      "                   all        118        118      0.786      0.653      0.763      0.411\n"
     ]
    },
    {
     "name": "stderr",
     "output_type": "stream",
     "text": [
      "\n"
     ]
    },
    {
     "name": "stdout",
     "output_type": "stream",
     "text": [
      "\n",
      "      Epoch    GPU_mem   box_loss   cls_loss   dfl_loss  Instances       Size\n"
     ]
    },
    {
     "name": "stderr",
     "output_type": "stream",
     "text": [
      "    286/300      11.1G     0.7309     0.4106      0.797          3        640: 100%|██████████| 61/61 [01:04<00:00,  1.06s/it]\n",
      "                 Class     Images  Instances      Box(P          R      mAP50  mAP50-95): 100%|██████████| 4/4 [00:14<00:00,  3.67s/it]"
     ]
    },
    {
     "name": "stdout",
     "output_type": "stream",
     "text": [
      "                   all        118        118      0.739      0.672      0.763      0.413\n"
     ]
    },
    {
     "name": "stderr",
     "output_type": "stream",
     "text": [
      "\n"
     ]
    },
    {
     "name": "stdout",
     "output_type": "stream",
     "text": [
      "\n",
      "      Epoch    GPU_mem   box_loss   cls_loss   dfl_loss  Instances       Size\n"
     ]
    },
    {
     "name": "stderr",
     "output_type": "stream",
     "text": [
      "    287/300      11.2G     0.7129     0.3892     0.8073          2        640: 100%|██████████| 61/61 [01:51<00:00,  1.84s/it]\n",
      "                 Class     Images  Instances      Box(P          R      mAP50  mAP50-95): 100%|██████████| 4/4 [00:13<00:00,  3.45s/it]"
     ]
    },
    {
     "name": "stdout",
     "output_type": "stream",
     "text": [
      "                   all        118        118      0.754      0.676      0.769      0.415\n"
     ]
    },
    {
     "name": "stderr",
     "output_type": "stream",
     "text": [
      "\n"
     ]
    },
    {
     "name": "stdout",
     "output_type": "stream",
     "text": [
      "\n",
      "      Epoch    GPU_mem   box_loss   cls_loss   dfl_loss  Instances       Size\n"
     ]
    },
    {
     "name": "stderr",
     "output_type": "stream",
     "text": [
      "    288/300      11.3G     0.6874     0.3937     0.7965          5        640: 100%|██████████| 61/61 [06:44<00:00,  6.63s/it]\n",
      "                 Class     Images  Instances      Box(P          R      mAP50  mAP50-95): 100%|██████████| 4/4 [00:12<00:00,  3.09s/it]"
     ]
    },
    {
     "name": "stdout",
     "output_type": "stream",
     "text": [
      "                   all        118        118      0.745      0.678      0.769      0.417\n"
     ]
    },
    {
     "name": "stderr",
     "output_type": "stream",
     "text": [
      "\n"
     ]
    },
    {
     "name": "stdout",
     "output_type": "stream",
     "text": [
      "\n",
      "      Epoch    GPU_mem   box_loss   cls_loss   dfl_loss  Instances       Size\n"
     ]
    },
    {
     "name": "stderr",
     "output_type": "stream",
     "text": [
      "    289/300      11.4G     0.6943       0.38     0.7913          5        640: 100%|██████████| 61/61 [03:25<00:00,  3.38s/it]\n",
      "                 Class     Images  Instances      Box(P          R      mAP50  mAP50-95): 100%|██████████| 4/4 [00:11<00:00,  2.80s/it]"
     ]
    },
    {
     "name": "stdout",
     "output_type": "stream",
     "text": [
      "                   all        118        118      0.786      0.669      0.764      0.416\n"
     ]
    },
    {
     "name": "stderr",
     "output_type": "stream",
     "text": [
      "\n"
     ]
    },
    {
     "name": "stdout",
     "output_type": "stream",
     "text": [
      "\n",
      "      Epoch    GPU_mem   box_loss   cls_loss   dfl_loss  Instances       Size\n"
     ]
    },
    {
     "name": "stderr",
     "output_type": "stream",
     "text": [
      "    290/300      11.2G     0.6683       0.37     0.7865          4        640: 100%|██████████| 61/61 [01:29<00:00,  1.46s/it]\n",
      "                 Class     Images  Instances      Box(P          R      mAP50  mAP50-95): 100%|██████████| 4/4 [00:18<00:00,  4.63s/it]"
     ]
    },
    {
     "name": "stdout",
     "output_type": "stream",
     "text": [
      "                   all        118        118      0.786      0.669      0.766       0.41\n"
     ]
    },
    {
     "name": "stderr",
     "output_type": "stream",
     "text": [
      "\n"
     ]
    },
    {
     "name": "stdout",
     "output_type": "stream",
     "text": [
      "Closing dataloader mosaic\n",
      "\u001b[34m\u001b[1malbumentations: \u001b[0mBlur(p=0.01, blur_limit=(3, 7)), MedianBlur(p=0.01, blur_limit=(3, 7)), ToGray(p=0.01), CLAHE(p=0.01, clip_limit=(1, 4.0), tile_grid_size=(8, 8))\n",
      "\n",
      "      Epoch    GPU_mem   box_loss   cls_loss   dfl_loss  Instances       Size\n"
     ]
    },
    {
     "name": "stderr",
     "output_type": "stream",
     "text": [
      "    291/300      11.2G     0.6366     0.3565     0.7864          2        640: 100%|██████████| 61/61 [02:09<00:00,  2.13s/it]\n",
      "                 Class     Images  Instances      Box(P          R      mAP50  mAP50-95): 100%|██████████| 4/4 [00:17<00:00,  4.44s/it]"
     ]
    },
    {
     "name": "stdout",
     "output_type": "stream",
     "text": [
      "                   all        118        118      0.726      0.717       0.76       0.41\n"
     ]
    },
    {
     "name": "stderr",
     "output_type": "stream",
     "text": [
      "\n"
     ]
    },
    {
     "name": "stdout",
     "output_type": "stream",
     "text": [
      "\n",
      "      Epoch    GPU_mem   box_loss   cls_loss   dfl_loss  Instances       Size\n"
     ]
    },
    {
     "name": "stderr",
     "output_type": "stream",
     "text": [
      "    292/300      11.3G     0.6341     0.3497     0.7944          3        640: 100%|██████████| 61/61 [03:41<00:00,  3.64s/it]\n",
      "                 Class     Images  Instances      Box(P          R      mAP50  mAP50-95): 100%|██████████| 4/4 [00:10<00:00,  2.64s/it]"
     ]
    },
    {
     "name": "stdout",
     "output_type": "stream",
     "text": [
      "                   all        118        118      0.701      0.715      0.759      0.407\n"
     ]
    },
    {
     "name": "stderr",
     "output_type": "stream",
     "text": [
      "\n"
     ]
    },
    {
     "name": "stdout",
     "output_type": "stream",
     "text": [
      "\n",
      "      Epoch    GPU_mem   box_loss   cls_loss   dfl_loss  Instances       Size\n"
     ]
    },
    {
     "name": "stderr",
     "output_type": "stream",
     "text": [
      "    293/300      11.4G     0.6434     0.3515     0.7995          3        640: 100%|██████████| 61/61 [01:45<00:00,  1.74s/it]\n",
      "                 Class     Images  Instances      Box(P          R      mAP50  mAP50-95): 100%|██████████| 4/4 [00:14<00:00,  3.74s/it]"
     ]
    },
    {
     "name": "stdout",
     "output_type": "stream",
     "text": [
      "                   all        118        118      0.767      0.678      0.755      0.401\n"
     ]
    },
    {
     "name": "stderr",
     "output_type": "stream",
     "text": [
      "\n"
     ]
    },
    {
     "name": "stdout",
     "output_type": "stream",
     "text": [
      "\n",
      "      Epoch    GPU_mem   box_loss   cls_loss   dfl_loss  Instances       Size\n"
     ]
    },
    {
     "name": "stderr",
     "output_type": "stream",
     "text": [
      "    294/300      11.1G     0.6138     0.3487     0.7848          3        640: 100%|██████████| 61/61 [01:13<00:00,  1.21s/it]\n",
      "                 Class     Images  Instances      Box(P          R      mAP50  mAP50-95): 100%|██████████| 4/4 [00:14<00:00,  3.73s/it]"
     ]
    },
    {
     "name": "stdout",
     "output_type": "stream",
     "text": [
      "                   all        118        118      0.707      0.729      0.757      0.401\n"
     ]
    },
    {
     "name": "stderr",
     "output_type": "stream",
     "text": [
      "\n"
     ]
    },
    {
     "name": "stdout",
     "output_type": "stream",
     "text": [
      "\n",
      "      Epoch    GPU_mem   box_loss   cls_loss   dfl_loss  Instances       Size\n"
     ]
    },
    {
     "name": "stderr",
     "output_type": "stream",
     "text": [
      "    295/300      11.1G     0.6178     0.3537     0.7997          2        640: 100%|██████████| 61/61 [01:04<00:00,  1.06s/it]\n",
      "                 Class     Images  Instances      Box(P          R      mAP50  mAP50-95): 100%|██████████| 4/4 [00:15<00:00,  3.80s/it]"
     ]
    },
    {
     "name": "stdout",
     "output_type": "stream",
     "text": [
      "                   all        118        118      0.733      0.722      0.762      0.406\n"
     ]
    },
    {
     "name": "stderr",
     "output_type": "stream",
     "text": [
      "\n"
     ]
    },
    {
     "name": "stdout",
     "output_type": "stream",
     "text": [
      "\n",
      "      Epoch    GPU_mem   box_loss   cls_loss   dfl_loss  Instances       Size\n"
     ]
    },
    {
     "name": "stderr",
     "output_type": "stream",
     "text": [
      "    296/300      11.1G     0.6103     0.3373     0.7954          3        640: 100%|██████████| 61/61 [01:21<00:00,  1.33s/it]\n",
      "                 Class     Images  Instances      Box(P          R      mAP50  mAP50-95): 100%|██████████| 4/4 [00:16<00:00,  4.12s/it]"
     ]
    },
    {
     "name": "stdout",
     "output_type": "stream",
     "text": [
      "                   all        118        118      0.727      0.723      0.763      0.412\n"
     ]
    },
    {
     "name": "stderr",
     "output_type": "stream",
     "text": [
      "\n"
     ]
    },
    {
     "name": "stdout",
     "output_type": "stream",
     "text": [
      "\n",
      "      Epoch    GPU_mem   box_loss   cls_loss   dfl_loss  Instances       Size\n"
     ]
    },
    {
     "name": "stderr",
     "output_type": "stream",
     "text": [
      "    297/300      11.1G     0.5893      0.332     0.7885          3        640: 100%|██████████| 61/61 [01:12<00:00,  1.19s/it]\n",
      "                 Class     Images  Instances      Box(P          R      mAP50  mAP50-95): 100%|██████████| 4/4 [00:15<00:00,  3.81s/it]"
     ]
    },
    {
     "name": "stdout",
     "output_type": "stream",
     "text": [
      "                   all        118        118      0.727      0.721      0.763      0.407\n"
     ]
    },
    {
     "name": "stderr",
     "output_type": "stream",
     "text": [
      "\n"
     ]
    },
    {
     "name": "stdout",
     "output_type": "stream",
     "text": [
      "\n",
      "      Epoch    GPU_mem   box_loss   cls_loss   dfl_loss  Instances       Size\n"
     ]
    },
    {
     "name": "stderr",
     "output_type": "stream",
     "text": [
      "    298/300      11.2G     0.6208     0.3618     0.7782          3        640: 100%|██████████| 61/61 [02:49<00:00,  2.78s/it]\n",
      "                 Class     Images  Instances      Box(P          R      mAP50  mAP50-95): 100%|██████████| 4/4 [00:17<00:00,  4.48s/it]"
     ]
    },
    {
     "name": "stdout",
     "output_type": "stream",
     "text": [
      "                   all        118        118       0.73      0.709      0.762      0.413\n"
     ]
    },
    {
     "name": "stderr",
     "output_type": "stream",
     "text": [
      "\n"
     ]
    },
    {
     "name": "stdout",
     "output_type": "stream",
     "text": [
      "\n",
      "      Epoch    GPU_mem   box_loss   cls_loss   dfl_loss  Instances       Size\n"
     ]
    },
    {
     "name": "stderr",
     "output_type": "stream",
     "text": [
      "    299/300      11.2G     0.6044     0.3324     0.8012          2        640: 100%|██████████| 61/61 [02:01<00:00,  1.99s/it]\n",
      "                 Class     Images  Instances      Box(P          R      mAP50  mAP50-95): 100%|██████████| 4/4 [00:17<00:00,  4.33s/it]"
     ]
    },
    {
     "name": "stdout",
     "output_type": "stream",
     "text": [
      "                   all        118        118      0.744      0.703       0.76      0.404\n"
     ]
    },
    {
     "name": "stderr",
     "output_type": "stream",
     "text": [
      "\n"
     ]
    },
    {
     "name": "stdout",
     "output_type": "stream",
     "text": [
      "\n",
      "      Epoch    GPU_mem   box_loss   cls_loss   dfl_loss  Instances       Size\n"
     ]
    },
    {
     "name": "stderr",
     "output_type": "stream",
     "text": [
      "    300/300      11.1G     0.5893     0.3403      0.778          3        640: 100%|██████████| 61/61 [05:03<00:00,  4.97s/it]\n",
      "                 Class     Images  Instances      Box(P          R      mAP50  mAP50-95): 100%|██████████| 4/4 [00:12<00:00,  3.00s/it]"
     ]
    },
    {
     "name": "stdout",
     "output_type": "stream",
     "text": [
      "                   all        118        118      0.752      0.703       0.76      0.409\n"
     ]
    },
    {
     "name": "stderr",
     "output_type": "stream",
     "text": [
      "\n"
     ]
    },
    {
     "name": "stdout",
     "output_type": "stream",
     "text": [
      "\n",
      "300 epochs completed in 22.141 hours.\n",
      "Optimizer stripped from runs\\detect\\train14\\weights\\last.pt, 51.2MB\n",
      "Optimizer stripped from runs\\detect\\train14\\weights\\best.pt, 51.2MB\n",
      "\n",
      "Validating runs\\detect\\train14\\weights\\best.pt...\n",
      "Ultralytics 8.3.25  Python-3.12.4 torch-2.5.1+cu121 CUDA:0 (NVIDIA GeForce GTX 1080 Ti, 11264MiB)\n",
      "YOLO11l summary (fused): 464 layers, 25,280,083 parameters, 0 gradients, 86.6 GFLOPs\n"
     ]
    },
    {
     "name": "stderr",
     "output_type": "stream",
     "text": [
      "                 Class     Images  Instances      Box(P          R      mAP50  mAP50-95): 100%|██████████| 4/4 [00:03<00:00,  1.12it/s]\n"
     ]
    },
    {
     "name": "stdout",
     "output_type": "stream",
     "text": [
      "                   all        118        118      0.746      0.678      0.769      0.416\n",
      "Speed: 0.6ms preprocess, 19.6ms inference, 0.0ms loss, 2.8ms postprocess per image\n",
      "Results saved to \u001b[1mruns\\detect\\train14\u001b[0m\n"
     ]
    }
   ],
   "source": [
    "results = model.train(\n",
    "    data=\"yolov9/dataset.yaml\",    # 你的資料集設定檔\n",
    "    epochs=300,\n",
    "    batch=16,\n",
    "    lr0=0.01,\n",
    "    weight_decay=0.0005,\n",
    "    cls=0.5,\n",
    "    box=7.5,\n",
    "    optimizer=\"SGD\",\n",
    "    plots=True,\n",
    "    verbose=True,\n",
    "    \n",
    "\n",
    "    # # ------------------------------\n",
    "    # # 以下為調整後的資料增強參數設定\n",
    "    # # ------------------------------\n",
    "    \n",
    "    # # 幾何轉換\n",
    "    # degrees=5.0,       # 小幅度旋轉，避免破壞結構\n",
    "    # translate=0.1,     # 平移\n",
    "    # scale=0.1,         # 縮放\n",
    "    # shear=0.0,         # 不做剪切\n",
    "    # perspective=0.0,   # 不做透視\n",
    "    \n",
    "    # # 翻轉\n",
    "    # flipud=0.0,        # 垂直翻轉機率 0%，避免肺部上下顛倒\n",
    "    # fliplr=0.3,        # 水平翻轉機率 30%，平衡增強與臨床合理性\n",
    "    \n",
    "    # # 強度/對比度調整\n",
    "    # hsv_h=0.0,         # 不做色相調整\n",
    "    # hsv_s=0.0,         # 不做飽和度調整\n",
    "    # hsv_v=0.1,         # 亮度微調10%，避免過度改變HU\n",
    "    \n",
    "    # # 複合增強\n",
    "    # mixup=0.1,         # 混合影像機率降低至10%\n",
    "    # mosaic=0.1,        # 拼接影像機率降低至10%\n",
    ")\n"
   ]
  },
  {
   "cell_type": "code",
   "execution_count": 9,
   "metadata": {},
   "outputs": [
    {
     "name": "stdout",
     "output_type": "stream",
     "text": [
      "Ultralytics 8.3.25  Python-3.12.4 torch-2.5.1+cu121 CUDA:0 (NVIDIA GeForce GTX 1080 Ti, 11264MiB)\n"
     ]
    },
    {
     "name": "stdout",
     "output_type": "stream",
     "text": [
      "YOLO11l summary (fused): 464 layers, 25,280,083 parameters, 0 gradients, 86.6 GFLOPs\n"
     ]
    },
    {
     "name": "stderr",
     "output_type": "stream",
     "text": [
      "\u001b[34m\u001b[1mval: \u001b[0mScanning D:\\luna\\luna_dataset\\val.cache... 118 images, 0 backgrounds, 0 corrupt: 100%|██████████| 118/118 [00:00<?, ?it/s]\n",
      "                 Class     Images  Instances      Box(P          R      mAP50  mAP50-95): 100%|██████████| 8/8 [00:12<00:00,  1.60s/it]\n"
     ]
    },
    {
     "name": "stdout",
     "output_type": "stream",
     "text": [
      "                   all        118        118      0.746      0.678       0.77      0.419\n",
      "Speed: 1.0ms preprocess, 18.6ms inference, 0.0ms loss, 2.9ms postprocess per image\n",
      "Results saved to \u001b[1mruns\\detect\\train142\u001b[0m\n",
      "Ultralytics 8.3.25  Python-3.12.4 torch-2.5.1+cu121 CUDA:0 (NVIDIA GeForce GTX 1080 Ti, 11264MiB)\n"
     ]
    },
    {
     "name": "stderr",
     "output_type": "stream",
     "text": [
      "\u001b[34m\u001b[1mval: \u001b[0mScanning D:\\luna\\luna_dataset\\train.cache... 963 images, 0 backgrounds, 0 corrupt: 100%|██████████| 963/963 [00:00<?, ?it/s]\n",
      "                 Class     Images  Instances      Box(P          R      mAP50  mAP50-95): 100%|██████████| 61/61 [00:26<00:00,  2.34it/s]\n"
     ]
    },
    {
     "name": "stdout",
     "output_type": "stream",
     "text": [
      "                   all        963        963      0.967      0.986      0.991       0.83\n",
      "Speed: 0.6ms preprocess, 17.2ms inference, 0.0ms loss, 2.0ms postprocess per image\n",
      "Results saved to \u001b[1mruns\\detect\\train143\u001b[0m\n",
      "Ultralytics 8.3.25  Python-3.12.4 torch-2.5.1+cu121 CUDA:0 (NVIDIA GeForce GTX 1080 Ti, 11264MiB)\n"
     ]
    },
    {
     "name": "stderr",
     "output_type": "stream",
     "text": [
      "\u001b[34m\u001b[1mval: \u001b[0mScanning D:\\luna\\luna_dataset\\test.cache... 105 images, 0 backgrounds, 0 corrupt: 100%|██████████| 105/105 [00:00<?, ?it/s]\n",
      "                 Class     Images  Instances      Box(P          R      mAP50  mAP50-95): 100%|██████████| 7/7 [00:13<00:00,  1.87s/it]\n"
     ]
    },
    {
     "name": "stdout",
     "output_type": "stream",
     "text": [
      "                   all        105        105      0.847       0.79      0.817      0.434\n",
      "Speed: 1.0ms preprocess, 20.7ms inference, 0.0ms loss, 2.8ms postprocess per image\n",
      "Results saved to \u001b[1mruns\\detect\\train144\u001b[0m\n",
      "Validation Results: ultralytics.utils.metrics.DetMetrics object with attributes:\n",
      "\n",
      "ap_class_index: array([0])\n",
      "box: ultralytics.utils.metrics.Metric object\n",
      "confusion_matrix: <ultralytics.utils.metrics.ConfusionMatrix object at 0x000001CC01FFB9E0>\n",
      "curves: ['Precision-Recall(B)', 'F1-Confidence(B)', 'Precision-Confidence(B)', 'Recall-Confidence(B)']\n",
      "curves_results: [[array([          0,    0.001001,    0.002002,    0.003003,    0.004004,    0.005005,    0.006006,    0.007007,    0.008008,    0.009009,     0.01001,    0.011011,    0.012012,    0.013013,    0.014014,    0.015015,    0.016016,    0.017017,    0.018018,    0.019019,     0.02002,    0.021021,    0.022022,    0.023023,\n",
      "          0.024024,    0.025025,    0.026026,    0.027027,    0.028028,    0.029029,     0.03003,    0.031031,    0.032032,    0.033033,    0.034034,    0.035035,    0.036036,    0.037037,    0.038038,    0.039039,     0.04004,    0.041041,    0.042042,    0.043043,    0.044044,    0.045045,    0.046046,    0.047047,\n",
      "          0.048048,    0.049049,     0.05005,    0.051051,    0.052052,    0.053053,    0.054054,    0.055055,    0.056056,    0.057057,    0.058058,    0.059059,     0.06006,    0.061061,    0.062062,    0.063063,    0.064064,    0.065065,    0.066066,    0.067067,    0.068068,    0.069069,     0.07007,    0.071071,\n",
      "          0.072072,    0.073073,    0.074074,    0.075075,    0.076076,    0.077077,    0.078078,    0.079079,     0.08008,    0.081081,    0.082082,    0.083083,    0.084084,    0.085085,    0.086086,    0.087087,    0.088088,    0.089089,     0.09009,    0.091091,    0.092092,    0.093093,    0.094094,    0.095095,\n",
      "          0.096096,    0.097097,    0.098098,    0.099099,      0.1001,      0.1011,      0.1021,      0.1031,      0.1041,     0.10511,     0.10611,     0.10711,     0.10811,     0.10911,     0.11011,     0.11111,     0.11211,     0.11311,     0.11411,     0.11512,     0.11612,     0.11712,     0.11812,     0.11912,\n",
      "           0.12012,     0.12112,     0.12212,     0.12312,     0.12412,     0.12513,     0.12613,     0.12713,     0.12813,     0.12913,     0.13013,     0.13113,     0.13213,     0.13313,     0.13413,     0.13514,     0.13614,     0.13714,     0.13814,     0.13914,     0.14014,     0.14114,     0.14214,     0.14314,\n",
      "           0.14414,     0.14515,     0.14615,     0.14715,     0.14815,     0.14915,     0.15015,     0.15115,     0.15215,     0.15315,     0.15415,     0.15516,     0.15616,     0.15716,     0.15816,     0.15916,     0.16016,     0.16116,     0.16216,     0.16316,     0.16416,     0.16517,     0.16617,     0.16717,\n",
      "           0.16817,     0.16917,     0.17017,     0.17117,     0.17217,     0.17317,     0.17417,     0.17518,     0.17618,     0.17718,     0.17818,     0.17918,     0.18018,     0.18118,     0.18218,     0.18318,     0.18418,     0.18519,     0.18619,     0.18719,     0.18819,     0.18919,     0.19019,     0.19119,\n",
      "           0.19219,     0.19319,     0.19419,      0.1952,      0.1962,      0.1972,      0.1982,      0.1992,      0.2002,      0.2012,      0.2022,      0.2032,      0.2042,     0.20521,     0.20621,     0.20721,     0.20821,     0.20921,     0.21021,     0.21121,     0.21221,     0.21321,     0.21421,     0.21522,\n",
      "           0.21622,     0.21722,     0.21822,     0.21922,     0.22022,     0.22122,     0.22222,     0.22322,     0.22422,     0.22523,     0.22623,     0.22723,     0.22823,     0.22923,     0.23023,     0.23123,     0.23223,     0.23323,     0.23423,     0.23524,     0.23624,     0.23724,     0.23824,     0.23924,\n",
      "           0.24024,     0.24124,     0.24224,     0.24324,     0.24424,     0.24525,     0.24625,     0.24725,     0.24825,     0.24925,     0.25025,     0.25125,     0.25225,     0.25325,     0.25425,     0.25526,     0.25626,     0.25726,     0.25826,     0.25926,     0.26026,     0.26126,     0.26226,     0.26326,\n",
      "           0.26426,     0.26527,     0.26627,     0.26727,     0.26827,     0.26927,     0.27027,     0.27127,     0.27227,     0.27327,     0.27427,     0.27528,     0.27628,     0.27728,     0.27828,     0.27928,     0.28028,     0.28128,     0.28228,     0.28328,     0.28428,     0.28529,     0.28629,     0.28729,\n",
      "           0.28829,     0.28929,     0.29029,     0.29129,     0.29229,     0.29329,     0.29429,      0.2953,      0.2963,      0.2973,      0.2983,      0.2993,      0.3003,      0.3013,      0.3023,      0.3033,      0.3043,     0.30531,     0.30631,     0.30731,     0.30831,     0.30931,     0.31031,     0.31131,\n",
      "           0.31231,     0.31331,     0.31431,     0.31532,     0.31632,     0.31732,     0.31832,     0.31932,     0.32032,     0.32132,     0.32232,     0.32332,     0.32432,     0.32533,     0.32633,     0.32733,     0.32833,     0.32933,     0.33033,     0.33133,     0.33233,     0.33333,     0.33433,     0.33534,\n",
      "           0.33634,     0.33734,     0.33834,     0.33934,     0.34034,     0.34134,     0.34234,     0.34334,     0.34434,     0.34535,     0.34635,     0.34735,     0.34835,     0.34935,     0.35035,     0.35135,     0.35235,     0.35335,     0.35435,     0.35536,     0.35636,     0.35736,     0.35836,     0.35936,\n",
      "           0.36036,     0.36136,     0.36236,     0.36336,     0.36436,     0.36537,     0.36637,     0.36737,     0.36837,     0.36937,     0.37037,     0.37137,     0.37237,     0.37337,     0.37437,     0.37538,     0.37638,     0.37738,     0.37838,     0.37938,     0.38038,     0.38138,     0.38238,     0.38338,\n",
      "           0.38438,     0.38539,     0.38639,     0.38739,     0.38839,     0.38939,     0.39039,     0.39139,     0.39239,     0.39339,     0.39439,      0.3954,      0.3964,      0.3974,      0.3984,      0.3994,      0.4004,      0.4014,      0.4024,      0.4034,      0.4044,     0.40541,     0.40641,     0.40741,\n",
      "           0.40841,     0.40941,     0.41041,     0.41141,     0.41241,     0.41341,     0.41441,     0.41542,     0.41642,     0.41742,     0.41842,     0.41942,     0.42042,     0.42142,     0.42242,     0.42342,     0.42442,     0.42543,     0.42643,     0.42743,     0.42843,     0.42943,     0.43043,     0.43143,\n",
      "           0.43243,     0.43343,     0.43443,     0.43544,     0.43644,     0.43744,     0.43844,     0.43944,     0.44044,     0.44144,     0.44244,     0.44344,     0.44444,     0.44545,     0.44645,     0.44745,     0.44845,     0.44945,     0.45045,     0.45145,     0.45245,     0.45345,     0.45445,     0.45546,\n",
      "           0.45646,     0.45746,     0.45846,     0.45946,     0.46046,     0.46146,     0.46246,     0.46346,     0.46446,     0.46547,     0.46647,     0.46747,     0.46847,     0.46947,     0.47047,     0.47147,     0.47247,     0.47347,     0.47447,     0.47548,     0.47648,     0.47748,     0.47848,     0.47948,\n",
      "           0.48048,     0.48148,     0.48248,     0.48348,     0.48448,     0.48549,     0.48649,     0.48749,     0.48849,     0.48949,     0.49049,     0.49149,     0.49249,     0.49349,     0.49449,      0.4955,      0.4965,      0.4975,      0.4985,      0.4995,      0.5005,      0.5015,      0.5025,      0.5035,\n",
      "            0.5045,     0.50551,     0.50651,     0.50751,     0.50851,     0.50951,     0.51051,     0.51151,     0.51251,     0.51351,     0.51451,     0.51552,     0.51652,     0.51752,     0.51852,     0.51952,     0.52052,     0.52152,     0.52252,     0.52352,     0.52452,     0.52553,     0.52653,     0.52753,\n",
      "           0.52853,     0.52953,     0.53053,     0.53153,     0.53253,     0.53353,     0.53453,     0.53554,     0.53654,     0.53754,     0.53854,     0.53954,     0.54054,     0.54154,     0.54254,     0.54354,     0.54454,     0.54555,     0.54655,     0.54755,     0.54855,     0.54955,     0.55055,     0.55155,\n",
      "           0.55255,     0.55355,     0.55455,     0.55556,     0.55656,     0.55756,     0.55856,     0.55956,     0.56056,     0.56156,     0.56256,     0.56356,     0.56456,     0.56557,     0.56657,     0.56757,     0.56857,     0.56957,     0.57057,     0.57157,     0.57257,     0.57357,     0.57457,     0.57558,\n",
      "           0.57658,     0.57758,     0.57858,     0.57958,     0.58058,     0.58158,     0.58258,     0.58358,     0.58458,     0.58559,     0.58659,     0.58759,     0.58859,     0.58959,     0.59059,     0.59159,     0.59259,     0.59359,     0.59459,      0.5956,      0.5966,      0.5976,      0.5986,      0.5996,\n",
      "            0.6006,      0.6016,      0.6026,      0.6036,      0.6046,     0.60561,     0.60661,     0.60761,     0.60861,     0.60961,     0.61061,     0.61161,     0.61261,     0.61361,     0.61461,     0.61562,     0.61662,     0.61762,     0.61862,     0.61962,     0.62062,     0.62162,     0.62262,     0.62362,\n",
      "           0.62462,     0.62563,     0.62663,     0.62763,     0.62863,     0.62963,     0.63063,     0.63163,     0.63263,     0.63363,     0.63463,     0.63564,     0.63664,     0.63764,     0.63864,     0.63964,     0.64064,     0.64164,     0.64264,     0.64364,     0.64464,     0.64565,     0.64665,     0.64765,\n",
      "           0.64865,     0.64965,     0.65065,     0.65165,     0.65265,     0.65365,     0.65465,     0.65566,     0.65666,     0.65766,     0.65866,     0.65966,     0.66066,     0.66166,     0.66266,     0.66366,     0.66466,     0.66567,     0.66667,     0.66767,     0.66867,     0.66967,     0.67067,     0.67167,\n",
      "           0.67267,     0.67367,     0.67467,     0.67568,     0.67668,     0.67768,     0.67868,     0.67968,     0.68068,     0.68168,     0.68268,     0.68368,     0.68468,     0.68569,     0.68669,     0.68769,     0.68869,     0.68969,     0.69069,     0.69169,     0.69269,     0.69369,     0.69469,      0.6957,\n",
      "            0.6967,      0.6977,      0.6987,      0.6997,      0.7007,      0.7017,      0.7027,      0.7037,      0.7047,     0.70571,     0.70671,     0.70771,     0.70871,     0.70971,     0.71071,     0.71171,     0.71271,     0.71371,     0.71471,     0.71572,     0.71672,     0.71772,     0.71872,     0.71972,\n",
      "           0.72072,     0.72172,     0.72272,     0.72372,     0.72472,     0.72573,     0.72673,     0.72773,     0.72873,     0.72973,     0.73073,     0.73173,     0.73273,     0.73373,     0.73473,     0.73574,     0.73674,     0.73774,     0.73874,     0.73974,     0.74074,     0.74174,     0.74274,     0.74374,\n",
      "           0.74474,     0.74575,     0.74675,     0.74775,     0.74875,     0.74975,     0.75075,     0.75175,     0.75275,     0.75375,     0.75475,     0.75576,     0.75676,     0.75776,     0.75876,     0.75976,     0.76076,     0.76176,     0.76276,     0.76376,     0.76476,     0.76577,     0.76677,     0.76777,\n",
      "           0.76877,     0.76977,     0.77077,     0.77177,     0.77277,     0.77377,     0.77477,     0.77578,     0.77678,     0.77778,     0.77878,     0.77978,     0.78078,     0.78178,     0.78278,     0.78378,     0.78478,     0.78579,     0.78679,     0.78779,     0.78879,     0.78979,     0.79079,     0.79179,\n",
      "           0.79279,     0.79379,     0.79479,      0.7958,      0.7968,      0.7978,      0.7988,      0.7998,      0.8008,      0.8018,      0.8028,      0.8038,      0.8048,     0.80581,     0.80681,     0.80781,     0.80881,     0.80981,     0.81081,     0.81181,     0.81281,     0.81381,     0.81481,     0.81582,\n",
      "           0.81682,     0.81782,     0.81882,     0.81982,     0.82082,     0.82182,     0.82282,     0.82382,     0.82482,     0.82583,     0.82683,     0.82783,     0.82883,     0.82983,     0.83083,     0.83183,     0.83283,     0.83383,     0.83483,     0.83584,     0.83684,     0.83784,     0.83884,     0.83984,\n",
      "           0.84084,     0.84184,     0.84284,     0.84384,     0.84484,     0.84585,     0.84685,     0.84785,     0.84885,     0.84985,     0.85085,     0.85185,     0.85285,     0.85385,     0.85485,     0.85586,     0.85686,     0.85786,     0.85886,     0.85986,     0.86086,     0.86186,     0.86286,     0.86386,\n",
      "           0.86486,     0.86587,     0.86687,     0.86787,     0.86887,     0.86987,     0.87087,     0.87187,     0.87287,     0.87387,     0.87487,     0.87588,     0.87688,     0.87788,     0.87888,     0.87988,     0.88088,     0.88188,     0.88288,     0.88388,     0.88488,     0.88589,     0.88689,     0.88789,\n",
      "           0.88889,     0.88989,     0.89089,     0.89189,     0.89289,     0.89389,     0.89489,      0.8959,      0.8969,      0.8979,      0.8989,      0.8999,      0.9009,      0.9019,      0.9029,      0.9039,      0.9049,     0.90591,     0.90691,     0.90791,     0.90891,     0.90991,     0.91091,     0.91191,\n",
      "           0.91291,     0.91391,     0.91491,     0.91592,     0.91692,     0.91792,     0.91892,     0.91992,     0.92092,     0.92192,     0.92292,     0.92392,     0.92492,     0.92593,     0.92693,     0.92793,     0.92893,     0.92993,     0.93093,     0.93193,     0.93293,     0.93393,     0.93493,     0.93594,\n",
      "           0.93694,     0.93794,     0.93894,     0.93994,     0.94094,     0.94194,     0.94294,     0.94394,     0.94494,     0.94595,     0.94695,     0.94795,     0.94895,     0.94995,     0.95095,     0.95195,     0.95295,     0.95395,     0.95495,     0.95596,     0.95696,     0.95796,     0.95896,     0.95996,\n",
      "           0.96096,     0.96196,     0.96296,     0.96396,     0.96496,     0.96597,     0.96697,     0.96797,     0.96897,     0.96997,     0.97097,     0.97197,     0.97297,     0.97397,     0.97497,     0.97598,     0.97698,     0.97798,     0.97898,     0.97998,     0.98098,     0.98198,     0.98298,     0.98398,\n",
      "           0.98498,     0.98599,     0.98699,     0.98799,     0.98899,     0.98999,     0.99099,     0.99199,     0.99299,     0.99399,     0.99499,       0.996,       0.997,       0.998,       0.999,           1]), array([[          1,           1,           1,           1,           1,           1,           1,           1,           1,           1,           1,           1,           1,           1,           1,           1,           1,           1,           1,           1,           1,           1,           1,\n",
      "                  1,           1,           1,           1,           1,           1,           1,           1,           1,           1,           1,           1,           1,           1,           1,           1,           1,           1,           1,           1,           1,           1,           1,\n",
      "                  1,           1,           1,           1,           1,           1,           1,           1,           1,           1,           1,           1,           1,           1,           1,           1,           1,           1,           1,           1,           1,           1,           1,\n",
      "                  1,           1,           1,           1,           1,           1,           1,           1,           1,           1,           1,           1,           1,           1,           1,           1,           1,           1,           1,           1,           1,           1,           1,\n",
      "                  1,           1,           1,           1,           1,           1,           1,           1,           1,           1,           1,           1,           1,           1,           1,           1,           1,           1,           1,           1,           1,           1,           1,\n",
      "                  1,           1,           1,           1,           1,           1,           1,           1,           1,           1,           1,           1,           1,           1,           1,           1,           1,           1,           1,           1,           1,           1,           1,\n",
      "                  1,           1,           1,           1,           1,           1,           1,           1,           1,           1,           1,           1,           1,           1,           1,           1,           1,           1,           1,           1,           1,           1,           1,\n",
      "                  1,           1,           1,           1,           1,           1,           1,           1,           1,           1,           1,           1,           1,           1,           1,           1,           1,           1,           1,           1,           1,           1,           1,\n",
      "                  1,           1,           1,           1,           1,           1,           1,           1,           1,           1,           1,           1,           1,           1,           1,           1,           1,           1,           1,           1,           1,           1,           1,\n",
      "                  1,           1,           1,           1,           1,           1,           1,           1,           1,           1,           1,           1,           1,           1,     0.97674,     0.97674,     0.97674,     0.97674,     0.97674,     0.97674,     0.97674,     0.97674,     0.97674,\n",
      "            0.97674,     0.97674,     0.97674,     0.97674,     0.97674,     0.97674,     0.97674,     0.97674,     0.97674,     0.97674,     0.97674,     0.97674,     0.97674,     0.97674,     0.97674,     0.97674,     0.97674,     0.97674,     0.97674,     0.97674,     0.97674,     0.97674,     0.97674,\n",
      "            0.97674,     0.97674,     0.97674,     0.97674,     0.97674,     0.97674,     0.97674,     0.97674,     0.97674,     0.97674,     0.97674,     0.97674,     0.97674,     0.97674,     0.97674,     0.97674,     0.97674,     0.97674,     0.97674,     0.97674,     0.97674,     0.97674,     0.97674,\n",
      "            0.97674,     0.97674,     0.97674,     0.97674,     0.97674,     0.97674,     0.97674,     0.97674,     0.97674,     0.97674,     0.97674,     0.97674,     0.97674,     0.97674,     0.97674,     0.97674,     0.97674,     0.97674,     0.97674,     0.97674,     0.97674,     0.97674,     0.97674,\n",
      "            0.97674,     0.97674,     0.97674,     0.97674,     0.97674,     0.97674,     0.97674,     0.97674,     0.97674,     0.97674,     0.97674,     0.97674,     0.97674,     0.97674,     0.97674,     0.97674,     0.97674,     0.97674,     0.97674,     0.97674,     0.97674,     0.97674,     0.97674,\n",
      "            0.97674,     0.97674,     0.97674,     0.97674,     0.97674,     0.97674,     0.97674,     0.97674,     0.97674,     0.97674,     0.97674,     0.97674,     0.97674,     0.97674,     0.97674,     0.97674,     0.97674,     0.97674,     0.97674,     0.97674,     0.97674,     0.97674,     0.97674,\n",
      "            0.97674,     0.97674,     0.97674,     0.97674,     0.97674,     0.97674,     0.97674,     0.97674,     0.97674,     0.97674,     0.97674,     0.95918,     0.95918,     0.95918,     0.95918,     0.95918,     0.95918,     0.95918,     0.95918,     0.95918,     0.95918,     0.95918,     0.95918,\n",
      "            0.95918,     0.95918,     0.95918,     0.95918,     0.95918,     0.95918,     0.95918,     0.95918,     0.95918,     0.95918,     0.95918,     0.95918,     0.95918,     0.95918,     0.95918,     0.95918,     0.95918,     0.95918,     0.95918,     0.95918,     0.95918,     0.95918,     0.95918,\n",
      "            0.95918,     0.95918,     0.95918,     0.95918,     0.95918,     0.95918,     0.95918,     0.94118,     0.94118,     0.94118,     0.94118,     0.94118,     0.94118,     0.94118,     0.94118,     0.94118,      0.9375,      0.9375,      0.9375,      0.9375,      0.9375,      0.9375,      0.9375,\n",
      "             0.9375,      0.9375,      0.9375,      0.9375,      0.9375,      0.9375,      0.9375,      0.9375,      0.9375,      0.9375,      0.9375,      0.9375,      0.9375,      0.9375,      0.9375,      0.9375,      0.9375,      0.9375,      0.9375,      0.9375,      0.9375,      0.9375,      0.9375,\n",
      "             0.9375,      0.9375,      0.9375,      0.9375,      0.9375,      0.9375,      0.9375,      0.9375,      0.9375,      0.9375,      0.9375,      0.9375,      0.9375,      0.9375,      0.9375,      0.9375,      0.9375,      0.9375,      0.9375,      0.9375,      0.9375,      0.9375,      0.9375,\n",
      "             0.9375,      0.9375,      0.9375,      0.9375,      0.9375,      0.9375,      0.9375,      0.9375,      0.9375,      0.9375,      0.9375,      0.9375,      0.9375,      0.9375,      0.9375,      0.9375,      0.9375,      0.9375,      0.9375,      0.9375,      0.9375,      0.9375,      0.9375,\n",
      "             0.9375,      0.9375,      0.9375,      0.9375,      0.9375,      0.9375,      0.9375,      0.9375,      0.9375,      0.9375,      0.9375,      0.9375,      0.9375,      0.9375,      0.9375,      0.9375,      0.9375,      0.9375,      0.9375,      0.9375,      0.9375,      0.9375,      0.9375,\n",
      "             0.9375,      0.9375,     0.92424,     0.92424,     0.92424,     0.92424,     0.92424,     0.92424,     0.92424,     0.92424,     0.92424,     0.88571,     0.88571,     0.88571,     0.88571,     0.88571,     0.88571,     0.88571,     0.88571,     0.86301,     0.86301,     0.86301,     0.86301,\n",
      "            0.86301,     0.86301,     0.86301,     0.86301,     0.86301,     0.85333,     0.85333,     0.85333,     0.85333,     0.85333,     0.85333,     0.85333,     0.85333,     0.84416,     0.84416,     0.84416,     0.84416,     0.84416,     0.84416,     0.84416,     0.84416,     0.84416,     0.83951,\n",
      "            0.83951,     0.83951,     0.83951,     0.83951,     0.83951,     0.83951,     0.83951,     0.83951,     0.83951,     0.83951,     0.83951,     0.83951,     0.83951,     0.83951,     0.83951,     0.83951,     0.83951,     0.83951,     0.83951,     0.83951,     0.83951,     0.83951,     0.83951,\n",
      "            0.83951,     0.81522,     0.81522,     0.81522,     0.81522,     0.81522,     0.81522,     0.81522,     0.81522,     0.81522,     0.81522,     0.81522,     0.81522,     0.81522,     0.81522,     0.81522,     0.81522,     0.81522,     0.81522,     0.81522,     0.81522,     0.81522,     0.81522,\n",
      "            0.81522,     0.81522,     0.81522,     0.81522,     0.81522,     0.81522,     0.81522,     0.81522,     0.81522,     0.81522,     0.81522,     0.81522,     0.81522,     0.81522,     0.81522,     0.81522,     0.81522,     0.81522,     0.81522,     0.81522,     0.81522,     0.81522,     0.81522,\n",
      "            0.81522,     0.81522,     0.81522,     0.81522,     0.81522,     0.81522,     0.81522,     0.81522,     0.81522,     0.81522,     0.81522,     0.81522,     0.81522,     0.81522,     0.78351,     0.78351,     0.78351,     0.78351,     0.78351,     0.78351,     0.78351,     0.78351,     0.78351,\n",
      "            0.77778,     0.77778,     0.77778,     0.77778,     0.77778,     0.77778,     0.77778,     0.77778,     0.75962,     0.75962,     0.75962,     0.75962,     0.75962,     0.75962,     0.75962,     0.75962,     0.75962,     0.75962,     0.75962,     0.75962,     0.75962,     0.75962,     0.75962,\n",
      "            0.75962,     0.75962,     0.75472,     0.75472,     0.75472,     0.75472,     0.75472,     0.75472,     0.75472,     0.75472,     0.75472,     0.74312,     0.74312,     0.74312,     0.74312,     0.74312,     0.74312,     0.74312,     0.74312,      0.7193,      0.7193,      0.7193,      0.7193,\n",
      "             0.7193,      0.7193,      0.7193,      0.7193,      0.7193,     0.71552,     0.71552,     0.71552,     0.71552,     0.71552,     0.71552,     0.71552,     0.71552,     0.70833,     0.70833,     0.70833,     0.70833,     0.70833,     0.70833,     0.70833,     0.70833,     0.70833,     0.70833,\n",
      "            0.70833,     0.70833,     0.70833,     0.70833,     0.70833,     0.70833,     0.70833,       0.696,       0.696,       0.696,       0.696,       0.696,       0.696,       0.696,       0.696,       0.696,       0.696,       0.696,       0.696,       0.696,       0.696,       0.696,       0.696,\n",
      "              0.696,     0.64706,     0.64706,     0.64706,     0.64706,     0.64706,     0.64706,     0.64706,     0.64706,     0.64706,     0.61806,     0.61806,     0.61806,     0.61806,     0.61806,     0.61806,     0.61806,     0.61806,     0.58065,     0.58065,     0.58065,     0.58065,     0.58065,\n",
      "            0.58065,     0.58065,     0.58065,       0.575,       0.575,       0.575,       0.575,       0.575,       0.575,       0.575,       0.575,       0.575,       0.575,       0.575,       0.575,       0.575,       0.575,       0.575,       0.575,       0.575,     0.57407,     0.57407,     0.57407,\n",
      "            0.57407,     0.57407,     0.57407,     0.57407,     0.57407,     0.57407,     0.55621,     0.55621,     0.55621,     0.55621,     0.55621,     0.55621,     0.55621,     0.55621,     0.52198,     0.52198,     0.52198,     0.52198,     0.52198,     0.52198,     0.52198,     0.52198,     0.52198,\n",
      "            0.51337,     0.51337,     0.51337,     0.51337,     0.51337,     0.51337,     0.51337,     0.51337,     0.48259,     0.48259,     0.48259,     0.48259,     0.48259,     0.48259,     0.48259,     0.48259,     0.48259,     0.43043,     0.43043,     0.43043,     0.43043,     0.43043,     0.43043,\n",
      "            0.43043,     0.43043,     0.43043,     0.43043,     0.43043,     0.43043,     0.43043,     0.43043,     0.43043,     0.43043,     0.43043,     0.42918,     0.42918,     0.42918,     0.42918,     0.42918,     0.42918,     0.42918,     0.42918,     0.41057,     0.41057,     0.41057,     0.41057,\n",
      "            0.41057,     0.41057,     0.41057,     0.41057,     0.41057,     0.40628,     0.40344,      0.4006,     0.39776,     0.39492,     0.39208,     0.38924,     0.38639,     0.38355,     0.38071,     0.37787,     0.37503,     0.37219,     0.36935,     0.36651,     0.36367,     0.36082,     0.35798,\n",
      "            0.35514,      0.3523,     0.34946,     0.34662,     0.34378,     0.34094,      0.3381,     0.33525,     0.33241,     0.32957,     0.32673,     0.32389,     0.32105,     0.31821,     0.31537,     0.31252,     0.30968,     0.30684,       0.304,     0.30116,     0.29832,     0.29548,     0.29264,\n",
      "             0.2898,     0.28695,     0.28411,     0.28127,     0.27843,     0.27559,     0.27275,     0.26991,     0.26707,     0.26423,     0.26138,     0.25854,      0.2557,     0.25286,     0.25002,     0.24718,     0.24434,      0.2415,     0.23866,     0.23581,     0.23297,     0.23013,     0.22729,\n",
      "            0.22445,     0.22161,     0.21877,     0.21593,     0.21309,     0.21024,      0.2074,     0.20456,     0.20172,     0.19888,     0.19604,      0.1932,     0.19036,     0.18751,     0.18467,     0.18183,     0.17899,     0.17615,     0.17331,     0.17047,     0.16763,     0.16479,     0.16194,\n",
      "             0.1591,     0.15626,     0.15342,     0.15058,     0.14774,      0.1449,     0.14206,     0.13922,     0.13637,     0.13353,     0.13069,     0.12785,     0.12501,     0.12217,     0.11933,     0.11649,     0.11365,      0.1108,     0.10796,     0.10512,     0.10228,     0.09944,    0.096599,\n",
      "           0.093757,    0.090916,    0.088075,    0.085234,    0.082393,    0.079552,    0.076711,     0.07387,    0.071028,    0.068187,    0.065346,    0.062505,    0.059664,    0.056823,    0.053982,     0.05114,    0.048299,    0.045458,    0.042617,    0.039776,    0.036935,    0.034094,    0.031252,\n",
      "           0.028411,     0.02557,    0.022729,    0.019888,    0.017047,    0.014206,    0.011365,   0.0085234,   0.0056823,   0.0028411,           0]]), 'Recall', 'Precision'], [array([          0,    0.001001,    0.002002,    0.003003,    0.004004,    0.005005,    0.006006,    0.007007,    0.008008,    0.009009,     0.01001,    0.011011,    0.012012,    0.013013,    0.014014,    0.015015,    0.016016,    0.017017,    0.018018,    0.019019,     0.02002,    0.021021,    0.022022,    0.023023,\n",
      "          0.024024,    0.025025,    0.026026,    0.027027,    0.028028,    0.029029,     0.03003,    0.031031,    0.032032,    0.033033,    0.034034,    0.035035,    0.036036,    0.037037,    0.038038,    0.039039,     0.04004,    0.041041,    0.042042,    0.043043,    0.044044,    0.045045,    0.046046,    0.047047,\n",
      "          0.048048,    0.049049,     0.05005,    0.051051,    0.052052,    0.053053,    0.054054,    0.055055,    0.056056,    0.057057,    0.058058,    0.059059,     0.06006,    0.061061,    0.062062,    0.063063,    0.064064,    0.065065,    0.066066,    0.067067,    0.068068,    0.069069,     0.07007,    0.071071,\n",
      "          0.072072,    0.073073,    0.074074,    0.075075,    0.076076,    0.077077,    0.078078,    0.079079,     0.08008,    0.081081,    0.082082,    0.083083,    0.084084,    0.085085,    0.086086,    0.087087,    0.088088,    0.089089,     0.09009,    0.091091,    0.092092,    0.093093,    0.094094,    0.095095,\n",
      "          0.096096,    0.097097,    0.098098,    0.099099,      0.1001,      0.1011,      0.1021,      0.1031,      0.1041,     0.10511,     0.10611,     0.10711,     0.10811,     0.10911,     0.11011,     0.11111,     0.11211,     0.11311,     0.11411,     0.11512,     0.11612,     0.11712,     0.11812,     0.11912,\n",
      "           0.12012,     0.12112,     0.12212,     0.12312,     0.12412,     0.12513,     0.12613,     0.12713,     0.12813,     0.12913,     0.13013,     0.13113,     0.13213,     0.13313,     0.13413,     0.13514,     0.13614,     0.13714,     0.13814,     0.13914,     0.14014,     0.14114,     0.14214,     0.14314,\n",
      "           0.14414,     0.14515,     0.14615,     0.14715,     0.14815,     0.14915,     0.15015,     0.15115,     0.15215,     0.15315,     0.15415,     0.15516,     0.15616,     0.15716,     0.15816,     0.15916,     0.16016,     0.16116,     0.16216,     0.16316,     0.16416,     0.16517,     0.16617,     0.16717,\n",
      "           0.16817,     0.16917,     0.17017,     0.17117,     0.17217,     0.17317,     0.17417,     0.17518,     0.17618,     0.17718,     0.17818,     0.17918,     0.18018,     0.18118,     0.18218,     0.18318,     0.18418,     0.18519,     0.18619,     0.18719,     0.18819,     0.18919,     0.19019,     0.19119,\n",
      "           0.19219,     0.19319,     0.19419,      0.1952,      0.1962,      0.1972,      0.1982,      0.1992,      0.2002,      0.2012,      0.2022,      0.2032,      0.2042,     0.20521,     0.20621,     0.20721,     0.20821,     0.20921,     0.21021,     0.21121,     0.21221,     0.21321,     0.21421,     0.21522,\n",
      "           0.21622,     0.21722,     0.21822,     0.21922,     0.22022,     0.22122,     0.22222,     0.22322,     0.22422,     0.22523,     0.22623,     0.22723,     0.22823,     0.22923,     0.23023,     0.23123,     0.23223,     0.23323,     0.23423,     0.23524,     0.23624,     0.23724,     0.23824,     0.23924,\n",
      "           0.24024,     0.24124,     0.24224,     0.24324,     0.24424,     0.24525,     0.24625,     0.24725,     0.24825,     0.24925,     0.25025,     0.25125,     0.25225,     0.25325,     0.25425,     0.25526,     0.25626,     0.25726,     0.25826,     0.25926,     0.26026,     0.26126,     0.26226,     0.26326,\n",
      "           0.26426,     0.26527,     0.26627,     0.26727,     0.26827,     0.26927,     0.27027,     0.27127,     0.27227,     0.27327,     0.27427,     0.27528,     0.27628,     0.27728,     0.27828,     0.27928,     0.28028,     0.28128,     0.28228,     0.28328,     0.28428,     0.28529,     0.28629,     0.28729,\n",
      "           0.28829,     0.28929,     0.29029,     0.29129,     0.29229,     0.29329,     0.29429,      0.2953,      0.2963,      0.2973,      0.2983,      0.2993,      0.3003,      0.3013,      0.3023,      0.3033,      0.3043,     0.30531,     0.30631,     0.30731,     0.30831,     0.30931,     0.31031,     0.31131,\n",
      "           0.31231,     0.31331,     0.31431,     0.31532,     0.31632,     0.31732,     0.31832,     0.31932,     0.32032,     0.32132,     0.32232,     0.32332,     0.32432,     0.32533,     0.32633,     0.32733,     0.32833,     0.32933,     0.33033,     0.33133,     0.33233,     0.33333,     0.33433,     0.33534,\n",
      "           0.33634,     0.33734,     0.33834,     0.33934,     0.34034,     0.34134,     0.34234,     0.34334,     0.34434,     0.34535,     0.34635,     0.34735,     0.34835,     0.34935,     0.35035,     0.35135,     0.35235,     0.35335,     0.35435,     0.35536,     0.35636,     0.35736,     0.35836,     0.35936,\n",
      "           0.36036,     0.36136,     0.36236,     0.36336,     0.36436,     0.36537,     0.36637,     0.36737,     0.36837,     0.36937,     0.37037,     0.37137,     0.37237,     0.37337,     0.37437,     0.37538,     0.37638,     0.37738,     0.37838,     0.37938,     0.38038,     0.38138,     0.38238,     0.38338,\n",
      "           0.38438,     0.38539,     0.38639,     0.38739,     0.38839,     0.38939,     0.39039,     0.39139,     0.39239,     0.39339,     0.39439,      0.3954,      0.3964,      0.3974,      0.3984,      0.3994,      0.4004,      0.4014,      0.4024,      0.4034,      0.4044,     0.40541,     0.40641,     0.40741,\n",
      "           0.40841,     0.40941,     0.41041,     0.41141,     0.41241,     0.41341,     0.41441,     0.41542,     0.41642,     0.41742,     0.41842,     0.41942,     0.42042,     0.42142,     0.42242,     0.42342,     0.42442,     0.42543,     0.42643,     0.42743,     0.42843,     0.42943,     0.43043,     0.43143,\n",
      "           0.43243,     0.43343,     0.43443,     0.43544,     0.43644,     0.43744,     0.43844,     0.43944,     0.44044,     0.44144,     0.44244,     0.44344,     0.44444,     0.44545,     0.44645,     0.44745,     0.44845,     0.44945,     0.45045,     0.45145,     0.45245,     0.45345,     0.45445,     0.45546,\n",
      "           0.45646,     0.45746,     0.45846,     0.45946,     0.46046,     0.46146,     0.46246,     0.46346,     0.46446,     0.46547,     0.46647,     0.46747,     0.46847,     0.46947,     0.47047,     0.47147,     0.47247,     0.47347,     0.47447,     0.47548,     0.47648,     0.47748,     0.47848,     0.47948,\n",
      "           0.48048,     0.48148,     0.48248,     0.48348,     0.48448,     0.48549,     0.48649,     0.48749,     0.48849,     0.48949,     0.49049,     0.49149,     0.49249,     0.49349,     0.49449,      0.4955,      0.4965,      0.4975,      0.4985,      0.4995,      0.5005,      0.5015,      0.5025,      0.5035,\n",
      "            0.5045,     0.50551,     0.50651,     0.50751,     0.50851,     0.50951,     0.51051,     0.51151,     0.51251,     0.51351,     0.51451,     0.51552,     0.51652,     0.51752,     0.51852,     0.51952,     0.52052,     0.52152,     0.52252,     0.52352,     0.52452,     0.52553,     0.52653,     0.52753,\n",
      "           0.52853,     0.52953,     0.53053,     0.53153,     0.53253,     0.53353,     0.53453,     0.53554,     0.53654,     0.53754,     0.53854,     0.53954,     0.54054,     0.54154,     0.54254,     0.54354,     0.54454,     0.54555,     0.54655,     0.54755,     0.54855,     0.54955,     0.55055,     0.55155,\n",
      "           0.55255,     0.55355,     0.55455,     0.55556,     0.55656,     0.55756,     0.55856,     0.55956,     0.56056,     0.56156,     0.56256,     0.56356,     0.56456,     0.56557,     0.56657,     0.56757,     0.56857,     0.56957,     0.57057,     0.57157,     0.57257,     0.57357,     0.57457,     0.57558,\n",
      "           0.57658,     0.57758,     0.57858,     0.57958,     0.58058,     0.58158,     0.58258,     0.58358,     0.58458,     0.58559,     0.58659,     0.58759,     0.58859,     0.58959,     0.59059,     0.59159,     0.59259,     0.59359,     0.59459,      0.5956,      0.5966,      0.5976,      0.5986,      0.5996,\n",
      "            0.6006,      0.6016,      0.6026,      0.6036,      0.6046,     0.60561,     0.60661,     0.60761,     0.60861,     0.60961,     0.61061,     0.61161,     0.61261,     0.61361,     0.61461,     0.61562,     0.61662,     0.61762,     0.61862,     0.61962,     0.62062,     0.62162,     0.62262,     0.62362,\n",
      "           0.62462,     0.62563,     0.62663,     0.62763,     0.62863,     0.62963,     0.63063,     0.63163,     0.63263,     0.63363,     0.63463,     0.63564,     0.63664,     0.63764,     0.63864,     0.63964,     0.64064,     0.64164,     0.64264,     0.64364,     0.64464,     0.64565,     0.64665,     0.64765,\n",
      "           0.64865,     0.64965,     0.65065,     0.65165,     0.65265,     0.65365,     0.65465,     0.65566,     0.65666,     0.65766,     0.65866,     0.65966,     0.66066,     0.66166,     0.66266,     0.66366,     0.66466,     0.66567,     0.66667,     0.66767,     0.66867,     0.66967,     0.67067,     0.67167,\n",
      "           0.67267,     0.67367,     0.67467,     0.67568,     0.67668,     0.67768,     0.67868,     0.67968,     0.68068,     0.68168,     0.68268,     0.68368,     0.68468,     0.68569,     0.68669,     0.68769,     0.68869,     0.68969,     0.69069,     0.69169,     0.69269,     0.69369,     0.69469,      0.6957,\n",
      "            0.6967,      0.6977,      0.6987,      0.6997,      0.7007,      0.7017,      0.7027,      0.7037,      0.7047,     0.70571,     0.70671,     0.70771,     0.70871,     0.70971,     0.71071,     0.71171,     0.71271,     0.71371,     0.71471,     0.71572,     0.71672,     0.71772,     0.71872,     0.71972,\n",
      "           0.72072,     0.72172,     0.72272,     0.72372,     0.72472,     0.72573,     0.72673,     0.72773,     0.72873,     0.72973,     0.73073,     0.73173,     0.73273,     0.73373,     0.73473,     0.73574,     0.73674,     0.73774,     0.73874,     0.73974,     0.74074,     0.74174,     0.74274,     0.74374,\n",
      "           0.74474,     0.74575,     0.74675,     0.74775,     0.74875,     0.74975,     0.75075,     0.75175,     0.75275,     0.75375,     0.75475,     0.75576,     0.75676,     0.75776,     0.75876,     0.75976,     0.76076,     0.76176,     0.76276,     0.76376,     0.76476,     0.76577,     0.76677,     0.76777,\n",
      "           0.76877,     0.76977,     0.77077,     0.77177,     0.77277,     0.77377,     0.77477,     0.77578,     0.77678,     0.77778,     0.77878,     0.77978,     0.78078,     0.78178,     0.78278,     0.78378,     0.78478,     0.78579,     0.78679,     0.78779,     0.78879,     0.78979,     0.79079,     0.79179,\n",
      "           0.79279,     0.79379,     0.79479,      0.7958,      0.7968,      0.7978,      0.7988,      0.7998,      0.8008,      0.8018,      0.8028,      0.8038,      0.8048,     0.80581,     0.80681,     0.80781,     0.80881,     0.80981,     0.81081,     0.81181,     0.81281,     0.81381,     0.81481,     0.81582,\n",
      "           0.81682,     0.81782,     0.81882,     0.81982,     0.82082,     0.82182,     0.82282,     0.82382,     0.82482,     0.82583,     0.82683,     0.82783,     0.82883,     0.82983,     0.83083,     0.83183,     0.83283,     0.83383,     0.83483,     0.83584,     0.83684,     0.83784,     0.83884,     0.83984,\n",
      "           0.84084,     0.84184,     0.84284,     0.84384,     0.84484,     0.84585,     0.84685,     0.84785,     0.84885,     0.84985,     0.85085,     0.85185,     0.85285,     0.85385,     0.85485,     0.85586,     0.85686,     0.85786,     0.85886,     0.85986,     0.86086,     0.86186,     0.86286,     0.86386,\n",
      "           0.86486,     0.86587,     0.86687,     0.86787,     0.86887,     0.86987,     0.87087,     0.87187,     0.87287,     0.87387,     0.87487,     0.87588,     0.87688,     0.87788,     0.87888,     0.87988,     0.88088,     0.88188,     0.88288,     0.88388,     0.88488,     0.88589,     0.88689,     0.88789,\n",
      "           0.88889,     0.88989,     0.89089,     0.89189,     0.89289,     0.89389,     0.89489,      0.8959,      0.8969,      0.8979,      0.8989,      0.8999,      0.9009,      0.9019,      0.9029,      0.9039,      0.9049,     0.90591,     0.90691,     0.90791,     0.90891,     0.90991,     0.91091,     0.91191,\n",
      "           0.91291,     0.91391,     0.91491,     0.91592,     0.91692,     0.91792,     0.91892,     0.91992,     0.92092,     0.92192,     0.92292,     0.92392,     0.92492,     0.92593,     0.92693,     0.92793,     0.92893,     0.92993,     0.93093,     0.93193,     0.93293,     0.93393,     0.93493,     0.93594,\n",
      "           0.93694,     0.93794,     0.93894,     0.93994,     0.94094,     0.94194,     0.94294,     0.94394,     0.94494,     0.94595,     0.94695,     0.94795,     0.94895,     0.94995,     0.95095,     0.95195,     0.95295,     0.95395,     0.95495,     0.95596,     0.95696,     0.95796,     0.95896,     0.95996,\n",
      "           0.96096,     0.96196,     0.96296,     0.96396,     0.96496,     0.96597,     0.96697,     0.96797,     0.96897,     0.96997,     0.97097,     0.97197,     0.97297,     0.97397,     0.97497,     0.97598,     0.97698,     0.97798,     0.97898,     0.97998,     0.98098,     0.98198,     0.98298,     0.98398,\n",
      "           0.98498,     0.98599,     0.98699,     0.98799,     0.98899,     0.98999,     0.99099,     0.99199,     0.99299,     0.99399,     0.99499,       0.996,       0.997,       0.998,       0.999,           1]), array([[    0.55342,     0.55342,     0.57104,     0.60773,     0.62896,     0.63207,     0.63138,     0.63596,     0.63956,     0.64499,      0.6518,     0.65195,     0.65748,     0.65811,     0.65875,     0.65938,     0.66122,     0.66109,     0.65954,      0.6555,     0.65714,     0.65823,     0.65932,\n",
      "            0.66186,     0.66254,     0.66322,     0.66391,     0.66607,     0.66856,      0.6733,      0.6753,     0.67695,     0.67772,     0.67848,     0.67925,     0.67884,     0.67816,     0.67749,     0.67681,     0.67613,     0.67546,     0.67478,     0.67453,     0.67512,     0.67572,     0.67631,\n",
      "             0.6769,     0.67824,     0.67957,     0.68013,     0.68068,     0.68124,      0.6818,     0.68397,     0.68545,      0.6862,     0.68695,     0.68786,      0.6892,     0.69034,      0.6909,     0.69145,     0.69201,     0.69256,     0.69041,     0.68914,      0.6906,     0.69089,     0.69117,\n",
      "            0.69146,     0.69175,     0.69204,     0.69233,     0.69261,      0.6929,     0.69319,     0.69483,     0.69654,       0.698,     0.69927,     0.70031,     0.70136,     0.70185,     0.70216,     0.70247,     0.70278,     0.70309,      0.7034,     0.70371,     0.70402,     0.70433,       0.705,\n",
      "            0.70591,     0.70682,      0.7107,     0.71181,     0.71291,     0.71343,     0.71381,      0.7142,     0.71459,     0.71497,     0.71536,     0.71574,     0.71535,     0.71184,       0.708,     0.70556,     0.70602,     0.70649,     0.70696,     0.70742,     0.70789,     0.70834,      0.7086,\n",
      "            0.70885,     0.70911,     0.70936,     0.70962,     0.70987,     0.71013,     0.71038,     0.71064,     0.71089,     0.71114,     0.71142,     0.71175,     0.71207,     0.71239,     0.71271,     0.71303,     0.71335,     0.71368,       0.714,     0.71426,     0.71401,     0.71377,     0.71352,\n",
      "            0.71327,     0.71302,     0.71277,     0.71252,     0.71228,     0.71203,     0.71178,     0.71153,     0.71128,     0.71103,     0.71079,     0.71054,     0.71029,     0.71004,     0.70979,     0.70954,     0.70929,     0.70904,     0.70871,     0.70814,     0.70758,     0.70701,     0.70644,\n",
      "            0.70588,     0.70531,     0.70474,     0.70417,      0.7036,     0.70651,      0.7067,      0.7069,      0.7071,     0.70729,     0.70749,     0.70769,     0.70788,     0.70808,     0.70827,     0.70847,     0.70867,     0.70886,     0.70906,     0.70925,     0.70931,     0.70893,     0.70855,\n",
      "            0.70818,      0.7078,     0.70742,     0.70704,     0.70666,     0.70628,     0.70591,     0.70553,     0.70515,     0.70477,     0.70439,     0.70401,      0.7041,      0.7045,     0.70489,     0.70528,     0.70568,     0.70607,     0.70646,     0.70685,     0.70667,     0.70641,     0.70615,\n",
      "            0.70589,     0.70563,     0.70537,     0.70511,     0.70486,      0.7046,     0.70434,     0.70408,     0.70382,     0.70356,      0.7033,     0.70304,     0.70278,     0.70252,     0.70226,       0.702,     0.70174,     0.70148,     0.70191,     0.70404,     0.70507,     0.70592,     0.70676,\n",
      "            0.70745,     0.70756,     0.70766,     0.70777,     0.70788,     0.70799,      0.7081,     0.70821,     0.70832,     0.70843,     0.70854,     0.70864,     0.70875,     0.70886,     0.70897,     0.70908,     0.70919,     0.70929,      0.7094,     0.70951,     0.70962,     0.70973,     0.70984,\n",
      "            0.70994,     0.71005,     0.71016,     0.71027,     0.71038,     0.71049,     0.71104,     0.71187,      0.7127,     0.71353,     0.71338,     0.71306,     0.71274,     0.71242,      0.7121,     0.71177,     0.71145,     0.71113,     0.71081,     0.71048,     0.71016,     0.70984,     0.70951,\n",
      "            0.70919,     0.70887,     0.70854,     0.70822,     0.70797,     0.70801,     0.70805,     0.70809,     0.70812,     0.70816,      0.7082,     0.70824,     0.70828,     0.70831,     0.70835,     0.70839,     0.70843,     0.70846,      0.7085,     0.70854,     0.70858,     0.70862,     0.70865,\n",
      "            0.70869,     0.70873,     0.70877,      0.7088,     0.70884,     0.70888,     0.70892,     0.70896,     0.70899,     0.70903,     0.70907,     0.70911,     0.70914,     0.70918,     0.70922,     0.70926,      0.7093,     0.70933,     0.70937,     0.70941,     0.70945,     0.70948,     0.70952,\n",
      "            0.70956,      0.7096,     0.70963,     0.70967,     0.70971,     0.70975,     0.70979,     0.70982,     0.70986,      0.7099,     0.70994,     0.70997,     0.71001,     0.71005,     0.71009,     0.71012,     0.71016,      0.7102,     0.71024,     0.71027,     0.71031,     0.71035,     0.71039,\n",
      "            0.71042,     0.71046,      0.7105,     0.71054,     0.71057,     0.71061,     0.71065,     0.71069,     0.71072,     0.71076,      0.7108,     0.71084,     0.71088,     0.71091,     0.71095,     0.71099,     0.71103,     0.71106,      0.7111,     0.71169,     0.71249,      0.7133,     0.71411,\n",
      "            0.71384,     0.71326,     0.71268,      0.7121,     0.71152,     0.71094,     0.71036,     0.70978,      0.7092,     0.70861,     0.70891,     0.70938,     0.70985,     0.71032,     0.71079,     0.71126,      0.7117,     0.71133,     0.71095,     0.71057,      0.7102,     0.70982,     0.70945,\n",
      "            0.70907,     0.70869,     0.70832,     0.70794,     0.70756,     0.70719,     0.70681,     0.70643,     0.70605,     0.70546,     0.70468,      0.7039,     0.70313,     0.70235,     0.70157,     0.70079,     0.70001,     0.70029,     0.70058,     0.70088,     0.70117,     0.70146,     0.70175,\n",
      "            0.70204,     0.70234,     0.70263,     0.70292,     0.70321,     0.70345,     0.70369,     0.70393,     0.70417,     0.70441,     0.70465,     0.70489,     0.70513,     0.70537,     0.70561,     0.70584,     0.70608,     0.70632,     0.70652,      0.7067,     0.70687,     0.70705,     0.70722,\n",
      "            0.70739,     0.70757,     0.70774,     0.70791,     0.70809,     0.70826,     0.70843,     0.70861,     0.70878,     0.70895,     0.70913,      0.7093,     0.70947,     0.70964,      0.7096,      0.7095,      0.7094,      0.7093,      0.7092,      0.7091,       0.709,      0.7089,      0.7088,\n",
      "             0.7087,      0.7086,     0.70849,     0.70839,     0.70829,     0.70819,     0.70809,     0.70799,     0.70789,     0.70779,     0.70769,     0.70759,     0.70749,     0.70739,     0.70729,     0.70719,     0.70709,     0.70699,     0.70689,     0.70679,     0.70669,     0.70659,     0.70649,\n",
      "            0.70639,     0.70629,     0.70619,     0.70609,     0.70599,     0.70589,     0.70579,     0.70569,     0.70559,     0.70548,     0.70538,     0.70528,     0.70518,     0.70508,     0.70498,     0.70488,     0.70478,     0.70468,     0.70458,     0.70448,     0.70438,     0.70428,     0.70418,\n",
      "            0.70408,     0.70398,     0.70388,     0.70378,     0.70387,     0.70443,     0.70499,     0.70555,      0.7061,     0.70666,     0.70693,     0.70682,      0.7067,     0.70659,     0.70648,     0.70637,     0.70626,     0.70614,     0.70603,     0.70592,     0.70581,     0.70569,     0.70558,\n",
      "            0.70547,     0.70536,     0.70524,     0.70513,     0.70502,     0.70491,      0.7048,     0.70468,     0.70457,     0.70446,     0.70435,     0.70423,     0.70412,     0.70401,      0.7039,     0.70378,     0.70367,     0.70356,     0.70345,     0.70333,     0.70322,     0.70311,       0.703,\n",
      "            0.70288,     0.70277,     0.70266,     0.70255,     0.70243,     0.70232,     0.70221,     0.70209,     0.70198,     0.70187,     0.70176,     0.70164,     0.70153,     0.70142,     0.70131,     0.70119,     0.70108,     0.70097,     0.70104,     0.70119,     0.70133,     0.70148,     0.70163,\n",
      "            0.70178,     0.70192,     0.70207,     0.70222,     0.70236,     0.70251,     0.70266,      0.7028,     0.70295,      0.7031,     0.70324,     0.70339,     0.70353,     0.70368,     0.70383,     0.70397,     0.70412,     0.70426,      0.7044,     0.70454,     0.70468,     0.70481,     0.70495,\n",
      "            0.70509,     0.70523,     0.70536,      0.7055,     0.70564,     0.70578,     0.70591,     0.70605,     0.70619,     0.70632,     0.70646,      0.7066,     0.70673,     0.70687,     0.70701,     0.70714,     0.70728,     0.70742,     0.70784,       0.711,     0.71119,     0.71138,     0.71157,\n",
      "            0.71176,     0.71195,     0.71214,     0.71233,     0.71252,     0.71271,      0.7129,     0.71309,     0.71328,     0.71347,     0.71366,     0.71385,     0.71403,     0.71422,     0.70968,     0.70784,     0.70746,     0.70708,     0.70669,     0.70631,     0.70593,     0.70555,     0.70517,\n",
      "            0.70478,      0.7044,     0.70402,     0.70364,     0.70325,     0.70287,     0.70249,      0.7021,     0.70134,     0.70022,      0.6991,     0.69798,     0.69686,     0.69574,     0.69534,     0.69499,     0.69465,      0.6943,     0.69395,     0.69361,     0.69326,     0.69292,     0.69257,\n",
      "            0.69223,     0.69188,     0.69153,     0.69119,     0.69084,     0.69049,     0.69015,      0.6898,     0.68945,      0.6892,     0.68901,     0.68881,     0.68862,     0.68843,     0.68823,     0.68804,     0.68785,     0.68765,     0.68746,     0.68727,     0.68707,     0.68688,     0.68668,\n",
      "            0.68649,      0.6863,      0.6861,     0.68591,     0.68571,     0.68552,     0.68533,     0.68513,     0.68494,     0.68474,     0.68455,     0.68435,     0.68416,     0.68397,     0.68377,     0.68358,     0.68338,     0.68319,     0.68299,     0.68057,       0.677,     0.67765,     0.67903,\n",
      "            0.67648,     0.67334,     0.67348,     0.67361,     0.67374,     0.67388,     0.67401,     0.67415,     0.67428,     0.67441,     0.67454,     0.67468,     0.67481,     0.67494,     0.67508,     0.67521,     0.67534,     0.67547,     0.67561,     0.67574,     0.67587,       0.676,     0.67614,\n",
      "            0.67627,      0.6764,     0.67653,     0.68022,     0.68086,     0.68149,     0.68212,     0.68274,     0.68337,     0.68173,     0.67989,     0.67805,     0.67637,     0.67506,     0.67375,     0.67244,     0.67113,     0.66967,     0.66757,     0.66546,     0.66335,     0.66398,     0.66118,\n",
      "            0.66002,     0.66047,     0.66092,     0.66137,     0.66182,     0.66227,     0.66272,     0.66316,     0.66196,     0.66053,     0.65911,     0.65768,     0.65625,      0.6584,     0.65787,      0.6533,     0.65294,     0.65329,     0.65365,       0.654,     0.65435,     0.65471,     0.65506,\n",
      "            0.65541,     0.65576,     0.65611,     0.65645,     0.65679,     0.65713,     0.65746,      0.6578,     0.65814,     0.65847,     0.65881,     0.65914,     0.65947,     0.65745,     0.65442,     0.65602,     0.65632,     0.65662,     0.65692,     0.65722,     0.65752,     0.65782,     0.65812,\n",
      "            0.65841,     0.65871,     0.65901,     0.65931,     0.65974,     0.66033,     0.66091,      0.6615,     0.66208,     0.66266,     0.66259,     0.66127,     0.65994,     0.65862,     0.65728,     0.65595,     0.65666,     0.65776,     0.65884,     0.65193,     0.65069,     0.64944,      0.6482,\n",
      "            0.64695,      0.6457,     0.64445,     0.64222,     0.63996,     0.63771,     0.62742,     0.62387,     0.61421,     0.60897,     0.60447,     0.60063,     0.59652,     0.59155,     0.58433,     0.57976,     0.57728,     0.57479,     0.56494,     0.56664,     0.56778,     0.56613,     0.56447,\n",
      "             0.5628,     0.56113,     0.55991,     0.55613,     0.54126,     0.53596,     0.53126,     0.52703,     0.52447,      0.5219,     0.51933,     0.51652,     0.50626,     0.49783,     0.49132,     0.48548,     0.48269,     0.48087,     0.47905,     0.47722,     0.47538,     0.47341,     0.47126,\n",
      "             0.4691,     0.46694,     0.46477,     0.45886,      0.4444,     0.44126,     0.43811,     0.43495,     0.41211,     0.38944,     0.37339,     0.35905,     0.35994,      0.3608,     0.34779,     0.34413,     0.34044,     0.33696,     0.33387,     0.33076,     0.32764,     0.32425,     0.32063,\n",
      "            0.31699,     0.30882,     0.29687,      0.2888,     0.27782,     0.27266,     0.26773,      0.2615,     0.25324,     0.23485,     0.22623,     0.22115,     0.21635,      0.2113,     0.20472,     0.19566,     0.17881,     0.17124,     0.15436,      0.1504,     0.14642,     0.14242,     0.11621,\n",
      "           0.089335,    0.077285,    0.072487,    0.067665,    0.060129,    0.050467,    0.047164,    0.044492,    0.041813,    0.039127,    0.036433,    0.033732,    0.026984,    0.019483,           0,           0,           0,           0,           0,           0,           0,           0,           0,\n",
      "                  0,           0,           0,           0,           0,           0,           0,           0,           0,           0,           0,           0,           0,           0,           0,           0,           0,           0,           0,           0,           0,           0,           0,\n",
      "                  0,           0,           0,           0,           0,           0,           0,           0,           0,           0,           0,           0,           0,           0,           0,           0,           0,           0,           0,           0,           0,           0,           0,\n",
      "                  0,           0,           0,           0,           0,           0,           0,           0,           0,           0,           0]]), 'Confidence', 'F1'], [array([          0,    0.001001,    0.002002,    0.003003,    0.004004,    0.005005,    0.006006,    0.007007,    0.008008,    0.009009,     0.01001,    0.011011,    0.012012,    0.013013,    0.014014,    0.015015,    0.016016,    0.017017,    0.018018,    0.019019,     0.02002,    0.021021,    0.022022,    0.023023,\n",
      "          0.024024,    0.025025,    0.026026,    0.027027,    0.028028,    0.029029,     0.03003,    0.031031,    0.032032,    0.033033,    0.034034,    0.035035,    0.036036,    0.037037,    0.038038,    0.039039,     0.04004,    0.041041,    0.042042,    0.043043,    0.044044,    0.045045,    0.046046,    0.047047,\n",
      "          0.048048,    0.049049,     0.05005,    0.051051,    0.052052,    0.053053,    0.054054,    0.055055,    0.056056,    0.057057,    0.058058,    0.059059,     0.06006,    0.061061,    0.062062,    0.063063,    0.064064,    0.065065,    0.066066,    0.067067,    0.068068,    0.069069,     0.07007,    0.071071,\n",
      "          0.072072,    0.073073,    0.074074,    0.075075,    0.076076,    0.077077,    0.078078,    0.079079,     0.08008,    0.081081,    0.082082,    0.083083,    0.084084,    0.085085,    0.086086,    0.087087,    0.088088,    0.089089,     0.09009,    0.091091,    0.092092,    0.093093,    0.094094,    0.095095,\n",
      "          0.096096,    0.097097,    0.098098,    0.099099,      0.1001,      0.1011,      0.1021,      0.1031,      0.1041,     0.10511,     0.10611,     0.10711,     0.10811,     0.10911,     0.11011,     0.11111,     0.11211,     0.11311,     0.11411,     0.11512,     0.11612,     0.11712,     0.11812,     0.11912,\n",
      "           0.12012,     0.12112,     0.12212,     0.12312,     0.12412,     0.12513,     0.12613,     0.12713,     0.12813,     0.12913,     0.13013,     0.13113,     0.13213,     0.13313,     0.13413,     0.13514,     0.13614,     0.13714,     0.13814,     0.13914,     0.14014,     0.14114,     0.14214,     0.14314,\n",
      "           0.14414,     0.14515,     0.14615,     0.14715,     0.14815,     0.14915,     0.15015,     0.15115,     0.15215,     0.15315,     0.15415,     0.15516,     0.15616,     0.15716,     0.15816,     0.15916,     0.16016,     0.16116,     0.16216,     0.16316,     0.16416,     0.16517,     0.16617,     0.16717,\n",
      "           0.16817,     0.16917,     0.17017,     0.17117,     0.17217,     0.17317,     0.17417,     0.17518,     0.17618,     0.17718,     0.17818,     0.17918,     0.18018,     0.18118,     0.18218,     0.18318,     0.18418,     0.18519,     0.18619,     0.18719,     0.18819,     0.18919,     0.19019,     0.19119,\n",
      "           0.19219,     0.19319,     0.19419,      0.1952,      0.1962,      0.1972,      0.1982,      0.1992,      0.2002,      0.2012,      0.2022,      0.2032,      0.2042,     0.20521,     0.20621,     0.20721,     0.20821,     0.20921,     0.21021,     0.21121,     0.21221,     0.21321,     0.21421,     0.21522,\n",
      "           0.21622,     0.21722,     0.21822,     0.21922,     0.22022,     0.22122,     0.22222,     0.22322,     0.22422,     0.22523,     0.22623,     0.22723,     0.22823,     0.22923,     0.23023,     0.23123,     0.23223,     0.23323,     0.23423,     0.23524,     0.23624,     0.23724,     0.23824,     0.23924,\n",
      "           0.24024,     0.24124,     0.24224,     0.24324,     0.24424,     0.24525,     0.24625,     0.24725,     0.24825,     0.24925,     0.25025,     0.25125,     0.25225,     0.25325,     0.25425,     0.25526,     0.25626,     0.25726,     0.25826,     0.25926,     0.26026,     0.26126,     0.26226,     0.26326,\n",
      "           0.26426,     0.26527,     0.26627,     0.26727,     0.26827,     0.26927,     0.27027,     0.27127,     0.27227,     0.27327,     0.27427,     0.27528,     0.27628,     0.27728,     0.27828,     0.27928,     0.28028,     0.28128,     0.28228,     0.28328,     0.28428,     0.28529,     0.28629,     0.28729,\n",
      "           0.28829,     0.28929,     0.29029,     0.29129,     0.29229,     0.29329,     0.29429,      0.2953,      0.2963,      0.2973,      0.2983,      0.2993,      0.3003,      0.3013,      0.3023,      0.3033,      0.3043,     0.30531,     0.30631,     0.30731,     0.30831,     0.30931,     0.31031,     0.31131,\n",
      "           0.31231,     0.31331,     0.31431,     0.31532,     0.31632,     0.31732,     0.31832,     0.31932,     0.32032,     0.32132,     0.32232,     0.32332,     0.32432,     0.32533,     0.32633,     0.32733,     0.32833,     0.32933,     0.33033,     0.33133,     0.33233,     0.33333,     0.33433,     0.33534,\n",
      "           0.33634,     0.33734,     0.33834,     0.33934,     0.34034,     0.34134,     0.34234,     0.34334,     0.34434,     0.34535,     0.34635,     0.34735,     0.34835,     0.34935,     0.35035,     0.35135,     0.35235,     0.35335,     0.35435,     0.35536,     0.35636,     0.35736,     0.35836,     0.35936,\n",
      "           0.36036,     0.36136,     0.36236,     0.36336,     0.36436,     0.36537,     0.36637,     0.36737,     0.36837,     0.36937,     0.37037,     0.37137,     0.37237,     0.37337,     0.37437,     0.37538,     0.37638,     0.37738,     0.37838,     0.37938,     0.38038,     0.38138,     0.38238,     0.38338,\n",
      "           0.38438,     0.38539,     0.38639,     0.38739,     0.38839,     0.38939,     0.39039,     0.39139,     0.39239,     0.39339,     0.39439,      0.3954,      0.3964,      0.3974,      0.3984,      0.3994,      0.4004,      0.4014,      0.4024,      0.4034,      0.4044,     0.40541,     0.40641,     0.40741,\n",
      "           0.40841,     0.40941,     0.41041,     0.41141,     0.41241,     0.41341,     0.41441,     0.41542,     0.41642,     0.41742,     0.41842,     0.41942,     0.42042,     0.42142,     0.42242,     0.42342,     0.42442,     0.42543,     0.42643,     0.42743,     0.42843,     0.42943,     0.43043,     0.43143,\n",
      "           0.43243,     0.43343,     0.43443,     0.43544,     0.43644,     0.43744,     0.43844,     0.43944,     0.44044,     0.44144,     0.44244,     0.44344,     0.44444,     0.44545,     0.44645,     0.44745,     0.44845,     0.44945,     0.45045,     0.45145,     0.45245,     0.45345,     0.45445,     0.45546,\n",
      "           0.45646,     0.45746,     0.45846,     0.45946,     0.46046,     0.46146,     0.46246,     0.46346,     0.46446,     0.46547,     0.46647,     0.46747,     0.46847,     0.46947,     0.47047,     0.47147,     0.47247,     0.47347,     0.47447,     0.47548,     0.47648,     0.47748,     0.47848,     0.47948,\n",
      "           0.48048,     0.48148,     0.48248,     0.48348,     0.48448,     0.48549,     0.48649,     0.48749,     0.48849,     0.48949,     0.49049,     0.49149,     0.49249,     0.49349,     0.49449,      0.4955,      0.4965,      0.4975,      0.4985,      0.4995,      0.5005,      0.5015,      0.5025,      0.5035,\n",
      "            0.5045,     0.50551,     0.50651,     0.50751,     0.50851,     0.50951,     0.51051,     0.51151,     0.51251,     0.51351,     0.51451,     0.51552,     0.51652,     0.51752,     0.51852,     0.51952,     0.52052,     0.52152,     0.52252,     0.52352,     0.52452,     0.52553,     0.52653,     0.52753,\n",
      "           0.52853,     0.52953,     0.53053,     0.53153,     0.53253,     0.53353,     0.53453,     0.53554,     0.53654,     0.53754,     0.53854,     0.53954,     0.54054,     0.54154,     0.54254,     0.54354,     0.54454,     0.54555,     0.54655,     0.54755,     0.54855,     0.54955,     0.55055,     0.55155,\n",
      "           0.55255,     0.55355,     0.55455,     0.55556,     0.55656,     0.55756,     0.55856,     0.55956,     0.56056,     0.56156,     0.56256,     0.56356,     0.56456,     0.56557,     0.56657,     0.56757,     0.56857,     0.56957,     0.57057,     0.57157,     0.57257,     0.57357,     0.57457,     0.57558,\n",
      "           0.57658,     0.57758,     0.57858,     0.57958,     0.58058,     0.58158,     0.58258,     0.58358,     0.58458,     0.58559,     0.58659,     0.58759,     0.58859,     0.58959,     0.59059,     0.59159,     0.59259,     0.59359,     0.59459,      0.5956,      0.5966,      0.5976,      0.5986,      0.5996,\n",
      "            0.6006,      0.6016,      0.6026,      0.6036,      0.6046,     0.60561,     0.60661,     0.60761,     0.60861,     0.60961,     0.61061,     0.61161,     0.61261,     0.61361,     0.61461,     0.61562,     0.61662,     0.61762,     0.61862,     0.61962,     0.62062,     0.62162,     0.62262,     0.62362,\n",
      "           0.62462,     0.62563,     0.62663,     0.62763,     0.62863,     0.62963,     0.63063,     0.63163,     0.63263,     0.63363,     0.63463,     0.63564,     0.63664,     0.63764,     0.63864,     0.63964,     0.64064,     0.64164,     0.64264,     0.64364,     0.64464,     0.64565,     0.64665,     0.64765,\n",
      "           0.64865,     0.64965,     0.65065,     0.65165,     0.65265,     0.65365,     0.65465,     0.65566,     0.65666,     0.65766,     0.65866,     0.65966,     0.66066,     0.66166,     0.66266,     0.66366,     0.66466,     0.66567,     0.66667,     0.66767,     0.66867,     0.66967,     0.67067,     0.67167,\n",
      "           0.67267,     0.67367,     0.67467,     0.67568,     0.67668,     0.67768,     0.67868,     0.67968,     0.68068,     0.68168,     0.68268,     0.68368,     0.68468,     0.68569,     0.68669,     0.68769,     0.68869,     0.68969,     0.69069,     0.69169,     0.69269,     0.69369,     0.69469,      0.6957,\n",
      "            0.6967,      0.6977,      0.6987,      0.6997,      0.7007,      0.7017,      0.7027,      0.7037,      0.7047,     0.70571,     0.70671,     0.70771,     0.70871,     0.70971,     0.71071,     0.71171,     0.71271,     0.71371,     0.71471,     0.71572,     0.71672,     0.71772,     0.71872,     0.71972,\n",
      "           0.72072,     0.72172,     0.72272,     0.72372,     0.72472,     0.72573,     0.72673,     0.72773,     0.72873,     0.72973,     0.73073,     0.73173,     0.73273,     0.73373,     0.73473,     0.73574,     0.73674,     0.73774,     0.73874,     0.73974,     0.74074,     0.74174,     0.74274,     0.74374,\n",
      "           0.74474,     0.74575,     0.74675,     0.74775,     0.74875,     0.74975,     0.75075,     0.75175,     0.75275,     0.75375,     0.75475,     0.75576,     0.75676,     0.75776,     0.75876,     0.75976,     0.76076,     0.76176,     0.76276,     0.76376,     0.76476,     0.76577,     0.76677,     0.76777,\n",
      "           0.76877,     0.76977,     0.77077,     0.77177,     0.77277,     0.77377,     0.77477,     0.77578,     0.77678,     0.77778,     0.77878,     0.77978,     0.78078,     0.78178,     0.78278,     0.78378,     0.78478,     0.78579,     0.78679,     0.78779,     0.78879,     0.78979,     0.79079,     0.79179,\n",
      "           0.79279,     0.79379,     0.79479,      0.7958,      0.7968,      0.7978,      0.7988,      0.7998,      0.8008,      0.8018,      0.8028,      0.8038,      0.8048,     0.80581,     0.80681,     0.80781,     0.80881,     0.80981,     0.81081,     0.81181,     0.81281,     0.81381,     0.81481,     0.81582,\n",
      "           0.81682,     0.81782,     0.81882,     0.81982,     0.82082,     0.82182,     0.82282,     0.82382,     0.82482,     0.82583,     0.82683,     0.82783,     0.82883,     0.82983,     0.83083,     0.83183,     0.83283,     0.83383,     0.83483,     0.83584,     0.83684,     0.83784,     0.83884,     0.83984,\n",
      "           0.84084,     0.84184,     0.84284,     0.84384,     0.84484,     0.84585,     0.84685,     0.84785,     0.84885,     0.84985,     0.85085,     0.85185,     0.85285,     0.85385,     0.85485,     0.85586,     0.85686,     0.85786,     0.85886,     0.85986,     0.86086,     0.86186,     0.86286,     0.86386,\n",
      "           0.86486,     0.86587,     0.86687,     0.86787,     0.86887,     0.86987,     0.87087,     0.87187,     0.87287,     0.87387,     0.87487,     0.87588,     0.87688,     0.87788,     0.87888,     0.87988,     0.88088,     0.88188,     0.88288,     0.88388,     0.88488,     0.88589,     0.88689,     0.88789,\n",
      "           0.88889,     0.88989,     0.89089,     0.89189,     0.89289,     0.89389,     0.89489,      0.8959,      0.8969,      0.8979,      0.8989,      0.8999,      0.9009,      0.9019,      0.9029,      0.9039,      0.9049,     0.90591,     0.90691,     0.90791,     0.90891,     0.90991,     0.91091,     0.91191,\n",
      "           0.91291,     0.91391,     0.91491,     0.91592,     0.91692,     0.91792,     0.91892,     0.91992,     0.92092,     0.92192,     0.92292,     0.92392,     0.92492,     0.92593,     0.92693,     0.92793,     0.92893,     0.92993,     0.93093,     0.93193,     0.93293,     0.93393,     0.93493,     0.93594,\n",
      "           0.93694,     0.93794,     0.93894,     0.93994,     0.94094,     0.94194,     0.94294,     0.94394,     0.94494,     0.94595,     0.94695,     0.94795,     0.94895,     0.94995,     0.95095,     0.95195,     0.95295,     0.95395,     0.95495,     0.95596,     0.95696,     0.95796,     0.95896,     0.95996,\n",
      "           0.96096,     0.96196,     0.96296,     0.96396,     0.96496,     0.96597,     0.96697,     0.96797,     0.96897,     0.96997,     0.97097,     0.97197,     0.97297,     0.97397,     0.97497,     0.97598,     0.97698,     0.97798,     0.97898,     0.97998,     0.98098,     0.98198,     0.98298,     0.98398,\n",
      "           0.98498,     0.98599,     0.98699,     0.98799,     0.98899,     0.98999,     0.99099,     0.99199,     0.99299,     0.99399,     0.99499,       0.996,       0.997,       0.998,       0.999,           1]), array([[    0.40891,     0.40891,     0.43747,     0.48206,     0.51264,     0.52027,     0.52085,     0.52923,     0.53424,     0.54185,     0.55154,     0.55589,     0.56398,     0.56492,     0.56585,     0.56679,      0.5695,     0.57231,     0.57371,     0.57147,     0.57723,     0.57892,     0.58061,\n",
      "            0.58964,     0.59073,     0.59181,      0.5929,     0.59635,     0.60037,     0.60805,     0.61131,     0.61403,     0.61529,     0.61655,     0.61782,     0.61777,     0.61741,     0.61705,     0.61669,     0.61634,     0.61598,     0.61562,     0.61572,     0.61671,      0.6177,     0.61869,\n",
      "            0.61968,     0.62194,     0.62416,     0.62511,     0.62605,       0.627,     0.62794,     0.63163,     0.63417,     0.63545,     0.63674,      0.6383,     0.64062,     0.64259,     0.64355,     0.64452,     0.64548,     0.64645,     0.64579,      0.6469,     0.64947,     0.64998,     0.65049,\n",
      "              0.651,     0.65151,     0.65202,     0.65253,     0.65305,     0.65356,     0.65407,       0.657,     0.66005,     0.66268,     0.66498,     0.66687,     0.66877,     0.66966,     0.67023,     0.67079,     0.67136,     0.67193,     0.67249,     0.67306,     0.67363,     0.67419,     0.67543,\n",
      "             0.6771,     0.67877,     0.68597,     0.68803,     0.69008,     0.69106,     0.69179,     0.69252,     0.69324,     0.69397,     0.69469,     0.69542,     0.69568,     0.69405,     0.69227,     0.69137,     0.69227,     0.69317,     0.69406,     0.69496,     0.69586,     0.69674,     0.69724,\n",
      "            0.69773,     0.69822,     0.69872,     0.69921,     0.69971,      0.7002,     0.70069,     0.70119,     0.70168,     0.70218,     0.70272,     0.70335,     0.70398,     0.70461,     0.70524,     0.70587,     0.70651,     0.70714,     0.70777,     0.70832,     0.70821,      0.7081,     0.70799,\n",
      "            0.70787,     0.70776,     0.70765,     0.70754,     0.70742,     0.70731,      0.7072,     0.70709,     0.70698,     0.70686,     0.70675,     0.70664,     0.70653,     0.70641,      0.7063,     0.70619,     0.70608,     0.70596,     0.70581,     0.70555,      0.7053,     0.70504,     0.70478,\n",
      "            0.70452,     0.70426,       0.704,     0.70375,     0.70349,     0.70965,     0.71005,     0.71044,     0.71084,     0.71124,     0.71164,     0.71204,     0.71243,     0.71283,     0.71323,     0.71363,     0.71402,     0.71442,     0.71482,     0.71522,     0.71548,     0.71531,     0.71514,\n",
      "            0.71497,      0.7148,     0.71463,     0.71446,     0.71429,     0.71412,     0.71395,     0.71379,     0.71362,     0.71345,     0.71328,     0.71311,     0.71354,     0.71435,     0.71516,     0.71597,     0.71678,     0.71759,      0.7184,     0.71921,      0.7192,     0.71908,     0.71897,\n",
      "            0.71885,     0.71874,     0.71862,     0.71851,     0.71839,     0.71828,     0.71816,     0.71805,     0.71793,     0.71782,      0.7177,     0.71759,     0.71747,     0.71736,     0.71724,     0.71713,     0.71701,      0.7169,      0.7181,     0.72256,     0.72474,     0.72653,     0.72832,\n",
      "            0.72978,     0.73001,     0.73024,     0.73048,     0.73071,     0.73094,     0.73117,      0.7314,     0.73164,     0.73187,      0.7321,     0.73233,     0.73256,      0.7328,     0.73303,     0.73326,     0.73349,     0.73372,     0.73396,     0.73419,     0.73442,     0.73465,     0.73488,\n",
      "            0.73512,     0.73535,     0.73558,     0.73581,     0.73604,     0.73628,     0.73747,     0.73926,     0.74105,     0.74284,     0.74301,     0.74287,     0.74274,      0.7426,     0.74247,     0.74233,      0.7422,     0.74206,     0.74193,     0.74179,     0.74166,     0.74152,     0.74139,\n",
      "            0.74125,     0.74112,     0.74098,     0.74085,     0.74076,     0.74084,     0.74092,     0.74101,     0.74109,     0.74117,     0.74126,     0.74134,     0.74142,      0.7415,     0.74159,     0.74167,     0.74175,     0.74184,     0.74192,       0.742,     0.74208,     0.74217,     0.74225,\n",
      "            0.74233,     0.74242,      0.7425,     0.74258,     0.74267,     0.74275,     0.74283,     0.74291,       0.743,     0.74308,     0.74316,     0.74325,     0.74333,     0.74341,     0.74349,     0.74358,     0.74366,     0.74374,     0.74383,     0.74391,     0.74399,     0.74407,     0.74416,\n",
      "            0.74424,     0.74432,     0.74441,     0.74449,     0.74457,     0.74465,     0.74474,     0.74482,      0.7449,     0.74499,     0.74507,     0.74515,     0.74524,     0.74532,      0.7454,     0.74548,     0.74557,     0.74565,     0.74573,     0.74582,      0.7459,     0.74598,     0.74606,\n",
      "            0.74615,     0.74623,     0.74631,      0.7464,     0.74648,     0.74656,     0.74664,     0.74673,     0.74681,     0.74689,     0.74698,     0.74706,     0.74714,     0.74722,     0.74731,     0.74739,     0.74747,     0.74756,     0.74764,     0.74893,     0.75073,     0.75252,     0.75432,\n",
      "            0.75453,      0.7543,     0.75406,     0.75383,     0.75359,     0.75336,     0.75312,     0.75289,     0.75265,     0.75242,     0.75327,     0.75433,      0.7554,     0.75646,     0.75752,     0.75858,     0.75961,     0.75946,     0.75931,     0.75916,     0.75901,     0.75886,     0.75871,\n",
      "            0.75856,     0.75841,     0.75825,      0.7581,     0.75795,      0.7578,     0.75765,      0.7575,     0.75735,     0.75711,     0.75679,     0.75648,     0.75617,     0.75585,     0.75554,     0.75522,     0.75491,     0.75558,     0.75626,     0.75694,     0.75762,     0.75831,     0.75899,\n",
      "            0.75967,     0.76036,     0.76104,     0.76172,      0.7624,     0.76297,     0.76353,      0.7641,     0.76466,     0.76523,      0.7658,     0.76636,     0.76693,      0.7675,     0.76806,     0.76863,     0.76919,     0.76976,     0.77024,     0.77065,     0.77107,     0.77148,      0.7719,\n",
      "            0.77231,     0.77273,     0.77314,     0.77355,     0.77397,     0.77438,      0.7748,     0.77521,     0.77563,     0.77604,     0.77646,     0.77687,     0.77728,      0.7777,     0.77775,     0.77771,     0.77767,     0.77763,     0.77759,     0.77756,     0.77752,     0.77748,     0.77744,\n",
      "             0.7774,     0.77737,     0.77733,     0.77729,     0.77725,     0.77721,     0.77718,     0.77714,      0.7771,     0.77706,     0.77702,     0.77698,     0.77695,     0.77691,     0.77687,     0.77683,     0.77679,     0.77676,     0.77672,     0.77668,     0.77664,      0.7766,     0.77657,\n",
      "            0.77653,     0.77649,     0.77645,     0.77641,     0.77638,     0.77634,      0.7763,     0.77626,     0.77622,     0.77618,     0.77615,     0.77611,     0.77607,     0.77603,     0.77599,     0.77596,     0.77592,     0.77588,     0.77584,      0.7758,     0.77577,     0.77573,     0.77569,\n",
      "            0.77565,     0.77561,     0.77558,     0.77554,     0.77591,     0.77727,     0.77863,        0.78,     0.78136,     0.78273,     0.78349,     0.78345,      0.7834,     0.78336,     0.78332,     0.78328,     0.78324,     0.78319,     0.78315,     0.78311,     0.78307,     0.78303,     0.78298,\n",
      "            0.78294,      0.7829,     0.78286,     0.78282,     0.78277,     0.78273,     0.78269,     0.78265,     0.78261,     0.78256,     0.78252,     0.78248,     0.78244,      0.7824,     0.78235,     0.78231,     0.78227,     0.78223,     0.78219,     0.78214,      0.7821,     0.78206,     0.78202,\n",
      "            0.78198,     0.78193,     0.78189,     0.78185,     0.78181,     0.78177,     0.78172,     0.78168,     0.78164,      0.7816,     0.78156,     0.78151,     0.78147,     0.78143,     0.78139,     0.78135,      0.7813,     0.78126,     0.78151,     0.78188,     0.78224,     0.78261,     0.78298,\n",
      "            0.78334,     0.78371,     0.78408,     0.78444,     0.78481,     0.78517,     0.78554,     0.78591,     0.78627,     0.78664,     0.78701,     0.78737,     0.78774,      0.7881,     0.78847,     0.78884,      0.7892,     0.78956,     0.78991,     0.79026,     0.79061,     0.79095,      0.7913,\n",
      "            0.79165,     0.79199,     0.79234,     0.79269,     0.79303,     0.79338,     0.79373,     0.79407,     0.79442,     0.79477,     0.79511,     0.79546,     0.79581,     0.79615,      0.7965,     0.79685,     0.79719,     0.79754,     0.79861,     0.80671,      0.8072,     0.80769,     0.80818,\n",
      "            0.80867,     0.80916,     0.80965,     0.81014,     0.81063,     0.81113,     0.81162,     0.81211,      0.8126,     0.81309,     0.81358,     0.81407,     0.81456,     0.81505,      0.8137,     0.81309,     0.81296,     0.81283,      0.8127,     0.81258,     0.81245,     0.81232,     0.81219,\n",
      "            0.81207,     0.81194,     0.81181,     0.81168,     0.81155,     0.81143,      0.8113,     0.81117,     0.81091,     0.81053,     0.81015,     0.80978,      0.8094,     0.80902,     0.80888,     0.80876,     0.80864,     0.80852,     0.80841,     0.80829,     0.80817,     0.80805,     0.80793,\n",
      "            0.80781,     0.80769,     0.80758,     0.80746,     0.80734,     0.80722,      0.8071,     0.80698,     0.80686,     0.80678,     0.80671,     0.80664,     0.80657,     0.80651,     0.80644,     0.80637,      0.8063,     0.80624,     0.80617,      0.8061,     0.80604,     0.80597,      0.8059,\n",
      "            0.80583,     0.80577,      0.8057,     0.80563,     0.80556,      0.8055,     0.80543,     0.80536,     0.80529,     0.80523,     0.80516,     0.80509,     0.80502,     0.80496,     0.80489,     0.80482,     0.80476,     0.80469,     0.80462,     0.80377,     0.80251,     0.80566,     0.80958,\n",
      "            0.81062,     0.80975,     0.81013,     0.81052,     0.81091,     0.81129,     0.81168,     0.81207,     0.81245,     0.81284,     0.81323,     0.81361,       0.814,     0.81439,     0.81477,     0.81516,     0.81555,     0.81593,     0.81632,     0.81671,     0.81709,     0.81748,     0.81787,\n",
      "            0.81825,     0.81864,     0.81903,     0.82993,     0.83182,      0.8337,     0.83559,     0.83747,     0.83936,       0.839,     0.83844,     0.83789,     0.83738,     0.83698,     0.83658,     0.83617,     0.83577,     0.83532,     0.83467,     0.83401,     0.83336,     0.84335,     0.84252,\n",
      "            0.84285,     0.84433,      0.8458,     0.84727,     0.84874,     0.85022,     0.85169,     0.85316,     0.85297,     0.85257,     0.85216,     0.85176,     0.85136,     0.85864,     0.86252,     0.86129,     0.86217,     0.86341,     0.86465,     0.86589,     0.86713,     0.86837,     0.86961,\n",
      "            0.87085,     0.87209,     0.87333,     0.87453,     0.87573,     0.87694,     0.87814,     0.87934,     0.88054,     0.88175,     0.88295,     0.88415,     0.88536,     0.88522,     0.88452,     0.89744,     0.89857,      0.8997,     0.90083,     0.90196,     0.90309,     0.90421,     0.90534,\n",
      "            0.90647,      0.9076,     0.90873,     0.90986,     0.91152,     0.91377,     0.91602,     0.91827,     0.92051,     0.92276,     0.92417,     0.92396,     0.92375,     0.92353,     0.92332,     0.92311,     0.92675,     0.93112,     0.93549,     0.93651,     0.93634,     0.93617,       0.936,\n",
      "            0.93583,     0.93566,     0.93549,     0.93517,     0.93486,     0.93454,     0.93307,     0.93255,     0.93112,     0.93032,     0.92963,     0.92903,     0.92838,     0.92758,     0.92641,     0.92565,     0.92523,     0.92481,     0.92435,      0.9335,     0.94114,     0.94091,     0.94068,\n",
      "            0.94045,     0.94022,     0.94216,     0.95852,     0.95701,     0.95645,     0.95595,     0.95549,     0.95521,     0.95492,     0.95463,     0.97643,      0.9758,     0.97527,     0.97484,     0.97445,     0.97426,     0.97414,     0.97401,     0.97388,     0.97375,     0.97362,     0.97346,\n",
      "             0.9733,     0.97315,     0.97299,     0.97255,     0.97142,     0.97117,     0.97091,     0.97065,     0.96863,     0.96641,     0.96468,      0.9692,     0.98225,      0.9953,           1,           1,           1,           1,           1,           1,           1,           1,           1,\n",
      "                  1,           1,           1,           1,           1,           1,           1,           1,           1,           1,           1,           1,           1,           1,           1,           1,           1,           1,           1,           1,           1,           1,           1,\n",
      "                  1,           1,           1,           1,           1,           1,           1,           1,           1,           1,           1,           1,           1,           1,           1,           1,           1,           1,           1,           1,           1,           1,           1,\n",
      "                  1,           1,           1,           1,           1,           1,           1,           1,           1,           1,           1,           1,           1,           1,           1,           1,           1,           1,           1,           1,           1,           1,           1,\n",
      "                  1,           1,           1,           1,           1,           1,           1,           1,           1,           1,           1,           1,           1,           1,           1,           1,           1,           1,           1,           1,           1,           1,           1,\n",
      "                  1,           1,           1,           1,           1,           1,           1,           1,           1,           1,           1]]), 'Confidence', 'Precision'], [array([          0,    0.001001,    0.002002,    0.003003,    0.004004,    0.005005,    0.006006,    0.007007,    0.008008,    0.009009,     0.01001,    0.011011,    0.012012,    0.013013,    0.014014,    0.015015,    0.016016,    0.017017,    0.018018,    0.019019,     0.02002,    0.021021,    0.022022,    0.023023,\n",
      "          0.024024,    0.025025,    0.026026,    0.027027,    0.028028,    0.029029,     0.03003,    0.031031,    0.032032,    0.033033,    0.034034,    0.035035,    0.036036,    0.037037,    0.038038,    0.039039,     0.04004,    0.041041,    0.042042,    0.043043,    0.044044,    0.045045,    0.046046,    0.047047,\n",
      "          0.048048,    0.049049,     0.05005,    0.051051,    0.052052,    0.053053,    0.054054,    0.055055,    0.056056,    0.057057,    0.058058,    0.059059,     0.06006,    0.061061,    0.062062,    0.063063,    0.064064,    0.065065,    0.066066,    0.067067,    0.068068,    0.069069,     0.07007,    0.071071,\n",
      "          0.072072,    0.073073,    0.074074,    0.075075,    0.076076,    0.077077,    0.078078,    0.079079,     0.08008,    0.081081,    0.082082,    0.083083,    0.084084,    0.085085,    0.086086,    0.087087,    0.088088,    0.089089,     0.09009,    0.091091,    0.092092,    0.093093,    0.094094,    0.095095,\n",
      "          0.096096,    0.097097,    0.098098,    0.099099,      0.1001,      0.1011,      0.1021,      0.1031,      0.1041,     0.10511,     0.10611,     0.10711,     0.10811,     0.10911,     0.11011,     0.11111,     0.11211,     0.11311,     0.11411,     0.11512,     0.11612,     0.11712,     0.11812,     0.11912,\n",
      "           0.12012,     0.12112,     0.12212,     0.12312,     0.12412,     0.12513,     0.12613,     0.12713,     0.12813,     0.12913,     0.13013,     0.13113,     0.13213,     0.13313,     0.13413,     0.13514,     0.13614,     0.13714,     0.13814,     0.13914,     0.14014,     0.14114,     0.14214,     0.14314,\n",
      "           0.14414,     0.14515,     0.14615,     0.14715,     0.14815,     0.14915,     0.15015,     0.15115,     0.15215,     0.15315,     0.15415,     0.15516,     0.15616,     0.15716,     0.15816,     0.15916,     0.16016,     0.16116,     0.16216,     0.16316,     0.16416,     0.16517,     0.16617,     0.16717,\n",
      "           0.16817,     0.16917,     0.17017,     0.17117,     0.17217,     0.17317,     0.17417,     0.17518,     0.17618,     0.17718,     0.17818,     0.17918,     0.18018,     0.18118,     0.18218,     0.18318,     0.18418,     0.18519,     0.18619,     0.18719,     0.18819,     0.18919,     0.19019,     0.19119,\n",
      "           0.19219,     0.19319,     0.19419,      0.1952,      0.1962,      0.1972,      0.1982,      0.1992,      0.2002,      0.2012,      0.2022,      0.2032,      0.2042,     0.20521,     0.20621,     0.20721,     0.20821,     0.20921,     0.21021,     0.21121,     0.21221,     0.21321,     0.21421,     0.21522,\n",
      "           0.21622,     0.21722,     0.21822,     0.21922,     0.22022,     0.22122,     0.22222,     0.22322,     0.22422,     0.22523,     0.22623,     0.22723,     0.22823,     0.22923,     0.23023,     0.23123,     0.23223,     0.23323,     0.23423,     0.23524,     0.23624,     0.23724,     0.23824,     0.23924,\n",
      "           0.24024,     0.24124,     0.24224,     0.24324,     0.24424,     0.24525,     0.24625,     0.24725,     0.24825,     0.24925,     0.25025,     0.25125,     0.25225,     0.25325,     0.25425,     0.25526,     0.25626,     0.25726,     0.25826,     0.25926,     0.26026,     0.26126,     0.26226,     0.26326,\n",
      "           0.26426,     0.26527,     0.26627,     0.26727,     0.26827,     0.26927,     0.27027,     0.27127,     0.27227,     0.27327,     0.27427,     0.27528,     0.27628,     0.27728,     0.27828,     0.27928,     0.28028,     0.28128,     0.28228,     0.28328,     0.28428,     0.28529,     0.28629,     0.28729,\n",
      "           0.28829,     0.28929,     0.29029,     0.29129,     0.29229,     0.29329,     0.29429,      0.2953,      0.2963,      0.2973,      0.2983,      0.2993,      0.3003,      0.3013,      0.3023,      0.3033,      0.3043,     0.30531,     0.30631,     0.30731,     0.30831,     0.30931,     0.31031,     0.31131,\n",
      "           0.31231,     0.31331,     0.31431,     0.31532,     0.31632,     0.31732,     0.31832,     0.31932,     0.32032,     0.32132,     0.32232,     0.32332,     0.32432,     0.32533,     0.32633,     0.32733,     0.32833,     0.32933,     0.33033,     0.33133,     0.33233,     0.33333,     0.33433,     0.33534,\n",
      "           0.33634,     0.33734,     0.33834,     0.33934,     0.34034,     0.34134,     0.34234,     0.34334,     0.34434,     0.34535,     0.34635,     0.34735,     0.34835,     0.34935,     0.35035,     0.35135,     0.35235,     0.35335,     0.35435,     0.35536,     0.35636,     0.35736,     0.35836,     0.35936,\n",
      "           0.36036,     0.36136,     0.36236,     0.36336,     0.36436,     0.36537,     0.36637,     0.36737,     0.36837,     0.36937,     0.37037,     0.37137,     0.37237,     0.37337,     0.37437,     0.37538,     0.37638,     0.37738,     0.37838,     0.37938,     0.38038,     0.38138,     0.38238,     0.38338,\n",
      "           0.38438,     0.38539,     0.38639,     0.38739,     0.38839,     0.38939,     0.39039,     0.39139,     0.39239,     0.39339,     0.39439,      0.3954,      0.3964,      0.3974,      0.3984,      0.3994,      0.4004,      0.4014,      0.4024,      0.4034,      0.4044,     0.40541,     0.40641,     0.40741,\n",
      "           0.40841,     0.40941,     0.41041,     0.41141,     0.41241,     0.41341,     0.41441,     0.41542,     0.41642,     0.41742,     0.41842,     0.41942,     0.42042,     0.42142,     0.42242,     0.42342,     0.42442,     0.42543,     0.42643,     0.42743,     0.42843,     0.42943,     0.43043,     0.43143,\n",
      "           0.43243,     0.43343,     0.43443,     0.43544,     0.43644,     0.43744,     0.43844,     0.43944,     0.44044,     0.44144,     0.44244,     0.44344,     0.44444,     0.44545,     0.44645,     0.44745,     0.44845,     0.44945,     0.45045,     0.45145,     0.45245,     0.45345,     0.45445,     0.45546,\n",
      "           0.45646,     0.45746,     0.45846,     0.45946,     0.46046,     0.46146,     0.46246,     0.46346,     0.46446,     0.46547,     0.46647,     0.46747,     0.46847,     0.46947,     0.47047,     0.47147,     0.47247,     0.47347,     0.47447,     0.47548,     0.47648,     0.47748,     0.47848,     0.47948,\n",
      "           0.48048,     0.48148,     0.48248,     0.48348,     0.48448,     0.48549,     0.48649,     0.48749,     0.48849,     0.48949,     0.49049,     0.49149,     0.49249,     0.49349,     0.49449,      0.4955,      0.4965,      0.4975,      0.4985,      0.4995,      0.5005,      0.5015,      0.5025,      0.5035,\n",
      "            0.5045,     0.50551,     0.50651,     0.50751,     0.50851,     0.50951,     0.51051,     0.51151,     0.51251,     0.51351,     0.51451,     0.51552,     0.51652,     0.51752,     0.51852,     0.51952,     0.52052,     0.52152,     0.52252,     0.52352,     0.52452,     0.52553,     0.52653,     0.52753,\n",
      "           0.52853,     0.52953,     0.53053,     0.53153,     0.53253,     0.53353,     0.53453,     0.53554,     0.53654,     0.53754,     0.53854,     0.53954,     0.54054,     0.54154,     0.54254,     0.54354,     0.54454,     0.54555,     0.54655,     0.54755,     0.54855,     0.54955,     0.55055,     0.55155,\n",
      "           0.55255,     0.55355,     0.55455,     0.55556,     0.55656,     0.55756,     0.55856,     0.55956,     0.56056,     0.56156,     0.56256,     0.56356,     0.56456,     0.56557,     0.56657,     0.56757,     0.56857,     0.56957,     0.57057,     0.57157,     0.57257,     0.57357,     0.57457,     0.57558,\n",
      "           0.57658,     0.57758,     0.57858,     0.57958,     0.58058,     0.58158,     0.58258,     0.58358,     0.58458,     0.58559,     0.58659,     0.58759,     0.58859,     0.58959,     0.59059,     0.59159,     0.59259,     0.59359,     0.59459,      0.5956,      0.5966,      0.5976,      0.5986,      0.5996,\n",
      "            0.6006,      0.6016,      0.6026,      0.6036,      0.6046,     0.60561,     0.60661,     0.60761,     0.60861,     0.60961,     0.61061,     0.61161,     0.61261,     0.61361,     0.61461,     0.61562,     0.61662,     0.61762,     0.61862,     0.61962,     0.62062,     0.62162,     0.62262,     0.62362,\n",
      "           0.62462,     0.62563,     0.62663,     0.62763,     0.62863,     0.62963,     0.63063,     0.63163,     0.63263,     0.63363,     0.63463,     0.63564,     0.63664,     0.63764,     0.63864,     0.63964,     0.64064,     0.64164,     0.64264,     0.64364,     0.64464,     0.64565,     0.64665,     0.64765,\n",
      "           0.64865,     0.64965,     0.65065,     0.65165,     0.65265,     0.65365,     0.65465,     0.65566,     0.65666,     0.65766,     0.65866,     0.65966,     0.66066,     0.66166,     0.66266,     0.66366,     0.66466,     0.66567,     0.66667,     0.66767,     0.66867,     0.66967,     0.67067,     0.67167,\n",
      "           0.67267,     0.67367,     0.67467,     0.67568,     0.67668,     0.67768,     0.67868,     0.67968,     0.68068,     0.68168,     0.68268,     0.68368,     0.68468,     0.68569,     0.68669,     0.68769,     0.68869,     0.68969,     0.69069,     0.69169,     0.69269,     0.69369,     0.69469,      0.6957,\n",
      "            0.6967,      0.6977,      0.6987,      0.6997,      0.7007,      0.7017,      0.7027,      0.7037,      0.7047,     0.70571,     0.70671,     0.70771,     0.70871,     0.70971,     0.71071,     0.71171,     0.71271,     0.71371,     0.71471,     0.71572,     0.71672,     0.71772,     0.71872,     0.71972,\n",
      "           0.72072,     0.72172,     0.72272,     0.72372,     0.72472,     0.72573,     0.72673,     0.72773,     0.72873,     0.72973,     0.73073,     0.73173,     0.73273,     0.73373,     0.73473,     0.73574,     0.73674,     0.73774,     0.73874,     0.73974,     0.74074,     0.74174,     0.74274,     0.74374,\n",
      "           0.74474,     0.74575,     0.74675,     0.74775,     0.74875,     0.74975,     0.75075,     0.75175,     0.75275,     0.75375,     0.75475,     0.75576,     0.75676,     0.75776,     0.75876,     0.75976,     0.76076,     0.76176,     0.76276,     0.76376,     0.76476,     0.76577,     0.76677,     0.76777,\n",
      "           0.76877,     0.76977,     0.77077,     0.77177,     0.77277,     0.77377,     0.77477,     0.77578,     0.77678,     0.77778,     0.77878,     0.77978,     0.78078,     0.78178,     0.78278,     0.78378,     0.78478,     0.78579,     0.78679,     0.78779,     0.78879,     0.78979,     0.79079,     0.79179,\n",
      "           0.79279,     0.79379,     0.79479,      0.7958,      0.7968,      0.7978,      0.7988,      0.7998,      0.8008,      0.8018,      0.8028,      0.8038,      0.8048,     0.80581,     0.80681,     0.80781,     0.80881,     0.80981,     0.81081,     0.81181,     0.81281,     0.81381,     0.81481,     0.81582,\n",
      "           0.81682,     0.81782,     0.81882,     0.81982,     0.82082,     0.82182,     0.82282,     0.82382,     0.82482,     0.82583,     0.82683,     0.82783,     0.82883,     0.82983,     0.83083,     0.83183,     0.83283,     0.83383,     0.83483,     0.83584,     0.83684,     0.83784,     0.83884,     0.83984,\n",
      "           0.84084,     0.84184,     0.84284,     0.84384,     0.84484,     0.84585,     0.84685,     0.84785,     0.84885,     0.84985,     0.85085,     0.85185,     0.85285,     0.85385,     0.85485,     0.85586,     0.85686,     0.85786,     0.85886,     0.85986,     0.86086,     0.86186,     0.86286,     0.86386,\n",
      "           0.86486,     0.86587,     0.86687,     0.86787,     0.86887,     0.86987,     0.87087,     0.87187,     0.87287,     0.87387,     0.87487,     0.87588,     0.87688,     0.87788,     0.87888,     0.87988,     0.88088,     0.88188,     0.88288,     0.88388,     0.88488,     0.88589,     0.88689,     0.88789,\n",
      "           0.88889,     0.88989,     0.89089,     0.89189,     0.89289,     0.89389,     0.89489,      0.8959,      0.8969,      0.8979,      0.8989,      0.8999,      0.9009,      0.9019,      0.9029,      0.9039,      0.9049,     0.90591,     0.90691,     0.90791,     0.90891,     0.90991,     0.91091,     0.91191,\n",
      "           0.91291,     0.91391,     0.91491,     0.91592,     0.91692,     0.91792,     0.91892,     0.91992,     0.92092,     0.92192,     0.92292,     0.92392,     0.92492,     0.92593,     0.92693,     0.92793,     0.92893,     0.92993,     0.93093,     0.93193,     0.93293,     0.93393,     0.93493,     0.93594,\n",
      "           0.93694,     0.93794,     0.93894,     0.93994,     0.94094,     0.94194,     0.94294,     0.94394,     0.94494,     0.94595,     0.94695,     0.94795,     0.94895,     0.94995,     0.95095,     0.95195,     0.95295,     0.95395,     0.95495,     0.95596,     0.95696,     0.95796,     0.95896,     0.95996,\n",
      "           0.96096,     0.96196,     0.96296,     0.96396,     0.96496,     0.96597,     0.96697,     0.96797,     0.96897,     0.96997,     0.97097,     0.97197,     0.97297,     0.97397,     0.97497,     0.97598,     0.97698,     0.97798,     0.97898,     0.97998,     0.98098,     0.98198,     0.98298,     0.98398,\n",
      "           0.98498,     0.98599,     0.98699,     0.98799,     0.98899,     0.98999,     0.99099,     0.99199,     0.99299,     0.99399,     0.99499,       0.996,       0.997,       0.998,       0.999,           1]), array([[    0.85593,     0.85593,     0.82203,     0.82203,     0.81356,     0.80508,     0.80146,     0.79661,     0.79661,     0.79661,     0.79661,     0.78814,     0.78814,     0.78814,     0.78814,     0.78814,     0.78814,     0.78248,     0.77556,      0.7685,     0.76271,     0.76271,     0.76271,\n",
      "            0.75424,     0.75424,     0.75424,     0.75424,     0.75424,     0.75424,     0.75424,     0.75424,     0.75424,     0.75424,     0.75424,     0.75424,     0.75332,     0.75218,     0.75105,     0.74992,     0.74878,     0.74765,     0.74651,     0.74576,     0.74576,     0.74576,     0.74576,\n",
      "            0.74576,     0.74576,     0.74576,     0.74576,     0.74576,     0.74576,     0.74576,     0.74576,     0.74576,     0.74576,     0.74576,     0.74576,     0.74576,     0.74576,     0.74576,     0.74576,     0.74576,     0.74576,     0.74166,     0.73729,     0.73729,     0.73729,     0.73729,\n",
      "            0.73729,     0.73729,     0.73729,     0.73729,     0.73729,     0.73729,     0.73729,     0.73729,     0.73729,     0.73729,     0.73729,     0.73729,     0.73729,     0.73729,     0.73729,     0.73729,     0.73729,     0.73729,     0.73729,     0.73729,     0.73729,     0.73729,     0.73729,\n",
      "            0.73729,     0.73729,     0.73729,     0.73729,     0.73729,     0.73729,     0.73729,     0.73729,     0.73729,     0.73729,     0.73729,     0.73729,     0.73617,     0.73056,     0.72446,     0.72034,     0.72034,     0.72034,     0.72034,     0.72034,     0.72034,     0.72034,     0.72034,\n",
      "            0.72034,     0.72034,     0.72034,     0.72034,     0.72034,     0.72034,     0.72034,     0.72034,     0.72034,     0.72034,     0.72034,     0.72034,     0.72034,     0.72034,     0.72034,     0.72034,     0.72034,     0.72034,     0.72034,      0.7203,     0.71991,     0.71952,     0.71914,\n",
      "            0.71875,     0.71836,     0.71797,     0.71758,      0.7172,     0.71681,     0.71642,     0.71603,     0.71564,     0.71525,     0.71487,     0.71448,     0.71409,      0.7137,     0.71331,     0.71293,     0.71254,     0.71215,     0.71163,     0.71075,     0.70987,     0.70899,     0.70811,\n",
      "            0.70724,     0.70636,     0.70548,      0.7046,     0.70372,     0.70339,     0.70339,     0.70339,     0.70339,     0.70339,     0.70339,     0.70339,     0.70339,     0.70339,     0.70339,     0.70339,     0.70339,     0.70339,     0.70339,     0.70339,     0.70325,     0.70267,     0.70209,\n",
      "            0.70151,     0.70093,     0.70035,     0.69977,     0.69919,     0.69862,     0.69804,     0.69746,     0.69688,      0.6963,     0.69572,     0.69514,     0.69492,     0.69492,     0.69492,     0.69492,     0.69492,     0.69492,     0.69492,     0.69492,     0.69457,     0.69417,     0.69378,\n",
      "            0.69339,       0.693,      0.6926,     0.69221,     0.69182,     0.69143,     0.69104,     0.69064,     0.69025,     0.68986,     0.68947,     0.68907,     0.68868,     0.68829,      0.6879,      0.6875,     0.68711,     0.68672,     0.68644,     0.68644,     0.68644,     0.68644,     0.68644,\n",
      "            0.68644,     0.68644,     0.68644,     0.68644,     0.68644,     0.68644,     0.68644,     0.68644,     0.68644,     0.68644,     0.68644,     0.68644,     0.68644,     0.68644,     0.68644,     0.68644,     0.68644,     0.68644,     0.68644,     0.68644,     0.68644,     0.68644,     0.68644,\n",
      "            0.68644,     0.68644,     0.68644,     0.68644,     0.68644,     0.68644,     0.68644,     0.68644,     0.68644,     0.68644,     0.68604,     0.68555,     0.68507,     0.68459,     0.68411,     0.68363,     0.68315,     0.68267,     0.68219,     0.68171,     0.68123,     0.68075,     0.68027,\n",
      "            0.67979,     0.67931,     0.67882,     0.67834,     0.67797,     0.67797,     0.67797,     0.67797,     0.67797,     0.67797,     0.67797,     0.67797,     0.67797,     0.67797,     0.67797,     0.67797,     0.67797,     0.67797,     0.67797,     0.67797,     0.67797,     0.67797,     0.67797,\n",
      "            0.67797,     0.67797,     0.67797,     0.67797,     0.67797,     0.67797,     0.67797,     0.67797,     0.67797,     0.67797,     0.67797,     0.67797,     0.67797,     0.67797,     0.67797,     0.67797,     0.67797,     0.67797,     0.67797,     0.67797,     0.67797,     0.67797,     0.67797,\n",
      "            0.67797,     0.67797,     0.67797,     0.67797,     0.67797,     0.67797,     0.67797,     0.67797,     0.67797,     0.67797,     0.67797,     0.67797,     0.67797,     0.67797,     0.67797,     0.67797,     0.67797,     0.67797,     0.67797,     0.67797,     0.67797,     0.67797,     0.67797,\n",
      "            0.67797,     0.67797,     0.67797,     0.67797,     0.67797,     0.67797,     0.67797,     0.67797,     0.67797,     0.67797,     0.67797,     0.67797,     0.67797,     0.67797,     0.67797,     0.67797,     0.67797,     0.67797,     0.67797,     0.67797,     0.67797,     0.67797,     0.67797,\n",
      "             0.6773,     0.67645,      0.6756,     0.67475,     0.67389,     0.67304,     0.67219,     0.67133,     0.67048,     0.66963,     0.66949,     0.66949,     0.66949,     0.66949,     0.66949,     0.66949,     0.66948,     0.66893,     0.66838,     0.66783,     0.66729,     0.66674,     0.66619,\n",
      "            0.66564,      0.6651,     0.66455,       0.664,     0.66345,     0.66291,     0.66236,     0.66181,     0.66126,      0.6604,     0.65928,     0.65816,     0.65704,     0.65592,      0.6548,     0.65368,     0.65256,     0.65254,     0.65254,     0.65254,     0.65254,     0.65254,     0.65254,\n",
      "            0.65254,     0.65254,     0.65254,     0.65254,     0.65254,     0.65254,     0.65254,     0.65254,     0.65254,     0.65254,     0.65254,     0.65254,     0.65254,     0.65254,     0.65254,     0.65254,     0.65254,     0.65254,     0.65254,     0.65254,     0.65254,     0.65254,     0.65254,\n",
      "            0.65254,     0.65254,     0.65254,     0.65254,     0.65254,     0.65254,     0.65254,     0.65254,     0.65254,     0.65254,     0.65254,     0.65254,     0.65254,     0.65254,     0.65243,     0.65228,     0.65214,       0.652,     0.65186,     0.65172,     0.65157,     0.65143,     0.65129,\n",
      "            0.65115,       0.651,     0.65086,     0.65072,     0.65058,     0.65043,     0.65029,     0.65015,     0.65001,     0.64986,     0.64972,     0.64958,     0.64944,     0.64929,     0.64915,     0.64901,     0.64887,     0.64873,     0.64858,     0.64844,      0.6483,     0.64816,     0.64801,\n",
      "            0.64787,     0.64773,     0.64759,     0.64744,      0.6473,     0.64716,     0.64702,     0.64687,     0.64673,     0.64659,     0.64645,      0.6463,     0.64616,     0.64602,     0.64588,     0.64574,     0.64559,     0.64545,     0.64531,     0.64517,     0.64502,     0.64488,     0.64474,\n",
      "             0.6446,     0.64445,     0.64431,     0.64417,     0.64407,     0.64407,     0.64407,     0.64407,     0.64407,     0.64407,       0.644,     0.64384,     0.64368,     0.64353,     0.64337,     0.64321,     0.64305,      0.6429,     0.64274,     0.64258,     0.64242,     0.64226,     0.64211,\n",
      "            0.64195,     0.64179,     0.64163,     0.64148,     0.64132,     0.64116,       0.641,     0.64084,     0.64069,     0.64053,     0.64037,     0.64021,     0.64006,      0.6399,     0.63974,     0.63958,     0.63942,     0.63927,     0.63911,     0.63895,     0.63879,     0.63864,     0.63848,\n",
      "            0.63832,     0.63816,       0.638,     0.63785,     0.63769,     0.63753,     0.63737,     0.63722,     0.63706,      0.6369,     0.63674,     0.63658,     0.63643,     0.63627,     0.63611,     0.63595,      0.6358,     0.63564,     0.63559,     0.63559,     0.63559,     0.63559,     0.63559,\n",
      "            0.63559,     0.63559,     0.63559,     0.63559,     0.63559,     0.63559,     0.63559,     0.63559,     0.63559,     0.63559,     0.63559,     0.63559,     0.63559,     0.63559,     0.63559,     0.63559,     0.63559,     0.63559,     0.63559,     0.63559,     0.63559,     0.63559,     0.63559,\n",
      "            0.63559,     0.63559,     0.63559,     0.63559,     0.63559,     0.63559,     0.63559,     0.63559,     0.63559,     0.63559,     0.63559,     0.63559,     0.63559,     0.63559,     0.63559,     0.63559,     0.63559,     0.63559,     0.63559,     0.63559,     0.63559,     0.63559,     0.63559,\n",
      "            0.63559,     0.63559,     0.63559,     0.63559,     0.63559,     0.63559,     0.63559,     0.63559,     0.63559,     0.63559,     0.63559,     0.63559,     0.63559,     0.63559,     0.62924,     0.62671,     0.62619,     0.62567,     0.62515,     0.62463,     0.62411,     0.62358,     0.62306,\n",
      "            0.62254,     0.62202,      0.6215,     0.62098,     0.62046,     0.61993,     0.61941,     0.61889,     0.61785,     0.61634,     0.61483,     0.61331,      0.6118,     0.61029,     0.60974,     0.60928,     0.60882,     0.60835,     0.60789,     0.60743,     0.60697,      0.6065,     0.60604,\n",
      "            0.60558,     0.60511,     0.60465,     0.60419,     0.60372,     0.60326,      0.6028,     0.60233,     0.60187,     0.60154,     0.60128,     0.60102,     0.60076,     0.60051,     0.60025,     0.59999,     0.59974,     0.59948,     0.59922,     0.59896,     0.59871,     0.59845,     0.59819,\n",
      "            0.59794,     0.59768,     0.59742,     0.59716,     0.59691,     0.59665,     0.59639,     0.59614,     0.59588,     0.59562,     0.59536,     0.59511,     0.59485,     0.59459,     0.59434,     0.59408,     0.59382,     0.59356,     0.59331,     0.59013,     0.58544,     0.58475,     0.58475,\n",
      "            0.58043,     0.57627,     0.57627,     0.57627,     0.57627,     0.57627,     0.57627,     0.57627,     0.57627,     0.57627,     0.57627,     0.57627,     0.57627,     0.57627,     0.57627,     0.57627,     0.57627,     0.57627,     0.57627,     0.57627,     0.57627,     0.57627,     0.57627,\n",
      "            0.57627,     0.57627,     0.57627,     0.57627,     0.57627,     0.57627,     0.57627,     0.57627,     0.57627,     0.57411,     0.57177,     0.56943,     0.56729,     0.56564,     0.56399,     0.56233,     0.56068,     0.55885,     0.55621,     0.55358,     0.55095,     0.54753,     0.54407,\n",
      "            0.54237,     0.54237,     0.54237,     0.54237,     0.54237,     0.54237,     0.54237,     0.54237,     0.54084,      0.5391,     0.53737,     0.53563,      0.5339,      0.5339,     0.53171,     0.52623,     0.52542,     0.52542,     0.52542,     0.52542,     0.52542,     0.52542,     0.52542,\n",
      "            0.52542,     0.52542,     0.52542,     0.52542,     0.52542,     0.52542,     0.52542,     0.52542,     0.52542,     0.52542,     0.52542,     0.52542,     0.52542,     0.52291,     0.51932,     0.51695,     0.51695,     0.51695,     0.51695,     0.51695,     0.51695,     0.51695,     0.51695,\n",
      "            0.51695,     0.51695,     0.51695,     0.51695,     0.51695,     0.51695,     0.51695,     0.51695,     0.51695,     0.51695,     0.51643,     0.51488,     0.51334,      0.5118,     0.51026,     0.50872,     0.50847,     0.50847,     0.50847,     0.49999,     0.49858,     0.49717,     0.49576,\n",
      "            0.49435,     0.49295,     0.49154,     0.48902,      0.4865,     0.48398,      0.4726,     0.46872,     0.45825,     0.45262,     0.44783,     0.44377,     0.43943,     0.43424,     0.42675,     0.42205,     0.41951,     0.41698,     0.40678,     0.40678,     0.40651,     0.40486,     0.40321,\n",
      "            0.40155,      0.3999,     0.39831,     0.39169,     0.37734,     0.37229,     0.36785,     0.36387,     0.36147,     0.35908,     0.35668,     0.35113,     0.34179,     0.33421,     0.32842,     0.32327,     0.32082,     0.31923,     0.31763,     0.31604,     0.31445,     0.31274,     0.31088,\n",
      "            0.30902,     0.30716,      0.3053,     0.30026,      0.2881,     0.28549,     0.28288,     0.28027,     0.26174,     0.24386,      0.2315,     0.22034,     0.22034,     0.22034,      0.2105,     0.20782,     0.20514,     0.20262,     0.20038,     0.19815,     0.19592,      0.1935,     0.19092,\n",
      "            0.18835,     0.18261,     0.17431,     0.16877,     0.16132,     0.15785,     0.15455,     0.15042,     0.14498,     0.13305,     0.12754,     0.12432,      0.1213,     0.11813,     0.11403,     0.10844,    0.098184,    0.093639,    0.083635,    0.081313,    0.078992,     0.07667,     0.06169,\n",
      "           0.046756,    0.040196,    0.037606,    0.035017,    0.030996,    0.025887,    0.024151,    0.022752,    0.021353,    0.019954,    0.018555,    0.017155,    0.013676,   0.0098374,           0,           0,           0,           0,           0,           0,           0,           0,           0,\n",
      "                  0,           0,           0,           0,           0,           0,           0,           0,           0,           0,           0,           0,           0,           0,           0,           0,           0,           0,           0,           0,           0,           0,           0,\n",
      "                  0,           0,           0,           0,           0,           0,           0,           0,           0,           0,           0,           0,           0,           0,           0,           0,           0,           0,           0,           0,           0,           0,           0,\n",
      "                  0,           0,           0,           0,           0,           0,           0,           0,           0,           0,           0]]), 'Confidence', 'Recall']]\n",
      "fitness: 0.4539191958212573\n",
      "keys: ['metrics/precision(B)', 'metrics/recall(B)', 'metrics/mAP50(B)', 'metrics/mAP50-95(B)']\n",
      "maps: array([    0.41882])\n",
      "names: {0: 'Pulmonary nodules'}\n",
      "plot: True\n",
      "results_dict: {'metrics/precision(B)': 0.7458983866552571, 'metrics/recall(B)': 0.6779661016949152, 'metrics/mAP50(B)': 0.7697695729470774, 'metrics/mAP50-95(B)': 0.4188247094739439, 'fitness': 0.4539191958212573}\n",
      "save_dir: WindowsPath('runs/detect/train142')\n",
      "speed: {'preprocess': 0.9914939686403437, 'inference': 18.601328639660853, 'loss': 0.01698227251990367, 'postprocess': 2.898317272380247}\n",
      "task: 'detect'\n",
      "Train Results: ultralytics.utils.metrics.DetMetrics object with attributes:\n",
      "\n",
      "ap_class_index: array([0])\n",
      "box: ultralytics.utils.metrics.Metric object\n",
      "confusion_matrix: <ultralytics.utils.metrics.ConfusionMatrix object at 0x000001CC017D7D70>\n",
      "curves: ['Precision-Recall(B)', 'F1-Confidence(B)', 'Precision-Confidence(B)', 'Recall-Confidence(B)']\n",
      "curves_results: [[array([          0,    0.001001,    0.002002,    0.003003,    0.004004,    0.005005,    0.006006,    0.007007,    0.008008,    0.009009,     0.01001,    0.011011,    0.012012,    0.013013,    0.014014,    0.015015,    0.016016,    0.017017,    0.018018,    0.019019,     0.02002,    0.021021,    0.022022,    0.023023,\n",
      "          0.024024,    0.025025,    0.026026,    0.027027,    0.028028,    0.029029,     0.03003,    0.031031,    0.032032,    0.033033,    0.034034,    0.035035,    0.036036,    0.037037,    0.038038,    0.039039,     0.04004,    0.041041,    0.042042,    0.043043,    0.044044,    0.045045,    0.046046,    0.047047,\n",
      "          0.048048,    0.049049,     0.05005,    0.051051,    0.052052,    0.053053,    0.054054,    0.055055,    0.056056,    0.057057,    0.058058,    0.059059,     0.06006,    0.061061,    0.062062,    0.063063,    0.064064,    0.065065,    0.066066,    0.067067,    0.068068,    0.069069,     0.07007,    0.071071,\n",
      "          0.072072,    0.073073,    0.074074,    0.075075,    0.076076,    0.077077,    0.078078,    0.079079,     0.08008,    0.081081,    0.082082,    0.083083,    0.084084,    0.085085,    0.086086,    0.087087,    0.088088,    0.089089,     0.09009,    0.091091,    0.092092,    0.093093,    0.094094,    0.095095,\n",
      "          0.096096,    0.097097,    0.098098,    0.099099,      0.1001,      0.1011,      0.1021,      0.1031,      0.1041,     0.10511,     0.10611,     0.10711,     0.10811,     0.10911,     0.11011,     0.11111,     0.11211,     0.11311,     0.11411,     0.11512,     0.11612,     0.11712,     0.11812,     0.11912,\n",
      "           0.12012,     0.12112,     0.12212,     0.12312,     0.12412,     0.12513,     0.12613,     0.12713,     0.12813,     0.12913,     0.13013,     0.13113,     0.13213,     0.13313,     0.13413,     0.13514,     0.13614,     0.13714,     0.13814,     0.13914,     0.14014,     0.14114,     0.14214,     0.14314,\n",
      "           0.14414,     0.14515,     0.14615,     0.14715,     0.14815,     0.14915,     0.15015,     0.15115,     0.15215,     0.15315,     0.15415,     0.15516,     0.15616,     0.15716,     0.15816,     0.15916,     0.16016,     0.16116,     0.16216,     0.16316,     0.16416,     0.16517,     0.16617,     0.16717,\n",
      "           0.16817,     0.16917,     0.17017,     0.17117,     0.17217,     0.17317,     0.17417,     0.17518,     0.17618,     0.17718,     0.17818,     0.17918,     0.18018,     0.18118,     0.18218,     0.18318,     0.18418,     0.18519,     0.18619,     0.18719,     0.18819,     0.18919,     0.19019,     0.19119,\n",
      "           0.19219,     0.19319,     0.19419,      0.1952,      0.1962,      0.1972,      0.1982,      0.1992,      0.2002,      0.2012,      0.2022,      0.2032,      0.2042,     0.20521,     0.20621,     0.20721,     0.20821,     0.20921,     0.21021,     0.21121,     0.21221,     0.21321,     0.21421,     0.21522,\n",
      "           0.21622,     0.21722,     0.21822,     0.21922,     0.22022,     0.22122,     0.22222,     0.22322,     0.22422,     0.22523,     0.22623,     0.22723,     0.22823,     0.22923,     0.23023,     0.23123,     0.23223,     0.23323,     0.23423,     0.23524,     0.23624,     0.23724,     0.23824,     0.23924,\n",
      "           0.24024,     0.24124,     0.24224,     0.24324,     0.24424,     0.24525,     0.24625,     0.24725,     0.24825,     0.24925,     0.25025,     0.25125,     0.25225,     0.25325,     0.25425,     0.25526,     0.25626,     0.25726,     0.25826,     0.25926,     0.26026,     0.26126,     0.26226,     0.26326,\n",
      "           0.26426,     0.26527,     0.26627,     0.26727,     0.26827,     0.26927,     0.27027,     0.27127,     0.27227,     0.27327,     0.27427,     0.27528,     0.27628,     0.27728,     0.27828,     0.27928,     0.28028,     0.28128,     0.28228,     0.28328,     0.28428,     0.28529,     0.28629,     0.28729,\n",
      "           0.28829,     0.28929,     0.29029,     0.29129,     0.29229,     0.29329,     0.29429,      0.2953,      0.2963,      0.2973,      0.2983,      0.2993,      0.3003,      0.3013,      0.3023,      0.3033,      0.3043,     0.30531,     0.30631,     0.30731,     0.30831,     0.30931,     0.31031,     0.31131,\n",
      "           0.31231,     0.31331,     0.31431,     0.31532,     0.31632,     0.31732,     0.31832,     0.31932,     0.32032,     0.32132,     0.32232,     0.32332,     0.32432,     0.32533,     0.32633,     0.32733,     0.32833,     0.32933,     0.33033,     0.33133,     0.33233,     0.33333,     0.33433,     0.33534,\n",
      "           0.33634,     0.33734,     0.33834,     0.33934,     0.34034,     0.34134,     0.34234,     0.34334,     0.34434,     0.34535,     0.34635,     0.34735,     0.34835,     0.34935,     0.35035,     0.35135,     0.35235,     0.35335,     0.35435,     0.35536,     0.35636,     0.35736,     0.35836,     0.35936,\n",
      "           0.36036,     0.36136,     0.36236,     0.36336,     0.36436,     0.36537,     0.36637,     0.36737,     0.36837,     0.36937,     0.37037,     0.37137,     0.37237,     0.37337,     0.37437,     0.37538,     0.37638,     0.37738,     0.37838,     0.37938,     0.38038,     0.38138,     0.38238,     0.38338,\n",
      "           0.38438,     0.38539,     0.38639,     0.38739,     0.38839,     0.38939,     0.39039,     0.39139,     0.39239,     0.39339,     0.39439,      0.3954,      0.3964,      0.3974,      0.3984,      0.3994,      0.4004,      0.4014,      0.4024,      0.4034,      0.4044,     0.40541,     0.40641,     0.40741,\n",
      "           0.40841,     0.40941,     0.41041,     0.41141,     0.41241,     0.41341,     0.41441,     0.41542,     0.41642,     0.41742,     0.41842,     0.41942,     0.42042,     0.42142,     0.42242,     0.42342,     0.42442,     0.42543,     0.42643,     0.42743,     0.42843,     0.42943,     0.43043,     0.43143,\n",
      "           0.43243,     0.43343,     0.43443,     0.43544,     0.43644,     0.43744,     0.43844,     0.43944,     0.44044,     0.44144,     0.44244,     0.44344,     0.44444,     0.44545,     0.44645,     0.44745,     0.44845,     0.44945,     0.45045,     0.45145,     0.45245,     0.45345,     0.45445,     0.45546,\n",
      "           0.45646,     0.45746,     0.45846,     0.45946,     0.46046,     0.46146,     0.46246,     0.46346,     0.46446,     0.46547,     0.46647,     0.46747,     0.46847,     0.46947,     0.47047,     0.47147,     0.47247,     0.47347,     0.47447,     0.47548,     0.47648,     0.47748,     0.47848,     0.47948,\n",
      "           0.48048,     0.48148,     0.48248,     0.48348,     0.48448,     0.48549,     0.48649,     0.48749,     0.48849,     0.48949,     0.49049,     0.49149,     0.49249,     0.49349,     0.49449,      0.4955,      0.4965,      0.4975,      0.4985,      0.4995,      0.5005,      0.5015,      0.5025,      0.5035,\n",
      "            0.5045,     0.50551,     0.50651,     0.50751,     0.50851,     0.50951,     0.51051,     0.51151,     0.51251,     0.51351,     0.51451,     0.51552,     0.51652,     0.51752,     0.51852,     0.51952,     0.52052,     0.52152,     0.52252,     0.52352,     0.52452,     0.52553,     0.52653,     0.52753,\n",
      "           0.52853,     0.52953,     0.53053,     0.53153,     0.53253,     0.53353,     0.53453,     0.53554,     0.53654,     0.53754,     0.53854,     0.53954,     0.54054,     0.54154,     0.54254,     0.54354,     0.54454,     0.54555,     0.54655,     0.54755,     0.54855,     0.54955,     0.55055,     0.55155,\n",
      "           0.55255,     0.55355,     0.55455,     0.55556,     0.55656,     0.55756,     0.55856,     0.55956,     0.56056,     0.56156,     0.56256,     0.56356,     0.56456,     0.56557,     0.56657,     0.56757,     0.56857,     0.56957,     0.57057,     0.57157,     0.57257,     0.57357,     0.57457,     0.57558,\n",
      "           0.57658,     0.57758,     0.57858,     0.57958,     0.58058,     0.58158,     0.58258,     0.58358,     0.58458,     0.58559,     0.58659,     0.58759,     0.58859,     0.58959,     0.59059,     0.59159,     0.59259,     0.59359,     0.59459,      0.5956,      0.5966,      0.5976,      0.5986,      0.5996,\n",
      "            0.6006,      0.6016,      0.6026,      0.6036,      0.6046,     0.60561,     0.60661,     0.60761,     0.60861,     0.60961,     0.61061,     0.61161,     0.61261,     0.61361,     0.61461,     0.61562,     0.61662,     0.61762,     0.61862,     0.61962,     0.62062,     0.62162,     0.62262,     0.62362,\n",
      "           0.62462,     0.62563,     0.62663,     0.62763,     0.62863,     0.62963,     0.63063,     0.63163,     0.63263,     0.63363,     0.63463,     0.63564,     0.63664,     0.63764,     0.63864,     0.63964,     0.64064,     0.64164,     0.64264,     0.64364,     0.64464,     0.64565,     0.64665,     0.64765,\n",
      "           0.64865,     0.64965,     0.65065,     0.65165,     0.65265,     0.65365,     0.65465,     0.65566,     0.65666,     0.65766,     0.65866,     0.65966,     0.66066,     0.66166,     0.66266,     0.66366,     0.66466,     0.66567,     0.66667,     0.66767,     0.66867,     0.66967,     0.67067,     0.67167,\n",
      "           0.67267,     0.67367,     0.67467,     0.67568,     0.67668,     0.67768,     0.67868,     0.67968,     0.68068,     0.68168,     0.68268,     0.68368,     0.68468,     0.68569,     0.68669,     0.68769,     0.68869,     0.68969,     0.69069,     0.69169,     0.69269,     0.69369,     0.69469,      0.6957,\n",
      "            0.6967,      0.6977,      0.6987,      0.6997,      0.7007,      0.7017,      0.7027,      0.7037,      0.7047,     0.70571,     0.70671,     0.70771,     0.70871,     0.70971,     0.71071,     0.71171,     0.71271,     0.71371,     0.71471,     0.71572,     0.71672,     0.71772,     0.71872,     0.71972,\n",
      "           0.72072,     0.72172,     0.72272,     0.72372,     0.72472,     0.72573,     0.72673,     0.72773,     0.72873,     0.72973,     0.73073,     0.73173,     0.73273,     0.73373,     0.73473,     0.73574,     0.73674,     0.73774,     0.73874,     0.73974,     0.74074,     0.74174,     0.74274,     0.74374,\n",
      "           0.74474,     0.74575,     0.74675,     0.74775,     0.74875,     0.74975,     0.75075,     0.75175,     0.75275,     0.75375,     0.75475,     0.75576,     0.75676,     0.75776,     0.75876,     0.75976,     0.76076,     0.76176,     0.76276,     0.76376,     0.76476,     0.76577,     0.76677,     0.76777,\n",
      "           0.76877,     0.76977,     0.77077,     0.77177,     0.77277,     0.77377,     0.77477,     0.77578,     0.77678,     0.77778,     0.77878,     0.77978,     0.78078,     0.78178,     0.78278,     0.78378,     0.78478,     0.78579,     0.78679,     0.78779,     0.78879,     0.78979,     0.79079,     0.79179,\n",
      "           0.79279,     0.79379,     0.79479,      0.7958,      0.7968,      0.7978,      0.7988,      0.7998,      0.8008,      0.8018,      0.8028,      0.8038,      0.8048,     0.80581,     0.80681,     0.80781,     0.80881,     0.80981,     0.81081,     0.81181,     0.81281,     0.81381,     0.81481,     0.81582,\n",
      "           0.81682,     0.81782,     0.81882,     0.81982,     0.82082,     0.82182,     0.82282,     0.82382,     0.82482,     0.82583,     0.82683,     0.82783,     0.82883,     0.82983,     0.83083,     0.83183,     0.83283,     0.83383,     0.83483,     0.83584,     0.83684,     0.83784,     0.83884,     0.83984,\n",
      "           0.84084,     0.84184,     0.84284,     0.84384,     0.84484,     0.84585,     0.84685,     0.84785,     0.84885,     0.84985,     0.85085,     0.85185,     0.85285,     0.85385,     0.85485,     0.85586,     0.85686,     0.85786,     0.85886,     0.85986,     0.86086,     0.86186,     0.86286,     0.86386,\n",
      "           0.86486,     0.86587,     0.86687,     0.86787,     0.86887,     0.86987,     0.87087,     0.87187,     0.87287,     0.87387,     0.87487,     0.87588,     0.87688,     0.87788,     0.87888,     0.87988,     0.88088,     0.88188,     0.88288,     0.88388,     0.88488,     0.88589,     0.88689,     0.88789,\n",
      "           0.88889,     0.88989,     0.89089,     0.89189,     0.89289,     0.89389,     0.89489,      0.8959,      0.8969,      0.8979,      0.8989,      0.8999,      0.9009,      0.9019,      0.9029,      0.9039,      0.9049,     0.90591,     0.90691,     0.90791,     0.90891,     0.90991,     0.91091,     0.91191,\n",
      "           0.91291,     0.91391,     0.91491,     0.91592,     0.91692,     0.91792,     0.91892,     0.91992,     0.92092,     0.92192,     0.92292,     0.92392,     0.92492,     0.92593,     0.92693,     0.92793,     0.92893,     0.92993,     0.93093,     0.93193,     0.93293,     0.93393,     0.93493,     0.93594,\n",
      "           0.93694,     0.93794,     0.93894,     0.93994,     0.94094,     0.94194,     0.94294,     0.94394,     0.94494,     0.94595,     0.94695,     0.94795,     0.94895,     0.94995,     0.95095,     0.95195,     0.95295,     0.95395,     0.95495,     0.95596,     0.95696,     0.95796,     0.95896,     0.95996,\n",
      "           0.96096,     0.96196,     0.96296,     0.96396,     0.96496,     0.96597,     0.96697,     0.96797,     0.96897,     0.96997,     0.97097,     0.97197,     0.97297,     0.97397,     0.97497,     0.97598,     0.97698,     0.97798,     0.97898,     0.97998,     0.98098,     0.98198,     0.98298,     0.98398,\n",
      "           0.98498,     0.98599,     0.98699,     0.98799,     0.98899,     0.98999,     0.99099,     0.99199,     0.99299,     0.99399,     0.99499,       0.996,       0.997,       0.998,       0.999,           1]), array([[          1,           1,           1,           1,           1,           1,           1,           1,           1,           1,           1,           1,           1,           1,           1,           1,           1,           1,           1,           1,           1,           1,           1,\n",
      "                  1,           1,           1,           1,           1,           1,           1,           1,           1,           1,           1,           1,           1,           1,           1,           1,           1,           1,           1,           1,           1,           1,           1,\n",
      "                  1,           1,           1,           1,           1,           1,           1,           1,           1,           1,           1,           1,           1,           1,           1,           1,           1,           1,           1,           1,           1,           1,           1,\n",
      "                  1,           1,           1,           1,           1,           1,           1,           1,           1,           1,           1,           1,           1,           1,           1,           1,           1,           1,           1,           1,           1,           1,           1,\n",
      "                  1,           1,           1,           1,           1,           1,           1,           1,           1,           1,           1,           1,           1,           1,           1,           1,           1,           1,           1,           1,           1,           1,           1,\n",
      "                  1,           1,           1,           1,           1,           1,           1,           1,           1,           1,           1,           1,           1,           1,           1,           1,           1,           1,           1,           1,           1,           1,           1,\n",
      "                  1,           1,           1,           1,           1,           1,           1,           1,           1,           1,           1,           1,           1,           1,           1,           1,           1,           1,           1,           1,           1,           1,           1,\n",
      "                  1,           1,           1,           1,           1,           1,           1,           1,           1,           1,           1,           1,           1,           1,           1,           1,           1,           1,           1,           1,           1,           1,           1,\n",
      "                  1,           1,           1,           1,           1,           1,           1,           1,           1,           1,           1,           1,           1,           1,           1,           1,           1,           1,           1,           1,           1,           1,           1,\n",
      "                  1,           1,           1,           1,           1,           1,           1,           1,           1,           1,           1,           1,           1,           1,           1,           1,           1,           1,           1,           1,           1,           1,           1,\n",
      "                  1,           1,           1,           1,           1,           1,           1,           1,           1,           1,           1,           1,           1,           1,           1,           1,           1,           1,           1,           1,           1,           1,           1,\n",
      "                  1,           1,           1,           1,           1,           1,           1,           1,           1,           1,           1,           1,           1,           1,           1,           1,           1,           1,           1,           1,           1,           1,           1,\n",
      "                  1,           1,           1,           1,           1,           1,           1,           1,           1,           1,           1,           1,           1,           1,           1,           1,           1,           1,           1,           1,           1,           1,           1,\n",
      "                  1,           1,           1,           1,           1,           1,           1,           1,           1,      0.9983,      0.9983,      0.9983,      0.9983,      0.9983,      0.9983,      0.9983,      0.9983,      0.9983,      0.9983,      0.9983,      0.9983,      0.9983,      0.9983,\n",
      "             0.9983,      0.9983,      0.9983,      0.9983,      0.9983,      0.9983,      0.9983,      0.9983,      0.9983,      0.9983,      0.9983,      0.9983,      0.9983,      0.9983,      0.9983,      0.9983,      0.9983,      0.9983,      0.9983,      0.9983,      0.9983,      0.9983,      0.9983,\n",
      "             0.9983,      0.9983,      0.9983,      0.9983,      0.9983,      0.9983,      0.9983,      0.9983,      0.9983,      0.9983,      0.9983,      0.9983,      0.9983,      0.9983,      0.9983,      0.9983,      0.9983,      0.9983,      0.9983,      0.9983,      0.9983,      0.9983,      0.9983,\n",
      "             0.9983,      0.9983,      0.9983,      0.9983,      0.9983,      0.9983,      0.9983,      0.9983,      0.9983,      0.9983,      0.9983,      0.9983,      0.9983,      0.9983,      0.9983,      0.9983,      0.9983,      0.9983,      0.9983,      0.9983,      0.9983,      0.9983,      0.9983,\n",
      "             0.9983,      0.9983,      0.9983,      0.9983,      0.9983,      0.9983,      0.9983,      0.9983,      0.9983,      0.9983,      0.9983,      0.9983,      0.9983,      0.9983,      0.9983,      0.9983,      0.9983,      0.9983,      0.9983,      0.9983,      0.9983,      0.9983,      0.9983,\n",
      "             0.9983,      0.9983,      0.9983,      0.9983,      0.9983,      0.9983,      0.9983,      0.9983,      0.9983,      0.9983,      0.9983,      0.9983,      0.9983,      0.9983,      0.9983,      0.9983,      0.9983,      0.9983,      0.9983,      0.9983,      0.9983,      0.9983,      0.9983,\n",
      "             0.9983,      0.9983,      0.9983,      0.9983,      0.9983,      0.9983,      0.9983,      0.9983,      0.9983,      0.9983,      0.9983,      0.9983,      0.9983,      0.9983,      0.9983,      0.9983,      0.9983,      0.9983,      0.9983,      0.9983,      0.9983,      0.9983,      0.9983,\n",
      "             0.9983,      0.9983,      0.9983,      0.9983,      0.9983,      0.9983,      0.9983,      0.9983,      0.9983,      0.9983,      0.9983,      0.9983,      0.9983,      0.9983,      0.9983,      0.9983,      0.9983,      0.9983,      0.9983,      0.9983,      0.9983,      0.9983,      0.9983,\n",
      "             0.9983,      0.9983,      0.9983,      0.9983,      0.9983,      0.9983,      0.9983,      0.9983,      0.9983,      0.9983,      0.9983,      0.9983,      0.9983,      0.9983,      0.9983,      0.9983,      0.9983,      0.9983,      0.9983,      0.9983,      0.9983,      0.9983,      0.9983,\n",
      "             0.9983,      0.9983,      0.9983,      0.9983,      0.9983,      0.9983,      0.9983,      0.9983,      0.9983,      0.9983,      0.9983,      0.9983,      0.9983,      0.9983,      0.9983,      0.9983,      0.9983,      0.9983,      0.9983,      0.9983,      0.9983,      0.9983,      0.9983,\n",
      "             0.9983,      0.9983,      0.9983,      0.9983,      0.9983,      0.9983,      0.9983,      0.9983,      0.9983,      0.9983,      0.9983,      0.9983,      0.9983,      0.9983,      0.9983,      0.9983,      0.9983,      0.9983,      0.9983,      0.9983,      0.9983,      0.9983,      0.9983,\n",
      "             0.9983,      0.9983,      0.9983,      0.9983,      0.9983,      0.9983,      0.9983,      0.9983,      0.9983,      0.9983,      0.9983,      0.9983,      0.9983,      0.9983,      0.9983,      0.9983,      0.9983,      0.9983,      0.9983,      0.9983,      0.9983,      0.9983,      0.9983,\n",
      "             0.9983,      0.9983,      0.9983,      0.9983,      0.9983,      0.9983,      0.9983,      0.9983,      0.9983,      0.9983,      0.9983,      0.9983,      0.9983,      0.9983,      0.9983,      0.9983,      0.9983,      0.9983,      0.9983,      0.9983,      0.9983,      0.9983,      0.9983,\n",
      "             0.9983,      0.9983,      0.9983,      0.9983,      0.9983,      0.9983,      0.9983,      0.9983,      0.9983,      0.9983,     0.99698,     0.99698,     0.99698,     0.99698,     0.99698,     0.99698,     0.99698,     0.99698,     0.99698,     0.99698,     0.99698,     0.99698,     0.99698,\n",
      "            0.99698,     0.99698,     0.99698,     0.99698,     0.99698,     0.99698,     0.99698,     0.99698,     0.99698,     0.99698,     0.99698,     0.99698,     0.99698,     0.99698,     0.99698,     0.99698,     0.99698,     0.99698,     0.99698,     0.99698,     0.99698,     0.99698,     0.99698,\n",
      "            0.99698,     0.99698,     0.99698,     0.99698,     0.99698,     0.99698,     0.99698,     0.99698,     0.99698,     0.99698,     0.99698,     0.99698,     0.99698,     0.99698,     0.99698,     0.99698,     0.99698,     0.99698,     0.99698,     0.99698,     0.99698,     0.99698,     0.99698,\n",
      "            0.99698,     0.99698,     0.99698,     0.99698,     0.99698,     0.99698,     0.99698,     0.99698,     0.99698,     0.99698,     0.99698,     0.99698,     0.99698,     0.99698,     0.99698,     0.99698,     0.99698,     0.99698,     0.99698,     0.99581,     0.99581,     0.99581,     0.99581,\n",
      "            0.99581,     0.99581,     0.99581,     0.99581,     0.99581,     0.99581,     0.99581,     0.99581,     0.99581,     0.99581,     0.99581,     0.99581,     0.99581,     0.99581,     0.99581,     0.99581,     0.99581,     0.99581,     0.99581,     0.99581,     0.99581,     0.99581,     0.99581,\n",
      "            0.99581,     0.99581,     0.99581,     0.99581,     0.99581,     0.99581,     0.99581,     0.99581,     0.99581,     0.99581,     0.99581,     0.99581,     0.99581,     0.99581,     0.99581,     0.99581,     0.99581,     0.99581,     0.99581,     0.99581,     0.99581,     0.99581,     0.99581,\n",
      "            0.99581,     0.99581,     0.99581,     0.99581,     0.99483,     0.99483,     0.99483,     0.99483,     0.99483,     0.99483,     0.99483,     0.99483,     0.99483,     0.99483,     0.99483,     0.99483,     0.99483,     0.99483,     0.99483,     0.99483,     0.99483,     0.99483,     0.99483,\n",
      "            0.99483,     0.99483,     0.99483,     0.99483,     0.99483,     0.99483,     0.99483,     0.99483,     0.99483,     0.99483,     0.99483,     0.99483,     0.99483,     0.99483,     0.99483,     0.99483,     0.99483,     0.99483,     0.99483,     0.99483,     0.99483,     0.99483,     0.99483,\n",
      "            0.99483,     0.99483,     0.99483,     0.99483,     0.99483,     0.99483,     0.99483,     0.99483,     0.99483,     0.99483,     0.99483,     0.99483,     0.99483,     0.99483,     0.99483,     0.99483,     0.99372,     0.99372,     0.99372,     0.99372,     0.99372,     0.99372,     0.99372,\n",
      "            0.99372,     0.99372,     0.99372,     0.99372,     0.99372,     0.99372,     0.99372,     0.99372,     0.99372,     0.99372,     0.99372,     0.99372,     0.99372,     0.99372,     0.99372,     0.99372,     0.99282,     0.99282,     0.99282,     0.99282,     0.99282,     0.99282,     0.99282,\n",
      "            0.99282,     0.99282,     0.99282,     0.99282,     0.99282,     0.99282,     0.99282,     0.99282,     0.99282,     0.99282,     0.99282,     0.99282,     0.99282,     0.99282,     0.99282,     0.99282,     0.99282,     0.99282,     0.99282,     0.99282,     0.99282,     0.99282,     0.99282,\n",
      "            0.99282,     0.99282,     0.99282,     0.99282,     0.99282,     0.99282,     0.99282,     0.99282,     0.99282,     0.99282,     0.99282,      0.9918,      0.9918,      0.9918,      0.9918,      0.9918,      0.9918,      0.9918,      0.9918,      0.9918,      0.9918,      0.9918,      0.9918,\n",
      "             0.9918,      0.9918,      0.9918,      0.9918,      0.9918,      0.9908,      0.9908,      0.9908,      0.9908,      0.9908,      0.9908,      0.9908,      0.9908,      0.9908,      0.9908,      0.9908,      0.9908,      0.9908,      0.9908,      0.9908,      0.9908,     0.98984,     0.98984,\n",
      "            0.98984,     0.98984,     0.98984,     0.98984,     0.98984,     0.98984,     0.98984,     0.98984,     0.98984,     0.98984,     0.98984,     0.98984,     0.98984,     0.98874,     0.98778,     0.98778,     0.98778,     0.98778,     0.98778,     0.98778,     0.98778,     0.98778,     0.98778,\n",
      "            0.98778,     0.98778,     0.98778,      0.9867,     0.98565,     0.98565,     0.98565,     0.98244,     0.98244,     0.98142,     0.98142,     0.98142,     0.97933,     0.97933,     0.97863,     0.97863,     0.97863,     0.97863,     0.97863,     0.97863,     0.97863,     0.97863,     0.97863,\n",
      "            0.97863,     0.97863,     0.97863,     0.97863,     0.97863,     0.97863,     0.97863,     0.97863,      0.9778,      0.9778,      0.9778,      0.9778,      0.9778,      0.9778,      0.9778,      0.9778,      0.9778,     0.97687,     0.97687,     0.97687,     0.97687,     0.97594,     0.97594,\n",
      "            0.97594,     0.97594,       0.975,       0.975,       0.975,     0.97409,     0.97409,     0.97409,     0.97409,     0.97409,     0.97214,     0.97214,     0.97128,     0.97128,     0.97128,     0.97128,     0.97128,     0.96933,     0.96837,     0.96741,      0.9665,      0.9665,     0.96461,\n",
      "            0.96461,     0.95696,     0.95696,     0.95509,     0.95229,     0.94857,     0.93659,     0.92404,       0.801,     0.57067,           0]]), 'Recall', 'Precision'], [array([          0,    0.001001,    0.002002,    0.003003,    0.004004,    0.005005,    0.006006,    0.007007,    0.008008,    0.009009,     0.01001,    0.011011,    0.012012,    0.013013,    0.014014,    0.015015,    0.016016,    0.017017,    0.018018,    0.019019,     0.02002,    0.021021,    0.022022,    0.023023,\n",
      "          0.024024,    0.025025,    0.026026,    0.027027,    0.028028,    0.029029,     0.03003,    0.031031,    0.032032,    0.033033,    0.034034,    0.035035,    0.036036,    0.037037,    0.038038,    0.039039,     0.04004,    0.041041,    0.042042,    0.043043,    0.044044,    0.045045,    0.046046,    0.047047,\n",
      "          0.048048,    0.049049,     0.05005,    0.051051,    0.052052,    0.053053,    0.054054,    0.055055,    0.056056,    0.057057,    0.058058,    0.059059,     0.06006,    0.061061,    0.062062,    0.063063,    0.064064,    0.065065,    0.066066,    0.067067,    0.068068,    0.069069,     0.07007,    0.071071,\n",
      "          0.072072,    0.073073,    0.074074,    0.075075,    0.076076,    0.077077,    0.078078,    0.079079,     0.08008,    0.081081,    0.082082,    0.083083,    0.084084,    0.085085,    0.086086,    0.087087,    0.088088,    0.089089,     0.09009,    0.091091,    0.092092,    0.093093,    0.094094,    0.095095,\n",
      "          0.096096,    0.097097,    0.098098,    0.099099,      0.1001,      0.1011,      0.1021,      0.1031,      0.1041,     0.10511,     0.10611,     0.10711,     0.10811,     0.10911,     0.11011,     0.11111,     0.11211,     0.11311,     0.11411,     0.11512,     0.11612,     0.11712,     0.11812,     0.11912,\n",
      "           0.12012,     0.12112,     0.12212,     0.12312,     0.12412,     0.12513,     0.12613,     0.12713,     0.12813,     0.12913,     0.13013,     0.13113,     0.13213,     0.13313,     0.13413,     0.13514,     0.13614,     0.13714,     0.13814,     0.13914,     0.14014,     0.14114,     0.14214,     0.14314,\n",
      "           0.14414,     0.14515,     0.14615,     0.14715,     0.14815,     0.14915,     0.15015,     0.15115,     0.15215,     0.15315,     0.15415,     0.15516,     0.15616,     0.15716,     0.15816,     0.15916,     0.16016,     0.16116,     0.16216,     0.16316,     0.16416,     0.16517,     0.16617,     0.16717,\n",
      "           0.16817,     0.16917,     0.17017,     0.17117,     0.17217,     0.17317,     0.17417,     0.17518,     0.17618,     0.17718,     0.17818,     0.17918,     0.18018,     0.18118,     0.18218,     0.18318,     0.18418,     0.18519,     0.18619,     0.18719,     0.18819,     0.18919,     0.19019,     0.19119,\n",
      "           0.19219,     0.19319,     0.19419,      0.1952,      0.1962,      0.1972,      0.1982,      0.1992,      0.2002,      0.2012,      0.2022,      0.2032,      0.2042,     0.20521,     0.20621,     0.20721,     0.20821,     0.20921,     0.21021,     0.21121,     0.21221,     0.21321,     0.21421,     0.21522,\n",
      "           0.21622,     0.21722,     0.21822,     0.21922,     0.22022,     0.22122,     0.22222,     0.22322,     0.22422,     0.22523,     0.22623,     0.22723,     0.22823,     0.22923,     0.23023,     0.23123,     0.23223,     0.23323,     0.23423,     0.23524,     0.23624,     0.23724,     0.23824,     0.23924,\n",
      "           0.24024,     0.24124,     0.24224,     0.24324,     0.24424,     0.24525,     0.24625,     0.24725,     0.24825,     0.24925,     0.25025,     0.25125,     0.25225,     0.25325,     0.25425,     0.25526,     0.25626,     0.25726,     0.25826,     0.25926,     0.26026,     0.26126,     0.26226,     0.26326,\n",
      "           0.26426,     0.26527,     0.26627,     0.26727,     0.26827,     0.26927,     0.27027,     0.27127,     0.27227,     0.27327,     0.27427,     0.27528,     0.27628,     0.27728,     0.27828,     0.27928,     0.28028,     0.28128,     0.28228,     0.28328,     0.28428,     0.28529,     0.28629,     0.28729,\n",
      "           0.28829,     0.28929,     0.29029,     0.29129,     0.29229,     0.29329,     0.29429,      0.2953,      0.2963,      0.2973,      0.2983,      0.2993,      0.3003,      0.3013,      0.3023,      0.3033,      0.3043,     0.30531,     0.30631,     0.30731,     0.30831,     0.30931,     0.31031,     0.31131,\n",
      "           0.31231,     0.31331,     0.31431,     0.31532,     0.31632,     0.31732,     0.31832,     0.31932,     0.32032,     0.32132,     0.32232,     0.32332,     0.32432,     0.32533,     0.32633,     0.32733,     0.32833,     0.32933,     0.33033,     0.33133,     0.33233,     0.33333,     0.33433,     0.33534,\n",
      "           0.33634,     0.33734,     0.33834,     0.33934,     0.34034,     0.34134,     0.34234,     0.34334,     0.34434,     0.34535,     0.34635,     0.34735,     0.34835,     0.34935,     0.35035,     0.35135,     0.35235,     0.35335,     0.35435,     0.35536,     0.35636,     0.35736,     0.35836,     0.35936,\n",
      "           0.36036,     0.36136,     0.36236,     0.36336,     0.36436,     0.36537,     0.36637,     0.36737,     0.36837,     0.36937,     0.37037,     0.37137,     0.37237,     0.37337,     0.37437,     0.37538,     0.37638,     0.37738,     0.37838,     0.37938,     0.38038,     0.38138,     0.38238,     0.38338,\n",
      "           0.38438,     0.38539,     0.38639,     0.38739,     0.38839,     0.38939,     0.39039,     0.39139,     0.39239,     0.39339,     0.39439,      0.3954,      0.3964,      0.3974,      0.3984,      0.3994,      0.4004,      0.4014,      0.4024,      0.4034,      0.4044,     0.40541,     0.40641,     0.40741,\n",
      "           0.40841,     0.40941,     0.41041,     0.41141,     0.41241,     0.41341,     0.41441,     0.41542,     0.41642,     0.41742,     0.41842,     0.41942,     0.42042,     0.42142,     0.42242,     0.42342,     0.42442,     0.42543,     0.42643,     0.42743,     0.42843,     0.42943,     0.43043,     0.43143,\n",
      "           0.43243,     0.43343,     0.43443,     0.43544,     0.43644,     0.43744,     0.43844,     0.43944,     0.44044,     0.44144,     0.44244,     0.44344,     0.44444,     0.44545,     0.44645,     0.44745,     0.44845,     0.44945,     0.45045,     0.45145,     0.45245,     0.45345,     0.45445,     0.45546,\n",
      "           0.45646,     0.45746,     0.45846,     0.45946,     0.46046,     0.46146,     0.46246,     0.46346,     0.46446,     0.46547,     0.46647,     0.46747,     0.46847,     0.46947,     0.47047,     0.47147,     0.47247,     0.47347,     0.47447,     0.47548,     0.47648,     0.47748,     0.47848,     0.47948,\n",
      "           0.48048,     0.48148,     0.48248,     0.48348,     0.48448,     0.48549,     0.48649,     0.48749,     0.48849,     0.48949,     0.49049,     0.49149,     0.49249,     0.49349,     0.49449,      0.4955,      0.4965,      0.4975,      0.4985,      0.4995,      0.5005,      0.5015,      0.5025,      0.5035,\n",
      "            0.5045,     0.50551,     0.50651,     0.50751,     0.50851,     0.50951,     0.51051,     0.51151,     0.51251,     0.51351,     0.51451,     0.51552,     0.51652,     0.51752,     0.51852,     0.51952,     0.52052,     0.52152,     0.52252,     0.52352,     0.52452,     0.52553,     0.52653,     0.52753,\n",
      "           0.52853,     0.52953,     0.53053,     0.53153,     0.53253,     0.53353,     0.53453,     0.53554,     0.53654,     0.53754,     0.53854,     0.53954,     0.54054,     0.54154,     0.54254,     0.54354,     0.54454,     0.54555,     0.54655,     0.54755,     0.54855,     0.54955,     0.55055,     0.55155,\n",
      "           0.55255,     0.55355,     0.55455,     0.55556,     0.55656,     0.55756,     0.55856,     0.55956,     0.56056,     0.56156,     0.56256,     0.56356,     0.56456,     0.56557,     0.56657,     0.56757,     0.56857,     0.56957,     0.57057,     0.57157,     0.57257,     0.57357,     0.57457,     0.57558,\n",
      "           0.57658,     0.57758,     0.57858,     0.57958,     0.58058,     0.58158,     0.58258,     0.58358,     0.58458,     0.58559,     0.58659,     0.58759,     0.58859,     0.58959,     0.59059,     0.59159,     0.59259,     0.59359,     0.59459,      0.5956,      0.5966,      0.5976,      0.5986,      0.5996,\n",
      "            0.6006,      0.6016,      0.6026,      0.6036,      0.6046,     0.60561,     0.60661,     0.60761,     0.60861,     0.60961,     0.61061,     0.61161,     0.61261,     0.61361,     0.61461,     0.61562,     0.61662,     0.61762,     0.61862,     0.61962,     0.62062,     0.62162,     0.62262,     0.62362,\n",
      "           0.62462,     0.62563,     0.62663,     0.62763,     0.62863,     0.62963,     0.63063,     0.63163,     0.63263,     0.63363,     0.63463,     0.63564,     0.63664,     0.63764,     0.63864,     0.63964,     0.64064,     0.64164,     0.64264,     0.64364,     0.64464,     0.64565,     0.64665,     0.64765,\n",
      "           0.64865,     0.64965,     0.65065,     0.65165,     0.65265,     0.65365,     0.65465,     0.65566,     0.65666,     0.65766,     0.65866,     0.65966,     0.66066,     0.66166,     0.66266,     0.66366,     0.66466,     0.66567,     0.66667,     0.66767,     0.66867,     0.66967,     0.67067,     0.67167,\n",
      "           0.67267,     0.67367,     0.67467,     0.67568,     0.67668,     0.67768,     0.67868,     0.67968,     0.68068,     0.68168,     0.68268,     0.68368,     0.68468,     0.68569,     0.68669,     0.68769,     0.68869,     0.68969,     0.69069,     0.69169,     0.69269,     0.69369,     0.69469,      0.6957,\n",
      "            0.6967,      0.6977,      0.6987,      0.6997,      0.7007,      0.7017,      0.7027,      0.7037,      0.7047,     0.70571,     0.70671,     0.70771,     0.70871,     0.70971,     0.71071,     0.71171,     0.71271,     0.71371,     0.71471,     0.71572,     0.71672,     0.71772,     0.71872,     0.71972,\n",
      "           0.72072,     0.72172,     0.72272,     0.72372,     0.72472,     0.72573,     0.72673,     0.72773,     0.72873,     0.72973,     0.73073,     0.73173,     0.73273,     0.73373,     0.73473,     0.73574,     0.73674,     0.73774,     0.73874,     0.73974,     0.74074,     0.74174,     0.74274,     0.74374,\n",
      "           0.74474,     0.74575,     0.74675,     0.74775,     0.74875,     0.74975,     0.75075,     0.75175,     0.75275,     0.75375,     0.75475,     0.75576,     0.75676,     0.75776,     0.75876,     0.75976,     0.76076,     0.76176,     0.76276,     0.76376,     0.76476,     0.76577,     0.76677,     0.76777,\n",
      "           0.76877,     0.76977,     0.77077,     0.77177,     0.77277,     0.77377,     0.77477,     0.77578,     0.77678,     0.77778,     0.77878,     0.77978,     0.78078,     0.78178,     0.78278,     0.78378,     0.78478,     0.78579,     0.78679,     0.78779,     0.78879,     0.78979,     0.79079,     0.79179,\n",
      "           0.79279,     0.79379,     0.79479,      0.7958,      0.7968,      0.7978,      0.7988,      0.7998,      0.8008,      0.8018,      0.8028,      0.8038,      0.8048,     0.80581,     0.80681,     0.80781,     0.80881,     0.80981,     0.81081,     0.81181,     0.81281,     0.81381,     0.81481,     0.81582,\n",
      "           0.81682,     0.81782,     0.81882,     0.81982,     0.82082,     0.82182,     0.82282,     0.82382,     0.82482,     0.82583,     0.82683,     0.82783,     0.82883,     0.82983,     0.83083,     0.83183,     0.83283,     0.83383,     0.83483,     0.83584,     0.83684,     0.83784,     0.83884,     0.83984,\n",
      "           0.84084,     0.84184,     0.84284,     0.84384,     0.84484,     0.84585,     0.84685,     0.84785,     0.84885,     0.84985,     0.85085,     0.85185,     0.85285,     0.85385,     0.85485,     0.85586,     0.85686,     0.85786,     0.85886,     0.85986,     0.86086,     0.86186,     0.86286,     0.86386,\n",
      "           0.86486,     0.86587,     0.86687,     0.86787,     0.86887,     0.86987,     0.87087,     0.87187,     0.87287,     0.87387,     0.87487,     0.87588,     0.87688,     0.87788,     0.87888,     0.87988,     0.88088,     0.88188,     0.88288,     0.88388,     0.88488,     0.88589,     0.88689,     0.88789,\n",
      "           0.88889,     0.88989,     0.89089,     0.89189,     0.89289,     0.89389,     0.89489,      0.8959,      0.8969,      0.8979,      0.8989,      0.8999,      0.9009,      0.9019,      0.9029,      0.9039,      0.9049,     0.90591,     0.90691,     0.90791,     0.90891,     0.90991,     0.91091,     0.91191,\n",
      "           0.91291,     0.91391,     0.91491,     0.91592,     0.91692,     0.91792,     0.91892,     0.91992,     0.92092,     0.92192,     0.92292,     0.92392,     0.92492,     0.92593,     0.92693,     0.92793,     0.92893,     0.92993,     0.93093,     0.93193,     0.93293,     0.93393,     0.93493,     0.93594,\n",
      "           0.93694,     0.93794,     0.93894,     0.93994,     0.94094,     0.94194,     0.94294,     0.94394,     0.94494,     0.94595,     0.94695,     0.94795,     0.94895,     0.94995,     0.95095,     0.95195,     0.95295,     0.95395,     0.95495,     0.95596,     0.95696,     0.95796,     0.95896,     0.95996,\n",
      "           0.96096,     0.96196,     0.96296,     0.96396,     0.96496,     0.96597,     0.96697,     0.96797,     0.96897,     0.96997,     0.97097,     0.97197,     0.97297,     0.97397,     0.97497,     0.97598,     0.97698,     0.97798,     0.97898,     0.97998,     0.98098,     0.98198,     0.98298,     0.98398,\n",
      "           0.98498,     0.98599,     0.98699,     0.98799,     0.98899,     0.98999,     0.99099,     0.99199,     0.99299,     0.99399,     0.99499,       0.996,       0.997,       0.998,       0.999,           1]), array([[    0.74343,     0.74358,     0.81091,     0.84695,     0.86424,     0.87825,     0.88599,     0.89262,     0.89839,     0.90488,     0.91141,     0.91361,     0.91629,     0.91932,     0.92095,     0.92292,     0.92453,     0.92487,     0.92629,     0.92778,     0.92926,     0.93053,     0.93139,\n",
      "            0.93355,     0.93446,     0.93556,     0.93716,     0.93779,     0.93854,     0.94065,     0.94246,      0.9442,     0.94564,     0.94666,     0.94786,     0.94834,     0.94927,     0.95103,     0.95143,     0.95197,     0.95229,     0.95253,      0.9527,     0.95288,     0.95348,     0.95382,\n",
      "            0.95426,     0.95533,      0.9558,     0.95605,     0.95637,     0.95708,     0.95789,     0.95829,     0.95918,     0.95945,     0.95905,      0.9593,     0.95958,     0.96008,     0.96034,     0.96057,     0.96075,     0.96094,     0.96101,     0.96106,     0.96111,     0.96116,     0.96121,\n",
      "            0.96126,     0.96131,     0.96136,     0.96141,     0.96183,     0.96204,     0.96216,     0.96228,     0.96241,     0.96273,     0.96341,     0.96351,     0.96361,     0.96371,     0.96382,       0.964,     0.96423,     0.96452,     0.96487,     0.96517,     0.96538,     0.96552,     0.96566,\n",
      "            0.96579,     0.96555,     0.96529,     0.96532,     0.96538,     0.96543,     0.96549,     0.96554,      0.9656,     0.96565,     0.96571,     0.96576,      0.9659,     0.96604,     0.96618,     0.96674,     0.96686,     0.96698,      0.9671,     0.96722,     0.96729,     0.96735,     0.96742,\n",
      "            0.96748,     0.96755,     0.96761,     0.96768,     0.96786,     0.96814,     0.96831,     0.96845,     0.96859,     0.96877,     0.96908,     0.96921,     0.96927,     0.96933,     0.96938,     0.96944,     0.96949,     0.96955,      0.9696,     0.96966,     0.97023,     0.97033,     0.97042,\n",
      "            0.97051,      0.9706,     0.97066,      0.9707,     0.97073,     0.97076,     0.97079,     0.97082,     0.97085,     0.97089,     0.97092,     0.97095,     0.97098,     0.97101,     0.97104,     0.97108,     0.97111,     0.97114,     0.97144,     0.97125,     0.97186,     0.97215,     0.97231,\n",
      "            0.97247,     0.97261,     0.97268,     0.97274,     0.97281,     0.97288,     0.97295,     0.97302,       0.973,      0.9726,     0.97265,      0.9727,     0.97274,     0.97279,     0.97284,     0.97288,     0.97293,     0.97298,     0.97303,     0.97308,     0.97316,     0.97324,     0.97332,\n",
      "             0.9734,     0.97347,     0.97356,     0.97384,     0.97399,     0.97382,     0.97364,     0.97361,     0.97388,     0.97448,     0.97439,     0.97431,     0.97422,     0.97414,     0.97406,     0.97397,      0.9739,     0.97382,     0.97374,     0.97367,     0.97359,     0.97351,     0.97348,\n",
      "            0.97351,     0.97353,     0.97356,     0.97359,     0.97362,     0.97364,     0.97367,      0.9737,     0.97373,     0.97375,     0.97378,     0.97381,     0.97383,     0.97386,     0.97389,     0.97392,     0.97394,      0.9742,     0.97488,     0.97499,     0.97503,     0.97507,     0.97511,\n",
      "            0.97515,     0.97518,     0.97522,     0.97526,      0.9753,     0.97534,     0.97537,     0.97541,     0.97545,      0.9756,     0.97578,     0.97596,     0.97601,     0.97606,     0.97612,     0.97617,     0.97622,     0.97627,     0.97632,     0.97637,     0.97643,     0.97647,      0.9765,\n",
      "            0.97654,     0.97657,      0.9766,     0.97663,     0.97667,      0.9767,     0.97673,     0.97677,      0.9768,     0.97683,     0.97686,      0.9769,     0.97693,     0.97698,      0.9772,     0.97743,     0.97718,     0.97647,     0.97671,     0.97692,     0.97696,       0.977,     0.97704,\n",
      "            0.97708,     0.97712,     0.97716,      0.9772,     0.97724,     0.97728,     0.97731,     0.97735,     0.97739,     0.97737,     0.97729,     0.97721,     0.97713,     0.97705,     0.97697,      0.9769,     0.97681,     0.97673,     0.97665,     0.97657,     0.97648,      0.9764,     0.97638,\n",
      "            0.97642,     0.97646,      0.9765,     0.97653,     0.97657,     0.97661,     0.97665,     0.97669,     0.97673,     0.97677,      0.9768,     0.97684,     0.97684,     0.97679,     0.97673,     0.97668,     0.97662,     0.97657,     0.97651,     0.97646,      0.9764,     0.97635,     0.97681,\n",
      "            0.97669,     0.97657,     0.97645,     0.97633,     0.97634,     0.97637,      0.9764,     0.97643,     0.97646,     0.97649,     0.97652,     0.97655,     0.97658,     0.97661,     0.97664,     0.97667,      0.9767,     0.97673,     0.97676,     0.97679,     0.97681,     0.97664,     0.97648,\n",
      "            0.97632,     0.97675,     0.97683,     0.97687,     0.97692,     0.97696,       0.977,     0.97705,     0.97709,     0.97713,     0.97717,     0.97722,     0.97726,     0.97728,     0.97721,     0.97713,     0.97706,     0.97698,      0.9769,     0.97683,     0.97676,     0.97669,     0.97662,\n",
      "            0.97656,     0.97649,     0.97642,     0.97636,     0.97629,     0.97623,     0.97617,     0.97611,     0.97606,       0.976,     0.97594,     0.97589,     0.97583,     0.97577,     0.97571,     0.97527,     0.97503,     0.97483,     0.97466,     0.97486,     0.97506,     0.97513,     0.97508,\n",
      "            0.97503,     0.97498,     0.97493,     0.97488,     0.97483,     0.97478,     0.97473,     0.97468,     0.97463,     0.97444,     0.97424,     0.97413,     0.97426,     0.97439,     0.97452,     0.97476,     0.97508,       0.975,     0.97492,     0.97484,     0.97476,     0.97468,      0.9746,\n",
      "            0.97394,     0.97377,     0.97359,     0.97344,     0.97332,      0.9732,     0.97307,     0.97302,     0.97326,     0.97348,     0.97344,     0.97341,     0.97337,     0.97333,      0.9733,     0.97326,     0.97323,     0.97319,     0.97316,     0.97312,     0.97308,     0.97305,     0.97301,\n",
      "            0.97298,     0.97278,     0.97232,     0.97221,     0.97209,     0.97198,     0.97234,     0.97131,     0.97124,     0.97117,      0.9711,     0.97103,     0.97096,     0.97089,     0.97082,     0.97077,     0.97075,     0.97073,     0.97071,     0.97068,     0.97066,     0.97064,     0.97062,\n",
      "             0.9706,     0.97058,     0.97056,     0.97054,     0.97052,      0.9705,     0.97048,     0.97046,     0.97044,     0.97042,      0.9704,     0.97038,     0.97036,     0.97034,     0.97032,      0.9703,     0.97028,     0.97026,     0.97024,      0.9704,     0.97067,     0.97031,     0.97003,\n",
      "            0.96982,     0.96965,     0.96959,     0.96953,     0.96947,     0.96941,     0.96935,     0.96929,     0.96923,     0.96917,     0.96909,     0.96899,     0.96888,     0.96878,     0.96867,     0.96907,     0.96892,     0.96876,     0.96861,     0.96848,     0.96837,     0.96826,     0.96815,\n",
      "            0.96803,      0.9671,     0.96638,     0.96626,     0.96613,       0.966,     0.96588,     0.96567,     0.96544,     0.96526,     0.96515,     0.96505,     0.96494,     0.96484,     0.96471,      0.9645,     0.96428,     0.96469,     0.96464,      0.9646,     0.96455,     0.96451,     0.96447,\n",
      "            0.96442,     0.96438,     0.96433,     0.96429,     0.96424,      0.9642,     0.96415,      0.9641,     0.96405,       0.964,     0.96395,      0.9639,     0.96385,      0.9638,     0.96375,      0.9637,     0.96365,      0.9636,     0.96356,     0.96352,     0.96348,     0.96343,     0.96339,\n",
      "            0.96335,     0.96331,     0.96327,     0.96322,     0.96318,     0.96314,      0.9631,      0.9628,     0.96246,      0.9623,     0.96213,     0.96196,      0.9618,     0.96163,     0.96146,     0.96118,     0.96088,     0.96073,     0.96059,     0.96044,     0.96022,     0.95984,     0.95971,\n",
      "            0.95962,     0.95953,     0.95944,     0.95935,     0.95926,     0.95909,     0.95889,      0.9587,     0.95861,     0.95853,     0.95845,     0.95837,     0.95829,     0.95821,     0.95808,     0.95761,     0.95719,     0.95661,     0.95609,     0.95627,      0.9563,     0.95612,     0.95594,\n",
      "            0.95585,     0.95581,     0.95578,     0.95574,      0.9557,     0.95567,     0.95563,     0.95559,     0.95556,     0.95552,     0.95548,     0.95544,     0.95541,     0.95537,     0.95533,     0.95552,     0.95589,      0.9563,     0.95612,     0.95594,     0.95576,     0.95553,      0.9553,\n",
      "            0.95511,     0.95493,     0.95476,     0.95472,     0.95482,     0.95493,     0.95504,     0.95514,     0.95502,      0.9548,      0.9546,     0.95449,     0.95438,     0.95428,     0.95417,     0.95406,     0.95459,     0.95511,     0.95522,     0.95533,     0.95544,     0.95555,     0.95531,\n",
      "            0.95466,     0.95399,     0.95408,     0.95417,     0.95426,     0.95435,      0.9544,     0.95426,     0.95412,     0.95397,     0.95424,     0.95389,     0.95344,      0.9532,     0.95312,     0.95303,     0.95295,     0.95286,     0.95278,     0.95269,     0.95166,     0.95092,      0.9508,\n",
      "            0.95069,     0.95057,     0.95046,     0.94926,     0.94909,     0.94892,     0.94876,     0.94828,     0.94842,     0.94855,     0.94862,     0.94857,     0.94804,     0.94786,     0.94768,      0.9475,     0.94732,     0.94713,     0.94695,     0.94659,     0.94586,     0.94509,     0.94492,\n",
      "            0.94474,     0.94457,     0.94442,     0.94427,     0.94412,     0.94329,     0.94224,     0.94151,     0.94118,     0.94108,     0.94098,     0.94088,     0.94077,     0.94067,     0.94049,     0.94004,     0.93954,     0.93924,     0.93904,     0.93885,     0.93814,     0.93793,     0.93772,\n",
      "            0.93748,     0.93722,      0.9369,      0.9365,      0.9358,     0.93565,      0.9355,     0.93535,     0.93516,     0.93495,     0.93475,      0.9346,     0.93446,     0.93432,     0.93419,     0.93296,     0.93274,     0.93251,     0.93206,     0.93195,     0.93124,     0.93079,     0.92931,\n",
      "            0.92854,     0.92826,     0.92792,     0.92753,     0.92663,     0.92594,     0.92523,     0.92465,     0.92393,     0.92342,     0.92319,     0.92297,     0.92261,     0.92237,     0.92273,      0.9224,     0.92203,     0.92141,     0.91996,     0.91911,     0.91863,     0.91763,     0.91547,\n",
      "            0.91519,     0.91491,     0.91429,     0.91283,     0.91187,     0.91029,     0.90917,     0.90774,     0.90665,     0.90609,     0.90543,     0.90472,      0.9032,     0.90225,     0.90067,     0.89914,     0.89906,     0.89706,      0.8966,     0.89628,      0.8942,      0.8933,     0.89223,\n",
      "            0.89144,     0.88992,     0.88913,     0.88886,     0.88786,     0.88626,     0.88268,     0.88087,      0.8783,     0.87778,     0.87606,     0.87544,     0.87451,     0.87277,     0.87097,     0.86888,     0.86635,     0.86571,     0.86472,     0.86382,     0.86213,     0.86021,     0.85754,\n",
      "            0.85662,     0.85588,     0.85419,     0.85368,     0.85273,     0.85015,     0.84911,     0.84645,     0.84527,     0.84307,     0.84256,     0.84084,      0.8393,     0.83668,     0.83621,     0.83342,     0.83019,     0.82667,     0.82521,     0.82331,     0.82295,     0.82232,     0.82148,\n",
      "            0.81836,     0.81718,      0.8165,     0.81468,     0.81403,     0.81292,     0.81062,      0.8073,     0.80339,     0.80052,     0.79665,     0.79518,     0.79455,     0.79113,     0.78629,     0.78371,     0.77987,      0.7757,     0.77322,     0.76797,     0.76459,     0.75936,      0.7501,\n",
      "            0.74412,      0.7389,     0.73426,     0.72966,      0.7248,     0.72271,     0.71731,     0.70945,     0.70806,     0.69959,     0.69674,     0.69153,     0.68954,     0.68586,     0.68145,     0.67601,     0.67111,     0.66618,     0.65763,     0.65342,     0.65105,     0.64792,     0.63864,\n",
      "            0.63212,      0.6248,     0.61818,     0.61349,     0.60188,     0.59531,     0.58931,     0.57574,     0.57143,      0.5646,     0.55344,     0.54529,     0.53581,     0.52856,     0.51791,     0.51269,     0.50632,     0.50206,     0.48966,     0.48313,     0.47452,      0.4638,     0.45201,\n",
      "            0.43927,     0.42417,     0.41792,     0.40939,     0.39982,     0.38849,     0.37809,     0.36626,     0.35418,     0.34625,     0.33444,     0.32685,     0.31326,     0.30528,     0.29454,     0.28062,     0.27486,     0.25962,     0.23027,     0.21507,     0.20445,      0.1942,     0.17683,\n",
      "             0.1666,     0.15504,     0.14381,     0.13191,     0.12094,     0.11347,    0.098546,    0.089112,    0.072974,    0.064035,    0.057395,    0.054666,    0.050147,    0.036179,    0.032611,     0.03102,    0.022442,    0.019469,    0.014735,    0.013004,   0.0078586,   0.0068679,   0.0059658,\n",
      "          0.0052388,   0.0045113,   0.0040583,   0.0038837,    0.003709,   0.0035343,   0.0033596,   0.0031849,   0.0030101,   0.0028353,   0.0026604,   0.0024855,   0.0023106,   0.0021357,           0,           0,           0,           0,           0,           0,           0,           0,           0,\n",
      "                  0,           0,           0,           0,           0,           0,           0,           0,           0,           0,           0,           0,           0,           0,           0,           0,           0,           0,           0,           0,           0,           0,           0,\n",
      "                  0,           0,           0,           0,           0,           0,           0,           0,           0,           0,           0]]), 'Confidence', 'F1'], [array([          0,    0.001001,    0.002002,    0.003003,    0.004004,    0.005005,    0.006006,    0.007007,    0.008008,    0.009009,     0.01001,    0.011011,    0.012012,    0.013013,    0.014014,    0.015015,    0.016016,    0.017017,    0.018018,    0.019019,     0.02002,    0.021021,    0.022022,    0.023023,\n",
      "          0.024024,    0.025025,    0.026026,    0.027027,    0.028028,    0.029029,     0.03003,    0.031031,    0.032032,    0.033033,    0.034034,    0.035035,    0.036036,    0.037037,    0.038038,    0.039039,     0.04004,    0.041041,    0.042042,    0.043043,    0.044044,    0.045045,    0.046046,    0.047047,\n",
      "          0.048048,    0.049049,     0.05005,    0.051051,    0.052052,    0.053053,    0.054054,    0.055055,    0.056056,    0.057057,    0.058058,    0.059059,     0.06006,    0.061061,    0.062062,    0.063063,    0.064064,    0.065065,    0.066066,    0.067067,    0.068068,    0.069069,     0.07007,    0.071071,\n",
      "          0.072072,    0.073073,    0.074074,    0.075075,    0.076076,    0.077077,    0.078078,    0.079079,     0.08008,    0.081081,    0.082082,    0.083083,    0.084084,    0.085085,    0.086086,    0.087087,    0.088088,    0.089089,     0.09009,    0.091091,    0.092092,    0.093093,    0.094094,    0.095095,\n",
      "          0.096096,    0.097097,    0.098098,    0.099099,      0.1001,      0.1011,      0.1021,      0.1031,      0.1041,     0.10511,     0.10611,     0.10711,     0.10811,     0.10911,     0.11011,     0.11111,     0.11211,     0.11311,     0.11411,     0.11512,     0.11612,     0.11712,     0.11812,     0.11912,\n",
      "           0.12012,     0.12112,     0.12212,     0.12312,     0.12412,     0.12513,     0.12613,     0.12713,     0.12813,     0.12913,     0.13013,     0.13113,     0.13213,     0.13313,     0.13413,     0.13514,     0.13614,     0.13714,     0.13814,     0.13914,     0.14014,     0.14114,     0.14214,     0.14314,\n",
      "           0.14414,     0.14515,     0.14615,     0.14715,     0.14815,     0.14915,     0.15015,     0.15115,     0.15215,     0.15315,     0.15415,     0.15516,     0.15616,     0.15716,     0.15816,     0.15916,     0.16016,     0.16116,     0.16216,     0.16316,     0.16416,     0.16517,     0.16617,     0.16717,\n",
      "           0.16817,     0.16917,     0.17017,     0.17117,     0.17217,     0.17317,     0.17417,     0.17518,     0.17618,     0.17718,     0.17818,     0.17918,     0.18018,     0.18118,     0.18218,     0.18318,     0.18418,     0.18519,     0.18619,     0.18719,     0.18819,     0.18919,     0.19019,     0.19119,\n",
      "           0.19219,     0.19319,     0.19419,      0.1952,      0.1962,      0.1972,      0.1982,      0.1992,      0.2002,      0.2012,      0.2022,      0.2032,      0.2042,     0.20521,     0.20621,     0.20721,     0.20821,     0.20921,     0.21021,     0.21121,     0.21221,     0.21321,     0.21421,     0.21522,\n",
      "           0.21622,     0.21722,     0.21822,     0.21922,     0.22022,     0.22122,     0.22222,     0.22322,     0.22422,     0.22523,     0.22623,     0.22723,     0.22823,     0.22923,     0.23023,     0.23123,     0.23223,     0.23323,     0.23423,     0.23524,     0.23624,     0.23724,     0.23824,     0.23924,\n",
      "           0.24024,     0.24124,     0.24224,     0.24324,     0.24424,     0.24525,     0.24625,     0.24725,     0.24825,     0.24925,     0.25025,     0.25125,     0.25225,     0.25325,     0.25425,     0.25526,     0.25626,     0.25726,     0.25826,     0.25926,     0.26026,     0.26126,     0.26226,     0.26326,\n",
      "           0.26426,     0.26527,     0.26627,     0.26727,     0.26827,     0.26927,     0.27027,     0.27127,     0.27227,     0.27327,     0.27427,     0.27528,     0.27628,     0.27728,     0.27828,     0.27928,     0.28028,     0.28128,     0.28228,     0.28328,     0.28428,     0.28529,     0.28629,     0.28729,\n",
      "           0.28829,     0.28929,     0.29029,     0.29129,     0.29229,     0.29329,     0.29429,      0.2953,      0.2963,      0.2973,      0.2983,      0.2993,      0.3003,      0.3013,      0.3023,      0.3033,      0.3043,     0.30531,     0.30631,     0.30731,     0.30831,     0.30931,     0.31031,     0.31131,\n",
      "           0.31231,     0.31331,     0.31431,     0.31532,     0.31632,     0.31732,     0.31832,     0.31932,     0.32032,     0.32132,     0.32232,     0.32332,     0.32432,     0.32533,     0.32633,     0.32733,     0.32833,     0.32933,     0.33033,     0.33133,     0.33233,     0.33333,     0.33433,     0.33534,\n",
      "           0.33634,     0.33734,     0.33834,     0.33934,     0.34034,     0.34134,     0.34234,     0.34334,     0.34434,     0.34535,     0.34635,     0.34735,     0.34835,     0.34935,     0.35035,     0.35135,     0.35235,     0.35335,     0.35435,     0.35536,     0.35636,     0.35736,     0.35836,     0.35936,\n",
      "           0.36036,     0.36136,     0.36236,     0.36336,     0.36436,     0.36537,     0.36637,     0.36737,     0.36837,     0.36937,     0.37037,     0.37137,     0.37237,     0.37337,     0.37437,     0.37538,     0.37638,     0.37738,     0.37838,     0.37938,     0.38038,     0.38138,     0.38238,     0.38338,\n",
      "           0.38438,     0.38539,     0.38639,     0.38739,     0.38839,     0.38939,     0.39039,     0.39139,     0.39239,     0.39339,     0.39439,      0.3954,      0.3964,      0.3974,      0.3984,      0.3994,      0.4004,      0.4014,      0.4024,      0.4034,      0.4044,     0.40541,     0.40641,     0.40741,\n",
      "           0.40841,     0.40941,     0.41041,     0.41141,     0.41241,     0.41341,     0.41441,     0.41542,     0.41642,     0.41742,     0.41842,     0.41942,     0.42042,     0.42142,     0.42242,     0.42342,     0.42442,     0.42543,     0.42643,     0.42743,     0.42843,     0.42943,     0.43043,     0.43143,\n",
      "           0.43243,     0.43343,     0.43443,     0.43544,     0.43644,     0.43744,     0.43844,     0.43944,     0.44044,     0.44144,     0.44244,     0.44344,     0.44444,     0.44545,     0.44645,     0.44745,     0.44845,     0.44945,     0.45045,     0.45145,     0.45245,     0.45345,     0.45445,     0.45546,\n",
      "           0.45646,     0.45746,     0.45846,     0.45946,     0.46046,     0.46146,     0.46246,     0.46346,     0.46446,     0.46547,     0.46647,     0.46747,     0.46847,     0.46947,     0.47047,     0.47147,     0.47247,     0.47347,     0.47447,     0.47548,     0.47648,     0.47748,     0.47848,     0.47948,\n",
      "           0.48048,     0.48148,     0.48248,     0.48348,     0.48448,     0.48549,     0.48649,     0.48749,     0.48849,     0.48949,     0.49049,     0.49149,     0.49249,     0.49349,     0.49449,      0.4955,      0.4965,      0.4975,      0.4985,      0.4995,      0.5005,      0.5015,      0.5025,      0.5035,\n",
      "            0.5045,     0.50551,     0.50651,     0.50751,     0.50851,     0.50951,     0.51051,     0.51151,     0.51251,     0.51351,     0.51451,     0.51552,     0.51652,     0.51752,     0.51852,     0.51952,     0.52052,     0.52152,     0.52252,     0.52352,     0.52452,     0.52553,     0.52653,     0.52753,\n",
      "           0.52853,     0.52953,     0.53053,     0.53153,     0.53253,     0.53353,     0.53453,     0.53554,     0.53654,     0.53754,     0.53854,     0.53954,     0.54054,     0.54154,     0.54254,     0.54354,     0.54454,     0.54555,     0.54655,     0.54755,     0.54855,     0.54955,     0.55055,     0.55155,\n",
      "           0.55255,     0.55355,     0.55455,     0.55556,     0.55656,     0.55756,     0.55856,     0.55956,     0.56056,     0.56156,     0.56256,     0.56356,     0.56456,     0.56557,     0.56657,     0.56757,     0.56857,     0.56957,     0.57057,     0.57157,     0.57257,     0.57357,     0.57457,     0.57558,\n",
      "           0.57658,     0.57758,     0.57858,     0.57958,     0.58058,     0.58158,     0.58258,     0.58358,     0.58458,     0.58559,     0.58659,     0.58759,     0.58859,     0.58959,     0.59059,     0.59159,     0.59259,     0.59359,     0.59459,      0.5956,      0.5966,      0.5976,      0.5986,      0.5996,\n",
      "            0.6006,      0.6016,      0.6026,      0.6036,      0.6046,     0.60561,     0.60661,     0.60761,     0.60861,     0.60961,     0.61061,     0.61161,     0.61261,     0.61361,     0.61461,     0.61562,     0.61662,     0.61762,     0.61862,     0.61962,     0.62062,     0.62162,     0.62262,     0.62362,\n",
      "           0.62462,     0.62563,     0.62663,     0.62763,     0.62863,     0.62963,     0.63063,     0.63163,     0.63263,     0.63363,     0.63463,     0.63564,     0.63664,     0.63764,     0.63864,     0.63964,     0.64064,     0.64164,     0.64264,     0.64364,     0.64464,     0.64565,     0.64665,     0.64765,\n",
      "           0.64865,     0.64965,     0.65065,     0.65165,     0.65265,     0.65365,     0.65465,     0.65566,     0.65666,     0.65766,     0.65866,     0.65966,     0.66066,     0.66166,     0.66266,     0.66366,     0.66466,     0.66567,     0.66667,     0.66767,     0.66867,     0.66967,     0.67067,     0.67167,\n",
      "           0.67267,     0.67367,     0.67467,     0.67568,     0.67668,     0.67768,     0.67868,     0.67968,     0.68068,     0.68168,     0.68268,     0.68368,     0.68468,     0.68569,     0.68669,     0.68769,     0.68869,     0.68969,     0.69069,     0.69169,     0.69269,     0.69369,     0.69469,      0.6957,\n",
      "            0.6967,      0.6977,      0.6987,      0.6997,      0.7007,      0.7017,      0.7027,      0.7037,      0.7047,     0.70571,     0.70671,     0.70771,     0.70871,     0.70971,     0.71071,     0.71171,     0.71271,     0.71371,     0.71471,     0.71572,     0.71672,     0.71772,     0.71872,     0.71972,\n",
      "           0.72072,     0.72172,     0.72272,     0.72372,     0.72472,     0.72573,     0.72673,     0.72773,     0.72873,     0.72973,     0.73073,     0.73173,     0.73273,     0.73373,     0.73473,     0.73574,     0.73674,     0.73774,     0.73874,     0.73974,     0.74074,     0.74174,     0.74274,     0.74374,\n",
      "           0.74474,     0.74575,     0.74675,     0.74775,     0.74875,     0.74975,     0.75075,     0.75175,     0.75275,     0.75375,     0.75475,     0.75576,     0.75676,     0.75776,     0.75876,     0.75976,     0.76076,     0.76176,     0.76276,     0.76376,     0.76476,     0.76577,     0.76677,     0.76777,\n",
      "           0.76877,     0.76977,     0.77077,     0.77177,     0.77277,     0.77377,     0.77477,     0.77578,     0.77678,     0.77778,     0.77878,     0.77978,     0.78078,     0.78178,     0.78278,     0.78378,     0.78478,     0.78579,     0.78679,     0.78779,     0.78879,     0.78979,     0.79079,     0.79179,\n",
      "           0.79279,     0.79379,     0.79479,      0.7958,      0.7968,      0.7978,      0.7988,      0.7998,      0.8008,      0.8018,      0.8028,      0.8038,      0.8048,     0.80581,     0.80681,     0.80781,     0.80881,     0.80981,     0.81081,     0.81181,     0.81281,     0.81381,     0.81481,     0.81582,\n",
      "           0.81682,     0.81782,     0.81882,     0.81982,     0.82082,     0.82182,     0.82282,     0.82382,     0.82482,     0.82583,     0.82683,     0.82783,     0.82883,     0.82983,     0.83083,     0.83183,     0.83283,     0.83383,     0.83483,     0.83584,     0.83684,     0.83784,     0.83884,     0.83984,\n",
      "           0.84084,     0.84184,     0.84284,     0.84384,     0.84484,     0.84585,     0.84685,     0.84785,     0.84885,     0.84985,     0.85085,     0.85185,     0.85285,     0.85385,     0.85485,     0.85586,     0.85686,     0.85786,     0.85886,     0.85986,     0.86086,     0.86186,     0.86286,     0.86386,\n",
      "           0.86486,     0.86587,     0.86687,     0.86787,     0.86887,     0.86987,     0.87087,     0.87187,     0.87287,     0.87387,     0.87487,     0.87588,     0.87688,     0.87788,     0.87888,     0.87988,     0.88088,     0.88188,     0.88288,     0.88388,     0.88488,     0.88589,     0.88689,     0.88789,\n",
      "           0.88889,     0.88989,     0.89089,     0.89189,     0.89289,     0.89389,     0.89489,      0.8959,      0.8969,      0.8979,      0.8989,      0.8999,      0.9009,      0.9019,      0.9029,      0.9039,      0.9049,     0.90591,     0.90691,     0.90791,     0.90891,     0.90991,     0.91091,     0.91191,\n",
      "           0.91291,     0.91391,     0.91491,     0.91592,     0.91692,     0.91792,     0.91892,     0.91992,     0.92092,     0.92192,     0.92292,     0.92392,     0.92492,     0.92593,     0.92693,     0.92793,     0.92893,     0.92993,     0.93093,     0.93193,     0.93293,     0.93393,     0.93493,     0.93594,\n",
      "           0.93694,     0.93794,     0.93894,     0.93994,     0.94094,     0.94194,     0.94294,     0.94394,     0.94494,     0.94595,     0.94695,     0.94795,     0.94895,     0.94995,     0.95095,     0.95195,     0.95295,     0.95395,     0.95495,     0.95596,     0.95696,     0.95796,     0.95896,     0.95996,\n",
      "           0.96096,     0.96196,     0.96296,     0.96396,     0.96496,     0.96597,     0.96697,     0.96797,     0.96897,     0.96997,     0.97097,     0.97197,     0.97297,     0.97397,     0.97497,     0.97598,     0.97698,     0.97798,     0.97898,     0.97998,     0.98098,     0.98198,     0.98298,     0.98398,\n",
      "           0.98498,     0.98599,     0.98699,     0.98799,     0.98899,     0.98999,     0.99099,     0.99199,     0.99299,     0.99399,     0.99499,       0.996,       0.997,       0.998,       0.999,           1]), array([[      0.592,     0.59219,     0.68244,     0.73509,     0.76154,     0.78357,     0.79597,     0.80742,     0.81692,      0.8277,     0.83871,     0.84244,       0.847,      0.8522,     0.85499,     0.85841,     0.86119,     0.86178,     0.86425,     0.86685,     0.86944,     0.87167,     0.87317,\n",
      "            0.87699,     0.87858,     0.88054,     0.88337,     0.88449,     0.88583,      0.8896,     0.89283,     0.89597,     0.89857,      0.9004,     0.90257,     0.90346,     0.90514,     0.90834,     0.90907,     0.91006,     0.91064,     0.91108,     0.91141,     0.91173,     0.91282,     0.91345,\n",
      "            0.91427,     0.91622,     0.91708,     0.91756,     0.91814,     0.91944,     0.92094,     0.92169,     0.92332,     0.92402,     0.92399,     0.92444,     0.92496,     0.92589,     0.92639,     0.92681,     0.92715,     0.92749,     0.92762,     0.92771,     0.92781,      0.9279,       0.928,\n",
      "            0.92809,     0.92819,     0.92829,     0.92838,     0.92916,     0.92954,     0.92977,        0.93,     0.93024,     0.93083,     0.93211,      0.9323,     0.93249,     0.93268,     0.93287,     0.93321,     0.93364,     0.93419,     0.93486,     0.93542,     0.93581,     0.93607,     0.93632,\n",
      "            0.93658,     0.93656,     0.93653,     0.93662,     0.93672,     0.93682,     0.93693,     0.93703,     0.93713,     0.93723,     0.93734,     0.93744,      0.9377,     0.93796,     0.93823,     0.93928,     0.93951,     0.93974,     0.93997,      0.9402,     0.94032,     0.94045,     0.94057,\n",
      "            0.94069,     0.94081,     0.94094,     0.94106,      0.9414,     0.94194,     0.94226,     0.94252,     0.94278,     0.94312,     0.94371,     0.94397,     0.94407,     0.94418,     0.94429,     0.94439,      0.9445,      0.9446,     0.94471,     0.94482,     0.94591,     0.94608,     0.94626,\n",
      "            0.94643,     0.94661,     0.94672,     0.94678,     0.94684,      0.9469,     0.94696,     0.94703,     0.94709,     0.94715,     0.94721,     0.94727,     0.94733,     0.94739,     0.94745,     0.94751,     0.94757,     0.94763,     0.94855,     0.94878,     0.94996,      0.9505,     0.95081,\n",
      "            0.95112,     0.95138,     0.95151,     0.95164,     0.95177,      0.9519,     0.95203,     0.95216,     0.95228,     0.95232,     0.95241,      0.9525,     0.95259,     0.95268,     0.95277,     0.95286,     0.95295,     0.95304,     0.95313,     0.95324,     0.95339,     0.95354,     0.95369,\n",
      "            0.95384,     0.95399,     0.95416,      0.9547,     0.95509,     0.95507,     0.95506,     0.95521,     0.95573,     0.95695,     0.95695,     0.95694,     0.95693,     0.95693,     0.95692,     0.95691,     0.95691,      0.9569,     0.95689,     0.95689,     0.95688,     0.95687,     0.95689,\n",
      "            0.95694,       0.957,     0.95705,      0.9571,     0.95716,     0.95721,     0.95726,     0.95731,     0.95737,     0.95742,     0.95747,     0.95752,     0.95758,     0.95763,     0.95768,     0.95773,     0.95779,     0.95828,     0.95959,     0.95982,     0.95989,     0.95997,     0.96004,\n",
      "            0.96012,     0.96019,     0.96026,     0.96034,     0.96041,     0.96048,     0.96056,     0.96063,     0.96071,     0.96099,     0.96134,     0.96169,      0.9618,      0.9619,       0.962,      0.9621,      0.9622,      0.9623,      0.9624,      0.9625,      0.9626,     0.96269,     0.96275,\n",
      "            0.96282,     0.96288,     0.96294,     0.96301,     0.96307,     0.96313,      0.9632,     0.96326,     0.96332,     0.96339,     0.96345,     0.96351,     0.96358,     0.96367,     0.96412,     0.96456,     0.96459,     0.96466,     0.96513,     0.96553,     0.96561,     0.96569,     0.96576,\n",
      "            0.96584,     0.96592,       0.966,     0.96607,     0.96615,     0.96623,     0.96631,     0.96638,     0.96646,     0.96649,     0.96649,     0.96648,     0.96648,     0.96647,     0.96647,     0.96646,     0.96646,     0.96645,     0.96645,     0.96644,     0.96644,     0.96643,     0.96647,\n",
      "            0.96654,     0.96662,     0.96669,     0.96677,     0.96684,     0.96692,     0.96699,     0.96707,     0.96714,     0.96722,      0.9673,     0.96737,     0.96741,     0.96741,     0.96741,      0.9674,      0.9674,     0.96739,     0.96739,     0.96739,     0.96738,     0.96738,     0.96837,\n",
      "            0.96836,     0.96835,     0.96834,     0.96834,     0.96839,     0.96845,      0.9685,     0.96856,     0.96862,     0.96868,     0.96874,      0.9688,     0.96886,     0.96892,     0.96897,     0.96903,     0.96909,     0.96915,     0.96921,     0.96927,     0.96932,     0.96931,     0.96931,\n",
      "             0.9693,     0.97021,     0.97037,     0.97045,     0.97053,     0.97062,      0.9707,     0.97079,     0.97087,     0.97096,     0.97104,     0.97113,     0.97121,     0.97128,     0.97128,     0.97127,     0.97127,     0.97126,     0.97126,     0.97126,     0.97125,     0.97125,     0.97124,\n",
      "            0.97124,     0.97124,     0.97123,     0.97123,     0.97123,     0.97122,     0.97122,     0.97122,     0.97121,     0.97121,     0.97121,      0.9712,      0.9712,      0.9712,     0.97119,     0.97117,     0.97116,     0.97114,     0.97115,     0.97155,     0.97195,     0.97213,     0.97213,\n",
      "            0.97213,     0.97213,     0.97212,     0.97212,     0.97212,     0.97212,     0.97211,     0.97211,     0.97211,      0.9721,     0.97209,     0.97215,     0.97241,     0.97266,     0.97292,     0.97341,     0.97409,     0.97409,     0.97408,     0.97408,     0.97408,     0.97407,     0.97407,\n",
      "            0.97403,     0.97403,     0.97402,     0.97401,       0.974,       0.974,     0.97399,     0.97408,     0.97455,       0.975,       0.975,       0.975,     0.97499,     0.97499,     0.97499,     0.97499,     0.97499,     0.97499,     0.97498,     0.97498,     0.97498,     0.97498,     0.97498,\n",
      "            0.97498,     0.97497,     0.97494,     0.97494,     0.97493,     0.97493,     0.97594,     0.97589,     0.97589,     0.97588,     0.97588,     0.97588,     0.97587,     0.97587,     0.97587,     0.97587,     0.97586,     0.97586,     0.97586,     0.97586,     0.97586,     0.97586,     0.97586,\n",
      "            0.97586,     0.97586,     0.97586,     0.97585,     0.97585,     0.97585,     0.97585,     0.97585,     0.97585,     0.97585,     0.97585,     0.97585,     0.97585,     0.97585,     0.97584,     0.97584,     0.97584,     0.97584,     0.97584,     0.97618,     0.97672,     0.97685,     0.97683,\n",
      "            0.97682,     0.97682,     0.97681,     0.97681,     0.97681,     0.97681,      0.9768,      0.9768,      0.9768,      0.9768,     0.97679,     0.97679,     0.97678,     0.97678,     0.97677,      0.9778,     0.97779,     0.97779,     0.97778,     0.97777,     0.97777,     0.97776,     0.97776,\n",
      "            0.97776,     0.97771,     0.97768,     0.97768,     0.97767,     0.97767,     0.97766,     0.97765,     0.97764,     0.97763,     0.97763,     0.97762,     0.97762,     0.97762,     0.97761,      0.9776,     0.97759,     0.97863,     0.97863,     0.97863,     0.97863,     0.97862,     0.97862,\n",
      "            0.97862,     0.97862,     0.97862,     0.97861,     0.97861,     0.97861,     0.97861,     0.97861,      0.9786,      0.9786,      0.9786,      0.9786,      0.9786,     0.97859,     0.97859,     0.97859,     0.97859,     0.97859,     0.97858,     0.97858,     0.97858,     0.97858,     0.97858,\n",
      "            0.97858,     0.97857,     0.97857,     0.97857,     0.97857,     0.97857,     0.97856,     0.97855,     0.97854,     0.97853,     0.97852,     0.97852,     0.97851,      0.9785,      0.9785,     0.97848,     0.97847,     0.97846,     0.97846,     0.97845,     0.97844,     0.97843,     0.97842,\n",
      "            0.97842,     0.97841,     0.97841,     0.97841,      0.9784,      0.9784,     0.97839,     0.97838,     0.97838,     0.97837,     0.97837,     0.97836,     0.97836,     0.97836,     0.97835,     0.97833,     0.97831,     0.97829,     0.97827,     0.97899,     0.97932,     0.97931,     0.97931,\n",
      "             0.9793,      0.9793,      0.9793,      0.9793,      0.9793,     0.97929,     0.97929,     0.97929,     0.97929,     0.97929,     0.97929,     0.97929,     0.97928,     0.97928,     0.97928,     0.97971,     0.98047,     0.98142,     0.98141,     0.98141,      0.9814,     0.98139,     0.98138,\n",
      "            0.98138,     0.98137,     0.98136,     0.98147,     0.98169,     0.98192,     0.98214,     0.98237,     0.98243,     0.98242,     0.98242,     0.98241,     0.98241,     0.98241,      0.9824,      0.9824,     0.98353,     0.98463,     0.98486,      0.9851,     0.98534,     0.98557,     0.98564,\n",
      "            0.98562,     0.98576,     0.98596,     0.98615,     0.98634,     0.98653,      0.9867,     0.98669,     0.98669,     0.98668,     0.98748,     0.98777,     0.98776,     0.98775,     0.98775,     0.98775,     0.98774,     0.98774,     0.98774,     0.98774,     0.98771,     0.98769,     0.98769,\n",
      "            0.98769,     0.98769,     0.98768,     0.98765,     0.98765,     0.98765,     0.98764,     0.98788,     0.98817,     0.98847,     0.98874,     0.98984,     0.98983,     0.98983,     0.98982,     0.98982,     0.98982,     0.98981,     0.98981,      0.9898,     0.98979,     0.98977,     0.98977,\n",
      "            0.98976,     0.98976,     0.98976,     0.98975,     0.98975,     0.98973,     0.98971,      0.9897,     0.98969,     0.98969,     0.98969,     0.98968,     0.98968,     0.98968,     0.98968,     0.98967,     0.99079,     0.99078,     0.99078,     0.99077,     0.99076,     0.99076,     0.99075,\n",
      "            0.99075,     0.99074,     0.99074,     0.99073,     0.99072,     0.99071,     0.99071,     0.99071,     0.99071,      0.9907,      0.9907,      0.9907,     0.99069,     0.99069,     0.99069,     0.99067,     0.99066,     0.99066,     0.99124,      0.9918,     0.99179,     0.99178,     0.99175,\n",
      "            0.99174,     0.99174,     0.99173,     0.99172,     0.99171,      0.9917,     0.99169,     0.99168,     0.99167,     0.99166,     0.99165,     0.99165,     0.99164,     0.99197,     0.99282,     0.99282,     0.99281,      0.9928,     0.99278,     0.99277,     0.99276,     0.99275,     0.99272,\n",
      "            0.99271,     0.99271,      0.9927,     0.99268,     0.99267,     0.99264,     0.99263,      0.9926,     0.99259,     0.99258,     0.99257,     0.99256,     0.99254,     0.99252,      0.9925,     0.99316,     0.99371,     0.99369,     0.99368,     0.99368,     0.99365,     0.99364,     0.99363,\n",
      "            0.99362,      0.9936,     0.99359,     0.99358,     0.99357,     0.99355,     0.99479,     0.99477,     0.99474,     0.99474,     0.99472,     0.99471,      0.9947,     0.99469,     0.99467,     0.99464,     0.99462,     0.99461,      0.9946,     0.99459,     0.99457,     0.99455,     0.99452,\n",
      "            0.99451,      0.9945,     0.99448,     0.99448,     0.99447,     0.99444,     0.99581,     0.99579,     0.99578,     0.99576,     0.99575,     0.99574,     0.99572,      0.9957,      0.9957,     0.99567,     0.99564,     0.99561,      0.9956,     0.99558,     0.99558,     0.99557,     0.99556,\n",
      "            0.99554,     0.99552,     0.99552,      0.9955,      0.9955,     0.99698,     0.99697,     0.99695,     0.99692,      0.9969,     0.99688,     0.99687,     0.99687,     0.99684,     0.99681,     0.99679,     0.99677,     0.99674,     0.99672,     0.99669,     0.99666,     0.99663,     0.99827,\n",
      "            0.99825,     0.99823,     0.99821,      0.9982,     0.99818,     0.99817,     0.99815,     0.99812,     0.99811,     0.99808,     0.99806,     0.99804,     0.99803,     0.99802,       0.998,     0.99797,     0.99795,     0.99793,     0.99789,     0.99787,     0.99786,     0.99784,     0.99779,\n",
      "            0.99776,     0.99772,     0.99769,     0.99766,      0.9976,     0.99756,     0.99752,     0.99744,     0.99741,     0.99737,      0.9973,     0.99724,     0.99717,     0.99712,     0.99704,       0.997,     0.99695,     0.99691,     0.99681,     0.99675,     0.99668,           1,           1,\n",
      "                  1,           1,           1,           1,           1,           1,           1,           1,           1,           1,           1,           1,           1,           1,           1,           1,           1,           1,           1,           1,           1,           1,           1,\n",
      "                  1,           1,           1,           1,           1,           1,           1,           1,           1,           1,           1,           1,           1,           1,           1,           1,           1,           1,           1,           1,           1,           1,           1,\n",
      "                  1,           1,           1,           1,           1,           1,           1,           1,           1,           1,           1,           1,           1,           1,           1,           1,           1,           1,           1,           1,           1,           1,           1,\n",
      "                  1,           1,           1,           1,           1,           1,           1,           1,           1,           1,           1,           1,           1,           1,           1,           1,           1,           1,           1,           1,           1,           1,           1,\n",
      "                  1,           1,           1,           1,           1,           1,           1,           1,           1,           1,           1]]), 'Confidence', 'Precision'], [array([          0,    0.001001,    0.002002,    0.003003,    0.004004,    0.005005,    0.006006,    0.007007,    0.008008,    0.009009,     0.01001,    0.011011,    0.012012,    0.013013,    0.014014,    0.015015,    0.016016,    0.017017,    0.018018,    0.019019,     0.02002,    0.021021,    0.022022,    0.023023,\n",
      "          0.024024,    0.025025,    0.026026,    0.027027,    0.028028,    0.029029,     0.03003,    0.031031,    0.032032,    0.033033,    0.034034,    0.035035,    0.036036,    0.037037,    0.038038,    0.039039,     0.04004,    0.041041,    0.042042,    0.043043,    0.044044,    0.045045,    0.046046,    0.047047,\n",
      "          0.048048,    0.049049,     0.05005,    0.051051,    0.052052,    0.053053,    0.054054,    0.055055,    0.056056,    0.057057,    0.058058,    0.059059,     0.06006,    0.061061,    0.062062,    0.063063,    0.064064,    0.065065,    0.066066,    0.067067,    0.068068,    0.069069,     0.07007,    0.071071,\n",
      "          0.072072,    0.073073,    0.074074,    0.075075,    0.076076,    0.077077,    0.078078,    0.079079,     0.08008,    0.081081,    0.082082,    0.083083,    0.084084,    0.085085,    0.086086,    0.087087,    0.088088,    0.089089,     0.09009,    0.091091,    0.092092,    0.093093,    0.094094,    0.095095,\n",
      "          0.096096,    0.097097,    0.098098,    0.099099,      0.1001,      0.1011,      0.1021,      0.1031,      0.1041,     0.10511,     0.10611,     0.10711,     0.10811,     0.10911,     0.11011,     0.11111,     0.11211,     0.11311,     0.11411,     0.11512,     0.11612,     0.11712,     0.11812,     0.11912,\n",
      "           0.12012,     0.12112,     0.12212,     0.12312,     0.12412,     0.12513,     0.12613,     0.12713,     0.12813,     0.12913,     0.13013,     0.13113,     0.13213,     0.13313,     0.13413,     0.13514,     0.13614,     0.13714,     0.13814,     0.13914,     0.14014,     0.14114,     0.14214,     0.14314,\n",
      "           0.14414,     0.14515,     0.14615,     0.14715,     0.14815,     0.14915,     0.15015,     0.15115,     0.15215,     0.15315,     0.15415,     0.15516,     0.15616,     0.15716,     0.15816,     0.15916,     0.16016,     0.16116,     0.16216,     0.16316,     0.16416,     0.16517,     0.16617,     0.16717,\n",
      "           0.16817,     0.16917,     0.17017,     0.17117,     0.17217,     0.17317,     0.17417,     0.17518,     0.17618,     0.17718,     0.17818,     0.17918,     0.18018,     0.18118,     0.18218,     0.18318,     0.18418,     0.18519,     0.18619,     0.18719,     0.18819,     0.18919,     0.19019,     0.19119,\n",
      "           0.19219,     0.19319,     0.19419,      0.1952,      0.1962,      0.1972,      0.1982,      0.1992,      0.2002,      0.2012,      0.2022,      0.2032,      0.2042,     0.20521,     0.20621,     0.20721,     0.20821,     0.20921,     0.21021,     0.21121,     0.21221,     0.21321,     0.21421,     0.21522,\n",
      "           0.21622,     0.21722,     0.21822,     0.21922,     0.22022,     0.22122,     0.22222,     0.22322,     0.22422,     0.22523,     0.22623,     0.22723,     0.22823,     0.22923,     0.23023,     0.23123,     0.23223,     0.23323,     0.23423,     0.23524,     0.23624,     0.23724,     0.23824,     0.23924,\n",
      "           0.24024,     0.24124,     0.24224,     0.24324,     0.24424,     0.24525,     0.24625,     0.24725,     0.24825,     0.24925,     0.25025,     0.25125,     0.25225,     0.25325,     0.25425,     0.25526,     0.25626,     0.25726,     0.25826,     0.25926,     0.26026,     0.26126,     0.26226,     0.26326,\n",
      "           0.26426,     0.26527,     0.26627,     0.26727,     0.26827,     0.26927,     0.27027,     0.27127,     0.27227,     0.27327,     0.27427,     0.27528,     0.27628,     0.27728,     0.27828,     0.27928,     0.28028,     0.28128,     0.28228,     0.28328,     0.28428,     0.28529,     0.28629,     0.28729,\n",
      "           0.28829,     0.28929,     0.29029,     0.29129,     0.29229,     0.29329,     0.29429,      0.2953,      0.2963,      0.2973,      0.2983,      0.2993,      0.3003,      0.3013,      0.3023,      0.3033,      0.3043,     0.30531,     0.30631,     0.30731,     0.30831,     0.30931,     0.31031,     0.31131,\n",
      "           0.31231,     0.31331,     0.31431,     0.31532,     0.31632,     0.31732,     0.31832,     0.31932,     0.32032,     0.32132,     0.32232,     0.32332,     0.32432,     0.32533,     0.32633,     0.32733,     0.32833,     0.32933,     0.33033,     0.33133,     0.33233,     0.33333,     0.33433,     0.33534,\n",
      "           0.33634,     0.33734,     0.33834,     0.33934,     0.34034,     0.34134,     0.34234,     0.34334,     0.34434,     0.34535,     0.34635,     0.34735,     0.34835,     0.34935,     0.35035,     0.35135,     0.35235,     0.35335,     0.35435,     0.35536,     0.35636,     0.35736,     0.35836,     0.35936,\n",
      "           0.36036,     0.36136,     0.36236,     0.36336,     0.36436,     0.36537,     0.36637,     0.36737,     0.36837,     0.36937,     0.37037,     0.37137,     0.37237,     0.37337,     0.37437,     0.37538,     0.37638,     0.37738,     0.37838,     0.37938,     0.38038,     0.38138,     0.38238,     0.38338,\n",
      "           0.38438,     0.38539,     0.38639,     0.38739,     0.38839,     0.38939,     0.39039,     0.39139,     0.39239,     0.39339,     0.39439,      0.3954,      0.3964,      0.3974,      0.3984,      0.3994,      0.4004,      0.4014,      0.4024,      0.4034,      0.4044,     0.40541,     0.40641,     0.40741,\n",
      "           0.40841,     0.40941,     0.41041,     0.41141,     0.41241,     0.41341,     0.41441,     0.41542,     0.41642,     0.41742,     0.41842,     0.41942,     0.42042,     0.42142,     0.42242,     0.42342,     0.42442,     0.42543,     0.42643,     0.42743,     0.42843,     0.42943,     0.43043,     0.43143,\n",
      "           0.43243,     0.43343,     0.43443,     0.43544,     0.43644,     0.43744,     0.43844,     0.43944,     0.44044,     0.44144,     0.44244,     0.44344,     0.44444,     0.44545,     0.44645,     0.44745,     0.44845,     0.44945,     0.45045,     0.45145,     0.45245,     0.45345,     0.45445,     0.45546,\n",
      "           0.45646,     0.45746,     0.45846,     0.45946,     0.46046,     0.46146,     0.46246,     0.46346,     0.46446,     0.46547,     0.46647,     0.46747,     0.46847,     0.46947,     0.47047,     0.47147,     0.47247,     0.47347,     0.47447,     0.47548,     0.47648,     0.47748,     0.47848,     0.47948,\n",
      "           0.48048,     0.48148,     0.48248,     0.48348,     0.48448,     0.48549,     0.48649,     0.48749,     0.48849,     0.48949,     0.49049,     0.49149,     0.49249,     0.49349,     0.49449,      0.4955,      0.4965,      0.4975,      0.4985,      0.4995,      0.5005,      0.5015,      0.5025,      0.5035,\n",
      "            0.5045,     0.50551,     0.50651,     0.50751,     0.50851,     0.50951,     0.51051,     0.51151,     0.51251,     0.51351,     0.51451,     0.51552,     0.51652,     0.51752,     0.51852,     0.51952,     0.52052,     0.52152,     0.52252,     0.52352,     0.52452,     0.52553,     0.52653,     0.52753,\n",
      "           0.52853,     0.52953,     0.53053,     0.53153,     0.53253,     0.53353,     0.53453,     0.53554,     0.53654,     0.53754,     0.53854,     0.53954,     0.54054,     0.54154,     0.54254,     0.54354,     0.54454,     0.54555,     0.54655,     0.54755,     0.54855,     0.54955,     0.55055,     0.55155,\n",
      "           0.55255,     0.55355,     0.55455,     0.55556,     0.55656,     0.55756,     0.55856,     0.55956,     0.56056,     0.56156,     0.56256,     0.56356,     0.56456,     0.56557,     0.56657,     0.56757,     0.56857,     0.56957,     0.57057,     0.57157,     0.57257,     0.57357,     0.57457,     0.57558,\n",
      "           0.57658,     0.57758,     0.57858,     0.57958,     0.58058,     0.58158,     0.58258,     0.58358,     0.58458,     0.58559,     0.58659,     0.58759,     0.58859,     0.58959,     0.59059,     0.59159,     0.59259,     0.59359,     0.59459,      0.5956,      0.5966,      0.5976,      0.5986,      0.5996,\n",
      "            0.6006,      0.6016,      0.6026,      0.6036,      0.6046,     0.60561,     0.60661,     0.60761,     0.60861,     0.60961,     0.61061,     0.61161,     0.61261,     0.61361,     0.61461,     0.61562,     0.61662,     0.61762,     0.61862,     0.61962,     0.62062,     0.62162,     0.62262,     0.62362,\n",
      "           0.62462,     0.62563,     0.62663,     0.62763,     0.62863,     0.62963,     0.63063,     0.63163,     0.63263,     0.63363,     0.63463,     0.63564,     0.63664,     0.63764,     0.63864,     0.63964,     0.64064,     0.64164,     0.64264,     0.64364,     0.64464,     0.64565,     0.64665,     0.64765,\n",
      "           0.64865,     0.64965,     0.65065,     0.65165,     0.65265,     0.65365,     0.65465,     0.65566,     0.65666,     0.65766,     0.65866,     0.65966,     0.66066,     0.66166,     0.66266,     0.66366,     0.66466,     0.66567,     0.66667,     0.66767,     0.66867,     0.66967,     0.67067,     0.67167,\n",
      "           0.67267,     0.67367,     0.67467,     0.67568,     0.67668,     0.67768,     0.67868,     0.67968,     0.68068,     0.68168,     0.68268,     0.68368,     0.68468,     0.68569,     0.68669,     0.68769,     0.68869,     0.68969,     0.69069,     0.69169,     0.69269,     0.69369,     0.69469,      0.6957,\n",
      "            0.6967,      0.6977,      0.6987,      0.6997,      0.7007,      0.7017,      0.7027,      0.7037,      0.7047,     0.70571,     0.70671,     0.70771,     0.70871,     0.70971,     0.71071,     0.71171,     0.71271,     0.71371,     0.71471,     0.71572,     0.71672,     0.71772,     0.71872,     0.71972,\n",
      "           0.72072,     0.72172,     0.72272,     0.72372,     0.72472,     0.72573,     0.72673,     0.72773,     0.72873,     0.72973,     0.73073,     0.73173,     0.73273,     0.73373,     0.73473,     0.73574,     0.73674,     0.73774,     0.73874,     0.73974,     0.74074,     0.74174,     0.74274,     0.74374,\n",
      "           0.74474,     0.74575,     0.74675,     0.74775,     0.74875,     0.74975,     0.75075,     0.75175,     0.75275,     0.75375,     0.75475,     0.75576,     0.75676,     0.75776,     0.75876,     0.75976,     0.76076,     0.76176,     0.76276,     0.76376,     0.76476,     0.76577,     0.76677,     0.76777,\n",
      "           0.76877,     0.76977,     0.77077,     0.77177,     0.77277,     0.77377,     0.77477,     0.77578,     0.77678,     0.77778,     0.77878,     0.77978,     0.78078,     0.78178,     0.78278,     0.78378,     0.78478,     0.78579,     0.78679,     0.78779,     0.78879,     0.78979,     0.79079,     0.79179,\n",
      "           0.79279,     0.79379,     0.79479,      0.7958,      0.7968,      0.7978,      0.7988,      0.7998,      0.8008,      0.8018,      0.8028,      0.8038,      0.8048,     0.80581,     0.80681,     0.80781,     0.80881,     0.80981,     0.81081,     0.81181,     0.81281,     0.81381,     0.81481,     0.81582,\n",
      "           0.81682,     0.81782,     0.81882,     0.81982,     0.82082,     0.82182,     0.82282,     0.82382,     0.82482,     0.82583,     0.82683,     0.82783,     0.82883,     0.82983,     0.83083,     0.83183,     0.83283,     0.83383,     0.83483,     0.83584,     0.83684,     0.83784,     0.83884,     0.83984,\n",
      "           0.84084,     0.84184,     0.84284,     0.84384,     0.84484,     0.84585,     0.84685,     0.84785,     0.84885,     0.84985,     0.85085,     0.85185,     0.85285,     0.85385,     0.85485,     0.85586,     0.85686,     0.85786,     0.85886,     0.85986,     0.86086,     0.86186,     0.86286,     0.86386,\n",
      "           0.86486,     0.86587,     0.86687,     0.86787,     0.86887,     0.86987,     0.87087,     0.87187,     0.87287,     0.87387,     0.87487,     0.87588,     0.87688,     0.87788,     0.87888,     0.87988,     0.88088,     0.88188,     0.88288,     0.88388,     0.88488,     0.88589,     0.88689,     0.88789,\n",
      "           0.88889,     0.88989,     0.89089,     0.89189,     0.89289,     0.89389,     0.89489,      0.8959,      0.8969,      0.8979,      0.8989,      0.8999,      0.9009,      0.9019,      0.9029,      0.9039,      0.9049,     0.90591,     0.90691,     0.90791,     0.90891,     0.90991,     0.91091,     0.91191,\n",
      "           0.91291,     0.91391,     0.91491,     0.91592,     0.91692,     0.91792,     0.91892,     0.91992,     0.92092,     0.92192,     0.92292,     0.92392,     0.92492,     0.92593,     0.92693,     0.92793,     0.92893,     0.92993,     0.93093,     0.93193,     0.93293,     0.93393,     0.93493,     0.93594,\n",
      "           0.93694,     0.93794,     0.93894,     0.93994,     0.94094,     0.94194,     0.94294,     0.94394,     0.94494,     0.94595,     0.94695,     0.94795,     0.94895,     0.94995,     0.95095,     0.95195,     0.95295,     0.95395,     0.95495,     0.95596,     0.95696,     0.95796,     0.95896,     0.95996,\n",
      "           0.96096,     0.96196,     0.96296,     0.96396,     0.96496,     0.96597,     0.96697,     0.96797,     0.96897,     0.96997,     0.97097,     0.97197,     0.97297,     0.97397,     0.97497,     0.97598,     0.97698,     0.97798,     0.97898,     0.97998,     0.98098,     0.98198,     0.98298,     0.98398,\n",
      "           0.98498,     0.98599,     0.98699,     0.98799,     0.98899,     0.98999,     0.99099,     0.99199,     0.99299,     0.99399,     0.99499,       0.996,       0.997,       0.998,       0.999,           1]), array([[    0.99896,     0.99896,     0.99896,     0.99896,     0.99896,     0.99896,     0.99896,     0.99792,     0.99792,     0.99792,     0.99792,     0.99792,     0.99792,     0.99792,     0.99792,     0.99792,     0.99792,     0.99792,     0.99792,     0.99792,     0.99792,     0.99792,     0.99792,\n",
      "            0.99792,     0.99792,     0.99792,     0.99792,     0.99792,     0.99792,     0.99792,     0.99792,     0.99792,     0.99792,     0.99792,     0.99792,     0.99792,     0.99792,     0.99792,     0.99792,     0.99792,     0.99792,     0.99792,     0.99792,     0.99792,     0.99792,     0.99792,\n",
      "            0.99792,     0.99792,     0.99792,     0.99792,     0.99792,     0.99792,     0.99792,     0.99792,     0.99792,     0.99769,     0.99688,     0.99688,     0.99688,     0.99688,     0.99688,     0.99688,     0.99688,     0.99688,     0.99688,     0.99688,     0.99688,     0.99688,     0.99688,\n",
      "            0.99688,     0.99688,     0.99688,     0.99688,     0.99688,     0.99688,     0.99688,     0.99688,     0.99688,     0.99688,     0.99688,     0.99688,     0.99688,     0.99688,     0.99688,     0.99688,     0.99688,     0.99688,     0.99688,     0.99688,     0.99688,     0.99688,     0.99688,\n",
      "            0.99688,     0.99639,     0.99589,     0.99585,     0.99585,     0.99585,     0.99585,     0.99585,     0.99585,     0.99585,     0.99585,     0.99585,     0.99585,     0.99585,     0.99585,     0.99585,     0.99585,     0.99585,     0.99585,     0.99585,     0.99585,     0.99585,     0.99585,\n",
      "            0.99585,     0.99585,     0.99585,     0.99585,     0.99585,     0.99585,     0.99585,     0.99585,     0.99585,     0.99585,     0.99585,     0.99585,     0.99585,     0.99585,     0.99585,     0.99585,     0.99585,     0.99585,     0.99585,     0.99585,     0.99585,     0.99585,     0.99585,\n",
      "            0.99585,     0.99585,     0.99585,     0.99585,     0.99585,     0.99585,     0.99585,     0.99585,     0.99585,     0.99585,     0.99585,     0.99585,     0.99585,     0.99585,     0.99585,     0.99585,     0.99585,     0.99585,     0.99547,     0.99481,     0.99481,     0.99481,     0.99481,\n",
      "            0.99481,     0.99481,     0.99481,     0.99481,     0.99481,     0.99481,     0.99481,     0.99481,     0.99465,     0.99377,     0.99377,     0.99377,     0.99377,     0.99377,     0.99377,     0.99377,     0.99377,     0.99377,     0.99377,     0.99377,     0.99377,     0.99377,     0.99377,\n",
      "            0.99377,     0.99377,     0.99377,     0.99377,     0.99367,     0.99332,     0.99297,     0.99273,     0.99273,     0.99265,     0.99248,     0.99232,     0.99215,     0.99199,     0.99182,     0.99166,      0.9915,     0.99135,      0.9912,     0.99105,      0.9909,     0.99074,     0.99065,\n",
      "            0.99065,     0.99065,     0.99065,     0.99065,     0.99065,     0.99065,     0.99065,     0.99065,     0.99065,     0.99065,     0.99065,     0.99065,     0.99065,     0.99065,     0.99065,     0.99065,     0.99065,     0.99065,     0.99065,     0.99065,     0.99065,     0.99065,     0.99065,\n",
      "            0.99065,     0.99065,     0.99065,     0.99065,     0.99065,     0.99065,     0.99065,     0.99065,     0.99065,     0.99065,     0.99065,     0.99065,     0.99065,     0.99065,     0.99065,     0.99065,     0.99065,     0.99065,     0.99065,     0.99065,     0.99065,     0.99065,     0.99065,\n",
      "            0.99065,     0.99065,     0.99065,     0.99065,     0.99065,     0.99065,     0.99065,     0.99065,     0.99065,     0.99065,     0.99065,     0.99065,     0.99065,     0.99065,     0.99065,     0.99065,      0.9901,     0.98858,     0.98858,     0.98858,     0.98858,     0.98858,     0.98858,\n",
      "            0.98858,     0.98858,     0.98858,     0.98858,     0.98858,     0.98858,     0.98858,     0.98858,     0.98858,      0.9885,     0.98834,     0.98818,     0.98802,     0.98787,     0.98771,     0.98755,     0.98739,     0.98723,     0.98707,     0.98691,     0.98674,     0.98658,      0.9865,\n",
      "             0.9865,      0.9865,      0.9865,      0.9865,      0.9865,      0.9865,      0.9865,      0.9865,      0.9865,      0.9865,      0.9865,      0.9865,     0.98645,     0.98635,     0.98624,     0.98613,     0.98602,     0.98592,     0.98581,      0.9857,     0.98559,     0.98549,      0.9854,\n",
      "            0.98516,     0.98492,     0.98469,     0.98445,     0.98442,     0.98442,     0.98442,     0.98442,     0.98442,     0.98442,     0.98442,     0.98442,     0.98442,     0.98442,     0.98442,     0.98442,     0.98442,     0.98442,     0.98442,     0.98442,     0.98441,     0.98409,     0.98376,\n",
      "            0.98344,     0.98339,     0.98339,     0.98339,     0.98339,     0.98339,     0.98339,     0.98339,     0.98339,     0.98339,     0.98339,     0.98339,     0.98339,     0.98336,     0.98321,     0.98306,     0.98291,     0.98276,     0.98262,     0.98247,     0.98232,     0.98219,     0.98206,\n",
      "            0.98193,      0.9818,     0.98167,     0.98154,     0.98141,     0.98128,     0.98117,     0.98106,     0.98095,     0.98084,     0.98072,     0.98061,      0.9805,     0.98039,     0.98028,     0.97942,     0.97893,     0.97855,     0.97819,     0.97819,     0.97819,     0.97814,     0.97804,\n",
      "            0.97794,     0.97785,     0.97775,     0.97765,     0.97755,     0.97745,     0.97736,     0.97726,     0.97716,     0.97679,      0.9764,     0.97612,     0.97612,     0.97612,     0.97612,     0.97612,     0.97608,     0.97592,     0.97576,     0.97561,     0.97545,     0.97529,     0.97514,\n",
      "            0.97385,     0.97351,     0.97316,     0.97288,     0.97263,     0.97239,     0.97215,     0.97196,     0.97196,     0.97196,     0.97189,     0.97182,     0.97175,     0.97168,     0.97161,     0.97154,     0.97147,      0.9714,     0.97133,     0.97126,      0.9712,     0.97113,     0.97106,\n",
      "            0.97099,     0.97059,     0.96971,     0.96949,     0.96927,     0.96905,     0.96876,     0.96676,     0.96663,     0.96649,     0.96636,     0.96622,     0.96609,     0.96595,     0.96582,     0.96572,     0.96568,     0.96564,      0.9656,     0.96556,     0.96552,     0.96549,     0.96545,\n",
      "            0.96541,     0.96537,     0.96533,     0.96529,     0.96525,     0.96521,     0.96517,     0.96514,      0.9651,     0.96506,     0.96502,     0.96498,     0.96494,      0.9649,     0.96486,     0.96482,     0.96479,     0.96475,     0.96471,     0.96469,     0.96469,     0.96385,     0.96332,\n",
      "            0.96292,     0.96259,     0.96247,     0.96235,     0.96224,     0.96212,     0.96201,     0.96189,     0.96177,     0.96166,     0.96151,     0.96131,     0.96111,     0.96091,     0.96071,     0.96049,      0.9602,      0.9599,     0.95961,     0.95936,     0.95915,     0.95893,     0.95872,\n",
      "             0.9585,      0.9567,     0.95534,      0.9551,     0.95486,     0.95462,     0.95437,     0.95399,     0.95355,      0.9532,     0.95299,     0.95279,     0.95259,     0.95239,     0.95215,     0.95174,     0.95133,     0.95114,     0.95105,     0.95097,     0.95088,      0.9508,     0.95071,\n",
      "            0.95063,     0.95054,     0.95046,     0.95037,     0.95029,      0.9502,     0.95011,     0.95002,     0.94992,     0.94983,     0.94973,     0.94964,     0.94954,     0.94944,     0.94935,     0.94925,     0.94916,     0.94907,     0.94899,     0.94891,     0.94883,     0.94875,     0.94867,\n",
      "            0.94859,     0.94851,     0.94843,     0.94835,     0.94827,     0.94819,     0.94811,     0.94755,     0.94691,     0.94659,     0.94627,     0.94596,     0.94564,     0.94533,     0.94501,     0.94448,     0.94391,     0.94363,     0.94335,     0.94308,     0.94266,     0.94194,      0.9417,\n",
      "            0.94153,     0.94136,     0.94119,     0.94102,     0.94085,     0.94053,     0.94016,     0.93979,     0.93963,     0.93947,     0.93932,     0.93917,     0.93902,     0.93887,     0.93863,     0.93775,     0.93696,     0.93588,      0.9349,     0.93458,     0.93434,       0.934,     0.93365,\n",
      "            0.93349,     0.93343,     0.93336,     0.93329,     0.93322,     0.93315,     0.93308,     0.93301,     0.93294,     0.93287,     0.93281,     0.93274,     0.93267,      0.9326,     0.93253,      0.9325,      0.9325,     0.93243,      0.9321,     0.93176,     0.93142,     0.93099,     0.93057,\n",
      "            0.93021,     0.92988,     0.92956,     0.92939,     0.92939,     0.92939,     0.92939,     0.92939,      0.9291,     0.92868,     0.92831,     0.92811,     0.92791,     0.92771,     0.92751,     0.92731,     0.92731,     0.92731,     0.92731,     0.92731,     0.92731,     0.92731,     0.92679,\n",
      "            0.92558,      0.9242,      0.9242,      0.9242,      0.9242,      0.9242,     0.92415,     0.92389,     0.92363,     0.92336,     0.92316,     0.92227,     0.92144,     0.92099,     0.92084,     0.92068,     0.92052,     0.92036,     0.92021,     0.92005,     0.91814,     0.91678,     0.91657,\n",
      "            0.91636,     0.91615,     0.91594,     0.91373,     0.91343,     0.91313,     0.91282,     0.91173,     0.91173,     0.91173,     0.91163,      0.9106,     0.90963,     0.90931,     0.90898,     0.90865,     0.90832,     0.90798,     0.90765,     0.90699,     0.90566,     0.90428,     0.90395,\n",
      "            0.90363,     0.90332,     0.90305,     0.90278,     0.90251,       0.901,     0.89912,     0.89779,      0.8972,     0.89702,     0.89683,     0.89665,     0.89647,     0.89629,     0.89595,     0.89515,     0.89333,     0.89279,     0.89244,     0.89209,     0.89083,     0.89046,     0.89008,\n",
      "            0.88965,     0.88918,     0.88861,     0.88789,     0.88665,     0.88638,     0.88611,     0.88584,     0.88551,     0.88515,     0.88478,     0.88452,     0.88427,     0.88403,     0.88378,     0.88161,     0.88121,     0.88081,     0.87954,     0.87892,     0.87766,     0.87686,     0.87427,\n",
      "            0.87291,     0.87241,     0.87182,     0.87115,     0.86956,     0.86836,     0.86713,     0.86611,     0.86486,     0.86396,     0.86357,     0.86318,     0.86256,     0.86189,     0.86187,      0.8613,     0.86067,     0.85959,     0.85709,     0.85562,      0.8548,     0.85308,     0.84938,\n",
      "             0.8489,     0.84842,     0.84737,     0.84487,     0.84324,     0.84056,     0.83866,     0.83625,     0.83441,     0.83346,     0.83236,     0.83116,     0.82861,     0.82704,      0.8244,     0.82139,     0.82087,     0.81757,      0.8168,     0.81627,     0.81284,     0.81137,     0.80961,\n",
      "            0.80831,     0.80584,     0.80455,      0.8041,     0.80249,     0.79988,     0.79329,     0.79038,     0.78626,     0.78543,     0.78269,      0.7817,     0.78024,     0.77748,     0.77464,     0.77134,     0.76738,     0.76639,     0.76485,     0.76344,     0.76082,     0.75785,     0.75372,\n",
      "            0.75232,     0.75118,     0.74859,      0.7478,     0.74636,     0.74242,     0.74008,     0.73607,     0.73428,     0.73098,     0.73021,     0.72764,     0.72535,     0.72146,     0.72077,     0.71664,      0.7119,     0.70674,     0.70461,     0.70186,     0.70134,     0.70043,     0.69921,\n",
      "            0.69472,     0.69302,     0.69205,     0.68945,     0.68852,     0.68623,     0.68296,     0.67827,     0.67278,     0.66877,      0.6634,     0.66136,      0.6605,      0.6558,     0.64919,     0.64568,      0.6405,      0.6349,     0.63159,     0.62464,     0.62018,     0.61334,     0.60075,\n",
      "            0.59312,     0.58653,     0.58071,     0.57498,     0.56897,      0.5664,     0.55981,     0.55029,     0.54862,     0.53854,     0.53517,     0.52905,     0.52673,     0.52246,     0.51736,     0.51112,     0.50554,     0.49997,     0.49041,     0.48575,     0.48314,      0.4797,     0.46961,\n",
      "             0.4626,     0.45481,     0.44784,     0.44293,     0.43094,     0.42424,     0.41817,     0.40466,     0.40042,     0.39375,     0.38299,     0.37523,     0.36632,     0.35958,     0.34981,     0.34507,     0.33933,     0.33551,     0.32454,     0.31884,     0.31138,     0.30191,       0.292,\n",
      "            0.28145,     0.26918,     0.26416,     0.25738,     0.24986,     0.24107,     0.23311,     0.22419,      0.2152,     0.20937,      0.2008,     0.19535,     0.18572,     0.18013,     0.17271,     0.16321,     0.15932,     0.14917,     0.13012,     0.12049,     0.11386,     0.10755,    0.096993,\n",
      "            0.09087,    0.084033,    0.077474,    0.070615,     0.06436,    0.060147,    0.051827,    0.046634,    0.037869,    0.033077,    0.029545,    0.028101,    0.025719,    0.018423,    0.016576,    0.015755,    0.011349,     0.00983,    0.007422,   0.0065445,   0.0039448,   0.0034458,   0.0029918,\n",
      "          0.0026263,   0.0022608,   0.0020333,   0.0019456,    0.001858,   0.0017703,   0.0016826,    0.001595,   0.0015073,   0.0014196,    0.001332,   0.0012443,   0.0011567,    0.001069,           0,           0,           0,           0,           0,           0,           0,           0,           0,\n",
      "                  0,           0,           0,           0,           0,           0,           0,           0,           0,           0,           0,           0,           0,           0,           0,           0,           0,           0,           0,           0,           0,           0,           0,\n",
      "                  0,           0,           0,           0,           0,           0,           0,           0,           0,           0,           0]]), 'Confidence', 'Recall']]\n",
      "fitness: 0.846418577350747\n",
      "keys: ['metrics/precision(B)', 'metrics/recall(B)', 'metrics/mAP50(B)', 'metrics/mAP50-95(B)']\n",
      "maps: array([    0.83036])\n",
      "names: {0: 'Pulmonary nodules'}\n",
      "plot: True\n",
      "results_dict: {'metrics/precision(B)': 0.9674050793413541, 'metrics/recall(B)': 0.9862390947189352, 'metrics/mAP50(B)': 0.9909444868825499, 'metrics/mAP50-95(B)': 0.8303601429583244, 'fitness': 0.846418577350747}\n",
      "save_dir: WindowsPath('runs/detect/train143')\n",
      "speed: {'preprocess': 0.6448021806536681, 'inference': 17.24607080437808, 'loss': 0.005188513148734627, 'postprocess': 1.9533101890936324}\n",
      "task: 'detect'\n",
      "Test Results: ultralytics.utils.metrics.DetMetrics object with attributes:\n",
      "\n",
      "ap_class_index: array([0])\n",
      "box: ultralytics.utils.metrics.Metric object\n",
      "confusion_matrix: <ultralytics.utils.metrics.ConfusionMatrix object at 0x000001CC981565A0>\n",
      "curves: ['Precision-Recall(B)', 'F1-Confidence(B)', 'Precision-Confidence(B)', 'Recall-Confidence(B)']\n",
      "curves_results: [[array([          0,    0.001001,    0.002002,    0.003003,    0.004004,    0.005005,    0.006006,    0.007007,    0.008008,    0.009009,     0.01001,    0.011011,    0.012012,    0.013013,    0.014014,    0.015015,    0.016016,    0.017017,    0.018018,    0.019019,     0.02002,    0.021021,    0.022022,    0.023023,\n",
      "          0.024024,    0.025025,    0.026026,    0.027027,    0.028028,    0.029029,     0.03003,    0.031031,    0.032032,    0.033033,    0.034034,    0.035035,    0.036036,    0.037037,    0.038038,    0.039039,     0.04004,    0.041041,    0.042042,    0.043043,    0.044044,    0.045045,    0.046046,    0.047047,\n",
      "          0.048048,    0.049049,     0.05005,    0.051051,    0.052052,    0.053053,    0.054054,    0.055055,    0.056056,    0.057057,    0.058058,    0.059059,     0.06006,    0.061061,    0.062062,    0.063063,    0.064064,    0.065065,    0.066066,    0.067067,    0.068068,    0.069069,     0.07007,    0.071071,\n",
      "          0.072072,    0.073073,    0.074074,    0.075075,    0.076076,    0.077077,    0.078078,    0.079079,     0.08008,    0.081081,    0.082082,    0.083083,    0.084084,    0.085085,    0.086086,    0.087087,    0.088088,    0.089089,     0.09009,    0.091091,    0.092092,    0.093093,    0.094094,    0.095095,\n",
      "          0.096096,    0.097097,    0.098098,    0.099099,      0.1001,      0.1011,      0.1021,      0.1031,      0.1041,     0.10511,     0.10611,     0.10711,     0.10811,     0.10911,     0.11011,     0.11111,     0.11211,     0.11311,     0.11411,     0.11512,     0.11612,     0.11712,     0.11812,     0.11912,\n",
      "           0.12012,     0.12112,     0.12212,     0.12312,     0.12412,     0.12513,     0.12613,     0.12713,     0.12813,     0.12913,     0.13013,     0.13113,     0.13213,     0.13313,     0.13413,     0.13514,     0.13614,     0.13714,     0.13814,     0.13914,     0.14014,     0.14114,     0.14214,     0.14314,\n",
      "           0.14414,     0.14515,     0.14615,     0.14715,     0.14815,     0.14915,     0.15015,     0.15115,     0.15215,     0.15315,     0.15415,     0.15516,     0.15616,     0.15716,     0.15816,     0.15916,     0.16016,     0.16116,     0.16216,     0.16316,     0.16416,     0.16517,     0.16617,     0.16717,\n",
      "           0.16817,     0.16917,     0.17017,     0.17117,     0.17217,     0.17317,     0.17417,     0.17518,     0.17618,     0.17718,     0.17818,     0.17918,     0.18018,     0.18118,     0.18218,     0.18318,     0.18418,     0.18519,     0.18619,     0.18719,     0.18819,     0.18919,     0.19019,     0.19119,\n",
      "           0.19219,     0.19319,     0.19419,      0.1952,      0.1962,      0.1972,      0.1982,      0.1992,      0.2002,      0.2012,      0.2022,      0.2032,      0.2042,     0.20521,     0.20621,     0.20721,     0.20821,     0.20921,     0.21021,     0.21121,     0.21221,     0.21321,     0.21421,     0.21522,\n",
      "           0.21622,     0.21722,     0.21822,     0.21922,     0.22022,     0.22122,     0.22222,     0.22322,     0.22422,     0.22523,     0.22623,     0.22723,     0.22823,     0.22923,     0.23023,     0.23123,     0.23223,     0.23323,     0.23423,     0.23524,     0.23624,     0.23724,     0.23824,     0.23924,\n",
      "           0.24024,     0.24124,     0.24224,     0.24324,     0.24424,     0.24525,     0.24625,     0.24725,     0.24825,     0.24925,     0.25025,     0.25125,     0.25225,     0.25325,     0.25425,     0.25526,     0.25626,     0.25726,     0.25826,     0.25926,     0.26026,     0.26126,     0.26226,     0.26326,\n",
      "           0.26426,     0.26527,     0.26627,     0.26727,     0.26827,     0.26927,     0.27027,     0.27127,     0.27227,     0.27327,     0.27427,     0.27528,     0.27628,     0.27728,     0.27828,     0.27928,     0.28028,     0.28128,     0.28228,     0.28328,     0.28428,     0.28529,     0.28629,     0.28729,\n",
      "           0.28829,     0.28929,     0.29029,     0.29129,     0.29229,     0.29329,     0.29429,      0.2953,      0.2963,      0.2973,      0.2983,      0.2993,      0.3003,      0.3013,      0.3023,      0.3033,      0.3043,     0.30531,     0.30631,     0.30731,     0.30831,     0.30931,     0.31031,     0.31131,\n",
      "           0.31231,     0.31331,     0.31431,     0.31532,     0.31632,     0.31732,     0.31832,     0.31932,     0.32032,     0.32132,     0.32232,     0.32332,     0.32432,     0.32533,     0.32633,     0.32733,     0.32833,     0.32933,     0.33033,     0.33133,     0.33233,     0.33333,     0.33433,     0.33534,\n",
      "           0.33634,     0.33734,     0.33834,     0.33934,     0.34034,     0.34134,     0.34234,     0.34334,     0.34434,     0.34535,     0.34635,     0.34735,     0.34835,     0.34935,     0.35035,     0.35135,     0.35235,     0.35335,     0.35435,     0.35536,     0.35636,     0.35736,     0.35836,     0.35936,\n",
      "           0.36036,     0.36136,     0.36236,     0.36336,     0.36436,     0.36537,     0.36637,     0.36737,     0.36837,     0.36937,     0.37037,     0.37137,     0.37237,     0.37337,     0.37437,     0.37538,     0.37638,     0.37738,     0.37838,     0.37938,     0.38038,     0.38138,     0.38238,     0.38338,\n",
      "           0.38438,     0.38539,     0.38639,     0.38739,     0.38839,     0.38939,     0.39039,     0.39139,     0.39239,     0.39339,     0.39439,      0.3954,      0.3964,      0.3974,      0.3984,      0.3994,      0.4004,      0.4014,      0.4024,      0.4034,      0.4044,     0.40541,     0.40641,     0.40741,\n",
      "           0.40841,     0.40941,     0.41041,     0.41141,     0.41241,     0.41341,     0.41441,     0.41542,     0.41642,     0.41742,     0.41842,     0.41942,     0.42042,     0.42142,     0.42242,     0.42342,     0.42442,     0.42543,     0.42643,     0.42743,     0.42843,     0.42943,     0.43043,     0.43143,\n",
      "           0.43243,     0.43343,     0.43443,     0.43544,     0.43644,     0.43744,     0.43844,     0.43944,     0.44044,     0.44144,     0.44244,     0.44344,     0.44444,     0.44545,     0.44645,     0.44745,     0.44845,     0.44945,     0.45045,     0.45145,     0.45245,     0.45345,     0.45445,     0.45546,\n",
      "           0.45646,     0.45746,     0.45846,     0.45946,     0.46046,     0.46146,     0.46246,     0.46346,     0.46446,     0.46547,     0.46647,     0.46747,     0.46847,     0.46947,     0.47047,     0.47147,     0.47247,     0.47347,     0.47447,     0.47548,     0.47648,     0.47748,     0.47848,     0.47948,\n",
      "           0.48048,     0.48148,     0.48248,     0.48348,     0.48448,     0.48549,     0.48649,     0.48749,     0.48849,     0.48949,     0.49049,     0.49149,     0.49249,     0.49349,     0.49449,      0.4955,      0.4965,      0.4975,      0.4985,      0.4995,      0.5005,      0.5015,      0.5025,      0.5035,\n",
      "            0.5045,     0.50551,     0.50651,     0.50751,     0.50851,     0.50951,     0.51051,     0.51151,     0.51251,     0.51351,     0.51451,     0.51552,     0.51652,     0.51752,     0.51852,     0.51952,     0.52052,     0.52152,     0.52252,     0.52352,     0.52452,     0.52553,     0.52653,     0.52753,\n",
      "           0.52853,     0.52953,     0.53053,     0.53153,     0.53253,     0.53353,     0.53453,     0.53554,     0.53654,     0.53754,     0.53854,     0.53954,     0.54054,     0.54154,     0.54254,     0.54354,     0.54454,     0.54555,     0.54655,     0.54755,     0.54855,     0.54955,     0.55055,     0.55155,\n",
      "           0.55255,     0.55355,     0.55455,     0.55556,     0.55656,     0.55756,     0.55856,     0.55956,     0.56056,     0.56156,     0.56256,     0.56356,     0.56456,     0.56557,     0.56657,     0.56757,     0.56857,     0.56957,     0.57057,     0.57157,     0.57257,     0.57357,     0.57457,     0.57558,\n",
      "           0.57658,     0.57758,     0.57858,     0.57958,     0.58058,     0.58158,     0.58258,     0.58358,     0.58458,     0.58559,     0.58659,     0.58759,     0.58859,     0.58959,     0.59059,     0.59159,     0.59259,     0.59359,     0.59459,      0.5956,      0.5966,      0.5976,      0.5986,      0.5996,\n",
      "            0.6006,      0.6016,      0.6026,      0.6036,      0.6046,     0.60561,     0.60661,     0.60761,     0.60861,     0.60961,     0.61061,     0.61161,     0.61261,     0.61361,     0.61461,     0.61562,     0.61662,     0.61762,     0.61862,     0.61962,     0.62062,     0.62162,     0.62262,     0.62362,\n",
      "           0.62462,     0.62563,     0.62663,     0.62763,     0.62863,     0.62963,     0.63063,     0.63163,     0.63263,     0.63363,     0.63463,     0.63564,     0.63664,     0.63764,     0.63864,     0.63964,     0.64064,     0.64164,     0.64264,     0.64364,     0.64464,     0.64565,     0.64665,     0.64765,\n",
      "           0.64865,     0.64965,     0.65065,     0.65165,     0.65265,     0.65365,     0.65465,     0.65566,     0.65666,     0.65766,     0.65866,     0.65966,     0.66066,     0.66166,     0.66266,     0.66366,     0.66466,     0.66567,     0.66667,     0.66767,     0.66867,     0.66967,     0.67067,     0.67167,\n",
      "           0.67267,     0.67367,     0.67467,     0.67568,     0.67668,     0.67768,     0.67868,     0.67968,     0.68068,     0.68168,     0.68268,     0.68368,     0.68468,     0.68569,     0.68669,     0.68769,     0.68869,     0.68969,     0.69069,     0.69169,     0.69269,     0.69369,     0.69469,      0.6957,\n",
      "            0.6967,      0.6977,      0.6987,      0.6997,      0.7007,      0.7017,      0.7027,      0.7037,      0.7047,     0.70571,     0.70671,     0.70771,     0.70871,     0.70971,     0.71071,     0.71171,     0.71271,     0.71371,     0.71471,     0.71572,     0.71672,     0.71772,     0.71872,     0.71972,\n",
      "           0.72072,     0.72172,     0.72272,     0.72372,     0.72472,     0.72573,     0.72673,     0.72773,     0.72873,     0.72973,     0.73073,     0.73173,     0.73273,     0.73373,     0.73473,     0.73574,     0.73674,     0.73774,     0.73874,     0.73974,     0.74074,     0.74174,     0.74274,     0.74374,\n",
      "           0.74474,     0.74575,     0.74675,     0.74775,     0.74875,     0.74975,     0.75075,     0.75175,     0.75275,     0.75375,     0.75475,     0.75576,     0.75676,     0.75776,     0.75876,     0.75976,     0.76076,     0.76176,     0.76276,     0.76376,     0.76476,     0.76577,     0.76677,     0.76777,\n",
      "           0.76877,     0.76977,     0.77077,     0.77177,     0.77277,     0.77377,     0.77477,     0.77578,     0.77678,     0.77778,     0.77878,     0.77978,     0.78078,     0.78178,     0.78278,     0.78378,     0.78478,     0.78579,     0.78679,     0.78779,     0.78879,     0.78979,     0.79079,     0.79179,\n",
      "           0.79279,     0.79379,     0.79479,      0.7958,      0.7968,      0.7978,      0.7988,      0.7998,      0.8008,      0.8018,      0.8028,      0.8038,      0.8048,     0.80581,     0.80681,     0.80781,     0.80881,     0.80981,     0.81081,     0.81181,     0.81281,     0.81381,     0.81481,     0.81582,\n",
      "           0.81682,     0.81782,     0.81882,     0.81982,     0.82082,     0.82182,     0.82282,     0.82382,     0.82482,     0.82583,     0.82683,     0.82783,     0.82883,     0.82983,     0.83083,     0.83183,     0.83283,     0.83383,     0.83483,     0.83584,     0.83684,     0.83784,     0.83884,     0.83984,\n",
      "           0.84084,     0.84184,     0.84284,     0.84384,     0.84484,     0.84585,     0.84685,     0.84785,     0.84885,     0.84985,     0.85085,     0.85185,     0.85285,     0.85385,     0.85485,     0.85586,     0.85686,     0.85786,     0.85886,     0.85986,     0.86086,     0.86186,     0.86286,     0.86386,\n",
      "           0.86486,     0.86587,     0.86687,     0.86787,     0.86887,     0.86987,     0.87087,     0.87187,     0.87287,     0.87387,     0.87487,     0.87588,     0.87688,     0.87788,     0.87888,     0.87988,     0.88088,     0.88188,     0.88288,     0.88388,     0.88488,     0.88589,     0.88689,     0.88789,\n",
      "           0.88889,     0.88989,     0.89089,     0.89189,     0.89289,     0.89389,     0.89489,      0.8959,      0.8969,      0.8979,      0.8989,      0.8999,      0.9009,      0.9019,      0.9029,      0.9039,      0.9049,     0.90591,     0.90691,     0.90791,     0.90891,     0.90991,     0.91091,     0.91191,\n",
      "           0.91291,     0.91391,     0.91491,     0.91592,     0.91692,     0.91792,     0.91892,     0.91992,     0.92092,     0.92192,     0.92292,     0.92392,     0.92492,     0.92593,     0.92693,     0.92793,     0.92893,     0.92993,     0.93093,     0.93193,     0.93293,     0.93393,     0.93493,     0.93594,\n",
      "           0.93694,     0.93794,     0.93894,     0.93994,     0.94094,     0.94194,     0.94294,     0.94394,     0.94494,     0.94595,     0.94695,     0.94795,     0.94895,     0.94995,     0.95095,     0.95195,     0.95295,     0.95395,     0.95495,     0.95596,     0.95696,     0.95796,     0.95896,     0.95996,\n",
      "           0.96096,     0.96196,     0.96296,     0.96396,     0.96496,     0.96597,     0.96697,     0.96797,     0.96897,     0.96997,     0.97097,     0.97197,     0.97297,     0.97397,     0.97497,     0.97598,     0.97698,     0.97798,     0.97898,     0.97998,     0.98098,     0.98198,     0.98298,     0.98398,\n",
      "           0.98498,     0.98599,     0.98699,     0.98799,     0.98899,     0.98999,     0.99099,     0.99199,     0.99299,     0.99399,     0.99499,       0.996,       0.997,       0.998,       0.999,           1]), array([[          1,           1,           1,           1,           1,           1,           1,           1,           1,           1,           1,           1,           1,           1,           1,           1,           1,           1,           1,           1,           1,           1,           1,\n",
      "                  1,           1,           1,           1,           1,           1,           1,           1,           1,           1,           1,           1,           1,           1,           1,           1,           1,           1,           1,           1,           1,           1,           1,\n",
      "                  1,           1,           1,           1,           1,           1,           1,           1,           1,           1,           1,           1,           1,           1,           1,           1,           1,           1,           1,           1,           1,           1,           1,\n",
      "                  1,           1,           1,           1,           1,           1,           1,           1,     0.95238,     0.95238,     0.95238,     0.95238,     0.95238,     0.95238,     0.95238,     0.95238,     0.95238,     0.95238,     0.95238,     0.95238,     0.95238,     0.95238,     0.95238,\n",
      "            0.95238,     0.95238,     0.95238,     0.95238,     0.95238,     0.95238,     0.95238,     0.95238,     0.95238,     0.95238,     0.95238,     0.95238,     0.95238,     0.95238,     0.95238,     0.95238,     0.95238,     0.95238,     0.95238,     0.95238,     0.95238,     0.95238,     0.95238,\n",
      "            0.95238,     0.95238,     0.95238,     0.95238,     0.95238,     0.95238,     0.95238,     0.95238,     0.95238,     0.95238,     0.95238,     0.95238,     0.95238,     0.95238,     0.95238,     0.95238,     0.95238,     0.95238,     0.95238,     0.95238,     0.95238,     0.95238,     0.95238,\n",
      "            0.95238,     0.95238,     0.95238,     0.95238,     0.95238,     0.95238,     0.95238,     0.95238,     0.95238,     0.95238,     0.95238,     0.95238,     0.95238,     0.95238,     0.95238,     0.95238,     0.95238,     0.95238,     0.95238,     0.95238,     0.95238,     0.95238,     0.95238,\n",
      "            0.95238,     0.95238,     0.95238,     0.95238,     0.95238,     0.95238,     0.95238,     0.95238,     0.95238,     0.95238,     0.95238,     0.95238,     0.95238,     0.95238,     0.95238,     0.95238,     0.95238,     0.95238,     0.95238,     0.95238,     0.95238,     0.95238,     0.95238,\n",
      "            0.95238,     0.95238,     0.95238,     0.95238,     0.95238,     0.95238,     0.95238,     0.93103,     0.93103,     0.93103,     0.93103,     0.93103,     0.93103,     0.93103,     0.93103,     0.93103,     0.93103,     0.93103,     0.93103,     0.93103,     0.93103,     0.93103,     0.93103,\n",
      "            0.93103,     0.93103,     0.93103,     0.93103,     0.93103,     0.93103,     0.93103,     0.93103,     0.93103,     0.93103,     0.93103,     0.93103,     0.93103,     0.93103,     0.93103,     0.93103,     0.93103,     0.93103,     0.93103,     0.93103,     0.93103,     0.93103,     0.93103,\n",
      "            0.93103,     0.93103,     0.93103,     0.93103,     0.93103,     0.93103,     0.93103,     0.93103,     0.93103,     0.93103,     0.93103,     0.93103,     0.93103,     0.93103,     0.93103,     0.93103,     0.93103,     0.93103,     0.93103,     0.93103,     0.93103,     0.93103,     0.93103,\n",
      "            0.93103,     0.93103,     0.93103,     0.93103,     0.93103,     0.93103,     0.93103,     0.93103,     0.93103,     0.93103,     0.93103,     0.93103,     0.93103,     0.93103,     0.93103,     0.93103,     0.93103,     0.93103,     0.93103,     0.93103,     0.93103,     0.93103,     0.93103,\n",
      "            0.93103,     0.93103,     0.93103,     0.93103,     0.93103,     0.93103,     0.93103,     0.93103,     0.93103,     0.93103,     0.93103,     0.93103,     0.93103,     0.93103,     0.93103,     0.93103,     0.93103,     0.93103,     0.93103,     0.93103,     0.93103,     0.93103,     0.93103,\n",
      "            0.93103,     0.93103,     0.93103,     0.93103,     0.93103,     0.93103,     0.93103,     0.93103,     0.93103,     0.93103,     0.93103,     0.93103,     0.93103,     0.93103,     0.93103,     0.93103,     0.93103,     0.93103,     0.93103,     0.93103,     0.93103,     0.93103,     0.93103,\n",
      "            0.93103,     0.93103,     0.93103,     0.93103,     0.93103,     0.93103,     0.93103,     0.93103,     0.93103,     0.93103,     0.93103,     0.93103,     0.93103,     0.93103,     0.93103,     0.93103,     0.93103,     0.93103,     0.93103,     0.93103,     0.93103,     0.93103,     0.93103,\n",
      "            0.93103,     0.93103,     0.93103,     0.93103,     0.93103,     0.93103,     0.93103,     0.93103,     0.93103,     0.93103,     0.93103,     0.93103,     0.93103,     0.93103,     0.93103,     0.93103,     0.93103,     0.93103,     0.93103,     0.93103,     0.93103,     0.93103,     0.93103,\n",
      "            0.93103,     0.93103,     0.93103,     0.93103,     0.93103,     0.93103,     0.93103,     0.93103,     0.93103,     0.93103,     0.93103,     0.93103,     0.93103,     0.93103,     0.93103,     0.93103,     0.93103,     0.93103,     0.93103,     0.93103,     0.93103,     0.93103,     0.93103,\n",
      "            0.93103,     0.93103,     0.93103,     0.93103,     0.93103,     0.93103,     0.93103,     0.93103,     0.93103,     0.93103,     0.93103,     0.93103,     0.93103,     0.93103,     0.93103,     0.93103,     0.93103,     0.93103,     0.93103,     0.93103,     0.93103,     0.93103,     0.93103,\n",
      "            0.93103,     0.93103,     0.93103,     0.93103,     0.93103,     0.93103,     0.93103,     0.93103,     0.93103,     0.93103,     0.93103,     0.93103,     0.93103,     0.93103,     0.93103,     0.93103,     0.93103,     0.93103,     0.93103,     0.93103,     0.93103,     0.93103,     0.93103,\n",
      "            0.93103,     0.93103,     0.93103,     0.93103,     0.93103,     0.93103,     0.93103,     0.93103,     0.93103,     0.93103,     0.93103,     0.93103,     0.93103,     0.93103,     0.93103,     0.93103,     0.93103,     0.93103,     0.93103,     0.93103,     0.93103,     0.93103,     0.93103,\n",
      "            0.93103,     0.93103,     0.93103,     0.93103,     0.93103,     0.93103,     0.93103,     0.93103,     0.93103,     0.93103,     0.93103,     0.93103,     0.93103,     0.93103,     0.93103,     0.93103,     0.93103,     0.93103,     0.93103,     0.93103,     0.93103,     0.93103,     0.93103,\n",
      "            0.93103,     0.93103,     0.93103,     0.93103,     0.93103,     0.93103,     0.93103,     0.93103,     0.93103,     0.93103,     0.93103,     0.93103,     0.93103,     0.93103,     0.93103,     0.93103,     0.93103,     0.93103,     0.93103,     0.93103,     0.93103,     0.93103,     0.93103,\n",
      "            0.93103,     0.93103,     0.93103,     0.93103,     0.93103,     0.93103,     0.93103,     0.93103,     0.91803,     0.91803,     0.91803,     0.91803,     0.91803,     0.91803,     0.91803,     0.91803,     0.91803,     0.91803,     0.91803,     0.91803,     0.91803,     0.91803,     0.91803,\n",
      "            0.91803,     0.91803,     0.91803,     0.91803,     0.90769,     0.90769,     0.90769,     0.90769,     0.90769,     0.90769,     0.90769,     0.90769,     0.90769,     0.90769,     0.90769,     0.90769,     0.90769,     0.90769,     0.90769,     0.90769,     0.90769,     0.90769,     0.90769,\n",
      "            0.90769,     0.90769,     0.90769,     0.90769,     0.90769,     0.90769,     0.90769,     0.90769,     0.90769,     0.90769,         0.9,         0.9,         0.9,         0.9,         0.9,         0.9,         0.9,         0.9,         0.9,         0.9,         0.9,         0.9,         0.9,\n",
      "                0.9,         0.9,         0.9,         0.9,         0.9,         0.9,         0.9,         0.9,         0.9,         0.9,         0.9,         0.9,         0.9,         0.9,         0.9,         0.9,         0.9,         0.9,         0.9,         0.9,         0.9,         0.9,         0.9,\n",
      "                0.9,         0.9,     0.89189,     0.89189,     0.89189,     0.89189,     0.89189,     0.89189,     0.89189,     0.89189,     0.89189,     0.89189,     0.89189,     0.89189,     0.89189,     0.89189,     0.89189,     0.89189,     0.89189,     0.89189,     0.89189,     0.89189,     0.89189,\n",
      "            0.89189,     0.89189,     0.89189,     0.89189,     0.89189,     0.89189,     0.89189,     0.88312,     0.88312,     0.88312,     0.88312,     0.88312,     0.88312,     0.88312,     0.88312,     0.88312,     0.88312,     0.88312,     0.88312,     0.88312,     0.88312,     0.88312,     0.88312,\n",
      "            0.88312,     0.88312,     0.88312,      0.8625,      0.8625,      0.8625,      0.8625,      0.8625,      0.8625,      0.8625,      0.8625,      0.8625,      0.8625,      0.8617,      0.8617,      0.8617,      0.8617,      0.8617,      0.8617,      0.8617,      0.8617,      0.8617,      0.8617,\n",
      "             0.8617,      0.8617,      0.8617,      0.8617,      0.8617,      0.8617,      0.8617,      0.8617,      0.8617,      0.8617,      0.8617,      0.8617,      0.8617,      0.8617,      0.8617,      0.8617,      0.8617,      0.8617,      0.8617,      0.8617,      0.8617,      0.8617,      0.8617,\n",
      "             0.8617,      0.8617,      0.8617,      0.8617,      0.8617,      0.8617,      0.8617,      0.8617,      0.8617,      0.8617,      0.8617,      0.8617,      0.8617,      0.8617,      0.8617,      0.8617,      0.8617,      0.8617,      0.8617,      0.8617,      0.8617,      0.8617,      0.8617,\n",
      "             0.8617,      0.8617,      0.8617,      0.8617,      0.8617,      0.8617,      0.8617,      0.8617,      0.8617,      0.8617,      0.8617,      0.8617,      0.8617,      0.8617,      0.8617,      0.8617,      0.8617,      0.8617,      0.8617,      0.8617,      0.8617,      0.8617,      0.8617,\n",
      "             0.8617,      0.8617,      0.8617,      0.8617,      0.8617,      0.8617,      0.8617,      0.8617,      0.8617,      0.8617,      0.8617,      0.8617,      0.8617,      0.8617,      0.8617,      0.8617,      0.8617,      0.8617,      0.8617,      0.8617,      0.8617,      0.8617,      0.8617,\n",
      "             0.8617,      0.8617,      0.8617,      0.8617,      0.8617,      0.8617,      0.8617,      0.8617,      0.8617,      0.8617,      0.8617,      0.8617,     0.84694,     0.84694,     0.84694,     0.84694,     0.84694,     0.84694,     0.84694,     0.84694,     0.84694,     0.84694,     0.84694,\n",
      "            0.84694,     0.84694,     0.84694,     0.84694,     0.84694,     0.84694,     0.84694,     0.84694,     0.83333,     0.83333,     0.83333,     0.83333,     0.83333,     0.83333,     0.83333,     0.83333,     0.83333,     0.83333,     0.83333,     0.83333,     0.83333,     0.83333,     0.83333,\n",
      "            0.83333,     0.83333,     0.83333,     0.83333,      0.7963,      0.7963,      0.7963,      0.7963,      0.7963,      0.7963,      0.7963,      0.7963,      0.7963,      0.7963,     0.69048,     0.69048,     0.69048,     0.69048,     0.69048,     0.69048,     0.69048,     0.69048,     0.69048,\n",
      "            0.67692,     0.67692,     0.67692,     0.67692,     0.67692,     0.67692,     0.67692,     0.67692,     0.67692,     0.67692,     0.63571,     0.63571,     0.63571,     0.63571,     0.63571,     0.63571,     0.63571,     0.63571,     0.63571,     0.62937,     0.62937,     0.62937,     0.62937,\n",
      "            0.62937,     0.62937,     0.62937,     0.62937,     0.62937,     0.62937,     0.56173,     0.56173,     0.56173,     0.56173,     0.56173,     0.56173,     0.56173,     0.56173,     0.56173,     0.51627,     0.51239,     0.50851,     0.50462,     0.50074,     0.49686,     0.49298,      0.4891,\n",
      "            0.48522,     0.48133,     0.47745,     0.47357,     0.46969,     0.46581,     0.46192,     0.45804,     0.45416,     0.45028,      0.4464,     0.44252,     0.43863,     0.43475,     0.43087,     0.42699,     0.42311,     0.41923,     0.41534,     0.41146,     0.40758,      0.4037,     0.39982,\n",
      "            0.39594,     0.39205,     0.38817,     0.38429,     0.38041,     0.37653,     0.37265,     0.36876,     0.36488,       0.361,     0.35712,     0.35324,     0.34936,     0.34547,     0.34159,     0.33771,     0.33383,     0.32995,     0.32606,     0.32218,      0.3183,     0.31442,     0.31054,\n",
      "            0.30666,     0.30277,     0.29889,     0.29501,     0.29113,     0.28725,     0.28337,     0.27948,      0.2756,     0.27172,     0.26784,     0.26396,     0.26008,     0.25619,     0.25231,     0.24843,     0.24455,     0.24067,     0.23679,      0.2329,     0.22902,     0.22514,     0.22126,\n",
      "            0.21738,     0.21349,     0.20961,     0.20573,     0.20185,     0.19797,     0.19409,      0.1902,     0.18632,     0.18244,     0.17856,     0.17468,      0.1708,     0.16691,     0.16303,     0.15915,     0.15527,     0.15139,     0.14751,     0.14362,     0.13974,     0.13586,     0.13198,\n",
      "             0.1281,     0.12422,     0.12033,     0.11645,     0.11257,     0.10869,     0.10481,     0.10092,    0.097043,    0.093161,     0.08928,    0.085398,    0.081516,    0.077634,    0.073753,    0.069871,    0.065989,    0.062108,    0.058226,    0.054344,    0.050462,    0.046581,    0.042699,\n",
      "           0.038817,    0.034936,    0.031054,    0.027172,     0.02329,    0.019409,    0.015527,    0.011645,   0.0077634,   0.0038817,           0]]), 'Recall', 'Precision'], [array([          0,    0.001001,    0.002002,    0.003003,    0.004004,    0.005005,    0.006006,    0.007007,    0.008008,    0.009009,     0.01001,    0.011011,    0.012012,    0.013013,    0.014014,    0.015015,    0.016016,    0.017017,    0.018018,    0.019019,     0.02002,    0.021021,    0.022022,    0.023023,\n",
      "          0.024024,    0.025025,    0.026026,    0.027027,    0.028028,    0.029029,     0.03003,    0.031031,    0.032032,    0.033033,    0.034034,    0.035035,    0.036036,    0.037037,    0.038038,    0.039039,     0.04004,    0.041041,    0.042042,    0.043043,    0.044044,    0.045045,    0.046046,    0.047047,\n",
      "          0.048048,    0.049049,     0.05005,    0.051051,    0.052052,    0.053053,    0.054054,    0.055055,    0.056056,    0.057057,    0.058058,    0.059059,     0.06006,    0.061061,    0.062062,    0.063063,    0.064064,    0.065065,    0.066066,    0.067067,    0.068068,    0.069069,     0.07007,    0.071071,\n",
      "          0.072072,    0.073073,    0.074074,    0.075075,    0.076076,    0.077077,    0.078078,    0.079079,     0.08008,    0.081081,    0.082082,    0.083083,    0.084084,    0.085085,    0.086086,    0.087087,    0.088088,    0.089089,     0.09009,    0.091091,    0.092092,    0.093093,    0.094094,    0.095095,\n",
      "          0.096096,    0.097097,    0.098098,    0.099099,      0.1001,      0.1011,      0.1021,      0.1031,      0.1041,     0.10511,     0.10611,     0.10711,     0.10811,     0.10911,     0.11011,     0.11111,     0.11211,     0.11311,     0.11411,     0.11512,     0.11612,     0.11712,     0.11812,     0.11912,\n",
      "           0.12012,     0.12112,     0.12212,     0.12312,     0.12412,     0.12513,     0.12613,     0.12713,     0.12813,     0.12913,     0.13013,     0.13113,     0.13213,     0.13313,     0.13413,     0.13514,     0.13614,     0.13714,     0.13814,     0.13914,     0.14014,     0.14114,     0.14214,     0.14314,\n",
      "           0.14414,     0.14515,     0.14615,     0.14715,     0.14815,     0.14915,     0.15015,     0.15115,     0.15215,     0.15315,     0.15415,     0.15516,     0.15616,     0.15716,     0.15816,     0.15916,     0.16016,     0.16116,     0.16216,     0.16316,     0.16416,     0.16517,     0.16617,     0.16717,\n",
      "           0.16817,     0.16917,     0.17017,     0.17117,     0.17217,     0.17317,     0.17417,     0.17518,     0.17618,     0.17718,     0.17818,     0.17918,     0.18018,     0.18118,     0.18218,     0.18318,     0.18418,     0.18519,     0.18619,     0.18719,     0.18819,     0.18919,     0.19019,     0.19119,\n",
      "           0.19219,     0.19319,     0.19419,      0.1952,      0.1962,      0.1972,      0.1982,      0.1992,      0.2002,      0.2012,      0.2022,      0.2032,      0.2042,     0.20521,     0.20621,     0.20721,     0.20821,     0.20921,     0.21021,     0.21121,     0.21221,     0.21321,     0.21421,     0.21522,\n",
      "           0.21622,     0.21722,     0.21822,     0.21922,     0.22022,     0.22122,     0.22222,     0.22322,     0.22422,     0.22523,     0.22623,     0.22723,     0.22823,     0.22923,     0.23023,     0.23123,     0.23223,     0.23323,     0.23423,     0.23524,     0.23624,     0.23724,     0.23824,     0.23924,\n",
      "           0.24024,     0.24124,     0.24224,     0.24324,     0.24424,     0.24525,     0.24625,     0.24725,     0.24825,     0.24925,     0.25025,     0.25125,     0.25225,     0.25325,     0.25425,     0.25526,     0.25626,     0.25726,     0.25826,     0.25926,     0.26026,     0.26126,     0.26226,     0.26326,\n",
      "           0.26426,     0.26527,     0.26627,     0.26727,     0.26827,     0.26927,     0.27027,     0.27127,     0.27227,     0.27327,     0.27427,     0.27528,     0.27628,     0.27728,     0.27828,     0.27928,     0.28028,     0.28128,     0.28228,     0.28328,     0.28428,     0.28529,     0.28629,     0.28729,\n",
      "           0.28829,     0.28929,     0.29029,     0.29129,     0.29229,     0.29329,     0.29429,      0.2953,      0.2963,      0.2973,      0.2983,      0.2993,      0.3003,      0.3013,      0.3023,      0.3033,      0.3043,     0.30531,     0.30631,     0.30731,     0.30831,     0.30931,     0.31031,     0.31131,\n",
      "           0.31231,     0.31331,     0.31431,     0.31532,     0.31632,     0.31732,     0.31832,     0.31932,     0.32032,     0.32132,     0.32232,     0.32332,     0.32432,     0.32533,     0.32633,     0.32733,     0.32833,     0.32933,     0.33033,     0.33133,     0.33233,     0.33333,     0.33433,     0.33534,\n",
      "           0.33634,     0.33734,     0.33834,     0.33934,     0.34034,     0.34134,     0.34234,     0.34334,     0.34434,     0.34535,     0.34635,     0.34735,     0.34835,     0.34935,     0.35035,     0.35135,     0.35235,     0.35335,     0.35435,     0.35536,     0.35636,     0.35736,     0.35836,     0.35936,\n",
      "           0.36036,     0.36136,     0.36236,     0.36336,     0.36436,     0.36537,     0.36637,     0.36737,     0.36837,     0.36937,     0.37037,     0.37137,     0.37237,     0.37337,     0.37437,     0.37538,     0.37638,     0.37738,     0.37838,     0.37938,     0.38038,     0.38138,     0.38238,     0.38338,\n",
      "           0.38438,     0.38539,     0.38639,     0.38739,     0.38839,     0.38939,     0.39039,     0.39139,     0.39239,     0.39339,     0.39439,      0.3954,      0.3964,      0.3974,      0.3984,      0.3994,      0.4004,      0.4014,      0.4024,      0.4034,      0.4044,     0.40541,     0.40641,     0.40741,\n",
      "           0.40841,     0.40941,     0.41041,     0.41141,     0.41241,     0.41341,     0.41441,     0.41542,     0.41642,     0.41742,     0.41842,     0.41942,     0.42042,     0.42142,     0.42242,     0.42342,     0.42442,     0.42543,     0.42643,     0.42743,     0.42843,     0.42943,     0.43043,     0.43143,\n",
      "           0.43243,     0.43343,     0.43443,     0.43544,     0.43644,     0.43744,     0.43844,     0.43944,     0.44044,     0.44144,     0.44244,     0.44344,     0.44444,     0.44545,     0.44645,     0.44745,     0.44845,     0.44945,     0.45045,     0.45145,     0.45245,     0.45345,     0.45445,     0.45546,\n",
      "           0.45646,     0.45746,     0.45846,     0.45946,     0.46046,     0.46146,     0.46246,     0.46346,     0.46446,     0.46547,     0.46647,     0.46747,     0.46847,     0.46947,     0.47047,     0.47147,     0.47247,     0.47347,     0.47447,     0.47548,     0.47648,     0.47748,     0.47848,     0.47948,\n",
      "           0.48048,     0.48148,     0.48248,     0.48348,     0.48448,     0.48549,     0.48649,     0.48749,     0.48849,     0.48949,     0.49049,     0.49149,     0.49249,     0.49349,     0.49449,      0.4955,      0.4965,      0.4975,      0.4985,      0.4995,      0.5005,      0.5015,      0.5025,      0.5035,\n",
      "            0.5045,     0.50551,     0.50651,     0.50751,     0.50851,     0.50951,     0.51051,     0.51151,     0.51251,     0.51351,     0.51451,     0.51552,     0.51652,     0.51752,     0.51852,     0.51952,     0.52052,     0.52152,     0.52252,     0.52352,     0.52452,     0.52553,     0.52653,     0.52753,\n",
      "           0.52853,     0.52953,     0.53053,     0.53153,     0.53253,     0.53353,     0.53453,     0.53554,     0.53654,     0.53754,     0.53854,     0.53954,     0.54054,     0.54154,     0.54254,     0.54354,     0.54454,     0.54555,     0.54655,     0.54755,     0.54855,     0.54955,     0.55055,     0.55155,\n",
      "           0.55255,     0.55355,     0.55455,     0.55556,     0.55656,     0.55756,     0.55856,     0.55956,     0.56056,     0.56156,     0.56256,     0.56356,     0.56456,     0.56557,     0.56657,     0.56757,     0.56857,     0.56957,     0.57057,     0.57157,     0.57257,     0.57357,     0.57457,     0.57558,\n",
      "           0.57658,     0.57758,     0.57858,     0.57958,     0.58058,     0.58158,     0.58258,     0.58358,     0.58458,     0.58559,     0.58659,     0.58759,     0.58859,     0.58959,     0.59059,     0.59159,     0.59259,     0.59359,     0.59459,      0.5956,      0.5966,      0.5976,      0.5986,      0.5996,\n",
      "            0.6006,      0.6016,      0.6026,      0.6036,      0.6046,     0.60561,     0.60661,     0.60761,     0.60861,     0.60961,     0.61061,     0.61161,     0.61261,     0.61361,     0.61461,     0.61562,     0.61662,     0.61762,     0.61862,     0.61962,     0.62062,     0.62162,     0.62262,     0.62362,\n",
      "           0.62462,     0.62563,     0.62663,     0.62763,     0.62863,     0.62963,     0.63063,     0.63163,     0.63263,     0.63363,     0.63463,     0.63564,     0.63664,     0.63764,     0.63864,     0.63964,     0.64064,     0.64164,     0.64264,     0.64364,     0.64464,     0.64565,     0.64665,     0.64765,\n",
      "           0.64865,     0.64965,     0.65065,     0.65165,     0.65265,     0.65365,     0.65465,     0.65566,     0.65666,     0.65766,     0.65866,     0.65966,     0.66066,     0.66166,     0.66266,     0.66366,     0.66466,     0.66567,     0.66667,     0.66767,     0.66867,     0.66967,     0.67067,     0.67167,\n",
      "           0.67267,     0.67367,     0.67467,     0.67568,     0.67668,     0.67768,     0.67868,     0.67968,     0.68068,     0.68168,     0.68268,     0.68368,     0.68468,     0.68569,     0.68669,     0.68769,     0.68869,     0.68969,     0.69069,     0.69169,     0.69269,     0.69369,     0.69469,      0.6957,\n",
      "            0.6967,      0.6977,      0.6987,      0.6997,      0.7007,      0.7017,      0.7027,      0.7037,      0.7047,     0.70571,     0.70671,     0.70771,     0.70871,     0.70971,     0.71071,     0.71171,     0.71271,     0.71371,     0.71471,     0.71572,     0.71672,     0.71772,     0.71872,     0.71972,\n",
      "           0.72072,     0.72172,     0.72272,     0.72372,     0.72472,     0.72573,     0.72673,     0.72773,     0.72873,     0.72973,     0.73073,     0.73173,     0.73273,     0.73373,     0.73473,     0.73574,     0.73674,     0.73774,     0.73874,     0.73974,     0.74074,     0.74174,     0.74274,     0.74374,\n",
      "           0.74474,     0.74575,     0.74675,     0.74775,     0.74875,     0.74975,     0.75075,     0.75175,     0.75275,     0.75375,     0.75475,     0.75576,     0.75676,     0.75776,     0.75876,     0.75976,     0.76076,     0.76176,     0.76276,     0.76376,     0.76476,     0.76577,     0.76677,     0.76777,\n",
      "           0.76877,     0.76977,     0.77077,     0.77177,     0.77277,     0.77377,     0.77477,     0.77578,     0.77678,     0.77778,     0.77878,     0.77978,     0.78078,     0.78178,     0.78278,     0.78378,     0.78478,     0.78579,     0.78679,     0.78779,     0.78879,     0.78979,     0.79079,     0.79179,\n",
      "           0.79279,     0.79379,     0.79479,      0.7958,      0.7968,      0.7978,      0.7988,      0.7998,      0.8008,      0.8018,      0.8028,      0.8038,      0.8048,     0.80581,     0.80681,     0.80781,     0.80881,     0.80981,     0.81081,     0.81181,     0.81281,     0.81381,     0.81481,     0.81582,\n",
      "           0.81682,     0.81782,     0.81882,     0.81982,     0.82082,     0.82182,     0.82282,     0.82382,     0.82482,     0.82583,     0.82683,     0.82783,     0.82883,     0.82983,     0.83083,     0.83183,     0.83283,     0.83383,     0.83483,     0.83584,     0.83684,     0.83784,     0.83884,     0.83984,\n",
      "           0.84084,     0.84184,     0.84284,     0.84384,     0.84484,     0.84585,     0.84685,     0.84785,     0.84885,     0.84985,     0.85085,     0.85185,     0.85285,     0.85385,     0.85485,     0.85586,     0.85686,     0.85786,     0.85886,     0.85986,     0.86086,     0.86186,     0.86286,     0.86386,\n",
      "           0.86486,     0.86587,     0.86687,     0.86787,     0.86887,     0.86987,     0.87087,     0.87187,     0.87287,     0.87387,     0.87487,     0.87588,     0.87688,     0.87788,     0.87888,     0.87988,     0.88088,     0.88188,     0.88288,     0.88388,     0.88488,     0.88589,     0.88689,     0.88789,\n",
      "           0.88889,     0.88989,     0.89089,     0.89189,     0.89289,     0.89389,     0.89489,      0.8959,      0.8969,      0.8979,      0.8989,      0.8999,      0.9009,      0.9019,      0.9029,      0.9039,      0.9049,     0.90591,     0.90691,     0.90791,     0.90891,     0.90991,     0.91091,     0.91191,\n",
      "           0.91291,     0.91391,     0.91491,     0.91592,     0.91692,     0.91792,     0.91892,     0.91992,     0.92092,     0.92192,     0.92292,     0.92392,     0.92492,     0.92593,     0.92693,     0.92793,     0.92893,     0.92993,     0.93093,     0.93193,     0.93293,     0.93393,     0.93493,     0.93594,\n",
      "           0.93694,     0.93794,     0.93894,     0.93994,     0.94094,     0.94194,     0.94294,     0.94394,     0.94494,     0.94595,     0.94695,     0.94795,     0.94895,     0.94995,     0.95095,     0.95195,     0.95295,     0.95395,     0.95495,     0.95596,     0.95696,     0.95796,     0.95896,     0.95996,\n",
      "           0.96096,     0.96196,     0.96296,     0.96396,     0.96496,     0.96597,     0.96697,     0.96797,     0.96897,     0.96997,     0.97097,     0.97197,     0.97297,     0.97397,     0.97497,     0.97598,     0.97698,     0.97798,     0.97898,     0.97998,     0.98098,     0.98198,     0.98298,     0.98398,\n",
      "           0.98498,     0.98599,     0.98699,     0.98799,     0.98899,     0.98999,     0.99099,     0.99199,     0.99299,     0.99399,     0.99499,       0.996,       0.997,       0.998,       0.999,           1]), array([[    0.64769,     0.64769,      0.6951,     0.71753,     0.72396,     0.72288,     0.73078,     0.73726,     0.73847,     0.74338,     0.74705,      0.7489,     0.74438,     0.74563,     0.74717,     0.75116,     0.75218,     0.74823,     0.74959,     0.75095,     0.75169,     0.75237,     0.75304,\n",
      "            0.75371,     0.75438,     0.75758,     0.75875,     0.75983,     0.76091,     0.76238,     0.76392,     0.76569,     0.76759,     0.76829,     0.76879,     0.76929,     0.76979,     0.77029,     0.77078,     0.77128,     0.77186,     0.77245,     0.77303,     0.77361,      0.7742,     0.77478,\n",
      "            0.77542,     0.77605,     0.77669,     0.77732,     0.77796,     0.77997,     0.78201,     0.78241,     0.78282,     0.78323,     0.78363,     0.78404,     0.78445,     0.78485,     0.78526,     0.78607,     0.78708,     0.78809,      0.7891,     0.79019,     0.79127,     0.79235,     0.79281,\n",
      "            0.79306,     0.79331,     0.79356,     0.79381,     0.79406,     0.79431,     0.79456,      0.7948,     0.79505,      0.7953,     0.79555,      0.7958,     0.79604,     0.79629,     0.80052,     0.80116,     0.80179,     0.80243,     0.80306,     0.80369,     0.80412,     0.80453,     0.80494,\n",
      "            0.80535,     0.80576,     0.80617,     0.80658,     0.80699,     0.80739,     0.80737,     0.80718,     0.80699,      0.8068,      0.8066,     0.80641,     0.80622,     0.80602,     0.80583,     0.80564,     0.80544,     0.80525,     0.80506,     0.80486,     0.80467,     0.80448,     0.80428,\n",
      "            0.80409,      0.8039,      0.8037,     0.80351,     0.80331,     0.80312,     0.80293,     0.80273,     0.80254,     0.80235,     0.80215,     0.80196,     0.80254,     0.80356,     0.80459,      0.8056,     0.80591,     0.80615,     0.80639,     0.80664,     0.80688,     0.80712,     0.80736,\n",
      "             0.8076,     0.80785,     0.80809,     0.80833,     0.80857,     0.80881,     0.80905,     0.80929,     0.80955,     0.81029,     0.81104,     0.81178,     0.81252,     0.81326,     0.81377,     0.81423,      0.8147,     0.81516,     0.81562,     0.81608,     0.81653,     0.81699,     0.81742,\n",
      "            0.81778,     0.81813,     0.81849,     0.81885,      0.8192,     0.81956,     0.81991,     0.82027,     0.82062,     0.82097,     0.82086,     0.81888,      0.8169,     0.81548,     0.81529,      0.8151,     0.81491,     0.81473,     0.81454,     0.81435,     0.81416,     0.81397,     0.81379,\n",
      "             0.8136,     0.81341,     0.81322,     0.81304,     0.81285,     0.81266,     0.81247,     0.81228,     0.81209,     0.81191,     0.81172,     0.81153,     0.81134,     0.81115,     0.81096,     0.81078,     0.81059,      0.8104,     0.81021,     0.81002,     0.80983,     0.81012,     0.81074,\n",
      "            0.81136,     0.81198,     0.81259,     0.81321,     0.81373,      0.8138,     0.81386,     0.81392,     0.81398,     0.81404,      0.8141,     0.81416,     0.81422,     0.81428,     0.81434,      0.8144,     0.81446,     0.81452,     0.81458,     0.81464,      0.8147,     0.81476,     0.81483,\n",
      "            0.81489,     0.81495,     0.81501,     0.81507,     0.81513,     0.81519,     0.81525,     0.81531,     0.81537,     0.81543,     0.81549,     0.81555,     0.81561,     0.81567,     0.81573,     0.81579,     0.81585,     0.81591,     0.81597,     0.81603,     0.81609,     0.81615,     0.81621,\n",
      "            0.81627,     0.81633,     0.81639,     0.81645,     0.81651,     0.81658,     0.81664,      0.8167,     0.81676,     0.81682,     0.81688,     0.81694,       0.817,     0.81706,     0.81712,     0.81718,     0.81724,      0.8173,     0.81736,     0.81742,     0.81748,     0.81754,      0.8176,\n",
      "            0.81766,     0.81772,     0.81769,     0.81762,     0.81755,     0.81748,     0.81742,     0.81735,     0.81728,     0.81721,     0.81715,     0.81708,     0.81701,     0.81695,     0.81688,     0.81681,     0.81674,     0.81668,     0.81661,     0.81654,     0.81647,     0.81641,     0.81634,\n",
      "            0.81627,      0.8162,     0.81614,     0.81607,       0.816,     0.81594,     0.81587,      0.8158,     0.81573,     0.81567,      0.8156,     0.81553,     0.81546,      0.8154,     0.81533,     0.81526,     0.81519,     0.81513,     0.81506,     0.81499,     0.81492,     0.81486,     0.81479,\n",
      "            0.81472,     0.81465,     0.81459,     0.81452,     0.81445,     0.81438,     0.81432,     0.81425,     0.81418,     0.81411,     0.81405,     0.81398,     0.81391,     0.81384,     0.81378,     0.81371,     0.81364,     0.81357,     0.81351,     0.81344,     0.81337,      0.8133,     0.81324,\n",
      "            0.81317,      0.8131,     0.81303,     0.81296,      0.8129,     0.81283,     0.81276,     0.81269,     0.81263,     0.81256,     0.81249,     0.81242,     0.81236,     0.81229,     0.81222,     0.81215,     0.81208,     0.81202,     0.81195,     0.81188,     0.81093,     0.80996,       0.809,\n",
      "            0.80804,     0.80707,     0.80611,     0.80618,     0.80642,     0.80666,      0.8069,     0.80714,     0.80738,     0.80762,     0.80787,     0.80811,     0.80835,     0.80859,     0.80883,     0.80907,     0.80931,     0.80954,     0.80978,     0.81007,     0.81081,     0.81154,     0.81227,\n",
      "              0.813,     0.81373,     0.81351,     0.81246,     0.81141,     0.81037,     0.80931,     0.80826,     0.80774,     0.80733,     0.80692,      0.8065,     0.80609,     0.80568,     0.80527,     0.80485,     0.80444,     0.80402,     0.80361,      0.8032,     0.80278,     0.80237,       0.802,\n",
      "            0.80183,     0.80166,     0.80148,     0.80131,     0.80114,     0.80097,      0.8008,     0.80062,     0.80045,     0.80028,     0.80011,     0.79994,     0.79976,     0.79959,     0.79942,     0.79925,     0.79908,      0.7989,     0.79873,     0.79856,     0.79839,     0.79821,     0.79804,\n",
      "            0.79787,      0.7977,     0.79752,     0.79735,     0.79718,     0.79701,     0.79683,     0.79666,     0.79649,     0.79632,     0.79614,     0.79597,       0.795,     0.79368,     0.79236,     0.79103,     0.78974,     0.78963,     0.78951,      0.7894,     0.78928,     0.78917,     0.78905,\n",
      "            0.78894,     0.78882,     0.78871,     0.78859,     0.78848,     0.78836,     0.78825,     0.78813,     0.78802,      0.7879,     0.78779,     0.78767,     0.78756,     0.78744,     0.78733,     0.78721,      0.7871,     0.78698,     0.78687,     0.78675,     0.78664,     0.78652,     0.78641,\n",
      "            0.78629,     0.78617,     0.78606,     0.78594,     0.78583,     0.78571,      0.7856,     0.78548,     0.78537,     0.78525,     0.78514,     0.78502,     0.78491,     0.78479,     0.78467,     0.78456,     0.78444,     0.78433,     0.78421,      0.7841,     0.78398,     0.78387,     0.78375,\n",
      "            0.78363,     0.78352,     0.78333,     0.78313,     0.78294,     0.78274,     0.78254,     0.78235,     0.78215,     0.78195,     0.78176,     0.78156,     0.78136,     0.78117,     0.78097,     0.78077,     0.78058,     0.78038,     0.78018,     0.77998,     0.77979,     0.77959,     0.77939,\n",
      "            0.77919,       0.779,      0.7788,      0.7786,      0.7784,     0.77821,     0.77801,     0.77781,     0.77761,     0.77741,     0.77722,     0.77686,     0.77649,     0.77613,     0.77576,     0.77539,     0.77502,     0.77466,     0.77429,     0.77392,     0.77355,     0.77318,     0.77281,\n",
      "            0.77244,     0.77208,     0.77171,     0.77134,     0.77097,     0.77076,     0.77064,     0.77053,     0.77041,      0.7703,     0.77018,     0.77007,     0.76995,     0.76984,     0.76972,     0.76961,     0.76949,     0.76938,     0.76926,     0.76915,     0.76903,     0.76892,      0.7688,\n",
      "            0.76868,     0.76857,     0.76845,     0.76834,     0.76822,     0.76811,     0.76799,     0.76788,     0.76776,     0.76765,     0.76753,     0.76741,      0.7673,     0.76718,     0.76707,     0.76695,     0.76684,     0.76672,      0.7666,     0.76649,     0.76637,     0.76626,     0.76614,\n",
      "            0.76603,     0.76591,     0.76579,     0.76568,     0.76556,     0.76545,     0.76533,     0.76521,      0.7651,     0.76498,     0.76487,     0.76475,     0.76463,     0.76452,      0.7644,     0.76221,     0.75993,     0.75787,     0.75769,     0.75751,     0.75733,     0.75714,     0.75696,\n",
      "            0.75678,      0.7566,     0.75641,     0.75623,     0.75605,     0.75587,     0.75568,      0.7555,     0.75532,     0.75514,     0.75495,     0.75477,     0.75459,      0.7544,     0.75422,     0.75404,     0.75386,     0.75367,     0.75349,     0.75331,     0.75312,     0.75294,     0.75276,\n",
      "            0.75257,     0.75239,     0.75221,     0.75202,     0.75184,     0.75165,     0.75147,     0.75135,     0.75147,      0.7516,     0.75172,     0.75185,     0.75197,      0.7521,     0.75222,     0.75235,     0.75247,      0.7526,     0.75272,     0.75285,     0.75297,     0.75309,     0.75322,\n",
      "            0.75334,     0.75347,     0.75359,     0.75372,     0.75384,     0.75396,     0.75409,     0.75421,     0.75434,     0.75446,     0.75458,     0.75471,     0.75483,     0.75495,     0.75508,      0.7552,     0.75529,     0.75468,     0.75408,     0.75347,     0.75286,     0.75225,     0.75164,\n",
      "            0.75104,     0.75043,     0.74982,     0.74921,     0.74838,     0.74584,     0.74328,     0.74201,     0.74218,     0.74235,     0.74251,     0.74268,     0.74285,     0.74301,     0.74318,     0.74334,     0.74351,     0.74368,     0.74384,     0.74401,     0.74417,     0.74434,      0.7445,\n",
      "            0.74467,     0.74483,       0.745,     0.74516,     0.74533,     0.74549,     0.74566,     0.74582,     0.74585,     0.74548,     0.74511,     0.74474,     0.74437,     0.74399,     0.74362,     0.74325,     0.74288,      0.7425,     0.74213,     0.74176,     0.74138,     0.74101,     0.74064,\n",
      "            0.74026,     0.73989,     0.73951,     0.73914,      0.7405,      0.7419,     0.74323,     0.74393,     0.74462,     0.74531,       0.746,     0.74668,     0.74705,     0.74584,     0.74463,     0.74341,      0.7422,     0.74098,     0.73856,     0.73473,     0.73396,     0.73493,     0.73591,\n",
      "            0.73688,     0.73602,     0.73273,     0.73009,     0.72919,     0.72829,     0.72739,     0.72649,     0.72559,     0.72469,     0.72378,     0.72231,     0.71963,     0.71694,     0.71694,      0.7186,     0.71957,     0.71664,     0.71371,     0.70657,     0.70476,     0.70425,     0.70373,\n",
      "            0.70322,     0.70271,     0.70219,     0.70168,     0.70116,     0.70064,     0.70013,     0.69961,     0.69909,     0.69858,     0.69806,     0.69754,     0.69703,     0.69651,       0.696,     0.69548,     0.69496,     0.69445,     0.69393,     0.69341,      0.6929,     0.69238,     0.69186,\n",
      "            0.69134,     0.69082,      0.6903,      0.6914,     0.68315,     0.67849,     0.67693,     0.67537,     0.67381,     0.67224,     0.67068,     0.67344,     0.66624,     0.66469,     0.66314,     0.66158,     0.66002,     0.65868,      0.6615,     0.66083,     0.65796,     0.65508,     0.64414,\n",
      "            0.63915,     0.63576,     0.63316,     0.63055,     0.62801,     0.62559,     0.62317,     0.62073,     0.61697,     0.61286,     0.60752,     0.60206,      0.5992,     0.59632,     0.59342,     0.59003,     0.58663,     0.58387,      0.5823,     0.58072,     0.57914,     0.57756,     0.57598,\n",
      "            0.56493,     0.56311,     0.56129,     0.55946,     0.55763,     0.55344,     0.54528,     0.54146,     0.53762,     0.53476,     0.53212,     0.52946,     0.52679,     0.52401,     0.52122,     0.51843,     0.50926,     0.49329,     0.47873,     0.46386,     0.46135,     0.45884,     0.45632,\n",
      "            0.45228,     0.44067,     0.43777,     0.43486,     0.43194,     0.42228,     0.40869,     0.40309,     0.39745,      0.3863,     0.38746,     0.37117,     0.36436,     0.36551,     0.36076,     0.35598,     0.33505,     0.31517,     0.31615,     0.31711,     0.31648,     0.31491,     0.31335,\n",
      "            0.31178,      0.3102,     0.30863,     0.30705,     0.30547,     0.29695,     0.28756,     0.28458,      0.2816,      0.2786,     0.27221,     0.26078,     0.25657,     0.25233,     0.24808,     0.22247,     0.20557,     0.17467,     0.15457,     0.15154,      0.1485,     0.14545,     0.14239,\n",
      "            0.14084,     0.13432,     0.12247,     0.11703,     0.11156,    0.096387,    0.087927,     0.08431,    0.080679,    0.077034,    0.073224,    0.053986,     0.05073,    0.047463,    0.044185,    0.040896,    0.037596,    0.024094,           0,           0,           0,           0,           0,\n",
      "                  0,           0,           0,           0,           0,           0,           0,           0,           0,           0,           0,           0,           0,           0,           0,           0,           0,           0,           0,           0,           0,           0,           0,\n",
      "                  0,           0,           0,           0,           0,           0,           0,           0,           0,           0,           0,           0,           0,           0,           0,           0,           0,           0,           0,           0,           0,           0,           0,\n",
      "                  0,           0,           0,           0,           0,           0,           0,           0,           0,           0,           0]]), 'Confidence', 'F1'], [array([          0,    0.001001,    0.002002,    0.003003,    0.004004,    0.005005,    0.006006,    0.007007,    0.008008,    0.009009,     0.01001,    0.011011,    0.012012,    0.013013,    0.014014,    0.015015,    0.016016,    0.017017,    0.018018,    0.019019,     0.02002,    0.021021,    0.022022,    0.023023,\n",
      "          0.024024,    0.025025,    0.026026,    0.027027,    0.028028,    0.029029,     0.03003,    0.031031,    0.032032,    0.033033,    0.034034,    0.035035,    0.036036,    0.037037,    0.038038,    0.039039,     0.04004,    0.041041,    0.042042,    0.043043,    0.044044,    0.045045,    0.046046,    0.047047,\n",
      "          0.048048,    0.049049,     0.05005,    0.051051,    0.052052,    0.053053,    0.054054,    0.055055,    0.056056,    0.057057,    0.058058,    0.059059,     0.06006,    0.061061,    0.062062,    0.063063,    0.064064,    0.065065,    0.066066,    0.067067,    0.068068,    0.069069,     0.07007,    0.071071,\n",
      "          0.072072,    0.073073,    0.074074,    0.075075,    0.076076,    0.077077,    0.078078,    0.079079,     0.08008,    0.081081,    0.082082,    0.083083,    0.084084,    0.085085,    0.086086,    0.087087,    0.088088,    0.089089,     0.09009,    0.091091,    0.092092,    0.093093,    0.094094,    0.095095,\n",
      "          0.096096,    0.097097,    0.098098,    0.099099,      0.1001,      0.1011,      0.1021,      0.1031,      0.1041,     0.10511,     0.10611,     0.10711,     0.10811,     0.10911,     0.11011,     0.11111,     0.11211,     0.11311,     0.11411,     0.11512,     0.11612,     0.11712,     0.11812,     0.11912,\n",
      "           0.12012,     0.12112,     0.12212,     0.12312,     0.12412,     0.12513,     0.12613,     0.12713,     0.12813,     0.12913,     0.13013,     0.13113,     0.13213,     0.13313,     0.13413,     0.13514,     0.13614,     0.13714,     0.13814,     0.13914,     0.14014,     0.14114,     0.14214,     0.14314,\n",
      "           0.14414,     0.14515,     0.14615,     0.14715,     0.14815,     0.14915,     0.15015,     0.15115,     0.15215,     0.15315,     0.15415,     0.15516,     0.15616,     0.15716,     0.15816,     0.15916,     0.16016,     0.16116,     0.16216,     0.16316,     0.16416,     0.16517,     0.16617,     0.16717,\n",
      "           0.16817,     0.16917,     0.17017,     0.17117,     0.17217,     0.17317,     0.17417,     0.17518,     0.17618,     0.17718,     0.17818,     0.17918,     0.18018,     0.18118,     0.18218,     0.18318,     0.18418,     0.18519,     0.18619,     0.18719,     0.18819,     0.18919,     0.19019,     0.19119,\n",
      "           0.19219,     0.19319,     0.19419,      0.1952,      0.1962,      0.1972,      0.1982,      0.1992,      0.2002,      0.2012,      0.2022,      0.2032,      0.2042,     0.20521,     0.20621,     0.20721,     0.20821,     0.20921,     0.21021,     0.21121,     0.21221,     0.21321,     0.21421,     0.21522,\n",
      "           0.21622,     0.21722,     0.21822,     0.21922,     0.22022,     0.22122,     0.22222,     0.22322,     0.22422,     0.22523,     0.22623,     0.22723,     0.22823,     0.22923,     0.23023,     0.23123,     0.23223,     0.23323,     0.23423,     0.23524,     0.23624,     0.23724,     0.23824,     0.23924,\n",
      "           0.24024,     0.24124,     0.24224,     0.24324,     0.24424,     0.24525,     0.24625,     0.24725,     0.24825,     0.24925,     0.25025,     0.25125,     0.25225,     0.25325,     0.25425,     0.25526,     0.25626,     0.25726,     0.25826,     0.25926,     0.26026,     0.26126,     0.26226,     0.26326,\n",
      "           0.26426,     0.26527,     0.26627,     0.26727,     0.26827,     0.26927,     0.27027,     0.27127,     0.27227,     0.27327,     0.27427,     0.27528,     0.27628,     0.27728,     0.27828,     0.27928,     0.28028,     0.28128,     0.28228,     0.28328,     0.28428,     0.28529,     0.28629,     0.28729,\n",
      "           0.28829,     0.28929,     0.29029,     0.29129,     0.29229,     0.29329,     0.29429,      0.2953,      0.2963,      0.2973,      0.2983,      0.2993,      0.3003,      0.3013,      0.3023,      0.3033,      0.3043,     0.30531,     0.30631,     0.30731,     0.30831,     0.30931,     0.31031,     0.31131,\n",
      "           0.31231,     0.31331,     0.31431,     0.31532,     0.31632,     0.31732,     0.31832,     0.31932,     0.32032,     0.32132,     0.32232,     0.32332,     0.32432,     0.32533,     0.32633,     0.32733,     0.32833,     0.32933,     0.33033,     0.33133,     0.33233,     0.33333,     0.33433,     0.33534,\n",
      "           0.33634,     0.33734,     0.33834,     0.33934,     0.34034,     0.34134,     0.34234,     0.34334,     0.34434,     0.34535,     0.34635,     0.34735,     0.34835,     0.34935,     0.35035,     0.35135,     0.35235,     0.35335,     0.35435,     0.35536,     0.35636,     0.35736,     0.35836,     0.35936,\n",
      "           0.36036,     0.36136,     0.36236,     0.36336,     0.36436,     0.36537,     0.36637,     0.36737,     0.36837,     0.36937,     0.37037,     0.37137,     0.37237,     0.37337,     0.37437,     0.37538,     0.37638,     0.37738,     0.37838,     0.37938,     0.38038,     0.38138,     0.38238,     0.38338,\n",
      "           0.38438,     0.38539,     0.38639,     0.38739,     0.38839,     0.38939,     0.39039,     0.39139,     0.39239,     0.39339,     0.39439,      0.3954,      0.3964,      0.3974,      0.3984,      0.3994,      0.4004,      0.4014,      0.4024,      0.4034,      0.4044,     0.40541,     0.40641,     0.40741,\n",
      "           0.40841,     0.40941,     0.41041,     0.41141,     0.41241,     0.41341,     0.41441,     0.41542,     0.41642,     0.41742,     0.41842,     0.41942,     0.42042,     0.42142,     0.42242,     0.42342,     0.42442,     0.42543,     0.42643,     0.42743,     0.42843,     0.42943,     0.43043,     0.43143,\n",
      "           0.43243,     0.43343,     0.43443,     0.43544,     0.43644,     0.43744,     0.43844,     0.43944,     0.44044,     0.44144,     0.44244,     0.44344,     0.44444,     0.44545,     0.44645,     0.44745,     0.44845,     0.44945,     0.45045,     0.45145,     0.45245,     0.45345,     0.45445,     0.45546,\n",
      "           0.45646,     0.45746,     0.45846,     0.45946,     0.46046,     0.46146,     0.46246,     0.46346,     0.46446,     0.46547,     0.46647,     0.46747,     0.46847,     0.46947,     0.47047,     0.47147,     0.47247,     0.47347,     0.47447,     0.47548,     0.47648,     0.47748,     0.47848,     0.47948,\n",
      "           0.48048,     0.48148,     0.48248,     0.48348,     0.48448,     0.48549,     0.48649,     0.48749,     0.48849,     0.48949,     0.49049,     0.49149,     0.49249,     0.49349,     0.49449,      0.4955,      0.4965,      0.4975,      0.4985,      0.4995,      0.5005,      0.5015,      0.5025,      0.5035,\n",
      "            0.5045,     0.50551,     0.50651,     0.50751,     0.50851,     0.50951,     0.51051,     0.51151,     0.51251,     0.51351,     0.51451,     0.51552,     0.51652,     0.51752,     0.51852,     0.51952,     0.52052,     0.52152,     0.52252,     0.52352,     0.52452,     0.52553,     0.52653,     0.52753,\n",
      "           0.52853,     0.52953,     0.53053,     0.53153,     0.53253,     0.53353,     0.53453,     0.53554,     0.53654,     0.53754,     0.53854,     0.53954,     0.54054,     0.54154,     0.54254,     0.54354,     0.54454,     0.54555,     0.54655,     0.54755,     0.54855,     0.54955,     0.55055,     0.55155,\n",
      "           0.55255,     0.55355,     0.55455,     0.55556,     0.55656,     0.55756,     0.55856,     0.55956,     0.56056,     0.56156,     0.56256,     0.56356,     0.56456,     0.56557,     0.56657,     0.56757,     0.56857,     0.56957,     0.57057,     0.57157,     0.57257,     0.57357,     0.57457,     0.57558,\n",
      "           0.57658,     0.57758,     0.57858,     0.57958,     0.58058,     0.58158,     0.58258,     0.58358,     0.58458,     0.58559,     0.58659,     0.58759,     0.58859,     0.58959,     0.59059,     0.59159,     0.59259,     0.59359,     0.59459,      0.5956,      0.5966,      0.5976,      0.5986,      0.5996,\n",
      "            0.6006,      0.6016,      0.6026,      0.6036,      0.6046,     0.60561,     0.60661,     0.60761,     0.60861,     0.60961,     0.61061,     0.61161,     0.61261,     0.61361,     0.61461,     0.61562,     0.61662,     0.61762,     0.61862,     0.61962,     0.62062,     0.62162,     0.62262,     0.62362,\n",
      "           0.62462,     0.62563,     0.62663,     0.62763,     0.62863,     0.62963,     0.63063,     0.63163,     0.63263,     0.63363,     0.63463,     0.63564,     0.63664,     0.63764,     0.63864,     0.63964,     0.64064,     0.64164,     0.64264,     0.64364,     0.64464,     0.64565,     0.64665,     0.64765,\n",
      "           0.64865,     0.64965,     0.65065,     0.65165,     0.65265,     0.65365,     0.65465,     0.65566,     0.65666,     0.65766,     0.65866,     0.65966,     0.66066,     0.66166,     0.66266,     0.66366,     0.66466,     0.66567,     0.66667,     0.66767,     0.66867,     0.66967,     0.67067,     0.67167,\n",
      "           0.67267,     0.67367,     0.67467,     0.67568,     0.67668,     0.67768,     0.67868,     0.67968,     0.68068,     0.68168,     0.68268,     0.68368,     0.68468,     0.68569,     0.68669,     0.68769,     0.68869,     0.68969,     0.69069,     0.69169,     0.69269,     0.69369,     0.69469,      0.6957,\n",
      "            0.6967,      0.6977,      0.6987,      0.6997,      0.7007,      0.7017,      0.7027,      0.7037,      0.7047,     0.70571,     0.70671,     0.70771,     0.70871,     0.70971,     0.71071,     0.71171,     0.71271,     0.71371,     0.71471,     0.71572,     0.71672,     0.71772,     0.71872,     0.71972,\n",
      "           0.72072,     0.72172,     0.72272,     0.72372,     0.72472,     0.72573,     0.72673,     0.72773,     0.72873,     0.72973,     0.73073,     0.73173,     0.73273,     0.73373,     0.73473,     0.73574,     0.73674,     0.73774,     0.73874,     0.73974,     0.74074,     0.74174,     0.74274,     0.74374,\n",
      "           0.74474,     0.74575,     0.74675,     0.74775,     0.74875,     0.74975,     0.75075,     0.75175,     0.75275,     0.75375,     0.75475,     0.75576,     0.75676,     0.75776,     0.75876,     0.75976,     0.76076,     0.76176,     0.76276,     0.76376,     0.76476,     0.76577,     0.76677,     0.76777,\n",
      "           0.76877,     0.76977,     0.77077,     0.77177,     0.77277,     0.77377,     0.77477,     0.77578,     0.77678,     0.77778,     0.77878,     0.77978,     0.78078,     0.78178,     0.78278,     0.78378,     0.78478,     0.78579,     0.78679,     0.78779,     0.78879,     0.78979,     0.79079,     0.79179,\n",
      "           0.79279,     0.79379,     0.79479,      0.7958,      0.7968,      0.7978,      0.7988,      0.7998,      0.8008,      0.8018,      0.8028,      0.8038,      0.8048,     0.80581,     0.80681,     0.80781,     0.80881,     0.80981,     0.81081,     0.81181,     0.81281,     0.81381,     0.81481,     0.81582,\n",
      "           0.81682,     0.81782,     0.81882,     0.81982,     0.82082,     0.82182,     0.82282,     0.82382,     0.82482,     0.82583,     0.82683,     0.82783,     0.82883,     0.82983,     0.83083,     0.83183,     0.83283,     0.83383,     0.83483,     0.83584,     0.83684,     0.83784,     0.83884,     0.83984,\n",
      "           0.84084,     0.84184,     0.84284,     0.84384,     0.84484,     0.84585,     0.84685,     0.84785,     0.84885,     0.84985,     0.85085,     0.85185,     0.85285,     0.85385,     0.85485,     0.85586,     0.85686,     0.85786,     0.85886,     0.85986,     0.86086,     0.86186,     0.86286,     0.86386,\n",
      "           0.86486,     0.86587,     0.86687,     0.86787,     0.86887,     0.86987,     0.87087,     0.87187,     0.87287,     0.87387,     0.87487,     0.87588,     0.87688,     0.87788,     0.87888,     0.87988,     0.88088,     0.88188,     0.88288,     0.88388,     0.88488,     0.88589,     0.88689,     0.88789,\n",
      "           0.88889,     0.88989,     0.89089,     0.89189,     0.89289,     0.89389,     0.89489,      0.8959,      0.8969,      0.8979,      0.8989,      0.8999,      0.9009,      0.9019,      0.9029,      0.9039,      0.9049,     0.90591,     0.90691,     0.90791,     0.90891,     0.90991,     0.91091,     0.91191,\n",
      "           0.91291,     0.91391,     0.91491,     0.91592,     0.91692,     0.91792,     0.91892,     0.91992,     0.92092,     0.92192,     0.92292,     0.92392,     0.92492,     0.92593,     0.92693,     0.92793,     0.92893,     0.92993,     0.93093,     0.93193,     0.93293,     0.93393,     0.93493,     0.93594,\n",
      "           0.93694,     0.93794,     0.93894,     0.93994,     0.94094,     0.94194,     0.94294,     0.94394,     0.94494,     0.94595,     0.94695,     0.94795,     0.94895,     0.94995,     0.95095,     0.95195,     0.95295,     0.95395,     0.95495,     0.95596,     0.95696,     0.95796,     0.95896,     0.95996,\n",
      "           0.96096,     0.96196,     0.96296,     0.96396,     0.96496,     0.96597,     0.96697,     0.96797,     0.96897,     0.96997,     0.97097,     0.97197,     0.97297,     0.97397,     0.97497,     0.97598,     0.97698,     0.97798,     0.97898,     0.97998,     0.98098,     0.98198,     0.98298,     0.98398,\n",
      "           0.98498,     0.98599,     0.98699,     0.98799,     0.98899,     0.98999,     0.99099,     0.99199,     0.99299,     0.99399,     0.99499,       0.996,       0.997,       0.998,       0.999,           1]), array([[    0.51705,     0.51705,     0.58458,     0.61703,     0.63179,     0.63552,     0.64783,     0.65808,     0.66001,      0.6679,     0.67385,     0.67686,     0.67572,     0.67778,     0.68034,     0.68698,     0.68999,     0.68868,     0.69099,      0.6933,     0.69458,     0.69573,     0.69688,\n",
      "            0.69803,     0.69918,      0.7047,     0.70672,      0.7086,     0.71048,     0.71305,     0.71574,     0.71886,     0.72221,     0.72345,     0.72434,     0.72523,     0.72611,       0.727,     0.72789,     0.72878,     0.72982,     0.73086,     0.73191,     0.73295,       0.734,     0.73505,\n",
      "             0.7362,     0.73735,      0.7385,     0.73965,      0.7408,     0.74446,     0.74817,     0.74892,     0.74966,     0.75041,     0.75116,      0.7519,     0.75265,     0.75339,     0.75414,     0.75564,     0.75751,     0.75938,     0.76127,     0.76329,     0.76531,     0.76733,      0.7682,\n",
      "            0.76867,     0.76914,     0.76961,     0.77008,     0.77055,     0.77102,     0.77148,     0.77195,     0.77242,     0.77289,     0.77336,     0.77383,      0.7743,     0.77477,     0.78282,     0.78403,     0.78525,     0.78646,     0.78768,     0.78889,     0.78972,     0.79051,     0.79131,\n",
      "             0.7921,     0.79289,     0.79369,     0.79448,     0.79527,     0.79607,     0.79625,     0.79618,     0.79612,     0.79605,     0.79599,     0.79592,     0.79586,     0.79579,     0.79573,     0.79566,     0.79559,     0.79553,     0.79546,      0.7954,     0.79533,     0.79527,      0.7952,\n",
      "            0.79514,     0.79507,     0.79501,     0.79494,     0.79487,     0.79481,     0.79474,     0.79468,     0.79461,     0.79455,     0.79448,     0.79442,     0.79568,     0.79769,     0.79971,     0.80172,     0.80233,     0.80281,     0.80329,     0.80377,     0.80425,     0.80473,     0.80521,\n",
      "            0.80569,     0.80617,     0.80665,     0.80714,     0.80762,      0.8081,     0.80858,     0.80906,     0.80957,     0.81106,     0.81255,     0.81404,     0.81554,     0.81703,     0.81807,       0.819,     0.81993,     0.82087,      0.8218,     0.82273,     0.82367,      0.8246,     0.82547,\n",
      "             0.8262,     0.82693,     0.82766,     0.82838,     0.82911,     0.82984,     0.83057,      0.8313,     0.83202,     0.83275,     0.83322,     0.83265,     0.83208,     0.83167,     0.83161,     0.83156,      0.8315,     0.83145,     0.83139,     0.83134,     0.83128,     0.83123,     0.83117,\n",
      "            0.83112,     0.83106,     0.83101,     0.83095,      0.8309,     0.83084,     0.83079,     0.83073,     0.83068,     0.83063,     0.83057,     0.83052,     0.83046,     0.83041,     0.83035,      0.8303,     0.83024,     0.83019,     0.83013,     0.83008,     0.83002,     0.83077,     0.83207,\n",
      "            0.83338,     0.83468,     0.83598,     0.83728,      0.8384,     0.83853,     0.83866,     0.83879,     0.83892,     0.83905,     0.83918,     0.83931,     0.83943,     0.83956,     0.83969,     0.83982,     0.83995,     0.84008,     0.84021,     0.84034,     0.84046,     0.84059,     0.84072,\n",
      "            0.84085,     0.84098,     0.84111,     0.84124,     0.84137,     0.84149,     0.84162,     0.84175,     0.84188,     0.84201,     0.84214,     0.84227,      0.8424,     0.84252,     0.84265,     0.84278,     0.84291,     0.84304,     0.84317,      0.8433,     0.84343,     0.84355,     0.84368,\n",
      "            0.84381,     0.84394,     0.84407,      0.8442,     0.84433,     0.84446,     0.84458,     0.84471,     0.84484,     0.84497,      0.8451,     0.84523,     0.84536,     0.84549,     0.84562,     0.84574,     0.84587,       0.846,     0.84613,     0.84626,     0.84639,     0.84652,     0.84665,\n",
      "            0.84677,      0.8469,     0.84693,     0.84691,     0.84689,     0.84687,     0.84685,     0.84683,     0.84682,      0.8468,     0.84678,     0.84676,     0.84674,     0.84673,     0.84671,     0.84669,     0.84667,     0.84665,     0.84663,     0.84662,      0.8466,     0.84658,     0.84656,\n",
      "            0.84654,     0.84653,     0.84651,     0.84649,     0.84647,     0.84645,     0.84643,     0.84642,      0.8464,     0.84638,     0.84636,     0.84634,     0.84633,     0.84631,     0.84629,     0.84627,     0.84625,     0.84623,     0.84622,      0.8462,     0.84618,     0.84616,     0.84614,\n",
      "            0.84613,     0.84611,     0.84609,     0.84607,     0.84605,     0.84603,     0.84602,       0.846,     0.84598,     0.84596,     0.84594,     0.84592,     0.84591,     0.84589,     0.84587,     0.84585,     0.84583,     0.84582,      0.8458,     0.84578,     0.84576,     0.84574,     0.84572,\n",
      "            0.84571,     0.84569,     0.84567,     0.84565,     0.84563,     0.84562,      0.8456,     0.84558,     0.84556,     0.84554,     0.84552,     0.84551,     0.84549,     0.84547,     0.84545,     0.84543,     0.84542,      0.8454,     0.84538,     0.84536,      0.8451,     0.84484,     0.84457,\n",
      "            0.84431,     0.84405,     0.84379,     0.84421,     0.84474,     0.84527,     0.84579,     0.84632,     0.84685,     0.84738,     0.84791,     0.84844,     0.84897,      0.8495,     0.85003,     0.85056,     0.85109,     0.85162,     0.85215,     0.85279,     0.85442,     0.85605,     0.85768,\n",
      "            0.85931,     0.86094,     0.86156,      0.8613,     0.86104,     0.86078,     0.86052,     0.86026,     0.86013,     0.86003,     0.85992,     0.85982,     0.85971,     0.85961,     0.85951,      0.8594,      0.8593,      0.8592,     0.85909,     0.85899,     0.85888,     0.85878,     0.85869,\n",
      "            0.85864,      0.8586,     0.85856,     0.85851,     0.85847,     0.85842,     0.85838,     0.85834,     0.85829,     0.85825,     0.85821,     0.85816,     0.85812,     0.85807,     0.85803,     0.85799,     0.85794,      0.8579,     0.85786,     0.85781,     0.85777,     0.85772,     0.85768,\n",
      "            0.85764,     0.85759,     0.85755,     0.85751,     0.85746,     0.85742,     0.85737,     0.85733,     0.85729,     0.85724,      0.8572,     0.85716,      0.8569,     0.85657,     0.85623,     0.85589,     0.85555,     0.85552,     0.85549,     0.85546,     0.85543,      0.8554,     0.85537,\n",
      "            0.85534,     0.85531,     0.85528,     0.85525,     0.85522,      0.8552,     0.85517,     0.85514,     0.85511,     0.85508,     0.85505,     0.85502,     0.85499,     0.85496,     0.85493,      0.8549,     0.85487,     0.85484,     0.85481,     0.85478,     0.85475,     0.85472,     0.85469,\n",
      "            0.85466,     0.85463,      0.8546,     0.85457,     0.85454,     0.85451,     0.85448,     0.85445,     0.85442,     0.85439,     0.85436,     0.85433,      0.8543,     0.85427,     0.85424,     0.85421,     0.85418,     0.85415,     0.85412,     0.85409,     0.85406,     0.85403,       0.854,\n",
      "            0.85397,     0.85394,     0.85389,     0.85383,     0.85378,     0.85373,     0.85368,     0.85363,     0.85357,     0.85352,     0.85347,     0.85342,     0.85337,     0.85332,     0.85326,     0.85321,     0.85316,     0.85311,     0.85306,       0.853,     0.85295,      0.8529,     0.85285,\n",
      "             0.8528,     0.85274,     0.85269,     0.85264,     0.85259,     0.85254,     0.85248,     0.85243,     0.85238,     0.85233,     0.85228,     0.85218,     0.85208,     0.85198,     0.85189,     0.85179,     0.85169,     0.85159,     0.85149,      0.8514,      0.8513,      0.8512,      0.8511,\n",
      "              0.851,      0.8509,     0.85081,     0.85071,     0.85061,     0.85055,     0.85052,     0.85049,     0.85046,     0.85043,      0.8504,     0.85037,     0.85034,     0.85031,     0.85027,     0.85024,     0.85021,     0.85018,     0.85015,     0.85012,     0.85009,     0.85006,     0.85002,\n",
      "            0.84999,     0.84996,     0.84993,      0.8499,     0.84987,     0.84984,     0.84981,     0.84977,     0.84974,     0.84971,     0.84968,     0.84965,     0.84962,     0.84959,     0.84956,     0.84953,     0.84949,     0.84946,     0.84943,      0.8494,     0.84937,     0.84934,     0.84931,\n",
      "            0.84928,     0.84924,     0.84921,     0.84918,     0.84915,     0.84912,     0.84909,     0.84906,     0.84903,     0.84899,     0.84896,     0.84893,      0.8489,     0.84887,     0.84884,     0.84824,     0.84761,     0.84705,       0.847,     0.84695,      0.8469,     0.84685,      0.8468,\n",
      "            0.84675,      0.8467,     0.84665,      0.8466,     0.84655,      0.8465,     0.84644,     0.84639,     0.84634,     0.84629,     0.84624,     0.84619,     0.84614,     0.84609,     0.84604,     0.84599,     0.84594,     0.84589,     0.84584,     0.84579,     0.84574,     0.84568,     0.84563,\n",
      "            0.84558,     0.84553,     0.84548,     0.84543,     0.84538,     0.84533,     0.84528,      0.8453,     0.84562,     0.84593,     0.84625,     0.84657,     0.84688,      0.8472,     0.84752,     0.84783,     0.84815,     0.84847,     0.84878,      0.8491,     0.84942,     0.84974,     0.85005,\n",
      "            0.85037,     0.85069,       0.851,     0.85132,     0.85164,     0.85195,     0.85227,     0.85259,      0.8529,     0.85322,     0.85354,     0.85385,     0.85417,     0.85449,      0.8548,     0.85512,     0.85541,     0.85525,     0.85509,     0.85493,     0.85477,     0.85461,     0.85445,\n",
      "            0.85429,     0.85412,     0.85396,      0.8538,     0.85358,      0.8529,     0.85221,     0.85206,      0.8525,     0.85294,     0.85338,     0.85382,     0.85426,      0.8547,     0.85514,     0.85558,     0.85602,     0.85646,      0.8569,     0.85734,     0.85777,     0.85821,     0.85865,\n",
      "            0.85909,     0.85953,     0.85997,     0.86041,     0.86085,     0.86129,     0.86173,     0.86217,     0.86248,     0.86238,     0.86229,     0.86219,      0.8621,       0.862,      0.8619,     0.86181,     0.86171,     0.86162,     0.86152,     0.86143,     0.86133,     0.86124,     0.86114,\n",
      "            0.86105,     0.86095,     0.86086,     0.86076,     0.86449,     0.86832,     0.87197,     0.87388,      0.8758,     0.87771,     0.87962,     0.88153,     0.88307,      0.8828,     0.88253,     0.88226,     0.88199,     0.88172,     0.88118,     0.88031,      0.8818,     0.88462,     0.88745,\n",
      "            0.89028,      0.8916,     0.89091,     0.89036,     0.89017,     0.88998,     0.88978,     0.88959,      0.8894,     0.88921,     0.88902,      0.8887,     0.88813,     0.88755,     0.89049,     0.89562,     0.89992,     0.89934,     0.89876,     0.89733,     0.89697,     0.89686,     0.89676,\n",
      "            0.89665,     0.89655,     0.89644,     0.89634,     0.89623,     0.89613,     0.89602,     0.89592,     0.89581,     0.89571,      0.8956,     0.89549,     0.89539,     0.89528,     0.89517,     0.89506,     0.89496,     0.89485,     0.89474,     0.89463,     0.89453,     0.89442,     0.89431,\n",
      "             0.8942,      0.8941,     0.89399,     0.90718,     0.90563,     0.90475,     0.90444,     0.90414,     0.90384,     0.90353,     0.90323,      0.9134,     0.91659,     0.91632,     0.91605,     0.91578,     0.91551,     0.91582,     0.92678,     0.93078,     0.93036,     0.92994,     0.92829,\n",
      "            0.92752,       0.927,     0.92659,     0.92618,     0.92578,     0.92539,       0.925,     0.92461,     0.92398,     0.92331,     0.92241,     0.92148,     0.92098,     0.92048,     0.91998,     0.91937,     0.91876,     0.91827,     0.91798,     0.91769,      0.9174,     0.91711,     0.91682,\n",
      "            0.91473,     0.91437,     0.91401,     0.91366,      0.9133,     0.91247,     0.91082,     0.91003,     0.90924,     0.90863,     0.90806,      0.9075,     0.90692,     0.90631,     0.90569,     0.90507,     0.90299,      0.8992,     0.89555,     0.89163,     0.89094,     0.89025,     0.88955,\n",
      "            0.88842,     0.88505,     0.88418,     0.88331,     0.88244,     0.87941,     0.87498,     0.87304,      0.8711,     0.87803,     0.89023,     0.89131,     0.89756,     0.92285,     0.92169,     0.92052,     0.91497,     0.91256,     0.92935,     0.94614,     0.95221,     0.95193,     0.95165,\n",
      "            0.95137,     0.95109,     0.95081,     0.95054,     0.95026,     0.94864,     0.94678,     0.94616,     0.94553,      0.9449,     0.94346,     0.94079,      0.9397,     0.93862,     0.93754,     0.92984,     0.92386,     0.91018,     0.89865,     0.89656,     0.89447,     0.89237,     0.89028,\n",
      "            0.92948,           1,           1,           1,           1,           1,           1,           1,           1,           1,           1,           1,           1,           1,           1,           1,           1,           1,           1,           1,           1,           1,           1,\n",
      "                  1,           1,           1,           1,           1,           1,           1,           1,           1,           1,           1,           1,           1,           1,           1,           1,           1,           1,           1,           1,           1,           1,           1,\n",
      "                  1,           1,           1,           1,           1,           1,           1,           1,           1,           1,           1,           1,           1,           1,           1,           1,           1,           1,           1,           1,           1,           1,           1,\n",
      "                  1,           1,           1,           1,           1,           1,           1,           1,           1,           1,           1]]), 'Confidence', 'Precision'], [array([          0,    0.001001,    0.002002,    0.003003,    0.004004,    0.005005,    0.006006,    0.007007,    0.008008,    0.009009,     0.01001,    0.011011,    0.012012,    0.013013,    0.014014,    0.015015,    0.016016,    0.017017,    0.018018,    0.019019,     0.02002,    0.021021,    0.022022,    0.023023,\n",
      "          0.024024,    0.025025,    0.026026,    0.027027,    0.028028,    0.029029,     0.03003,    0.031031,    0.032032,    0.033033,    0.034034,    0.035035,    0.036036,    0.037037,    0.038038,    0.039039,     0.04004,    0.041041,    0.042042,    0.043043,    0.044044,    0.045045,    0.046046,    0.047047,\n",
      "          0.048048,    0.049049,     0.05005,    0.051051,    0.052052,    0.053053,    0.054054,    0.055055,    0.056056,    0.057057,    0.058058,    0.059059,     0.06006,    0.061061,    0.062062,    0.063063,    0.064064,    0.065065,    0.066066,    0.067067,    0.068068,    0.069069,     0.07007,    0.071071,\n",
      "          0.072072,    0.073073,    0.074074,    0.075075,    0.076076,    0.077077,    0.078078,    0.079079,     0.08008,    0.081081,    0.082082,    0.083083,    0.084084,    0.085085,    0.086086,    0.087087,    0.088088,    0.089089,     0.09009,    0.091091,    0.092092,    0.093093,    0.094094,    0.095095,\n",
      "          0.096096,    0.097097,    0.098098,    0.099099,      0.1001,      0.1011,      0.1021,      0.1031,      0.1041,     0.10511,     0.10611,     0.10711,     0.10811,     0.10911,     0.11011,     0.11111,     0.11211,     0.11311,     0.11411,     0.11512,     0.11612,     0.11712,     0.11812,     0.11912,\n",
      "           0.12012,     0.12112,     0.12212,     0.12312,     0.12412,     0.12513,     0.12613,     0.12713,     0.12813,     0.12913,     0.13013,     0.13113,     0.13213,     0.13313,     0.13413,     0.13514,     0.13614,     0.13714,     0.13814,     0.13914,     0.14014,     0.14114,     0.14214,     0.14314,\n",
      "           0.14414,     0.14515,     0.14615,     0.14715,     0.14815,     0.14915,     0.15015,     0.15115,     0.15215,     0.15315,     0.15415,     0.15516,     0.15616,     0.15716,     0.15816,     0.15916,     0.16016,     0.16116,     0.16216,     0.16316,     0.16416,     0.16517,     0.16617,     0.16717,\n",
      "           0.16817,     0.16917,     0.17017,     0.17117,     0.17217,     0.17317,     0.17417,     0.17518,     0.17618,     0.17718,     0.17818,     0.17918,     0.18018,     0.18118,     0.18218,     0.18318,     0.18418,     0.18519,     0.18619,     0.18719,     0.18819,     0.18919,     0.19019,     0.19119,\n",
      "           0.19219,     0.19319,     0.19419,      0.1952,      0.1962,      0.1972,      0.1982,      0.1992,      0.2002,      0.2012,      0.2022,      0.2032,      0.2042,     0.20521,     0.20621,     0.20721,     0.20821,     0.20921,     0.21021,     0.21121,     0.21221,     0.21321,     0.21421,     0.21522,\n",
      "           0.21622,     0.21722,     0.21822,     0.21922,     0.22022,     0.22122,     0.22222,     0.22322,     0.22422,     0.22523,     0.22623,     0.22723,     0.22823,     0.22923,     0.23023,     0.23123,     0.23223,     0.23323,     0.23423,     0.23524,     0.23624,     0.23724,     0.23824,     0.23924,\n",
      "           0.24024,     0.24124,     0.24224,     0.24324,     0.24424,     0.24525,     0.24625,     0.24725,     0.24825,     0.24925,     0.25025,     0.25125,     0.25225,     0.25325,     0.25425,     0.25526,     0.25626,     0.25726,     0.25826,     0.25926,     0.26026,     0.26126,     0.26226,     0.26326,\n",
      "           0.26426,     0.26527,     0.26627,     0.26727,     0.26827,     0.26927,     0.27027,     0.27127,     0.27227,     0.27327,     0.27427,     0.27528,     0.27628,     0.27728,     0.27828,     0.27928,     0.28028,     0.28128,     0.28228,     0.28328,     0.28428,     0.28529,     0.28629,     0.28729,\n",
      "           0.28829,     0.28929,     0.29029,     0.29129,     0.29229,     0.29329,     0.29429,      0.2953,      0.2963,      0.2973,      0.2983,      0.2993,      0.3003,      0.3013,      0.3023,      0.3033,      0.3043,     0.30531,     0.30631,     0.30731,     0.30831,     0.30931,     0.31031,     0.31131,\n",
      "           0.31231,     0.31331,     0.31431,     0.31532,     0.31632,     0.31732,     0.31832,     0.31932,     0.32032,     0.32132,     0.32232,     0.32332,     0.32432,     0.32533,     0.32633,     0.32733,     0.32833,     0.32933,     0.33033,     0.33133,     0.33233,     0.33333,     0.33433,     0.33534,\n",
      "           0.33634,     0.33734,     0.33834,     0.33934,     0.34034,     0.34134,     0.34234,     0.34334,     0.34434,     0.34535,     0.34635,     0.34735,     0.34835,     0.34935,     0.35035,     0.35135,     0.35235,     0.35335,     0.35435,     0.35536,     0.35636,     0.35736,     0.35836,     0.35936,\n",
      "           0.36036,     0.36136,     0.36236,     0.36336,     0.36436,     0.36537,     0.36637,     0.36737,     0.36837,     0.36937,     0.37037,     0.37137,     0.37237,     0.37337,     0.37437,     0.37538,     0.37638,     0.37738,     0.37838,     0.37938,     0.38038,     0.38138,     0.38238,     0.38338,\n",
      "           0.38438,     0.38539,     0.38639,     0.38739,     0.38839,     0.38939,     0.39039,     0.39139,     0.39239,     0.39339,     0.39439,      0.3954,      0.3964,      0.3974,      0.3984,      0.3994,      0.4004,      0.4014,      0.4024,      0.4034,      0.4044,     0.40541,     0.40641,     0.40741,\n",
      "           0.40841,     0.40941,     0.41041,     0.41141,     0.41241,     0.41341,     0.41441,     0.41542,     0.41642,     0.41742,     0.41842,     0.41942,     0.42042,     0.42142,     0.42242,     0.42342,     0.42442,     0.42543,     0.42643,     0.42743,     0.42843,     0.42943,     0.43043,     0.43143,\n",
      "           0.43243,     0.43343,     0.43443,     0.43544,     0.43644,     0.43744,     0.43844,     0.43944,     0.44044,     0.44144,     0.44244,     0.44344,     0.44444,     0.44545,     0.44645,     0.44745,     0.44845,     0.44945,     0.45045,     0.45145,     0.45245,     0.45345,     0.45445,     0.45546,\n",
      "           0.45646,     0.45746,     0.45846,     0.45946,     0.46046,     0.46146,     0.46246,     0.46346,     0.46446,     0.46547,     0.46647,     0.46747,     0.46847,     0.46947,     0.47047,     0.47147,     0.47247,     0.47347,     0.47447,     0.47548,     0.47648,     0.47748,     0.47848,     0.47948,\n",
      "           0.48048,     0.48148,     0.48248,     0.48348,     0.48448,     0.48549,     0.48649,     0.48749,     0.48849,     0.48949,     0.49049,     0.49149,     0.49249,     0.49349,     0.49449,      0.4955,      0.4965,      0.4975,      0.4985,      0.4995,      0.5005,      0.5015,      0.5025,      0.5035,\n",
      "            0.5045,     0.50551,     0.50651,     0.50751,     0.50851,     0.50951,     0.51051,     0.51151,     0.51251,     0.51351,     0.51451,     0.51552,     0.51652,     0.51752,     0.51852,     0.51952,     0.52052,     0.52152,     0.52252,     0.52352,     0.52452,     0.52553,     0.52653,     0.52753,\n",
      "           0.52853,     0.52953,     0.53053,     0.53153,     0.53253,     0.53353,     0.53453,     0.53554,     0.53654,     0.53754,     0.53854,     0.53954,     0.54054,     0.54154,     0.54254,     0.54354,     0.54454,     0.54555,     0.54655,     0.54755,     0.54855,     0.54955,     0.55055,     0.55155,\n",
      "           0.55255,     0.55355,     0.55455,     0.55556,     0.55656,     0.55756,     0.55856,     0.55956,     0.56056,     0.56156,     0.56256,     0.56356,     0.56456,     0.56557,     0.56657,     0.56757,     0.56857,     0.56957,     0.57057,     0.57157,     0.57257,     0.57357,     0.57457,     0.57558,\n",
      "           0.57658,     0.57758,     0.57858,     0.57958,     0.58058,     0.58158,     0.58258,     0.58358,     0.58458,     0.58559,     0.58659,     0.58759,     0.58859,     0.58959,     0.59059,     0.59159,     0.59259,     0.59359,     0.59459,      0.5956,      0.5966,      0.5976,      0.5986,      0.5996,\n",
      "            0.6006,      0.6016,      0.6026,      0.6036,      0.6046,     0.60561,     0.60661,     0.60761,     0.60861,     0.60961,     0.61061,     0.61161,     0.61261,     0.61361,     0.61461,     0.61562,     0.61662,     0.61762,     0.61862,     0.61962,     0.62062,     0.62162,     0.62262,     0.62362,\n",
      "           0.62462,     0.62563,     0.62663,     0.62763,     0.62863,     0.62963,     0.63063,     0.63163,     0.63263,     0.63363,     0.63463,     0.63564,     0.63664,     0.63764,     0.63864,     0.63964,     0.64064,     0.64164,     0.64264,     0.64364,     0.64464,     0.64565,     0.64665,     0.64765,\n",
      "           0.64865,     0.64965,     0.65065,     0.65165,     0.65265,     0.65365,     0.65465,     0.65566,     0.65666,     0.65766,     0.65866,     0.65966,     0.66066,     0.66166,     0.66266,     0.66366,     0.66466,     0.66567,     0.66667,     0.66767,     0.66867,     0.66967,     0.67067,     0.67167,\n",
      "           0.67267,     0.67367,     0.67467,     0.67568,     0.67668,     0.67768,     0.67868,     0.67968,     0.68068,     0.68168,     0.68268,     0.68368,     0.68468,     0.68569,     0.68669,     0.68769,     0.68869,     0.68969,     0.69069,     0.69169,     0.69269,     0.69369,     0.69469,      0.6957,\n",
      "            0.6967,      0.6977,      0.6987,      0.6997,      0.7007,      0.7017,      0.7027,      0.7037,      0.7047,     0.70571,     0.70671,     0.70771,     0.70871,     0.70971,     0.71071,     0.71171,     0.71271,     0.71371,     0.71471,     0.71572,     0.71672,     0.71772,     0.71872,     0.71972,\n",
      "           0.72072,     0.72172,     0.72272,     0.72372,     0.72472,     0.72573,     0.72673,     0.72773,     0.72873,     0.72973,     0.73073,     0.73173,     0.73273,     0.73373,     0.73473,     0.73574,     0.73674,     0.73774,     0.73874,     0.73974,     0.74074,     0.74174,     0.74274,     0.74374,\n",
      "           0.74474,     0.74575,     0.74675,     0.74775,     0.74875,     0.74975,     0.75075,     0.75175,     0.75275,     0.75375,     0.75475,     0.75576,     0.75676,     0.75776,     0.75876,     0.75976,     0.76076,     0.76176,     0.76276,     0.76376,     0.76476,     0.76577,     0.76677,     0.76777,\n",
      "           0.76877,     0.76977,     0.77077,     0.77177,     0.77277,     0.77377,     0.77477,     0.77578,     0.77678,     0.77778,     0.77878,     0.77978,     0.78078,     0.78178,     0.78278,     0.78378,     0.78478,     0.78579,     0.78679,     0.78779,     0.78879,     0.78979,     0.79079,     0.79179,\n",
      "           0.79279,     0.79379,     0.79479,      0.7958,      0.7968,      0.7978,      0.7988,      0.7998,      0.8008,      0.8018,      0.8028,      0.8038,      0.8048,     0.80581,     0.80681,     0.80781,     0.80881,     0.80981,     0.81081,     0.81181,     0.81281,     0.81381,     0.81481,     0.81582,\n",
      "           0.81682,     0.81782,     0.81882,     0.81982,     0.82082,     0.82182,     0.82282,     0.82382,     0.82482,     0.82583,     0.82683,     0.82783,     0.82883,     0.82983,     0.83083,     0.83183,     0.83283,     0.83383,     0.83483,     0.83584,     0.83684,     0.83784,     0.83884,     0.83984,\n",
      "           0.84084,     0.84184,     0.84284,     0.84384,     0.84484,     0.84585,     0.84685,     0.84785,     0.84885,     0.84985,     0.85085,     0.85185,     0.85285,     0.85385,     0.85485,     0.85586,     0.85686,     0.85786,     0.85886,     0.85986,     0.86086,     0.86186,     0.86286,     0.86386,\n",
      "           0.86486,     0.86587,     0.86687,     0.86787,     0.86887,     0.86987,     0.87087,     0.87187,     0.87287,     0.87387,     0.87487,     0.87588,     0.87688,     0.87788,     0.87888,     0.87988,     0.88088,     0.88188,     0.88288,     0.88388,     0.88488,     0.88589,     0.88689,     0.88789,\n",
      "           0.88889,     0.88989,     0.89089,     0.89189,     0.89289,     0.89389,     0.89489,      0.8959,      0.8969,      0.8979,      0.8989,      0.8999,      0.9009,      0.9019,      0.9029,      0.9039,      0.9049,     0.90591,     0.90691,     0.90791,     0.90891,     0.90991,     0.91091,     0.91191,\n",
      "           0.91291,     0.91391,     0.91491,     0.91592,     0.91692,     0.91792,     0.91892,     0.91992,     0.92092,     0.92192,     0.92292,     0.92392,     0.92492,     0.92593,     0.92693,     0.92793,     0.92893,     0.92993,     0.93093,     0.93193,     0.93293,     0.93393,     0.93493,     0.93594,\n",
      "           0.93694,     0.93794,     0.93894,     0.93994,     0.94094,     0.94194,     0.94294,     0.94394,     0.94494,     0.94595,     0.94695,     0.94795,     0.94895,     0.94995,     0.95095,     0.95195,     0.95295,     0.95395,     0.95495,     0.95596,     0.95696,     0.95796,     0.95896,     0.95996,\n",
      "           0.96096,     0.96196,     0.96296,     0.96396,     0.96496,     0.96597,     0.96697,     0.96797,     0.96897,     0.96997,     0.97097,     0.97197,     0.97297,     0.97397,     0.97497,     0.97598,     0.97698,     0.97798,     0.97898,     0.97998,     0.98098,     0.98198,     0.98298,     0.98398,\n",
      "           0.98498,     0.98599,     0.98699,     0.98799,     0.98899,     0.98999,     0.99099,     0.99199,     0.99299,     0.99399,     0.99499,       0.996,       0.997,       0.998,       0.999,           1]), array([[    0.86667,     0.86667,     0.85714,     0.85714,     0.84762,      0.8381,      0.8381,      0.8381,      0.8381,      0.8381,      0.8381,      0.8381,     0.82857,     0.82857,     0.82857,     0.82857,     0.82669,     0.81905,     0.81905,     0.81905,     0.81905,     0.81905,     0.81905,\n",
      "            0.81905,     0.81905,     0.81905,     0.81905,     0.81905,     0.81905,     0.81905,     0.81905,     0.81905,     0.81905,     0.81905,     0.81905,     0.81905,     0.81905,     0.81905,     0.81905,     0.81905,     0.81905,     0.81905,     0.81905,     0.81905,     0.81905,     0.81905,\n",
      "            0.81905,     0.81905,     0.81905,     0.81905,     0.81905,     0.81905,     0.81905,     0.81905,     0.81905,     0.81905,     0.81905,     0.81905,     0.81905,     0.81905,     0.81905,     0.81905,     0.81905,     0.81905,     0.81905,     0.81905,     0.81905,     0.81905,     0.81905,\n",
      "            0.81905,     0.81905,     0.81905,     0.81905,     0.81905,     0.81905,     0.81905,     0.81905,     0.81905,     0.81905,     0.81905,     0.81905,     0.81905,     0.81905,     0.81905,     0.81905,     0.81905,     0.81905,     0.81905,     0.81905,     0.81905,     0.81905,     0.81905,\n",
      "            0.81905,     0.81905,     0.81905,     0.81905,     0.81905,     0.81905,     0.81881,     0.81849,     0.81816,     0.81783,      0.8175,     0.81718,     0.81685,     0.81652,     0.81619,     0.81587,     0.81554,     0.81521,     0.81488,     0.81456,     0.81423,      0.8139,     0.81357,\n",
      "            0.81325,     0.81292,     0.81259,     0.81226,     0.81194,     0.81161,     0.81128,     0.81095,     0.81062,      0.8103,     0.80997,     0.80964,     0.80952,     0.80952,     0.80952,     0.80952,     0.80952,     0.80952,     0.80952,     0.80952,     0.80952,     0.80952,     0.80952,\n",
      "            0.80952,     0.80952,     0.80952,     0.80952,     0.80952,     0.80952,     0.80952,     0.80952,     0.80952,     0.80952,     0.80952,     0.80952,     0.80952,     0.80952,     0.80952,     0.80952,     0.80952,     0.80952,     0.80952,     0.80952,     0.80952,     0.80952,     0.80952,\n",
      "            0.80952,     0.80952,     0.80952,     0.80952,     0.80952,     0.80952,     0.80952,     0.80952,     0.80952,     0.80952,     0.80886,     0.80556,     0.80226,      0.7999,     0.79959,     0.79928,     0.79897,     0.79866,     0.79835,     0.79804,     0.79773,     0.79742,     0.79711,\n",
      "             0.7968,     0.79649,     0.79618,     0.79587,     0.79556,     0.79525,     0.79494,     0.79463,     0.79432,     0.79401,      0.7937,     0.79339,     0.79308,     0.79277,     0.79246,     0.79215,     0.79184,     0.79153,     0.79122,     0.79091,      0.7906,     0.79048,     0.79048,\n",
      "            0.79048,     0.79048,     0.79048,     0.79048,     0.79048,     0.79048,     0.79048,     0.79048,     0.79048,     0.79048,     0.79048,     0.79048,     0.79048,     0.79048,     0.79048,     0.79048,     0.79048,     0.79048,     0.79048,     0.79048,     0.79048,     0.79048,     0.79048,\n",
      "            0.79048,     0.79048,     0.79048,     0.79048,     0.79048,     0.79048,     0.79048,     0.79048,     0.79048,     0.79048,     0.79048,     0.79048,     0.79048,     0.79048,     0.79048,     0.79048,     0.79048,     0.79048,     0.79048,     0.79048,     0.79048,     0.79048,     0.79048,\n",
      "            0.79048,     0.79048,     0.79048,     0.79048,     0.79048,     0.79048,     0.79048,     0.79048,     0.79048,     0.79048,     0.79048,     0.79048,     0.79048,     0.79048,     0.79048,     0.79048,     0.79048,     0.79048,     0.79048,     0.79048,     0.79048,     0.79048,     0.79048,\n",
      "            0.79048,     0.79048,      0.7904,     0.79029,     0.79018,     0.79007,     0.78996,     0.78985,     0.78974,     0.78963,     0.78952,     0.78941,      0.7893,     0.78919,     0.78908,     0.78897,     0.78886,     0.78875,     0.78864,     0.78853,     0.78842,     0.78831,      0.7882,\n",
      "            0.78809,     0.78798,     0.78787,     0.78776,     0.78765,     0.78754,     0.78743,     0.78732,     0.78721,      0.7871,     0.78699,     0.78688,     0.78677,     0.78666,     0.78655,     0.78644,     0.78633,     0.78622,     0.78611,       0.786,     0.78589,     0.78578,     0.78567,\n",
      "            0.78557,     0.78546,     0.78535,     0.78524,     0.78513,     0.78502,     0.78491,      0.7848,     0.78469,     0.78458,     0.78447,     0.78436,     0.78425,     0.78414,     0.78403,     0.78392,     0.78381,      0.7837,     0.78359,     0.78348,     0.78337,     0.78326,     0.78315,\n",
      "            0.78304,     0.78293,     0.78282,     0.78271,      0.7826,     0.78249,     0.78238,     0.78227,     0.78216,     0.78205,     0.78194,     0.78183,     0.78172,     0.78161,      0.7815,     0.78139,     0.78128,     0.78117,     0.78106,     0.78095,     0.77941,     0.77786,      0.7763,\n",
      "            0.77475,      0.7732,     0.77165,     0.77143,     0.77143,     0.77143,     0.77143,     0.77143,     0.77143,     0.77143,     0.77143,     0.77143,     0.77143,     0.77143,     0.77143,     0.77143,     0.77143,     0.77143,     0.77143,     0.77143,     0.77143,     0.77143,     0.77143,\n",
      "            0.77143,     0.77143,     0.77053,     0.76887,      0.7672,     0.76553,     0.76386,     0.76219,     0.76137,     0.76072,     0.76006,     0.75941,     0.75876,     0.75811,     0.75746,     0.75681,     0.75616,     0.75551,     0.75486,     0.75421,     0.75356,     0.75291,     0.75233,\n",
      "            0.75206,     0.75179,     0.75153,     0.75126,     0.75099,     0.75072,     0.75045,     0.75018,     0.74992,     0.74965,     0.74938,     0.74911,     0.74884,     0.74857,     0.74831,     0.74804,     0.74777,      0.7475,     0.74723,     0.74696,     0.74669,     0.74643,     0.74616,\n",
      "            0.74589,     0.74562,     0.74535,     0.74508,     0.74482,     0.74455,     0.74428,     0.74401,     0.74374,     0.74347,     0.74321,     0.74294,     0.74143,     0.73939,     0.73735,     0.73531,     0.73333,     0.73315,     0.73298,      0.7328,     0.73262,     0.73245,     0.73227,\n",
      "             0.7321,     0.73192,     0.73175,     0.73157,     0.73139,     0.73122,     0.73104,     0.73087,     0.73069,     0.73051,     0.73034,     0.73016,     0.72999,     0.72981,     0.72963,     0.72946,     0.72928,     0.72911,     0.72893,     0.72876,     0.72858,      0.7284,     0.72823,\n",
      "            0.72805,     0.72788,      0.7277,     0.72752,     0.72735,     0.72717,       0.727,     0.72682,     0.72664,     0.72647,     0.72629,     0.72612,     0.72594,     0.72576,     0.72559,     0.72541,     0.72524,     0.72506,     0.72489,     0.72471,     0.72453,     0.72436,     0.72418,\n",
      "            0.72401,     0.72383,     0.72355,     0.72325,     0.72295,     0.72265,     0.72235,     0.72206,     0.72176,     0.72146,     0.72116,     0.72086,     0.72057,     0.72027,     0.71997,     0.71967,     0.71937,     0.71908,     0.71878,     0.71848,     0.71818,     0.71788,     0.71758,\n",
      "            0.71729,     0.71699,     0.71669,     0.71639,     0.71609,      0.7158,      0.7155,      0.7152,      0.7149,      0.7146,     0.71431,     0.71377,     0.71322,     0.71267,     0.71212,     0.71157,     0.71102,     0.71047,     0.70992,     0.70937,     0.70882,     0.70827,     0.70771,\n",
      "            0.70716,     0.70661,     0.70606,     0.70551,     0.70496,     0.70465,     0.70448,     0.70431,     0.70414,     0.70397,      0.7038,     0.70363,     0.70346,     0.70328,     0.70311,     0.70294,     0.70277,      0.7026,     0.70243,     0.70226,     0.70209,     0.70192,     0.70174,\n",
      "            0.70157,      0.7014,     0.70123,     0.70106,     0.70089,     0.70072,     0.70055,     0.70038,     0.70021,     0.70003,     0.69986,     0.69969,     0.69952,     0.69935,     0.69918,     0.69901,     0.69884,     0.69867,     0.69849,     0.69832,     0.69815,     0.69798,     0.69781,\n",
      "            0.69764,     0.69747,      0.6973,     0.69713,     0.69696,     0.69678,     0.69661,     0.69644,     0.69627,      0.6961,     0.69593,     0.69576,     0.69559,     0.69542,     0.69525,     0.69203,     0.68868,     0.68568,     0.68542,     0.68515,     0.68489,     0.68462,     0.68436,\n",
      "            0.68409,     0.68383,     0.68356,      0.6833,     0.68303,     0.68277,      0.6825,     0.68224,     0.68197,     0.68171,     0.68144,     0.68118,     0.68091,     0.68065,     0.68038,     0.68012,     0.67985,     0.67959,     0.67932,     0.67906,     0.67879,     0.67853,     0.67826,\n",
      "              0.678,     0.67773,     0.67746,      0.6772,     0.67693,     0.67667,      0.6764,     0.67619,     0.67619,     0.67619,     0.67619,     0.67619,     0.67619,     0.67619,     0.67619,     0.67619,     0.67619,     0.67619,     0.67619,     0.67619,     0.67619,     0.67619,     0.67619,\n",
      "            0.67619,     0.67619,     0.67619,     0.67619,     0.67619,     0.67619,     0.67619,     0.67619,     0.67619,     0.67619,     0.67619,     0.67619,     0.67619,     0.67619,     0.67619,     0.67619,     0.67615,     0.67527,      0.6744,     0.67353,     0.67266,     0.67179,     0.67092,\n",
      "            0.67005,     0.66918,     0.66831,     0.66744,     0.66627,     0.66266,     0.65905,     0.65714,     0.65714,     0.65714,     0.65714,     0.65714,     0.65714,     0.65714,     0.65714,     0.65714,     0.65714,     0.65714,     0.65714,     0.65714,     0.65714,     0.65714,     0.65714,\n",
      "            0.65714,     0.65714,     0.65714,     0.65714,     0.65714,     0.65714,     0.65714,     0.65714,     0.65701,     0.65649,     0.65597,     0.65545,     0.65493,     0.65441,     0.65389,     0.65336,     0.65284,     0.65232,      0.6518,     0.65128,     0.65076,     0.65024,     0.64972,\n",
      "             0.6492,     0.64868,     0.64815,     0.64763,     0.64762,     0.64762,     0.64762,     0.64762,     0.64762,     0.64762,     0.64762,     0.64762,     0.64733,     0.64566,       0.644,     0.64233,     0.64066,     0.63899,     0.63568,     0.63047,     0.62857,     0.62857,     0.62857,\n",
      "            0.62857,     0.62668,     0.62225,     0.61872,     0.61752,     0.61632,     0.61513,     0.61393,     0.61273,     0.61154,     0.61034,      0.6084,     0.60488,     0.60135,         0.6,         0.6,     0.59944,     0.59564,     0.59185,      0.5827,     0.58039,     0.57974,     0.57909,\n",
      "            0.57844,     0.57778,     0.57713,     0.57648,     0.57583,     0.57517,     0.57452,     0.57387,     0.57322,     0.57256,     0.57191,     0.57126,     0.57061,     0.56997,     0.56932,     0.56867,     0.56803,     0.56738,     0.56673,     0.56609,     0.56544,     0.56479,     0.56415,\n",
      "             0.5635,     0.56286,     0.56221,     0.55855,     0.54842,     0.54275,     0.54087,     0.53899,     0.53711,     0.53523,     0.53335,     0.53333,     0.52331,     0.52149,     0.51966,     0.51784,     0.51602,     0.51429,     0.51429,     0.51226,     0.50895,     0.50563,     0.49318,\n",
      "            0.48756,     0.48377,     0.48088,     0.47798,     0.47518,     0.47251,     0.46985,     0.46719,      0.4631,     0.45865,     0.45291,     0.44709,     0.44405,     0.44101,     0.43796,     0.43442,     0.43087,       0.428,     0.42638,     0.42476,     0.42313,     0.42151,     0.41988,\n",
      "            0.40866,     0.40683,       0.405,     0.40317,     0.40134,     0.39717,     0.38911,     0.38538,     0.38164,     0.37887,     0.37632,     0.37376,      0.3712,     0.36855,      0.3659,     0.36325,     0.35463,     0.33987,     0.32668,     0.31347,     0.31127,     0.30907,     0.30687,\n",
      "            0.30336,     0.29337,      0.2909,     0.28843,     0.28596,     0.27785,     0.26661,     0.26203,     0.25746,     0.24762,     0.24762,     0.23439,     0.22857,     0.22788,     0.22427,     0.22066,     0.20507,     0.19048,     0.19048,     0.19048,     0.18978,     0.18866,     0.18755,\n",
      "            0.18644,     0.18532,     0.18421,      0.1831,     0.18199,     0.17602,     0.16952,     0.16748,     0.16543,     0.16339,     0.15905,     0.15137,     0.14856,     0.14576,     0.14295,     0.12635,     0.11565,    0.096604,    0.084557,    0.082764,    0.080971,    0.079178,    0.077385,\n",
      "            0.07619,    0.071994,    0.065231,    0.062153,    0.059074,    0.050634,    0.045985,     0.04401,    0.042035,     0.04006,    0.038004,    0.027742,    0.026025,    0.024308,    0.022592,    0.020875,    0.019158,    0.012194,           0,           0,           0,           0,           0,\n",
      "                  0,           0,           0,           0,           0,           0,           0,           0,           0,           0,           0,           0,           0,           0,           0,           0,           0,           0,           0,           0,           0,           0,           0,\n",
      "                  0,           0,           0,           0,           0,           0,           0,           0,           0,           0,           0,           0,           0,           0,           0,           0,           0,           0,           0,           0,           0,           0,           0,\n",
      "                  0,           0,           0,           0,           0,           0,           0,           0,           0,           0,           0]]), 'Confidence', 'Recall']]\n",
      "fitness: 0.47219776921158096\n",
      "keys: ['metrics/precision(B)', 'metrics/recall(B)', 'metrics/mAP50(B)', 'metrics/mAP50-95(B)']\n",
      "maps: array([    0.43392])\n",
      "names: {0: 'Pulmonary nodules'}\n",
      "plot: True\n",
      "results_dict: {'metrics/precision(B)': 0.8465164915342727, 'metrics/recall(B)': 0.7904761904761904, 'metrics/mAP50(B)': 0.8167220733298771, 'metrics/mAP50-95(B)': 0.4339172909762147, 'fitness': 0.47219776921158096}\n",
      "save_dir: WindowsPath('runs/detect/train144')\n",
      "speed: {'preprocess': 1.0188397907075428, 'inference': 20.666406268165225, 'loss': 0.018953141712007068, 'postprocess': 2.7903397878011065}\n",
      "task: 'detect'\n"
     ]
    }
   ],
   "source": [
    "val_results = model.val()\n",
    "train_results = model.val(data=\"yolov9/dataset.yaml\", split='train')\n",
    "test_results = model.val(data=\"yolov9/dataset.yaml\", split='test')\n",
    "\n",
    "print(\"Validation Results:\", val_results)\n",
    "print(\"Train Results:\", train_results)\n",
    "print(\"Test Results:\", test_results)"
   ]
  }
 ],
 "metadata": {
  "kernelspec": {
   "display_name": "pytorch2",
   "language": "python",
   "name": "python3"
  },
  "language_info": {
   "codemirror_mode": {
    "name": "ipython",
    "version": 3
   },
   "file_extension": ".py",
   "mimetype": "text/x-python",
   "name": "python",
   "nbconvert_exporter": "python",
   "pygments_lexer": "ipython3",
   "version": "3.12.4"
  }
 },
 "nbformat": 4,
 "nbformat_minor": 2
}
